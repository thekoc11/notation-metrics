{
 "cells": [
  {
   "cell_type": "code",
   "execution_count": 1,
   "metadata": {
    "collapsed": true
   },
   "outputs": [
    {
     "name": "stdout",
     "output_type": "stream",
     "text": [
      "LCS: 11, ED: 27, dETC: 10.0, HD: 0.4807692307692308\n"
     ]
    }
   ],
   "source": [
    "import data\n",
    "from utils import distances\n",
    "\n",
    "symale = [ 2 if i > 7 else 1 for i in data.SYAMALE_MEENAKSHI[\"melody\"]]\n",
    "orig = [ i   for i in data.AH_VOUS_ORIGINAL[\"melody\"]][1:-1]\n",
    "orig = [ 2 if i > 7 else 1 for i in orig]\n",
    "moz_thm = []\n",
    "\n",
    "\n",
    "print(\"LCS: {}, ED: {}, dETC: {}, HD: {}\".format(distances.LCSubSeq(symale, orig, len(symale), len(orig)),\n",
    "                                                 distances.editDist(symale, orig, len(symale), len(orig)),\n",
    "                                                 distances.etcDist(symale, orig),\n",
    "                                                 distances.hammingDist(symale, orig, len(symale), len(orig))))"
   ]
  },
  {
   "cell_type": "code",
   "execution_count": 8,
   "outputs": [
    {
     "name": "stdout",
     "output_type": "stream",
     "text": [
      "LCS: 11, ED: 27, dETC: 11.0, HD: 0.5094339622641509\n",
      "LCS: 53, ED: 0, dETC: 5.0, HD: 0.0\n",
      "LCS: 53, ED: 0, dETC: 5.0, HD: 0.0\n"
     ]
    },
    {
     "data": {
      "text/plain": "(21, 18, 21, 21)"
     },
     "execution_count": 8,
     "metadata": {},
     "output_type": "execute_result"
    }
   ],
   "source": [
    "import ETC\n",
    "\n",
    "def get_etc_modified_data(dict):\n",
    "    ret = []\n",
    "    for ind in range(len(dict[\"melody\"])):\n",
    "        if dict[\"melody\"][ind]!= 99999:\n",
    "            if dict[\"melody\"][ind] > 7:\n",
    "                ret.append(2)\n",
    "            else:\n",
    "                ret.append(1)\n",
    "    return ret\n",
    "\n",
    "m1 = get_etc_modified_data(data.AH_VOUS_ORIGINAL)\n",
    "m2 = get_etc_modified_data(data.SYAMALE_MEENAKSHI)\n",
    "m3 = get_etc_modified_data(data.MOZART_THEME)\n",
    "m4 = get_etc_modified_data(data.MOZART_VARIATION1)\n",
    "\n",
    "etc1  = ETC.compute_1D(m1, order=2, verbose=False, truncate=True)[\"ETC1D\"]\n",
    "etc2  = ETC.compute_1D(m2, order=2, verbose=False, truncate=True)[\"ETC1D\"]\n",
    "etc3  = ETC.compute_1D(m3, order=2, verbose=False, truncate=True)[\"ETC1D\"]\n",
    "etc4  = ETC.compute_1D(m4, order=2, verbose=False, truncate=True)[\"ETC1D\"]\n",
    "\n",
    "\n",
    "print(\"LCS: {}, ED: {}, dETC: {}, HD: {}\".format(distances.LCSubSeq(m1, m2, len(m1), len(m2)),\n",
    "                                                 distances.editDist(m1, m2, len(m1), len(m2)),\n",
    "                                                 distances.etcDist(m1, m2),\n",
    "                                                 distances.hammingDist(m1, m2, len(m1), len(m2))))\n",
    "\n",
    "\n",
    "print(\"LCS: {}, ED: {}, dETC: {}, HD: {}\".format(distances.LCSubSeq(m1, m3, len(m1), len(m3)),\n",
    "                                                 distances.editDist(m1, m3, len(m1), len(m3)),\n",
    "                                                 distances.etcDist(m1, m3),\n",
    "                                                 distances.hammingDist(m1, m3, len(m1), len(m3))))\n",
    "\n",
    "\n",
    "print(\"LCS: {}, ED: {}, dETC: {}, HD: {}\".format(distances.LCSubSeq(m4, m3, len(m4), len(m3)),\n",
    "                                                 distances.editDist(m4, m3, len(m4), len(m3)),\n",
    "                                                 distances.etcDist(m4, m3),\n",
    "                                                 distances.hammingDist(m4, m3, len(m4), len(m3))))\n",
    "\n",
    "etc1, etc2, etc3, etc4"
   ],
   "metadata": {
    "collapsed": false,
    "pycharm": {
     "name": "#%%\n"
    }
   }
  }
 ],
 "metadata": {
  "kernelspec": {
   "display_name": "Python 3",
   "language": "python",
   "name": "python3"
  },
  "language_info": {
   "codemirror_mode": {
    "name": "ipython",
    "version": 2
   },
   "file_extension": ".py",
   "mimetype": "text/x-python",
   "name": "python",
   "nbconvert_exporter": "python",
   "pygments_lexer": "ipython2",
   "version": "2.7.6"
  }
 },
 "nbformat": 4,
 "nbformat_minor": 0
}