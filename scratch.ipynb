{
 "cells": [
  {
   "cell_type": "code",
   "execution_count": 9,
   "metadata": {
    "collapsed": true
   },
   "outputs": [
    {
     "name": "stdout",
     "output_type": "stream",
     "text": [
      "LCS: 27, ED: 7, dETC: 8.5, HD: 0.16666666666666666\n"
     ]
    }
   ],
   "source": [
    "import data\n",
    "from utils import distances\n",
    "\n",
    "symale = [ 2 if i > 7 else 1 for i in data.SYAMALE_MEENAKSHI[\"melody\"]]\n",
    "orig = [ i   for i in data.AH_VOUS_ORIGINAL[\"melody\"]][1:-1]\n",
    "orig = [ 2 if i > 7 else 1 for i in orig]\n",
    "print(\"LCS: {}, ED: {}, dETC: {}, HD: {}\".format(distances.LCSubSeq(symale, orig, len(symale), len(orig)),\n",
    "                                                 distances.editDist(symale, orig, len(symale), len(orig)),\n",
    "                                                 distances.etcDist(symale, orig),\n",
    "                                                 distances.hammingDist(symale, orig, len(symale), len(orig))))"
   ]
  },
  {
   "cell_type": "code",
   "execution_count": 10,
   "outputs": [
    {
     "data": {
      "text/plain": "(18, 14)"
     },
     "execution_count": 10,
     "metadata": {},
     "output_type": "execute_result"
    }
   ],
   "source": [
    "import ETC\n",
    "\n",
    "etc1  = ETC.compute_1D(symale, order=2, verbose=False, truncate=True)[\"ETC1D\"]\n",
    "etc2  = ETC.compute_1D(orig, order=2, verbose=False, truncate=True)[\"ETC1D\"]\n",
    "\n",
    "etc1, etc2"
   ],
   "metadata": {
    "collapsed": false,
    "pycharm": {
     "name": "#%%\n"
    }
   }
  }
 ],
 "metadata": {
  "kernelspec": {
   "display_name": "Python 3",
   "language": "python",
   "name": "python3"
  },
  "language_info": {
   "codemirror_mode": {
    "name": "ipython",
    "version": 2
   },
   "file_extension": ".py",
   "mimetype": "text/x-python",
   "name": "python",
   "nbconvert_exporter": "python",
   "pygments_lexer": "ipython2",
   "version": "2.7.6"
  }
 },
 "nbformat": 4,
 "nbformat_minor": 0
}