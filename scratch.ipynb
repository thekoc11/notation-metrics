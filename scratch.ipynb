{
 "cells": [
  {
   "cell_type": "code",
   "execution_count": 1,
   "metadata": {
    "collapsed": true
   },
   "outputs": [
    {
     "name": "stdout",
     "output_type": "stream",
     "text": [
      "Loading ETC codebase ... Done\n",
      "Loading LZ codebase ... "
     ]
    },
    {
     "ename": "ImportError",
     "evalue": "cannot import name 'lziv_complexity' from 'entropy' (/home/abhisheknandekar/miniconda3/envs/efm/lib/python3.8/site-packages/entropy/__init__.py)",
     "output_type": "error",
     "traceback": [
      "\u001B[0;31m---------------------------------------------------------------------------\u001B[0m",
      "\u001B[0;31mImportError\u001B[0m                               Traceback (most recent call last)",
      "\u001B[0;32m<ipython-input-1-0267f5efa013>\u001B[0m in \u001B[0;36m<module>\u001B[0;34m\u001B[0m\n\u001B[1;32m      1\u001B[0m \u001B[0;32mimport\u001B[0m \u001B[0mdata\u001B[0m\u001B[0;34m\u001B[0m\u001B[0;34m\u001B[0m\u001B[0m\n\u001B[0;32m----> 2\u001B[0;31m \u001B[0;32mfrom\u001B[0m \u001B[0mutils\u001B[0m \u001B[0;32mimport\u001B[0m \u001B[0mdistances\u001B[0m\u001B[0;34m\u001B[0m\u001B[0;34m\u001B[0m\u001B[0m\n\u001B[0m\u001B[1;32m      3\u001B[0m \u001B[0;34m\u001B[0m\u001B[0m\n\u001B[1;32m      4\u001B[0m \u001B[0msymale\u001B[0m \u001B[0;34m=\u001B[0m \u001B[0;34m[\u001B[0m \u001B[0;36m2\u001B[0m \u001B[0;32mif\u001B[0m \u001B[0mi\u001B[0m \u001B[0;34m>\u001B[0m \u001B[0;36m7\u001B[0m \u001B[0;32melse\u001B[0m \u001B[0;36m1\u001B[0m \u001B[0;32mfor\u001B[0m \u001B[0mi\u001B[0m \u001B[0;32min\u001B[0m \u001B[0mdata\u001B[0m\u001B[0;34m.\u001B[0m\u001B[0mSYAMALE_MEENAKSHI\u001B[0m\u001B[0;34m[\u001B[0m\u001B[0;34m\"melody\"\u001B[0m\u001B[0;34m]\u001B[0m\u001B[0;34m]\u001B[0m\u001B[0;34m\u001B[0m\u001B[0;34m\u001B[0m\u001B[0m\n\u001B[1;32m      5\u001B[0m \u001B[0morig\u001B[0m \u001B[0;34m=\u001B[0m \u001B[0;34m[\u001B[0m \u001B[0mi\u001B[0m   \u001B[0;32mfor\u001B[0m \u001B[0mi\u001B[0m \u001B[0;32min\u001B[0m \u001B[0mdata\u001B[0m\u001B[0;34m.\u001B[0m\u001B[0mAH_VOUS_ORIGINAL\u001B[0m\u001B[0;34m[\u001B[0m\u001B[0;34m\"melody\"\u001B[0m\u001B[0;34m]\u001B[0m\u001B[0;34m]\u001B[0m\u001B[0;34m[\u001B[0m\u001B[0;36m1\u001B[0m\u001B[0;34m:\u001B[0m\u001B[0;34m-\u001B[0m\u001B[0;36m1\u001B[0m\u001B[0;34m]\u001B[0m\u001B[0;34m\u001B[0m\u001B[0;34m\u001B[0m\u001B[0m\n",
      "\u001B[0;32m~/PycharmProjects/notation-metrics/utils/distances.py\u001B[0m in \u001B[0;36m<module>\u001B[0;34m\u001B[0m\n\u001B[0;32m----> 1\u001B[0;31m \u001B[0;32mimport\u001B[0m \u001B[0mETC\u001B[0m\u001B[0;34m\u001B[0m\u001B[0;34m\u001B[0m\u001B[0m\n\u001B[0m\u001B[1;32m      2\u001B[0m \u001B[0;32mfrom\u001B[0m \u001B[0mscipy\u001B[0m\u001B[0;34m.\u001B[0m\u001B[0mspatial\u001B[0m\u001B[0;34m.\u001B[0m\u001B[0mdistance\u001B[0m \u001B[0;32mimport\u001B[0m \u001B[0mhamming\u001B[0m\u001B[0;34m\u001B[0m\u001B[0;34m\u001B[0m\u001B[0m\n\u001B[1;32m      3\u001B[0m \u001B[0;34m\u001B[0m\u001B[0m\n\u001B[1;32m      4\u001B[0m \u001B[0;32mdef\u001B[0m \u001B[0mLCSubSeq\u001B[0m\u001B[0;34m(\u001B[0m\u001B[0mX\u001B[0m\u001B[0;34m,\u001B[0m \u001B[0mY\u001B[0m\u001B[0;34m,\u001B[0m \u001B[0mm\u001B[0m\u001B[0;34m,\u001B[0m \u001B[0mn\u001B[0m\u001B[0;34m)\u001B[0m\u001B[0;34m:\u001B[0m\u001B[0;34m\u001B[0m\u001B[0;34m\u001B[0m\u001B[0m\n\u001B[1;32m      5\u001B[0m     \"\"\"\n",
      "\u001B[0;32m~/miniconda3/envs/efm/lib/python3.8/site-packages/ETC/__init__.py\u001B[0m in \u001B[0;36m<module>\u001B[0;34m\u001B[0m\n\u001B[1;32m     31\u001B[0m \u001B[0;34m\u001B[0m\u001B[0m\n\u001B[1;32m     32\u001B[0m \u001B[0mprint\u001B[0m\u001B[0;34m(\u001B[0m\u001B[0;34m\"Loading LZ codebase ... \"\u001B[0m\u001B[0;34m,\u001B[0m \u001B[0mend\u001B[0m\u001B[0;34m=\u001B[0m\u001B[0;34m\"\"\u001B[0m\u001B[0;34m)\u001B[0m\u001B[0;34m\u001B[0m\u001B[0;34m\u001B[0m\u001B[0m\n\u001B[0;32m---> 33\u001B[0;31m \u001B[0;32mfrom\u001B[0m \u001B[0mETC\u001B[0m\u001B[0;34m.\u001B[0m\u001B[0mCCMC\u001B[0m\u001B[0;34m.\u001B[0m\u001B[0mpairs\u001B[0m \u001B[0;32mimport\u001B[0m \u001B[0mCCM_causality\u001B[0m\u001B[0;34m\u001B[0m\u001B[0;34m\u001B[0m\u001B[0m\n\u001B[0m\u001B[1;32m     34\u001B[0m \u001B[0;32mfrom\u001B[0m \u001B[0mETC\u001B[0m\u001B[0;34m.\u001B[0m\u001B[0mCCMC\u001B[0m\u001B[0;34m.\u001B[0m\u001B[0mpairs_parallel\u001B[0m \u001B[0;32mimport\u001B[0m \u001B[0mparallelized\u001B[0m \u001B[0;32mas\u001B[0m \u001B[0mCCM_causality_parallel\u001B[0m\u001B[0;34m\u001B[0m\u001B[0;34m\u001B[0m\u001B[0m\n\u001B[1;32m     35\u001B[0m \u001B[0;34m\u001B[0m\u001B[0m\n",
      "\u001B[0;32m~/miniconda3/envs/efm/lib/python3.8/site-packages/ETC/CCMC/pairs.py\u001B[0m in \u001B[0;36m<module>\u001B[0;34m\u001B[0m\n\u001B[1;32m     17\u001B[0m \u001B[0;32mimport\u001B[0m \u001B[0mETC\u001B[0m\u001B[0;34m\u001B[0m\u001B[0;34m\u001B[0m\u001B[0m\n\u001B[1;32m     18\u001B[0m \u001B[0;32mfrom\u001B[0m \u001B[0mETC\u001B[0m\u001B[0;34m.\u001B[0m\u001B[0mNSRWS\u001B[0m\u001B[0;34m.\u001B[0m\u001B[0mx1D\u001B[0m \u001B[0;32mimport\u001B[0m \u001B[0mcore\u001B[0m\u001B[0;34m\u001B[0m\u001B[0;34m\u001B[0m\u001B[0m\n\u001B[0;32m---> 19\u001B[0;31m \u001B[0;32mfrom\u001B[0m \u001B[0mentropy\u001B[0m \u001B[0;32mimport\u001B[0m \u001B[0mlziv_complexity\u001B[0m \u001B[0;32mas\u001B[0m \u001B[0mLZ\u001B[0m\u001B[0;34m\u001B[0m\u001B[0;34m\u001B[0m\u001B[0m\n\u001B[0m\u001B[1;32m     20\u001B[0m \u001B[0;34m\u001B[0m\u001B[0m\n\u001B[1;32m     21\u001B[0m \u001B[0;31m# from collections import Counter\u001B[0m\u001B[0;34m\u001B[0m\u001B[0;34m\u001B[0m\u001B[0;34m\u001B[0m\u001B[0m\n",
      "\u001B[0;31mImportError\u001B[0m: cannot import name 'lziv_complexity' from 'entropy' (/home/abhisheknandekar/miniconda3/envs/efm/lib/python3.8/site-packages/entropy/__init__.py)"
     ]
    }
   ],
   "source": [
    "import data\n",
    "from utils import distances\n",
    "\n",
    "symale = [ 2 if i > 7 else 1 for i in data.SYAMALE_MEENAKSHI[\"melody\"]]\n",
    "orig = [ i   for i in data.AH_VOUS_ORIGINAL[\"melody\"]][1:-1]\n",
    "orig = [ 2 if i > 7 else 1 for i in orig]\n",
    "moz_thm = []\n",
    "\n",
    "\n",
    "print(\"LCS: {}, ED: {}, dETC: {}, HD: {}\".format(distances.LCSubSeq(symale, orig, len(symale), len(orig)),\n",
    "                                                 distances.editDist(symale, orig, len(symale), len(orig)),\n",
    "                                                 distances.etcDist(symale, orig),\n",
    "                                                 distances.hammingDist(symale, orig, len(symale), len(orig))))"
   ]
  },
  {
   "cell_type": "code",
   "execution_count": 10,
   "outputs": [
    {
     "data": {
      "text/plain": "(18, 14)"
     },
     "execution_count": 10,
     "metadata": {},
     "output_type": "execute_result"
    }
   ],
   "source": [
    "import ETC\n",
    "\n",
    "def get_etc_modified_data(dict):\n",
    "    ret = []\n",
    "    for ind, r in enumerate(dict['rests']):\n",
    "        if r!= 1:\n",
    "            if dict[\"melody\"][ind] > 7:\n",
    "                ret.append(2)\n",
    "            else:\n",
    "                ret.append(1)\n",
    "    return ret\n",
    "\n",
    "\n",
    "etc1  = ETC.compute_1D(symale, order=2, verbose=False, truncate=True)[\"ETC1D\"]\n",
    "etc2  = ETC.compute_1D(orig, order=2, verbose=False, truncate=True)[\"ETC1D\"]\n",
    "\n",
    "etc1, etc2"
   ],
   "metadata": {
    "collapsed": false,
    "pycharm": {
     "name": "#%%\n"
    }
   }
  }
 ],
 "metadata": {
  "kernelspec": {
   "display_name": "Python 3",
   "language": "python",
   "name": "python3"
  },
  "language_info": {
   "codemirror_mode": {
    "name": "ipython",
    "version": 2
   },
   "file_extension": ".py",
   "mimetype": "text/x-python",
   "name": "python",
   "nbconvert_exporter": "python",
   "pygments_lexer": "ipython2",
   "version": "2.7.6"
  }
 },
 "nbformat": 4,
 "nbformat_minor": 0
}