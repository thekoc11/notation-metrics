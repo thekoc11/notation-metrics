{
 "cells": [
  {
   "cell_type": "code",
   "execution_count": 1,
   "metadata": {
    "collapsed": true
   },
   "outputs": [
    {
     "name": "stdout",
     "output_type": "stream",
     "text": [
      "Loading ETC codebase ... Done\n",
      "Loading LZ codebase ... Done\n"
     ]
    }
   ],
   "source": [
    "import data\n",
    "from utils import distances\n",
    "import numpy as np\n",
    "import matplotlib.pyplot as plt\n",
    "import seaborn as sns\n",
    "import networkx as nx\n",
    "import matplotlib as mpl\n",
    "import pygraphviz as pgv"
   ]
  },
  {
   "cell_type": "code",
   "execution_count": 5,
   "metadata": {
    "pycharm": {
     "name": "#%%\n"
    }
   },
   "outputs": [
    {
     "name": "stdout",
     "output_type": "stream",
     "text": [
      "ERROR: can't convert negative value to unsigned int\n",
      "> Input must be a list/tuple/array of positive integers!\n",
      "> Recode or partition using \"ETC.seq.recode\"\n"
     ]
    },
    {
     "ename": "TypeError",
     "evalue": "object of type 'NoneType' has no len()",
     "output_type": "error",
     "traceback": [
      "\u001B[0;31m---------------------------------------------------------------------------\u001B[0m",
      "\u001B[0;31mTypeError\u001B[0m                                 Traceback (most recent call last)",
      "\u001B[0;32m<ipython-input-5-e1331e5529b8>\u001B[0m in \u001B[0;36m<module>\u001B[0;34m\u001B[0m\n\u001B[1;32m      6\u001B[0m     \u001B[0madjusted_melodies\u001B[0m\u001B[0;34m.\u001B[0m\u001B[0mappend\u001B[0m\u001B[0;34m(\u001B[0m\u001B[0mdic\u001B[0m\u001B[0;34m[\u001B[0m\u001B[0;34m\"adjusted_melody\"\u001B[0m\u001B[0;34m]\u001B[0m\u001B[0;34m)\u001B[0m\u001B[0;34m\u001B[0m\u001B[0;34m\u001B[0m\u001B[0m\n\u001B[1;32m      7\u001B[0m \u001B[0;34m\u001B[0m\u001B[0m\n\u001B[0;32m----> 8\u001B[0;31m \u001B[0mdists\u001B[0m \u001B[0;34m=\u001B[0m \u001B[0mdistances\u001B[0m\u001B[0;34m.\u001B[0m\u001B[0mGetDistanceMeasures\u001B[0m\u001B[0;34m(\u001B[0m\u001B[0madjusted_melodies\u001B[0m\u001B[0;34m,\u001B[0m \u001B[0mrest_pruner\u001B[0m\u001B[0;34m=\u001B[0m\u001B[0mdata\u001B[0m\u001B[0;34m.\u001B[0m\u001B[0mPruneRests\u001B[0m\u001B[0;34m)\u001B[0m\u001B[0;34m\u001B[0m\u001B[0;34m\u001B[0m\u001B[0m\n\u001B[0m\u001B[1;32m      9\u001B[0m \u001B[0;31m# len(dists[0])\u001B[0m\u001B[0;34m\u001B[0m\u001B[0;34m\u001B[0m\u001B[0;34m\u001B[0m\u001B[0m\n\u001B[1;32m     10\u001B[0m \u001B[0;34m\u001B[0m\u001B[0m\n",
      "\u001B[0;32m~/PycharmProjects/notation-metrics/utils/distances.py\u001B[0m in \u001B[0;36mGetDistanceMeasures\u001B[0;34m(arrs, rest_pruner, adder)\u001B[0m\n\u001B[1;32m    195\u001B[0m             \u001B[0mHDMatrix\u001B[0m\u001B[0;34m[\u001B[0m\u001B[0mi\u001B[0m\u001B[0;34m]\u001B[0m\u001B[0;34m[\u001B[0m\u001B[0mii\u001B[0m\u001B[0;34m]\u001B[0m \u001B[0;34m=\u001B[0m \u001B[0mhammingDist\u001B[0m\u001B[0;34m(\u001B[0m\u001B[0mm_i\u001B[0m\u001B[0;34m,\u001B[0m \u001B[0mm_ii\u001B[0m\u001B[0;34m,\u001B[0m \u001B[0mlen\u001B[0m\u001B[0;34m(\u001B[0m\u001B[0mm_i\u001B[0m\u001B[0;34m)\u001B[0m\u001B[0;34m,\u001B[0m \u001B[0mlen\u001B[0m\u001B[0;34m(\u001B[0m\u001B[0mm_ii\u001B[0m\u001B[0;34m)\u001B[0m\u001B[0;34m)\u001B[0m\u001B[0;34m\u001B[0m\u001B[0;34m\u001B[0m\u001B[0m\n\u001B[1;32m    196\u001B[0m             \u001B[0mdETCMatrix\u001B[0m\u001B[0;34m[\u001B[0m\u001B[0mi\u001B[0m\u001B[0;34m]\u001B[0m\u001B[0;34m[\u001B[0m\u001B[0mii\u001B[0m\u001B[0;34m]\u001B[0m \u001B[0;34m=\u001B[0m \u001B[0metcDist\u001B[0m\u001B[0;34m(\u001B[0m\u001B[0mm_i\u001B[0m\u001B[0;34m,\u001B[0m \u001B[0mm_ii\u001B[0m\u001B[0;34m)\u001B[0m\u001B[0;34m\u001B[0m\u001B[0;34m\u001B[0m\u001B[0m\n\u001B[0;32m--> 197\u001B[0;31m             \u001B[0mCausility_Matrix\u001B[0m\u001B[0;34m[\u001B[0m\u001B[0mi\u001B[0m\u001B[0;34m]\u001B[0m\u001B[0;34m[\u001B[0m\u001B[0mii\u001B[0m\u001B[0;34m]\u001B[0m \u001B[0;34m=\u001B[0m  \u001B[0;36m1\u001B[0m \u001B[0;32mif\u001B[0m \u001B[0mETC\u001B[0m\u001B[0;34m.\u001B[0m\u001B[0mCCM_causality\u001B[0m\u001B[0;34m(\u001B[0m\u001B[0mm_i_no_rests\u001B[0m\u001B[0;34m,\u001B[0m \u001B[0mm_ii_no_rests\u001B[0m\u001B[0;34m)\u001B[0m\u001B[0;34m[\u001B[0m\u001B[0;34m'ETCE_cause'\u001B[0m\u001B[0;34m]\u001B[0m \u001B[0;34m==\u001B[0m \u001B[0;34m'x'\u001B[0m \u001B[0;32melse\u001B[0m \u001B[0;36m0\u001B[0m\u001B[0;34m\u001B[0m\u001B[0;34m\u001B[0m\u001B[0m\n\u001B[0m\u001B[1;32m    198\u001B[0m             \u001B[0mCausility_Matrix_LZ\u001B[0m\u001B[0;34m[\u001B[0m\u001B[0mi\u001B[0m\u001B[0;34m]\u001B[0m\u001B[0;34m[\u001B[0m\u001B[0mii\u001B[0m\u001B[0;34m]\u001B[0m \u001B[0;34m=\u001B[0m  \u001B[0;36m1\u001B[0m \u001B[0;32mif\u001B[0m \u001B[0mETC\u001B[0m\u001B[0;34m.\u001B[0m\u001B[0mCCM_causality\u001B[0m\u001B[0;34m(\u001B[0m\u001B[0mm_i_no_rests\u001B[0m\u001B[0;34m,\u001B[0m \u001B[0mm_ii_no_rests\u001B[0m\u001B[0;34m)\u001B[0m\u001B[0;34m[\u001B[0m\u001B[0;34m'LZP_cause'\u001B[0m\u001B[0;34m]\u001B[0m \u001B[0;34m==\u001B[0m \u001B[0;34m'x'\u001B[0m \u001B[0;32melse\u001B[0m \u001B[0;36m0\u001B[0m\u001B[0;34m\u001B[0m\u001B[0;34m\u001B[0m\u001B[0m\n\u001B[1;32m    199\u001B[0m             \u001B[0mCausility_Matrix_ETCP\u001B[0m\u001B[0;34m[\u001B[0m\u001B[0mi\u001B[0m\u001B[0;34m]\u001B[0m\u001B[0;34m[\u001B[0m\u001B[0mii\u001B[0m\u001B[0;34m]\u001B[0m \u001B[0;34m=\u001B[0m  \u001B[0;36m1\u001B[0m \u001B[0;32mif\u001B[0m \u001B[0mETC\u001B[0m\u001B[0;34m.\u001B[0m\u001B[0mCCM_causality\u001B[0m\u001B[0;34m(\u001B[0m\u001B[0mm_i_no_rests\u001B[0m\u001B[0;34m,\u001B[0m \u001B[0mm_ii_no_rests\u001B[0m\u001B[0;34m)\u001B[0m\u001B[0;34m[\u001B[0m\u001B[0;34m'ETCP_cause'\u001B[0m\u001B[0;34m]\u001B[0m \u001B[0;34m==\u001B[0m \u001B[0;34m'x'\u001B[0m \u001B[0;32melse\u001B[0m \u001B[0;36m0\u001B[0m\u001B[0;34m\u001B[0m\u001B[0;34m\u001B[0m\u001B[0m\n",
      "\u001B[0;32m~/miniconda3/envs/raga/lib/python3.8/site-packages/ETC/CCMC/pairs.py\u001B[0m in \u001B[0;36mCCM_causality\u001B[0;34m(x, y, penalty_threshold, efficacy_tolerance, hashes)\u001B[0m\n\u001B[1;32m    410\u001B[0m \u001B[0;34m\u001B[0m\u001B[0m\n\u001B[1;32m    411\u001B[0m     result.update(\n\u001B[0;32m--> 412\u001B[0;31m         ETC_causality(\n\u001B[0m\u001B[1;32m    413\u001B[0m             \u001B[0mx\u001B[0m\u001B[0;34m,\u001B[0m\u001B[0;34m\u001B[0m\u001B[0;34m\u001B[0m\u001B[0m\n\u001B[1;32m    414\u001B[0m             \u001B[0my\u001B[0m\u001B[0;34m,\u001B[0m\u001B[0;34m\u001B[0m\u001B[0;34m\u001B[0m\u001B[0m\n",
      "\u001B[0;32m~/miniconda3/envs/raga/lib/python3.8/site-packages/ETC/CCMC/pairs.py\u001B[0m in \u001B[0;36mETC_causality\u001B[0;34m(x, y, penalty_threshold, efficacy_tolerance, lengths)\u001B[0m\n\u001B[1;32m    175\u001B[0m \u001B[0;34m\u001B[0m\u001B[0m\n\u001B[1;32m    176\u001B[0m     \u001B[0;31m# Compute ETC for the 2 sequences\u001B[0m\u001B[0;34m\u001B[0m\u001B[0;34m\u001B[0m\u001B[0;34m\u001B[0m\u001B[0m\n\u001B[0;32m--> 177\u001B[0;31m     \u001B[0mout_x\u001B[0m \u001B[0;34m=\u001B[0m \u001B[0mETC\u001B[0m\u001B[0;34m.\u001B[0m\u001B[0mcompute_1D\u001B[0m\u001B[0;34m(\u001B[0m\u001B[0mx\u001B[0m\u001B[0;34m,\u001B[0m \u001B[0morder\u001B[0m\u001B[0;34m=\u001B[0m\u001B[0;36m2\u001B[0m\u001B[0;34m,\u001B[0m \u001B[0mverbose\u001B[0m\u001B[0;34m=\u001B[0m\u001B[0;32mTrue\u001B[0m\u001B[0;34m,\u001B[0m \u001B[0mtruncate\u001B[0m\u001B[0;34m=\u001B[0m\u001B[0;32mFalse\u001B[0m\u001B[0;34m)\u001B[0m\u001B[0;34m\u001B[0m\u001B[0;34m\u001B[0m\u001B[0m\n\u001B[0m\u001B[1;32m    178\u001B[0m     \u001B[0mout_y\u001B[0m \u001B[0;34m=\u001B[0m \u001B[0mETC\u001B[0m\u001B[0;34m.\u001B[0m\u001B[0mcompute_1D\u001B[0m\u001B[0;34m(\u001B[0m\u001B[0my\u001B[0m\u001B[0;34m,\u001B[0m \u001B[0morder\u001B[0m\u001B[0;34m=\u001B[0m\u001B[0;36m2\u001B[0m\u001B[0;34m,\u001B[0m \u001B[0mverbose\u001B[0m\u001B[0;34m=\u001B[0m\u001B[0;32mTrue\u001B[0m\u001B[0;34m,\u001B[0m \u001B[0mtruncate\u001B[0m\u001B[0;34m=\u001B[0m\u001B[0;32mFalse\u001B[0m\u001B[0;34m)\u001B[0m\u001B[0;34m\u001B[0m\u001B[0;34m\u001B[0m\u001B[0m\n\u001B[1;32m    179\u001B[0m \u001B[0;34m\u001B[0m\u001B[0m\n",
      "\u001B[0;32m~/miniconda3/envs/raga/lib/python3.8/site-packages/ETC/NSRWS/x1D/etc.py\u001B[0m in \u001B[0;36mcompute\u001B[0;34m(seq, order, verbose, truncate)\u001B[0m\n\u001B[1;32m    362\u001B[0m         \u001B[0;31m# If verbose, run the verbose version and return accordingly\u001B[0m\u001B[0;34m\u001B[0m\u001B[0;34m\u001B[0m\u001B[0;34m\u001B[0m\u001B[0m\n\u001B[1;32m    363\u001B[0m         \u001B[0;32mif\u001B[0m \u001B[0mverbose\u001B[0m\u001B[0;34m:\u001B[0m\u001B[0;34m\u001B[0m\u001B[0;34m\u001B[0m\u001B[0m\n\u001B[0;32m--> 364\u001B[0;31m             \u001B[0metc\u001B[0m\u001B[0;34m,\u001B[0m \u001B[0mout\u001B[0m \u001B[0;34m=\u001B[0m \u001B[0m_compute_verbose_full\u001B[0m\u001B[0;34m(\u001B[0m\u001B[0mseq\u001B[0m\u001B[0;34m,\u001B[0m \u001B[0morder\u001B[0m\u001B[0;34m)\u001B[0m\u001B[0;34m\u001B[0m\u001B[0;34m\u001B[0m\u001B[0m\n\u001B[0m\u001B[1;32m    365\u001B[0m             \u001B[0;32mreturn\u001B[0m \u001B[0;34m{\u001B[0m\u001B[0;34m\"ETC1D\"\u001B[0m\u001B[0;34m:\u001B[0m \u001B[0metc\u001B[0m\u001B[0;34m,\u001B[0m \u001B[0;34m\"NETC1D\"\u001B[0m\u001B[0;34m:\u001B[0m \u001B[0metc\u001B[0m \u001B[0;34m/\u001B[0m \u001B[0;34m(\u001B[0m\u001B[0mlen\u001B[0m\u001B[0;34m(\u001B[0m\u001B[0mseq\u001B[0m\u001B[0;34m)\u001B[0m \u001B[0;34m-\u001B[0m \u001B[0;36m1\u001B[0m\u001B[0;34m)\u001B[0m\u001B[0;34m,\u001B[0m \u001B[0;34m\"Trajectory\"\u001B[0m\u001B[0;34m:\u001B[0m \u001B[0mout\u001B[0m\u001B[0;34m}\u001B[0m\u001B[0;34m\u001B[0m\u001B[0;34m\u001B[0m\u001B[0m\n\u001B[1;32m    366\u001B[0m         \u001B[0;32melse\u001B[0m\u001B[0;34m:\u001B[0m\u001B[0;34m\u001B[0m\u001B[0;34m\u001B[0m\u001B[0m\n",
      "\u001B[0;32m~/miniconda3/envs/raga/lib/python3.8/site-packages/ETC/NSRWS/x1D/etc.py\u001B[0m in \u001B[0;36m_compute_verbose_full\u001B[0;34m(seq, order)\u001B[0m\n\u001B[1;32m    167\u001B[0m         {\n\u001B[1;32m    168\u001B[0m             \u001B[0;34m\"step\"\u001B[0m\u001B[0;34m:\u001B[0m \u001B[0metc\u001B[0m\u001B[0;34m,\u001B[0m\u001B[0;34m\u001B[0m\u001B[0;34m\u001B[0m\u001B[0m\n\u001B[0;32m--> 169\u001B[0;31m             \u001B[0;34m\"length\"\u001B[0m\u001B[0;34m:\u001B[0m \u001B[0mlen\u001B[0m\u001B[0;34m(\u001B[0m\u001B[0mseq\u001B[0m\u001B[0;34m)\u001B[0m\u001B[0;34m,\u001B[0m\u001B[0;34m\u001B[0m\u001B[0;34m\u001B[0m\u001B[0m\n\u001B[0m\u001B[1;32m    170\u001B[0m             \u001B[0;34m\"entropy\"\u001B[0m\u001B[0;34m:\u001B[0m \u001B[0mce\u001B[0m\u001B[0;34m.\u001B[0m\u001B[0mentropy\u001B[0m\u001B[0;34m(\u001B[0m\u001B[0mseq\u001B[0m\u001B[0;34m)\u001B[0m\u001B[0;34m,\u001B[0m\u001B[0;34m\u001B[0m\u001B[0;34m\u001B[0m\u001B[0m\n\u001B[1;32m    171\u001B[0m             \u001B[0;34m\"window\"\u001B[0m\u001B[0;34m:\u001B[0m \u001B[0;32mNone\u001B[0m\u001B[0;34m,\u001B[0m\u001B[0;34m\u001B[0m\u001B[0;34m\u001B[0m\u001B[0m\n",
      "\u001B[0;31mTypeError\u001B[0m: object of type 'NoneType' has no len()"
     ]
    }
   ],
   "source": [
    "data.compute_adjusted_melody()\n",
    "labels = data.GetLabels()[0:6]\n",
    "dicts = data.GetAll()[0:6]\n",
    "adjusted_melodies = []\n",
    "for dic in dicts:\n",
    "    adjusted_melodies.append(dic[\"adjusted_melody\"])\n",
    "\n",
    "dists = distances.GetDistanceMeasures(adjusted_melodies, rest_pruner=data.PruneRests)\n",
    "# len(dists[0])"
   ]
  },
  {
   "cell_type": "code",
   "execution_count": 3,
   "outputs": [
    {
     "data": {
      "text/plain": "array([[  0., 548., 580., 156., 522., 169.],\n       [548.,   0.,  33., 592., 661., 603.],\n       [580.,  33.,   0., 628., 676., 617.],\n       [156., 592., 628.,   0., 546., 101.],\n       [522., 661., 676., 546.,   0., 507.],\n       [169., 603., 617., 101., 507.,   0.]])"
     },
     "execution_count": 3,
     "metadata": {},
     "output_type": "execute_result"
    }
   ],
   "source": [
    "dists[3]"
   ],
   "metadata": {
    "collapsed": false,
    "pycharm": {
     "name": "#%%\n"
    }
   }
  },
  {
   "cell_type": "code",
   "execution_count": 7,
   "outputs": [
    {
     "ename": "NameError",
     "evalue": "name 'dists' is not defined",
     "output_type": "error",
     "traceback": [
      "\u001B[0;31m---------------------------------------------------------------------------\u001B[0m",
      "\u001B[0;31mNameError\u001B[0m                                 Traceback (most recent call last)",
      "\u001B[0;32m<ipython-input-7-304fcf8032ee>\u001B[0m in \u001B[0;36m<module>\u001B[0;34m\u001B[0m\n\u001B[1;32m      2\u001B[0m \u001B[0;32mdef\u001B[0m \u001B[0mllf\u001B[0m\u001B[0;34m(\u001B[0m\u001B[0mid\u001B[0m\u001B[0;34m)\u001B[0m\u001B[0;34m:\u001B[0m\u001B[0;34m\u001B[0m\u001B[0;34m\u001B[0m\u001B[0m\n\u001B[1;32m      3\u001B[0m     \u001B[0;32mreturn\u001B[0m \u001B[0mdata\u001B[0m\u001B[0;34m.\u001B[0m\u001B[0mGetLabels\u001B[0m\u001B[0;34m(\u001B[0m\u001B[0;34m)\u001B[0m\u001B[0;34m[\u001B[0m\u001B[0mid\u001B[0m\u001B[0;34m]\u001B[0m\u001B[0;34m\u001B[0m\u001B[0;34m\u001B[0m\u001B[0m\n\u001B[0;32m----> 4\u001B[0;31m \u001B[0mZ\u001B[0m \u001B[0;34m=\u001B[0m \u001B[0mlinkage\u001B[0m\u001B[0;34m(\u001B[0m\u001B[0mdists\u001B[0m\u001B[0;34m[\u001B[0m\u001B[0;36m2\u001B[0m\u001B[0;34m]\u001B[0m\u001B[0;34m,\u001B[0m \u001B[0;34m'weighted'\u001B[0m\u001B[0;34m)\u001B[0m\u001B[0;34m\u001B[0m\u001B[0;34m\u001B[0m\u001B[0m\n\u001B[0m\u001B[1;32m      5\u001B[0m \u001B[0mfig\u001B[0m \u001B[0;34m=\u001B[0m \u001B[0mplt\u001B[0m\u001B[0;34m.\u001B[0m\u001B[0mfigure\u001B[0m\u001B[0;34m(\u001B[0m\u001B[0;34m)\u001B[0m\u001B[0;34m\u001B[0m\u001B[0;34m\u001B[0m\u001B[0m\n\u001B[1;32m      6\u001B[0m \u001B[0mdn\u001B[0m \u001B[0;34m=\u001B[0m \u001B[0mdendrogram\u001B[0m\u001B[0;34m(\u001B[0m\u001B[0mZ\u001B[0m\u001B[0;34m,\u001B[0m \u001B[0mleaf_label_func\u001B[0m\u001B[0;34m=\u001B[0m\u001B[0mllf\u001B[0m\u001B[0;34m,\u001B[0m \u001B[0mleaf_rotation\u001B[0m\u001B[0;34m=\u001B[0m\u001B[0;36m0\u001B[0m\u001B[0;34m,\u001B[0m \u001B[0morientation\u001B[0m\u001B[0;34m=\u001B[0m\u001B[0;34m'right'\u001B[0m\u001B[0;34m)\u001B[0m\u001B[0;34m\u001B[0m\u001B[0;34m\u001B[0m\u001B[0m\n",
      "\u001B[0;31mNameError\u001B[0m: name 'dists' is not defined"
     ]
    }
   ],
   "source": [
    "from scipy.cluster.hierarchy import dendrogram, linkage\n",
    "def llf(id):\n",
    "    return data.GetLabels()[id]\n",
    "Z = linkage(dists[2], 'weighted')\n",
    "fig = plt.figure()\n",
    "dn = dendrogram(Z, leaf_label_func=llf, leaf_rotation=0, orientation='right')"
   ],
   "metadata": {
    "collapsed": false,
    "pycharm": {
     "name": "#%%\n"
    }
   }
  },
  {
   "cell_type": "code",
   "execution_count": 3,
   "metadata": {
    "pycharm": {
     "name": "#%%\n"
    }
   },
   "outputs": [
    {
     "ename": "NameError",
     "evalue": "name 'dists' is not defined",
     "output_type": "error",
     "traceback": [
      "\u001B[0;31m---------------------------------------------------------------------------\u001B[0m",
      "\u001B[0;31mNameError\u001B[0m                                 Traceback (most recent call last)",
      "\u001B[0;32m<ipython-input-3-1844b43bd9ef>\u001B[0m in \u001B[0;36m<module>\u001B[0;34m\u001B[0m\n\u001B[1;32m     48\u001B[0m \u001B[0;34m\u001B[0m\u001B[0m\n\u001B[1;32m     49\u001B[0m \u001B[0;31m# draw_weighted_graph(dists[1])\u001B[0m\u001B[0;34m\u001B[0m\u001B[0;34m\u001B[0m\u001B[0;34m\u001B[0m\u001B[0m\n\u001B[0;32m---> 50\u001B[0;31m \u001B[0mdraw_directed_graph\u001B[0m\u001B[0;34m(\u001B[0m\u001B[0mdists\u001B[0m\u001B[0;34m[\u001B[0m\u001B[0;36m2\u001B[0m\u001B[0;34m]\u001B[0m\u001B[0;34m)\u001B[0m\u001B[0;34m\u001B[0m\u001B[0;34m\u001B[0m\u001B[0m\n\u001B[0m\u001B[1;32m     51\u001B[0m \u001B[0;34m\u001B[0m\u001B[0m\n",
      "\u001B[0;31mNameError\u001B[0m: name 'dists' is not defined"
     ]
    }
   ],
   "source": [
    "def draw_weighted_graph(dist_matrix, pivot=400):\n",
    "    G = pgv.AGraph(directed=False, strict=False)\n",
    "    G.add_nodes_from(labels)\n",
    "    for i in range(len(dist_matrix)):\n",
    "        for j in range(i, len(dist_matrix)):\n",
    "            if i != j and dist_matrix[i, j] > 0:\n",
    "                style = 'solid' if dist_matrix[i, j] < pivot else 'dotted'\n",
    "                if (i == 1 and j == 3) or (i == 2 and j == 3) or (i == 3 and j == 1) or (i == 3 and j == 2):\n",
    "                    pass\n",
    "                else:\n",
    "                    G.add_edge(labels[i], labels[j], weight=dist_matrix[i, j]/1000, label=dist_matrix[i, j], style=style)\n",
    "\n",
    "    M = G.number_of_edges()\n",
    "\n",
    "    edge_colors = range(2, M + 2)\n",
    "    edge_alphas = [(5 + i) / (M + 4) for i in range(M)]\n",
    "    G.layout('dot')\n",
    "    print(G.string())\n",
    "def draw_directed_graph(dist_matrix, pivot = 0.66):\n",
    "    G = pgv.AGraph(directed=True, strict=False, rankdir=\"TD\")\n",
    "    G.add_nodes_from(labels)\n",
    "    for i in range(len(dist_matrix)):\n",
    "        for ii in range(len(dist_matrix[i])):\n",
    "            if i!= ii and dist_matrix[i, ii] > 0:\n",
    "                style = 'solid' if dist_matrix[i, ii] < pivot else 'dotted'\n",
    "                if (i == 1 and ii == 3) or (i == 2 and ii == 3) or (i == 3 and ii == 1) or (i == 3 and ii == 2):\n",
    "                    pass\n",
    "                else:\n",
    "                    G.add_edge(labels[i], labels[ii], weight=dist_matrix[i, ii], label=dist_matrix[i, ii], style=style)\n",
    "                    if style == 'solid':\n",
    "                        print(\"{} -> {} : {}\".format(labels[i], labels[ii], dist_matrix[i, ii]))\n",
    "    G.layout(\"dot\")\n",
    "    print(G.string())\n",
    "\n",
    "def draw_causal_inference(dist_matrix):\n",
    "    G = pgv.AGraph(directed=True, strict=False, rankdir=\"TD\")\n",
    "    G.add_nodes_from(labels)\n",
    "    for i in range(len(dist_matrix)):\n",
    "        for ii in range(len(dist_matrix[i])):\n",
    "            if i!= ii and dist_matrix[i, ii] > 0:\n",
    "                style = 'solid'\n",
    "                if (i == 1 and ii == 3) or (i == 2 and ii == 3) or (i == 3 and ii == 1) or (i == 3 and ii == 2):\n",
    "                    pass\n",
    "                else:\n",
    "                    G.add_edge(labels[i], labels[ii], weight=dist_matrix[i, ii])\n",
    "    G.layout(\"dot\")\n",
    "    print(G.string())\n",
    "\n",
    "# draw_weighted_graph(dists[1])\n",
    "draw_directed_graph(dists[2])"
   ]
  },
  {
   "cell_type": "code",
   "execution_count": 44,
   "outputs": [
    {
     "name": "stdout",
     "output_type": "stream",
     "text": [
      "graph \"\" {\n",
      "\tgraph [bb=\"0,0,1034.6,405\"];\n",
      "\tnode [label=\"\\N\"];\n",
      "\t\"Ah! vous dirai-je(1774)\"\t[height=0.5,\n",
      "\t\tpos=\"117.64,387\",\n",
      "\t\twidth=3.2678];\n",
      "\t\"Shaymale Meenakshi(1905)\"\t[height=0.5,\n",
      "\t\tpos=\"457.64,300\",\n",
      "\t\twidth=3.8816];\n",
      "\t\"Ah! vous dirai-je(1774)\" -- \"Shaymale Meenakshi(1905)\"\t[label=0.8990384615384616,\n",
      "\t\tlp=\"386.64,343.5\",\n",
      "\t\tpos=\"176.47,371.29 238.06,355.9 334.29,331.84 396.66,316.24\",\n",
      "\t\tstyle=dotted,\n",
      "\t\tweight=0.0008990384615384615];\n",
      "\t\"Pahi Ramachandra(oral)\"\t[height=0.5,\n",
      "\t\tpos=\"457.64,192\",\n",
      "\t\twidth=3.4122];\n",
      "\t\"Ah! vous dirai-je(1774)\" -- \"Pahi Ramachandra(oral)\"\t[label=0.9134615384615384,\n",
      "\t\tlp=\"229.64,300\",\n",
      "\t\tpos=\"118.3,368.7 120.12,345.7 126.77,305.28 150.64,282 202.58,231.34 281.55,209.21 346.39,199.69\",\n",
      "\t\tstyle=dotted,\n",
      "\t\tweight=0.0009134615384615384];\n",
      "\t\"The Star(1838)\"\t[height=0.5,\n",
      "\t\tpos=\"827.64,246\",\n",
      "\t\twidth=2.2567];\n",
      "\t\"Ah! vous dirai-je(1774)\" -- \"The Star(1838)\"\t[label=1.0,\n",
      "\t\tlp=\"684.14,343.5\",\n",
      "\t\tpos=\"233.83,384.12 332.37,380.97 477.14,372.68 601.64,351 655.29,341.66 670.08,340.56 719.64,318 752.11,303.22 785.91,279.41 806.86,263.49\",\n",
      "\t\tstyle=dotted,\n",
      "\t\tweight=0.001];\n",
      "\t\"Goosey Goosey Gander(1784)\"\t[height=0.5,\n",
      "\t\tpos=\"693.64,105\",\n",
      "\t\twidth=4.1163];\n",
      "\t\"Ah! vous dirai-je(1774)\" -- \"Goosey Goosey Gander(1784)\"\t[label=0.890625,\n",
      "\t\tlp=\"703.64,246\",\n",
      "\t\tpos=\"230.45,381.78 355.43,375.14 547.19,358.52 606.64,318 646.99,290.5 628.85,254.84 669.64,228 702.62,206.29 731.71,240.62 756.64,210 \\\n",
      "815.09,138.22 679.96,172.25 666.64,156 658.51,146.08 665.6,133.34 674.55,123.21\",\n",
      "\t\tstyle=dotted,\n",
      "\t\tweight=0.000890625];\n",
      "\t\"Ah! vous dirai-je(1785)\"\t[height=0.5,\n",
      "\t\tpos=\"204.64,18\",\n",
      "\t\twidth=3.2678];\n",
      "\t\"Ah! vous dirai-je(1774)\" -- \"Ah! vous dirai-je(1785)\"\t[label=0.9379310344827586,\n",
      "\t\tlp=\"188.64,192\",\n",
      "\t\tpos=\"113.48,368.82 105.38,332.18 89.892,244.01 109.64,174 125.32,118.41 167.13,63.092 189.7,36.062\",\n",
      "\t\tstyle=dotted,\n",
      "\t\tweight=0.0009379310344827586];\n",
      "\t\"Shaymale Meenakshi(1905)\" -- \"Pahi Ramachandra(oral)\"\t[label=0.078125,\n",
      "\t\tlp=\"491.64,246\",\n",
      "\t\tpos=\"457.64,281.97 457.64,262.31 457.64,230.13 457.64,210.34\",\n",
      "\t\tstyle=solid,\n",
      "\t\tweight=\"7.8125e-05\"];\n",
      "\t\"Shaymale Meenakshi(1905)\" -- \"Goosey Goosey Gander(1784)\"\t[label=0.8255208333333334,\n",
      "\t\tlp=\"673.64,192\",\n",
      "\t\tpos=\"503.69,282.95 535.08,269.15 573.73,245.73 589.64,210 596.15,195.38 598.2,187.52 589.64,174 579.65,158.21 561.63,171.79 551.64,156 \\\n",
      "548.07,150.37 547.53,146.25 551.64,141 558.88,131.76 579.43,124.62 602.72,119.28\",\n",
      "\t\tstyle=dotted,\n",
      "\t\tweight=0.0008255208333333334];\n",
      "\t\"Shaymale Meenakshi(1905)\" -- \"Ah! vous dirai-je(1785)\"\t[label=0.7724137931034483,\n",
      "\t\tlp=\"309.64,148.5\",\n",
      "\t\tpos=\"432.85,282.25 383.17,248.72 275.83,176.3 271.64,174 254.2,164.41 243.03,171.57 230.64,156 216.05,137.67 208.66,68.781 205.92,36.233\",\n",
      "\t\tstyle=dotted,\n",
      "\t\tweight=0.0007724137931034483];\n",
      "\t\"Pahi Ramachandra(oral)\" -- \"Goosey Goosey Gander(1784)\"\t[label=0.828125,\n",
      "\t\tlp=\"488.64,148.5\",\n",
      "\t\tpos=\"451.05,173.76 448.2,163.1 447.02,149.82 454.64,141 459.36,135.54 528.2,125.82 590.79,118.01\",\n",
      "\t\tstyle=dotted,\n",
      "\t\tweight=0.000828125];\n",
      "\t\"Pahi Ramachandra(oral)\" -- \"Ah! vous dirai-je(1785)\"\t[label=0.7775862068965518,\n",
      "\t\tlp=\"445.64,105\",\n",
      "\t\tpos=\"435.99,174.11 401.32,147.34 330.8,94.121 267.64,54 257.5,47.56 246.11,41.028 235.82,35.378\",\n",
      "\t\tstyle=dotted,\n",
      "\t\tweight=0.0007775862068965518];\n",
      "\t\"The Star(1838)\" -- \"Goosey Goosey Gander(1784)\"\t[label=0.578125,\n",
      "\t\tlp=\"863.64,192\",\n",
      "\t\tpos=\"830.25,227.8 831.64,211.57 830.76,187.75 816.64,174 771.37,129.93 717.39,203.42 675.64,156 667.47,146.72 672.78,133.46 679.71,122.92\",\n",
      "\t\tstyle=solid,\n",
      "\t\tweight=0.000578125];\n",
      "\t\"The Star(1838)\" -- \"Ah! vous dirai-je(1785)\"\t[label=0.11805555555555555,\n",
      "\t\tlp=\"951.14,148.5\",\n",
      "\t\tpos=\"876.23,231.55 886.29,226.45 895.63,219.49 901.64,210 910.2,196.48 909.89,187.71 901.64,174 892.82,159.35 878.16,169.48 867.64,156 \\\n",
      "848.21,131.1 873.92,108.35 850.64,87 812.15,51.699 491.09,31.88 316.57,23.622\",\n",
      "\t\tstyle=solid,\n",
      "\t\tweight=0.00011805555555555555];\n",
      "\t\"Goosey Goosey Gander(1784)\" -- \"Ah! vous dirai-je(1785)\"\t[label=0.5104166666666666,\n",
      "\t\tlp=\"556.64,61.5\",\n",
      "\t\tpos=\"612.62,89.916 519.93,73.804 369.38,47.636 279.4,31.995\",\n",
      "\t\tstyle=solid,\n",
      "\t\tweight=0.0005104166666666666];\n",
      "}\n",
      "\n"
     ]
    }
   ],
   "source": [
    "draw_weighted_graph(dists[4], pivot=0.7)"
   ],
   "metadata": {
    "collapsed": false,
    "pycharm": {
     "name": "#%%\n"
    }
   }
  },
  {
   "cell_type": "code",
   "execution_count": 5,
   "outputs": [
    {
     "name": "stdout",
     "output_type": "stream",
     "text": [
      "graph \"\" {\n",
      "\tgraph [bb=\"0,0,652.99,405\"];\n",
      "\tnode [label=\"\\N\"];\n",
      "\t\"Ah! vous dirai-je(1774)\"\t[height=0.5,\n",
      "\t\tpos=\"116.99,387\",\n",
      "\t\twidth=3.2497];\n",
      "\t\"Shaymale Meenakshi(1905)\"\t[height=0.5,\n",
      "\t\tpos=\"339.99,300\",\n",
      "\t\twidth=3.8816];\n",
      "\t\"Ah! vous dirai-je(1774)\" -- \"Shaymale Meenakshi(1905)\"\t[label=548.0,\n",
      "\t\tlp=\"261.49,343.5\",\n",
      "\t\tpos=\"158.67,370.11 198.26,355.02 257.48,332.45 297.37,317.24\",\n",
      "\t\tstyle=solid,\n",
      "\t\tweight=0.548];\n",
      "\t\"Pahi Ramachandra(oral)\"\t[height=0.5,\n",
      "\t\tpos=\"314.99,192\",\n",
      "\t\twidth=3.3941];\n",
      "\t\"Ah! vous dirai-je(1774)\" -- \"Pahi Ramachandra(oral)\"\t[label=580.0,\n",
      "\t\tlp=\"170.49,300\",\n",
      "\t\tpos=\"118.51,368.64 121.28,346.31 128.97,307.38 149.99,282 179.88,245.9 228.35,222.26 265.04,208.47\",\n",
      "\t\tstyle=solid,\n",
      "\t\tweight=0.58];\n",
      "\t\"The Star(1838)\"\t[height=0.5,\n",
      "\t\tpos=\"527.99,246\",\n",
      "\t\twidth=2.2567];\n",
      "\t\"Ah! vous dirai-je(1774)\" -- \"The Star(1838)\"\t[label=156.0,\n",
      "\t\tlp=\"516.49,343.5\",\n",
      "\t\tpos=\"231.76,383.32 338.73,378.04 486.88,362.61 521.99,318 533.92,302.83 533.54,279.79 531.42,264.1\",\n",
      "\t\tstyle=solid,\n",
      "\t\tweight=0.156];\n",
      "\t\"Goosey Goosey Gander(1784)\"\t[height=0.5,\n",
      "\t\tpos=\"431.99,105\",\n",
      "\t\twidth=4.1163];\n",
      "\t\"Ah! vous dirai-je(1774)\" -- \"Goosey Goosey Gander(1784)\"\t[label=522.0,\n",
      "\t\tlp=\"417.49,246\",\n",
      "\t\tpos=\"207.76,375.5 312.01,362.52 471.07,339.49 488.99,318 548.56,246.55 413.75,284.36 396.99,264 334.39,187.97 474.39,246.12 504.99,210 \\\n",
      "515.33,197.79 513.96,187.25 504.99,174 492.91,156.16 476.18,170.21 459.99,156 449.97,147.21 442.77,133.92 438.18,123.25\",\n",
      "\t\tstyle=solid,\n",
      "\t\tweight=0.522];\n",
      "\t\"Ah! vous dirai-je(1785)\"\t[height=0.5,\n",
      "\t\tpos=\"130.99,18\",\n",
      "\t\twidth=3.2497];\n",
      "\t\"Ah! vous dirai-je(1774)\" -- \"Ah! vous dirai-je(1785)\"\t[label=169.0,\n",
      "\t\tlp=\"139.49,192\",\n",
      "\t\tpos=\"116.76,368.95 116.36,332.93 115.85,246.44 118.99,174 121.17,123.85 126.51,64.748 129.28,36.179\",\n",
      "\t\tstyle=solid,\n",
      "\t\tweight=0.169];\n",
      "\t\"Shaymale Meenakshi(1905)\" -- \"Pahi Ramachandra(oral)\"\t[label=33.0,\n",
      "\t\tlp=\"284.99,246\",\n",
      "\t\tpos=\"289.7,283.15 281.46,278.31 274,272.05 268.99,264 260.54,250.41 261.88,242.34 268.99,228 272.55,220.81 278.38,214.69 284.71,209.68\",\n",
      "\t\tstyle=solid,\n",
      "\t\tweight=0.033];\n",
      "\t\"Shaymale Meenakshi(1905)\" -- \"Goosey Goosey Gander(1784)\"\t[label=661.0,\n",
      "\t\tlp=\"480.49,192\",\n",
      "\t\tpos=\"340.31,281.81 341.57,265.6 346.07,241.78 360.99,228 389.35,201.79 421.68,240 445.99,210 503.22,139.38 370.13,167.28 360.99,156 349.88,\\\n",
      "142.3 363.76,130.67 382.1,122.09\",\n",
      "\t\tstyle=solid,\n",
      "\t\tweight=0.661];\n",
      "\t\"Shaymale Meenakshi(1905)\" -- \"Ah! vous dirai-je(1785)\"\t[label=603.0,\n",
      "\t\tlp=\"176.49,148.5\",\n",
      "\t\tpos=\"289.05,283.09 253.9,269.4 209.13,246.07 183.99,210 145.32,154.53 134.79,71.68 131.98,36.167\",\n",
      "\t\tstyle=solid,\n",
      "\t\tweight=0.603];\n",
      "\t\"Pahi Ramachandra(oral)\" -- \"Goosey Goosey Gander(1784)\"\t[label=676.0,\n",
      "\t\tlp=\"311.49,148.5\",\n",
      "\t\tpos=\"297.67,173.75 289.59,163.6 283.28,150.86 290.99,141 298.18,131.81 318.58,124.69 341.71,119.35\",\n",
      "\t\tstyle=solid,\n",
      "\t\tweight=0.676];\n",
      "\t\"Pahi Ramachandra(oral)\" -- \"Ah! vous dirai-je(1785)\"\t[label=617.0,\n",
      "\t\tlp=\"254.49,105\",\n",
      "\t\tpos=\"293.35,174.13 276.64,160.8 253.2,141.43 233.99,123 204.02,94.254 200.66,83.052 170.99,54 164.79,47.932 157.75,41.601 151.33,36.019\",\n",
      "\t\tstyle=solid,\n",
      "\t\tweight=0.617];\n",
      "\t\"The Star(1838)\" -- \"Goosey Goosey Gander(1784)\"\t[label=546.0,\n",
      "\t\tlp=\"581.49,192\",\n",
      "\t\tpos=\"545.12,228.27 549.52,222.9 553.67,216.61 555.99,210 561.29,194.9 565.82,186.63 555.99,174 536,148.31 513.52,171.67 484.99,156 469.91,\\\n",
      "147.72 455.9,134.12 446.07,123.2\",\n",
      "\t\tstyle=solid,\n",
      "\t\tweight=0.546];\n",
      "\t\"The Star(1838)\" -- \"Ah! vous dirai-je(1785)\"\t[label=101.0,\n",
      "\t\tlp=\"632.49,148.5\",\n",
      "\t\tpos=\"579.55,231.86 590,226.76 599.7,219.72 605.99,210 623.55,182.88 606.49,103.72 588.99,87 541.15,41.291 365.44,26.249 246.1,21.335\",\n",
      "\t\tstyle=solid,\n",
      "\t\tweight=0.101];\n",
      "\t\"Goosey Goosey Gander(1784)\" -- \"Ah! vous dirai-je(1785)\"\t[label=507.0,\n",
      "\t\tlp=\"319.49,61.5\",\n",
      "\t\tpos=\"376.43,88.311 321.65,72.841 238.5,49.36 184.45,34.098\",\n",
      "\t\tstyle=solid,\n",
      "\t\tweight=0.507];\n",
      "}\n",
      "\n"
     ]
    }
   ],
   "source": [
    "draw_weighted_graph(dists[3], pivot=1000)"
   ],
   "metadata": {
    "collapsed": false,
    "pycharm": {
     "name": "#%%\n"
    }
   }
  },
  {
   "cell_type": "code",
   "execution_count": 47,
   "outputs": [
    {
     "data": {
      "text/plain": "616.8333333333334"
     },
     "execution_count": 47,
     "metadata": {},
     "output_type": "execute_result"
    }
   ],
   "source": [
    "seq_lens = [len(adjusted_melodies[i]) for i in range(len(adjusted_melodies))]\n",
    "seq_lens = np.array(seq_lens)\n",
    "seq_lens.mean()"
   ],
   "metadata": {
    "collapsed": false,
    "pycharm": {
     "name": "#%%\n"
    }
   }
  },
  {
   "cell_type": "code",
   "execution_count": 19,
   "outputs": [
    {
     "name": "stdout",
     "output_type": "stream",
     "text": [
      "digraph \"\" {\n",
      "\tgraph [bb=\"0,0,606.38,396\",\n",
      "\t\trankdir=TD\n",
      "\t];\n",
      "\tnode [label=\"\\N\"];\n",
      "\t\"Ah! vous dirai-je(1774)\"\t[height=0.5,\n",
      "\t\tpos=\"384.19,234\",\n",
      "\t\twidth=3.2497];\n",
      "\t\"Shaymale Meenakshi(1905)\"\t[height=0.5,\n",
      "\t\tpos=\"290.19,90\",\n",
      "\t\twidth=3.8816];\n",
      "\t\"Ah! vous dirai-je(1774)\" -> \"Shaymale Meenakshi(1905)\"\t[pos=\"e,301.57,108.19 372.85,215.87 356.55,191.24 326.36,145.64 307.32,116.88\",\n",
      "\t\tweight=1.0];\n",
      "\t\"Pahi Ramachandra(oral)\"\t[height=0.5,\n",
      "\t\tpos=\"122.19,162\",\n",
      "\t\twidth=3.3941];\n",
      "\t\"Ah! vous dirai-je(1774)\" -> \"Pahi Ramachandra(oral)\"\t[pos=\"e,178.58,178.07 328.63,218.15 287.66,207.21 231.75,192.27 188.45,180.7\",\n",
      "\t\tweight=1.0];\n",
      "\t\"Goosey Goosey Gander(1784)\"\t[height=0.5,\n",
      "\t\tpos=\"458.19,18\",\n",
      "\t\twidth=4.1163];\n",
      "\t\"Ah! vous dirai-je(1774)\" -> \"Goosey Goosey Gander(1784)\"\t[pos=\"e,455.62,36 392.98,216.04 404.94,192.4 426.29,147.93 439.19,108 445.78,87.61 450.72,63.845 453.91,46.005\",\n",
      "\t\tweight=1.0];\n",
      "\t\"Shaymale Meenakshi(1905)\" -> \"Goosey Goosey Gander(1784)\"\t[pos=\"e,418.76,35.43 329.58,72.588 353.4,62.663 383.96,49.927 409.32,39.363\",\n",
      "\t\tweight=1.0];\n",
      "\t\"Pahi Ramachandra(oral)\" -> \"Shaymale Meenakshi(1905)\"\t[pos=\"e,250.85,107.39 161.15,144.76 185.05,134.81 215.85,121.98 241.36,111.35\",\n",
      "\t\tweight=1.0];\n",
      "\t\"Pahi Ramachandra(oral)\" -> \"Goosey Goosey Gander(1784)\"\t[pos=\"e,326.27,26.304 120.61,143.9 119.77,123.72 121.78,90.564 141.19,72 166.66,47.645 244.16,34.421 316.16,27.273\",\n",
      "\t\tweight=1.0];\n",
      "\t\"The Star(1838)\"\t[height=0.5,\n",
      "\t\tpos=\"422.19,306\",\n",
      "\t\twidth=2.2567];\n",
      "\t\"The Star(1838)\" -> \"Ah! vous dirai-je(1774)\"\t[pos=\"e,393.57,252.28 412.99,288.05 408.62,280.01 403.3,270.2 398.43,261.23\",\n",
      "\t\tweight=1.0];\n",
      "\t\"The Star(1838)\" -> \"Goosey Goosey Gander(1784)\"\t[pos=\"e,469.65,35.999 464.15,290.51 481.64,282.15 500.19,269.7 510.19,252 548.72,183.81 502.03,89.323 474.94,44.525\",\n",
      "\t\tweight=1.0];\n",
      "\t\"Ah! vous dirai-je(1785)\"\t[height=0.5,\n",
      "\t\tpos=\"313.19,378\",\n",
      "\t\twidth=3.2497];\n",
      "\t\"Ah! vous dirai-je(1785)\" -> \"Ah! vous dirai-je(1774)\"\t[pos=\"e,362.74,251.74 314.01,359.96 315.52,341.3 319.85,310.96 332.19,288 337.99,277.2 346.67,267.1 355.27,258.69\",\n",
      "\t\tweight=1.0];\n",
      "\t\"Ah! vous dirai-je(1785)\" -> \"Shaymale Meenakshi(1905)\"\t[pos=\"e,282.08,108.42 302.95,359.97 289.55,336.6 266.78,292.84 258.19,252 248.29,204.94 265.35,149.97 278.12,117.96\",\n",
      "\t\tweight=1.0];\n",
      "\t\"Ah! vous dirai-je(1785)\" -> \"Pahi Ramachandra(oral)\"\t[pos=\"e,129.95,180.32 278.05,360.66 260.82,351.51 240.53,338.93 225.19,324 183.85,283.77 151.16,223.93 134.43,189.67\",\n",
      "\t\tweight=1.0];\n",
      "\t\"Ah! vous dirai-je(1785)\" -> \"Goosey Goosey Gander(1784)\"\t[pos=\"e,483.47,35.91 406.5,367.06 442.23,359.63 481.69,346.65 512.19,324 549.52,296.28 567.19,281.5 567.19,235 567.19,235 567.19,235 567.19,\\\n",
      "161 567.19,110.79 523.78,67.397 491.74,42.216\",\n",
      "\t\tweight=1.0];\n",
      "\t\"Ah! vous dirai-je(1785)\" -> \"The Star(1838)\"\t[pos=\"e,396.92,323.23 339.02,360.41 353.79,350.93 372.48,338.92 388.4,328.7\",\n",
      "\t\tweight=1.0];\n",
      "}\n",
      "\n"
     ]
    }
   ],
   "source": [
    "draw_causal_inference(dists[6])"
   ],
   "metadata": {
    "collapsed": false,
    "pycharm": {
     "name": "#%%\n"
    }
   }
  },
  {
   "cell_type": "code",
   "execution_count": 23,
   "outputs": [
    {
     "name": "stdout",
     "output_type": "stream",
     "text": [
      "digraph \"\" {\n",
      "\tgraph [bb=\"0,0,491.18,396\",\n",
      "\t\trankdir=TD\n",
      "\t];\n",
      "\tnode [label=\"\\N\"];\n",
      "\t\"Ah! vous dirai-je(1774)\"\t[height=0.5,\n",
      "\t\tpos=\"116.99,234\",\n",
      "\t\twidth=3.2497];\n",
      "\t\"The Star(1838)\"\t[height=0.5,\n",
      "\t\tpos=\"196.99,18\",\n",
      "\t\twidth=2.2567];\n",
      "\t\"Ah! vous dirai-je(1774)\" -> \"The Star(1838)\"\t[pos=\"e,177.67,35.678 108.27,215.91 100.19,197.73 90.603,168.29 98.99,144 113.04,103.31 146.39,65.764 170.29,42.659\",\n",
      "\t\tweight=1.0];\n",
      "\t\"Goosey Goosey Gander(1784)\"\t[height=0.5,\n",
      "\t\tpos=\"269.99,162\",\n",
      "\t\twidth=4.1163];\n",
      "\t\"Ah! vous dirai-je(1774)\" -> \"Goosey Goosey Gander(1784)\"\t[pos=\"e,233.9,179.51 152.48,216.76 173.97,206.93 201.59,194.29 224.65,183.74\",\n",
      "\t\tweight=1.0];\n",
      "\t\"Ah! vous dirai-je(1785)\"\t[height=0.5,\n",
      "\t\tpos=\"341.99,90\",\n",
      "\t\twidth=3.2497];\n",
      "\t\"Ah! vous dirai-je(1774)\" -> \"Ah! vous dirai-je(1785)\"\t[pos=\"e,248.36,100.88 110.16,215.89 103.6,196.31 96.819,164.34 112.99,144 129.09,123.74 185.45,110.55 238.21,102.39\",\n",
      "\t\tweight=1.0];\n",
      "\t\"Goosey Goosey Gander(1784)\" -> \"The Star(1838)\"\t[pos=\"e,197.73,36.082 247.44,144.18 236.33,134.74 223.71,122.04 215.99,108 205.49,88.902 200.79,64.548 198.69,46.145\",\n",
      "\t\tweight=1.0];\n",
      "\t\"Goosey Goosey Gander(1784)\" -> \"Ah! vous dirai-je(1785)\"\t[pos=\"e,324.47,108.03 287.42,144.05 296.37,135.35 307.44,124.59 317.26,115.04\",\n",
      "\t\tweight=1.0];\n",
      "\t\"Ah! vous dirai-je(1785)\" -> \"The Star(1838)\"\t[pos=\"e,229.28,34.588 307.99,72.588 287.19,62.546 260.43,49.628 238.4,38.992\",\n",
      "\t\tweight=1.0];\n",
      "\t\"Shaymale Meenakshi(1905)\"\t[height=0.5,\n",
      "\t\tpos=\"284.99,306\",\n",
      "\t\twidth=3.8816];\n",
      "\t\"Shaymale Meenakshi(1905)\" -> \"Ah! vous dirai-je(1774)\"\t[pos=\"e,155.55,251.07 245.6,288.59 221.52,278.56 190.55,265.65 165.04,255.02\",\n",
      "\t\tweight=1.0];\n",
      "\t\"Shaymale Meenakshi(1905)\" -> \"Goosey Goosey Gander(1784)\"\t[pos=\"e,271.81,180.19 283.18,287.87 280.62,263.67 275.93,219.21 272.88,190.39\",\n",
      "\t\tweight=1.0];\n",
      "\t\"Shaymale Meenakshi(1905)\" -> \"Ah! vous dirai-je(1785)\"\t[pos=\"e,384.78,106.96 316.35,288.3 350.85,267.95 404.4,229.98 426.99,180 433.58,165.42 434.75,157.99 426.99,144 419.44,130.4 406.8,119.84 \\\n",
      "393.54,111.85\",\n",
      "\t\tweight=1.0];\n",
      "\t\"Pahi Ramachandra(oral)\"\t[height=0.5,\n",
      "\t\tpos=\"368.99,378\",\n",
      "\t\twidth=3.3941];\n",
      "\t\"Pahi Ramachandra(oral)\" -> \"Ah! vous dirai-je(1774)\"\t[pos=\"e,115.58,252.27 276.46,366.22 220.32,357.78 155.8,344.08 135.99,324 120.17,307.96 116.07,282.18 115.56,262.48\",\n",
      "\t\tweight=1.0];\n",
      "\t\"Pahi Ramachandra(oral)\" -> \"Goosey Goosey Gander(1784)\"\t[pos=\"e,308.21,179.44 399.55,360.47 412.72,351.57 426.74,339.26 433.99,324 440.85,309.55 441.09,302.34 433.99,288 409.87,239.29 356.67,\\\n",
      "204.39 317.38,184.05\",\n",
      "\t\tweight=1.0];\n",
      "\t\"Pahi Ramachandra(oral)\" -> \"Ah! vous dirai-je(1785)\"\t[pos=\"e,394.01,106.16 409.4,360.81 425.01,352.33 441.2,340.26 449.99,324 468.75,289.3 508.02,245.89 442.99,144 433.59,129.28 418.69,118.41 \\\n",
      "403.18,110.49\",\n",
      "\t\tweight=1.0];\n",
      "\t\"Pahi Ramachandra(oral)\" -> \"Shaymale Meenakshi(1905)\"\t[pos=\"e,305.43,324.03 348.66,360.05 338,351.18 324.79,340.17 313.17,330.48\",\n",
      "\t\tweight=1.0];\n",
      "}\n",
      "\n"
     ]
    }
   ],
   "source": [
    "draw_causal_inference(dists[7])"
   ],
   "metadata": {
    "collapsed": false,
    "pycharm": {
     "name": "#%%\n"
    }
   }
  },
  {
   "cell_type": "code",
   "execution_count": 24,
   "outputs": [
    {
     "name": "stdout",
     "output_type": "stream",
     "text": [
      "digraph \"\" {\n",
      "\tgraph [bb=\"0,0,1044.2,108\",\n",
      "\t\trankdir=TD\n",
      "\t];\n",
      "\tnode [label=\"\\N\"];\n",
      "\t\"Ah! vous dirai-je(1774)\"\t[height=0.5,\n",
      "\t\tpos=\"116.99,90\",\n",
      "\t\twidth=3.2497];\n",
      "\t\"Shaymale Meenakshi(1905)\"\t[height=0.5,\n",
      "\t\tpos=\"391.99,90\",\n",
      "\t\twidth=3.8816];\n",
      "\t\"Pahi Ramachandra(oral)\"\t[height=0.5,\n",
      "\t\tpos=\"391.99,18\",\n",
      "\t\twidth=3.3941];\n",
      "\t\"Shaymale Meenakshi(1905)\" -> \"Pahi Ramachandra(oral)\"\t[pos=\"e,391.99,36.104 391.99,71.697 391.99,63.983 391.99,54.712 391.99,46.112\",\n",
      "\t\tweight=1.0];\n",
      "\t\"The Star(1838)\"\t[height=0.5,\n",
      "\t\tpos=\"648.99,90\",\n",
      "\t\twidth=2.2567];\n",
      "\t\"Ah! vous dirai-je(1785)\"\t[height=0.5,\n",
      "\t\tpos=\"648.99,18\",\n",
      "\t\twidth=3.2497];\n",
      "\t\"The Star(1838)\" -> \"Ah! vous dirai-je(1785)\"\t[pos=\"e,648.99,36.104 648.99,71.697 648.99,63.983 648.99,54.712 648.99,46.112\",\n",
      "\t\tweight=1.0];\n",
      "\t\"Goosey Goosey Gander(1784)\"\t[height=0.5,\n",
      "\t\tpos=\"895.99,90\",\n",
      "\t\twidth=4.1163];\n",
      "}\n",
      "\n"
     ]
    }
   ],
   "source": [
    "draw_causal_inference(dists[8])"
   ],
   "metadata": {
    "collapsed": false,
    "pycharm": {
     "name": "#%%\n"
    }
   }
  },
  {
   "cell_type": "code",
   "execution_count": 8,
   "outputs": [
    {
     "name": "stdout",
     "output_type": "stream",
     "text": [
      "graph \"\" {\n",
      "\tgraph [bb=\"0,0,639.99,405\"];\n",
      "\tnode [label=\"\\N\"];\n",
      "\t\"Ah! vous dirai-je(1774)\"\t[height=0.5,\n",
      "\t\tpos=\"116.99,387\",\n",
      "\t\twidth=3.2497];\n",
      "\t\"Shaymale Meenakshi(1905)\"\t[height=0.5,\n",
      "\t\tpos=\"339.99,300\",\n",
      "\t\twidth=3.8816];\n",
      "\t\"Ah! vous dirai-je(1774)\" -- \"Shaymale Meenakshi(1905)\"\t[label=244.0,\n",
      "\t\tlp=\"261.49,343.5\",\n",
      "\t\tpos=\"158.67,370.11 198.26,355.02 257.48,332.45 297.37,317.24\",\n",
      "\t\tstyle=solid,\n",
      "\t\tweight=0.244];\n",
      "\t\"Pahi Ramachandra(oral)\"\t[height=0.5,\n",
      "\t\tpos=\"309.99,192\",\n",
      "\t\twidth=3.3941];\n",
      "\t\"Ah! vous dirai-je(1774)\" -- \"Pahi Ramachandra(oral)\"\t[label=224.0,\n",
      "\t\tlp=\"170.49,300\",\n",
      "\t\tpos=\"118.56,368.68 121.38,346.39 129.13,307.52 149.99,282 179.06,246.44 226.29,222.66 261.91,208.7\",\n",
      "\t\tstyle=solid,\n",
      "\t\tweight=0.224];\n",
      "\t\"The Star(1838)\"\t[height=0.5,\n",
      "\t\tpos=\"527.99,246\",\n",
      "\t\twidth=2.2567];\n",
      "\t\"Ah! vous dirai-je(1774)\" -- \"The Star(1838)\"\t[label=108.0,\n",
      "\t\tlp=\"516.49,343.5\",\n",
      "\t\tpos=\"231.76,383.32 338.73,378.04 486.88,362.61 521.99,318 533.92,302.83 533.54,279.79 531.42,264.1\",\n",
      "\t\tstyle=solid,\n",
      "\t\tweight=0.108];\n",
      "\t\"Goosey Goosey Gander(1784)\"\t[height=0.5,\n",
      "\t\tpos=\"430.99,105\",\n",
      "\t\twidth=4.1163];\n",
      "\t\"Ah! vous dirai-je(1774)\" -- \"Goosey Goosey Gander(1784)\"\t[label=276.0,\n",
      "\t\tlp=\"417.49,246\",\n",
      "\t\tpos=\"207.76,375.5 312.01,362.52 471.07,339.49 488.99,318 548.56,246.55 413.75,284.36 396.99,264 335.66,189.51 474.29,239.44 498.99,210 \\\n",
      "509.27,197.74 507.68,187.44 498.99,174 488.4,157.63 473.37,169.17 458.99,156 449.16,147 441.95,133.72 437.31,123.11\",\n",
      "\t\tstyle=solid,\n",
      "\t\tweight=0.276];\n",
      "\t\"Ah! vous dirai-je(1785)\"\t[height=0.5,\n",
      "\t\tpos=\"129.99,18\",\n",
      "\t\twidth=3.2497];\n",
      "\t\"Ah! vous dirai-je(1774)\" -- \"Ah! vous dirai-je(1785)\"\t[label=87.0,\n",
      "\t\tlp=\"140.99,192\",\n",
      "\t\tpos=\"117.6,368.79 119.78,307.15 127.2,97.757 129.38,36.172\",\n",
      "\t\tstyle=solid,\n",
      "\t\tweight=0.087];\n",
      "\t\"Shaymale Meenakshi(1905)\" -- \"Pahi Ramachandra(oral)\"\t[label=19.0,\n",
      "\t\tlp=\"283.99,246\",\n",
      "\t\tpos=\"288.64,283.06 280.43,278.24 273,272.01 267.99,264 259.5,250.44 261.2,242.49 267.99,228 271.29,220.95 276.79,214.83 282.73,209.76\",\n",
      "\t\tstyle=solid,\n",
      "\t\tweight=0.019];\n",
      "\t\"Shaymale Meenakshi(1905)\" -- \"Goosey Goosey Gander(1784)\"\t[label=297.0,\n",
      "\t\tlp=\"474.49,192\",\n",
      "\t\tpos=\"340.35,281.85 341.64,265.67 346.16,241.88 360.99,228 387.6,203.1 418.22,238.46 440.99,210 496.99,140 365.45,162.81 359.99,156 348.95,\\\n",
      "142.24 362.83,130.61 381.16,122.05\",\n",
      "\t\tstyle=solid,\n",
      "\t\tweight=0.297];\n",
      "\t\"Shaymale Meenakshi(1905)\" -- \"Ah! vous dirai-je(1785)\"\t[label=256.0,\n",
      "\t\tlp=\"177.49,148.5\",\n",
      "\t\tpos=\"286.58,283.3 250.39,269.8 204.65,246.62 178.99,210 159,181.47 139.83,77.606 132.8,36.205\",\n",
      "\t\tstyle=solid,\n",
      "\t\tweight=0.256];\n",
      "\t\"Pahi Ramachandra(oral)\" -- \"Goosey Goosey Gander(1784)\"\t[label=298.0,\n",
      "\t\tlp=\"310.49,148.5\",\n",
      "\t\tpos=\"295.11,174.01 287.94,163.71 282.39,150.72 289.99,141 297.18,131.81 317.58,124.69 340.71,119.35\",\n",
      "\t\tstyle=solid,\n",
      "\t\tweight=0.298];\n",
      "\t\"Pahi Ramachandra(oral)\" -- \"Ah! vous dirai-je(1785)\"\t[label=235.0,\n",
      "\t\tlp=\"253.49,105\",\n",
      "\t\tpos=\"289.84,174.24 273.99,160.81 251.55,141.26 232.99,123 203.38,93.881 199.66,83.052 169.99,54 163.79,47.932 156.75,41.601 150.33,36.019\",\n",
      "\t\tstyle=solid,\n",
      "\t\tweight=0.235];\n",
      "\t\"The Star(1838)\" -- \"Goosey Goosey Gander(1784)\"\t[label=216.0,\n",
      "\t\tlp=\"576.49,192\",\n",
      "\t\tpos=\"541.61,228.01 552.2,212.6 563.21,189.94 550.99,174 532.23,149.53 510.91,171.04 483.99,156 468.97,147.61 454.95,134.02 445.11,123.13\",\n",
      "\t\tstyle=solid,\n",
      "\t\tweight=0.216];\n",
      "\t\"The Star(1838)\" -- \"Ah! vous dirai-je(1785)\"\t[label=41.0,\n",
      "\t\tlp=\"623.99,148.5\",\n",
      "\t\tpos=\"575.94,231.42 585.86,226.33 595.07,219.4 600.99,210 616.91,184.71 607.2,106.19 587.99,87 541.18,40.234 365.18,25.495 245.49,20.931\",\n",
      "\t\tstyle=solid,\n",
      "\t\tweight=0.041];\n",
      "\t\"Goosey Goosey Gander(1784)\" -- \"Ah! vous dirai-je(1785)\"\t[label=229.0,\n",
      "\t\tlp=\"318.49,61.5\",\n",
      "\t\tpos=\"375.43,88.311 320.65,72.841 237.5,49.36 183.45,34.098\",\n",
      "\t\tstyle=solid,\n",
      "\t\tweight=0.229];\n",
      "}\n",
      "\n"
     ]
    },
    {
     "name": "stderr",
     "output_type": "stream",
     "text": [
      "<ipython-input-8-be218538d21b>:11: ClusterWarning: scipy.cluster: The symmetric non-negative hollow observation matrix looks suspiciously like an uncondensed distance matrix\n",
      "  Z = linkage(dist_matrix, 'weighted')\n"
     ]
    },
    {
     "data": {
      "text/plain": "<Figure size 432x288 with 1 Axes>",
      "image/png": "[encoded data removed]"
     },
     "metadata": {
      "needs_background": "light"
     },
     "output_type": "display_data"
    }
   ],
   "source": [
    "dicts = data.GetAll()[0:6]\n",
    "\n",
    "dist_matrix = np.zeros((len(dicts), len(dicts)))\n",
    "for i in range(len(dicts)):\n",
    "    m_i = data.PruneRests(data.GetNMeasuresAdjusted(dicts[i], 'all'))\n",
    "    for ii in range(len(dicts)):\n",
    "        m_ii = data.PruneRests(data.GetNMeasuresAdjusted(dicts[ii], 'all'))\n",
    "        dist_matrix[i, ii] = distances.dtwDistSymbolic(m_i, m_ii, len(m_i), len(m_ii))\n",
    "\n",
    "draw_weighted_graph(dist_matrix, pivot=300)\n",
    "Z = linkage(dist_matrix, 'weighted')\n",
    "fig = plt.figure()\n",
    "dn = dendrogram(Z, leaf_label_func=llf, leaf_rotation=0, orientation='right')"
   ],
   "metadata": {
    "collapsed": false,
    "pycharm": {
     "name": "#%%\n"
    }
   }
  }
 ],
 "metadata": {
  "kernelspec": {
   "display_name": "Python 3",
   "language": "python",
   "name": "python3"
  },
  "language_info": {
   "codemirror_mode": {
    "name": "ipython",
    "version": 3
   },
   "file_extension": ".py",
   "mimetype": "text/x-python",
   "name": "python",
   "nbconvert_exporter": "python",
   "pygments_lexer": "ipython3",
   "version": "3.8.5"
  }
 },
 "nbformat": 4,
 "nbformat_minor": 1
}