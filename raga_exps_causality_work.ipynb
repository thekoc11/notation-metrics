{
 "cells": [
  {
   "cell_type": "code",
   "execution_count": 1,
   "outputs": [],
   "source": [
    "\n",
    "import pandas as pd\n",
    "import data\n",
    "from utils import distances, draw, parallelizer\n",
    "import numpy as np"
   ],
   "metadata": {
    "collapsed": false,
    "pycharm": {
     "name": "#%%\n"
    }
   }
  },
  {
   "cell_type": "code",
   "execution_count": 2,
   "outputs": [],
   "source": [
    "df = pd.read_csv(\"/home/efm-workstation/notations/15/deva-deva-parsed.txt\")\n",
    "df_filtered1 = df[df[\" Note\"] < 99999]\n",
    "\n",
    "df = pd.read_csv(\"/home/efm-workstation/notations/15/meru-samaana-parsed.txt\")\n",
    "df_filtered2 = df[df[\" Note\"] < 99999]\n",
    "\n",
    "df = pd.read_csv(\"/home/efm-workstation/notations/15/ksheerasagara-parsed.txt\")\n",
    "df_filtered3 = df[df[\" Note\"] < 99999]\n",
    "\n",
    "df = pd.read_csv(\"/home/efm-workstation/notations/15/mayateeta-parsed.txt\")\n",
    "df_filtered4 = df[df[\" Note\"] < 99999]\n",
    "\n",
    "df = pd.read_csv(\"/home/efm-workstation/notations/15/padumanabha-parsed.txt\")\n",
    "df_filtered5 = df[df[\" Note\"] < 99999]\n",
    "\n",
    "df = pd.read_csv(\"/home/efm-workstation/notations/15/pancamatanga-parsed.txt\")\n",
    "df_filtered6 = df[df[\" Note\"] < 99999]\n",
    "\n",
    "df = pd.read_csv(\"/home/efm-workstation/notations/15/vidulaku-parsed.txt\")\n",
    "df_filtered7 = df[df[\" Note\"] < 99999]\n",
    "\n",
    "df = pd.read_csv(\"/home/efm-workstation/notations/15/sree-gananatha-parsed.txt\")\n",
    "df_filtered8 = df[df[\" Note\"] < 99999]\n",
    "\n",
    "df = pd.read_csv(\"/home/efm-workstation/notations/15/srinadadi-parsed.txt\")\n",
    "df_filtered9 = df[df[\" Note\"] < 99999]\n",
    "\n",
    "df = pd.read_csv(\"/home/efm-workstation/notations/15/kundagowra-parsed.txt\")\n",
    "df_filtered10 = df[df[\" Note\"] < 99999]\n",
    "\n",
    "song_coords1 = []\n",
    "for i in range(len(df_filtered1)):\n",
    "    song_coords1.append((df_filtered1.iloc[i, 0], df_filtered1.iloc[i, 1], df_filtered1.iloc[i, 2]))\n",
    "\n",
    "\n",
    "song_coords2 = []\n",
    "for i in range(len(df_filtered2)):\n",
    "    song_coords2.append((df_filtered2.iloc[i, 0], df_filtered2.iloc[i, 1], df_filtered2.iloc[i, 2]))\n",
    "\n",
    "\n",
    "song_coords3 = []\n",
    "for i in range(len(df_filtered3)):\n",
    "    song_coords3.append((df_filtered3.iloc[i, 0], df_filtered3.iloc[i, 1], df_filtered3.iloc[i, 2]))\n",
    "\n",
    "\n",
    "song_coords4 = []\n",
    "for i in range(len(df_filtered4)):\n",
    "    song_coords4.append((df_filtered4.iloc[i, 0], df_filtered4.iloc[i, 1], df_filtered4.iloc[i, 2]))\n",
    "\n",
    "\n",
    "song_coords5 = []\n",
    "for i in range(len(df_filtered5)):\n",
    "    song_coords5.append((df_filtered5.iloc[i, 0], df_filtered5.iloc[i, 1], df_filtered5.iloc[i, 2]))\n",
    "\n",
    "\n",
    "song_coords6 = []\n",
    "for i in range(len(df_filtered6)):\n",
    "    song_coords6.append((df_filtered6.iloc[i, 0], df_filtered6.iloc[i, 1], df_filtered6.iloc[i, 2]))\n",
    "\n",
    "\n",
    "song_coords7 = []\n",
    "for i in range(len(df_filtered7)):\n",
    "    song_coords7.append((df_filtered7.iloc[i, 0], df_filtered7.iloc[i, 1], df_filtered7.iloc[i, 2]))\n",
    "\n",
    "\n",
    "song_coords8 = []\n",
    "for i in range(len(df_filtered8)):\n",
    "    song_coords8.append((df_filtered8.iloc[i, 0], df_filtered8.iloc[i, 1], df_filtered8.iloc[i, 2]))\n",
    "\n",
    "song_coords9 = []\n",
    "for i in range(len(df_filtered9)):\n",
    "    song_coords9.append((df_filtered9.iloc[i, 0], df_filtered9.iloc[i, 1], df_filtered9.iloc[i, 2]))\n",
    "\n",
    "song_coords10 = []\n",
    "for i in range(len(df_filtered10)):\n",
    "    song_coords10.append((df_filtered10.iloc[i, 0], df_filtered10.iloc[i, 1], df_filtered10.iloc[i, 2]))"
   ],
   "metadata": {
    "collapsed": false,
    "pycharm": {
     "name": "#%%\n"
    }
   }
  },
  {
   "cell_type": "code",
   "execution_count": 3,
   "outputs": [],
   "source": [
    "lists = [song_coords1, song_coords2, song_coords3, song_coords4, song_coords5, song_coords6, song_coords7, song_coords8, song_coords9, song_coords10]\n",
    "\n",
    "dists = parallelizer.list_parallelizer(distances.dtwEuclidean, lists)"
   ],
   "metadata": {
    "collapsed": false,
    "pycharm": {
     "name": "#%%\n"
    }
   }
  },
  {
   "cell_type": "code",
   "execution_count": 4,
   "outputs": [
    {
     "name": "stderr",
     "output_type": "stream",
     "text": [
      "<ipython-input-4-5dd3f45953af>:9: ClusterWarning: scipy.cluster: The symmetric non-negative hollow observation matrix looks suspiciously like an uncondensed distance matrix\n",
      "  Z = linkage(dists, 'single')\n"
     ]
    },
    {
     "data": {
      "text/plain": "<Figure size 432x288 with 1 Axes>",
      "image/png": "[encoded data removed]"
     },
     "metadata": {
      "needs_background": "light"
     },
     "output_type": "display_data"
    }
   ],
   "source": [
    "labels = [\"devadeva(Mayamalavagowla)\", \"meru_samana(Mayamalavagowla)\", \"ksheerasagara(Mayamalavagowla)\", \"mayayeetha_swaroopini(Mayamalavagowla)\", \"padumanabha(Malahari)\", \"pancha_matanga(Malahari)\", \"vidulaku(Mayamalavgowla)\", \"sree_gananatha(Malahari)\", \"Sri Nadadi Guruguha(Mayamalavgowla)\", \"kundagowra(Malahari)\"]\n",
    "\n",
    "# draw.draw_weighted_graph(dists, 5000, labels)\n",
    "\n",
    "from scipy.cluster.hierarchy import dendrogram, linkage\n",
    "import matplotlib.pyplot as plt\n",
    "def llf(id):\n",
    "    return labels[id]\n",
    "Z = linkage(dists, 'single')\n",
    "fig = plt.figure()\n",
    "dn = dendrogram(Z, leaf_label_func=llf, leaf_rotation=0, orientation='right')"
   ],
   "metadata": {
    "collapsed": false,
    "pycharm": {
     "name": "#%%\n"
    }
   }
  },
  {
   "cell_type": "code",
   "execution_count": 5,
   "outputs": [],
   "source": [
    "song_coords1 = data.GetAdjustedMelody(song_coords1)\n",
    "song_coords2 = data.GetAdjustedMelody(song_coords2)\n",
    "song_coords3 = data.GetAdjustedMelody(song_coords3)\n",
    "song_coords4 = data.GetAdjustedMelody(song_coords4)\n",
    "song_coords5 = data.GetAdjustedMelody(song_coords5)\n",
    "song_coords6 = data.GetAdjustedMelody(song_coords6)\n",
    "song_coords7 = data.GetAdjustedMelody(song_coords7)\n",
    "song_coords8 = data.GetAdjustedMelody(song_coords8)\n",
    "song_coords9 = data.GetAdjustedMelody(song_coords9)\n",
    "song_coords10 = data.GetAdjustedMelody(song_coords10)"
   ],
   "metadata": {
    "collapsed": false,
    "pycharm": {
     "name": "#%%\n"
    }
   }
  },
  {
   "cell_type": "code",
   "execution_count": 8,
   "outputs": [
    {
     "name": "stdout",
     "output_type": "stream",
     "text": [
      "184380\n",
      "82583\n",
      "59280\n",
      "165988\n",
      "94167\n",
      "119584\n",
      "111674\n",
      "50880\n",
      "92529\n",
      "46080\n"
     ]
    },
    {
     "data": {
      "text/plain": "100714.5"
     },
     "execution_count": 8,
     "metadata": {},
     "output_type": "execute_result"
    }
   ],
   "source": [
    "print(len(song_coords1))\n",
    "print(len(song_coords2))\n",
    "print(len(song_coords3))\n",
    "print(len(song_coords4))\n",
    "print(len(song_coords5))\n",
    "print(len(song_coords6))\n",
    "print(len(song_coords7))\n",
    "print(len(song_coords8))\n",
    "print(len(song_coords9))\n",
    "print(len(song_coords10))\n",
    "\n",
    "np.mean([\n",
    "    len(song_coords1),\n",
    "    len(song_coords2),\n",
    "    len(song_coords3),\n",
    "    len(song_coords4),\n",
    "    len(song_coords5),\n",
    "    len(song_coords6),\n",
    "    len(song_coords7),\n",
    "    len(song_coords8),\n",
    "    len(song_coords9),\n",
    "    len(song_coords10),\n",
    "])"
   ],
   "metadata": {
    "collapsed": false,
    "pycharm": {
     "name": "#%%\n"
    }
   }
  },
  {
   "cell_type": "code",
   "execution_count": 6,
   "outputs": [],
   "source": [
    "lists = [song_coords1, song_coords2, song_coords3, song_coords4, song_coords5, song_coords6, song_coords7, song_coords8, song_coords9, song_coords10]\n",
    "\n",
    "dists = parallelizer.list_parallelizer(distances.GetLZPCausality, lists)"
   ],
   "metadata": {
    "collapsed": false,
    "pycharm": {
     "name": "#%%\n"
    }
   }
  },
  {
   "cell_type": "code",
   "execution_count": 7,
   "outputs": [
    {
     "name": "stdout",
     "output_type": "stream",
     "text": [
      "digraph \"\" {\n",
      "\tgraph [bb=\"0,0,1210,540\",\n",
      "\t\trankdir=TD\n",
      "\t];\n",
      "\tnode [label=\"\\N\"];\n",
      "\t\"devadeva(Mayamalavagowla)\"\t[height=0.5,\n",
      "\t\tpos=\"766,306\",\n",
      "\t\twidth=4.0982];\n",
      "\t\"mayayeetha_swaroopini(Mayamalavagowla)\"\t[height=0.5,\n",
      "\t\tpos=\"442,234\",\n",
      "\t\twidth=5.9759];\n",
      "\t\"devadeva(Mayamalavagowla)\" -> \"mayayeetha_swaroopini(Mayamalavagowla)\"\t[pos=\"e,515.79,250.94 696.89,290.07 646.87,279.26 579,264.6 525.87,253.12\",\n",
      "\t\tweight=1.0];\n",
      "\t\"padumanabha(Malahari)\"\t[height=0.5,\n",
      "\t\tpos=\"761,90\",\n",
      "\t\twidth=3.4483];\n",
      "\t\"devadeva(Mayamalavagowla)\" -> \"padumanabha(Malahari)\"\t[pos=\"e,769.31,108.21 770.62,287.95 777.94,258.41 790.47,195.92 781,144 779.39,135.2 776.4,125.95 773.21,117.7\",\n",
      "\t\tweight=1.0];\n",
      "\t\"pancha_matanga(Malahari)\"\t[height=0.5,\n",
      "\t\tpos=\"601,162\",\n",
      "\t\twidth=3.8274];\n",
      "\t\"devadeva(Mayamalavagowla)\" -> \"pancha_matanga(Malahari)\"\t[pos=\"e,640.17,179.39 756.21,287.85 744.53,268.52 723.48,237.07 699,216 684.28,203.33 666.03,192.45 649.29,183.9\",\n",
      "\t\tweight=1.0];\n",
      "\t\"sree_gananatha(Malahari)\"\t[height=0.5,\n",
      "\t\tpos=\"180,18\",\n",
      "\t\twidth=3.683];\n",
      "\t\"devadeva(Mayamalavagowla)\" -> \"sree_gananatha(Malahari)\"\t[pos=\"e,312.43,19.313 788.38,288 839.91,246.94 957.75,140.66 894,72 856.02,31.095 519.81,21.5 322.59,19.415\",\n",
      "\t\tweight=1.0];\n",
      "\t\"kundagowra(Malahari)\"\t[height=0.5,\n",
      "\t\tpos=\"894,18\",\n",
      "\t\twidth=3.2317];\n",
      "\t\"devadeva(Mayamalavagowla)\" -> \"kundagowra(Malahari)\"\t[pos=\"e,907.98,35.962 866.33,292.63 889.93,284.77 912.42,272.15 927,252 973.9,187.19 948.99,148.92 927,72 924.24,62.357 919.17,52.76 913.81,\\\n",
      "44.437\",\n",
      "\t\tweight=1.0];\n",
      "\t\"mayayeetha_swaroopini(Mayamalavagowla)\" -> \"padumanabha(Malahari)\"\t[pos=\"e,646.02,96.923 438.88,215.72 436.34,195.68 435.72,162.97 454,144 479.18,117.87 562.32,104.57 635.73,97.831\",\n",
      "\t\tweight=1.0];\n",
      "\t\"mayayeetha_swaroopini(Mayamalavagowla)\" -> \"pancha_matanga(Malahari)\"\t[pos=\"e,563.77,179.39 480.08,216.23 502.47,206.38 530.93,193.85 554.62,183.42\",\n",
      "\t\tweight=1.0];\n",
      "\t\"mayayeetha_swaroopini(Mayamalavagowla)\" -> \"sree_gananatha(Malahari)\"\t[pos=\"e,183.81,36.172 338.59,218.18 311.12,210.34 283.01,198.34 261,180 218.67,144.72 196.24,81.785 186.37,45.942\",\n",
      "\t\tweight=1.0];\n",
      "\t\"mayayeetha_swaroopini(Mayamalavagowla)\" -> \"kundagowra(Malahari)\"\t[pos=\"e,804.45,29.524 434.75,215.69 427.97,196.51 420.81,165.46 435,144 474.53,84.188 671.56,48.01 794.28,30.921\",\n",
      "\t\tweight=1.0];\n",
      "\t\"padumanabha(Malahari)\" -> \"sree_gananatha(Malahari)\"\t[pos=\"e,275.49,30.505 668.94,77.908 564.68,65.347 395.11,44.917 285.57,31.72\",\n",
      "\t\tweight=1.0];\n",
      "\t\"padumanabha(Malahari)\" -> \"kundagowra(Malahari)\"\t[pos=\"e,862.71,35.47 792.52,72.411 810.82,62.778 834.07,50.544 853.69,40.216\",\n",
      "\t\tweight=1.0];\n",
      "\t\"pancha_matanga(Malahari)\" -> \"padumanabha(Malahari)\"\t[pos=\"e,724,107.19 638.51,144.59 661.26,134.63 690.47,121.86 714.66,111.27\",\n",
      "\t\tweight=1.0];\n",
      "\t\"pancha_matanga(Malahari)\" -> \"sree_gananatha(Malahari)\"\t[pos=\"e,226.98,34.846 553.52,144.99 475.44,118.65 320.23,66.299 236.57,38.081\",\n",
      "\t\tweight=1.0];\n",
      "\t\"pancha_matanga(Malahari)\" -> \"kundagowra(Malahari)\"\t[pos=\"e,796.78,27.894 601.21,143.86 602.43,123.63 607.66,90.437 628,72 651.43,50.76 723.5,37.218 786.71,29.143\",\n",
      "\t\tweight=1.0];\n",
      "\t\"meru_samana(Mayamalavagowla)\"\t[height=0.5,\n",
      "\t\tpos=\"835,522\",\n",
      "\t\twidth=4.676];\n",
      "\t\"meru_samana(Mayamalavagowla)\" -> \"devadeva(Mayamalavagowla)\"\t[pos=\"e,766.52,324.29 834,503.7 832.33,485.08 827.88,455.03 816,432 806.05,412.71 792.74,415.4 783,396 773.32,376.73 769.13,352.57 767.33,\\\n",
      "334.29\",\n",
      "\t\tweight=1.0];\n",
      "\t\"meru_samana(Mayamalavagowla)\" -> \"mayayeetha_swaroopini(Mayamalavagowla)\"\t[pos=\"e,441.22,252.28 690.74,512.72 572.36,504.41 421.21,489.71 402,468 380.21,443.38 409.55,427.49 419,396 432.71,350.32 438.34,294.83 \\\n",
      "440.58,262.36\",\n",
      "\t\tweight=1.0];\n",
      "\t\"meru_samana(Mayamalavagowla)\" -> \"padumanabha(Malahari)\"\t[pos=\"e,863.65,100.16 985.76,513.86 1075.5,500.53 1172,465.98 1172,379 1172,379 1172,379 1172,305 1172,170.02 995.45,120.05 873.78,101.64\",\n",
      "\t\tweight=1.0];\n",
      "\t\"meru_samana(Mayamalavagowla)\" -> \"pancha_matanga(Malahari)\"\t[pos=\"e,720.95,170.92 960.94,509.99 1042.7,495.12 1134,460.31 1134,379 1134,379 1134,379 1134,305 1134,221.9 889,186.21 731.21,171.84\",\n",
      "\t\tweight=1.0];\n",
      "\t\"meru_samana(Mayamalavagowla)\" -> \"sree_gananatha(Malahari)\"\t[pos=\"e,121.72,34.196 697.58,511.52 460.56,493.29 0,448.89 0,379 0,379 0,379 0,161 0,115.19 17.477,102.11 52,72 69.211,56.987 91.265,45.819 \\\n",
      "112.2,37.71\",\n",
      "\t\tweight=1.0];\n",
      "\t\"meru_samana(Mayamalavagowla)\" -> \"kundagowra(Malahari)\"\t[pos=\"e,1003.2,24.389 962.3,510.17 1036.3,501.88 1120.9,488.36 1152,468 1191.5,442.15 1210,426.21 1210,379 1210,379 1210,379 1210,161 \\\n",
      "1210,71.288 1102.7,37.911 1013.2,25.677\",\n",
      "\t\tweight=1.0];\n",
      "\t\"ksheerasagara(Mayamalavagowla)\"\t[height=0.5,\n",
      "\t\tpos=\"238,378\",\n",
      "\t\twidth=4.7662];\n",
      "\t\"meru_samana(Mayamalavagowla)\" -> \"ksheerasagara(Mayamalavagowla)\"\t[pos=\"e,256.73,396.15 692.93,512.33 578.16,503.94 426.59,489.35 369,468 329.16,453.23 289.68,423.86 264.65,402.9\",\n",
      "\t\tweight=1.0];\n",
      "\t\"vidulaku(Mayamalavgowla)\"\t[height=0.5,\n",
      "\t\tpos=\"930,378\",\n",
      "\t\twidth=3.8274];\n",
      "\t\"meru_samana(Mayamalavagowla)\" -> \"vidulaku(Mayamalavgowla)\"\t[pos=\"e,918.5,396.19 846.46,503.87 863.01,479.14 893.71,433.24 912.93,404.51\",\n",
      "\t\tweight=1.0];\n",
      "\t\"Sri Nadadi Guruguha(Mayamalavgowla)\"\t[height=0.5,\n",
      "\t\tpos=\"609,450\",\n",
      "\t\twidth=5.4884];\n",
      "\t\"meru_samana(Mayamalavagowla)\" -> \"Sri Nadadi Guruguha(Mayamalavgowla)\"\t[pos=\"e,662.05,467.43 782.87,504.85 749.74,494.59 706.67,481.25 671.68,470.42\",\n",
      "\t\tweight=1.0];\n",
      "\t\"ksheerasagara(Mayamalavagowla)\" -> \"devadeva(Mayamalavagowla)\"\t[pos=\"e,669.85,319.75 339.8,363.5 431.75,351.31 566.55,333.44 659.82,321.08\",\n",
      "\t\tweight=1.0];\n",
      "\t\"ksheerasagara(Mayamalavagowla)\" -> \"mayayeetha_swaroopini(Mayamalavagowla)\"\t[pos=\"e,417.51,252.05 262.2,360.15 298.76,334.71 368.14,286.41 409.2,257.83\",\n",
      "\t\tweight=1.0];\n",
      "\t\"ksheerasagara(Mayamalavagowla)\" -> \"padumanabha(Malahari)\"\t[pos=\"e,652.26,98.72 221.61,359.89 213.44,350.19 204.39,337.34 200,324 184.99,278.4 170.44,254.58 199,216 250.89,145.91 493.14,113.3 642.14,\\\n",
      "99.632\",\n",
      "\t\tweight=1.0];\n",
      "\t\"ksheerasagara(Mayamalavagowla)\" -> \"pancha_matanga(Malahari)\"\t[pos=\"e,483.75,171.52 228.47,359.99 211.79,327.68 182.29,256.99 218,216 234.9,196.6 368.91,181.43 473.71,172.38\",\n",
      "\t\tweight=1.0];\n",
      "\t\"ksheerasagara(Mayamalavagowla)\" -> \"sree_gananatha(Malahari)\"\t[pos=\"e,158.92,35.81 168.49,361.46 146.81,353.5 124.52,341.62 109,324 81.919,293.26 85,275.97 85,235 85,235 85,235 85,161 85,112.74 123.37,\\\n",
      "68.466 151.34,42.604\",\n",
      "\t\tweight=1.0];\n",
      "\t\"ksheerasagara(Mayamalavagowla)\" -> \"kundagowra(Malahari)\"\t[pos=\"e,783.35,23.641 214.5,360.05 203.52,350.74 191.47,338.21 185,324 165.08,280.27 154.38,256.65 180,216 259.06,90.534 338.76,113.97 \\\n",
      "481,72 576.94,43.691 689.83,30.5 773.32,24.356\",\n",
      "\t\tweight=1.0];\n",
      "\t\"vidulaku(Mayamalavgowla)\" -> \"devadeva(Mayamalavagowla)\"\t[pos=\"e,804.49,323.43 891.55,360.59 868.3,350.66 838.46,337.93 813.71,327.36\",\n",
      "\t\tweight=1.0];\n",
      "\t\"vidulaku(Mayamalavgowla)\" -> \"mayayeetha_swaroopini(Mayamalavagowla)\"\t[pos=\"e,467.41,251.96 817.51,367.5 754.91,359.98 676.27,346.79 609,324 560.36,307.52 508.86,277.99 476.13,257.48\",\n",
      "\t\tweight=1.0];\n",
      "\t\"vidulaku(Mayamalavgowla)\" -> \"padumanabha(Malahari)\"\t[pos=\"e,785.62,107.82 937.45,360.02 944.37,341.67 952.33,311.85 943,288 913.02,211.37 837.7,146.66 793.93,113.93\",\n",
      "\t\tweight=1.0];\n",
      "\t\"vidulaku(Mayamalavgowla)\" -> \"pancha_matanga(Malahari)\"\t[pos=\"e,650.1,178.86 933.65,359.74 936.72,340.31 938.45,308.77 923,288 906.57,265.91 748.06,211.2 659.73,182.03\",\n",
      "\t\tweight=1.0];\n",
      "\t\"vidulaku(Mayamalavgowla)\" -> \"sree_gananatha(Malahari)\"\t[pos=\"e,311.83,19.971 942.31,359.78 948.65,349.84 955.73,336.8 959,324 980.9,238.36 989.51,136.87 916,72 872.58,33.679 523.3,23.051 321.9,\\\n",
      "20.113\",\n",
      "\t\tweight=1.0];\n",
      "\t\"vidulaku(Mayamalavgowla)\" -> \"kundagowra(Malahari)\"\t[pos=\"e,971.07,31.509 1012.9,363.55 1035.6,355.75 1057.8,343.44 1072,324 1138.1,233.54 1146.4,161.47 1079,72 1066.5,55.482 1022.9,42.544 \\\n",
      "981.07,33.586\",\n",
      "\t\tweight=1.0];\n",
      "\t\"Sri Nadadi Guruguha(Mayamalavgowla)\" -> \"devadeva(Mayamalavagowla)\"\t[pos=\"e,746.99,324.19 627.94,431.87 655.76,406.71 707.78,359.65 739.42,331.04\",\n",
      "\t\tweight=1.0];\n",
      "\t\"Sri Nadadi Guruguha(Mayamalavgowla)\" -> \"mayayeetha_swaroopini(Mayamalavagowla)\"\t[pos=\"e,449.6,252.43 581.33,432.1 567.28,422.63 550.56,409.94 538,396 500.32,354.2 469.74,295.41 453.86,261.65\",\n",
      "\t\tweight=1.0];\n",
      "\t\"Sri Nadadi Guruguha(Mayamalavgowla)\" -> \"padumanabha(Malahari)\"\t[pos=\"e,761.43,108.26 603.55,431.9 594.68,400.64 580.81,333.34 609,288 628.1,257.28 653.06,273.71 682,252 716.73,225.95 729.37,219.21 \\\n",
      "748,180 757.14,160.75 760.23,136.74 761.12,118.51\",\n",
      "\t\tweight=1.0];\n",
      "\t\"Sri Nadadi Guruguha(Mayamalavgowla)\" -> \"pancha_matanga(Malahari)\"\t[pos=\"e,631.9,179.76 595.02,432.04 587.81,422.18 579.75,409.13 576,396 562.81,349.85 549.09,327.75 576,288 600.15,252.33 641.85,287.67 \\\n",
      "666,252 674.97,238.75 672.86,230.45 666,216 660.33,204.06 650.52,193.93 640.2,185.82\",\n",
      "\t\tweight=1.0];\n",
      "\t\"Sri Nadadi Guruguha(Mayamalavgowla)\" -> \"sree_gananatha(Malahari)\"\t[pos=\"e,144.17,35.464 430.21,442.26 279.75,434.9 84.735,420.73 57,396 26.809,369.08 38,347.45 38,307 38,307 38,307 38,161 38,105.13 93.637,\\\n",
      "63.568 135.26,40.291\",\n",
      "\t\tweight=1.0];\n",
      "\t\"Sri Nadadi Guruguha(Mayamalavgowla)\" -> \"kundagowra(Malahari)\"\t[pos=\"e,914.6,35.935 778.16,440.69 903.84,432.73 1056.9,418.55 1077,396 1177.3,283.66 995.72,106.47 922.55,42.783\",\n",
      "\t\tweight=1.0];\n",
      "\t\"Sri Nadadi Guruguha(Mayamalavgowla)\" -> \"ksheerasagara(Mayamalavagowla)\"\t[pos=\"e,317.44,393.99 527.12,433.55 468,422.4 388.19,407.34 327.41,395.87\",\n",
      "\t\tweight=1.0];\n",
      "\t\"Sri Nadadi Guruguha(Mayamalavgowla)\" -> \"vidulaku(Mayamalavgowla)\"\t[pos=\"e,862.48,393.72 681.44,433.2 732.42,422.08 800.58,407.22 852.63,395.87\",\n",
      "\t\tweight=1.0];\n",
      "}\n",
      "\n"
     ]
    }
   ],
   "source": [
    "\n",
    "draw.draw_causal_inference(dists, labels)"
   ],
   "metadata": {
    "collapsed": false,
    "pycharm": {
     "name": "#%%\n"
    }
   }
  },
  {
   "cell_type": "code",
   "execution_count": 7,
   "outputs": [
    {
     "name": "stdout",
     "output_type": "stream",
     "text": [
      "digraph \"\" {\n",
      "\tgraph [bb=\"0,0,2160.9,108\",\n",
      "\t\trankdir=TD\n",
      "\t];\n",
      "\tnode [label=\"\\N\"];\n",
      "\t\"devadeva(Mayamalavagowla)\"\t[height=0.5,\n",
      "\t\tpos=\"261.14,90\",\n",
      "\t\twidth=4.0982];\n",
      "\t\"padumanabha(Malahari)\"\t[height=0.5,\n",
      "\t\tpos=\"124.14,18\",\n",
      "\t\twidth=3.4483];\n",
      "\t\"devadeva(Mayamalavagowla)\" -> \"padumanabha(Malahari)\"\t[pos=\"e,156.37,35.47 228.67,72.411 209.73,62.734 185.66,50.433 165.39,40.076\",\n",
      "\t\tweight=1.0];\n",
      "\t\"sree_gananatha(Malahari)\"\t[height=0.5,\n",
      "\t\tpos=\"399.14,18\",\n",
      "\t\twidth=3.683];\n",
      "\t\"devadeva(Mayamalavagowla)\" -> \"sree_gananatha(Malahari)\"\t[pos=\"e,366.67,35.47 293.84,72.411 312.92,62.734 337.17,50.433 357.59,40.076\",\n",
      "\t\tweight=1.0];\n",
      "\t\"meru_samana(Mayamalavagowla)\"\t[height=0.5,\n",
      "\t\tpos=\"595.14,90\",\n",
      "\t\twidth=4.676];\n",
      "\t\"ksheerasagara(Mayamalavagowla)\"\t[height=0.5,\n",
      "\t\tpos=\"953.14,90\",\n",
      "\t\twidth=4.7662];\n",
      "\t\"mayayeetha_swaroopini(Mayamalavagowla)\"\t[height=0.5,\n",
      "\t\tpos=\"1358.1,90\",\n",
      "\t\twidth=5.9759];\n",
      "\t\"pancha_matanga(Malahari)\"\t[height=0.5,\n",
      "\t\tpos=\"1729.1,90\",\n",
      "\t\twidth=3.8274];\n",
      "\t\"vidulaku(Mayamalavgowla)\"\t[height=0.5,\n",
      "\t\tpos=\"2023.1,90\",\n",
      "\t\twidth=3.8274];\n",
      "}\n",
      "\n"
     ]
    }
   ],
   "source": [
    "draw.draw_causal_inference(dists[1], labels)"
   ],
   "metadata": {
    "collapsed": false,
    "pycharm": {
     "name": "#%%\n"
    }
   }
  },
  {
   "cell_type": "code",
   "execution_count": 8,
   "outputs": [
    {
     "name": "stdout",
     "output_type": "stream",
     "text": [
      "digraph \"\" {\n",
      "\tgraph [bb=\"0,0,825,540\",\n",
      "\t\trankdir=TD\n",
      "\t];\n",
      "\tnode [label=\"\\N\"];\n",
      "\t\"devadeva(Mayamalavagowla)\"\t[height=0.5,\n",
      "\t\tpos=\"446,234\",\n",
      "\t\twidth=4.0982];\n",
      "\t\"meru_samana(Mayamalavagowla)\"\t[height=0.5,\n",
      "\t\tpos=\"591,162\",\n",
      "\t\twidth=4.676];\n",
      "\t\"devadeva(Mayamalavagowla)\" -> \"meru_samana(Mayamalavagowla)\"\t[pos=\"e,556.38,179.71 480.36,216.41 500.35,206.76 525.75,194.5 547.16,184.16\",\n",
      "\t\tweight=1.0];\n",
      "\t\"ksheerasagara(Mayamalavagowla)\"\t[height=0.5,\n",
      "\t\tpos=\"408,18\",\n",
      "\t\twidth=4.7662];\n",
      "\t\"devadeva(Mayamalavagowla)\" -> \"ksheerasagara(Mayamalavagowla)\"\t[pos=\"e,405.86,36.379 432.62,215.92 425.69,206.02 417.88,192.98 414,180 400.48,134.73 402.19,79.111 404.92,46.506\",\n",
      "\t\tweight=1.0];\n",
      "\t\"vidulaku(Mayamalavgowla)\"\t[height=0.5,\n",
      "\t\tpos=\"242,90\",\n",
      "\t\twidth=3.8274];\n",
      "\t\"devadeva(Mayamalavagowla)\" -> \"vidulaku(Mayamalavgowla)\"\t[pos=\"e,266.17,107.82 421.8,216.15 385.14,190.64 315.49,142.15 274.47,113.6\",\n",
      "\t\tweight=1.0];\n",
      "\t\"meru_samana(Mayamalavagowla)\" -> \"vidulaku(Mayamalavgowla)\"\t[pos=\"e,313.88,105.42 515.7,145.9 459.16,134.56 381.81,119.04 323.76,107.4\",\n",
      "\t\tweight=1.0];\n",
      "\t\"ksheerasagara(Mayamalavagowla)\" -> \"meru_samana(Mayamalavagowla)\"\t[pos=\"e,568.93,143.87 429.87,35.968 462.53,61.316 524.17,109.14 561.01,137.73\",\n",
      "\t\tweight=1.0];\n",
      "\t\"vidulaku(Mayamalavgowla)\" -> \"ksheerasagara(Mayamalavagowla)\"\t[pos=\"e,368.75,35.552 280.92,72.588 304.37,62.698 334.44,50.019 359.44,39.477\",\n",
      "\t\tweight=1.0];\n",
      "\t\"mayayeetha_swaroopini(Mayamalavagowla)\"\t[height=0.5,\n",
      "\t\tpos=\"281,378\",\n",
      "\t\twidth=5.9759];\n",
      "\t\"mayayeetha_swaroopini(Mayamalavagowla)\" -> \"devadeva(Mayamalavagowla)\"\t[pos=\"e,446.99,252.22 367.35,361.47 389.55,353.62 411.5,341.79 427,324 441.71,307.11 445.95,281.64 446.81,262.27\",\n",
      "\t\tweight=1.0];\n",
      "\t\"mayayeetha_swaroopini(Mayamalavagowla)\" -> \"meru_samana(Mayamalavagowla)\"\t[pos=\"e,599.56,180.17 409.04,363.5 479.71,348.61 561.39,317.39 603,252 614.78,233.49 609.98,208.44 603.28,189.63\",\n",
      "\t\tweight=1.0];\n",
      "\t\"mayayeetha_swaroopini(Mayamalavagowla)\" -> \"ksheerasagara(Mayamalavagowla)\"\t[pos=\"e,264.9,27.979 189.82,361.65 120.87,344.21 38,308.05 38,235 38,235 38,235 38,161 38,118.16 41.352,98.511 75,72 103.27,49.725 181.21,\\\n",
      "36.621 254.59,29.016\",\n",
      "\t\tweight=1.0];\n",
      "\t\"mayayeetha_swaroopini(Mayamalavagowla)\" -> \"vidulaku(Mayamalavgowla)\"\t[pos=\"e,222.56,107.88 185.53,361.75 164.98,353.87 145.65,341.96 133,324 83.804,254.13 169.05,158.53 215.24,114.71\",\n",
      "\t\tweight=1.0];\n",
      "\t\"pancha_matanga(Malahari)\"\t[height=0.5,\n",
      "\t\tpos=\"280,306\",\n",
      "\t\twidth=3.8274];\n",
      "\t\"mayayeetha_swaroopini(Mayamalavagowla)\" -> \"pancha_matanga(Malahari)\"\t[pos=\"e,280.24,324.1 280.75,359.7 280.64,351.98 280.51,342.71 280.39,334.11\",\n",
      "\t\tweight=1.0];\n",
      "\t\"pancha_matanga(Malahari)\" -> \"devadeva(Mayamalavagowla)\"\t[pos=\"e,407.04,251.43 318.92,288.59 342.46,278.66 372.66,265.93 397.71,255.36\",\n",
      "\t\tweight=1.0];\n",
      "\t\"pancha_matanga(Malahari)\" -> \"meru_samana(Mayamalavagowla)\"\t[pos=\"e,448.79,171.68 276.22,287.81 272.93,267.85 271.13,235.22 289,216 310.11,193.29 374.57,180.27 438.54,172.83\",\n",
      "\t\tweight=1.0];\n",
      "\t\"pancha_matanga(Malahari)\" -> \"ksheerasagara(Mayamalavagowla)\"\t[pos=\"e,256.2,26.465 248.77,288.34 180.26,249.71 27.996,151.3 95,72 115.43,47.824 180.53,34.673 246.1,27.52\",\n",
      "\t\tweight=1.0];\n",
      "\t\"pancha_matanga(Malahari)\" -> \"vidulaku(Mayamalavgowla)\"\t[pos=\"e,232.05,108.02 250.82,288.17 238.25,279.2 224.87,266.92 218,252 197.91,208.4 207.87,190.92 218,144 219.96,134.92 223.61,125.52 \\\n",
      "227.49,117.2\",\n",
      "\t\tweight=1.0];\n",
      "\t\"padumanabha(Malahari)\"\t[height=0.5,\n",
      "\t\tpos=\"537,522\",\n",
      "\t\twidth=3.4483];\n",
      "\t\"padumanabha(Malahari)\" -> \"devadeva(Mayamalavagowla)\"\t[pos=\"e,520.18,249.64 619.05,508.48 642.25,500.73 664.97,488.21 679,468 688.12,454.86 683.1,447.47 679,432 660.15,360.8 653.55,335.18 \\\n",
      "597,288 577.78,271.96 553.39,260.65 529.85,252.72\",\n",
      "\t\tweight=1.0];\n",
      "\t\"padumanabha(Malahari)\" -> \"meru_samana(Mayamalavagowla)\"\t[pos=\"e,609.41,180.11 630.14,509.97 655.22,502.25 679.63,489.37 695,468 723.7,428.1 641.8,225 637,216 631.56,205.79 623.83,195.87 616.25,\\\n",
      "187.42\",\n",
      "\t\tweight=1.0];\n",
      "\t\"padumanabha(Malahari)\" -> \"ksheerasagara(Mayamalavagowla)\"\t[pos=\"e,545.15,28.875 639.75,511.89 722.46,498.24 825,464.15 825,379 825,379 825,379 825,161 825,96.37 769.11,98.128 710,72 661.84,50.715 \\\n",
      "605.82,37.966 555.2,30.334\",\n",
      "\t\tweight=1.0];\n",
      "\t\"padumanabha(Malahari)\" -> \"vidulaku(Mayamalavgowla)\"\t[pos=\"e,159.39,104.45 424.78,514.25 317.18,506.51 163.2,491.73 108,468 50.86,443.43 0,441.2 0,379 0,379 0,379 0,233 0,160.8 81.114,124.61 \\\n",
      "149.42,106.93\",\n",
      "\t\tweight=1.0];\n",
      "\t\"padumanabha(Malahari)\" -> \"mayayeetha_swaroopini(Mayamalavagowla)\"\t[pos=\"e,299.1,396.02 484.38,505.63 456.86,496.55 423.13,483.74 395,468 362.21,449.66 328.81,422.35 306.71,402.83\",\n",
      "\t\tweight=1.0];\n",
      "\t\"padumanabha(Malahari)\" -> \"pancha_matanga(Malahari)\"\t[pos=\"e,166.32,316.2 443.53,510.15 317.62,493.38 103.87,456.64 57,396 22.315,351.13 87.49,328.81 156.17,317.75\",\n",
      "\t\tweight=1.0];\n",
      "\t\"sree_gananatha(Malahari)\"\t[height=0.5,\n",
      "\t\tpos=\"537,450\",\n",
      "\t\twidth=3.683];\n",
      "\t\"padumanabha(Malahari)\" -> \"sree_gananatha(Malahari)\"\t[pos=\"e,537,468.1 537,503.7 537,495.98 537,486.71 537,478.11\",\n",
      "\t\tweight=1.0];\n",
      "\t\"sree_gananatha(Malahari)\" -> \"devadeva(Mayamalavagowla)\"\t[pos=\"e,522.3,249.47 553.89,431.99 562.29,422.31 571.58,409.46 576,396 590.97,350.39 602.78,327.84 576,288 565.45,272.3 549.34,261.25 \\\n",
      "532.02,253.47\",\n",
      "\t\tweight=1.0];\n",
      "\t\"sree_gananatha(Malahari)\" -> \"meru_samana(Mayamalavagowla)\"\t[pos=\"e,603.31,180.22 562.06,432.17 573.9,422.9 587.14,410.36 595,396 633.8,325.16 640.01,294.25 620,216 617.62,206.7 613.24,197.27 608.58,\\\n",
      "189\",\n",
      "\t\tweight=1.0];\n",
      "\t\"sree_gananatha(Malahari)\" -> \"ksheerasagara(Mayamalavagowla)\"\t[pos=\"e,494.95,33.637 584.02,433.14 656.44,405.39 787,340.7 787,235 787,235 787,235 787,161 787,100.81 617.25,57.581 504.95,35.572\",\n",
      "\t\tweight=1.0];\n",
      "\t\"sree_gananatha(Malahari)\" -> \"vidulaku(Mayamalavgowla)\"\t[pos=\"e,241.81,108.08 539.53,431.66 541.41,412.74 541.78,382.18 529,360 501.29,311.92 477.32,311.38 427,288 369.52,261.29 334.46,296.17 \\\n",
      "289,252 252.38,216.42 243.87,154.04 242.15,118.27\",\n",
      "\t\tweight=1.0];\n",
      "\t\"sree_gananatha(Malahari)\" -> \"mayayeetha_swaroopini(Mayamalavagowla)\"\t[pos=\"e,340.61,395.3 480.82,433.64 442.48,423.15 391.42,409.19 350.51,398.01\",\n",
      "\t\tweight=1.0];\n",
      "\t\"sree_gananatha(Malahari)\" -> \"pancha_matanga(Malahari)\"\t[pos=\"e,371.22,319.49 535.64,431.91 533.11,411.73 525.83,378.58 505,360 486.23,343.25 431.86,330.19 381.28,321.23\",\n",
      "\t\tweight=1.0];\n",
      "}\n",
      "\n"
     ]
    }
   ],
   "source": [
    "draw.draw_causal_inference(dists[0], labels)"
   ],
   "metadata": {
    "collapsed": false,
    "pycharm": {
     "name": "#%%\n"
    }
   }
  },
  {
   "cell_type": "code",
   "execution_count": 9,
   "outputs": [
    {
     "ename": "TypeError",
     "evalue": "object of type 'numpy.int64' has no len()",
     "output_type": "error",
     "traceback": [
      "\u001B[0;31m---------------------------------------------------------------------------\u001B[0m",
      "\u001B[0;31mTypeError\u001B[0m                                 Traceback (most recent call last)",
      "\u001B[0;32m<ipython-input-9-2f5dff8c1a8c>\u001B[0m in \u001B[0;36m<module>\u001B[0;34m\u001B[0m\n\u001B[1;32m      7\u001B[0m     \u001B[0;32mreturn\u001B[0m \u001B[0mdist_matrix\u001B[0m\u001B[0;34m\u001B[0m\u001B[0;34m\u001B[0m\u001B[0m\n\u001B[1;32m      8\u001B[0m \u001B[0;34m\u001B[0m\u001B[0m\n\u001B[0;32m----> 9\u001B[0;31m \u001B[0mdists\u001B[0m \u001B[0;34m=\u001B[0m \u001B[0mcalc_metrics\u001B[0m\u001B[0;34m(\u001B[0m\u001B[0;34m[\u001B[0m\u001B[0msong_coords1\u001B[0m\u001B[0;34m,\u001B[0m \u001B[0msong_coords2\u001B[0m\u001B[0;34m,\u001B[0m \u001B[0msong_coords3\u001B[0m\u001B[0;34m,\u001B[0m \u001B[0msong_coords4\u001B[0m\u001B[0;34m,\u001B[0m \u001B[0msong_coords5\u001B[0m\u001B[0;34m,\u001B[0m \u001B[0msong_coords6\u001B[0m\u001B[0;34m,\u001B[0m \u001B[0msong_coords7\u001B[0m\u001B[0;34m,\u001B[0m \u001B[0msong_coords8\u001B[0m\u001B[0;34m]\u001B[0m\u001B[0;34m)\u001B[0m\u001B[0;34m\u001B[0m\u001B[0;34m\u001B[0m\u001B[0m\n\u001B[0m\u001B[1;32m     10\u001B[0m \u001B[0;34m\u001B[0m\u001B[0m\n",
      "\u001B[0;32m<ipython-input-9-2f5dff8c1a8c>\u001B[0m in \u001B[0;36mcalc_metrics\u001B[0;34m(all_coords)\u001B[0m\n\u001B[1;32m      3\u001B[0m     \u001B[0;32mfor\u001B[0m \u001B[0mi\u001B[0m \u001B[0;32min\u001B[0m \u001B[0mrange\u001B[0m\u001B[0;34m(\u001B[0m\u001B[0mlen\u001B[0m\u001B[0;34m(\u001B[0m\u001B[0mall_coords\u001B[0m\u001B[0;34m)\u001B[0m\u001B[0;34m)\u001B[0m\u001B[0;34m:\u001B[0m\u001B[0;34m\u001B[0m\u001B[0;34m\u001B[0m\u001B[0m\n\u001B[1;32m      4\u001B[0m         \u001B[0;32mfor\u001B[0m \u001B[0mj\u001B[0m \u001B[0;32min\u001B[0m \u001B[0mrange\u001B[0m\u001B[0;34m(\u001B[0m\u001B[0mlen\u001B[0m\u001B[0;34m(\u001B[0m\u001B[0mall_coords\u001B[0m\u001B[0;34m)\u001B[0m\u001B[0;34m)\u001B[0m\u001B[0;34m:\u001B[0m\u001B[0;34m\u001B[0m\u001B[0;34m\u001B[0m\u001B[0m\n\u001B[0;32m----> 5\u001B[0;31m             \u001B[0mdist_matrix\u001B[0m\u001B[0;34m[\u001B[0m\u001B[0mi\u001B[0m\u001B[0;34m,\u001B[0m \u001B[0mj\u001B[0m\u001B[0;34m]\u001B[0m \u001B[0;34m=\u001B[0m \u001B[0mdistances\u001B[0m\u001B[0;34m.\u001B[0m\u001B[0mdtwEuclidean\u001B[0m\u001B[0;34m(\u001B[0m\u001B[0mall_coords\u001B[0m\u001B[0;34m[\u001B[0m\u001B[0mi\u001B[0m\u001B[0;34m]\u001B[0m\u001B[0;34m,\u001B[0m \u001B[0mall_coords\u001B[0m\u001B[0;34m[\u001B[0m\u001B[0mj\u001B[0m\u001B[0;34m]\u001B[0m\u001B[0;34m,\u001B[0m \u001B[0mlen\u001B[0m\u001B[0;34m(\u001B[0m\u001B[0mall_coords\u001B[0m\u001B[0;34m[\u001B[0m\u001B[0mi\u001B[0m\u001B[0;34m]\u001B[0m\u001B[0;34m)\u001B[0m\u001B[0;34m,\u001B[0m \u001B[0mlen\u001B[0m\u001B[0;34m(\u001B[0m\u001B[0mall_coords\u001B[0m\u001B[0;34m[\u001B[0m\u001B[0mj\u001B[0m\u001B[0;34m]\u001B[0m\u001B[0;34m)\u001B[0m\u001B[0;34m)\u001B[0m\u001B[0;34m\u001B[0m\u001B[0;34m\u001B[0m\u001B[0m\n\u001B[0m\u001B[1;32m      6\u001B[0m \u001B[0;34m\u001B[0m\u001B[0m\n\u001B[1;32m      7\u001B[0m     \u001B[0;32mreturn\u001B[0m \u001B[0mdist_matrix\u001B[0m\u001B[0;34m\u001B[0m\u001B[0;34m\u001B[0m\u001B[0m\n",
      "\u001B[0;32m~/PycharmProjects/pythonProject/utils/distances.py\u001B[0m in \u001B[0;36mdtwEuclidean\u001B[0;34m(X, Y, m, n)\u001B[0m\n\u001B[1;32m    143\u001B[0m \u001B[0;34m\u001B[0m\u001B[0m\n\u001B[1;32m    144\u001B[0m \u001B[0;32mdef\u001B[0m \u001B[0mdtwEuclidean\u001B[0m\u001B[0;34m(\u001B[0m\u001B[0mX\u001B[0m\u001B[0;34m,\u001B[0m \u001B[0mY\u001B[0m\u001B[0;34m,\u001B[0m \u001B[0mm\u001B[0m\u001B[0;34m,\u001B[0m \u001B[0mn\u001B[0m\u001B[0;34m)\u001B[0m\u001B[0;34m:\u001B[0m\u001B[0;34m\u001B[0m\u001B[0;34m\u001B[0m\u001B[0m\n\u001B[0;32m--> 145\u001B[0;31m     \u001B[0;32mif\u001B[0m \u001B[0mlen\u001B[0m\u001B[0;34m(\u001B[0m\u001B[0mX\u001B[0m\u001B[0;34m[\u001B[0m\u001B[0;36m0\u001B[0m\u001B[0;34m]\u001B[0m\u001B[0;34m)\u001B[0m \u001B[0;34m!=\u001B[0m \u001B[0;36m3\u001B[0m \u001B[0;32mor\u001B[0m \u001B[0mlen\u001B[0m\u001B[0;34m(\u001B[0m\u001B[0mY\u001B[0m\u001B[0;34m[\u001B[0m\u001B[0;36m0\u001B[0m\u001B[0;34m]\u001B[0m\u001B[0;34m)\u001B[0m  \u001B[0;34m!=\u001B[0m \u001B[0;36m3\u001B[0m\u001B[0;34m:\u001B[0m\u001B[0;34m\u001B[0m\u001B[0;34m\u001B[0m\u001B[0m\n\u001B[0m\u001B[1;32m    146\u001B[0m         \u001B[0;32mraise\u001B[0m \u001B[0mValueError\u001B[0m\u001B[0;34m(\u001B[0m\u001B[0;34m\"Threee dimensional data expected. One or both of X and Y are not three dimensional\"\u001B[0m\u001B[0;34m)\u001B[0m\u001B[0;34m\u001B[0m\u001B[0;34m\u001B[0m\u001B[0m\n\u001B[1;32m    147\u001B[0m     \u001B[0mdtw\u001B[0m \u001B[0;34m=\u001B[0m \u001B[0mnp\u001B[0m\u001B[0;34m.\u001B[0m\u001B[0mzeros\u001B[0m\u001B[0;34m(\u001B[0m\u001B[0;34m(\u001B[0m\u001B[0mm\u001B[0m \u001B[0;34m+\u001B[0m \u001B[0;36m1\u001B[0m\u001B[0;34m,\u001B[0m \u001B[0mn\u001B[0m \u001B[0;34m+\u001B[0m \u001B[0;36m1\u001B[0m\u001B[0;34m)\u001B[0m\u001B[0;34m,\u001B[0m \u001B[0mdtype\u001B[0m\u001B[0;34m=\u001B[0m\u001B[0;34m'int64'\u001B[0m\u001B[0;34m)\u001B[0m\u001B[0;34m\u001B[0m\u001B[0;34m\u001B[0m\u001B[0m\n",
      "\u001B[0;31mTypeError\u001B[0m: object of type 'numpy.int64' has no len()"
     ]
    }
   ],
   "source": [],
   "metadata": {
    "collapsed": false,
    "pycharm": {
     "name": "#%%\n"
    }
   }
  },
  {
   "cell_type": "code",
   "execution_count": null,
   "outputs": [],
   "source": [],
   "metadata": {
    "collapsed": false,
    "pycharm": {
     "name": "#%%\n"
    }
   }
  }
 ],
 "metadata": {
  "kernelspec": {
   "display_name": "Python 3",
   "language": "python",
   "name": "python3"
  },
  "language_info": {
   "codemirror_mode": {
    "name": "ipython",
    "version": 2
   },
   "file_extension": ".py",
   "mimetype": "text/x-python",
   "name": "python",
   "nbconvert_exporter": "python",
   "pygments_lexer": "ipython2",
   "version": "2.7.6"
  }
 },
 "nbformat": 4,
 "nbformat_minor": 0
}