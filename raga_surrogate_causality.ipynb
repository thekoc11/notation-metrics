{
 "cells": [
  {
   "cell_type": "markdown",
   "source": [
    "# Causal Analysis of Carnatic Music: Surrogate Analysis\n",
    "\n",
    "This notebook features the updated code for Causal inference of Carnatic music compositions.\n",
    "We rely on surrogate compositions generated using single order Markov Chains to\n",
    "verify our results/solidify our theory. `utils.generators.markovian` is a module that\n",
    "decodes a _raga_ as a Markov chain and uses it's stationary distribution to generate\n",
    "surrogate compositions. The flow of logic is as follows:\n",
    "\n",
    "- <u>*Step 1: Data Extraction*</u>: Parsed notations are extracted from the respective file in `dataset.BASE_PATH` (`dataset` is one of the import scripts). The files under `dataset.BASE_PATH` that are relevant are saved as `<ragaId>/<composition_name>-parsed.txt`\n",
    "- <u>*Step 2: Surrogate Generation*</u>: The _raga_ is visualised as a Markov Chain, and using its stationary state, new compositions are generated. These new compositions are then added to the dataset.\n",
    "- <u>*Step 3: Data Processing*</u>: The whole dataset then undergoes conversion to adjusted melody, i.e. the pitch indices are repeated a particular number of times proportional to the note-event duration,\n",
    "- <u>*Step 4: Causal Analysis*</u>: The adjusted melodies are then chosen pairwise, and every pair is used as an argument for `ETC.CCM_Causality()`. In this manner, causality is inferred for each pair."
   ],
   "metadata": {
    "collapsed": false,
    "pycharm": {
     "name": "#%% md\n"
    }
   }
  },
  {
   "cell_type": "code",
   "execution_count": 1,
   "metadata": {
    "collapsed": true
   },
   "outputs": [],
   "source": [
    "import time\n",
    "\n",
    "from utils import dataStructures, dataset, parallelizer\n",
    "from utils.generators import markovian\n",
    "import numpy as np\n",
    "import os"
   ]
  },
  {
   "cell_type": "markdown",
   "source": [
    "A lambda function to calculate the average of a given array/list"
   ],
   "metadata": {
    "collapsed": false
   }
  },
  {
   "cell_type": "code",
   "execution_count": 2,
   "outputs": [],
   "source": [
    "avg_conns = lambda t_c : np.array(t_c).mean()"
   ],
   "metadata": {
    "collapsed": false,
    "pycharm": {
     "name": "#%%\n"
    }
   }
  },
  {
   "cell_type": "code",
   "execution_count": null,
   "outputs": [],
   "source": [
    "# utility function; should only be invoked inside a function\n",
    "def _print_correct(mela_id='22', janya_id='22_a', num_surr=100, surr_serial=False, time_cal=None, pre_length=None):\n",
    "    # Data Extraction\n",
    "    dat = dataset.GetRagaSongCoordsConcat(mela_id, janya_id)\n",
    "    # dat1 = dataset.GetRagaSongCoords(janya_id)\n",
    "    if time_cal is not None:\n",
    "        assert isinstance(time_cal, dict)\n",
    "    print(\"Starting surrogate generation...\")\n",
    "    t1 = time.perf_counter()\n",
    "\n",
    "    # Surrogate Generation\n",
    "    d_surr1 = markovian.GenerateForRaga(mela_id, num_surr, serial=surr_serial)\n",
    "    d_surr2 = markovian.GenerateForRaga(janya_id, num_surr, serial=surr_serial)\n",
    "    t2 = time.perf_counter()\n",
    "    for key in dat:\n",
    "        dat[key] = dataStructures.PackTuples(*dat[key])\n",
    "\n",
    "    # for key in dat1:\n",
    "    #     dat1[key] = dataStructures.PackTuples(*dat1[key])\n",
    "\n",
    "    d_fin1 = dataset.ConcatenateDicts(dat, d_surr1, d_surr2)\n",
    "\n",
    "    # Data Processing\n",
    "    adj = dataset.GetAdjustedMelodies(d_fin1, pre_min_len=pre_length)\n",
    "    print(f\"adjusted Melody length: {len(list(adj.values())[0])}\")\n",
    "    print(\"finding causality....\")\n",
    "    t3 = time.perf_counter()\n",
    "\n",
    "    # Causal Analysis\n",
    "    tc, totc, strengths = parallelizer.TrueLZPCausality_listParallel(list(adj.values()), list(adj.keys()), mela=dataset.GetRagaFromRagaId(mela_id))\n",
    "    t4 = time.perf_counter()\n",
    "\n",
    "    if time_cal is not None:\n",
    "        time_cal[\"Surrogate{}\".format(mela_id)] = t2 - t1\n",
    "        time_cal[\"Causality{}\".format(mela_id)] = t4 - t3\n",
    "    return tc, totc, strengths\n",
    "\n",
    "#Deprecated\n",
    "# def get_generation_time50(mela_id='22', janya_id='22_a', surr_serial=True):\n",
    "#     dat = dataset.GetRagaSongCoordsConcat(mela_id)\n",
    "#     dat1 = dataset.GetRagaSongCoords(janya_id)\n",
    "#     print(\"Starting surrogate generation...\")\n",
    "#     t1 = time.perf_counter()\n",
    "#     d_surr1 = markovian.GenerateForRaga(mela_id, 50, serial=surr_serial)\n",
    "#     d_surr2 = markovian.GenerateForRaga(janya_id, 50, serial=surr_serial)\n",
    "#     t2 = time.perf_counter()\n",
    "#     for key in dat:\n",
    "#         dat[key] = dataStructures.PackTuples(*dat[key])\n",
    "#\n",
    "#     for key in dat1:\n",
    "#         dat1[key] = dataStructures.PackTuples(*dat1[key])\n",
    "#\n",
    "#     d_fin1 = dataset.ConcatenateDicts(dat, d_surr1, dat1, d_surr2)\n",
    "#     adj = dataset.GetAdjustedMelodies(d_fin1)\n",
    "#\n",
    "#     return t2 - t1\n",
    "\n",
    "# utility function; should only be invoked inside a function\n",
    "def _ragaIterator(n_iters, mela, janya, num_surrogates=100, write=True, times_it=None, pre_length=None):\n",
    "    if times_it is not None:\n",
    "        assert isinstance(times_it, dict)\n",
    "        times_it[\"Surrogate{}\".format(mela)] = []\n",
    "        times_it[\"Causality{}\".format(mela)] = []\n",
    "    p = pre_length if pre_length is not None else ''\n",
    "    tcs = []\n",
    "    strengths = []\n",
    "    totcs = []\n",
    "    f = open(\"/home/efm-workstation/surr_stats/{}/truecauses{}_{}.txt\".format(mela, num_surrogates, p), \"w\")\n",
    "    t1 = time.perf_counter()\n",
    "    for i in range(n_iters):\n",
    "        print(\"iteration: \", i + 1)\n",
    "        tm = {}\n",
    "        tc, totc, st = _print_correct(mela, janya, num_surr=num_surrogates, surr_serial=True, time_cal=tm, pre_length=pre_length)\n",
    "\n",
    "        if times_it is not None:\n",
    "            times_it[\"Surrogate{}\".format(mela)].append(tm[\"Surrogate{}\".format(mela)])\n",
    "            times_it[\"Causality{}\".format(mela)].append(tm[\"Causality{}\".format(mela)])\n",
    "        if write:\n",
    "            f.write(\"iteration: {}/{}, {}/{}; time taken: {}/{}\\n\".format(i+1, n_iters, tc, totc,\n",
    "                                                                          tm[\"Surrogate{}\".format(mela)],\n",
    "                                                                          tm[\"Causality{}\".format(mela)]))\n",
    "        t = time.perf_counter()\n",
    "        print(\"time elapsed: \", (t - t1))\n",
    "        t1 = t\n",
    "        tcs.append(tc)\n",
    "        totcs.append(totc)\n",
    "        strengths.append(st)\n",
    "    f.write(\"\\n Average Connections: {}/{};\\t Avg. time taken: {}/{}\\n\".format(avg_conns(tcs), totcs[-1],\n",
    "                                                                               avg_conns(times_it[\"Surrogate{}\".format(mela)]),\n",
    "                                                                               avg_conns(times_it[\"Causality{}\".format(mela)])))\n",
    "    f.close()\n",
    "    return tcs, totcs, strengths"
   ],
   "metadata": {
    "collapsed": false,
    "pycharm": {
     "name": "#%%\n"
    }
   }
  },
  {
   "cell_type": "markdown",
   "source": [
    "The `run` function defined below is used to \"run\" the experiments of Causal Analysis.\n",
    "The arguments to this function are the required *Melakarta* and *Janya raga*, number\n",
    "of surrogate compositions to be generated per raga (0 means no surrogates will be generated),\n",
    "the number of iteration the experiment needs to be repeated, and a pre-defined constant length,\n",
    "which is usually helpful if it is desirable to have all the compositions across all the\n",
    "*raga* to be of the sane length.\n",
    "\n",
    "> Note: the length of a composition, as explained in the article as well, is the total number of note events in it."
   ],
   "metadata": {
    "collapsed": false,
    "pycharm": {
     "name": "#%% md\n"
    }
   }
  },
  {
   "cell_type": "code",
   "execution_count": null,
   "outputs": [],
   "source": [
    "def run(mela, janya, num_surrogates=50, num_iterations=10, const_len=None):\n",
    "    t_dict = {}\n",
    "    tc, totc, ss = _ragaIterator(num_iterations, mela, janya, num_surrogates=num_surrogates, times_it=t_dict, pre_length=const_len)\n",
    "    os.system(\"cat /home/efm-workstation/surr_stats/{}/truecauses{}.txt\".format(mela, janya))\n",
    "    print(f\"{avg_conns(tc)}/{totc[-1]}, {avg_conns(t_dict['Surrogate{}'.format(mela)])}, {avg_conns(t_dict['Causality{}'.format(mela)])}\")"
   ],
   "metadata": {
    "collapsed": false,
    "pycharm": {
     "name": "#%%\n"
    }
   }
  },
  {
   "cell_type": "markdown",
   "source": [
    "## 100 Surrogates"
   ],
   "metadata": {
    "collapsed": false,
    "pycharm": {
     "name": "#%% md\n"
    }
   }
  },
  {
   "cell_type": "code",
   "execution_count": 4,
   "outputs": [
    {
     "name": "stdout",
     "output_type": "stream",
     "text": [
      "iteration:  1\n",
      "Starting surrogate generation...\n"
     ]
    },
    {
     "name": "stderr",
     "output_type": "stream",
     "text": [
      "100%|██████████| 100/100 [00:34<00:00,  2.87it/s]\n",
      "100%|██████████| 100/100 [00:40<00:00,  2.46it/s]\n"
     ]
    },
    {
     "name": "stdout",
     "output_type": "stream",
     "text": [
      "adjusted Melody length: 43680\n",
      "finding causality....\n",
      "1523 true causes out of 11448 total connections\n",
      "time elapsed:  811.9294139250123\n",
      "iteration:  2\n",
      "Starting surrogate generation...\n"
     ]
    },
    {
     "name": "stderr",
     "output_type": "stream",
     "text": [
      "100%|██████████| 100/100 [00:26<00:00,  3.73it/s]\n",
      "100%|██████████| 100/100 [00:38<00:00,  2.62it/s]\n"
     ]
    },
    {
     "name": "stdout",
     "output_type": "stream",
     "text": [
      "adjusted Melody length: 43680\n",
      "finding causality....\n",
      "1432 true causes out of 11448 total connections\n",
      "time elapsed:  800.6072855200036\n",
      "iteration:  3\n",
      "Starting surrogate generation...\n"
     ]
    },
    {
     "name": "stderr",
     "output_type": "stream",
     "text": [
      "100%|██████████| 100/100 [01:24<00:00,  1.19it/s]\n",
      "100%|██████████| 100/100 [00:44<00:00,  2.22it/s]\n"
     ]
    },
    {
     "name": "stdout",
     "output_type": "stream",
     "text": [
      "adjusted Melody length: 43680\n",
      "finding causality....\n",
      "1402 true causes out of 11448 total connections\n",
      "time elapsed:  877.2817470299779\n",
      "iteration:  4\n",
      "Starting surrogate generation...\n"
     ]
    },
    {
     "name": "stderr",
     "output_type": "stream",
     "text": [
      "100%|██████████| 100/100 [00:31<00:00,  3.19it/s]\n",
      "100%|██████████| 100/100 [00:44<00:00,  2.22it/s]\n"
     ]
    },
    {
     "name": "stdout",
     "output_type": "stream",
     "text": [
      "adjusted Melody length: 43680\n",
      "finding causality....\n",
      "1465 true causes out of 11448 total connections\n",
      "time elapsed:  822.0890845490212\n",
      "iteration:  5\n",
      "Starting surrogate generation...\n"
     ]
    },
    {
     "name": "stderr",
     "output_type": "stream",
     "text": [
      "100%|██████████| 100/100 [00:39<00:00,  2.55it/s]\n",
      "100%|██████████| 100/100 [01:56<00:00,  1.17s/it]\n"
     ]
    },
    {
     "name": "stdout",
     "output_type": "stream",
     "text": [
      "adjusted Melody length: 43680\n",
      "finding causality....\n",
      "1347 true causes out of 11448 total connections\n",
      "time elapsed:  884.9251209590002\n",
      "iteration:  6\n",
      "Starting surrogate generation...\n"
     ]
    },
    {
     "name": "stderr",
     "output_type": "stream",
     "text": [
      "100%|██████████| 100/100 [00:39<00:00,  2.50it/s]\n",
      "100%|██████████| 100/100 [00:33<00:00,  3.01it/s]\n"
     ]
    },
    {
     "name": "stdout",
     "output_type": "stream",
     "text": [
      "adjusted Melody length: 43680\n",
      "finding causality....\n",
      "1555 true causes out of 11448 total connections\n",
      "time elapsed:  805.526780907996\n",
      "iteration:  7\n",
      "Starting surrogate generation...\n"
     ]
    },
    {
     "name": "stderr",
     "output_type": "stream",
     "text": [
      "100%|██████████| 100/100 [02:55<00:00,  1.76s/it]\n",
      "100%|██████████| 100/100 [04:21<00:00,  2.61s/it]\n"
     ]
    },
    {
     "name": "stdout",
     "output_type": "stream",
     "text": [
      "adjusted Melody length: 43680\n",
      "finding causality....\n",
      "1762 true causes out of 11448 total connections\n",
      "time elapsed:  1196.9427363919967\n",
      "iteration:  8\n",
      "Starting surrogate generation...\n"
     ]
    },
    {
     "name": "stderr",
     "output_type": "stream",
     "text": [
      "100%|██████████| 100/100 [00:33<00:00,  2.98it/s]\n",
      "100%|██████████| 100/100 [00:44<00:00,  2.26it/s]\n"
     ]
    },
    {
     "name": "stdout",
     "output_type": "stream",
     "text": [
      "adjusted Melody length: 43680\n",
      "finding causality....\n",
      "1390 true causes out of 11448 total connections\n",
      "time elapsed:  834.0781677349878\n",
      "iteration:  9\n",
      "Starting surrogate generation...\n"
     ]
    },
    {
     "name": "stderr",
     "output_type": "stream",
     "text": [
      "100%|██████████| 100/100 [00:50<00:00,  1.98it/s]\n",
      "100%|██████████| 100/100 [06:22<00:00,  3.83s/it] \n"
     ]
    },
    {
     "name": "stdout",
     "output_type": "stream",
     "text": [
      "adjusted Melody length: 43680\n",
      "finding causality....\n",
      "1905 true causes out of 11448 total connections\n",
      "time elapsed:  1186.0688038060034\n",
      "iteration:  10\n",
      "Starting surrogate generation...\n"
     ]
    },
    {
     "name": "stderr",
     "output_type": "stream",
     "text": [
      "100%|██████████| 100/100 [00:30<00:00,  3.29it/s]\n",
      "100%|██████████| 100/100 [00:31<00:00,  3.14it/s]\n"
     ]
    },
    {
     "name": "stdout",
     "output_type": "stream",
     "text": [
      "adjusted Melody length: 43680\n",
      "finding causality....\n",
      "1901 true causes out of 11448 total connections\n",
      "time elapsed:  801.7876324350073\n",
      "1568.2/11448, 160.9038748799998, 713.9253761178988\n",
      "iteration:  1\n",
      "Starting surrogate generation...\n"
     ]
    },
    {
     "name": "stderr",
     "output_type": "stream",
     "text": [
      "100%|██████████| 100/100 [01:11<00:00,  1.39it/s]\n",
      "100%|██████████| 100/100 [00:32<00:00,  3.07it/s]\n"
     ]
    },
    {
     "name": "stdout",
     "output_type": "stream",
     "text": [
      "adjusted Melody length: 43680\n",
      "finding causality....\n",
      "8614 true causes out of 11024 total connections\n",
      "time elapsed:  691.458102945995\n",
      "iteration:  2\n",
      "Starting surrogate generation...\n"
     ]
    },
    {
     "name": "stderr",
     "output_type": "stream",
     "text": [
      "100%|██████████| 100/100 [00:34<00:00,  2.87it/s]\n",
      "100%|██████████| 100/100 [00:31<00:00,  3.15it/s]\n"
     ]
    },
    {
     "name": "stdout",
     "output_type": "stream",
     "text": [
      "adjusted Melody length: 43680\n",
      "finding causality....\n",
      "7421 true causes out of 11024 total connections\n",
      "time elapsed:  652.7021302609937\n",
      "iteration:  3\n",
      "Starting surrogate generation...\n"
     ]
    },
    {
     "name": "stderr",
     "output_type": "stream",
     "text": [
      "100%|██████████| 100/100 [00:58<00:00,  1.71it/s]\n",
      "100%|██████████| 100/100 [00:30<00:00,  3.28it/s]\n"
     ]
    },
    {
     "name": "stdout",
     "output_type": "stream",
     "text": [
      "adjusted Melody length: 43680\n",
      "finding causality....\n",
      "8811 true causes out of 11024 total connections\n",
      "time elapsed:  675.156562129996\n",
      "iteration:  4\n",
      "Starting surrogate generation...\n"
     ]
    },
    {
     "name": "stderr",
     "output_type": "stream",
     "text": [
      "100%|██████████| 100/100 [00:35<00:00,  2.84it/s]\n",
      "100%|██████████| 100/100 [00:33<00:00,  2.96it/s]\n"
     ]
    },
    {
     "name": "stdout",
     "output_type": "stream",
     "text": [
      "adjusted Melody length: 43680\n",
      "finding causality....\n",
      "7753 true causes out of 11024 total connections\n",
      "time elapsed:  656.5196936519933\n",
      "iteration:  5\n",
      "Starting surrogate generation...\n"
     ]
    },
    {
     "name": "stderr",
     "output_type": "stream",
     "text": [
      "100%|██████████| 100/100 [06:52<00:00,  4.13s/it]\n",
      "100%|██████████| 100/100 [00:31<00:00,  3.19it/s]\n"
     ]
    },
    {
     "name": "stdout",
     "output_type": "stream",
     "text": [
      "adjusted Melody length: 43680\n",
      "finding causality....\n",
      "7664 true causes out of 11024 total connections\n",
      "time elapsed:  1034.295808224997\n",
      "iteration:  6\n",
      "Starting surrogate generation...\n"
     ]
    },
    {
     "name": "stderr",
     "output_type": "stream",
     "text": [
      "100%|██████████| 100/100 [00:42<00:00,  2.34it/s]\n",
      "100%|██████████| 100/100 [01:36<00:00,  1.04it/s]\n"
     ]
    },
    {
     "name": "stdout",
     "output_type": "stream",
     "text": [
      "adjusted Melody length: 43680\n",
      "finding causality....\n",
      "8430 true causes out of 11024 total connections\n",
      "time elapsed:  722.6590316360234\n",
      "iteration:  7\n",
      "Starting surrogate generation...\n"
     ]
    },
    {
     "name": "stderr",
     "output_type": "stream",
     "text": [
      "100%|██████████| 100/100 [00:31<00:00,  3.22it/s]\n",
      "100%|██████████| 100/100 [00:25<00:00,  4.00it/s]\n"
     ]
    },
    {
     "name": "stdout",
     "output_type": "stream",
     "text": [
      "adjusted Melody length: 43680\n",
      "finding causality....\n",
      "8144 true causes out of 11024 total connections\n",
      "time elapsed:  637.0942001130024\n",
      "iteration:  8\n",
      "Starting surrogate generation...\n"
     ]
    },
    {
     "name": "stderr",
     "output_type": "stream",
     "text": [
      "100%|██████████| 100/100 [00:35<00:00,  2.82it/s]\n",
      "100%|██████████| 100/100 [00:34<00:00,  2.91it/s]\n"
     ]
    },
    {
     "name": "stdout",
     "output_type": "stream",
     "text": [
      "adjusted Melody length: 43680\n",
      "finding causality....\n",
      "8791 true causes out of 11024 total connections\n",
      "time elapsed:  657.3160438409832\n",
      "iteration:  9\n",
      "Starting surrogate generation...\n"
     ]
    },
    {
     "name": "stderr",
     "output_type": "stream",
     "text": [
      "100%|██████████| 100/100 [00:24<00:00,  4.10it/s]\n",
      "100%|██████████| 100/100 [02:13<00:00,  1.33s/it]\n"
     ]
    },
    {
     "name": "stdout",
     "output_type": "stream",
     "text": [
      "adjusted Melody length: 43680\n",
      "finding causality....\n",
      "8320 true causes out of 11024 total connections\n",
      "time elapsed:  735.6349998739897\n",
      "iteration:  10\n",
      "Starting surrogate generation...\n"
     ]
    },
    {
     "name": "stderr",
     "output_type": "stream",
     "text": [
      "100%|██████████| 100/100 [00:32<00:00,  3.11it/s]\n",
      "100%|██████████| 100/100 [00:41<00:00,  2.39it/s]\n"
     ]
    },
    {
     "name": "stdout",
     "output_type": "stream",
     "text": [
      "adjusted Melody length: 43680\n",
      "finding causality....\n",
      "8380 true causes out of 11024 total connections\n",
      "time elapsed:  657.1555884560221\n",
      "8232.8/11024, 127.85673798049683, 557.1754275367014\n"
     ]
    }
   ],
   "source": [
    "run('8', '8_d', num_surrogates=100, const_len=43680)\n",
    "run('15', '15_m', num_surrogates=100, const_len=43680)"
   ],
   "metadata": {
    "collapsed": false,
    "pycharm": {
     "name": "#%%\n"
    }
   }
  },
  {
   "cell_type": "code",
   "execution_count": 5,
   "outputs": [
    {
     "name": "stdout",
     "output_type": "stream",
     "text": [
      "iteration:  1\n",
      "Starting surrogate generation...\n"
     ]
    },
    {
     "name": "stderr",
     "output_type": "stream",
     "text": [
      "100%|██████████| 100/100 [03:36<00:00,  2.17s/it]\n",
      "100%|██████████| 100/100 [02:41<00:00,  1.61s/it]\n"
     ]
    },
    {
     "name": "stdout",
     "output_type": "stream",
     "text": [
      "adjusted Melody length: 43680\n",
      "finding causality....\n",
      "7371 true causes out of 10918 total connections\n",
      "time elapsed:  1009.0824446390034\n",
      "iteration:  2\n",
      "Starting surrogate generation...\n"
     ]
    },
    {
     "name": "stderr",
     "output_type": "stream",
     "text": [
      "100%|██████████| 100/100 [00:34<00:00,  2.90it/s]\n",
      "100%|██████████| 100/100 [00:29<00:00,  3.38it/s]\n"
     ]
    },
    {
     "name": "stdout",
     "output_type": "stream",
     "text": [
      "adjusted Melody length: 43680\n",
      "finding causality....\n",
      "6635 true causes out of 10918 total connections\n",
      "time elapsed:  697.2316013179952\n",
      "iteration:  3\n",
      "Starting surrogate generation...\n"
     ]
    },
    {
     "name": "stderr",
     "output_type": "stream",
     "text": [
      "100%|██████████| 100/100 [00:34<00:00,  2.91it/s]\n",
      "100%|██████████| 100/100 [02:02<00:00,  1.23s/it]\n"
     ]
    },
    {
     "name": "stdout",
     "output_type": "stream",
     "text": [
      "adjusted Melody length: 43680\n",
      "finding causality....\n",
      "6974 true causes out of 10918 total connections\n",
      "time elapsed:  786.2040611260163\n",
      "iteration:  4\n",
      "Starting surrogate generation...\n"
     ]
    },
    {
     "name": "stderr",
     "output_type": "stream",
     "text": [
      "100%|██████████| 100/100 [00:44<00:00,  2.25it/s]\n",
      "100%|██████████| 100/100 [02:17<00:00,  1.38s/it]\n"
     ]
    },
    {
     "name": "stdout",
     "output_type": "stream",
     "text": [
      "adjusted Melody length: 43680\n",
      "finding causality....\n",
      "6773 true causes out of 10918 total connections\n",
      "time elapsed:  814.7665863439906\n",
      "iteration:  5\n",
      "Starting surrogate generation...\n"
     ]
    },
    {
     "name": "stderr",
     "output_type": "stream",
     "text": [
      "100%|██████████| 100/100 [00:39<00:00,  2.55it/s]\n",
      "100%|██████████| 100/100 [00:36<00:00,  2.70it/s]\n"
     ]
    },
    {
     "name": "stdout",
     "output_type": "stream",
     "text": [
      "adjusted Melody length: 43680\n",
      "finding causality....\n",
      "6927 true causes out of 10918 total connections\n",
      "time elapsed:  703.3311869910103\n",
      "iteration:  6\n",
      "Starting surrogate generation...\n"
     ]
    },
    {
     "name": "stderr",
     "output_type": "stream",
     "text": [
      "100%|██████████| 100/100 [00:33<00:00,  3.02it/s]\n",
      "100%|██████████| 100/100 [01:08<00:00,  1.46it/s]\n"
     ]
    },
    {
     "name": "stdout",
     "output_type": "stream",
     "text": [
      "adjusted Melody length: 43680\n",
      "finding causality....\n",
      "6486 true causes out of 10918 total connections\n",
      "time elapsed:  733.2076619639993\n",
      "iteration:  7\n",
      "Starting surrogate generation...\n"
     ]
    },
    {
     "name": "stderr",
     "output_type": "stream",
     "text": [
      "100%|██████████| 100/100 [00:36<00:00,  2.76it/s]\n",
      "100%|██████████| 100/100 [00:38<00:00,  2.58it/s]\n"
     ]
    },
    {
     "name": "stdout",
     "output_type": "stream",
     "text": [
      "adjusted Melody length: 43680\n",
      "finding causality....\n",
      "6273 true causes out of 10918 total connections\n",
      "time elapsed:  703.0876284959959\n",
      "iteration:  8\n",
      "Starting surrogate generation...\n"
     ]
    },
    {
     "name": "stderr",
     "output_type": "stream",
     "text": [
      "100%|██████████| 100/100 [01:16<00:00,  1.30it/s]\n",
      "100%|██████████| 100/100 [00:29<00:00,  3.37it/s]\n"
     ]
    },
    {
     "name": "stdout",
     "output_type": "stream",
     "text": [
      "adjusted Melody length: 43680\n",
      "finding causality....\n",
      "6971 true causes out of 10918 total connections\n",
      "time elapsed:  736.2371469899954\n",
      "iteration:  9\n",
      "Starting surrogate generation...\n"
     ]
    },
    {
     "name": "stderr",
     "output_type": "stream",
     "text": [
      "100%|██████████| 100/100 [02:22<00:00,  1.43s/it]\n",
      "100%|██████████| 100/100 [00:30<00:00,  3.33it/s]\n"
     ]
    },
    {
     "name": "stdout",
     "output_type": "stream",
     "text": [
      "adjusted Melody length: 43680\n",
      "finding causality....\n",
      "6848 true causes out of 10918 total connections\n",
      "time elapsed:  807.2301613120071\n",
      "iteration:  10\n",
      "Starting surrogate generation...\n"
     ]
    },
    {
     "name": "stderr",
     "output_type": "stream",
     "text": [
      "100%|██████████| 100/100 [00:27<00:00,  3.68it/s]\n",
      "100%|██████████| 100/100 [00:39<00:00,  2.53it/s]\n"
     ]
    },
    {
     "name": "stdout",
     "output_type": "stream",
     "text": [
      "adjusted Melody length: 43680\n",
      "finding causality....\n",
      "6237 true causes out of 10918 total connections\n",
      "time elapsed:  700.5469710890029\n",
      "6749.5/10918, 139.92974030479962, 601.7265169209044\n",
      "iteration:  1\n",
      "Starting surrogate generation...\n"
     ]
    },
    {
     "name": "stderr",
     "output_type": "stream",
     "text": [
      "100%|██████████| 100/100 [02:15<00:00,  1.35s/it]\n",
      "100%|██████████| 100/100 [00:37<00:00,  2.65it/s]\n"
     ]
    },
    {
     "name": "stdout",
     "output_type": "stream",
     "text": [
      "adjusted Melody length: 43680\n",
      "finding causality....\n",
      "5052 true causes out of 10920 total connections\n",
      "time elapsed:  868.1359807460103\n",
      "iteration:  2\n",
      "Starting surrogate generation...\n"
     ]
    },
    {
     "name": "stderr",
     "output_type": "stream",
     "text": [
      "100%|██████████| 100/100 [04:44<00:00,  2.85s/it]\n",
      "100%|██████████| 100/100 [00:40<00:00,  2.46it/s]\n"
     ]
    },
    {
     "name": "stdout",
     "output_type": "stream",
     "text": [
      "adjusted Melody length: 43680\n",
      "finding causality....\n",
      "4798 true causes out of 10920 total connections\n",
      "time elapsed:  1024.592987254\n",
      "iteration:  3\n",
      "Starting surrogate generation...\n"
     ]
    },
    {
     "name": "stderr",
     "output_type": "stream",
     "text": [
      "100%|██████████| 100/100 [00:31<00:00,  3.16it/s]\n",
      "100%|██████████| 100/100 [00:56<00:00,  1.77it/s]\n"
     ]
    },
    {
     "name": "stdout",
     "output_type": "stream",
     "text": [
      "adjusted Melody length: 43680\n",
      "finding causality....\n",
      "5114 true causes out of 10920 total connections\n",
      "time elapsed:  792.5036073199881\n",
      "iteration:  4\n",
      "Starting surrogate generation...\n"
     ]
    },
    {
     "name": "stderr",
     "output_type": "stream",
     "text": [
      "100%|██████████| 100/100 [02:09<00:00,  1.29s/it]\n",
      "100%|██████████| 100/100 [03:07<00:00,  1.88s/it]\n"
     ]
    },
    {
     "name": "stdout",
     "output_type": "stream",
     "text": [
      "adjusted Melody length: 43680\n",
      "finding causality....\n",
      "4180 true causes out of 10920 total connections\n",
      "time elapsed:  1013.7172977520095\n",
      "iteration:  5\n",
      "Starting surrogate generation...\n"
     ]
    },
    {
     "name": "stderr",
     "output_type": "stream",
     "text": [
      "100%|██████████| 100/100 [00:37<00:00,  2.67it/s]\n",
      "100%|██████████| 100/100 [00:55<00:00,  1.81it/s]\n"
     ]
    },
    {
     "name": "stdout",
     "output_type": "stream",
     "text": [
      "adjusted Melody length: 43680\n",
      "finding causality....\n",
      "3975 true causes out of 10920 total connections\n",
      "time elapsed:  795.9229045399989\n",
      "iteration:  6\n",
      "Starting surrogate generation...\n"
     ]
    },
    {
     "name": "stderr",
     "output_type": "stream",
     "text": [
      "100%|██████████| 100/100 [00:38<00:00,  2.59it/s]\n",
      "100%|██████████| 100/100 [07:44<00:00,  4.64s/it]  \n"
     ]
    },
    {
     "name": "stdout",
     "output_type": "stream",
     "text": [
      "adjusted Melody length: 43680\n",
      "finding causality....\n",
      "4829 true causes out of 10920 total connections\n",
      "time elapsed:  1200.736457432009\n",
      "iteration:  7\n",
      "Starting surrogate generation...\n"
     ]
    },
    {
     "name": "stderr",
     "output_type": "stream",
     "text": [
      "100%|██████████| 100/100 [00:40<00:00,  2.47it/s]\n",
      "100%|██████████| 100/100 [00:53<00:00,  1.85it/s]\n"
     ]
    },
    {
     "name": "stdout",
     "output_type": "stream",
     "text": [
      "adjusted Melody length: 43680\n",
      "finding causality....\n",
      "4835 true causes out of 10920 total connections\n",
      "time elapsed:  789.3024417039996\n",
      "iteration:  8\n",
      "Starting surrogate generation...\n"
     ]
    },
    {
     "name": "stderr",
     "output_type": "stream",
     "text": [
      "100%|██████████| 100/100 [00:36<00:00,  2.71it/s]\n",
      "100%|██████████| 100/100 [00:38<00:00,  2.60it/s]\n"
     ]
    },
    {
     "name": "stdout",
     "output_type": "stream",
     "text": [
      "adjusted Melody length: 43680\n",
      "finding causality....\n",
      "4967 true causes out of 10920 total connections\n",
      "time elapsed:  779.6532814599923\n",
      "iteration:  9\n",
      "Starting surrogate generation...\n"
     ]
    },
    {
     "name": "stderr",
     "output_type": "stream",
     "text": [
      "100%|██████████| 100/100 [00:33<00:00,  2.94it/s]\n",
      "100%|██████████| 100/100 [00:33<00:00,  3.02it/s]\n"
     ]
    },
    {
     "name": "stdout",
     "output_type": "stream",
     "text": [
      "adjusted Melody length: 43680\n",
      "finding causality....\n",
      "4046 true causes out of 10920 total connections\n",
      "time elapsed:  773.7177876339993\n",
      "iteration:  10\n",
      "Starting surrogate generation...\n"
     ]
    },
    {
     "name": "stderr",
     "output_type": "stream",
     "text": [
      "100%|██████████| 100/100 [00:30<00:00,  3.33it/s]\n",
      "100%|██████████| 100/100 [00:40<00:00,  2.48it/s]\n"
     ]
    },
    {
     "name": "stdout",
     "output_type": "stream",
     "text": [
      "adjusted Melody length: 43680\n",
      "finding causality....\n",
      "4778 true causes out of 10920 total connections\n",
      "time elapsed:  770.8477112289984\n",
      "4657.4/10920, 182.3015293827979, 671.8303724905069\n",
      "iteration:  1\n",
      "Starting surrogate generation...\n"
     ]
    },
    {
     "name": "stderr",
     "output_type": "stream",
     "text": [
      "100%|██████████| 100/100 [06:34<00:00,  3.95s/it]  \n",
      "100%|██████████| 100/100 [00:27<00:00,  3.59it/s]\n"
     ]
    },
    {
     "name": "stdout",
     "output_type": "stream",
     "text": [
      "adjusted Melody length: 43680\n",
      "finding causality....\n",
      "8334 true causes out of 11024 total connections\n",
      "time elapsed:  1087.5559384690132\n",
      "iteration:  2\n",
      "Starting surrogate generation...\n"
     ]
    },
    {
     "name": "stderr",
     "output_type": "stream",
     "text": [
      "100%|██████████| 100/100 [04:12<00:00,  2.53s/it]\n",
      "100%|██████████| 100/100 [00:33<00:00,  2.98it/s]\n"
     ]
    },
    {
     "name": "stdout",
     "output_type": "stream",
     "text": [
      "adjusted Melody length: 43680\n",
      "finding causality....\n",
      "8502 true causes out of 11024 total connections\n",
      "time elapsed:  940.978137225\n",
      "iteration:  3\n",
      "Starting surrogate generation...\n"
     ]
    },
    {
     "name": "stderr",
     "output_type": "stream",
     "text": [
      "100%|██████████| 100/100 [00:38<00:00,  2.60it/s]\n",
      "100%|██████████| 100/100 [01:41<00:00,  1.01s/it]\n"
     ]
    },
    {
     "name": "stdout",
     "output_type": "stream",
     "text": [
      "adjusted Melody length: 43680\n",
      "finding causality....\n",
      "8040 true causes out of 11024 total connections\n",
      "time elapsed:  798.0313813849934\n",
      "iteration:  4\n",
      "Starting surrogate generation...\n"
     ]
    },
    {
     "name": "stderr",
     "output_type": "stream",
     "text": [
      "100%|██████████| 100/100 [00:33<00:00,  2.95it/s]\n",
      "100%|██████████| 100/100 [00:37<00:00,  2.67it/s]\n"
     ]
    },
    {
     "name": "stdout",
     "output_type": "stream",
     "text": [
      "adjusted Melody length: 43680\n",
      "finding causality....\n",
      "7724 true causes out of 11024 total connections\n",
      "time elapsed:  724.8617456250067\n",
      "iteration:  5\n",
      "Starting surrogate generation...\n"
     ]
    },
    {
     "name": "stderr",
     "output_type": "stream",
     "text": [
      "100%|██████████| 100/100 [02:40<00:00,  1.61s/it]\n",
      "100%|██████████| 100/100 [00:38<00:00,  2.61it/s]\n"
     ]
    },
    {
     "name": "stdout",
     "output_type": "stream",
     "text": [
      "adjusted Melody length: 43680\n",
      "finding causality....\n",
      "8572 true causes out of 11024 total connections\n",
      "time elapsed:  855.0728072019992\n",
      "iteration:  6\n",
      "Starting surrogate generation...\n"
     ]
    },
    {
     "name": "stderr",
     "output_type": "stream",
     "text": [
      "100%|██████████| 100/100 [00:48<00:00,  2.06it/s]\n",
      "100%|██████████| 100/100 [00:28<00:00,  3.48it/s]\n"
     ]
    },
    {
     "name": "stdout",
     "output_type": "stream",
     "text": [
      "adjusted Melody length: 43680\n",
      "finding causality....\n",
      "8099 true causes out of 11024 total connections\n",
      "time elapsed:  739.0278602599865\n",
      "iteration:  7\n",
      "Starting surrogate generation...\n"
     ]
    },
    {
     "name": "stderr",
     "output_type": "stream",
     "text": [
      "100%|██████████| 100/100 [01:23<00:00,  1.20it/s]\n",
      "100%|██████████| 100/100 [00:32<00:00,  3.04it/s]\n"
     ]
    },
    {
     "name": "stdout",
     "output_type": "stream",
     "text": [
      "adjusted Melody length: 43680\n",
      "finding causality....\n",
      "8296 true causes out of 11024 total connections\n",
      "time elapsed:  781.0977662299993\n",
      "iteration:  8\n",
      "Starting surrogate generation...\n"
     ]
    },
    {
     "name": "stderr",
     "output_type": "stream",
     "text": [
      "100%|██████████| 100/100 [00:40<00:00,  2.46it/s]\n",
      "100%|██████████| 100/100 [00:28<00:00,  3.47it/s]\n"
     ]
    },
    {
     "name": "stdout",
     "output_type": "stream",
     "text": [
      "adjusted Melody length: 43680\n",
      "finding causality....\n",
      "8515 true causes out of 11024 total connections\n",
      "time elapsed:  731.1556793219934\n",
      "iteration:  9\n",
      "Starting surrogate generation...\n"
     ]
    },
    {
     "name": "stderr",
     "output_type": "stream",
     "text": [
      "100%|██████████| 100/100 [00:45<00:00,  2.19it/s]\n",
      "100%|██████████| 100/100 [00:42<00:00,  2.34it/s]\n"
     ]
    },
    {
     "name": "stdout",
     "output_type": "stream",
     "text": [
      "adjusted Melody length: 43680\n",
      "finding causality....\n",
      "8282 true causes out of 11024 total connections\n",
      "time elapsed:  750.290721561003\n",
      "iteration:  10\n",
      "Starting surrogate generation...\n"
     ]
    },
    {
     "name": "stderr",
     "output_type": "stream",
     "text": [
      "100%|██████████| 100/100 [00:48<00:00,  2.05it/s]\n",
      "100%|██████████| 100/100 [00:39<00:00,  2.54it/s]\n"
     ]
    },
    {
     "name": "stdout",
     "output_type": "stream",
     "text": [
      "adjusted Melody length: 43680\n",
      "finding causality....\n",
      "8956 true causes out of 11024 total connections\n",
      "time elapsed:  746.7848001170205\n",
      "8332.0/11024, 157.89822461209843, 631.5103737726982\n",
      "iteration:  1\n",
      "Starting surrogate generation...\n"
     ]
    },
    {
     "name": "stderr",
     "output_type": "stream",
     "text": [
      "100%|██████████| 100/100 [00:35<00:00,  2.81it/s]\n",
      "100%|██████████| 100/100 [00:42<00:00,  2.34it/s]\n"
     ]
    },
    {
     "name": "stdout",
     "output_type": "stream",
     "text": [
      "adjusted Melody length: 43680\n",
      "finding causality....\n",
      "6075 true causes out of 11024 total connections\n",
      "time elapsed:  699.949858596985\n",
      "iteration:  2\n",
      "Starting surrogate generation...\n"
     ]
    },
    {
     "name": "stderr",
     "output_type": "stream",
     "text": [
      "100%|██████████| 100/100 [00:44<00:00,  2.24it/s]\n",
      "100%|██████████| 100/100 [00:24<00:00,  4.11it/s]\n"
     ]
    },
    {
     "name": "stdout",
     "output_type": "stream",
     "text": [
      "adjusted Melody length: 43680\n",
      "finding causality....\n",
      "6201 true causes out of 11024 total connections\n",
      "time elapsed:  694.8469219300023\n",
      "iteration:  3\n",
      "Starting surrogate generation...\n"
     ]
    },
    {
     "name": "stderr",
     "output_type": "stream",
     "text": [
      "100%|██████████| 100/100 [00:40<00:00,  2.50it/s]\n",
      "100%|██████████| 100/100 [01:06<00:00,  1.50it/s]\n"
     ]
    },
    {
     "name": "stdout",
     "output_type": "stream",
     "text": [
      "adjusted Melody length: 43680\n",
      "finding causality....\n",
      "4912 true causes out of 11024 total connections\n",
      "time elapsed:  715.2371246470138\n",
      "iteration:  4\n",
      "Starting surrogate generation...\n"
     ]
    },
    {
     "name": "stderr",
     "output_type": "stream",
     "text": [
      "100%|██████████| 100/100 [00:36<00:00,  2.76it/s]\n",
      "100%|██████████| 100/100 [00:37<00:00,  2.65it/s]\n"
     ]
    },
    {
     "name": "stdout",
     "output_type": "stream",
     "text": [
      "adjusted Melody length: 43680\n",
      "finding causality....\n",
      "6038 true causes out of 11024 total connections\n",
      "time elapsed:  685.7402921629837\n",
      "iteration:  5\n",
      "Starting surrogate generation...\n"
     ]
    },
    {
     "name": "stderr",
     "output_type": "stream",
     "text": [
      "100%|██████████| 100/100 [00:55<00:00,  1.80it/s]\n",
      "100%|██████████| 100/100 [01:54<00:00,  1.14s/it]\n"
     ]
    },
    {
     "name": "stdout",
     "output_type": "stream",
     "text": [
      "adjusted Melody length: 43680\n",
      "finding causality....\n",
      "6057 true causes out of 11024 total connections\n",
      "time elapsed:  779.5650871590187\n",
      "iteration:  6\n",
      "Starting surrogate generation...\n"
     ]
    },
    {
     "name": "stderr",
     "output_type": "stream",
     "text": [
      "100%|██████████| 100/100 [00:31<00:00,  3.21it/s]\n",
      "100%|██████████| 100/100 [00:26<00:00,  3.75it/s]\n"
     ]
    },
    {
     "name": "stdout",
     "output_type": "stream",
     "text": [
      "adjusted Melody length: 43680\n",
      "finding causality....\n",
      "6271 true causes out of 11024 total connections\n",
      "time elapsed:  681.289457448991\n",
      "iteration:  7\n",
      "Starting surrogate generation...\n"
     ]
    },
    {
     "name": "stderr",
     "output_type": "stream",
     "text": [
      "100%|██████████| 100/100 [00:37<00:00,  2.64it/s]\n",
      "100%|██████████| 100/100 [00:40<00:00,  2.46it/s]\n"
     ]
    },
    {
     "name": "stdout",
     "output_type": "stream",
     "text": [
      "adjusted Melody length: 43680\n",
      "finding causality....\n",
      "5869 true causes out of 11024 total connections\n",
      "time elapsed:  700.2287386629905\n",
      "iteration:  8\n",
      "Starting surrogate generation...\n"
     ]
    },
    {
     "name": "stderr",
     "output_type": "stream",
     "text": [
      "100%|██████████| 100/100 [03:04<00:00,  1.85s/it]\n",
      "100%|██████████| 100/100 [00:32<00:00,  3.08it/s]\n"
     ]
    },
    {
     "name": "stdout",
     "output_type": "stream",
     "text": [
      "adjusted Melody length: 43680\n",
      "finding causality....\n",
      "5726 true causes out of 11024 total connections\n",
      "time elapsed:  826.9733312440221\n",
      "iteration:  9\n",
      "Starting surrogate generation...\n"
     ]
    },
    {
     "name": "stderr",
     "output_type": "stream",
     "text": [
      "100%|██████████| 100/100 [00:41<00:00,  2.39it/s]\n",
      "100%|██████████| 100/100 [00:36<00:00,  2.76it/s]\n"
     ]
    },
    {
     "name": "stdout",
     "output_type": "stream",
     "text": [
      "adjusted Melody length: 43680\n",
      "finding causality....\n",
      "6058 true causes out of 11024 total connections\n",
      "time elapsed:  695.3973450609774\n",
      "iteration:  10\n",
      "Starting surrogate generation...\n"
     ]
    },
    {
     "name": "stderr",
     "output_type": "stream",
     "text": [
      "100%|██████████| 100/100 [00:33<00:00,  3.01it/s]\n",
      "100%|██████████| 100/100 [02:59<00:00,  1.80s/it]\n"
     ]
    },
    {
     "name": "stdout",
     "output_type": "stream",
     "text": [
      "adjusted Melody length: 43680\n",
      "finding causality....\n",
      "6365 true causes out of 11024 total connections\n",
      "time elapsed:  838.625210269005\n",
      "5957.2/11024, 115.58340713129728, 589.8887463447987\n"
     ]
    }
   ],
   "source": [
    "run('22', '22_a', num_surrogates=100, const_len=43680)\n",
    "run('28', '28_k', num_surrogates=100, const_len=43680)\n",
    "run('29', '29_h', num_surrogates=100, const_len=43680)\n",
    "run('65', '29_h', num_surrogates=100, const_len=43680)"
   ],
   "metadata": {
    "collapsed": false,
    "pycharm": {
     "name": "#%%\n"
    }
   }
  },
  {
   "cell_type": "markdown",
   "source": [
    "## 50 Surrogates"
   ],
   "metadata": {
    "collapsed": false,
    "pycharm": {
     "name": "#%% md\n"
    }
   }
  },
  {
   "cell_type": "code",
   "execution_count": 3,
   "outputs": [
    {
     "name": "stdout",
     "output_type": "stream",
     "text": [
      "iteration:  1\n",
      "Starting surrogate generation...\n"
     ]
    },
    {
     "name": "stderr",
     "output_type": "stream",
     "text": [
      "100%|██████████| 50/50 [00:57<00:00,  1.15s/it]\n",
      "100%|██████████| 50/50 [00:15<00:00,  3.23it/s]\n"
     ]
    },
    {
     "name": "stdout",
     "output_type": "stream",
     "text": [
      "adjusted Melody length: 43680\n",
      "finding causality....\n",
      "488 true causes out of 3248 total connections\n",
      "time elapsed:  283.5978773999959\n",
      "iteration:  2\n",
      "Starting surrogate generation...\n"
     ]
    },
    {
     "name": "stderr",
     "output_type": "stream",
     "text": [
      "100%|██████████| 50/50 [00:20<00:00,  2.43it/s]\n",
      "100%|██████████| 50/50 [00:15<00:00,  3.21it/s]\n"
     ]
    },
    {
     "name": "stdout",
     "output_type": "stream",
     "text": [
      "adjusted Melody length: 43680\n",
      "finding causality....\n",
      "539 true causes out of 3248 total connections\n",
      "time elapsed:  251.5753110700025\n",
      "iteration:  3\n",
      "Starting surrogate generation...\n"
     ]
    },
    {
     "name": "stderr",
     "output_type": "stream",
     "text": [
      "100%|██████████| 50/50 [00:13<00:00,  3.79it/s]\n",
      "100%|██████████| 50/50 [00:24<00:00,  2.07it/s]\n"
     ]
    },
    {
     "name": "stdout",
     "output_type": "stream",
     "text": [
      "adjusted Melody length: 43680\n",
      "finding causality....\n",
      "521 true causes out of 3248 total connections\n",
      "time elapsed:  253.63211492600385\n",
      "iteration:  4\n",
      "Starting surrogate generation...\n"
     ]
    },
    {
     "name": "stderr",
     "output_type": "stream",
     "text": [
      "100%|██████████| 50/50 [00:16<00:00,  3.01it/s]\n",
      "100%|██████████| 50/50 [00:19<00:00,  2.55it/s]\n"
     ]
    },
    {
     "name": "stdout",
     "output_type": "stream",
     "text": [
      "adjusted Melody length: 43680\n",
      "finding causality....\n",
      "327 true causes out of 3248 total connections\n",
      "time elapsed:  252.55657817599422\n",
      "iteration:  5\n",
      "Starting surrogate generation...\n"
     ]
    },
    {
     "name": "stderr",
     "output_type": "stream",
     "text": [
      "100%|██████████| 50/50 [00:15<00:00,  3.19it/s]\n",
      "100%|██████████| 50/50 [00:19<00:00,  2.54it/s]\n"
     ]
    },
    {
     "name": "stdout",
     "output_type": "stream",
     "text": [
      "adjusted Melody length: 43680\n",
      "finding causality....\n",
      "581 true causes out of 3248 total connections\n",
      "time elapsed:  251.15098674500769\n",
      "iteration:  6\n",
      "Starting surrogate generation...\n"
     ]
    },
    {
     "name": "stderr",
     "output_type": "stream",
     "text": [
      "100%|██████████| 50/50 [00:18<00:00,  2.67it/s]\n",
      "100%|██████████| 50/50 [00:22<00:00,  2.26it/s]\n"
     ]
    },
    {
     "name": "stdout",
     "output_type": "stream",
     "text": [
      "adjusted Melody length: 43680\n",
      "finding causality....\n",
      "395 true causes out of 3248 total connections\n",
      "time elapsed:  253.1887084179907\n",
      "iteration:  7\n",
      "Starting surrogate generation...\n"
     ]
    },
    {
     "name": "stderr",
     "output_type": "stream",
     "text": [
      "100%|██████████| 50/50 [06:36<00:00,  7.93s/it] \n",
      "100%|██████████| 50/50 [00:10<00:00,  4.56it/s]\n"
     ]
    },
    {
     "name": "stdout",
     "output_type": "stream",
     "text": [
      "adjusted Melody length: 43680\n",
      "finding causality....\n",
      "589 true causes out of 3248 total connections\n",
      "time elapsed:  620.8469126070122\n",
      "iteration:  8\n",
      "Starting surrogate generation...\n"
     ]
    },
    {
     "name": "stderr",
     "output_type": "stream",
     "text": [
      "100%|██████████| 50/50 [00:20<00:00,  2.49it/s]\n",
      "100%|██████████| 50/50 [00:21<00:00,  2.33it/s]\n"
     ]
    },
    {
     "name": "stdout",
     "output_type": "stream",
     "text": [
      "adjusted Melody length: 43680\n",
      "finding causality....\n",
      "533 true causes out of 3248 total connections\n",
      "time elapsed:  253.8909601839987\n",
      "iteration:  9\n",
      "Starting surrogate generation...\n"
     ]
    },
    {
     "name": "stderr",
     "output_type": "stream",
     "text": [
      "100%|██████████| 50/50 [00:17<00:00,  2.92it/s]\n",
      "100%|██████████| 50/50 [00:16<00:00,  3.04it/s]\n"
     ]
    },
    {
     "name": "stdout",
     "output_type": "stream",
     "text": [
      "adjusted Melody length: 43680\n",
      "finding causality....\n",
      "724 true causes out of 3248 total connections\n",
      "time elapsed:  251.0091312059958\n",
      "iteration:  10\n",
      "Starting surrogate generation...\n"
     ]
    },
    {
     "name": "stderr",
     "output_type": "stream",
     "text": [
      "100%|██████████| 50/50 [02:38<00:00,  3.18s/it]\n",
      "100%|██████████| 50/50 [00:17<00:00,  2.79it/s]\n"
     ]
    },
    {
     "name": "stdout",
     "output_type": "stream",
     "text": [
      "adjusted Melody length: 43680\n",
      "finding causality....\n",
      "596 true causes out of 3248 total connections\n",
      "time elapsed:  392.8634363129968\n",
      "529.3/3248, 94.11724760539946, 197.81717930860032\n",
      "iteration:  1\n",
      "Starting surrogate generation...\n"
     ]
    },
    {
     "name": "stderr",
     "output_type": "stream",
     "text": [
      "100%|██████████| 50/50 [00:15<00:00,  3.29it/s]\n",
      "100%|██████████| 50/50 [01:44<00:00,  2.10s/it]\n"
     ]
    },
    {
     "name": "stdout",
     "output_type": "stream",
     "text": [
      "adjusted Melody length: 43680\n",
      "finding causality....\n",
      "2345 true causes out of 3024 total connections\n",
      "time elapsed:  284.87619268700655\n",
      "iteration:  2\n",
      "Starting surrogate generation...\n"
     ]
    },
    {
     "name": "stderr",
     "output_type": "stream",
     "text": [
      "100%|██████████| 50/50 [00:14<00:00,  3.43it/s]\n",
      "100%|██████████| 50/50 [00:23<00:00,  2.10it/s]\n"
     ]
    },
    {
     "name": "stdout",
     "output_type": "stream",
     "text": [
      "adjusted Melody length: 43680\n",
      "finding causality....\n",
      "2131 true causes out of 3024 total connections\n",
      "time elapsed:  206.26177563800593\n",
      "iteration:  3\n",
      "Starting surrogate generation...\n"
     ]
    },
    {
     "name": "stderr",
     "output_type": "stream",
     "text": [
      "100%|██████████| 50/50 [00:21<00:00,  2.27it/s]\n",
      "100%|██████████| 50/50 [00:16<00:00,  2.98it/s]\n"
     ]
    },
    {
     "name": "stdout",
     "output_type": "stream",
     "text": [
      "adjusted Melody length: 43680\n",
      "finding causality....\n",
      "2271 true causes out of 3024 total connections\n",
      "time elapsed:  205.9672856929974\n",
      "iteration:  4\n",
      "Starting surrogate generation...\n"
     ]
    },
    {
     "name": "stderr",
     "output_type": "stream",
     "text": [
      "100%|██████████| 50/50 [00:17<00:00,  2.91it/s]\n",
      "100%|██████████| 50/50 [00:15<00:00,  3.26it/s]\n"
     ]
    },
    {
     "name": "stdout",
     "output_type": "stream",
     "text": [
      "adjusted Melody length: 43680\n",
      "finding causality....\n",
      "2589 true causes out of 3024 total connections\n",
      "time elapsed:  199.58727453599568\n",
      "iteration:  5\n",
      "Starting surrogate generation...\n"
     ]
    },
    {
     "name": "stderr",
     "output_type": "stream",
     "text": [
      "100%|██████████| 50/50 [00:17<00:00,  2.80it/s]\n",
      "100%|██████████| 50/50 [00:16<00:00,  3.01it/s]\n"
     ]
    },
    {
     "name": "stdout",
     "output_type": "stream",
     "text": [
      "adjusted Melody length: 43680\n",
      "finding causality....\n",
      "2238 true causes out of 3024 total connections\n",
      "time elapsed:  199.89941868299502\n",
      "iteration:  6\n",
      "Starting surrogate generation...\n"
     ]
    },
    {
     "name": "stderr",
     "output_type": "stream",
     "text": [
      "100%|██████████| 50/50 [00:50<00:00,  1.01s/it]\n",
      "100%|██████████| 50/50 [00:12<00:00,  3.86it/s]\n"
     ]
    },
    {
     "name": "stdout",
     "output_type": "stream",
     "text": [
      "adjusted Melody length: 43680\n",
      "finding causality....\n",
      "2466 true causes out of 3024 total connections\n",
      "time elapsed:  229.16538261300593\n",
      "iteration:  7\n",
      "Starting surrogate generation...\n"
     ]
    },
    {
     "name": "stderr",
     "output_type": "stream",
     "text": [
      "100%|██████████| 50/50 [00:54<00:00,  1.09s/it]\n",
      "100%|██████████| 50/50 [00:23<00:00,  2.13it/s]\n"
     ]
    },
    {
     "name": "stdout",
     "output_type": "stream",
     "text": [
      "adjusted Melody length: 43680\n",
      "finding causality....\n",
      "2665 true causes out of 3024 total connections\n",
      "time elapsed:  244.67878849900444\n",
      "iteration:  8\n",
      "Starting surrogate generation...\n"
     ]
    },
    {
     "name": "stderr",
     "output_type": "stream",
     "text": [
      "100%|██████████| 50/50 [00:15<00:00,  3.33it/s]\n",
      "100%|██████████| 50/50 [00:13<00:00,  3.65it/s]\n"
     ]
    },
    {
     "name": "stdout",
     "output_type": "stream",
     "text": [
      "adjusted Melody length: 43680\n",
      "finding causality....\n",
      "2277 true causes out of 3024 total connections\n",
      "time elapsed:  196.33978912199382\n",
      "iteration:  9\n",
      "Starting surrogate generation...\n"
     ]
    },
    {
     "name": "stderr",
     "output_type": "stream",
     "text": [
      "100%|██████████| 50/50 [00:18<00:00,  2.67it/s]\n",
      "100%|██████████| 50/50 [00:13<00:00,  3.80it/s]\n"
     ]
    },
    {
     "name": "stdout",
     "output_type": "stream",
     "text": [
      "adjusted Melody length: 43680\n",
      "finding causality....\n",
      "2439 true causes out of 3024 total connections\n",
      "time elapsed:  201.14520782300679\n",
      "iteration:  10\n",
      "Starting surrogate generation...\n"
     ]
    },
    {
     "name": "stderr",
     "output_type": "stream",
     "text": [
      "100%|██████████| 50/50 [00:18<00:00,  2.70it/s]\n",
      "100%|██████████| 50/50 [00:17<00:00,  2.91it/s]\n"
     ]
    },
    {
     "name": "stdout",
     "output_type": "stream",
     "text": [
      "adjusted Melody length: 43680\n",
      "finding causality....\n",
      "2165 true causes out of 3024 total connections\n",
      "time elapsed:  202.72927222499857\n",
      "2358.6/3024, 51.17195424449601, 151.79602410539957\n",
      "iteration:  1\n",
      "Starting surrogate generation...\n"
     ]
    },
    {
     "name": "stderr",
     "output_type": "stream",
     "text": [
      "100%|██████████| 50/50 [00:13<00:00,  3.77it/s]\n",
      "100%|██████████| 50/50 [00:19<00:00,  2.61it/s]\n"
     ]
    },
    {
     "name": "stdout",
     "output_type": "stream",
     "text": [
      "adjusted Melody length: 43680\n",
      "finding causality....\n",
      "1787 true causes out of 2968 total connections\n",
      "time elapsed:  212.1838116820145\n",
      "iteration:  2\n",
      "Starting surrogate generation...\n"
     ]
    },
    {
     "name": "stderr",
     "output_type": "stream",
     "text": [
      "100%|██████████| 50/50 [00:18<00:00,  2.76it/s]\n",
      "100%|██████████| 50/50 [00:14<00:00,  3.46it/s]\n"
     ]
    },
    {
     "name": "stdout",
     "output_type": "stream",
     "text": [
      "adjusted Melody length: 43680\n",
      "finding causality....\n",
      "1684 true causes out of 2968 total connections\n",
      "time elapsed:  210.59460602799663\n",
      "iteration:  3\n",
      "Starting surrogate generation...\n"
     ]
    },
    {
     "name": "stderr",
     "output_type": "stream",
     "text": [
      "100%|██████████| 50/50 [00:15<00:00,  3.20it/s]\n",
      "100%|██████████| 50/50 [00:14<00:00,  3.34it/s]\n"
     ]
    },
    {
     "name": "stdout",
     "output_type": "stream",
     "text": [
      "adjusted Melody length: 43680\n",
      "finding causality....\n",
      "1652 true causes out of 2968 total connections\n",
      "time elapsed:  209.89742751899757\n",
      "iteration:  4\n",
      "Starting surrogate generation...\n"
     ]
    },
    {
     "name": "stderr",
     "output_type": "stream",
     "text": [
      "100%|██████████| 50/50 [00:16<00:00,  3.05it/s]\n",
      "100%|██████████| 50/50 [00:23<00:00,  2.13it/s]\n"
     ]
    },
    {
     "name": "stdout",
     "output_type": "stream",
     "text": [
      "adjusted Melody length: 43680\n",
      "finding causality....\n",
      "1862 true causes out of 2968 total connections\n",
      "time elapsed:  217.92484408100427\n",
      "iteration:  5\n",
      "Starting surrogate generation...\n"
     ]
    },
    {
     "name": "stderr",
     "output_type": "stream",
     "text": [
      "100%|██████████| 50/50 [00:16<00:00,  3.12it/s]\n",
      "100%|██████████| 50/50 [00:18<00:00,  2.75it/s]\n"
     ]
    },
    {
     "name": "stdout",
     "output_type": "stream",
     "text": [
      "adjusted Melody length: 43680\n",
      "finding causality....\n",
      "1986 true causes out of 2968 total connections\n",
      "time elapsed:  217.6748516559892\n",
      "iteration:  6\n",
      "Starting surrogate generation...\n"
     ]
    },
    {
     "name": "stderr",
     "output_type": "stream",
     "text": [
      "100%|██████████| 50/50 [00:19<00:00,  2.53it/s]\n",
      "100%|██████████| 50/50 [00:19<00:00,  2.58it/s]\n"
     ]
    },
    {
     "name": "stdout",
     "output_type": "stream",
     "text": [
      "adjusted Melody length: 43680\n",
      "finding causality....\n",
      "1745 true causes out of 2968 total connections\n",
      "time elapsed:  217.19582464901032\n",
      "iteration:  7\n",
      "Starting surrogate generation...\n"
     ]
    },
    {
     "name": "stderr",
     "output_type": "stream",
     "text": [
      "100%|██████████| 50/50 [00:22<00:00,  2.18it/s]\n",
      "100%|██████████| 50/50 [01:06<00:00,  1.33s/it]\n"
     ]
    },
    {
     "name": "stdout",
     "output_type": "stream",
     "text": [
      "adjusted Melody length: 43680\n",
      "finding causality....\n",
      "1875 true causes out of 2968 total connections\n",
      "time elapsed:  268.77132029998756\n",
      "iteration:  8\n",
      "Starting surrogate generation...\n"
     ]
    },
    {
     "name": "stderr",
     "output_type": "stream",
     "text": [
      "100%|██████████| 50/50 [00:23<00:00,  2.16it/s]\n",
      "100%|██████████| 50/50 [00:14<00:00,  3.39it/s]\n"
     ]
    },
    {
     "name": "stdout",
     "output_type": "stream",
     "text": [
      "adjusted Melody length: 43680\n",
      "finding causality....\n",
      "2088 true causes out of 2968 total connections\n",
      "time elapsed:  215.71888483400107\n",
      "iteration:  9\n",
      "Starting surrogate generation...\n"
     ]
    },
    {
     "name": "stderr",
     "output_type": "stream",
     "text": [
      "100%|██████████| 50/50 [00:24<00:00,  2.03it/s]\n",
      "100%|██████████| 50/50 [00:12<00:00,  4.08it/s]\n"
     ]
    },
    {
     "name": "stdout",
     "output_type": "stream",
     "text": [
      "adjusted Melody length: 43680\n",
      "finding causality....\n",
      "1981 true causes out of 2968 total connections\n",
      "time elapsed:  216.7139510220004\n",
      "iteration:  10\n",
      "Starting surrogate generation...\n"
     ]
    },
    {
     "name": "stderr",
     "output_type": "stream",
     "text": [
      "100%|██████████| 50/50 [00:20<00:00,  2.46it/s]\n",
      "100%|██████████| 50/50 [00:23<00:00,  2.17it/s]\n"
     ]
    },
    {
     "name": "stdout",
     "output_type": "stream",
     "text": [
      "adjusted Melody length: 43680\n",
      "finding causality....\n",
      "2000 true causes out of 2968 total connections\n",
      "time elapsed:  221.97723475100065\n",
      "1866.0/2968, 43.461624534698785, 163.06845131989832\n",
      "iteration:  1\n",
      "Starting surrogate generation...\n"
     ]
    },
    {
     "name": "stderr",
     "output_type": "stream",
     "text": [
      "100%|██████████| 50/50 [00:12<00:00,  4.14it/s]\n",
      "100%|██████████| 50/50 [00:15<00:00,  3.28it/s]\n"
     ]
    },
    {
     "name": "stdout",
     "output_type": "stream",
     "text": [
      "adjusted Melody length: 43680\n",
      "finding causality....\n",
      "1578 true causes out of 2970 total connections\n",
      "time elapsed:  226.82208061299752\n",
      "iteration:  2\n",
      "Starting surrogate generation...\n"
     ]
    },
    {
     "name": "stderr",
     "output_type": "stream",
     "text": [
      "100%|██████████| 50/50 [00:15<00:00,  3.13it/s]\n",
      "100%|██████████| 50/50 [00:28<00:00,  1.73it/s]\n"
     ]
    },
    {
     "name": "stdout",
     "output_type": "stream",
     "text": [
      "adjusted Melody length: 43680\n",
      "finding causality....\n",
      "1415 true causes out of 2970 total connections\n",
      "time elapsed:  242.6561248479993\n",
      "iteration:  3\n",
      "Starting surrogate generation...\n"
     ]
    },
    {
     "name": "stderr",
     "output_type": "stream",
     "text": [
      "100%|██████████| 50/50 [00:12<00:00,  4.08it/s]\n",
      "100%|██████████| 50/50 [00:24<00:00,  2.04it/s]\n"
     ]
    },
    {
     "name": "stdout",
     "output_type": "stream",
     "text": [
      "adjusted Melody length: 43680\n",
      "finding causality....\n",
      "1331 true causes out of 2970 total connections\n",
      "time elapsed:  238.40556611900683\n",
      "iteration:  4\n",
      "Starting surrogate generation...\n"
     ]
    },
    {
     "name": "stderr",
     "output_type": "stream",
     "text": [
      "100%|██████████| 50/50 [00:10<00:00,  4.86it/s]\n",
      "100%|██████████| 50/50 [00:22<00:00,  2.24it/s]\n"
     ]
    },
    {
     "name": "stdout",
     "output_type": "stream",
     "text": [
      "adjusted Melody length: 43680\n",
      "finding causality....\n",
      "1406 true causes out of 2970 total connections\n",
      "time elapsed:  230.01448438499938\n",
      "iteration:  5\n",
      "Starting surrogate generation...\n"
     ]
    },
    {
     "name": "stderr",
     "output_type": "stream",
     "text": [
      "100%|██████████| 50/50 [00:19<00:00,  2.58it/s]\n",
      "100%|██████████| 50/50 [00:21<00:00,  2.30it/s]\n"
     ]
    },
    {
     "name": "stdout",
     "output_type": "stream",
     "text": [
      "adjusted Melody length: 43680\n",
      "finding causality....\n",
      "1263 true causes out of 2970 total connections\n",
      "time elapsed:  237.5902408080001\n",
      "iteration:  6\n",
      "Starting surrogate generation...\n"
     ]
    },
    {
     "name": "stderr",
     "output_type": "stream",
     "text": [
      "100%|██████████| 50/50 [00:22<00:00,  2.24it/s]\n",
      "100%|██████████| 50/50 [00:18<00:00,  2.76it/s]\n"
     ]
    },
    {
     "name": "stdout",
     "output_type": "stream",
     "text": [
      "adjusted Melody length: 43680\n",
      "finding causality....\n",
      "1506 true causes out of 2970 total connections\n",
      "time elapsed:  239.3897263199906\n",
      "iteration:  7\n",
      "Starting surrogate generation...\n"
     ]
    },
    {
     "name": "stderr",
     "output_type": "stream",
     "text": [
      "100%|██████████| 50/50 [00:27<00:00,  1.83it/s]\n",
      "100%|██████████| 50/50 [00:52<00:00,  1.06s/it]\n"
     ]
    },
    {
     "name": "stdout",
     "output_type": "stream",
     "text": [
      "adjusted Melody length: 43680\n",
      "finding causality....\n",
      "1347 true causes out of 2970 total connections\n",
      "time elapsed:  279.8227014830045\n",
      "iteration:  8\n",
      "Starting surrogate generation...\n"
     ]
    },
    {
     "name": "stderr",
     "output_type": "stream",
     "text": [
      "100%|██████████| 50/50 [00:28<00:00,  1.74it/s]\n",
      "100%|██████████| 50/50 [00:17<00:00,  2.84it/s]\n"
     ]
    },
    {
     "name": "stdout",
     "output_type": "stream",
     "text": [
      "adjusted Melody length: 43680\n",
      "finding causality....\n",
      "1083 true causes out of 2970 total connections\n",
      "time elapsed:  244.64866597000218\n",
      "iteration:  9\n",
      "Starting surrogate generation...\n"
     ]
    },
    {
     "name": "stderr",
     "output_type": "stream",
     "text": [
      "100%|██████████| 50/50 [03:05<00:00,  3.71s/it]\n",
      "100%|██████████| 50/50 [00:21<00:00,  2.33it/s]\n"
     ]
    },
    {
     "name": "stdout",
     "output_type": "stream",
     "text": [
      "adjusted Melody length: 43680\n",
      "finding causality....\n",
      "1111 true causes out of 2970 total connections\n",
      "time elapsed:  405.60696770600043\n",
      "iteration:  10\n",
      "Starting surrogate generation...\n"
     ]
    },
    {
     "name": "stderr",
     "output_type": "stream",
     "text": [
      "100%|██████████| 50/50 [00:16<00:00,  2.95it/s]\n",
      "100%|██████████| 50/50 [00:19<00:00,  2.50it/s]\n"
     ]
    },
    {
     "name": "stdout",
     "output_type": "stream",
     "text": [
      "adjusted Melody length: 43680\n",
      "finding causality....\n",
      "1332 true causes out of 2970 total connections\n",
      "time elapsed:  237.86431853700196\n",
      "1337.2/2970, 61.025379276995956, 182.99503891080093\n",
      "iteration:  1\n",
      "Starting surrogate generation...\n"
     ]
    },
    {
     "name": "stderr",
     "output_type": "stream",
     "text": [
      "100%|██████████| 50/50 [00:17<00:00,  2.78it/s]\n",
      "100%|██████████| 50/50 [00:16<00:00,  2.97it/s]\n"
     ]
    },
    {
     "name": "stdout",
     "output_type": "stream",
     "text": [
      "adjusted Melody length: 43680\n",
      "finding causality....\n",
      "2475 true causes out of 3024 total connections\n",
      "time elapsed:  222.47374328599835\n",
      "iteration:  2\n",
      "Starting surrogate generation...\n"
     ]
    },
    {
     "name": "stderr",
     "output_type": "stream",
     "text": [
      "100%|██████████| 50/50 [01:25<00:00,  1.71s/it]\n",
      "100%|██████████| 50/50 [00:19<00:00,  2.55it/s]\n"
     ]
    },
    {
     "name": "stdout",
     "output_type": "stream",
     "text": [
      "adjusted Melody length: 43680\n",
      "finding causality....\n",
      "2150 true causes out of 3024 total connections\n",
      "time elapsed:  299.30386597999313\n",
      "iteration:  3\n",
      "Starting surrogate generation...\n"
     ]
    },
    {
     "name": "stderr",
     "output_type": "stream",
     "text": [
      "100%|██████████| 50/50 [00:28<00:00,  1.77it/s]\n",
      "100%|██████████| 50/50 [00:15<00:00,  3.29it/s]\n"
     ]
    },
    {
     "name": "stdout",
     "output_type": "stream",
     "text": [
      "adjusted Melody length: 43680\n",
      "finding causality....\n",
      "2462 true causes out of 3024 total connections\n",
      "time elapsed:  231.3964172410051\n",
      "iteration:  4\n",
      "Starting surrogate generation...\n"
     ]
    },
    {
     "name": "stderr",
     "output_type": "stream",
     "text": [
      "100%|██████████| 50/50 [02:01<00:00,  2.43s/it]\n",
      "100%|██████████| 50/50 [01:05<00:00,  1.32s/it]\n"
     ]
    },
    {
     "name": "stdout",
     "output_type": "stream",
     "text": [
      "adjusted Melody length: 43680\n",
      "finding causality....\n",
      "2351 true causes out of 3024 total connections\n",
      "time elapsed:  374.6227094200003\n",
      "iteration:  5\n",
      "Starting surrogate generation...\n"
     ]
    },
    {
     "name": "stderr",
     "output_type": "stream",
     "text": [
      "100%|██████████| 50/50 [00:16<00:00,  3.05it/s]\n",
      "100%|██████████| 50/50 [00:13<00:00,  3.65it/s]\n"
     ]
    },
    {
     "name": "stdout",
     "output_type": "stream",
     "text": [
      "adjusted Melody length: 43680\n",
      "finding causality....\n",
      "2386 true causes out of 3024 total connections\n",
      "time elapsed:  219.42367256899888\n",
      "iteration:  6\n",
      "Starting surrogate generation...\n"
     ]
    },
    {
     "name": "stderr",
     "output_type": "stream",
     "text": [
      "100%|██████████| 50/50 [00:25<00:00,  1.98it/s]\n",
      "100%|██████████| 50/50 [00:13<00:00,  3.61it/s]\n"
     ]
    },
    {
     "name": "stdout",
     "output_type": "stream",
     "text": [
      "adjusted Melody length: 43680\n",
      "finding causality....\n",
      "2348 true causes out of 3024 total connections\n",
      "time elapsed:  226.59671368800628\n",
      "iteration:  7\n",
      "Starting surrogate generation...\n"
     ]
    },
    {
     "name": "stderr",
     "output_type": "stream",
     "text": [
      "100%|██████████| 50/50 [00:21<00:00,  2.38it/s]\n",
      "100%|██████████| 50/50 [03:32<00:00,  4.24s/it]\n"
     ]
    },
    {
     "name": "stdout",
     "output_type": "stream",
     "text": [
      "adjusted Melody length: 43680\n",
      "finding causality....\n",
      "2440 true causes out of 3024 total connections\n",
      "time elapsed:  424.0101463789906\n",
      "iteration:  8\n",
      "Starting surrogate generation...\n"
     ]
    },
    {
     "name": "stderr",
     "output_type": "stream",
     "text": [
      "100%|██████████| 50/50 [03:21<00:00,  4.02s/it]\n",
      "100%|██████████| 50/50 [00:12<00:00,  4.05it/s]\n"
     ]
    },
    {
     "name": "stdout",
     "output_type": "stream",
     "text": [
      "adjusted Melody length: 43680\n",
      "finding causality....\n",
      "2460 true causes out of 3024 total connections\n",
      "time elapsed:  400.29959032499755\n",
      "iteration:  9\n",
      "Starting surrogate generation...\n"
     ]
    },
    {
     "name": "stderr",
     "output_type": "stream",
     "text": [
      "100%|██████████| 50/50 [01:17<00:00,  1.55s/it]\n",
      "100%|██████████| 50/50 [00:11<00:00,  4.19it/s]\n"
     ]
    },
    {
     "name": "stdout",
     "output_type": "stream",
     "text": [
      "adjusted Melody length: 43680\n",
      "finding causality....\n",
      "2281 true causes out of 3024 total connections\n",
      "time elapsed:  276.31423738801095\n",
      "iteration:  10\n",
      "Starting surrogate generation...\n"
     ]
    },
    {
     "name": "stderr",
     "output_type": "stream",
     "text": [
      "100%|██████████| 50/50 [02:33<00:00,  3.08s/it]\n",
      "100%|██████████| 50/50 [00:13<00:00,  3.69it/s]\n"
     ]
    },
    {
     "name": "stdout",
     "output_type": "stream",
     "text": [
      "adjusted Melody length: 43680\n",
      "finding causality....\n",
      "2407 true causes out of 3024 total connections\n",
      "time elapsed:  356.4032052019902\n",
      "2376.0/3024, 116.3525310078985, 172.82571423180343\n",
      "iteration:  1\n",
      "Starting surrogate generation...\n"
     ]
    },
    {
     "name": "stderr",
     "output_type": "stream",
     "text": [
      "100%|██████████| 50/50 [00:18<00:00,  2.74it/s]\n",
      "100%|██████████| 50/50 [00:14<00:00,  3.34it/s]\n"
     ]
    },
    {
     "name": "stdout",
     "output_type": "stream",
     "text": [
      "adjusted Melody length: 43680\n",
      "finding causality....\n",
      "1412 true causes out of 3024 total connections\n",
      "time elapsed:  211.70833308900183\n",
      "iteration:  2\n",
      "Starting surrogate generation...\n"
     ]
    },
    {
     "name": "stderr",
     "output_type": "stream",
     "text": [
      "100%|██████████| 50/50 [00:17<00:00,  2.83it/s]\n",
      "100%|██████████| 50/50 [00:12<00:00,  3.94it/s]\n"
     ]
    },
    {
     "name": "stdout",
     "output_type": "stream",
     "text": [
      "adjusted Melody length: 43680\n",
      "finding causality....\n",
      "1817 true causes out of 3024 total connections\n",
      "time elapsed:  209.7805336290039\n",
      "iteration:  3\n",
      "Starting surrogate generation...\n"
     ]
    },
    {
     "name": "stderr",
     "output_type": "stream",
     "text": [
      "100%|██████████| 50/50 [00:17<00:00,  2.90it/s]\n",
      "100%|██████████| 50/50 [00:14<00:00,  3.56it/s]\n"
     ]
    },
    {
     "name": "stdout",
     "output_type": "stream",
     "text": [
      "adjusted Melody length: 43680\n",
      "finding causality....\n",
      "1737 true causes out of 3024 total connections\n",
      "time elapsed:  204.77677738899365\n",
      "iteration:  4\n",
      "Starting surrogate generation...\n"
     ]
    },
    {
     "name": "stderr",
     "output_type": "stream",
     "text": [
      "100%|██████████| 50/50 [00:18<00:00,  2.64it/s]\n",
      "100%|██████████| 50/50 [00:24<00:00,  2.03it/s]\n"
     ]
    },
    {
     "name": "stdout",
     "output_type": "stream",
     "text": [
      "adjusted Melody length: 43680\n",
      "finding causality....\n",
      "2088 true causes out of 3024 total connections\n",
      "time elapsed:  221.81374737800797\n",
      "iteration:  5\n",
      "Starting surrogate generation...\n"
     ]
    },
    {
     "name": "stderr",
     "output_type": "stream",
     "text": [
      "100%|██████████| 50/50 [00:15<00:00,  3.23it/s]\n",
      "100%|██████████| 50/50 [00:16<00:00,  3.10it/s]\n"
     ]
    },
    {
     "name": "stdout",
     "output_type": "stream",
     "text": [
      "adjusted Melody length: 43680\n",
      "finding causality....\n",
      "1548 true causes out of 3024 total connections\n",
      "time elapsed:  206.90901990899874\n",
      "iteration:  6\n",
      "Starting surrogate generation...\n"
     ]
    },
    {
     "name": "stderr",
     "output_type": "stream",
     "text": [
      "100%|██████████| 50/50 [00:17<00:00,  2.90it/s]\n",
      "100%|██████████| 50/50 [00:11<00:00,  4.44it/s]\n"
     ]
    },
    {
     "name": "stdout",
     "output_type": "stream",
     "text": [
      "adjusted Melody length: 43680\n",
      "finding causality....\n",
      "1523 true causes out of 3024 total connections\n",
      "time elapsed:  201.24058488599258\n",
      "iteration:  7\n",
      "Starting surrogate generation...\n"
     ]
    },
    {
     "name": "stderr",
     "output_type": "stream",
     "text": [
      "100%|██████████| 50/50 [00:15<00:00,  3.13it/s]\n",
      "100%|██████████| 50/50 [00:10<00:00,  4.69it/s]\n"
     ]
    },
    {
     "name": "stdout",
     "output_type": "stream",
     "text": [
      "adjusted Melody length: 43680\n",
      "finding causality....\n",
      "1967 true causes out of 3024 total connections\n",
      "time elapsed:  204.11313952899945\n",
      "iteration:  8\n",
      "Starting surrogate generation...\n"
     ]
    },
    {
     "name": "stderr",
     "output_type": "stream",
     "text": [
      "100%|██████████| 50/50 [00:31<00:00,  1.58it/s]\n",
      "100%|██████████| 50/50 [00:14<00:00,  3.56it/s]\n"
     ]
    },
    {
     "name": "stdout",
     "output_type": "stream",
     "text": [
      "adjusted Melody length: 43680\n",
      "finding causality....\n",
      "1585 true causes out of 3024 total connections\n",
      "time elapsed:  219.38133629200456\n",
      "iteration:  9\n",
      "Starting surrogate generation...\n"
     ]
    },
    {
     "name": "stderr",
     "output_type": "stream",
     "text": [
      "100%|██████████| 50/50 [00:19<00:00,  2.56it/s]\n",
      "100%|██████████| 50/50 [00:14<00:00,  3.34it/s]\n"
     ]
    },
    {
     "name": "stdout",
     "output_type": "stream",
     "text": [
      "adjusted Melody length: 43680\n",
      "finding causality....\n",
      "1691 true causes out of 3024 total connections\n",
      "time elapsed:  209.76835732099426\n",
      "iteration:  10\n",
      "Starting surrogate generation...\n"
     ]
    },
    {
     "name": "stderr",
     "output_type": "stream",
     "text": [
      "100%|██████████| 50/50 [00:19<00:00,  2.62it/s]\n",
      "100%|██████████| 50/50 [03:48<00:00,  4.58s/it]\n"
     ]
    },
    {
     "name": "stdout",
     "output_type": "stream",
     "text": [
      "adjusted Melody length: 43680\n",
      "finding causality....\n",
      "1801 true causes out of 3024 total connections\n",
      "time elapsed:  423.2699810220074\n",
      "1716.9/3024, 56.66018024840014, 160.79365222810011\n"
     ]
    }
   ],
   "source": [
    "run('8', '8_d', num_surrogates=50, const_len=43680)\n",
    "run('15', '15_m', num_surrogates=50, const_len=43680)\n",
    "run('22', '22_a', num_surrogates=50, const_len=43680)\n",
    "run('28', '28_k', num_surrogates=50, const_len=43680)\n",
    "run('29', '29_h', num_surrogates=50, const_len=43680)\n",
    "run('65', '29_h', num_surrogates=50, const_len=43680)\n"
   ],
   "metadata": {
    "collapsed": false,
    "pycharm": {
     "name": "#%%\n"
    }
   }
  },
  {
   "cell_type": "markdown",
   "source": [
    "# Warning! All that follows is outdated"
   ],
   "metadata": {
    "collapsed": false,
    "pycharm": {
     "name": "#%% md\n"
    }
   }
  },
  {
   "cell_type": "code",
   "execution_count": 4,
   "outputs": [],
   "source": [
    "t_dict = {}"
   ],
   "metadata": {
    "collapsed": false,
    "pycharm": {
     "name": "#%%\n"
    }
   }
  },
  {
   "cell_type": "code",
   "execution_count": 11,
   "outputs": [
    {
     "name": "stdout",
     "output_type": "stream",
     "text": [
      "iteration:  1\n",
      "Starting surrogate generation...\n"
     ]
    },
    {
     "name": "stderr",
     "output_type": "stream",
     "text": [
      "100%|██████████| 50/50 [00:14<00:00,  3.38it/s]\n",
      "100%|██████████| 50/50 [00:12<00:00,  3.96it/s]\n"
     ]
    },
    {
     "name": "stdout",
     "output_type": "stream",
     "text": [
      "adjusted Melody length: 43680\n",
      "finding causality....\n",
      "1615 true causes out of 3024 total connections\n",
      "time elapsed:  218.37166827799956\n",
      "iteration:  2\n",
      "Starting surrogate generation...\n"
     ]
    },
    {
     "name": "stderr",
     "output_type": "stream",
     "text": [
      "100%|██████████| 50/50 [00:26<00:00,  1.87it/s]\n",
      "100%|██████████| 50/50 [00:21<00:00,  2.38it/s]\n"
     ]
    },
    {
     "name": "stdout",
     "output_type": "stream",
     "text": [
      "adjusted Melody length: 43680\n",
      "finding causality....\n",
      "1669 true causes out of 3024 total connections\n",
      "time elapsed:  240.33316805800132\n",
      "iteration:  3\n",
      "Starting surrogate generation...\n"
     ]
    },
    {
     "name": "stderr",
     "output_type": "stream",
     "text": [
      "100%|██████████| 50/50 [00:20<00:00,  2.47it/s]\n",
      "100%|██████████| 50/50 [00:36<00:00,  1.37it/s]\n"
     ]
    },
    {
     "name": "stdout",
     "output_type": "stream",
     "text": [
      "adjusted Melody length: 43680\n",
      "finding causality....\n",
      "1583 true causes out of 3024 total connections\n",
      "time elapsed:  245.3784230550009\n",
      "iteration:  4\n",
      "Starting surrogate generation...\n"
     ]
    },
    {
     "name": "stderr",
     "output_type": "stream",
     "text": [
      "100%|██████████| 50/50 [00:13<00:00,  3.65it/s]\n",
      "100%|██████████| 50/50 [00:15<00:00,  3.30it/s]\n"
     ]
    },
    {
     "name": "stdout",
     "output_type": "stream",
     "text": [
      "adjusted Melody length: 43680\n",
      "finding causality....\n",
      "1761 true causes out of 3024 total connections\n",
      "time elapsed:  221.87518636499954\n",
      "iteration:  5\n",
      "Starting surrogate generation...\n"
     ]
    },
    {
     "name": "stderr",
     "output_type": "stream",
     "text": [
      "100%|██████████| 50/50 [00:15<00:00,  3.20it/s]\n",
      "100%|██████████| 50/50 [00:18<00:00,  2.68it/s]\n"
     ]
    },
    {
     "name": "stdout",
     "output_type": "stream",
     "text": [
      "adjusted Melody length: 43680\n",
      "finding causality....\n",
      "1616 true causes out of 3024 total connections\n",
      "time elapsed:  226.12792029499906\n",
      "iteration:  6\n",
      "Starting surrogate generation...\n"
     ]
    },
    {
     "name": "stderr",
     "output_type": "stream",
     "text": [
      "100%|██████████| 50/50 [00:25<00:00,  1.94it/s]\n",
      "100%|██████████| 50/50 [00:14<00:00,  3.51it/s]\n"
     ]
    },
    {
     "name": "stdout",
     "output_type": "stream",
     "text": [
      "adjusted Melody length: 43680\n",
      "finding causality....\n",
      "1602 true causes out of 3024 total connections\n",
      "time elapsed:  228.65682360400024\n",
      "iteration:  7\n",
      "Starting surrogate generation...\n"
     ]
    },
    {
     "name": "stderr",
     "output_type": "stream",
     "text": [
      "100%|██████████| 50/50 [00:19<00:00,  2.52it/s]\n",
      "100%|██████████| 50/50 [00:09<00:00,  5.35it/s]\n"
     ]
    },
    {
     "name": "stdout",
     "output_type": "stream",
     "text": [
      "adjusted Melody length: 43680\n",
      "finding causality....\n",
      "1765 true causes out of 3024 total connections\n",
      "time elapsed:  222.55596132799838\n",
      "iteration:  8\n",
      "Starting surrogate generation...\n"
     ]
    },
    {
     "name": "stderr",
     "output_type": "stream",
     "text": [
      "100%|██████████| 50/50 [00:11<00:00,  4.53it/s]\n",
      "100%|██████████| 50/50 [00:10<00:00,  4.76it/s]\n"
     ]
    },
    {
     "name": "stdout",
     "output_type": "stream",
     "text": [
      "adjusted Melody length: 43680\n",
      "finding causality....\n",
      "1747 true causes out of 3024 total connections\n",
      "time elapsed:  212.7220547470024\n",
      "iteration:  9\n",
      "Starting surrogate generation...\n"
     ]
    },
    {
     "name": "stderr",
     "output_type": "stream",
     "text": [
      "100%|██████████| 50/50 [00:23<00:00,  2.12it/s]\n",
      "100%|██████████| 50/50 [00:20<00:00,  2.41it/s]\n"
     ]
    },
    {
     "name": "stdout",
     "output_type": "stream",
     "text": [
      "adjusted Melody length: 43680\n",
      "finding causality....\n",
      "1608 true causes out of 3024 total connections\n",
      "time elapsed:  233.68813059999957\n",
      "iteration:  10\n",
      "Starting surrogate generation...\n"
     ]
    },
    {
     "name": "stderr",
     "output_type": "stream",
     "text": [
      "100%|██████████| 50/50 [00:16<00:00,  2.98it/s]\n",
      "100%|██████████| 50/50 [00:14<00:00,  3.53it/s]\n"
     ]
    },
    {
     "name": "stdout",
     "output_type": "stream",
     "text": [
      "adjusted Melody length: 43680\n",
      "finding causality....\n",
      "1480 true causes out of 3024 total connections\n",
      "time elapsed:  219.93920594000156\n"
     ]
    }
   ],
   "source": [
    "tc65, totc65, ss65 = _ragaIterator(10, '65', '29_h', num_surrogates=50, times_it=t_dict)"
   ],
   "metadata": {
    "collapsed": false,
    "pycharm": {
     "name": "#%%\n"
    }
   }
  },
  {
   "cell_type": "code",
   "execution_count": 12,
   "outputs": [
    {
     "data": {
      "text/plain": "(1644.6, 37.424173020300074, 182.3727227753996)"
     },
     "execution_count": 12,
     "metadata": {},
     "output_type": "execute_result"
    }
   ],
   "source": [
    "avg_conns(tc65), avg_conns(t_dict[\"Surrogate65\"]), avg_conns(t_dict[\"Causality65\"])"
   ],
   "metadata": {
    "collapsed": false,
    "pycharm": {
     "name": "#%%\n"
    }
   }
  },
  {
   "cell_type": "code",
   "execution_count": 5,
   "outputs": [
    {
     "name": "stdout",
     "output_type": "stream",
     "text": [
      "iteration:  1\n",
      "Starting surrogate generation...\n"
     ]
    },
    {
     "name": "stderr",
     "output_type": "stream",
     "text": [
      "100%|██████████| 50/50 [00:34<00:00,  1.43it/s]\n",
      "100%|██████████| 50/50 [00:13<00:00,  3.79it/s]\n"
     ]
    },
    {
     "name": "stdout",
     "output_type": "stream",
     "text": [
      "adjusted Melody length: 43680\n",
      "finding causality....\n",
      "2633 true causes out of 3024 total connections\n",
      "time elapsed:  212.19028972700016\n",
      "iteration:  2\n",
      "Starting surrogate generation...\n"
     ]
    },
    {
     "name": "stderr",
     "output_type": "stream",
     "text": [
      "100%|██████████| 50/50 [00:50<00:00,  1.01s/it]\n",
      "100%|██████████| 50/50 [00:21<00:00,  2.34it/s]\n"
     ]
    },
    {
     "name": "stdout",
     "output_type": "stream",
     "text": [
      "adjusted Melody length: 43680\n",
      "finding causality....\n",
      "2341 true causes out of 3024 total connections\n",
      "time elapsed:  236.07045239299987\n",
      "iteration:  3\n",
      "Starting surrogate generation...\n"
     ]
    },
    {
     "name": "stderr",
     "output_type": "stream",
     "text": [
      "100%|██████████| 50/50 [00:19<00:00,  2.59it/s]\n",
      "100%|██████████| 50/50 [00:51<00:00,  1.03s/it]\n"
     ]
    },
    {
     "name": "stdout",
     "output_type": "stream",
     "text": [
      "adjusted Melody length: 43680\n",
      "finding causality....\n",
      "2294 true causes out of 3024 total connections\n",
      "time elapsed:  232.668492797\n",
      "iteration:  4\n",
      "Starting surrogate generation...\n"
     ]
    },
    {
     "name": "stderr",
     "output_type": "stream",
     "text": [
      "100%|██████████| 50/50 [00:17<00:00,  2.87it/s]\n",
      "100%|██████████| 50/50 [00:11<00:00,  4.20it/s]\n"
     ]
    },
    {
     "name": "stdout",
     "output_type": "stream",
     "text": [
      "adjusted Melody length: 43680\n",
      "finding causality....\n",
      "2521 true causes out of 3024 total connections\n",
      "time elapsed:  193.34618632800039\n",
      "iteration:  5\n",
      "Starting surrogate generation...\n"
     ]
    },
    {
     "name": "stderr",
     "output_type": "stream",
     "text": [
      "100%|██████████| 50/50 [02:20<00:00,  2.80s/it]\n",
      "100%|██████████| 50/50 [00:11<00:00,  4.20it/s]\n"
     ]
    },
    {
     "name": "stdout",
     "output_type": "stream",
     "text": [
      "adjusted Melody length: 43680\n",
      "finding causality....\n",
      "2450 true causes out of 3024 total connections\n",
      "time elapsed:  313.182176843\n",
      "iteration:  6\n",
      "Starting surrogate generation...\n"
     ]
    },
    {
     "name": "stderr",
     "output_type": "stream",
     "text": [
      "100%|██████████| 50/50 [00:13<00:00,  3.73it/s]\n",
      "100%|██████████| 50/50 [00:14<00:00,  3.57it/s]\n"
     ]
    },
    {
     "name": "stdout",
     "output_type": "stream",
     "text": [
      "adjusted Melody length: 43680\n",
      "finding causality....\n",
      "2522 true causes out of 3024 total connections\n",
      "time elapsed:  192.53686137000022\n",
      "iteration:  7\n",
      "Starting surrogate generation...\n"
     ]
    },
    {
     "name": "stderr",
     "output_type": "stream",
     "text": [
      "100%|██████████| 50/50 [00:18<00:00,  2.75it/s]\n",
      "100%|██████████| 50/50 [00:14<00:00,  3.41it/s]\n"
     ]
    },
    {
     "name": "stdout",
     "output_type": "stream",
     "text": [
      "adjusted Melody length: 43680\n",
      "finding causality....\n",
      "2463 true causes out of 3024 total connections\n",
      "time elapsed:  194.03206981699986\n",
      "iteration:  8\n",
      "Starting surrogate generation...\n"
     ]
    },
    {
     "name": "stderr",
     "output_type": "stream",
     "text": [
      "100%|██████████| 50/50 [00:19<00:00,  2.61it/s]\n",
      "100%|██████████| 50/50 [00:26<00:00,  1.89it/s]\n"
     ]
    },
    {
     "name": "stdout",
     "output_type": "stream",
     "text": [
      "adjusted Melody length: 43680\n",
      "finding causality....\n",
      "2431 true causes out of 3024 total connections\n",
      "time elapsed:  208.76942676599992\n",
      "iteration:  9\n",
      "Starting surrogate generation...\n"
     ]
    },
    {
     "name": "stderr",
     "output_type": "stream",
     "text": [
      "100%|██████████| 50/50 [00:15<00:00,  3.28it/s]\n",
      "100%|██████████| 50/50 [00:14<00:00,  3.52it/s]\n"
     ]
    },
    {
     "name": "stdout",
     "output_type": "stream",
     "text": [
      "adjusted Melody length: 43680\n",
      "finding causality....\n",
      "2307 true causes out of 3024 total connections\n",
      "time elapsed:  189.96863819200007\n",
      "iteration:  10\n",
      "Starting surrogate generation...\n"
     ]
    },
    {
     "name": "stderr",
     "output_type": "stream",
     "text": [
      "100%|██████████| 50/50 [00:20<00:00,  2.45it/s]\n",
      "100%|██████████| 50/50 [00:17<00:00,  2.85it/s]\n"
     ]
    },
    {
     "name": "stdout",
     "output_type": "stream",
     "text": [
      "adjusted Melody length: 43680\n",
      "finding causality....\n",
      "2211 true causes out of 3024 total connections\n",
      "time elapsed:  198.76770169299925\n"
     ]
    }
   ],
   "source": [
    "tc15, totc15, ss15 = _ragaIterator(10, '15', '15_m', num_surrogates=50, times_it=t_dict)"
   ],
   "metadata": {
    "collapsed": false,
    "pycharm": {
     "name": "#%%\n"
    }
   }
  },
  {
   "cell_type": "code",
   "execution_count": 10,
   "outputs": [
    {
     "data": {
      "text/plain": "(2417.3, 55.514034086399946, 148.08025281639988)"
     },
     "execution_count": 10,
     "metadata": {},
     "output_type": "execute_result"
    }
   ],
   "source": [
    "# os.system(\"cat /home/efm-workstation/surr_stats/{}/truecauses{}.txt\".format(15, 50))\n",
    "avg_conns(tc15), avg_conns(t_dict[\"Surrogate15\"]), avg_conns(t_dict[\"Causality15\"])"
   ],
   "metadata": {
    "collapsed": false,
    "pycharm": {
     "name": "#%%\n"
    }
   }
  },
  {
   "cell_type": "code",
   "execution_count": 15,
   "outputs": [
    {
     "name": "stdout",
     "output_type": "stream",
     "text": [
      "iteration:  1\n",
      "Starting surrogate generation...\n"
     ]
    },
    {
     "name": "stderr",
     "output_type": "stream",
     "text": [
      "100%|██████████| 50/50 [00:20<00:00,  2.38it/s]\n",
      "100%|██████████| 50/50 [00:16<00:00,  2.99it/s]\n"
     ]
    },
    {
     "name": "stdout",
     "output_type": "stream",
     "text": [
      "adjusted Melody length: 43680\n",
      "finding causality....\n",
      "619 true causes out of 3248 total connections\n",
      "time elapsed:  270.9603171999988\n",
      "iteration:  2\n",
      "Starting surrogate generation...\n"
     ]
    },
    {
     "name": "stderr",
     "output_type": "stream",
     "text": [
      "100%|██████████| 50/50 [00:25<00:00,  1.97it/s]\n",
      "100%|██████████| 50/50 [00:18<00:00,  2.70it/s]\n"
     ]
    },
    {
     "name": "stdout",
     "output_type": "stream",
     "text": [
      "adjusted Melody length: 43680\n",
      "finding causality....\n",
      "782 true causes out of 3248 total connections\n",
      "time elapsed:  278.37013650600056\n",
      "iteration:  3\n",
      "Starting surrogate generation...\n"
     ]
    },
    {
     "name": "stderr",
     "output_type": "stream",
     "text": [
      "100%|██████████| 50/50 [00:14<00:00,  3.42it/s]\n",
      "100%|██████████| 50/50 [00:10<00:00,  4.85it/s]\n"
     ]
    },
    {
     "name": "stdout",
     "output_type": "stream",
     "text": [
      "adjusted Melody length: 43680\n",
      "finding causality....\n",
      "744 true causes out of 3248 total connections\n",
      "time elapsed:  256.44888838399856\n",
      "iteration:  4\n",
      "Starting surrogate generation...\n"
     ]
    },
    {
     "name": "stderr",
     "output_type": "stream",
     "text": [
      "100%|██████████| 50/50 [00:20<00:00,  2.44it/s]\n",
      "100%|██████████| 50/50 [00:14<00:00,  3.52it/s]\n"
     ]
    },
    {
     "name": "stdout",
     "output_type": "stream",
     "text": [
      "adjusted Melody length: 43680\n",
      "finding causality....\n",
      "564 true causes out of 3248 total connections\n",
      "time elapsed:  268.80401128499943\n",
      "iteration:  5\n",
      "Starting surrogate generation...\n"
     ]
    },
    {
     "name": "stderr",
     "output_type": "stream",
     "text": [
      "100%|██████████| 50/50 [00:24<00:00,  2.06it/s]\n",
      "100%|██████████| 50/50 [00:15<00:00,  3.25it/s]\n"
     ]
    },
    {
     "name": "stdout",
     "output_type": "stream",
     "text": [
      "adjusted Melody length: 43680\n",
      "finding causality....\n",
      "639 true causes out of 3248 total connections\n",
      "time elapsed:  273.48641842399957\n",
      "iteration:  6\n",
      "Starting surrogate generation...\n"
     ]
    },
    {
     "name": "stderr",
     "output_type": "stream",
     "text": [
      "100%|██████████| 50/50 [00:22<00:00,  2.25it/s]\n",
      "100%|██████████| 50/50 [00:15<00:00,  3.27it/s]\n"
     ]
    },
    {
     "name": "stdout",
     "output_type": "stream",
     "text": [
      "adjusted Melody length: 43680\n",
      "finding causality....\n",
      "713 true causes out of 3248 total connections\n",
      "time elapsed:  269.40660092100006\n",
      "iteration:  7\n",
      "Starting surrogate generation...\n"
     ]
    },
    {
     "name": "stderr",
     "output_type": "stream",
     "text": [
      "100%|██████████| 50/50 [00:13<00:00,  3.70it/s]\n",
      "100%|██████████| 50/50 [00:23<00:00,  2.14it/s]\n"
     ]
    },
    {
     "name": "stdout",
     "output_type": "stream",
     "text": [
      "adjusted Melody length: 43680\n",
      "finding causality....\n",
      "757 true causes out of 3248 total connections\n",
      "time elapsed:  272.4331948950021\n",
      "iteration:  8\n",
      "Starting surrogate generation...\n"
     ]
    },
    {
     "name": "stderr",
     "output_type": "stream",
     "text": [
      "100%|██████████| 50/50 [00:11<00:00,  4.41it/s]\n",
      "100%|██████████| 50/50 [00:30<00:00,  1.63it/s]\n"
     ]
    },
    {
     "name": "stdout",
     "output_type": "stream",
     "text": [
      "adjusted Melody length: 43680\n",
      "finding causality....\n",
      "612 true causes out of 3248 total connections\n",
      "time elapsed:  276.27639988900046\n",
      "iteration:  9\n",
      "Starting surrogate generation...\n"
     ]
    },
    {
     "name": "stderr",
     "output_type": "stream",
     "text": [
      "100%|██████████| 50/50 [00:09<00:00,  5.06it/s]\n",
      "100%|██████████| 50/50 [00:17<00:00,  2.89it/s]\n"
     ]
    },
    {
     "name": "stdout",
     "output_type": "stream",
     "text": [
      "adjusted Melody length: 43680\n",
      "finding causality....\n",
      "553 true causes out of 3248 total connections\n",
      "time elapsed:  259.0935400140006\n",
      "iteration:  10\n",
      "Starting surrogate generation...\n"
     ]
    },
    {
     "name": "stderr",
     "output_type": "stream",
     "text": [
      "100%|██████████| 50/50 [00:23<00:00,  2.09it/s]\n",
      "100%|██████████| 50/50 [00:30<00:00,  1.63it/s]\n"
     ]
    },
    {
     "name": "stdout",
     "output_type": "stream",
     "text": [
      "adjusted Melody length: 43680\n",
      "finding causality....\n",
      "703 true causes out of 3248 total connections\n",
      "time elapsed:  288.6824951169983\n"
     ]
    }
   ],
   "source": [
    "tc8, totc8, ss8 = _ragaIterator(10, '8', '8_d', num_surrogates=50, times_it=t_dict)"
   ],
   "metadata": {
    "collapsed": false,
    "pycharm": {
     "name": "#%%\n"
    }
   }
  },
  {
   "cell_type": "code",
   "execution_count": 16,
   "outputs": [
    {
     "data": {
      "text/plain": "(668.6, 40.217083348899905, 223.51942214590053)"
     },
     "execution_count": 16,
     "metadata": {},
     "output_type": "execute_result"
    }
   ],
   "source": [
    "avg_conns(tc8), avg_conns(t_dict[\"Surrogate8\"]), avg_conns(t_dict[\"Causality8\"])"
   ],
   "metadata": {
    "collapsed": false,
    "pycharm": {
     "name": "#%%\n"
    }
   }
  },
  {
   "cell_type": "code",
   "execution_count": 17,
   "outputs": [
    {
     "name": "stdout",
     "output_type": "stream",
     "text": [
      "iteration:  1\n",
      "Starting surrogate generation...\n"
     ]
    },
    {
     "name": "stderr",
     "output_type": "stream",
     "text": [
      "100%|██████████| 50/50 [00:18<00:00,  2.68it/s]\n",
      "100%|██████████| 50/50 [00:18<00:00,  2.70it/s]\n"
     ]
    },
    {
     "name": "stdout",
     "output_type": "stream",
     "text": [
      "adjusted Melody length: 43680\n",
      "finding causality....\n",
      "1883 true causes out of 2968 total connections\n",
      "time elapsed:  226.83664754599886\n",
      "iteration:  2\n",
      "Starting surrogate generation...\n"
     ]
    },
    {
     "name": "stderr",
     "output_type": "stream",
     "text": [
      "100%|██████████| 50/50 [00:25<00:00,  1.95it/s]\n",
      "100%|██████████| 50/50 [00:14<00:00,  3.39it/s]\n"
     ]
    },
    {
     "name": "stdout",
     "output_type": "stream",
     "text": [
      "adjusted Melody length: 43680\n",
      "finding causality....\n",
      "2022 true causes out of 2968 total connections\n",
      "time elapsed:  230.5618512630026\n",
      "iteration:  3\n",
      "Starting surrogate generation...\n"
     ]
    },
    {
     "name": "stderr",
     "output_type": "stream",
     "text": [
      "100%|██████████| 50/50 [00:14<00:00,  3.43it/s]\n",
      "100%|██████████| 50/50 [00:22<00:00,  2.19it/s]\n"
     ]
    },
    {
     "name": "stdout",
     "output_type": "stream",
     "text": [
      "adjusted Melody length: 43680\n",
      "finding causality....\n",
      "2006 true causes out of 2968 total connections\n",
      "time elapsed:  229.47921922499518\n",
      "iteration:  4\n",
      "Starting surrogate generation...\n"
     ]
    },
    {
     "name": "stderr",
     "output_type": "stream",
     "text": [
      "100%|██████████| 50/50 [00:21<00:00,  2.33it/s]\n",
      "100%|██████████| 50/50 [00:11<00:00,  4.20it/s]\n"
     ]
    },
    {
     "name": "stdout",
     "output_type": "stream",
     "text": [
      "adjusted Melody length: 43680\n",
      "finding causality....\n",
      "1798 true causes out of 2968 total connections\n",
      "time elapsed:  228.16324908100069\n",
      "iteration:  5\n",
      "Starting surrogate generation...\n"
     ]
    },
    {
     "name": "stderr",
     "output_type": "stream",
     "text": [
      "100%|██████████| 50/50 [00:14<00:00,  3.38it/s]\n",
      "100%|██████████| 50/50 [00:11<00:00,  4.52it/s]\n"
     ]
    },
    {
     "name": "stdout",
     "output_type": "stream",
     "text": [
      "adjusted Melody length: 43680\n",
      "finding causality....\n",
      "1877 true causes out of 2968 total connections\n",
      "time elapsed:  220.10172279100516\n",
      "iteration:  6\n",
      "Starting surrogate generation...\n"
     ]
    },
    {
     "name": "stderr",
     "output_type": "stream",
     "text": [
      "100%|██████████| 50/50 [00:12<00:00,  4.02it/s]\n",
      "100%|██████████| 50/50 [00:17<00:00,  2.78it/s]\n"
     ]
    },
    {
     "name": "stdout",
     "output_type": "stream",
     "text": [
      "adjusted Melody length: 43680\n",
      "finding causality....\n",
      "2007 true causes out of 2968 total connections\n",
      "time elapsed:  221.1728093349957\n",
      "iteration:  7\n",
      "Starting surrogate generation...\n"
     ]
    },
    {
     "name": "stderr",
     "output_type": "stream",
     "text": [
      "100%|██████████| 50/50 [00:12<00:00,  3.98it/s]\n",
      "100%|██████████| 50/50 [00:12<00:00,  4.09it/s]\n"
     ]
    },
    {
     "name": "stdout",
     "output_type": "stream",
     "text": [
      "adjusted Melody length: 43680\n",
      "finding causality....\n",
      "1848 true causes out of 2968 total connections\n",
      "time elapsed:  218.08270475899917\n",
      "iteration:  8\n",
      "Starting surrogate generation...\n"
     ]
    },
    {
     "name": "stderr",
     "output_type": "stream",
     "text": [
      "100%|██████████| 50/50 [00:13<00:00,  3.67it/s]\n",
      "100%|██████████| 50/50 [00:15<00:00,  3.18it/s]\n"
     ]
    },
    {
     "name": "stdout",
     "output_type": "stream",
     "text": [
      "adjusted Melody length: 43680\n",
      "finding causality....\n",
      "2053 true causes out of 2968 total connections\n",
      "time elapsed:  221.2663969109999\n",
      "iteration:  9\n",
      "Starting surrogate generation...\n"
     ]
    },
    {
     "name": "stderr",
     "output_type": "stream",
     "text": [
      "100%|██████████| 50/50 [00:20<00:00,  2.48it/s]\n",
      "100%|██████████| 50/50 [00:12<00:00,  3.89it/s]\n"
     ]
    },
    {
     "name": "stdout",
     "output_type": "stream",
     "text": [
      "adjusted Melody length: 43680\n",
      "finding causality....\n",
      "1665 true causes out of 2968 total connections\n",
      "time elapsed:  225.04745852699853\n",
      "iteration:  10\n",
      "Starting surrogate generation...\n"
     ]
    },
    {
     "name": "stderr",
     "output_type": "stream",
     "text": [
      "100%|██████████| 50/50 [00:10<00:00,  4.98it/s]\n",
      "100%|██████████| 50/50 [00:12<00:00,  4.10it/s]\n"
     ]
    },
    {
     "name": "stdout",
     "output_type": "stream",
     "text": [
      "adjusted Melody length: 43680\n",
      "finding causality....\n",
      "1835 true causes out of 2968 total connections\n",
      "time elapsed:  214.0779628510063\n"
     ]
    }
   ],
   "source": [
    "tc22, totc22, ss22 = _ragaIterator(10, '22', '22_a', num_surrogates=50, times_it=t_dict)"
   ],
   "metadata": {
    "collapsed": false,
    "pycharm": {
     "name": "#%%\n"
    }
   }
  },
  {
   "cell_type": "code",
   "execution_count": 18,
   "outputs": [
    {
     "data": {
      "text/plain": "(1899.4, 33.20455161340105, 182.73843879880042)"
     },
     "execution_count": 18,
     "metadata": {},
     "output_type": "execute_result"
    }
   ],
   "source": [
    "avg_conns(tc22), avg_conns(t_dict[\"Surrogate22\"]), avg_conns(t_dict[\"Causality22\"])"
   ],
   "metadata": {
    "collapsed": false,
    "pycharm": {
     "name": "#%%\n"
    }
   }
  },
  {
   "cell_type": "code",
   "execution_count": 19,
   "outputs": [
    {
     "name": "stdout",
     "output_type": "stream",
     "text": [
      "iteration:  1\n",
      "Starting surrogate generation...\n"
     ]
    },
    {
     "name": "stderr",
     "output_type": "stream",
     "text": [
      "100%|██████████| 50/50 [00:12<00:00,  3.87it/s]\n",
      "100%|██████████| 50/50 [00:19<00:00,  2.58it/s]\n"
     ]
    },
    {
     "name": "stdout",
     "output_type": "stream",
     "text": [
      "adjusted Melody length: 43680\n",
      "finding causality....\n",
      "1583 true causes out of 2970 total connections\n",
      "time elapsed:  246.19132544999593\n",
      "iteration:  2\n",
      "Starting surrogate generation...\n"
     ]
    },
    {
     "name": "stderr",
     "output_type": "stream",
     "text": [
      "100%|██████████| 50/50 [00:23<00:00,  2.17it/s]\n",
      "100%|██████████| 50/50 [00:24<00:00,  2.02it/s]\n"
     ]
    },
    {
     "name": "stdout",
     "output_type": "stream",
     "text": [
      "adjusted Melody length: 43680\n",
      "finding causality....\n",
      "1491 true causes out of 2970 total connections\n",
      "time elapsed:  265.5274024860046\n",
      "iteration:  3\n",
      "Starting surrogate generation...\n"
     ]
    },
    {
     "name": "stderr",
     "output_type": "stream",
     "text": [
      "100%|██████████| 50/50 [00:33<00:00,  1.48it/s]\n",
      "100%|██████████| 50/50 [00:27<00:00,  1.83it/s]\n"
     ]
    },
    {
     "name": "stdout",
     "output_type": "stream",
     "text": [
      "adjusted Melody length: 43680\n",
      "finding causality....\n",
      "1360 true causes out of 2970 total connections\n",
      "time elapsed:  280.2901996069995\n",
      "iteration:  4\n",
      "Starting surrogate generation...\n"
     ]
    },
    {
     "name": "stderr",
     "output_type": "stream",
     "text": [
      "100%|██████████| 50/50 [00:17<00:00,  2.88it/s]\n",
      "100%|██████████| 50/50 [00:18<00:00,  2.71it/s]\n"
     ]
    },
    {
     "name": "stdout",
     "output_type": "stream",
     "text": [
      "adjusted Melody length: 43680\n",
      "finding causality....\n",
      "1222 true causes out of 2970 total connections\n",
      "time elapsed:  253.55625574199803\n",
      "iteration:  5\n",
      "Starting surrogate generation...\n"
     ]
    },
    {
     "name": "stderr",
     "output_type": "stream",
     "text": [
      "100%|██████████| 50/50 [00:14<00:00,  3.45it/s]\n",
      "100%|██████████| 50/50 [00:15<00:00,  3.27it/s]\n"
     ]
    },
    {
     "name": "stdout",
     "output_type": "stream",
     "text": [
      "adjusted Melody length: 43680\n",
      "finding causality....\n",
      "1611 true causes out of 2970 total connections\n",
      "time elapsed:  251.48581056999683\n",
      "iteration:  6\n",
      "Starting surrogate generation...\n"
     ]
    },
    {
     "name": "stderr",
     "output_type": "stream",
     "text": [
      "100%|██████████| 50/50 [00:13<00:00,  3.69it/s]\n",
      "100%|██████████| 50/50 [00:26<00:00,  1.89it/s]\n"
     ]
    },
    {
     "name": "stdout",
     "output_type": "stream",
     "text": [
      "adjusted Melody length: 43680\n",
      "finding causality....\n",
      "1529 true causes out of 2970 total connections\n",
      "time elapsed:  257.3057503710006\n",
      "iteration:  7\n",
      "Starting surrogate generation...\n"
     ]
    },
    {
     "name": "stderr",
     "output_type": "stream",
     "text": [
      "100%|██████████| 50/50 [00:13<00:00,  3.59it/s]\n",
      "100%|██████████| 50/50 [00:17<00:00,  2.92it/s]\n"
     ]
    },
    {
     "name": "stdout",
     "output_type": "stream",
     "text": [
      "adjusted Melody length: 43680\n",
      "finding causality....\n",
      "1696 true causes out of 2970 total connections\n",
      "time elapsed:  247.076640254003\n",
      "iteration:  8\n",
      "Starting surrogate generation...\n"
     ]
    },
    {
     "name": "stderr",
     "output_type": "stream",
     "text": [
      "100%|██████████| 50/50 [00:17<00:00,  2.94it/s]\n",
      "100%|██████████| 50/50 [00:17<00:00,  2.93it/s]\n"
     ]
    },
    {
     "name": "stdout",
     "output_type": "stream",
     "text": [
      "adjusted Melody length: 43680\n",
      "finding causality....\n",
      "1428 true causes out of 2970 total connections\n",
      "time elapsed:  252.37233264899987\n",
      "iteration:  9\n",
      "Starting surrogate generation...\n"
     ]
    },
    {
     "name": "stderr",
     "output_type": "stream",
     "text": [
      "100%|██████████| 50/50 [00:13<00:00,  3.70it/s]\n",
      "100%|██████████| 50/50 [00:18<00:00,  2.77it/s]\n"
     ]
    },
    {
     "name": "stdout",
     "output_type": "stream",
     "text": [
      "adjusted Melody length: 43680\n",
      "finding causality....\n",
      "1428 true causes out of 2970 total connections\n",
      "time elapsed:  248.53994721799972\n",
      "iteration:  10\n",
      "Starting surrogate generation...\n"
     ]
    },
    {
     "name": "stderr",
     "output_type": "stream",
     "text": [
      "100%|██████████| 50/50 [00:16<00:00,  3.10it/s]\n",
      "100%|██████████| 50/50 [00:20<00:00,  2.43it/s]\n"
     ]
    },
    {
     "name": "stdout",
     "output_type": "stream",
     "text": [
      "adjusted Melody length: 43680\n",
      "finding causality....\n",
      "1588 true causes out of 2970 total connections\n",
      "time elapsed:  254.24143342200114\n"
     ]
    }
   ],
   "source": [
    "tc28, totc28, ss28 = _ragaIterator(10, '28', '28_k', num_surrogates=50, times_it=t_dict)"
   ],
   "metadata": {
    "collapsed": false,
    "pycharm": {
     "name": "#%%\n"
    }
   }
  },
  {
   "cell_type": "code",
   "execution_count": 20,
   "outputs": [
    {
     "data": {
      "text/plain": "(1493.6, 39.67997062440045, 208.65607820050136)"
     },
     "execution_count": 20,
     "metadata": {},
     "output_type": "execute_result"
    }
   ],
   "source": [
    "avg_conns(tc28), avg_conns(t_dict[\"Surrogate28\"]), avg_conns(t_dict[\"Causality28\"])"
   ],
   "metadata": {
    "collapsed": false,
    "pycharm": {
     "name": "#%%\n"
    }
   }
  },
  {
   "cell_type": "code",
   "execution_count": 21,
   "outputs": [
    {
     "name": "stdout",
     "output_type": "stream",
     "text": [
      "iteration:  1\n",
      "Starting surrogate generation...\n"
     ]
    },
    {
     "name": "stderr",
     "output_type": "stream",
     "text": [
      "100%|██████████| 50/50 [00:19<00:00,  2.55it/s]\n",
      "100%|██████████| 50/50 [00:17<00:00,  2.93it/s]\n"
     ]
    },
    {
     "name": "stdout",
     "output_type": "stream",
     "text": [
      "adjusted Melody length: 43680\n",
      "finding causality....\n",
      "2319 true causes out of 3024 total connections\n",
      "time elapsed:  243.95732997899904\n",
      "iteration:  2\n",
      "Starting surrogate generation...\n"
     ]
    },
    {
     "name": "stderr",
     "output_type": "stream",
     "text": [
      "100%|██████████| 50/50 [00:24<00:00,  2.06it/s]\n",
      "100%|██████████| 50/50 [00:14<00:00,  3.35it/s]\n"
     ]
    },
    {
     "name": "stdout",
     "output_type": "stream",
     "text": [
      "adjusted Melody length: 43680\n",
      "finding causality....\n",
      "2328 true causes out of 3024 total connections\n",
      "time elapsed:  246.67933081799856\n",
      "iteration:  3\n",
      "Starting surrogate generation...\n"
     ]
    },
    {
     "name": "stderr",
     "output_type": "stream",
     "text": [
      "100%|██████████| 50/50 [00:23<00:00,  2.17it/s]\n",
      "100%|██████████| 50/50 [00:08<00:00,  5.59it/s]\n"
     ]
    },
    {
     "name": "stdout",
     "output_type": "stream",
     "text": [
      "adjusted Melody length: 43680\n",
      "finding causality....\n",
      "2340 true causes out of 3024 total connections\n",
      "time elapsed:  241.2405150870036\n",
      "iteration:  4\n",
      "Starting surrogate generation...\n"
     ]
    },
    {
     "name": "stderr",
     "output_type": "stream",
     "text": [
      "100%|██████████| 50/50 [00:30<00:00,  1.65it/s]\n",
      "100%|██████████| 50/50 [00:18<00:00,  2.76it/s]\n"
     ]
    },
    {
     "name": "stdout",
     "output_type": "stream",
     "text": [
      "adjusted Melody length: 43680\n",
      "finding causality....\n",
      "2396 true causes out of 3024 total connections\n",
      "time elapsed:  255.56830606600124\n",
      "iteration:  5\n",
      "Starting surrogate generation...\n"
     ]
    },
    {
     "name": "stderr",
     "output_type": "stream",
     "text": [
      "100%|██████████| 50/50 [00:16<00:00,  3.12it/s]\n",
      "100%|██████████| 50/50 [00:16<00:00,  3.03it/s]\n"
     ]
    },
    {
     "name": "stdout",
     "output_type": "stream",
     "text": [
      "adjusted Melody length: 43680\n",
      "finding causality....\n",
      "2315 true causes out of 3024 total connections\n",
      "time elapsed:  237.8880027999985\n",
      "iteration:  6\n",
      "Starting surrogate generation...\n"
     ]
    },
    {
     "name": "stderr",
     "output_type": "stream",
     "text": [
      "100%|██████████| 50/50 [00:19<00:00,  2.52it/s]\n",
      "100%|██████████| 50/50 [00:13<00:00,  3.70it/s]\n"
     ]
    },
    {
     "name": "stdout",
     "output_type": "stream",
     "text": [
      "adjusted Melody length: 43680\n",
      "finding causality....\n",
      "2276 true causes out of 3024 total connections\n",
      "time elapsed:  239.35955908699543\n",
      "iteration:  7\n",
      "Starting surrogate generation...\n"
     ]
    },
    {
     "name": "stderr",
     "output_type": "stream",
     "text": [
      "100%|██████████| 50/50 [00:17<00:00,  2.93it/s]\n",
      "100%|██████████| 50/50 [00:17<00:00,  2.87it/s]\n"
     ]
    },
    {
     "name": "stdout",
     "output_type": "stream",
     "text": [
      "adjusted Melody length: 43680\n",
      "finding causality....\n",
      "2374 true causes out of 3024 total connections\n",
      "time elapsed:  243.14381125799991\n",
      "iteration:  8\n",
      "Starting surrogate generation...\n"
     ]
    },
    {
     "name": "stderr",
     "output_type": "stream",
     "text": [
      "100%|██████████| 50/50 [00:19<00:00,  2.53it/s]\n",
      "100%|██████████| 50/50 [00:12<00:00,  4.05it/s]\n"
     ]
    },
    {
     "name": "stdout",
     "output_type": "stream",
     "text": [
      "adjusted Melody length: 43680\n",
      "finding causality....\n",
      "2327 true causes out of 3024 total connections\n",
      "time elapsed:  240.7403798680025\n",
      "iteration:  9\n",
      "Starting surrogate generation...\n"
     ]
    },
    {
     "name": "stderr",
     "output_type": "stream",
     "text": [
      "100%|██████████| 50/50 [00:15<00:00,  3.30it/s]\n",
      "100%|██████████| 50/50 [00:16<00:00,  3.08it/s]\n"
     ]
    },
    {
     "name": "stdout",
     "output_type": "stream",
     "text": [
      "adjusted Melody length: 43680\n",
      "finding causality....\n",
      "2405 true causes out of 3024 total connections\n",
      "time elapsed:  235.35074236599758\n",
      "iteration:  10\n",
      "Starting surrogate generation...\n"
     ]
    },
    {
     "name": "stderr",
     "output_type": "stream",
     "text": [
      "100%|██████████| 50/50 [00:13<00:00,  3.62it/s]\n",
      "100%|██████████| 50/50 [00:25<00:00,  1.96it/s]\n"
     ]
    },
    {
     "name": "stdout",
     "output_type": "stream",
     "text": [
      "adjusted Melody length: 43680\n",
      "finding causality....\n",
      "2141 true causes out of 3024 total connections\n",
      "time elapsed:  245.82174390100408\n"
     ]
    }
   ],
   "source": [
    "tc29, totc29, ss29 = _ragaIterator(10, '29', '29_h', num_surrogates=50, times_it=t_dict)"
   ],
   "metadata": {
    "collapsed": false,
    "pycharm": {
     "name": "#%%\n"
    }
   }
  },
  {
   "cell_type": "code",
   "execution_count": 22,
   "outputs": [
    {
     "data": {
      "text/plain": "(2322.1, 37.971970005199545, 197.75677085439892)"
     },
     "execution_count": 22,
     "metadata": {},
     "output_type": "execute_result"
    }
   ],
   "source": [
    "avg_conns(tc29), avg_conns(t_dict[\"Surrogate29\"]), avg_conns(t_dict[\"Causality29\"])"
   ],
   "metadata": {
    "collapsed": false,
    "pycharm": {
     "name": "#%%\n"
    }
   }
  },
  {
   "cell_type": "code",
   "execution_count": null,
   "outputs": [],
   "source": [
    "t_dict"
   ],
   "metadata": {
    "collapsed": false,
    "pycharm": {
     "name": "#%%\n"
    }
   }
  },
  {
   "cell_type": "code",
   "execution_count": 3,
   "outputs": [
    {
     "name": "stdout",
     "output_type": "stream",
     "text": [
      "Starting surrogate generation...\n",
      "Starting surrogate generation...\n",
      "Starting surrogate generation...\n",
      "Starting surrogate generation...\n",
      "Starting surrogate generation...\n",
      "Starting surrogate generation...\n",
      "Starting surrogate generation...\n",
      "Starting surrogate generation...\n",
      "Starting surrogate generation...\n",
      "Starting surrogate generation...\n",
      "Starting surrogate generation...\n",
      "Starting surrogate generation...\n",
      "Starting surrogate generation...\n",
      "Starting surrogate generation...\n",
      "Starting surrogate generation...\n",
      "Starting surrogate generation...\n",
      "Starting surrogate generation...\n",
      "Starting surrogate generation...\n",
      "Starting surrogate generation...\n",
      "Starting surrogate generation...\n",
      "Starting surrogate generation...\n",
      "Starting surrogate generation...\n",
      "Starting surrogate generation...\n",
      "Starting surrogate generation...\n",
      "Starting surrogate generation...\n",
      "Starting surrogate generation...\n",
      "Starting surrogate generation...\n",
      "Starting surrogate generation...\n",
      "Starting surrogate generation...\n",
      "Starting surrogate generation...\n",
      "Starting surrogate generation...\n",
      "Starting surrogate generation...\n",
      "Starting surrogate generation...\n",
      "Starting surrogate generation...\n",
      "Starting surrogate generation...\n",
      "Starting surrogate generation...\n",
      "Starting surrogate generation...\n",
      "Starting surrogate generation...\n",
      "Starting surrogate generation...\n",
      "Starting surrogate generation...\n",
      "Starting surrogate generation...\n",
      "Starting surrogate generation...\n",
      "Starting surrogate generation...\n",
      "Starting surrogate generation...\n",
      "Starting surrogate generation...\n",
      "Starting surrogate generation...\n",
      "Starting surrogate generation...\n",
      "Starting surrogate generation...\n",
      "Starting surrogate generation...\n",
      "Starting surrogate generation...\n"
     ]
    }
   ],
   "source": [
    "# gentimes8 = []\n",
    "#\n",
    "# for _ in range(10):\n",
    "#     gentimes8.append(get_generation_time50('8', '8_d'))\n",
    "#     gentimes8.append(get_generation_time50('15', '15_m'))\n",
    "#     gentimes8.append(get_generation_time50('22', '22_a'))\n",
    "#     gentimes8.append(get_generation_time50('28', '28_k'))\n",
    "#     gentimes8.append(get_generation_time50('29', '29_h'))\n",
    "#\n",
    "#\n",
    "# gentime8 = np.array(gentimes8[0:10]).mean()\n",
    "# gentime15 = np.array(gentimes8[10:20]).mean()\n",
    "# gentime22 = np.array(gentimes8[20:30]).mean()\n",
    "# gentime28 = np.array(gentimes8[30:40]).mean()\n",
    "# gentime29 = np.array(gentimes8[40:50]).mean()\n",
    "#\n",
    "# gentime8, gentime15, gentime22, gentime28, gentime29"
   ],
   "metadata": {
    "collapsed": false,
    "pycharm": {
     "name": "#%%\n"
    }
   }
  },
  {
   "cell_type": "markdown",
   "source": [
    "## 150 surrogates"
   ],
   "metadata": {
    "collapsed": false,
    "pycharm": {
     "name": "#%% md\n"
    }
   }
  },
  {
   "cell_type": "code",
   "execution_count": 6,
   "outputs": [],
   "source": [
    "t_dict = {}"
   ],
   "metadata": {
    "collapsed": false,
    "pycharm": {
     "name": "#%%\n"
    }
   }
  },
  {
   "cell_type": "code",
   "execution_count": null,
   "outputs": [
    {
     "name": "stdout",
     "output_type": "stream",
     "text": [
      "iteration:  1\n",
      "Starting surrogate generation...\n"
     ]
    },
    {
     "name": "stderr",
     "output_type": "stream",
     "text": [
      "100%|██████████| 150/150 [00:55<00:00,  2.69it/s]\n",
      "100%|██████████| 150/150 [00:54<00:00,  2.74it/s]\n"
     ]
    },
    {
     "name": "stdout",
     "output_type": "stream",
     "text": [
      "finding causality....\n",
      "20336 true causes out of 24024 total connections\n",
      "time elapsed:  1912.7792934960016\n",
      "iteration:  2\n",
      "Starting surrogate generation...\n"
     ]
    },
    {
     "name": "stderr",
     "output_type": "stream",
     "text": [
      "100%|██████████| 150/150 [00:39<00:00,  3.79it/s]\n",
      "100%|██████████| 150/150 [00:35<00:00,  4.24it/s]\n"
     ]
    },
    {
     "name": "stdout",
     "output_type": "stream",
     "text": [
      "finding causality....\n",
      "19595 true causes out of 24024 total connections\n",
      "time elapsed:  1888.3809031659985\n",
      "iteration:  3\n",
      "Starting surrogate generation...\n"
     ]
    },
    {
     "name": "stderr",
     "output_type": "stream",
     "text": [
      "100%|██████████| 150/150 [00:47<00:00,  3.14it/s]\n",
      "100%|██████████| 150/150 [00:41<00:00,  3.60it/s]\n"
     ]
    },
    {
     "name": "stdout",
     "output_type": "stream",
     "text": [
      "finding causality....\n",
      "20845 true causes out of 24024 total connections\n",
      "time elapsed:  1906.1474162939994\n",
      "iteration:  4\n",
      "Starting surrogate generation...\n"
     ]
    },
    {
     "name": "stderr",
     "output_type": "stream",
     "text": [
      "100%|██████████| 150/150 [00:45<00:00,  3.32it/s]\n",
      "100%|██████████| 150/150 [00:41<00:00,  3.64it/s]\n"
     ]
    },
    {
     "name": "stdout",
     "output_type": "stream",
     "text": [
      "finding causality....\n",
      "20604 true causes out of 24024 total connections\n",
      "time elapsed:  1900.1705254010012\n",
      "iteration:  5\n",
      "Starting surrogate generation...\n"
     ]
    },
    {
     "name": "stderr",
     "output_type": "stream",
     "text": [
      "100%|██████████| 150/150 [00:53<00:00,  2.78it/s]\n",
      "100%|██████████| 150/150 [00:51<00:00,  2.91it/s]\n"
     ]
    },
    {
     "name": "stdout",
     "output_type": "stream",
     "text": [
      "finding causality....\n",
      "20164 true causes out of 24024 total connections\n",
      "time elapsed:  1918.1216722840036\n",
      "iteration:  6\n",
      "Starting surrogate generation...\n"
     ]
    },
    {
     "name": "stderr",
     "output_type": "stream",
     "text": [
      "100%|██████████| 150/150 [00:53<00:00,  2.80it/s]\n",
      "100%|██████████| 150/150 [00:45<00:00,  3.26it/s]\n"
     ]
    },
    {
     "name": "stdout",
     "output_type": "stream",
     "text": [
      "finding causality....\n"
     ]
    }
   ],
   "source": [
    "tc15, totc15, ss15 = _ragaIterator(10, '15', '15_m', num_surrogates=150, times_it=t_dict)"
   ],
   "metadata": {
    "collapsed": false,
    "pycharm": {
     "name": "#%%\n"
    }
   }
  },
  {
   "cell_type": "code",
   "execution_count": null,
   "outputs": [],
   "source": [
    "avg_conns(tc15), avg_conns(t_dict[\"Surrogate15\"]), avg_conns(t_dict[\"Causality15\"])"
   ],
   "metadata": {
    "collapsed": false,
    "pycharm": {
     "name": "#%%\n"
    }
   }
  },
  {
   "cell_type": "code",
   "execution_count": 12,
   "outputs": [
    {
     "name": "stdout",
     "output_type": "stream",
     "text": [
      "iteration:  1\n",
      "Starting surrogate generation...\n",
      "finding causality....\n",
      "14463 true causes out of 24648 total connections\n",
      "time elapsed:  2377.1097622410016\n",
      "iteration:  2\n",
      "Starting surrogate generation...\n",
      "finding causality....\n",
      "15204 true causes out of 24648 total connections\n",
      "time elapsed:  2329.3596639659954\n",
      "iteration:  3\n",
      "Starting surrogate generation...\n",
      "finding causality....\n",
      "15244 true causes out of 24648 total connections\n",
      "time elapsed:  2377.415402065002\n",
      "iteration:  4\n",
      "Starting surrogate generation...\n",
      "finding causality....\n"
     ]
    },
    {
     "name": "stderr",
     "output_type": "stream",
     "text": [
      "Process ForkPoolWorker-1040:\n",
      "Process ForkPoolWorker-1047:\n",
      "Process ForkPoolWorker-1052:\n",
      "Process ForkPoolWorker-1055:\n",
      "Process ForkPoolWorker-1034:\n",
      "Process ForkPoolWorker-1054:\n",
      "Process ForkPoolWorker-1051:\n",
      "Process ForkPoolWorker-1045:\n",
      "Process ForkPoolWorker-1046:\n",
      "Process ForkPoolWorker-1049:\n",
      "Process ForkPoolWorker-1039:\n",
      "Process ForkPoolWorker-1041:\n",
      "Process ForkPoolWorker-1056:\n",
      "Process ForkPoolWorker-1035:\n",
      "Process ForkPoolWorker-1033:\n",
      "Process ForkPoolWorker-1043:\n",
      "Process ForkPoolWorker-1048:\n",
      "Process ForkPoolWorker-1053:\n",
      "Process ForkPoolWorker-1038:\n",
      "Process ForkPoolWorker-1050:\n",
      "Traceback (most recent call last):\n",
      "Traceback (most recent call last):\n",
      "Traceback (most recent call last):\n",
      "Traceback (most recent call last):\n",
      "Traceback (most recent call last):\n",
      "Traceback (most recent call last):\n",
      "  File \"/home/abhisheknandekar/miniconda3/envs/raga/lib/python3.8/multiprocessing/process.py\", line 315, in _bootstrap\n",
      "    self.run()\n",
      "Traceback (most recent call last):\n",
      "  File \"/home/abhisheknandekar/miniconda3/envs/raga/lib/python3.8/multiprocessing/process.py\", line 315, in _bootstrap\n",
      "    self.run()\n",
      "Traceback (most recent call last):\n",
      "Traceback (most recent call last):\n",
      "Traceback (most recent call last):\n",
      "  File \"/home/abhisheknandekar/miniconda3/envs/raga/lib/python3.8/multiprocessing/process.py\", line 315, in _bootstrap\n",
      "    self.run()\n",
      "Traceback (most recent call last):\n",
      "Traceback (most recent call last):\n",
      "  File \"/home/abhisheknandekar/miniconda3/envs/raga/lib/python3.8/multiprocessing/process.py\", line 315, in _bootstrap\n",
      "    self.run()\n",
      "  File \"/home/abhisheknandekar/miniconda3/envs/raga/lib/python3.8/multiprocessing/process.py\", line 315, in _bootstrap\n",
      "    self.run()\n",
      "  File \"/home/abhisheknandekar/miniconda3/envs/raga/lib/python3.8/multiprocessing/process.py\", line 315, in _bootstrap\n",
      "    self.run()\n",
      "  File \"/home/abhisheknandekar/miniconda3/envs/raga/lib/python3.8/multiprocessing/process.py\", line 108, in run\n",
      "    self._target(*self._args, **self._kwargs)\n",
      "Traceback (most recent call last):\n",
      "Traceback (most recent call last):\n",
      "  File \"/home/abhisheknandekar/miniconda3/envs/raga/lib/python3.8/multiprocessing/process.py\", line 108, in run\n",
      "    self._target(*self._args, **self._kwargs)\n",
      "Traceback (most recent call last):\n",
      "Traceback (most recent call last):\n",
      "  File \"/home/abhisheknandekar/miniconda3/envs/raga/lib/python3.8/multiprocessing/process.py\", line 108, in run\n",
      "    self._target(*self._args, **self._kwargs)\n",
      "Traceback (most recent call last):\n",
      "  File \"/home/abhisheknandekar/miniconda3/envs/raga/lib/python3.8/multiprocessing/process.py\", line 315, in _bootstrap\n",
      "    self.run()\n",
      "  File \"/home/abhisheknandekar/miniconda3/envs/raga/lib/python3.8/multiprocessing/process.py\", line 315, in _bootstrap\n",
      "    self.run()\n",
      "  File \"/home/abhisheknandekar/miniconda3/envs/raga/lib/python3.8/multiprocessing/process.py\", line 315, in _bootstrap\n",
      "    self.run()\n",
      "Traceback (most recent call last):\n",
      "  File \"/home/abhisheknandekar/miniconda3/envs/raga/lib/python3.8/multiprocessing/process.py\", line 108, in run\n",
      "    self._target(*self._args, **self._kwargs)\n",
      "  File \"/home/abhisheknandekar/miniconda3/envs/raga/lib/python3.8/multiprocessing/process.py\", line 315, in _bootstrap\n",
      "    self.run()\n",
      "  File \"/home/abhisheknandekar/miniconda3/envs/raga/lib/python3.8/multiprocessing/process.py\", line 315, in _bootstrap\n",
      "    self.run()\n",
      "  File \"/home/abhisheknandekar/miniconda3/envs/raga/lib/python3.8/multiprocessing/process.py\", line 108, in run\n",
      "    self._target(*self._args, **self._kwargs)\n",
      "Process ForkPoolWorker-1042:\n",
      "  File \"/home/abhisheknandekar/miniconda3/envs/raga/lib/python3.8/multiprocessing/pool.py\", line 125, in worker\n",
      "    result = (True, func(*args, **kwds))\n",
      "  File \"/home/abhisheknandekar/miniconda3/envs/raga/lib/python3.8/multiprocessing/process.py\", line 315, in _bootstrap\n",
      "    self.run()\n",
      "  File \"/home/abhisheknandekar/miniconda3/envs/raga/lib/python3.8/multiprocessing/process.py\", line 108, in run\n",
      "    self._target(*self._args, **self._kwargs)\n",
      "  File \"/home/abhisheknandekar/miniconda3/envs/raga/lib/python3.8/multiprocessing/process.py\", line 315, in _bootstrap\n",
      "    self.run()\n",
      "  File \"/home/abhisheknandekar/miniconda3/envs/raga/lib/python3.8/multiprocessing/pool.py\", line 125, in worker\n",
      "    result = (True, func(*args, **kwds))\n",
      "  File \"/home/abhisheknandekar/miniconda3/envs/raga/lib/python3.8/multiprocessing/process.py\", line 315, in _bootstrap\n",
      "    self.run()\n",
      "Process ForkPoolWorker-1044:\n",
      "  File \"/home/abhisheknandekar/miniconda3/envs/raga/lib/python3.8/multiprocessing/process.py\", line 108, in run\n",
      "    self._target(*self._args, **self._kwargs)\n",
      "  File \"/home/abhisheknandekar/miniconda3/envs/raga/lib/python3.8/multiprocessing/process.py\", line 315, in _bootstrap\n",
      "    self.run()\n",
      "Traceback (most recent call last):\n",
      "  File \"/home/abhisheknandekar/miniconda3/envs/raga/lib/python3.8/multiprocessing/process.py\", line 108, in run\n",
      "    self._target(*self._args, **self._kwargs)\n",
      "  File \"/home/abhisheknandekar/miniconda3/envs/raga/lib/python3.8/multiprocessing/process.py\", line 315, in _bootstrap\n",
      "    self.run()\n",
      "  File \"/home/abhisheknandekar/miniconda3/envs/raga/lib/python3.8/multiprocessing/pool.py\", line 125, in worker\n",
      "    result = (True, func(*args, **kwds))\n",
      "  File \"/home/abhisheknandekar/miniconda3/envs/raga/lib/python3.8/multiprocessing/process.py\", line 108, in run\n",
      "    self._target(*self._args, **self._kwargs)\n",
      "  File \"/home/abhisheknandekar/miniconda3/envs/raga/lib/python3.8/multiprocessing/process.py\", line 315, in _bootstrap\n",
      "    self.run()\n",
      "  File \"/home/abhisheknandekar/miniconda3/envs/raga/lib/python3.8/multiprocessing/pool.py\", line 125, in worker\n",
      "    result = (True, func(*args, **kwds))\n",
      "  File \"/home/abhisheknandekar/miniconda3/envs/raga/lib/python3.8/multiprocessing/process.py\", line 108, in run\n",
      "    self._target(*self._args, **self._kwargs)\n",
      "Traceback (most recent call last):\n",
      "  File \"/home/abhisheknandekar/miniconda3/envs/raga/lib/python3.8/multiprocessing/process.py\", line 315, in _bootstrap\n",
      "    self.run()\n",
      "  File \"/home/abhisheknandekar/miniconda3/envs/raga/lib/python3.8/multiprocessing/process.py\", line 108, in run\n",
      "    self._target(*self._args, **self._kwargs)\n",
      "  File \"/home/abhisheknandekar/miniconda3/envs/raga/lib/python3.8/multiprocessing/process.py\", line 108, in run\n",
      "    self._target(*self._args, **self._kwargs)\n",
      "  File \"/home/abhisheknandekar/miniconda3/envs/raga/lib/python3.8/multiprocessing/pool.py\", line 51, in starmapstar\n",
      "    return list(itertools.starmap(args[0], args[1]))\n",
      "  File \"/home/abhisheknandekar/miniconda3/envs/raga/lib/python3.8/multiprocessing/pool.py\", line 125, in worker\n",
      "    result = (True, func(*args, **kwds))\n",
      "  File \"/home/abhisheknandekar/miniconda3/envs/raga/lib/python3.8/multiprocessing/process.py\", line 108, in run\n",
      "    self._target(*self._args, **self._kwargs)\n",
      "  File \"/home/abhisheknandekar/miniconda3/envs/raga/lib/python3.8/multiprocessing/pool.py\", line 125, in worker\n",
      "    result = (True, func(*args, **kwds))\n",
      "  File \"/home/abhisheknandekar/miniconda3/envs/raga/lib/python3.8/multiprocessing/pool.py\", line 51, in starmapstar\n",
      "    return list(itertools.starmap(args[0], args[1]))\n",
      "  File \"/home/abhisheknandekar/miniconda3/envs/raga/lib/python3.8/multiprocessing/process.py\", line 108, in run\n",
      "    self._target(*self._args, **self._kwargs)\n",
      "  File \"/home/abhisheknandekar/miniconda3/envs/raga/lib/python3.8/multiprocessing/pool.py\", line 125, in worker\n",
      "    result = (True, func(*args, **kwds))\n",
      "  File \"/home/abhisheknandekar/miniconda3/envs/raga/lib/python3.8/multiprocessing/pool.py\", line 125, in worker\n",
      "    result = (True, func(*args, **kwds))\n",
      "  File \"/home/abhisheknandekar/miniconda3/envs/raga/lib/python3.8/multiprocessing/process.py\", line 108, in run\n",
      "    self._target(*self._args, **self._kwargs)\n",
      "  File \"/home/abhisheknandekar/miniconda3/envs/raga/lib/python3.8/multiprocessing/pool.py\", line 125, in worker\n",
      "    result = (True, func(*args, **kwds))\n",
      "  File \"/home/abhisheknandekar/miniconda3/envs/raga/lib/python3.8/multiprocessing/process.py\", line 315, in _bootstrap\n",
      "    self.run()\n",
      "  File \"/home/abhisheknandekar/miniconda3/envs/raga/lib/python3.8/multiprocessing/process.py\", line 108, in run\n",
      "    self._target(*self._args, **self._kwargs)\n",
      "  File \"/home/abhisheknandekar/miniconda3/envs/raga/lib/python3.8/multiprocessing/pool.py\", line 51, in starmapstar\n",
      "    return list(itertools.starmap(args[0], args[1]))\n",
      "  File \"/home/abhisheknandekar/miniconda3/envs/raga/lib/python3.8/site-packages/ETC/CCMC/pairs.py\", line 428, in CCM_causality\n",
      "    ETC_causality(\n",
      "  File \"/home/abhisheknandekar/miniconda3/envs/raga/lib/python3.8/multiprocessing/pool.py\", line 51, in starmapstar\n",
      "    return list(itertools.starmap(args[0], args[1]))\n",
      "  File \"/home/abhisheknandekar/miniconda3/envs/raga/lib/python3.8/multiprocessing/pool.py\", line 125, in worker\n",
      "    result = (True, func(*args, **kwds))\n",
      "  File \"/home/abhisheknandekar/miniconda3/envs/raga/lib/python3.8/multiprocessing/pool.py\", line 125, in worker\n",
      "    result = (True, func(*args, **kwds))\n",
      "  File \"/home/abhisheknandekar/miniconda3/envs/raga/lib/python3.8/multiprocessing/pool.py\", line 51, in starmapstar\n",
      "    return list(itertools.starmap(args[0], args[1]))\n",
      "  File \"/home/abhisheknandekar/miniconda3/envs/raga/lib/python3.8/multiprocessing/process.py\", line 108, in run\n",
      "    self._target(*self._args, **self._kwargs)\n",
      "  File \"/home/abhisheknandekar/miniconda3/envs/raga/lib/python3.8/multiprocessing/process.py\", line 315, in _bootstrap\n",
      "    self.run()\n",
      "  File \"/home/abhisheknandekar/miniconda3/envs/raga/lib/python3.8/multiprocessing/pool.py\", line 125, in worker\n",
      "    result = (True, func(*args, **kwds))\n",
      "  File \"/home/abhisheknandekar/miniconda3/envs/raga/lib/python3.8/multiprocessing/pool.py\", line 51, in starmapstar\n",
      "    return list(itertools.starmap(args[0], args[1]))\n",
      "  File \"/home/abhisheknandekar/miniconda3/envs/raga/lib/python3.8/site-packages/ETC/CCMC/pairs.py\", line 428, in CCM_causality\n",
      "    ETC_causality(\n",
      "  File \"/home/abhisheknandekar/miniconda3/envs/raga/lib/python3.8/multiprocessing/pool.py\", line 51, in starmapstar\n",
      "    return list(itertools.starmap(args[0], args[1]))\n",
      "  File \"/home/abhisheknandekar/miniconda3/envs/raga/lib/python3.8/multiprocessing/pool.py\", line 51, in starmapstar\n",
      "    return list(itertools.starmap(args[0], args[1]))\n",
      "  File \"/home/abhisheknandekar/miniconda3/envs/raga/lib/python3.8/multiprocessing/process.py\", line 108, in run\n",
      "    self._target(*self._args, **self._kwargs)\n",
      "  File \"/home/abhisheknandekar/miniconda3/envs/raga/lib/python3.8/multiprocessing/pool.py\", line 125, in worker\n",
      "    result = (True, func(*args, **kwds))\n",
      "  File \"/home/abhisheknandekar/miniconda3/envs/raga/lib/python3.8/multiprocessing/pool.py\", line 125, in worker\n",
      "    result = (True, func(*args, **kwds))\n",
      "  File \"/home/abhisheknandekar/miniconda3/envs/raga/lib/python3.8/multiprocessing/pool.py\", line 125, in worker\n",
      "    result = (True, func(*args, **kwds))\n",
      "  File \"/home/abhisheknandekar/miniconda3/envs/raga/lib/python3.8/multiprocessing/process.py\", line 108, in run\n",
      "    self._target(*self._args, **self._kwargs)\n",
      "  File \"/home/abhisheknandekar/miniconda3/envs/raga/lib/python3.8/multiprocessing/pool.py\", line 51, in starmapstar\n",
      "    return list(itertools.starmap(args[0], args[1]))\n",
      "  File \"/home/abhisheknandekar/miniconda3/envs/raga/lib/python3.8/multiprocessing/pool.py\", line 125, in worker\n",
      "    result = (True, func(*args, **kwds))\n",
      "  File \"/home/abhisheknandekar/miniconda3/envs/raga/lib/python3.8/site-packages/ETC/CCMC/pairs.py\", line 428, in CCM_causality\n",
      "    ETC_causality(\n",
      "  File \"/home/abhisheknandekar/miniconda3/envs/raga/lib/python3.8/multiprocessing/pool.py\", line 51, in starmapstar\n",
      "    return list(itertools.starmap(args[0], args[1]))\n",
      "  File \"/home/abhisheknandekar/miniconda3/envs/raga/lib/python3.8/site-packages/ETC/CCMC/pairs.py\", line 428, in CCM_causality\n",
      "    ETC_causality(\n",
      "  File \"/home/abhisheknandekar/miniconda3/envs/raga/lib/python3.8/site-packages/ETC/CCMC/pairs.py\", line 201, in ETC_causality\n",
      "    etc_y_given_x, y_residual = _external_substitution(y, out_x.get(\"Trajectory\"))\n",
      "  File \"/home/abhisheknandekar/miniconda3/envs/raga/lib/python3.8/multiprocessing/pool.py\", line 51, in starmapstar\n",
      "    return list(itertools.starmap(args[0], args[1]))\n",
      "  File \"/home/abhisheknandekar/miniconda3/envs/raga/lib/python3.8/multiprocessing/pool.py\", line 51, in starmapstar\n",
      "    return list(itertools.starmap(args[0], args[1]))\n",
      "  File \"/home/abhisheknandekar/miniconda3/envs/raga/lib/python3.8/multiprocessing/pool.py\", line 125, in worker\n",
      "    result = (True, func(*args, **kwds))\n",
      "  File \"/home/abhisheknandekar/miniconda3/envs/raga/lib/python3.8/multiprocessing/process.py\", line 108, in run\n",
      "    self._target(*self._args, **self._kwargs)\n",
      "  File \"/home/abhisheknandekar/miniconda3/envs/raga/lib/python3.8/site-packages/ETC/CCMC/pairs.py\", line 428, in CCM_causality\n",
      "    ETC_causality(\n",
      "  File \"/home/abhisheknandekar/miniconda3/envs/raga/lib/python3.8/site-packages/ETC/CCMC/pairs.py\", line 191, in ETC_causality\n",
      "    out_y = ETC.compute_1D(y, order=2, verbose=True, truncate=False)\n",
      "  File \"/home/abhisheknandekar/miniconda3/envs/raga/lib/python3.8/site-packages/ETC/CCMC/pairs.py\", line 428, in CCM_causality\n",
      "    ETC_causality(\n",
      "  File \"/home/abhisheknandekar/miniconda3/envs/raga/lib/python3.8/site-packages/ETC/CCMC/pairs.py\", line 428, in CCM_causality\n",
      "    ETC_causality(\n",
      "  File \"/home/abhisheknandekar/miniconda3/envs/raga/lib/python3.8/site-packages/ETC/CCMC/pairs.py\", line 437, in CCM_causality\n",
      "    LZ_causality(x, y, penalty_threshold=penalty_threshold, lengths=False,)\n",
      "  File \"/home/abhisheknandekar/miniconda3/envs/raga/lib/python3.8/multiprocessing/pool.py\", line 125, in worker\n",
      "    result = (True, func(*args, **kwds))\n",
      "  File \"/home/abhisheknandekar/miniconda3/envs/raga/lib/python3.8/multiprocessing/pool.py\", line 51, in starmapstar\n",
      "    return list(itertools.starmap(args[0], args[1]))\n",
      "  File \"/home/abhisheknandekar/miniconda3/envs/raga/lib/python3.8/multiprocessing/pool.py\", line 51, in starmapstar\n",
      "    return list(itertools.starmap(args[0], args[1]))\n",
      "  File \"/home/abhisheknandekar/miniconda3/envs/raga/lib/python3.8/multiprocessing/pool.py\", line 125, in worker\n",
      "    result = (True, func(*args, **kwds))\n",
      "  File \"/home/abhisheknandekar/miniconda3/envs/raga/lib/python3.8/multiprocessing/pool.py\", line 51, in starmapstar\n",
      "    return list(itertools.starmap(args[0], args[1]))\n",
      "  File \"/home/abhisheknandekar/miniconda3/envs/raga/lib/python3.8/site-packages/ETC/CCMC/pairs.py\", line 428, in CCM_causality\n",
      "    ETC_causality(\n",
      "  File \"/home/abhisheknandekar/miniconda3/envs/raga/lib/python3.8/site-packages/ETC/CCMC/pairs.py\", line 191, in ETC_causality\n",
      "    out_y = ETC.compute_1D(y, order=2, verbose=True, truncate=False)\n",
      "  File \"/home/abhisheknandekar/miniconda3/envs/raga/lib/python3.8/multiprocessing/pool.py\", line 51, in starmapstar\n",
      "    return list(itertools.starmap(args[0], args[1]))\n",
      "  File \"/home/abhisheknandekar/miniconda3/envs/raga/lib/python3.8/site-packages/ETC/CCMC/pairs.py\", line 428, in CCM_causality\n",
      "    ETC_causality(\n",
      "Traceback (most recent call last):\n",
      "  File \"/home/abhisheknandekar/miniconda3/envs/raga/lib/python3.8/site-packages/ETC/CCMC/pairs.py\", line 190, in ETC_causality\n",
      "    out_x = ETC.compute_1D(x, order=2, verbose=True, truncate=False)\n",
      "Traceback (most recent call last):\n",
      "  File \"/home/abhisheknandekar/miniconda3/envs/raga/lib/python3.8/site-packages/ETC/CCMC/pairs.py\", line 103, in _external_substitution\n",
      "    if len(seq) > 1 and _check_pair(tuple(pair), seq):\n",
      "  File \"/home/abhisheknandekar/miniconda3/envs/raga/lib/python3.8/site-packages/ETC/CCMC/pairs.py\", line 428, in CCM_causality\n",
      "    ETC_causality(\n",
      "  File \"/home/abhisheknandekar/miniconda3/envs/raga/lib/python3.8/multiprocessing/pool.py\", line 51, in starmapstar\n",
      "    return list(itertools.starmap(args[0], args[1]))\n",
      "  File \"/home/abhisheknandekar/miniconda3/envs/raga/lib/python3.8/site-packages/ETC/CCMC/pairs.py\", line 428, in CCM_causality\n",
      "    ETC_causality(\n",
      "  File \"/home/abhisheknandekar/miniconda3/envs/raga/lib/python3.8/multiprocessing/pool.py\", line 125, in worker\n",
      "    result = (True, func(*args, **kwds))\n",
      "  File \"/home/abhisheknandekar/miniconda3/envs/raga/lib/python3.8/site-packages/ETC/CCMC/pairs.py\", line 190, in ETC_causality\n",
      "    out_x = ETC.compute_1D(x, order=2, verbose=True, truncate=False)\n",
      "  File \"/home/abhisheknandekar/miniconda3/envs/raga/lib/python3.8/site-packages/ETC/NSRWS/x1D/etc.py\", line 364, in compute\n",
      "    etc, out = _compute_verbose_full(seq, order)\n",
      "  File \"/home/abhisheknandekar/miniconda3/envs/raga/lib/python3.8/site-packages/ETC/CCMC/pairs.py\", line 210, in ETC_causality\n",
      "    etc_y_residual = _ETC_residual(y_residual)\n",
      "  File \"/home/abhisheknandekar/miniconda3/envs/raga/lib/python3.8/site-packages/ETC/CCMC/pairs.py\", line 201, in ETC_causality\n",
      "    etc_y_given_x, y_residual = _external_substitution(y, out_x.get(\"Trajectory\"))\n",
      "  File \"/home/abhisheknandekar/miniconda3/envs/raga/lib/python3.8/site-packages/ETC/CCMC/pairs.py\", line 351, in LZ_causality\n",
      "    LZ_x = LZ(x)\n",
      "  File \"/home/abhisheknandekar/miniconda3/envs/raga/lib/python3.8/multiprocessing/pool.py\", line 51, in starmapstar\n",
      "    return list(itertools.starmap(args[0], args[1]))\n",
      "  File \"/home/abhisheknandekar/miniconda3/envs/raga/lib/python3.8/site-packages/ETC/CCMC/pairs.py\", line 428, in CCM_causality\n",
      "    ETC_causality(\n",
      "  File \"/home/abhisheknandekar/miniconda3/envs/raga/lib/python3.8/site-packages/ETC/CCMC/pairs.py\", line 428, in CCM_causality\n",
      "    ETC_causality(\n",
      "  File \"/home/abhisheknandekar/miniconda3/envs/raga/lib/python3.8/site-packages/ETC/NSRWS/x1D/etc.py\", line 364, in compute\n",
      "    etc, out = _compute_verbose_full(seq, order)\n",
      "  File \"/home/abhisheknandekar/miniconda3/envs/raga/lib/python3.8/site-packages/ETC/CCMC/pairs.py\", line 428, in CCM_causality\n",
      "    ETC_causality(\n",
      "  File \"/home/abhisheknandekar/miniconda3/envs/raga/lib/python3.8/site-packages/ETC/CCMC/pairs.py\", line 191, in ETC_causality\n",
      "    out_y = ETC.compute_1D(y, order=2, verbose=True, truncate=False)\n",
      "  File \"/home/abhisheknandekar/miniconda3/envs/raga/lib/python3.8/site-packages/ETC/CCMC/pairs.py\", line 202, in ETC_causality\n",
      "    etc_x_given_y, x_residual = _external_substitution(x, out_y.get(\"Trajectory\"))\n",
      "  File \"/home/abhisheknandekar/miniconda3/envs/raga/lib/python3.8/site-packages/ETC/CCMC/pairs.py\", line 428, in CCM_causality\n",
      "    ETC_causality(\n",
      "  File \"/home/abhisheknandekar/miniconda3/envs/raga/lib/python3.8/multiprocessing/process.py\", line 315, in _bootstrap\n",
      "    self.run()\n",
      "  File \"/home/abhisheknandekar/miniconda3/envs/raga/lib/python3.8/multiprocessing/process.py\", line 315, in _bootstrap\n",
      "    self.run()\n",
      "  File \"/home/abhisheknandekar/miniconda3/envs/raga/lib/python3.8/site-packages/ETC/NSRWS/x1D/etc.py\", line 364, in compute\n",
      "    etc, out = _compute_verbose_full(seq, order)\n",
      "  File \"/home/abhisheknandekar/miniconda3/envs/raga/lib/python3.8/site-packages/ETC/CCMC/pairs.py\", line 191, in ETC_causality\n",
      "    out_y = ETC.compute_1D(y, order=2, verbose=True, truncate=False)\n",
      "  File \"/home/abhisheknandekar/miniconda3/envs/raga/lib/python3.8/site-packages/ETC/CCMC/pairs.py\", line 428, in CCM_causality\n",
      "    ETC_causality(\n",
      "  File \"/home/abhisheknandekar/miniconda3/envs/raga/lib/python3.8/site-packages/ETC/CCMC/pairs.py\", line 55, in _check_pair\n",
      "    pairs = set(zip(*(islice(tuple(seq), i, None) for i in range(2))))\n",
      "  File \"/home/abhisheknandekar/miniconda3/envs/raga/lib/python3.8/site-packages/ETC/CCMC/pairs.py\", line 190, in ETC_causality\n",
      "    out_x = ETC.compute_1D(x, order=2, verbose=True, truncate=False)\n",
      "  File \"/home/abhisheknandekar/miniconda3/envs/raga/lib/python3.8/multiprocessing/pool.py\", line 51, in starmapstar\n",
      "    return list(itertools.starmap(args[0], args[1]))\n",
      "  File \"/home/abhisheknandekar/miniconda3/envs/raga/lib/python3.8/site-packages/ETC/NSRWS/x1D/etc.py\", line 186, in _compute_verbose_full\n",
      "    seq, signal, freq_win, count, time = _onestep(seq, order, verbose=True)\n",
      "  File \"/home/abhisheknandekar/miniconda3/envs/raga/lib/python3.8/site-packages/ETC/NSRWS/x1D/etc.py\", line 364, in compute\n",
      "    etc, out = _compute_verbose_full(seq, order)\n",
      "  File \"/home/abhisheknandekar/miniconda3/envs/raga/lib/python3.8/site-packages/ETC/CCMC/pairs.py\", line 138, in _ETC_residual\n",
      "    return ETC.compute_1D(residual_sequence).get(\"ETC1D\")\n",
      "  File \"/home/abhisheknandekar/miniconda3/envs/raga/lib/python3.8/site-packages/ETC/CCMC/pairs.py\", line 103, in _external_substitution\n",
      "    if len(seq) > 1 and _check_pair(tuple(pair), seq):\n",
      "  File \"/home/abhisheknandekar/miniconda3/envs/raga/lib/python3.8/site-packages/ETC/LZ76/lzc.py\", line 27, in compute_complexity\n",
      "    return core.lzc_a(seq)\n",
      "  File \"/home/abhisheknandekar/miniconda3/envs/raga/lib/python3.8/site-packages/ETC/CCMC/pairs.py\", line 428, in CCM_causality\n",
      "    ETC_causality(\n",
      "  File \"/home/abhisheknandekar/miniconda3/envs/raga/lib/python3.8/site-packages/ETC/CCMC/pairs.py\", line 201, in ETC_causality\n",
      "    etc_y_given_x, y_residual = _external_substitution(y, out_x.get(\"Trajectory\"))\n",
      "  File \"/home/abhisheknandekar/miniconda3/envs/raga/lib/python3.8/site-packages/ETC/CCMC/pairs.py\", line 190, in ETC_causality\n",
      "    out_x = ETC.compute_1D(x, order=2, verbose=True, truncate=False)\n",
      "  File \"/home/abhisheknandekar/miniconda3/envs/raga/lib/python3.8/site-packages/ETC/NSRWS/x1D/etc.py\", line 186, in _compute_verbose_full\n",
      "    seq, signal, freq_win, count, time = _onestep(seq, order, verbose=True)\n",
      "  File \"/home/abhisheknandekar/miniconda3/envs/raga/lib/python3.8/site-packages/ETC/CCMC/pairs.py\", line 202, in ETC_causality\n",
      "    etc_x_given_y, x_residual = _external_substitution(x, out_y.get(\"Trajectory\"))\n",
      "  File \"/home/abhisheknandekar/miniconda3/envs/raga/lib/python3.8/site-packages/ETC/NSRWS/x1D/etc.py\", line 364, in compute\n",
      "    etc, out = _compute_verbose_full(seq, order)\n",
      "  File \"/home/abhisheknandekar/miniconda3/envs/raga/lib/python3.8/multiprocessing/process.py\", line 108, in run\n",
      "    self._target(*self._args, **self._kwargs)\n",
      "  File \"/home/abhisheknandekar/miniconda3/envs/raga/lib/python3.8/site-packages/ETC/CCMC/pairs.py\", line 103, in _external_substitution\n",
      "    if len(seq) > 1 and _check_pair(tuple(pair), seq):\n",
      "  File \"/home/abhisheknandekar/miniconda3/envs/raga/lib/python3.8/site-packages/ETC/CCMC/pairs.py\", line 190, in ETC_causality\n",
      "    out_x = ETC.compute_1D(x, order=2, verbose=True, truncate=False)\n",
      "  File \"/home/abhisheknandekar/miniconda3/envs/raga/lib/python3.8/multiprocessing/process.py\", line 108, in run\n",
      "    self._target(*self._args, **self._kwargs)\n",
      "  File \"/home/abhisheknandekar/miniconda3/envs/raga/lib/python3.8/site-packages/ETC/NSRWS/x1D/etc.py\", line 186, in _compute_verbose_full\n",
      "    seq, signal, freq_win, count, time = _onestep(seq, order, verbose=True)\n",
      "  File \"/home/abhisheknandekar/miniconda3/envs/raga/lib/python3.8/site-packages/ETC/NSRWS/x1D/etc.py\", line 364, in compute\n",
      "    etc, out = _compute_verbose_full(seq, order)\n",
      "  File \"/home/abhisheknandekar/miniconda3/envs/raga/lib/python3.8/site-packages/ETC/CCMC/pairs.py\", line 191, in ETC_causality\n",
      "    out_y = ETC.compute_1D(y, order=2, verbose=True, truncate=False)\n",
      "KeyboardInterrupt\n",
      "  File \"/home/abhisheknandekar/miniconda3/envs/raga/lib/python3.8/site-packages/ETC/NSRWS/x1D/etc.py\", line 364, in compute\n",
      "    etc, out = _compute_verbose_full(seq, order)\n",
      "  File \"/home/abhisheknandekar/miniconda3/envs/raga/lib/python3.8/site-packages/ETC/CCMC/pairs.py\", line 428, in CCM_causality\n",
      "    ETC_causality(\n",
      "  File \"/home/abhisheknandekar/miniconda3/envs/raga/lib/python3.8/site-packages/ETC/NSRWS/x1D/etc.py\", line 186, in _compute_verbose_full\n",
      "    seq, signal, freq_win, count, time = _onestep(seq, order, verbose=True)\n",
      "  File \"/home/abhisheknandekar/miniconda3/envs/raga/lib/python3.8/site-packages/ETC/NSRWS/x1D/onestep.py\", line 316, in _onestep\n",
      "    return _onestep_pairs(seq[:], verbose)\n",
      "  File \"/home/abhisheknandekar/miniconda3/envs/raga/lib/python3.8/site-packages/ETC/NSRWS/x1D/etc.py\", line 359, in compute\n",
      "    etc = _compute_compact_truncated(seq, order)\n",
      "  File \"/home/abhisheknandekar/miniconda3/envs/raga/lib/python3.8/site-packages/ETC/CCMC/pairs.py\", line 210, in ETC_causality\n",
      "    etc_y_residual = _ETC_residual(y_residual)\n",
      "  File \"/home/abhisheknandekar/miniconda3/envs/raga/lib/python3.8/site-packages/ETC/CCMC/pairs.py\", line 55, in _check_pair\n",
      "    pairs = set(zip(*(islice(tuple(seq), i, None) for i in range(2))))\n",
      "KeyboardInterrupt\n",
      "  File \"/home/abhisheknandekar/miniconda3/envs/raga/lib/python3.8/site-packages/ETC/CCMC/pairs.py\", line 103, in _external_substitution\n",
      "    if len(seq) > 1 and _check_pair(tuple(pair), seq):\n",
      "  File \"/home/abhisheknandekar/miniconda3/envs/raga/lib/python3.8/site-packages/ETC/NSRWS/x1D/etc.py\", line 364, in compute\n",
      "    etc, out = _compute_verbose_full(seq, order)\n",
      "  File \"/home/abhisheknandekar/miniconda3/envs/raga/lib/python3.8/site-packages/ETC/CCMC/pairs.py\", line 106, in _external_substitution\n",
      "    seq = ETC.cast(core.substitute_pairs(seq, pair, max(seq) + 1))\n",
      "  File \"/home/abhisheknandekar/miniconda3/envs/raga/lib/python3.8/site-packages/ETC/NSRWS/x1D/onestep.py\", line 316, in _onestep\n",
      "    return _onestep_pairs(seq[:], verbose)\n",
      "  File \"/home/abhisheknandekar/miniconda3/envs/raga/lib/python3.8/site-packages/ETC/NSRWS/x1D/etc.py\", line 186, in _compute_verbose_full\n",
      "    seq, signal, freq_win, count, time = _onestep(seq, order, verbose=True)\n",
      "  File \"/home/abhisheknandekar/miniconda3/envs/raga/lib/python3.8/multiprocessing/pool.py\", line 125, in worker\n",
      "    result = (True, func(*args, **kwds))\n",
      "  File \"/home/abhisheknandekar/miniconda3/envs/raga/lib/python3.8/site-packages/ETC/NSRWS/x1D/etc.py\", line 364, in compute\n",
      "    etc, out = _compute_verbose_full(seq, order)\n",
      "  File \"/home/abhisheknandekar/miniconda3/envs/raga/lib/python3.8/site-packages/ETC/NSRWS/x1D/onestep.py\", line 316, in _onestep\n",
      "    return _onestep_pairs(seq[:], verbose)\n",
      "  File \"/home/abhisheknandekar/miniconda3/envs/raga/lib/python3.8/site-packages/ETC/CCMC/pairs.py\", line 55, in _check_pair\n",
      "    pairs = set(zip(*(islice(tuple(seq), i, None) for i in range(2))))\n",
      "  File \"/home/abhisheknandekar/miniconda3/envs/raga/lib/python3.8/multiprocessing/pool.py\", line 125, in worker\n",
      "    result = (True, func(*args, **kwds))\n",
      "  File \"/home/abhisheknandekar/miniconda3/envs/raga/lib/python3.8/site-packages/ETC/NSRWS/x1D/etc.py\", line 364, in compute\n",
      "    etc, out = _compute_verbose_full(seq, order)\n",
      "  File \"/home/abhisheknandekar/miniconda3/envs/raga/lib/python3.8/site-packages/ETC/NSRWS/x1D/etc.py\", line 186, in _compute_verbose_full\n",
      "    seq, signal, freq_win, count, time = _onestep(seq, order, verbose=True)\n",
      "  File \"/home/abhisheknandekar/miniconda3/envs/raga/lib/python3.8/site-packages/ETC/CCMC/pairs.py\", line 201, in ETC_causality\n",
      "    etc_y_given_x, y_residual = _external_substitution(y, out_x.get(\"Trajectory\"))\n",
      "  File \"/home/abhisheknandekar/miniconda3/envs/raga/lib/python3.8/site-packages/ETC/NSRWS/x1D/etc.py\", line 186, in _compute_verbose_full\n",
      "    seq, signal, freq_win, count, time = _onestep(seq, order, verbose=True)\n",
      "  File \"/home/abhisheknandekar/miniconda3/envs/raga/lib/python3.8/site-packages/ETC/NSRWS/x1D/onestep.py\", line 174, in _onestep_pairs\n",
      "    out = cast(core.substitute_pairs(seq, freq_pair, sub_value))\n",
      "  File \"/home/abhisheknandekar/miniconda3/envs/raga/lib/python3.8/site-packages/ETC/NSRWS/x1D/onestep.py\", line 316, in _onestep\n",
      "    return _onestep_pairs(seq[:], verbose)\n",
      "  File \"/home/abhisheknandekar/miniconda3/envs/raga/lib/python3.8/site-packages/ETC/NSRWS/x1D/etc.py\", line 246, in _compute_compact_truncated\n",
      "    seq, signal = _onestep(seq, order, verbose=False)\n",
      "  File \"/home/abhisheknandekar/miniconda3/envs/raga/lib/python3.8/site-packages/ETC/CCMC/pairs.py\", line 138, in _ETC_residual\n",
      "    return ETC.compute_1D(residual_sequence).get(\"ETC1D\")\n",
      "KeyboardInterrupt\n",
      "  File \"/home/abhisheknandekar/miniconda3/envs/raga/lib/python3.8/site-packages/ETC/CCMC/pairs.py\", line 55, in _check_pair\n",
      "    pairs = set(zip(*(islice(tuple(seq), i, None) for i in range(2))))\n",
      "  File \"/home/abhisheknandekar/miniconda3/envs/raga/lib/python3.8/site-packages/ETC/NSRWS/x1D/etc.py\", line 186, in _compute_verbose_full\n",
      "    seq, signal, freq_win, count, time = _onestep(seq, order, verbose=True)\n",
      "  File \"/home/abhisheknandekar/miniconda3/envs/raga/lib/python3.8/site-packages/ETC/NSRWS/x1D/onestep.py\", line 316, in _onestep\n",
      "    return _onestep_pairs(seq[:], verbose)\n",
      "  File \"/home/abhisheknandekar/miniconda3/envs/raga/lib/python3.8/multiprocessing/pool.py\", line 51, in starmapstar\n",
      "    return list(itertools.starmap(args[0], args[1]))\n",
      "  File \"/home/abhisheknandekar/miniconda3/envs/raga/lib/python3.8/site-packages/ETC/seq/recode.py\", line 43, in cast\n",
      "    if zeroes(out):\n",
      "  File \"/home/abhisheknandekar/miniconda3/envs/raga/lib/python3.8/site-packages/ETC/NSRWS/x1D/onestep.py\", line 162, in _onestep_pairs\n",
      "    freq_pair, count = _mask_and_count(seq, mask, 2)\n",
      "  File \"/home/abhisheknandekar/miniconda3/envs/raga/lib/python3.8/site-packages/ETC/NSRWS/x1D/onestep.py\", line 162, in _onestep_pairs\n",
      "    freq_pair, count = _mask_and_count(seq, mask, 2)\n",
      "  File \"/home/abhisheknandekar/miniconda3/envs/raga/lib/python3.8/site-packages/ETC/NSRWS/x1D/etc.py\", line 186, in _compute_verbose_full\n",
      "    seq, signal, freq_win, count, time = _onestep(seq, order, verbose=True)\n",
      "KeyboardInterrupt\n",
      "  File \"/home/abhisheknandekar/miniconda3/envs/raga/lib/python3.8/multiprocessing/pool.py\", line 51, in starmapstar\n",
      "    return list(itertools.starmap(args[0], args[1]))\n",
      "  File \"/home/abhisheknandekar/miniconda3/envs/raga/lib/python3.8/site-packages/ETC/NSRWS/x1D/etc.py\", line 186, in _compute_verbose_full\n",
      "    seq, signal, freq_win, count, time = _onestep(seq, order, verbose=True)\n",
      "  File \"/home/abhisheknandekar/miniconda3/envs/raga/lib/python3.8/site-packages/ETC/CCMC/pairs.py\", line 103, in _external_substitution\n",
      "    if len(seq) > 1 and _check_pair(tuple(pair), seq):\n",
      "  File \"/home/abhisheknandekar/miniconda3/envs/raga/lib/python3.8/site-packages/ETC/NSRWS/x1D/onestep.py\", line 316, in _onestep\n",
      "    return _onestep_pairs(seq[:], verbose)\n",
      "  File \"/home/abhisheknandekar/miniconda3/envs/raga/lib/python3.8/site-packages/ETC/seq/recode.py\", line 42, in cast\n",
      "    out = array(\"I\", seq)\n",
      "  File \"/home/abhisheknandekar/miniconda3/envs/raga/lib/python3.8/site-packages/ETC/NSRWS/x1D/onestep.py\", line 316, in _onestep\n",
      "    return _onestep_pairs(seq[:], verbose)\n",
      "  File \"/home/abhisheknandekar/miniconda3/envs/raga/lib/python3.8/site-packages/ETC/NSRWS/x1D/onestep.py\", line 316, in _onestep\n",
      "    return _onestep_pairs(seq[:], verbose)\n",
      "  File \"/home/abhisheknandekar/miniconda3/envs/raga/lib/python3.8/site-packages/ETC/NSRWS/x1D/onestep.py\", line 162, in _onestep_pairs\n",
      "    freq_pair, count = _mask_and_count(seq, mask, 2)\n",
      "  File \"/home/abhisheknandekar/miniconda3/envs/raga/lib/python3.8/site-packages/ETC/NSRWS/x1D/etc.py\", line 359, in compute\n",
      "    etc = _compute_compact_truncated(seq, order)\n",
      "  File \"/home/abhisheknandekar/miniconda3/envs/raga/lib/python3.8/site-packages/ETC/CCMC/pairs.py\", line 437, in CCM_causality\n",
      "    LZ_causality(x, y, penalty_threshold=penalty_threshold, lengths=False,)\n",
      "KeyboardInterrupt\n",
      "  File \"/home/abhisheknandekar/miniconda3/envs/raga/lib/python3.8/site-packages/ETC/NSRWS/x1D/onestep.py\", line 316, in _onestep\n",
      "    return _onestep_pairs(seq[:], verbose)\n",
      "  File \"/home/abhisheknandekar/miniconda3/envs/raga/lib/python3.8/site-packages/ETC/NSRWS/x1D/onestep.py\", line 162, in _onestep_pairs\n",
      "    freq_pair, count = _mask_and_count(seq, mask, 2)\n",
      "  File \"/home/abhisheknandekar/miniconda3/envs/raga/lib/python3.8/site-packages/ETC/NSRWS/x1D/onestep.py\", line 93, in _mask_and_count\n",
      "    freq_window, count = Counter(filtered).most_common(1)[0]\n",
      "  File \"/home/abhisheknandekar/miniconda3/envs/raga/lib/python3.8/multiprocessing/pool.py\", line 51, in starmapstar\n",
      "    return list(itertools.starmap(args[0], args[1]))\n",
      "  File \"/home/abhisheknandekar/miniconda3/envs/raga/lib/python3.8/site-packages/ETC/seq/check.py\", line 15, in zeroes\n",
      "    if 0 in seq:\n",
      "  File \"/home/abhisheknandekar/miniconda3/envs/raga/lib/python3.8/site-packages/ETC/NSRWS/x1D/onestep.py\", line 93, in _mask_and_count\n",
      "    freq_window, count = Counter(filtered).most_common(1)[0]\n",
      "  File \"/home/abhisheknandekar/miniconda3/envs/raga/lib/python3.8/site-packages/ETC/CCMC/pairs.py\", line 55, in _check_pair\n",
      "    pairs = set(zip(*(islice(tuple(seq), i, None) for i in range(2))))\n",
      "  File \"/home/abhisheknandekar/miniconda3/envs/raga/lib/python3.8/site-packages/ETC/NSRWS/x1D/onestep.py\", line 316, in _onestep\n",
      "    return _onestep_pairs(seq[:], verbose)\n",
      "  File \"/home/abhisheknandekar/miniconda3/envs/raga/lib/python3.8/site-packages/ETC/NSRWS/x1D/onestep.py\", line 316, in _onestep\n",
      "    return _onestep_pairs(seq[:], verbose)\n",
      "KeyboardInterrupt\n",
      "  File \"/home/abhisheknandekar/miniconda3/envs/raga/lib/python3.8/site-packages/ETC/CCMC/pairs.py\", line 437, in CCM_causality\n",
      "    LZ_causality(x, y, penalty_threshold=penalty_threshold, lengths=False,)\n",
      "  File \"/home/abhisheknandekar/miniconda3/envs/raga/lib/python3.8/site-packages/ETC/NSRWS/x1D/etc.py\", line 246, in _compute_compact_truncated\n",
      "    seq, signal = _onestep(seq, order, verbose=False)\n",
      "  File \"/home/abhisheknandekar/miniconda3/envs/raga/lib/python3.8/site-packages/ETC/NSRWS/x1D/onestep.py\", line 162, in _onestep_pairs\n",
      "    freq_pair, count = _mask_and_count(seq, mask, 2)\n",
      "  File \"/home/abhisheknandekar/miniconda3/envs/raga/lib/python3.8/site-packages/ETC/NSRWS/x1D/onestep.py\", line 162, in _onestep_pairs\n",
      "    freq_pair, count = _mask_and_count(seq, mask, 2)\n",
      "  File \"/home/abhisheknandekar/miniconda3/envs/raga/lib/python3.8/site-packages/ETC/NSRWS/x1D/onestep.py\", line 93, in _mask_and_count\n",
      "    freq_window, count = Counter(filtered).most_common(1)[0]\n",
      "  File \"/home/abhisheknandekar/miniconda3/envs/raga/lib/python3.8/site-packages/ETC/CCMC/pairs.py\", line 352, in LZ_causality\n",
      "    LZ_y = LZ(y)\n",
      "  File \"/home/abhisheknandekar/miniconda3/envs/raga/lib/python3.8/site-packages/ETC/NSRWS/x1D/onestep.py\", line 174, in _onestep_pairs\n",
      "    out = cast(core.substitute_pairs(seq, freq_pair, sub_value))\n",
      "  File \"/home/abhisheknandekar/miniconda3/envs/raga/lib/python3.8/collections/__init__.py\", line 552, in __init__\n",
      "    self.update(iterable, **kwds)\n",
      "  File \"/home/abhisheknandekar/miniconda3/envs/raga/lib/python3.8/site-packages/ETC/NSRWS/x1D/onestep.py\", line 162, in _onestep_pairs\n",
      "    freq_pair, count = _mask_and_count(seq, mask, 2)\n",
      "KeyboardInterrupt\n",
      "  File \"/home/abhisheknandekar/miniconda3/envs/raga/lib/python3.8/site-packages/ETC/NSRWS/x1D/onestep.py\", line 93, in _mask_and_count\n",
      "    freq_window, count = Counter(filtered).most_common(1)[0]\n",
      "  File \"/home/abhisheknandekar/miniconda3/envs/raga/lib/python3.8/site-packages/ETC/CCMC/pairs.py\", line 428, in CCM_causality\n",
      "    ETC_causality(\n",
      "  File \"/home/abhisheknandekar/miniconda3/envs/raga/lib/python3.8/site-packages/ETC/NSRWS/x1D/onestep.py\", line 316, in _onestep\n",
      "    return _onestep_pairs(seq[:], verbose)\n",
      "  File \"/home/abhisheknandekar/miniconda3/envs/raga/lib/python3.8/collections/__init__.py\", line 552, in __init__\n",
      "    self.update(iterable, **kwds)\n",
      "  File \"/home/abhisheknandekar/miniconda3/envs/raga/lib/python3.8/site-packages/ETC/NSRWS/x1D/onestep.py\", line 162, in _onestep_pairs\n",
      "    freq_pair, count = _mask_and_count(seq, mask, 2)\n",
      "  File \"/home/abhisheknandekar/miniconda3/envs/raga/lib/python3.8/site-packages/ETC/CCMC/pairs.py\", line 352, in LZ_causality\n",
      "    LZ_y = LZ(y)\n",
      "  File \"/home/abhisheknandekar/miniconda3/envs/raga/lib/python3.8/site-packages/ETC/NSRWS/x1D/onestep.py\", line 93, in _mask_and_count\n",
      "    freq_window, count = Counter(filtered).most_common(1)[0]\n",
      "  File \"/home/abhisheknandekar/miniconda3/envs/raga/lib/python3.8/collections/__init__.py\", line 637, in update\n",
      "    _count_elements(self, iterable)\n",
      "  File \"/home/abhisheknandekar/miniconda3/envs/raga/lib/python3.8/site-packages/ETC/NSRWS/x1D/onestep.py\", line 162, in _onestep_pairs\n",
      "    freq_pair, count = _mask_and_count(seq, mask, 2)\n",
      "  File \"/home/abhisheknandekar/miniconda3/envs/raga/lib/python3.8/site-packages/ETC/seq/recode.py\", line 43, in cast\n",
      "    if zeroes(out):\n",
      "  File \"/home/abhisheknandekar/miniconda3/envs/raga/lib/python3.8/site-packages/ETC/LZ76/lzc.py\", line 27, in compute_complexity\n",
      "    return core.lzc_a(seq)\n",
      "  File \"/home/abhisheknandekar/miniconda3/envs/raga/lib/python3.8/site-packages/ETC/NSRWS/x1D/onestep.py\", line 93, in _mask_and_count\n",
      "    freq_window, count = Counter(filtered).most_common(1)[0]\n",
      "  File \"/home/abhisheknandekar/miniconda3/envs/raga/lib/python3.8/collections/__init__.py\", line 552, in __init__\n",
      "    self.update(iterable, **kwds)\n",
      "  File \"/home/abhisheknandekar/miniconda3/envs/raga/lib/python3.8/site-packages/ETC/NSRWS/x1D/onestep.py\", line 162, in _onestep_pairs\n",
      "    freq_pair, count = _mask_and_count(seq, mask, 2)\n",
      "  File \"/home/abhisheknandekar/miniconda3/envs/raga/lib/python3.8/site-packages/ETC/NSRWS/x1D/onestep.py\", line 93, in _mask_and_count\n",
      "    freq_window, count = Counter(filtered).most_common(1)[0]\n",
      "  File \"/home/abhisheknandekar/miniconda3/envs/raga/lib/python3.8/site-packages/ETC/NSRWS/x1D/onestep.py\", line 93, in _mask_and_count\n",
      "    freq_window, count = Counter(filtered).most_common(1)[0]\n",
      "KeyboardInterrupt\n",
      "  File \"/home/abhisheknandekar/miniconda3/envs/raga/lib/python3.8/site-packages/ETC/LZ76/lzc.py\", line 27, in compute_complexity\n",
      "    return core.lzc_a(seq)\n",
      "  File \"/home/abhisheknandekar/miniconda3/envs/raga/lib/python3.8/site-packages/ETC/CCMC/pairs.py\", line 202, in ETC_causality\n",
      "    etc_x_given_y, x_residual = _external_substitution(x, out_y.get(\"Trajectory\"))\n",
      "  File \"/home/abhisheknandekar/miniconda3/envs/raga/lib/python3.8/collections/__init__.py\", line 552, in __init__\n",
      "    self.update(iterable, **kwds)\n",
      "  File \"/home/abhisheknandekar/miniconda3/envs/raga/lib/python3.8/collections/__init__.py\", line 637, in update\n",
      "    _count_elements(self, iterable)\n",
      "  File \"/home/abhisheknandekar/miniconda3/envs/raga/lib/python3.8/collections/__init__.py\", line 552, in __init__\n",
      "    self.update(iterable, **kwds)\n",
      "  File \"/home/abhisheknandekar/miniconda3/envs/raga/lib/python3.8/site-packages/ETC/NSRWS/x1D/onestep.py\", line 93, in _mask_and_count\n",
      "    freq_window, count = Counter(filtered).most_common(1)[0]\n",
      "KeyboardInterrupt\n",
      "  File \"/home/abhisheknandekar/miniconda3/envs/raga/lib/python3.8/collections/__init__.py\", line 552, in __init__\n",
      "    self.update(iterable, **kwds)\n",
      "  File \"/home/abhisheknandekar/miniconda3/envs/raga/lib/python3.8/site-packages/ETC/seq/check.py\", line 15, in zeroes\n",
      "    if 0 in seq:\n",
      "  File \"/home/abhisheknandekar/miniconda3/envs/raga/lib/python3.8/site-packages/ETC/NSRWS/x1D/onestep.py\", line 93, in _mask_and_count\n",
      "    freq_window, count = Counter(filtered).most_common(1)[0]\n",
      "  File \"/home/abhisheknandekar/miniconda3/envs/raga/lib/python3.8/site-packages/ETC/CCMC/pairs.py\", line 106, in _external_substitution\n",
      "    seq = ETC.cast(core.substitute_pairs(seq, pair, max(seq) + 1))\n",
      "  File \"/home/abhisheknandekar/miniconda3/envs/raga/lib/python3.8/collections/__init__.py\", line 552, in __init__\n",
      "    self.update(iterable, **kwds)\n",
      "  File \"/home/abhisheknandekar/miniconda3/envs/raga/lib/python3.8/collections/__init__.py\", line 637, in update\n",
      "    _count_elements(self, iterable)\n",
      "  File \"/home/abhisheknandekar/miniconda3/envs/raga/lib/python3.8/collections/__init__.py\", line 552, in __init__\n",
      "    self.update(iterable, **kwds)\n",
      "KeyboardInterrupt\n",
      "  File \"/home/abhisheknandekar/miniconda3/envs/raga/lib/python3.8/collections/__init__.py\", line 637, in update\n",
      "    _count_elements(self, iterable)\n",
      "  File \"/home/abhisheknandekar/miniconda3/envs/raga/lib/python3.8/collections/__init__.py\", line 552, in __init__\n",
      "    self.update(iterable, **kwds)\n",
      "  File \"/home/abhisheknandekar/miniconda3/envs/raga/lib/python3.8/collections/__init__.py\", line 552, in __init__\n",
      "    self.update(iterable, **kwds)\n",
      "  File \"/home/abhisheknandekar/miniconda3/envs/raga/lib/python3.8/collections/__init__.py\", line 637, in update\n",
      "    _count_elements(self, iterable)\n",
      "KeyboardInterrupt\n",
      "  File \"/home/abhisheknandekar/miniconda3/envs/raga/lib/python3.8/collections/__init__.py\", line 637, in update\n",
      "    _count_elements(self, iterable)\n",
      "KeyboardInterrupt\n",
      "  File \"/home/abhisheknandekar/miniconda3/envs/raga/lib/python3.8/collections/__init__.py\", line 637, in update\n",
      "    _count_elements(self, iterable)\n",
      "  File \"/home/abhisheknandekar/miniconda3/envs/raga/lib/python3.8/collections/__init__.py\", line 637, in update\n",
      "    _count_elements(self, iterable)\n",
      "KeyboardInterrupt\n",
      "KeyboardInterrupt\n",
      "KeyboardInterrupt\n",
      "KeyboardInterrupt\n",
      "  File \"/home/abhisheknandekar/miniconda3/envs/raga/lib/python3.8/collections/__init__.py\", line 637, in update\n",
      "    _count_elements(self, iterable)\n",
      "KeyboardInterrupt\n",
      "KeyboardInterrupt\n",
      "KeyboardInterrupt\n",
      "KeyboardInterrupt\n",
      "Process ForkPoolWorker-1036:\n",
      "Process ForkPoolWorker-1037:\n",
      "Traceback (most recent call last):\n",
      "KeyboardInterrupt\n",
      "  File \"/home/abhisheknandekar/miniconda3/envs/raga/lib/python3.8/collections/__init__.py\", line 637, in update\n",
      "    _count_elements(self, iterable)\n",
      "KeyboardInterrupt\n",
      "Traceback (most recent call last):\n",
      "  File \"/home/abhisheknandekar/miniconda3/envs/raga/lib/python3.8/multiprocessing/process.py\", line 315, in _bootstrap\n",
      "    self.run()\n",
      "  File \"/home/abhisheknandekar/miniconda3/envs/raga/lib/python3.8/multiprocessing/process.py\", line 315, in _bootstrap\n",
      "    self.run()\n",
      "  File \"/home/abhisheknandekar/miniconda3/envs/raga/lib/python3.8/multiprocessing/process.py\", line 108, in run\n",
      "    self._target(*self._args, **self._kwargs)\n",
      "  File \"/home/abhisheknandekar/miniconda3/envs/raga/lib/python3.8/multiprocessing/process.py\", line 108, in run\n",
      "    self._target(*self._args, **self._kwargs)\n",
      "  File \"/home/abhisheknandekar/miniconda3/envs/raga/lib/python3.8/multiprocessing/pool.py\", line 125, in worker\n",
      "    result = (True, func(*args, **kwds))\n",
      "  File \"/home/abhisheknandekar/miniconda3/envs/raga/lib/python3.8/site-packages/ETC/CCMC/pairs.py\", line 191, in ETC_causality\n",
      "    out_y = ETC.compute_1D(y, order=2, verbose=True, truncate=False)\n",
      "  File \"/home/abhisheknandekar/miniconda3/envs/raga/lib/python3.8/multiprocessing/pool.py\", line 125, in worker\n",
      "    result = (True, func(*args, **kwds))\n",
      "  File \"/home/abhisheknandekar/miniconda3/envs/raga/lib/python3.8/multiprocessing/pool.py\", line 51, in starmapstar\n",
      "    return list(itertools.starmap(args[0], args[1]))\n",
      "  File \"/home/abhisheknandekar/miniconda3/envs/raga/lib/python3.8/site-packages/ETC/CCMC/pairs.py\", line 428, in CCM_causality\n",
      "    ETC_causality(\n",
      "  File \"/home/abhisheknandekar/miniconda3/envs/raga/lib/python3.8/multiprocessing/pool.py\", line 51, in starmapstar\n",
      "    return list(itertools.starmap(args[0], args[1]))\n",
      "  File \"/home/abhisheknandekar/miniconda3/envs/raga/lib/python3.8/site-packages/ETC/CCMC/pairs.py\", line 428, in CCM_causality\n",
      "    ETC_causality(\n",
      "  File \"/home/abhisheknandekar/miniconda3/envs/raga/lib/python3.8/site-packages/ETC/NSRWS/x1D/etc.py\", line 364, in compute\n",
      "    etc, out = _compute_verbose_full(seq, order)\n",
      "  File \"/home/abhisheknandekar/miniconda3/envs/raga/lib/python3.8/site-packages/ETC/CCMC/pairs.py\", line 190, in ETC_causality\n",
      "    out_x = ETC.compute_1D(x, order=2, verbose=True, truncate=False)\n",
      "  File \"/home/abhisheknandekar/miniconda3/envs/raga/lib/python3.8/site-packages/ETC/NSRWS/x1D/etc.py\", line 186, in _compute_verbose_full\n",
      "    seq, signal, freq_win, count, time = _onestep(seq, order, verbose=True)\n",
      "  File \"/home/abhisheknandekar/miniconda3/envs/raga/lib/python3.8/site-packages/ETC/NSRWS/x1D/onestep.py\", line 316, in _onestep\n",
      "    return _onestep_pairs(seq[:], verbose)\n",
      "  File \"/home/abhisheknandekar/miniconda3/envs/raga/lib/python3.8/site-packages/ETC/NSRWS/x1D/etc.py\", line 364, in compute\n",
      "    etc, out = _compute_verbose_full(seq, order)\n",
      "  File \"/home/abhisheknandekar/miniconda3/envs/raga/lib/python3.8/site-packages/ETC/NSRWS/x1D/onestep.py\", line 162, in _onestep_pairs\n",
      "    freq_pair, count = _mask_and_count(seq, mask, 2)\n",
      "  File \"/home/abhisheknandekar/miniconda3/envs/raga/lib/python3.8/site-packages/ETC/NSRWS/x1D/etc.py\", line 186, in _compute_verbose_full\n",
      "    seq, signal, freq_win, count, time = _onestep(seq, order, verbose=True)\n",
      "  File \"/home/abhisheknandekar/miniconda3/envs/raga/lib/python3.8/site-packages/ETC/NSRWS/x1D/onestep.py\", line 93, in _mask_and_count\n",
      "    freq_window, count = Counter(filtered).most_common(1)[0]\n",
      "  File \"/home/abhisheknandekar/miniconda3/envs/raga/lib/python3.8/site-packages/ETC/NSRWS/x1D/onestep.py\", line 316, in _onestep\n",
      "    return _onestep_pairs(seq[:], verbose)\n",
      "  File \"/home/abhisheknandekar/miniconda3/envs/raga/lib/python3.8/collections/__init__.py\", line 552, in __init__\n",
      "    self.update(iterable, **kwds)\n",
      "  File \"/home/abhisheknandekar/miniconda3/envs/raga/lib/python3.8/site-packages/ETC/NSRWS/x1D/onestep.py\", line 162, in _onestep_pairs\n",
      "    freq_pair, count = _mask_and_count(seq, mask, 2)\n",
      "  File \"/home/abhisheknandekar/miniconda3/envs/raga/lib/python3.8/collections/__init__.py\", line 637, in update\n",
      "    _count_elements(self, iterable)\n",
      "  File \"/home/abhisheknandekar/miniconda3/envs/raga/lib/python3.8/site-packages/ETC/NSRWS/x1D/onestep.py\", line 93, in _mask_and_count\n",
      "    freq_window, count = Counter(filtered).most_common(1)[0]\n",
      "KeyboardInterrupt\n",
      "  File \"/home/abhisheknandekar/miniconda3/envs/raga/lib/python3.8/collections/__init__.py\", line 552, in __init__\n",
      "    self.update(iterable, **kwds)\n",
      "  File \"/home/abhisheknandekar/miniconda3/envs/raga/lib/python3.8/collections/__init__.py\", line 637, in update\n",
      "    _count_elements(self, iterable)\n",
      "KeyboardInterrupt\n"
     ]
    },
    {
     "ename": "KeyboardInterrupt",
     "evalue": "",
     "output_type": "error",
     "traceback": [
      "\u001B[0;31m---------------------------------------------------------------------------\u001B[0m",
      "\u001B[0;31mKeyboardInterrupt\u001B[0m                         Traceback (most recent call last)",
      "\u001B[0;32m<ipython-input-12-a24366b37cd3>\u001B[0m in \u001B[0;36m<module>\u001B[0;34m\u001B[0m\n\u001B[0;32m----> 1\u001B[0;31m \u001B[0mtc8\u001B[0m\u001B[0;34m,\u001B[0m \u001B[0mtotc8\u001B[0m\u001B[0;34m,\u001B[0m \u001B[0mss8\u001B[0m \u001B[0;34m=\u001B[0m \u001B[0mragaIterator\u001B[0m\u001B[0;34m(\u001B[0m\u001B[0;36m10\u001B[0m\u001B[0;34m,\u001B[0m \u001B[0;34m'8'\u001B[0m\u001B[0;34m,\u001B[0m \u001B[0;34m'8_d'\u001B[0m\u001B[0;34m,\u001B[0m \u001B[0mnum_surrogates\u001B[0m\u001B[0;34m=\u001B[0m\u001B[0;36m150\u001B[0m\u001B[0;34m,\u001B[0m \u001B[0mtimes_it\u001B[0m\u001B[0;34m=\u001B[0m\u001B[0mt_dict\u001B[0m\u001B[0;34m)\u001B[0m\u001B[0;34m\u001B[0m\u001B[0;34m\u001B[0m\u001B[0m\n\u001B[0m\u001B[1;32m      2\u001B[0m \u001B[0;34m\u001B[0m\u001B[0m\n",
      "\u001B[0;32m<ipython-input-2-29f5717a51ee>\u001B[0m in \u001B[0;36mragaIterator\u001B[0;34m(n_iters, mela, janya, num_surrogates, write, times_it)\u001B[0m\n\u001B[1;32m     61\u001B[0m         \u001B[0mtm\u001B[0m \u001B[0;34m=\u001B[0m \u001B[0;34m{\u001B[0m\u001B[0;34m}\u001B[0m\u001B[0;34m\u001B[0m\u001B[0;34m\u001B[0m\u001B[0m\n\u001B[1;32m     62\u001B[0m         \u001B[0;32mif\u001B[0m \u001B[0mi\u001B[0m \u001B[0;34m%\u001B[0m \u001B[0;36m2\u001B[0m \u001B[0;34m!=\u001B[0m \u001B[0;36m0\u001B[0m\u001B[0;34m:\u001B[0m\u001B[0;34m\u001B[0m\u001B[0;34m\u001B[0m\u001B[0m\n\u001B[0;32m---> 63\u001B[0;31m             \u001B[0mtc\u001B[0m\u001B[0;34m,\u001B[0m \u001B[0mtotc\u001B[0m\u001B[0;34m,\u001B[0m \u001B[0mst\u001B[0m \u001B[0;34m=\u001B[0m \u001B[0mprint_correct\u001B[0m\u001B[0;34m(\u001B[0m\u001B[0mmela\u001B[0m\u001B[0;34m,\u001B[0m \u001B[0mjanya\u001B[0m\u001B[0;34m,\u001B[0m \u001B[0mnum_surr\u001B[0m\u001B[0;34m=\u001B[0m\u001B[0mnum_surrogates\u001B[0m\u001B[0;34m,\u001B[0m \u001B[0msurr_serial\u001B[0m\u001B[0;34m=\u001B[0m\u001B[0;32mTrue\u001B[0m\u001B[0;34m,\u001B[0m \u001B[0mtime_cal\u001B[0m\u001B[0;34m=\u001B[0m\u001B[0mtm\u001B[0m\u001B[0;34m)\u001B[0m\u001B[0;34m\u001B[0m\u001B[0;34m\u001B[0m\u001B[0m\n\u001B[0m\u001B[1;32m     64\u001B[0m         \u001B[0;32melse\u001B[0m\u001B[0;34m:\u001B[0m\u001B[0;34m\u001B[0m\u001B[0;34m\u001B[0m\u001B[0m\n\u001B[1;32m     65\u001B[0m             \u001B[0mtc\u001B[0m\u001B[0;34m,\u001B[0m \u001B[0mtotc\u001B[0m\u001B[0;34m,\u001B[0m \u001B[0mst\u001B[0m \u001B[0;34m=\u001B[0m \u001B[0mprint_correct\u001B[0m\u001B[0;34m(\u001B[0m\u001B[0mmela\u001B[0m\u001B[0;34m,\u001B[0m \u001B[0mjanya\u001B[0m\u001B[0;34m,\u001B[0m \u001B[0mnum_surr\u001B[0m\u001B[0;34m=\u001B[0m\u001B[0mnum_surrogates\u001B[0m\u001B[0;34m,\u001B[0m \u001B[0msurr_serial\u001B[0m\u001B[0;34m=\u001B[0m\u001B[0;32mFalse\u001B[0m\u001B[0;34m,\u001B[0m \u001B[0mtime_cal\u001B[0m\u001B[0;34m=\u001B[0m\u001B[0mtm\u001B[0m\u001B[0;34m)\u001B[0m\u001B[0;34m\u001B[0m\u001B[0;34m\u001B[0m\u001B[0m\n",
      "\u001B[0;32m<ipython-input-2-29f5717a51ee>\u001B[0m in \u001B[0;36mprint_correct\u001B[0;34m(mela_id, janya_id, num_surr, surr_serial, time_cal)\u001B[0m\n\u001B[1;32m     19\u001B[0m     \u001B[0mprint\u001B[0m\u001B[0;34m(\u001B[0m\u001B[0;34m\"finding causality....\"\u001B[0m\u001B[0;34m)\u001B[0m\u001B[0;34m\u001B[0m\u001B[0;34m\u001B[0m\u001B[0m\n\u001B[1;32m     20\u001B[0m     \u001B[0mt3\u001B[0m \u001B[0;34m=\u001B[0m \u001B[0mtime\u001B[0m\u001B[0;34m.\u001B[0m\u001B[0mperf_counter\u001B[0m\u001B[0;34m(\u001B[0m\u001B[0;34m)\u001B[0m\u001B[0;34m\u001B[0m\u001B[0;34m\u001B[0m\u001B[0m\n\u001B[0;32m---> 21\u001B[0;31m     \u001B[0mtc\u001B[0m\u001B[0;34m,\u001B[0m \u001B[0mtotc\u001B[0m\u001B[0;34m,\u001B[0m \u001B[0mstrengths\u001B[0m \u001B[0;34m=\u001B[0m \u001B[0mparallelizer\u001B[0m\u001B[0;34m.\u001B[0m\u001B[0mTrueLZPCausality_listParallel\u001B[0m\u001B[0;34m(\u001B[0m\u001B[0mlist\u001B[0m\u001B[0;34m(\u001B[0m\u001B[0madj\u001B[0m\u001B[0;34m.\u001B[0m\u001B[0mvalues\u001B[0m\u001B[0;34m(\u001B[0m\u001B[0;34m)\u001B[0m\u001B[0;34m)\u001B[0m\u001B[0;34m,\u001B[0m \u001B[0mlist\u001B[0m\u001B[0;34m(\u001B[0m\u001B[0madj\u001B[0m\u001B[0;34m.\u001B[0m\u001B[0mkeys\u001B[0m\u001B[0;34m(\u001B[0m\u001B[0;34m)\u001B[0m\u001B[0;34m)\u001B[0m\u001B[0;34m,\u001B[0m \u001B[0mmela\u001B[0m\u001B[0;34m=\u001B[0m\u001B[0mdataset\u001B[0m\u001B[0;34m.\u001B[0m\u001B[0mGetRagaFromRagaId\u001B[0m\u001B[0;34m(\u001B[0m\u001B[0mmela_id\u001B[0m\u001B[0;34m)\u001B[0m\u001B[0;34m)\u001B[0m\u001B[0;34m\u001B[0m\u001B[0;34m\u001B[0m\u001B[0m\n\u001B[0m\u001B[1;32m     22\u001B[0m     \u001B[0mt4\u001B[0m \u001B[0;34m=\u001B[0m \u001B[0mtime\u001B[0m\u001B[0;34m.\u001B[0m\u001B[0mperf_counter\u001B[0m\u001B[0;34m(\u001B[0m\u001B[0;34m)\u001B[0m\u001B[0;34m\u001B[0m\u001B[0;34m\u001B[0m\u001B[0m\n\u001B[1;32m     23\u001B[0m \u001B[0;34m\u001B[0m\u001B[0m\n",
      "\u001B[0;32m~/PycharmProjects/notation-metrics/utils/parallelizer.py\u001B[0m in \u001B[0;36mTrueLZPCausality_listParallel\u001B[0;34m(list, labels, mela)\u001B[0m\n\u001B[1;32m     25\u001B[0m \u001B[0;32mdef\u001B[0m \u001B[0mTrueLZPCausality_listParallel\u001B[0m\u001B[0;34m(\u001B[0m\u001B[0mlist\u001B[0m\u001B[0;34m,\u001B[0m \u001B[0mlabels\u001B[0m\u001B[0;34m,\u001B[0m \u001B[0mmela\u001B[0m\u001B[0;34m)\u001B[0m\u001B[0;34m:\u001B[0m\u001B[0;34m\u001B[0m\u001B[0;34m\u001B[0m\u001B[0m\n\u001B[1;32m     26\u001B[0m     \u001B[0mp\u001B[0m \u001B[0;34m=\u001B[0m \u001B[0mmultiprocessing\u001B[0m\u001B[0;34m.\u001B[0m\u001B[0mPool\u001B[0m\u001B[0;34m(\u001B[0m\u001B[0;34m)\u001B[0m\u001B[0;34m\u001B[0m\u001B[0;34m\u001B[0m\u001B[0m\n\u001B[0;32m---> 27\u001B[0;31m     \u001B[0mres\u001B[0m \u001B[0;34m=\u001B[0m \u001B[0mp\u001B[0m\u001B[0;34m.\u001B[0m\u001B[0mstarmap\u001B[0m\u001B[0;34m(\u001B[0m\u001B[0mETC\u001B[0m\u001B[0;34m.\u001B[0m\u001B[0mCCM_causality\u001B[0m\u001B[0;34m,\u001B[0m \u001B[0mcombinations\u001B[0m\u001B[0;34m(\u001B[0m\u001B[0mlist\u001B[0m\u001B[0;34m,\u001B[0m \u001B[0mr\u001B[0m\u001B[0;34m=\u001B[0m\u001B[0;36m2\u001B[0m\u001B[0;34m)\u001B[0m\u001B[0;34m)\u001B[0m\u001B[0;34m\u001B[0m\u001B[0;34m\u001B[0m\u001B[0m\n\u001B[0m\u001B[1;32m     28\u001B[0m     \u001B[0miter\u001B[0m \u001B[0;34m=\u001B[0m \u001B[0;36m0\u001B[0m\u001B[0;34m\u001B[0m\u001B[0;34m\u001B[0m\u001B[0m\n\u001B[1;32m     29\u001B[0m     \u001B[0mdist\u001B[0m \u001B[0;34m=\u001B[0m \u001B[0mnp\u001B[0m\u001B[0;34m.\u001B[0m\u001B[0mzeros\u001B[0m\u001B[0;34m(\u001B[0m\u001B[0;34m(\u001B[0m\u001B[0mlen\u001B[0m\u001B[0;34m(\u001B[0m\u001B[0mlist\u001B[0m\u001B[0;34m)\u001B[0m\u001B[0;34m,\u001B[0m \u001B[0mlen\u001B[0m\u001B[0;34m(\u001B[0m\u001B[0mlist\u001B[0m\u001B[0;34m)\u001B[0m\u001B[0;34m)\u001B[0m\u001B[0;34m)\u001B[0m\u001B[0;34m\u001B[0m\u001B[0;34m\u001B[0m\u001B[0m\n",
      "\u001B[0;32m~/miniconda3/envs/raga/lib/python3.8/multiprocessing/pool.py\u001B[0m in \u001B[0;36mstarmap\u001B[0;34m(self, func, iterable, chunksize)\u001B[0m\n\u001B[1;32m    370\u001B[0m         \u001B[0;31m`\u001B[0m\u001B[0mfunc\u001B[0m\u001B[0;31m`\u001B[0m \u001B[0;32mand\u001B[0m \u001B[0;34m(\u001B[0m\u001B[0ma\u001B[0m\u001B[0;34m,\u001B[0m \u001B[0mb\u001B[0m\u001B[0;34m)\u001B[0m \u001B[0mbecomes\u001B[0m \u001B[0mfunc\u001B[0m\u001B[0;34m(\u001B[0m\u001B[0ma\u001B[0m\u001B[0;34m,\u001B[0m \u001B[0mb\u001B[0m\u001B[0;34m)\u001B[0m\u001B[0;34m.\u001B[0m\u001B[0;34m\u001B[0m\u001B[0;34m\u001B[0m\u001B[0m\n\u001B[1;32m    371\u001B[0m         '''\n\u001B[0;32m--> 372\u001B[0;31m         \u001B[0;32mreturn\u001B[0m \u001B[0mself\u001B[0m\u001B[0;34m.\u001B[0m\u001B[0m_map_async\u001B[0m\u001B[0;34m(\u001B[0m\u001B[0mfunc\u001B[0m\u001B[0;34m,\u001B[0m \u001B[0miterable\u001B[0m\u001B[0;34m,\u001B[0m \u001B[0mstarmapstar\u001B[0m\u001B[0;34m,\u001B[0m \u001B[0mchunksize\u001B[0m\u001B[0;34m)\u001B[0m\u001B[0;34m.\u001B[0m\u001B[0mget\u001B[0m\u001B[0;34m(\u001B[0m\u001B[0;34m)\u001B[0m\u001B[0;34m\u001B[0m\u001B[0;34m\u001B[0m\u001B[0m\n\u001B[0m\u001B[1;32m    373\u001B[0m \u001B[0;34m\u001B[0m\u001B[0m\n\u001B[1;32m    374\u001B[0m     def starmap_async(self, func, iterable, chunksize=None, callback=None,\n",
      "\u001B[0;32m~/miniconda3/envs/raga/lib/python3.8/multiprocessing/pool.py\u001B[0m in \u001B[0;36mget\u001B[0;34m(self, timeout)\u001B[0m\n\u001B[1;32m    763\u001B[0m \u001B[0;34m\u001B[0m\u001B[0m\n\u001B[1;32m    764\u001B[0m     \u001B[0;32mdef\u001B[0m \u001B[0mget\u001B[0m\u001B[0;34m(\u001B[0m\u001B[0mself\u001B[0m\u001B[0;34m,\u001B[0m \u001B[0mtimeout\u001B[0m\u001B[0;34m=\u001B[0m\u001B[0;32mNone\u001B[0m\u001B[0;34m)\u001B[0m\u001B[0;34m:\u001B[0m\u001B[0;34m\u001B[0m\u001B[0;34m\u001B[0m\u001B[0m\n\u001B[0;32m--> 765\u001B[0;31m         \u001B[0mself\u001B[0m\u001B[0;34m.\u001B[0m\u001B[0mwait\u001B[0m\u001B[0;34m(\u001B[0m\u001B[0mtimeout\u001B[0m\u001B[0;34m)\u001B[0m\u001B[0;34m\u001B[0m\u001B[0;34m\u001B[0m\u001B[0m\n\u001B[0m\u001B[1;32m    766\u001B[0m         \u001B[0;32mif\u001B[0m \u001B[0;32mnot\u001B[0m \u001B[0mself\u001B[0m\u001B[0;34m.\u001B[0m\u001B[0mready\u001B[0m\u001B[0;34m(\u001B[0m\u001B[0;34m)\u001B[0m\u001B[0;34m:\u001B[0m\u001B[0;34m\u001B[0m\u001B[0;34m\u001B[0m\u001B[0m\n\u001B[1;32m    767\u001B[0m             \u001B[0;32mraise\u001B[0m \u001B[0mTimeoutError\u001B[0m\u001B[0;34m\u001B[0m\u001B[0;34m\u001B[0m\u001B[0m\n",
      "\u001B[0;32m~/miniconda3/envs/raga/lib/python3.8/multiprocessing/pool.py\u001B[0m in \u001B[0;36mwait\u001B[0;34m(self, timeout)\u001B[0m\n\u001B[1;32m    760\u001B[0m \u001B[0;34m\u001B[0m\u001B[0m\n\u001B[1;32m    761\u001B[0m     \u001B[0;32mdef\u001B[0m \u001B[0mwait\u001B[0m\u001B[0;34m(\u001B[0m\u001B[0mself\u001B[0m\u001B[0;34m,\u001B[0m \u001B[0mtimeout\u001B[0m\u001B[0;34m=\u001B[0m\u001B[0;32mNone\u001B[0m\u001B[0;34m)\u001B[0m\u001B[0;34m:\u001B[0m\u001B[0;34m\u001B[0m\u001B[0;34m\u001B[0m\u001B[0m\n\u001B[0;32m--> 762\u001B[0;31m         \u001B[0mself\u001B[0m\u001B[0;34m.\u001B[0m\u001B[0m_event\u001B[0m\u001B[0;34m.\u001B[0m\u001B[0mwait\u001B[0m\u001B[0;34m(\u001B[0m\u001B[0mtimeout\u001B[0m\u001B[0;34m)\u001B[0m\u001B[0;34m\u001B[0m\u001B[0;34m\u001B[0m\u001B[0m\n\u001B[0m\u001B[1;32m    763\u001B[0m \u001B[0;34m\u001B[0m\u001B[0m\n\u001B[1;32m    764\u001B[0m     \u001B[0;32mdef\u001B[0m \u001B[0mget\u001B[0m\u001B[0;34m(\u001B[0m\u001B[0mself\u001B[0m\u001B[0;34m,\u001B[0m \u001B[0mtimeout\u001B[0m\u001B[0;34m=\u001B[0m\u001B[0;32mNone\u001B[0m\u001B[0;34m)\u001B[0m\u001B[0;34m:\u001B[0m\u001B[0;34m\u001B[0m\u001B[0;34m\u001B[0m\u001B[0m\n",
      "\u001B[0;32m~/miniconda3/envs/raga/lib/python3.8/threading.py\u001B[0m in \u001B[0;36mwait\u001B[0;34m(self, timeout)\u001B[0m\n\u001B[1;32m    556\u001B[0m             \u001B[0msignaled\u001B[0m \u001B[0;34m=\u001B[0m \u001B[0mself\u001B[0m\u001B[0;34m.\u001B[0m\u001B[0m_flag\u001B[0m\u001B[0;34m\u001B[0m\u001B[0;34m\u001B[0m\u001B[0m\n\u001B[1;32m    557\u001B[0m             \u001B[0;32mif\u001B[0m \u001B[0;32mnot\u001B[0m \u001B[0msignaled\u001B[0m\u001B[0;34m:\u001B[0m\u001B[0;34m\u001B[0m\u001B[0;34m\u001B[0m\u001B[0m\n\u001B[0;32m--> 558\u001B[0;31m                 \u001B[0msignaled\u001B[0m \u001B[0;34m=\u001B[0m \u001B[0mself\u001B[0m\u001B[0;34m.\u001B[0m\u001B[0m_cond\u001B[0m\u001B[0;34m.\u001B[0m\u001B[0mwait\u001B[0m\u001B[0;34m(\u001B[0m\u001B[0mtimeout\u001B[0m\u001B[0;34m)\u001B[0m\u001B[0;34m\u001B[0m\u001B[0;34m\u001B[0m\u001B[0m\n\u001B[0m\u001B[1;32m    559\u001B[0m             \u001B[0;32mreturn\u001B[0m \u001B[0msignaled\u001B[0m\u001B[0;34m\u001B[0m\u001B[0;34m\u001B[0m\u001B[0m\n\u001B[1;32m    560\u001B[0m \u001B[0;34m\u001B[0m\u001B[0m\n",
      "\u001B[0;32m~/miniconda3/envs/raga/lib/python3.8/threading.py\u001B[0m in \u001B[0;36mwait\u001B[0;34m(self, timeout)\u001B[0m\n\u001B[1;32m    300\u001B[0m         \u001B[0;32mtry\u001B[0m\u001B[0;34m:\u001B[0m    \u001B[0;31m# restore state no matter what (e.g., KeyboardInterrupt)\u001B[0m\u001B[0;34m\u001B[0m\u001B[0;34m\u001B[0m\u001B[0m\n\u001B[1;32m    301\u001B[0m             \u001B[0;32mif\u001B[0m \u001B[0mtimeout\u001B[0m \u001B[0;32mis\u001B[0m \u001B[0;32mNone\u001B[0m\u001B[0;34m:\u001B[0m\u001B[0;34m\u001B[0m\u001B[0;34m\u001B[0m\u001B[0m\n\u001B[0;32m--> 302\u001B[0;31m                 \u001B[0mwaiter\u001B[0m\u001B[0;34m.\u001B[0m\u001B[0macquire\u001B[0m\u001B[0;34m(\u001B[0m\u001B[0;34m)\u001B[0m\u001B[0;34m\u001B[0m\u001B[0;34m\u001B[0m\u001B[0m\n\u001B[0m\u001B[1;32m    303\u001B[0m                 \u001B[0mgotit\u001B[0m \u001B[0;34m=\u001B[0m \u001B[0;32mTrue\u001B[0m\u001B[0;34m\u001B[0m\u001B[0;34m\u001B[0m\u001B[0m\n\u001B[1;32m    304\u001B[0m             \u001B[0;32melse\u001B[0m\u001B[0;34m:\u001B[0m\u001B[0;34m\u001B[0m\u001B[0;34m\u001B[0m\u001B[0m\n",
      "\u001B[0;31mKeyboardInterrupt\u001B[0m: "
     ]
    }
   ],
   "source": [
    "tc8, totc8, ss8 = _ragaIterator(10, '8', '8_d', num_surrogates=150, times_it=t_dict)"
   ],
   "metadata": {
    "collapsed": false,
    "pycharm": {
     "name": "#%%\n"
    }
   }
  },
  {
   "cell_type": "code",
   "execution_count": null,
   "outputs": [],
   "source": [
    "avg_conns(tc8), avg_conns(t_dict[\"Surrogate8\"]), avg_conns(t_dict[\"Causality8\"])"
   ],
   "metadata": {
    "collapsed": false,
    "pycharm": {
     "name": "#%%\n"
    }
   }
  },
  {
   "cell_type": "code",
   "execution_count": null,
   "outputs": [],
   "source": [
    "tc22, totc22, ss22 = _ragaIterator(10, '22', '22_a', num_surrogates=150, times_it=t_dict)"
   ],
   "metadata": {
    "collapsed": false,
    "pycharm": {
     "name": "#%%\n"
    }
   }
  },
  {
   "cell_type": "code",
   "execution_count": null,
   "outputs": [],
   "source": [
    "avg_conns(tc22), avg_conns(t_dict[\"Surrogate22\"]), avg_conns(t_dict[\"Causality22\"])"
   ],
   "metadata": {
    "collapsed": false,
    "pycharm": {
     "name": "#%%\n"
    }
   }
  },
  {
   "cell_type": "code",
   "execution_count": null,
   "outputs": [],
   "source": [
    "tc28, totc28, ss28 = _ragaIterator(10, '28', '28_k', num_surrogates=150, times_it=t_dict)"
   ],
   "metadata": {
    "collapsed": false,
    "pycharm": {
     "name": "#%%\n"
    }
   }
  },
  {
   "cell_type": "code",
   "execution_count": null,
   "outputs": [],
   "source": [
    "avg_conns(tc28), avg_conns(t_dict[\"Surrogate28\"]), avg_conns(t_dict[\"Causality28\"])"
   ],
   "metadata": {
    "collapsed": false,
    "pycharm": {
     "name": "#%%\n"
    }
   }
  },
  {
   "cell_type": "code",
   "execution_count": null,
   "outputs": [],
   "source": [
    "tc29, totc29, ss29 = _ragaIterator(10, '29', '29_h', num_surrogates=150, times_it=t_dict)"
   ],
   "metadata": {
    "collapsed": false,
    "pycharm": {
     "name": "#%%\n"
    }
   }
  },
  {
   "cell_type": "code",
   "execution_count": null,
   "outputs": [],
   "source": [
    "avg_conns(tc29), avg_conns(t_dict[\"Surrogate29\"]), avg_conns(t_dict[\"Causality29\"])"
   ],
   "metadata": {
    "collapsed": false,
    "pycharm": {
     "name": "#%%\n"
    }
   }
  },
  {
   "cell_type": "code",
   "execution_count": null,
   "outputs": [],
   "source": [
    "t_dict"
   ],
   "metadata": {
    "collapsed": false,
    "pycharm": {
     "name": "#%%\n"
    }
   }
  },
  {
   "cell_type": "code",
   "execution_count": null,
   "outputs": [],
   "source": [
    "t_dict = {}"
   ],
   "metadata": {
    "collapsed": false,
    "pycharm": {
     "name": "#%%\n"
    }
   }
  },
  {
   "cell_type": "code",
   "execution_count": null,
   "outputs": [],
   "source": [
    "tc65, totc65, ss65 = _ragaIterator(10, '65', '29_h', num_surrogates=100, times_it=t_dict)"
   ],
   "metadata": {
    "collapsed": false,
    "pycharm": {
     "name": "#%%\n"
    }
   }
  },
  {
   "cell_type": "code",
   "execution_count": null,
   "outputs": [],
   "source": [
    "avg_conns(tc65), avg_conns(t_dict[\"Surrogate65\"]), avg_conns(t_dict[\"Causality65\"])"
   ],
   "metadata": {
    "collapsed": false,
    "pycharm": {
     "name": "#%%\n"
    }
   }
  },
  {
   "cell_type": "code",
   "execution_count": null,
   "outputs": [],
   "source": [
    "tc15, totc15, ss15 = _ragaIterator(10, '15', '15_m', num_surrogates=100, times_it=t_dict)"
   ],
   "metadata": {
    "collapsed": false,
    "pycharm": {
     "name": "#%%\n"
    }
   }
  },
  {
   "cell_type": "code",
   "execution_count": null,
   "outputs": [],
   "source": [
    "avg_conns(tc15), avg_conns(t_dict[\"Surrogate15\"]), avg_conns(t_dict[\"Causality15\"])"
   ],
   "metadata": {
    "collapsed": false,
    "pycharm": {
     "name": "#%%\n"
    }
   }
  },
  {
   "cell_type": "code",
   "execution_count": null,
   "outputs": [],
   "source": [
    "tc8, totc8, ss8 = _ragaIterator(10, '8', '8_d', num_surrogates=100, times_it=t_dict)"
   ],
   "metadata": {
    "collapsed": false,
    "pycharm": {
     "name": "#%%\n"
    }
   }
  },
  {
   "cell_type": "code",
   "execution_count": null,
   "outputs": [],
   "source": [
    "avg_conns(tc8), avg_conns(t_dict[\"Surrogate8\"]), avg_conns(t_dict[\"Causality8\"])"
   ],
   "metadata": {
    "collapsed": false,
    "pycharm": {
     "name": "#%%\n"
    }
   }
  },
  {
   "cell_type": "code",
   "execution_count": null,
   "outputs": [],
   "source": [
    "tc22, totc22, ss22 = _ragaIterator(10, '22', '22_a', num_surrogates=100, times_it=t_dict)"
   ],
   "metadata": {
    "collapsed": false,
    "pycharm": {
     "name": "#%%\n"
    }
   }
  },
  {
   "cell_type": "code",
   "execution_count": null,
   "outputs": [],
   "source": [
    "avg_conns(tc22), avg_conns(t_dict[\"Surrogate22\"]), avg_conns(t_dict[\"Causality22\"])"
   ],
   "metadata": {
    "collapsed": false,
    "pycharm": {
     "name": "#%%\n"
    }
   }
  },
  {
   "cell_type": "code",
   "execution_count": null,
   "outputs": [],
   "source": [
    "tc28, totc28, ss28 = _ragaIterator(10, '28', '28_k', num_surrogates=100, times_it=t_dict)"
   ],
   "metadata": {
    "collapsed": false,
    "pycharm": {
     "name": "#%%\n"
    }
   }
  },
  {
   "cell_type": "code",
   "execution_count": null,
   "outputs": [],
   "source": [
    "avg_conns(tc28), avg_conns(t_dict[\"Surrogate28\"]), avg_conns(t_dict[\"Causality28\"])"
   ],
   "metadata": {
    "collapsed": false,
    "pycharm": {
     "name": "#%%\n"
    }
   }
  },
  {
   "cell_type": "code",
   "execution_count": null,
   "outputs": [],
   "source": [
    "tc29, totc29, ss29 = _ragaIterator(10, '29', '29_h', num_surrogates=100, times_it=t_dict)"
   ],
   "metadata": {
    "collapsed": false,
    "pycharm": {
     "name": "#%%\n"
    }
   }
  },
  {
   "cell_type": "code",
   "execution_count": null,
   "outputs": [],
   "source": [
    "avg_conns(tc29), avg_conns(t_dict[\"Surrogate29\"]), avg_conns(t_dict[\"Causality29\"])"
   ],
   "metadata": {
    "collapsed": false,
    "pycharm": {
     "name": "#%%\n"
    }
   }
  },
  {
   "cell_type": "code",
   "execution_count": null,
   "outputs": [],
   "source": [
    "t_dict\n",
    "\n"
   ],
   "metadata": {
    "collapsed": false,
    "pycharm": {
     "name": "#%%\n"
    }
   }
  }
 ],
 "metadata": {
  "kernelspec": {
   "display_name": "Python 3",
   "language": "python",
   "name": "python3"
  },
  "language_info": {
   "codemirror_mode": {
    "name": "ipython",
    "version": 2
   },
   "file_extension": ".py",
   "mimetype": "text/x-python",
   "name": "python",
   "nbconvert_exporter": "python",
   "pygments_lexer": "ipython2",
   "version": "2.7.6"
  }
 },
 "nbformat": 4,
 "nbformat_minor": 0
}