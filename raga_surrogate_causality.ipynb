{
 "cells": [
  {
   "cell_type": "code",
   "execution_count": 1,
   "metadata": {
    "collapsed": true
   },
   "outputs": [],
   "source": [
    "import time\n",
    "\n",
    "from utils import dataStructures, dataset, parallelizer\n",
    "from utils.generators import markovian\n",
    "import numpy as np\n"
   ]
  },
  {
   "cell_type": "code",
   "execution_count": 2,
   "outputs": [],
   "source": [
    "def print_correct(mela_id='22', janya_id='22_a', num_surr=100, surr_serial=False, time_cal=None):\n",
    "    dat = dataset.GetRagaSongCoordsConcat(mela_id, janya_id)\n",
    "    # dat1 = dataset.GetRagaSongCoords(janya_id)\n",
    "    if time_cal is not None:\n",
    "        assert isinstance(time_cal, dict)\n",
    "    print(\"Starting surrogate generation...\")\n",
    "    t1 = time.perf_counter()\n",
    "    d_surr1 = markovian.GenerateForRaga(mela_id, num_surr, serial=surr_serial)\n",
    "    d_surr2 = markovian.GenerateForRaga(janya_id, num_surr, serial=surr_serial)\n",
    "    t2 = time.perf_counter()\n",
    "    for key in dat:\n",
    "        dat[key] = dataStructures.PackTuples(*dat[key])\n",
    "\n",
    "    # for key in dat1:\n",
    "    #     dat1[key] = dataStructures.PackTuples(*dat1[key])\n",
    "\n",
    "    d_fin1 = dataset.ConcatenateDicts(dat, d_surr1, d_surr2)\n",
    "    adj = dataset.GetAdjustedMelodies(d_fin1, pre_min_len=43680)\n",
    "    print(f\"adjusted Melody length: {len(list(adj.values())[0])}\")\n",
    "    print(\"finding causality....\")\n",
    "    t3 = time.perf_counter()\n",
    "    tc, totc, strengths = parallelizer.TrueLZPCausality_listParallel(list(adj.values()), list(adj.keys()), mela=dataset.GetRagaFromRagaId(mela_id))\n",
    "    t4 = time.perf_counter()\n",
    "\n",
    "    if time_cal is not None:\n",
    "        time_cal[\"Surrogate{}\".format(mela_id)] = t2 - t1\n",
    "        time_cal[\"Causality{}\".format(mela_id)] = t4 - t3\n",
    "    return tc, totc, strengths\n",
    "\n",
    "def get_generation_time50(mela_id='22', janya_id='22_a', surr_serial=True):\n",
    "    dat = dataset.GetRagaSongCoordsConcat(mela_id)\n",
    "    dat1 = dataset.GetRagaSongCoords(janya_id)\n",
    "    print(\"Starting surrogate generation...\")\n",
    "    t1 = time.perf_counter()\n",
    "    d_surr1 = markovian.GenerateForRaga(mela_id, 50, serial=surr_serial)\n",
    "    d_surr2 = markovian.GenerateForRaga(janya_id, 50, serial=surr_serial)\n",
    "    t2 = time.perf_counter()\n",
    "    for key in dat:\n",
    "        dat[key] = dataStructures.PackTuples(*dat[key])\n",
    "\n",
    "    for key in dat1:\n",
    "        dat1[key] = dataStructures.PackTuples(*dat1[key])\n",
    "\n",
    "    d_fin1 = dataset.ConcatenateDicts(dat, d_surr1, dat1, d_surr2)\n",
    "    adj = dataset.GetAdjustedMelodies(d_fin1)\n",
    "\n",
    "    return t2 - t1\n",
    "\n",
    "\n",
    "def ragaIterator(n_iters, mela, janya, num_surrogates=100, write=True, times_it=None):\n",
    "    if times_it is not None:\n",
    "        assert isinstance(times_it, dict)\n",
    "        times_it[\"Surrogate{}\".format(mela)] = []\n",
    "        times_it[\"Causality{}\".format(mela)] = []\n",
    "    tcs = []\n",
    "    strengths = []\n",
    "    totcs = []\n",
    "    f = open(\"/home/efm-workstation/surr_stats/{}/truecauses{}.txt\".format(mela, num_surrogates), \"a\")\n",
    "    t1 = time.perf_counter()\n",
    "    for i in range(n_iters):\n",
    "        print(\"iteration: \", i + 1)\n",
    "        tm = {}\n",
    "        if i % 2 != 0:\n",
    "            tc, totc, st = print_correct(mela, janya, num_surr=num_surrogates, surr_serial=True, time_cal=tm)\n",
    "        else:\n",
    "            tc, totc, st = print_correct(mela, janya, num_surr=num_surrogates, surr_serial=True, time_cal=tm)\n",
    "        if times_it is not None:\n",
    "            times_it[\"Surrogate{}\".format(mela)].append(tm[\"Surrogate{}\".format(mela)])\n",
    "            times_it[\"Causality{}\".format(mela)].append(tm[\"Causality{}\".format(mela)])\n",
    "        if write:\n",
    "            f.write(\"iteration: {}/{}, {}/{}; time taken: {}/{}\\n\".format(i+1, n_iters, tc, totc,\n",
    "                                                                          tm[\"Surrogate{}\".format(mela)],\n",
    "                                                                          tm[\"Causality{}\".format(mela)]))\n",
    "        t = time.perf_counter()\n",
    "        print(\"time elapsed: \", (t - t1))\n",
    "        t1 = t\n",
    "        tcs.append(tc)\n",
    "        totcs.append(totc)\n",
    "        strengths.append(st)\n",
    "    f.close()\n",
    "    return tcs, totcs, strengths\n",
    "\n",
    "avg_conns = lambda t_c : np.array(t_c).mean()"
   ],
   "metadata": {
    "collapsed": false,
    "pycharm": {
     "name": "#%%\n"
    }
   }
  },
  {
   "cell_type": "markdown",
   "source": [
    "## 100 Surrogates"
   ],
   "metadata": {
    "collapsed": false,
    "pycharm": {
     "name": "#%% md\n"
    }
   }
  },
  {
   "cell_type": "code",
   "execution_count": 3,
   "outputs": [],
   "source": [
    "t_dict = {}"
   ],
   "metadata": {
    "collapsed": false,
    "pycharm": {
     "name": "#%%\n"
    }
   }
  },
  {
   "cell_type": "code",
   "execution_count": 41,
   "outputs": [
    {
     "name": "stdout",
     "output_type": "stream",
     "text": [
      "iteration:  1\n",
      "Starting surrogate generation...\n"
     ]
    },
    {
     "name": "stderr",
     "output_type": "stream",
     "text": [
      "100%|██████████| 100/100 [00:48<00:00,  2.06it/s]\n",
      "100%|██████████| 100/100 [00:29<00:00,  3.43it/s]\n"
     ]
    },
    {
     "name": "stdout",
     "output_type": "stream",
     "text": [
      "adjusted Melody length: 43680\n",
      "finding causality....\n",
      "6213 true causes out of 11024 total connections\n",
      "time elapsed:  758.5425840989919\n",
      "iteration:  2\n",
      "Starting surrogate generation...\n"
     ]
    },
    {
     "name": "stderr",
     "output_type": "stream",
     "text": [
      "100%|██████████| 100/100 [01:03<00:00,  1.58it/s]\n",
      "100%|██████████| 100/100 [00:23<00:00,  4.33it/s]\n"
     ]
    },
    {
     "name": "stdout",
     "output_type": "stream",
     "text": [
      "adjusted Melody length: 43680\n",
      "finding causality....\n",
      "6106 true causes out of 11024 total connections\n",
      "time elapsed:  770.2031381230336\n",
      "iteration:  3\n",
      "Starting surrogate generation...\n"
     ]
    },
    {
     "name": "stderr",
     "output_type": "stream",
     "text": [
      "100%|██████████| 100/100 [00:35<00:00,  2.78it/s]\n",
      "100%|██████████| 100/100 [00:35<00:00,  2.81it/s]\n"
     ]
    },
    {
     "name": "stdout",
     "output_type": "stream",
     "text": [
      "adjusted Melody length: 43680\n",
      "finding causality....\n",
      "6064 true causes out of 11024 total connections\n",
      "time elapsed:  759.1508547749836\n",
      "iteration:  4\n",
      "Starting surrogate generation...\n"
     ]
    },
    {
     "name": "stderr",
     "output_type": "stream",
     "text": [
      "100%|██████████| 100/100 [00:46<00:00,  2.13it/s]\n",
      "100%|██████████| 100/100 [00:24<00:00,  4.03it/s]\n"
     ]
    },
    {
     "name": "stdout",
     "output_type": "stream",
     "text": [
      "adjusted Melody length: 43680\n",
      "finding causality....\n",
      "6058 true causes out of 11024 total connections\n",
      "time elapsed:  750.4810858879937\n",
      "iteration:  5\n",
      "Starting surrogate generation...\n"
     ]
    },
    {
     "name": "stderr",
     "output_type": "stream",
     "text": [
      "100%|██████████| 100/100 [00:37<00:00,  2.70it/s]\n",
      "100%|██████████| 100/100 [00:26<00:00,  3.70it/s]\n"
     ]
    },
    {
     "name": "stdout",
     "output_type": "stream",
     "text": [
      "adjusted Melody length: 43680\n",
      "finding causality....\n",
      "6043 true causes out of 11024 total connections\n",
      "time elapsed:  744.1451098730322\n",
      "iteration:  6\n",
      "Starting surrogate generation...\n"
     ]
    },
    {
     "name": "stderr",
     "output_type": "stream",
     "text": [
      "100%|██████████| 100/100 [00:42<00:00,  2.38it/s]\n",
      "100%|██████████| 100/100 [00:37<00:00,  2.68it/s]\n"
     ]
    },
    {
     "name": "stdout",
     "output_type": "stream",
     "text": [
      "adjusted Melody length: 43680\n",
      "finding causality....\n",
      "5623 true causes out of 11024 total connections\n",
      "time elapsed:  749.9303345459048\n",
      "iteration:  7\n",
      "Starting surrogate generation...\n"
     ]
    },
    {
     "name": "stderr",
     "output_type": "stream",
     "text": [
      "100%|██████████| 100/100 [00:39<00:00,  2.55it/s]\n",
      "100%|██████████| 100/100 [00:27<00:00,  3.60it/s]\n"
     ]
    },
    {
     "name": "stdout",
     "output_type": "stream",
     "text": [
      "adjusted Melody length: 43680\n",
      "finding causality....\n",
      "6159 true causes out of 11024 total connections\n",
      "time elapsed:  753.127734965994\n",
      "iteration:  8\n",
      "Starting surrogate generation...\n"
     ]
    },
    {
     "name": "stderr",
     "output_type": "stream",
     "text": [
      "100%|██████████| 100/100 [00:55<00:00,  1.82it/s]\n",
      "100%|██████████| 100/100 [00:21<00:00,  4.57it/s]\n"
     ]
    },
    {
     "name": "stdout",
     "output_type": "stream",
     "text": [
      "adjusted Melody length: 43680\n",
      "finding causality....\n",
      "6374 true causes out of 11024 total connections\n",
      "time elapsed:  764.4010294040199\n",
      "iteration:  9\n",
      "Starting surrogate generation...\n"
     ]
    },
    {
     "name": "stderr",
     "output_type": "stream",
     "text": [
      "100%|██████████| 100/100 [01:01<00:00,  1.62it/s]\n",
      "100%|██████████| 100/100 [00:32<00:00,  3.12it/s]\n"
     ]
    },
    {
     "name": "stdout",
     "output_type": "stream",
     "text": [
      "adjusted Melody length: 43680\n",
      "finding causality....\n",
      "5714 true causes out of 11024 total connections\n",
      "time elapsed:  778.6158331959741\n",
      "iteration:  10\n",
      "Starting surrogate generation...\n"
     ]
    },
    {
     "name": "stderr",
     "output_type": "stream",
     "text": [
      "100%|██████████| 100/100 [00:32<00:00,  3.05it/s]\n",
      "100%|██████████| 100/100 [00:51<00:00,  1.95it/s]\n"
     ]
    },
    {
     "name": "stdout",
     "output_type": "stream",
     "text": [
      "adjusted Melody length: 43680\n",
      "finding causality....\n",
      "5857 true causes out of 11024 total connections\n",
      "time elapsed:  766.1013949390035\n"
     ]
    }
   ],
   "source": [
    "tc65, totc65, ss65 = ragaIterator(10, '65', '29_h', num_surrogates=100, times_it=t_dict)"
   ],
   "metadata": {
    "collapsed": false,
    "pycharm": {
     "name": "#%%\n"
    }
   }
  },
  {
   "cell_type": "code",
   "execution_count": 42,
   "outputs": [
    {
     "data": {
      "text/plain": "(6021.1, 78.61135326190852, 667.6914366678917)"
     },
     "execution_count": 42,
     "metadata": {},
     "output_type": "execute_result"
    }
   ],
   "source": [
    "avg_conns(tc65), avg_conns(t_dict[\"Surrogate65\"]), avg_conns(t_dict[\"Causality65\"])"
   ],
   "metadata": {
    "collapsed": false,
    "pycharm": {
     "name": "#%%\n"
    }
   }
  },
  {
   "cell_type": "code",
   "execution_count": 43,
   "outputs": [
    {
     "name": "stdout",
     "output_type": "stream",
     "text": [
      "iteration:  1\n",
      "Starting surrogate generation...\n"
     ]
    },
    {
     "name": "stderr",
     "output_type": "stream",
     "text": [
      "100%|██████████| 100/100 [00:30<00:00,  3.26it/s]\n",
      "100%|██████████| 100/100 [00:38<00:00,  2.58it/s]\n"
     ]
    },
    {
     "name": "stdout",
     "output_type": "stream",
     "text": [
      "adjusted Melody length: 43680\n",
      "finding causality....\n",
      "8929 true causes out of 11024 total connections\n",
      "time elapsed:  709.9851495609619\n",
      "iteration:  2\n",
      "Starting surrogate generation...\n"
     ]
    },
    {
     "name": "stderr",
     "output_type": "stream",
     "text": [
      "100%|██████████| 100/100 [00:37<00:00,  2.65it/s]\n",
      "100%|██████████| 100/100 [00:25<00:00,  3.94it/s]\n"
     ]
    },
    {
     "name": "stdout",
     "output_type": "stream",
     "text": [
      "adjusted Melody length: 43680\n",
      "finding causality....\n",
      "8679 true causes out of 11024 total connections\n",
      "time elapsed:  702.5166410560487\n",
      "iteration:  3\n",
      "Starting surrogate generation...\n"
     ]
    },
    {
     "name": "stderr",
     "output_type": "stream",
     "text": [
      "100%|██████████| 100/100 [00:44<00:00,  2.27it/s]\n",
      "100%|██████████| 100/100 [00:36<00:00,  2.71it/s]\n"
     ]
    },
    {
     "name": "stdout",
     "output_type": "stream",
     "text": [
      "adjusted Melody length: 43680\n",
      "finding causality....\n",
      "8363 true causes out of 11024 total connections\n",
      "time elapsed:  720.773895625025\n",
      "iteration:  4\n",
      "Starting surrogate generation...\n"
     ]
    },
    {
     "name": "stderr",
     "output_type": "stream",
     "text": [
      "100%|██████████| 100/100 [00:39<00:00,  2.55it/s]\n",
      "100%|██████████| 100/100 [00:33<00:00,  3.02it/s]\n"
     ]
    },
    {
     "name": "stdout",
     "output_type": "stream",
     "text": [
      "adjusted Melody length: 43680\n",
      "finding causality....\n",
      "8723 true causes out of 11024 total connections\n",
      "time elapsed:  706.667532994994\n",
      "iteration:  5\n",
      "Starting surrogate generation...\n"
     ]
    },
    {
     "name": "stderr",
     "output_type": "stream",
     "text": [
      "100%|██████████| 100/100 [00:27<00:00,  3.59it/s]\n",
      "100%|██████████| 100/100 [00:32<00:00,  3.07it/s]\n"
     ]
    },
    {
     "name": "stdout",
     "output_type": "stream",
     "text": [
      "adjusted Melody length: 43680\n",
      "finding causality....\n",
      "8899 true causes out of 11024 total connections\n",
      "time elapsed:  694.3277229990344\n",
      "iteration:  6\n",
      "Starting surrogate generation...\n"
     ]
    },
    {
     "name": "stderr",
     "output_type": "stream",
     "text": [
      "100%|██████████| 100/100 [00:28<00:00,  3.47it/s]\n",
      "100%|██████████| 100/100 [00:47<00:00,  2.13it/s]\n"
     ]
    },
    {
     "name": "stdout",
     "output_type": "stream",
     "text": [
      "adjusted Melody length: 43680\n",
      "finding causality....\n",
      "8729 true causes out of 11024 total connections\n",
      "time elapsed:  715.7585162259638\n",
      "iteration:  7\n",
      "Starting surrogate generation...\n"
     ]
    },
    {
     "name": "stderr",
     "output_type": "stream",
     "text": [
      "100%|██████████| 100/100 [00:31<00:00,  3.13it/s]\n",
      "100%|██████████| 100/100 [00:28<00:00,  3.56it/s]\n"
     ]
    },
    {
     "name": "stdout",
     "output_type": "stream",
     "text": [
      "adjusted Melody length: 43680\n",
      "finding causality....\n",
      "8678 true causes out of 11024 total connections\n",
      "time elapsed:  691.5841848140117\n",
      "iteration:  8\n",
      "Starting surrogate generation...\n"
     ]
    },
    {
     "name": "stderr",
     "output_type": "stream",
     "text": [
      "100%|██████████| 100/100 [00:36<00:00,  2.73it/s]\n",
      "100%|██████████| 100/100 [00:44<00:00,  2.23it/s]\n"
     ]
    },
    {
     "name": "stdout",
     "output_type": "stream",
     "text": [
      "adjusted Melody length: 43680\n",
      "finding causality....\n",
      "8542 true causes out of 11024 total connections\n",
      "time elapsed:  713.063716355944\n",
      "iteration:  9\n",
      "Starting surrogate generation...\n"
     ]
    },
    {
     "name": "stderr",
     "output_type": "stream",
     "text": [
      "100%|██████████| 100/100 [00:33<00:00,  2.99it/s]\n",
      "100%|██████████| 100/100 [00:44<00:00,  2.26it/s]\n"
     ]
    },
    {
     "name": "stdout",
     "output_type": "stream",
     "text": [
      "adjusted Melody length: 43680\n",
      "finding causality....\n",
      "8802 true causes out of 11024 total connections\n",
      "time elapsed:  714.2705530250678\n",
      "iteration:  10\n",
      "Starting surrogate generation...\n"
     ]
    },
    {
     "name": "stderr",
     "output_type": "stream",
     "text": [
      "100%|██████████| 100/100 [00:36<00:00,  2.75it/s]\n",
      "100%|██████████| 100/100 [00:28<00:00,  3.54it/s]\n"
     ]
    },
    {
     "name": "stdout",
     "output_type": "stream",
     "text": [
      "adjusted Melody length: 43680\n",
      "finding causality....\n",
      "9008 true causes out of 11024 total connections\n",
      "time elapsed:  697.0699470799882\n"
     ]
    }
   ],
   "source": [
    "tc15, totc15, ss15 = ragaIterator(10, '15', '15_m', num_surrogates=100, times_it=t_dict)"
   ],
   "metadata": {
    "collapsed": false,
    "pycharm": {
     "name": "#%%\n"
    }
   }
  },
  {
   "cell_type": "code",
   "execution_count": 44,
   "outputs": [
    {
     "data": {
      "text/plain": "(8735.2, 71.56543712898856, 621.608187388)"
     },
     "execution_count": 44,
     "metadata": {},
     "output_type": "execute_result"
    }
   ],
   "source": [
    "avg_conns(tc15), avg_conns(t_dict[\"Surrogate15\"]), avg_conns(t_dict[\"Causality15\"])"
   ],
   "metadata": {
    "collapsed": false,
    "pycharm": {
     "name": "#%%\n"
    }
   }
  },
  {
   "cell_type": "code",
   "execution_count": 45,
   "outputs": [
    {
     "name": "stdout",
     "output_type": "stream",
     "text": [
      "iteration:  1\n",
      "Starting surrogate generation...\n"
     ]
    },
    {
     "name": "stderr",
     "output_type": "stream",
     "text": [
      "100%|██████████| 100/100 [00:33<00:00,  2.97it/s]\n",
      "100%|██████████| 100/100 [00:58<00:00,  1.71it/s]\n"
     ]
    },
    {
     "name": "stdout",
     "output_type": "stream",
     "text": [
      "adjusted Melody length: 43680\n",
      "finding causality....\n",
      "1482 true causes out of 11448 total connections\n",
      "time elapsed:  900.8957279680762\n",
      "iteration:  2\n",
      "Starting surrogate generation...\n"
     ]
    },
    {
     "name": "stderr",
     "output_type": "stream",
     "text": [
      "100%|██████████| 100/100 [00:42<00:00,  2.37it/s]\n",
      "100%|██████████| 100/100 [00:36<00:00,  2.70it/s]\n"
     ]
    },
    {
     "name": "stdout",
     "output_type": "stream",
     "text": [
      "adjusted Melody length: 43680\n",
      "finding causality....\n",
      "2233 true causes out of 11448 total connections\n",
      "time elapsed:  904.8804481339175\n",
      "iteration:  3\n",
      "Starting surrogate generation...\n"
     ]
    },
    {
     "name": "stderr",
     "output_type": "stream",
     "text": [
      "100%|██████████| 100/100 [00:32<00:00,  3.06it/s]\n",
      "100%|██████████| 100/100 [00:57<00:00,  1.75it/s]\n"
     ]
    },
    {
     "name": "stdout",
     "output_type": "stream",
     "text": [
      "adjusted Melody length: 43680\n",
      "finding causality....\n",
      "1920 true causes out of 11448 total connections\n",
      "time elapsed:  905.9345216189977\n",
      "iteration:  4\n",
      "Starting surrogate generation...\n"
     ]
    },
    {
     "name": "stderr",
     "output_type": "stream",
     "text": [
      "100%|██████████| 100/100 [00:34<00:00,  2.86it/s]\n",
      "100%|██████████| 100/100 [00:34<00:00,  2.90it/s]\n"
     ]
    },
    {
     "name": "stdout",
     "output_type": "stream",
     "text": [
      "adjusted Melody length: 43680\n",
      "finding causality....\n",
      "1941 true causes out of 11448 total connections\n",
      "time elapsed:  881.9240409859922\n",
      "iteration:  5\n",
      "Starting surrogate generation...\n"
     ]
    },
    {
     "name": "stderr",
     "output_type": "stream",
     "text": [
      "100%|██████████| 100/100 [00:33<00:00,  2.95it/s]\n",
      "100%|██████████| 100/100 [00:53<00:00,  1.87it/s]\n"
     ]
    },
    {
     "name": "stdout",
     "output_type": "stream",
     "text": [
      "adjusted Melody length: 43680\n",
      "finding causality....\n",
      "1550 true causes out of 11448 total connections\n",
      "time elapsed:  925.8703996760305\n",
      "iteration:  6\n",
      "Starting surrogate generation...\n"
     ]
    },
    {
     "name": "stderr",
     "output_type": "stream",
     "text": [
      "100%|██████████| 100/100 [00:47<00:00,  2.09it/s]\n",
      "100%|██████████| 100/100 [00:38<00:00,  2.62it/s]\n"
     ]
    },
    {
     "name": "stdout",
     "output_type": "stream",
     "text": [
      "adjusted Melody length: 43680\n",
      "finding causality....\n",
      "1700 true causes out of 11448 total connections\n",
      "time elapsed:  922.8100919150747\n",
      "iteration:  7\n",
      "Starting surrogate generation...\n"
     ]
    },
    {
     "name": "stderr",
     "output_type": "stream",
     "text": [
      "100%|██████████| 100/100 [00:40<00:00,  2.48it/s]\n",
      "100%|██████████| 100/100 [00:23<00:00,  4.35it/s]\n"
     ]
    },
    {
     "name": "stdout",
     "output_type": "stream",
     "text": [
      "adjusted Melody length: 43680\n",
      "finding causality....\n",
      "1574 true causes out of 11448 total connections\n",
      "time elapsed:  892.6804025259335\n",
      "iteration:  8\n",
      "Starting surrogate generation...\n"
     ]
    },
    {
     "name": "stderr",
     "output_type": "stream",
     "text": [
      "100%|██████████| 100/100 [00:35<00:00,  2.84it/s]\n",
      "100%|██████████| 100/100 [00:48<00:00,  2.06it/s]\n"
     ]
    },
    {
     "name": "stdout",
     "output_type": "stream",
     "text": [
      "adjusted Melody length: 43680\n",
      "finding causality....\n",
      "2263 true causes out of 11448 total connections\n",
      "time elapsed:  902.1084413579665\n",
      "iteration:  9\n",
      "Starting surrogate generation...\n"
     ]
    },
    {
     "name": "stderr",
     "output_type": "stream",
     "text": [
      "100%|██████████| 100/100 [00:27<00:00,  3.64it/s]\n",
      "100%|██████████| 100/100 [00:31<00:00,  3.18it/s]\n"
     ]
    },
    {
     "name": "stdout",
     "output_type": "stream",
     "text": [
      "adjusted Melody length: 43680\n",
      "finding causality....\n",
      "2076 true causes out of 11448 total connections\n",
      "time elapsed:  888.8213430270553\n",
      "iteration:  10\n",
      "Starting surrogate generation...\n"
     ]
    },
    {
     "name": "stderr",
     "output_type": "stream",
     "text": [
      "100%|██████████| 100/100 [00:57<00:00,  1.75it/s]\n",
      "100%|██████████| 100/100 [00:24<00:00,  4.02it/s]\n"
     ]
    },
    {
     "name": "stdout",
     "output_type": "stream",
     "text": [
      "adjusted Melody length: 43680\n",
      "finding causality....\n",
      "2039 true causes out of 11448 total connections\n",
      "time elapsed:  911.6524298959412\n"
     ]
    }
   ],
   "source": [
    "tc8, totc8, ss8 = ragaIterator(10, '8', '8_d', num_surrogates=100, times_it=t_dict)"
   ],
   "metadata": {
    "collapsed": false,
    "pycharm": {
     "name": "#%%\n"
    }
   }
  },
  {
   "cell_type": "code",
   "execution_count": 46,
   "outputs": [
    {
     "data": {
      "text/plain": "(1877.8, 81.56304458830273, 808.4431912748842)"
     },
     "execution_count": 46,
     "metadata": {},
     "output_type": "execute_result"
    }
   ],
   "source": [
    "avg_conns(tc8), avg_conns(t_dict[\"Surrogate8\"]), avg_conns(t_dict[\"Causality8\"])"
   ],
   "metadata": {
    "collapsed": false,
    "pycharm": {
     "name": "#%%\n"
    }
   }
  },
  {
   "cell_type": "code",
   "execution_count": 4,
   "outputs": [
    {
     "name": "stdout",
     "output_type": "stream",
     "text": [
      "iteration:  1\n",
      "Starting surrogate generation...\n"
     ]
    },
    {
     "name": "stderr",
     "output_type": "stream",
     "text": [
      "100%|██████████| 100/100 [00:51<00:00,  1.95it/s]\n",
      "100%|██████████| 100/100 [00:40<00:00,  2.49it/s]\n"
     ]
    },
    {
     "name": "stdout",
     "output_type": "stream",
     "text": [
      "adjusted Melody length: 43680\n",
      "finding causality....\n",
      "7777 true causes out of 10918 total connections\n",
      "time elapsed:  775.1191736069999\n",
      "iteration:  2\n",
      "Starting surrogate generation...\n"
     ]
    },
    {
     "name": "stderr",
     "output_type": "stream",
     "text": [
      "100%|██████████| 100/100 [00:36<00:00,  2.76it/s]\n",
      "100%|██████████| 100/100 [00:33<00:00,  3.02it/s]\n"
     ]
    },
    {
     "name": "stdout",
     "output_type": "stream",
     "text": [
      "adjusted Melody length: 43680\n",
      "finding causality....\n",
      "7681 true causes out of 10918 total connections\n",
      "time elapsed:  751.3098408629999\n",
      "iteration:  3\n",
      "Starting surrogate generation...\n"
     ]
    },
    {
     "name": "stderr",
     "output_type": "stream",
     "text": [
      "100%|██████████| 100/100 [00:25<00:00,  3.91it/s]\n",
      "100%|██████████| 100/100 [00:21<00:00,  4.71it/s]\n"
     ]
    },
    {
     "name": "stdout",
     "output_type": "stream",
     "text": [
      "adjusted Melody length: 43680\n",
      "finding causality....\n",
      "6410 true causes out of 10918 total connections\n",
      "time elapsed:  734.7483988580002\n",
      "iteration:  4\n",
      "Starting surrogate generation...\n"
     ]
    },
    {
     "name": "stderr",
     "output_type": "stream",
     "text": [
      "100%|██████████| 100/100 [00:28<00:00,  3.46it/s]\n",
      "100%|██████████| 100/100 [00:23<00:00,  4.19it/s]\n"
     ]
    },
    {
     "name": "stdout",
     "output_type": "stream",
     "text": [
      "adjusted Melody length: 43680\n",
      "finding causality....\n",
      "7386 true causes out of 10918 total connections\n",
      "time elapsed:  739.7843707540001\n",
      "iteration:  5\n",
      "Starting surrogate generation...\n"
     ]
    },
    {
     "name": "stderr",
     "output_type": "stream",
     "text": [
      "100%|██████████| 100/100 [00:38<00:00,  2.59it/s]\n",
      "100%|██████████| 100/100 [00:24<00:00,  4.01it/s]\n"
     ]
    },
    {
     "name": "stdout",
     "output_type": "stream",
     "text": [
      "adjusted Melody length: 43680\n",
      "finding causality....\n",
      "7205 true causes out of 10918 total connections\n",
      "time elapsed:  756.7599116149995\n",
      "iteration:  6\n",
      "Starting surrogate generation...\n"
     ]
    },
    {
     "name": "stderr",
     "output_type": "stream",
     "text": [
      "100%|██████████| 100/100 [00:37<00:00,  2.65it/s]\n",
      "100%|██████████| 100/100 [00:38<00:00,  2.58it/s]\n"
     ]
    },
    {
     "name": "stdout",
     "output_type": "stream",
     "text": [
      "adjusted Melody length: 43680\n",
      "finding causality....\n",
      "7269 true causes out of 10918 total connections\n",
      "time elapsed:  767.2234238830006\n",
      "iteration:  7\n",
      "Starting surrogate generation...\n"
     ]
    },
    {
     "name": "stderr",
     "output_type": "stream",
     "text": [
      "100%|██████████| 100/100 [00:45<00:00,  2.20it/s]\n",
      "100%|██████████| 100/100 [00:42<00:00,  2.34it/s]\n"
     ]
    },
    {
     "name": "stdout",
     "output_type": "stream",
     "text": [
      "adjusted Melody length: 43680\n",
      "finding causality....\n",
      "7564 true causes out of 10918 total connections\n",
      "time elapsed:  778.0639025310002\n",
      "iteration:  8\n",
      "Starting surrogate generation...\n"
     ]
    },
    {
     "name": "stderr",
     "output_type": "stream",
     "text": [
      "100%|██████████| 100/100 [00:38<00:00,  2.60it/s]\n",
      "100%|██████████| 100/100 [00:37<00:00,  2.66it/s]\n"
     ]
    },
    {
     "name": "stdout",
     "output_type": "stream",
     "text": [
      "adjusted Melody length: 43680\n",
      "finding causality....\n",
      "7134 true causes out of 10918 total connections\n",
      "time elapsed:  769.3840020909993\n",
      "iteration:  9\n",
      "Starting surrogate generation...\n"
     ]
    },
    {
     "name": "stderr",
     "output_type": "stream",
     "text": [
      "100%|██████████| 100/100 [00:34<00:00,  2.88it/s]\n",
      "100%|██████████| 100/100 [00:46<00:00,  2.15it/s]\n"
     ]
    },
    {
     "name": "stdout",
     "output_type": "stream",
     "text": [
      "adjusted Melody length: 43680\n",
      "finding causality....\n",
      "6914 true causes out of 10918 total connections\n",
      "time elapsed:  776.2038353220005\n",
      "iteration:  10\n",
      "Starting surrogate generation...\n"
     ]
    },
    {
     "name": "stderr",
     "output_type": "stream",
     "text": [
      "100%|██████████| 100/100 [00:30<00:00,  3.26it/s]\n",
      "100%|██████████| 100/100 [00:46<00:00,  2.17it/s]\n"
     ]
    },
    {
     "name": "stdout",
     "output_type": "stream",
     "text": [
      "adjusted Melody length: 43680\n",
      "finding causality....\n",
      "6685 true causes out of 10918 total connections\n",
      "time elapsed:  765.856024617\n"
     ]
    }
   ],
   "source": [
    "tc22, totc22, ss22 = ragaIterator(10, '22', '22_a', num_surrogates=100, times_it=t_dict)"
   ],
   "metadata": {
    "collapsed": false,
    "pycharm": {
     "name": "#%%\n"
    }
   }
  },
  {
   "cell_type": "code",
   "execution_count": 5,
   "outputs": [
    {
     "data": {
      "text/plain": "(7202.5, 74.12116545719991, 673.4122535278999)"
     },
     "execution_count": 5,
     "metadata": {},
     "output_type": "execute_result"
    }
   ],
   "source": [
    "avg_conns(tc22), avg_conns(t_dict[\"Surrogate22\"]), avg_conns(t_dict[\"Causality22\"])"
   ],
   "metadata": {
    "collapsed": false,
    "pycharm": {
     "name": "#%%\n"
    }
   }
  },
  {
   "cell_type": "code",
   "execution_count": 6,
   "outputs": [
    {
     "name": "stdout",
     "output_type": "stream",
     "text": [
      "iteration:  1\n",
      "Starting surrogate generation...\n"
     ]
    },
    {
     "name": "stderr",
     "output_type": "stream",
     "text": [
      "100%|██████████| 100/100 [00:56<00:00,  1.76it/s]\n",
      "100%|██████████| 100/100 [00:53<00:00,  1.88it/s]\n"
     ]
    },
    {
     "name": "stdout",
     "output_type": "stream",
     "text": [
      "adjusted Melody length: 43680\n",
      "finding causality....\n",
      "5201 true causes out of 10920 total connections\n",
      "time elapsed:  901.3206878130004\n",
      "iteration:  2\n",
      "Starting surrogate generation...\n"
     ]
    },
    {
     "name": "stderr",
     "output_type": "stream",
     "text": [
      "100%|██████████| 100/100 [00:39<00:00,  2.54it/s]\n",
      "100%|██████████| 100/100 [01:01<00:00,  1.63it/s]\n"
     ]
    },
    {
     "name": "stdout",
     "output_type": "stream",
     "text": [
      "adjusted Melody length: 43680\n",
      "finding causality....\n",
      "5318 true causes out of 10920 total connections\n",
      "time elapsed:  907.9305880369993\n",
      "iteration:  3\n",
      "Starting surrogate generation...\n"
     ]
    },
    {
     "name": "stderr",
     "output_type": "stream",
     "text": [
      "100%|██████████| 100/100 [00:37<00:00,  2.70it/s]\n",
      "100%|██████████| 100/100 [00:40<00:00,  2.45it/s]\n"
     ]
    },
    {
     "name": "stdout",
     "output_type": "stream",
     "text": [
      "adjusted Melody length: 43680\n",
      "finding causality....\n",
      "5711 true causes out of 10920 total connections\n",
      "time elapsed:  868.6666458890013\n",
      "iteration:  4\n",
      "Starting surrogate generation...\n"
     ]
    },
    {
     "name": "stderr",
     "output_type": "stream",
     "text": [
      "100%|██████████| 100/100 [00:31<00:00,  3.20it/s]\n",
      "100%|██████████| 100/100 [00:54<00:00,  1.82it/s]\n"
     ]
    },
    {
     "name": "stdout",
     "output_type": "stream",
     "text": [
      "adjusted Melody length: 43680\n",
      "finding causality....\n",
      "5482 true causes out of 10920 total connections\n",
      "time elapsed:  880.2365220470001\n",
      "iteration:  5\n",
      "Starting surrogate generation...\n"
     ]
    },
    {
     "name": "stderr",
     "output_type": "stream",
     "text": [
      "100%|██████████| 100/100 [00:44<00:00,  2.23it/s]\n",
      "100%|██████████| 100/100 [00:27<00:00,  3.58it/s]\n"
     ]
    },
    {
     "name": "stdout",
     "output_type": "stream",
     "text": [
      "adjusted Melody length: 43680\n",
      "finding causality....\n",
      "5492 true causes out of 10920 total connections\n",
      "time elapsed:  871.0796665449998\n",
      "iteration:  6\n",
      "Starting surrogate generation...\n"
     ]
    },
    {
     "name": "stderr",
     "output_type": "stream",
     "text": [
      "100%|██████████| 100/100 [00:35<00:00,  2.85it/s]\n",
      "100%|██████████| 100/100 [00:50<00:00,  1.96it/s]\n"
     ]
    },
    {
     "name": "stdout",
     "output_type": "stream",
     "text": [
      "adjusted Melody length: 43680\n",
      "finding causality....\n",
      "5084 true causes out of 10920 total connections\n",
      "time elapsed:  881.9133837509999\n",
      "iteration:  7\n",
      "Starting surrogate generation...\n"
     ]
    },
    {
     "name": "stderr",
     "output_type": "stream",
     "text": [
      "100%|██████████| 100/100 [00:50<00:00,  1.99it/s]\n",
      "100%|██████████| 100/100 [00:29<00:00,  3.41it/s]\n"
     ]
    },
    {
     "name": "stdout",
     "output_type": "stream",
     "text": [
      "adjusted Melody length: 43680\n",
      "finding causality....\n",
      "5608 true causes out of 10920 total connections\n",
      "time elapsed:  875.6973689309998\n",
      "iteration:  8\n",
      "Starting surrogate generation...\n"
     ]
    },
    {
     "name": "stderr",
     "output_type": "stream",
     "text": [
      "100%|██████████| 100/100 [00:40<00:00,  2.44it/s]\n",
      "100%|██████████| 100/100 [00:31<00:00,  3.19it/s]\n"
     ]
    },
    {
     "name": "stdout",
     "output_type": "stream",
     "text": [
      "adjusted Melody length: 43680\n",
      "finding causality....\n",
      "5340 true causes out of 10920 total connections\n",
      "time elapsed:  874.3105226890002\n",
      "iteration:  9\n",
      "Starting surrogate generation...\n"
     ]
    },
    {
     "name": "stderr",
     "output_type": "stream",
     "text": [
      "100%|██████████| 100/100 [00:40<00:00,  2.49it/s]\n",
      "100%|██████████| 100/100 [00:48<00:00,  2.07it/s]\n"
     ]
    },
    {
     "name": "stdout",
     "output_type": "stream",
     "text": [
      "adjusted Melody length: 43680\n",
      "finding causality....\n",
      "5343 true causes out of 10920 total connections\n",
      "time elapsed:  883.6631521609997\n",
      "iteration:  10\n",
      "Starting surrogate generation...\n"
     ]
    },
    {
     "name": "stderr",
     "output_type": "stream",
     "text": [
      "100%|██████████| 100/100 [00:45<00:00,  2.22it/s]\n",
      "100%|██████████| 100/100 [00:37<00:00,  2.67it/s]\n"
     ]
    },
    {
     "name": "stdout",
     "output_type": "stream",
     "text": [
      "adjusted Melody length: 43680\n",
      "finding causality....\n",
      "5858 true causes out of 10920 total connections\n",
      "time elapsed:  873.109005657001\n"
     ]
    }
   ],
   "source": [
    "tc28, totc28, ss28 = ragaIterator(10, '28', '28_k', num_surrogates=100, times_it=t_dict)"
   ],
   "metadata": {
    "collapsed": false,
    "pycharm": {
     "name": "#%%\n"
    }
   }
  },
  {
   "cell_type": "code",
   "execution_count": 7,
   "outputs": [
    {
     "data": {
      "text/plain": "(5443.7, 87.33458145420009, 780.9243078063)"
     },
     "execution_count": 7,
     "metadata": {},
     "output_type": "execute_result"
    }
   ],
   "source": [
    "avg_conns(tc28), avg_conns(t_dict[\"Surrogate28\"]), avg_conns(t_dict[\"Causality28\"])"
   ],
   "metadata": {
    "collapsed": false,
    "pycharm": {
     "name": "#%%\n"
    }
   }
  },
  {
   "cell_type": "code",
   "execution_count": 8,
   "outputs": [
    {
     "name": "stdout",
     "output_type": "stream",
     "text": [
      "iteration:  1\n",
      "Starting surrogate generation...\n"
     ]
    },
    {
     "name": "stderr",
     "output_type": "stream",
     "text": [
      "100%|██████████| 100/100 [00:37<00:00,  2.66it/s]\n",
      "100%|██████████| 100/100 [00:27<00:00,  3.62it/s]\n"
     ]
    },
    {
     "name": "stdout",
     "output_type": "stream",
     "text": [
      "adjusted Melody length: 43680\n",
      "finding causality....\n",
      "8096 true causes out of 11024 total connections\n",
      "time elapsed:  811.1475962440018\n",
      "iteration:  2\n",
      "Starting surrogate generation...\n"
     ]
    },
    {
     "name": "stderr",
     "output_type": "stream",
     "text": [
      "100%|██████████| 100/100 [00:35<00:00,  2.86it/s]\n",
      "100%|██████████| 100/100 [00:41<00:00,  2.44it/s]\n"
     ]
    },
    {
     "name": "stdout",
     "output_type": "stream",
     "text": [
      "adjusted Melody length: 43680\n",
      "finding causality....\n",
      "8483 true causes out of 11024 total connections\n",
      "time elapsed:  822.283582865999\n",
      "iteration:  3\n",
      "Starting surrogate generation...\n"
     ]
    },
    {
     "name": "stderr",
     "output_type": "stream",
     "text": [
      "100%|██████████| 100/100 [00:37<00:00,  2.63it/s]\n",
      "100%|██████████| 100/100 [00:24<00:00,  4.07it/s]\n"
     ]
    },
    {
     "name": "stdout",
     "output_type": "stream",
     "text": [
      "adjusted Melody length: 43680\n",
      "finding causality....\n",
      "8306 true causes out of 11024 total connections\n",
      "time elapsed:  810.3585359079989\n",
      "iteration:  4\n",
      "Starting surrogate generation...\n"
     ]
    },
    {
     "name": "stderr",
     "output_type": "stream",
     "text": [
      "100%|██████████| 100/100 [00:46<00:00,  2.15it/s]\n",
      "100%|██████████| 100/100 [00:24<00:00,  4.07it/s]\n"
     ]
    },
    {
     "name": "stdout",
     "output_type": "stream",
     "text": [
      "adjusted Melody length: 43680\n",
      "finding causality....\n",
      "8438 true causes out of 11024 total connections\n",
      "time elapsed:  811.3621811459998\n",
      "iteration:  5\n",
      "Starting surrogate generation...\n"
     ]
    },
    {
     "name": "stderr",
     "output_type": "stream",
     "text": [
      "100%|██████████| 100/100 [00:39<00:00,  2.53it/s]\n",
      "100%|██████████| 100/100 [00:33<00:00,  2.95it/s]\n"
     ]
    },
    {
     "name": "stdout",
     "output_type": "stream",
     "text": [
      "adjusted Melody length: 43680\n",
      "finding causality....\n",
      "8344 true causes out of 11024 total connections\n",
      "time elapsed:  813.0267233930026\n",
      "iteration:  6\n",
      "Starting surrogate generation...\n"
     ]
    },
    {
     "name": "stderr",
     "output_type": "stream",
     "text": [
      "100%|██████████| 100/100 [00:34<00:00,  2.86it/s]\n",
      "100%|██████████| 100/100 [00:28<00:00,  3.45it/s]\n"
     ]
    },
    {
     "name": "stdout",
     "output_type": "stream",
     "text": [
      "adjusted Melody length: 43680\n",
      "finding causality....\n",
      "9083 true causes out of 11024 total connections\n",
      "time elapsed:  805.8241213799993\n",
      "iteration:  7\n",
      "Starting surrogate generation...\n"
     ]
    },
    {
     "name": "stderr",
     "output_type": "stream",
     "text": [
      "100%|██████████| 100/100 [00:43<00:00,  2.29it/s]\n",
      "100%|██████████| 100/100 [00:29<00:00,  3.42it/s]\n"
     ]
    },
    {
     "name": "stdout",
     "output_type": "stream",
     "text": [
      "adjusted Melody length: 43680\n",
      "finding causality....\n",
      "8859 true causes out of 11024 total connections\n",
      "time elapsed:  811.8378620080002\n",
      "iteration:  8\n",
      "Starting surrogate generation...\n"
     ]
    },
    {
     "name": "stderr",
     "output_type": "stream",
     "text": [
      "100%|██████████| 100/100 [00:29<00:00,  3.38it/s]\n",
      "100%|██████████| 100/100 [00:29<00:00,  3.37it/s]\n"
     ]
    },
    {
     "name": "stdout",
     "output_type": "stream",
     "text": [
      "adjusted Melody length: 43680\n",
      "finding causality....\n",
      "8579 true causes out of 11024 total connections\n",
      "time elapsed:  807.5053986649982\n",
      "iteration:  9\n",
      "Starting surrogate generation...\n"
     ]
    },
    {
     "name": "stderr",
     "output_type": "stream",
     "text": [
      "100%|██████████| 100/100 [00:41<00:00,  2.42it/s]\n",
      "100%|██████████| 100/100 [00:32<00:00,  3.08it/s]\n"
     ]
    },
    {
     "name": "stdout",
     "output_type": "stream",
     "text": [
      "adjusted Melody length: 43680\n",
      "finding causality....\n",
      "7932 true causes out of 11024 total connections\n",
      "time elapsed:  819.2318969290027\n",
      "iteration:  10\n",
      "Starting surrogate generation...\n"
     ]
    },
    {
     "name": "stderr",
     "output_type": "stream",
     "text": [
      "100%|██████████| 100/100 [00:37<00:00,  2.66it/s]\n",
      "100%|██████████| 100/100 [00:31<00:00,  3.16it/s]\n"
     ]
    },
    {
     "name": "stdout",
     "output_type": "stream",
     "text": [
      "adjusted Melody length: 43680\n",
      "finding causality....\n",
      "8427 true causes out of 11024 total connections\n",
      "time elapsed:  804.8484866289982\n"
     ]
    }
   ],
   "source": [
    "tc29, totc29, ss29 = ragaIterator(10, '29', '29_h', num_surrogates=100, times_it=t_dict)"
   ],
   "metadata": {
    "collapsed": false,
    "pycharm": {
     "name": "#%%"
    }
   }
  },
  {
   "cell_type": "code",
   "execution_count": 9,
   "outputs": [
    {
     "data": {
      "text/plain": "(8454.7, 70.77880628050043, 727.6982087450003)"
     },
     "execution_count": 9,
     "metadata": {},
     "output_type": "execute_result"
    }
   ],
   "source": [
    "avg_conns(tc29), avg_conns(t_dict[\"Surrogate29\"]), avg_conns(t_dict[\"Causality29\"])"
   ],
   "metadata": {
    "collapsed": false,
    "pycharm": {
     "name": "#%%\n"
    }
   }
  },
  {
   "cell_type": "code",
   "execution_count": 14,
   "outputs": [
    {
     "data": {
      "text/plain": "{'Surrogate15': [53.26868949300001,\n  57.416984490000004,\n  65.63219295199997,\n  74.16984343900003,\n  74.61059070900001,\n  58.23887661700019,\n  68.6738725109999,\n  48.17700101700029,\n  55.440457104000416,\n  74.29063077299998],\n 'Causality15': [592.3598863940001,\n  591.381109908,\n  592.825908996,\n  587.7917414099998,\n  595.133812782,\n  587.7548258839997,\n  594.1940579100001,\n  588.1832207909993,\n  593.7933637599999,\n  595.1086932379994],\n 'Surrogate8': [89.54098272700048,\n  58.45198296499984,\n  73.39187069900072,\n  68.46543324499908,\n  54.848082572998464,\n  73.66247698000006,\n  97.71908451700074,\n  57.23644118000084,\n  78.49121733200082,\n  67.34753957300018],\n 'Causality8': [755.0378918679999,\n  759.8611159019993,\n  758.2308762759985,\n  752.4552812790007,\n  760.3299102830006,\n  759.4336225900006,\n  759.0644153419998,\n  769.2846034569993,\n  761.8674483529994,\n  759.9956650980002],\n 'Surrogate22': [68.32396897400031,\n  58.05357082699993,\n  62.23361633500099,\n  91.03038601200024,\n  61.10715855500166,\n  80.770361633,\n  66.07455101300002,\n  62.38923071500176,\n  69.82081787800053,\n  63.4803639769998],\n 'Causality22': [623.1674749630001,\n  633.0941508350006,\n  622.5811221520016,\n  628.4586424839981,\n  627.7500105920008,\n  633.4278430880004,\n  619.9556073179992,\n  630.8079294070012,\n  630.7795706260003,\n  631.5808683899995],\n 'Surrogate28': [69.20682844100156,\n  60.742681216001074,\n  71.38284348399975,\n  67.76765324100052,\n  70.24192621199836,\n  69.78633377900042,\n  53.11055218000183,\n  84.32031748599911,\n  62.38932893799938,\n  59.31856002699715],\n 'Causality28': [659.8373956260002,\n  649.571158595998,\n  656.3500209690028,\n  652.3437601059995,\n  655.6319198560013,\n  654.8020381909992,\n  651.0618875889995,\n  653.319331699,\n  646.6435987680015,\n  650.2612810870014],\n 'Surrogate29': [78.13961801899859,\n  60.28006015599749,\n  53.07991083899833,\n  64.46926562299996,\n  64.46605312799875,\n  61.558249211004295,\n  70.01744484400115,\n  68.11857167300332,\n  84.4807942059997,\n  65.29499732000113],\n 'Causality29': [665.3884351139968,\n  669.6682687320026,\n  676.5497564139987,\n  666.6407251899982,\n  672.4290213189961,\n  665.3116962330023,\n  656.7394162310011,\n  670.655229516,\n  669.7507810249954,\n  664.0306812920026]}"
     },
     "execution_count": 14,
     "metadata": {},
     "output_type": "execute_result"
    }
   ],
   "source": [
    "t_dict\n"
   ],
   "metadata": {
    "collapsed": false,
    "pycharm": {
     "name": "#%%\n"
    }
   }
  },
  {
   "cell_type": "markdown",
   "source": [
    "## 50 Surrogates"
   ],
   "metadata": {
    "collapsed": false,
    "pycharm": {
     "name": "#%% md\n"
    }
   }
  },
  {
   "cell_type": "code",
   "execution_count": 10,
   "outputs": [],
   "source": [
    "t_dict = {}"
   ],
   "metadata": {
    "collapsed": false,
    "pycharm": {
     "name": "#%%\n"
    }
   }
  },
  {
   "cell_type": "code",
   "execution_count": 11,
   "outputs": [
    {
     "name": "stdout",
     "output_type": "stream",
     "text": [
      "iteration:  1\n",
      "Starting surrogate generation...\n"
     ]
    },
    {
     "name": "stderr",
     "output_type": "stream",
     "text": [
      "100%|██████████| 50/50 [00:14<00:00,  3.38it/s]\n",
      "100%|██████████| 50/50 [00:12<00:00,  3.96it/s]\n"
     ]
    },
    {
     "name": "stdout",
     "output_type": "stream",
     "text": [
      "adjusted Melody length: 43680\n",
      "finding causality....\n",
      "1615 true causes out of 3024 total connections\n",
      "time elapsed:  218.37166827799956\n",
      "iteration:  2\n",
      "Starting surrogate generation...\n"
     ]
    },
    {
     "name": "stderr",
     "output_type": "stream",
     "text": [
      "100%|██████████| 50/50 [00:26<00:00,  1.87it/s]\n",
      "100%|██████████| 50/50 [00:21<00:00,  2.38it/s]\n"
     ]
    },
    {
     "name": "stdout",
     "output_type": "stream",
     "text": [
      "adjusted Melody length: 43680\n",
      "finding causality....\n",
      "1669 true causes out of 3024 total connections\n",
      "time elapsed:  240.33316805800132\n",
      "iteration:  3\n",
      "Starting surrogate generation...\n"
     ]
    },
    {
     "name": "stderr",
     "output_type": "stream",
     "text": [
      "100%|██████████| 50/50 [00:20<00:00,  2.47it/s]\n",
      "100%|██████████| 50/50 [00:36<00:00,  1.37it/s]\n"
     ]
    },
    {
     "name": "stdout",
     "output_type": "stream",
     "text": [
      "adjusted Melody length: 43680\n",
      "finding causality....\n",
      "1583 true causes out of 3024 total connections\n",
      "time elapsed:  245.3784230550009\n",
      "iteration:  4\n",
      "Starting surrogate generation...\n"
     ]
    },
    {
     "name": "stderr",
     "output_type": "stream",
     "text": [
      "100%|██████████| 50/50 [00:13<00:00,  3.65it/s]\n",
      "100%|██████████| 50/50 [00:15<00:00,  3.30it/s]\n"
     ]
    },
    {
     "name": "stdout",
     "output_type": "stream",
     "text": [
      "adjusted Melody length: 43680\n",
      "finding causality....\n",
      "1761 true causes out of 3024 total connections\n",
      "time elapsed:  221.87518636499954\n",
      "iteration:  5\n",
      "Starting surrogate generation...\n"
     ]
    },
    {
     "name": "stderr",
     "output_type": "stream",
     "text": [
      "100%|██████████| 50/50 [00:15<00:00,  3.20it/s]\n",
      "100%|██████████| 50/50 [00:18<00:00,  2.68it/s]\n"
     ]
    },
    {
     "name": "stdout",
     "output_type": "stream",
     "text": [
      "adjusted Melody length: 43680\n",
      "finding causality....\n",
      "1616 true causes out of 3024 total connections\n",
      "time elapsed:  226.12792029499906\n",
      "iteration:  6\n",
      "Starting surrogate generation...\n"
     ]
    },
    {
     "name": "stderr",
     "output_type": "stream",
     "text": [
      "100%|██████████| 50/50 [00:25<00:00,  1.94it/s]\n",
      "100%|██████████| 50/50 [00:14<00:00,  3.51it/s]\n"
     ]
    },
    {
     "name": "stdout",
     "output_type": "stream",
     "text": [
      "adjusted Melody length: 43680\n",
      "finding causality....\n",
      "1602 true causes out of 3024 total connections\n",
      "time elapsed:  228.65682360400024\n",
      "iteration:  7\n",
      "Starting surrogate generation...\n"
     ]
    },
    {
     "name": "stderr",
     "output_type": "stream",
     "text": [
      "100%|██████████| 50/50 [00:19<00:00,  2.52it/s]\n",
      "100%|██████████| 50/50 [00:09<00:00,  5.35it/s]\n"
     ]
    },
    {
     "name": "stdout",
     "output_type": "stream",
     "text": [
      "adjusted Melody length: 43680\n",
      "finding causality....\n",
      "1765 true causes out of 3024 total connections\n",
      "time elapsed:  222.55596132799838\n",
      "iteration:  8\n",
      "Starting surrogate generation...\n"
     ]
    },
    {
     "name": "stderr",
     "output_type": "stream",
     "text": [
      "100%|██████████| 50/50 [00:11<00:00,  4.53it/s]\n",
      "100%|██████████| 50/50 [00:10<00:00,  4.76it/s]\n"
     ]
    },
    {
     "name": "stdout",
     "output_type": "stream",
     "text": [
      "adjusted Melody length: 43680\n",
      "finding causality....\n",
      "1747 true causes out of 3024 total connections\n",
      "time elapsed:  212.7220547470024\n",
      "iteration:  9\n",
      "Starting surrogate generation...\n"
     ]
    },
    {
     "name": "stderr",
     "output_type": "stream",
     "text": [
      "100%|██████████| 50/50 [00:23<00:00,  2.12it/s]\n",
      "100%|██████████| 50/50 [00:20<00:00,  2.41it/s]\n"
     ]
    },
    {
     "name": "stdout",
     "output_type": "stream",
     "text": [
      "adjusted Melody length: 43680\n",
      "finding causality....\n",
      "1608 true causes out of 3024 total connections\n",
      "time elapsed:  233.68813059999957\n",
      "iteration:  10\n",
      "Starting surrogate generation...\n"
     ]
    },
    {
     "name": "stderr",
     "output_type": "stream",
     "text": [
      "100%|██████████| 50/50 [00:16<00:00,  2.98it/s]\n",
      "100%|██████████| 50/50 [00:14<00:00,  3.53it/s]\n"
     ]
    },
    {
     "name": "stdout",
     "output_type": "stream",
     "text": [
      "adjusted Melody length: 43680\n",
      "finding causality....\n",
      "1480 true causes out of 3024 total connections\n",
      "time elapsed:  219.93920594000156\n"
     ]
    }
   ],
   "source": [
    "tc65, totc65, ss65 = ragaIterator(10, '65', '29_h', num_surrogates=50, times_it=t_dict)"
   ],
   "metadata": {
    "collapsed": false,
    "pycharm": {
     "name": "#%%\n"
    }
   }
  },
  {
   "cell_type": "code",
   "execution_count": 12,
   "outputs": [
    {
     "data": {
      "text/plain": "(1644.6, 37.424173020300074, 182.3727227753996)"
     },
     "execution_count": 12,
     "metadata": {},
     "output_type": "execute_result"
    }
   ],
   "source": [
    "avg_conns(tc65), avg_conns(t_dict[\"Surrogate65\"]), avg_conns(t_dict[\"Causality65\"])"
   ],
   "metadata": {
    "collapsed": false,
    "pycharm": {
     "name": "#%%\n"
    }
   }
  },
  {
   "cell_type": "code",
   "execution_count": 13,
   "outputs": [
    {
     "name": "stdout",
     "output_type": "stream",
     "text": [
      "iteration:  1\n",
      "Starting surrogate generation...\n"
     ]
    },
    {
     "name": "stderr",
     "output_type": "stream",
     "text": [
      "100%|██████████| 50/50 [00:16<00:00,  3.07it/s]\n",
      "100%|██████████| 50/50 [00:16<00:00,  2.97it/s]\n"
     ]
    },
    {
     "name": "stdout",
     "output_type": "stream",
     "text": [
      "adjusted Melody length: 43680\n",
      "finding causality....\n",
      "2369 true causes out of 3024 total connections\n",
      "time elapsed:  212.382418606001\n",
      "iteration:  2\n",
      "Starting surrogate generation...\n"
     ]
    },
    {
     "name": "stderr",
     "output_type": "stream",
     "text": [
      "100%|██████████| 50/50 [00:10<00:00,  4.85it/s]\n",
      "100%|██████████| 50/50 [00:16<00:00,  3.11it/s]\n"
     ]
    },
    {
     "name": "stdout",
     "output_type": "stream",
     "text": [
      "adjusted Melody length: 43680\n",
      "finding causality....\n",
      "2434 true causes out of 3024 total connections\n",
      "time elapsed:  204.5261949679989\n",
      "iteration:  3\n",
      "Starting surrogate generation...\n"
     ]
    },
    {
     "name": "stderr",
     "output_type": "stream",
     "text": [
      "100%|██████████| 50/50 [00:17<00:00,  2.86it/s]\n",
      "100%|██████████| 50/50 [00:16<00:00,  2.95it/s]\n"
     ]
    },
    {
     "name": "stdout",
     "output_type": "stream",
     "text": [
      "adjusted Melody length: 43680\n",
      "finding causality....\n",
      "2288 true causes out of 3024 total connections\n",
      "time elapsed:  209.40246496200052\n",
      "iteration:  4\n",
      "Starting surrogate generation...\n"
     ]
    },
    {
     "name": "stderr",
     "output_type": "stream",
     "text": [
      "100%|██████████| 50/50 [00:21<00:00,  2.31it/s]\n",
      "100%|██████████| 50/50 [00:19<00:00,  2.59it/s]\n"
     ]
    },
    {
     "name": "stdout",
     "output_type": "stream",
     "text": [
      "adjusted Melody length: 43680\n",
      "finding causality....\n",
      "2345 true causes out of 3024 total connections\n",
      "time elapsed:  218.62434690900045\n",
      "iteration:  5\n",
      "Starting surrogate generation...\n"
     ]
    },
    {
     "name": "stderr",
     "output_type": "stream",
     "text": [
      "100%|██████████| 50/50 [00:11<00:00,  4.46it/s]\n",
      "100%|██████████| 50/50 [00:17<00:00,  2.79it/s]\n"
     ]
    },
    {
     "name": "stdout",
     "output_type": "stream",
     "text": [
      "adjusted Melody length: 43680\n",
      "finding causality....\n",
      "2305 true causes out of 3024 total connections\n",
      "time elapsed:  205.94638550200034\n",
      "iteration:  6\n",
      "Starting surrogate generation...\n"
     ]
    },
    {
     "name": "stderr",
     "output_type": "stream",
     "text": [
      "100%|██████████| 50/50 [00:26<00:00,  1.92it/s]\n",
      "100%|██████████| 50/50 [00:17<00:00,  2.87it/s]\n"
     ]
    },
    {
     "name": "stdout",
     "output_type": "stream",
     "text": [
      "adjusted Melody length: 43680\n",
      "finding causality....\n",
      "2265 true causes out of 3024 total connections\n",
      "time elapsed:  220.97795020099875\n",
      "iteration:  7\n",
      "Starting surrogate generation...\n"
     ]
    },
    {
     "name": "stderr",
     "output_type": "stream",
     "text": [
      "100%|██████████| 50/50 [00:14<00:00,  3.36it/s]\n",
      "100%|██████████| 50/50 [00:24<00:00,  2.00it/s]\n"
     ]
    },
    {
     "name": "stdout",
     "output_type": "stream",
     "text": [
      "adjusted Melody length: 43680\n",
      "finding causality....\n",
      "2218 true causes out of 3024 total connections\n",
      "time elapsed:  217.9910848239997\n",
      "iteration:  8\n",
      "Starting surrogate generation...\n"
     ]
    },
    {
     "name": "stderr",
     "output_type": "stream",
     "text": [
      "100%|██████████| 50/50 [00:12<00:00,  4.11it/s]\n",
      "100%|██████████| 50/50 [00:12<00:00,  4.14it/s]\n"
     ]
    },
    {
     "name": "stdout",
     "output_type": "stream",
     "text": [
      "adjusted Melody length: 43680\n",
      "finding causality....\n",
      "2391 true causes out of 3024 total connections\n",
      "time elapsed:  200.65594127000077\n",
      "iteration:  9\n",
      "Starting surrogate generation...\n"
     ]
    },
    {
     "name": "stderr",
     "output_type": "stream",
     "text": [
      "100%|██████████| 50/50 [00:12<00:00,  4.07it/s]\n",
      "100%|██████████| 50/50 [00:24<00:00,  2.01it/s]\n"
     ]
    },
    {
     "name": "stdout",
     "output_type": "stream",
     "text": [
      "adjusted Melody length: 43680\n",
      "finding causality....\n",
      "2457 true causes out of 3024 total connections\n",
      "time elapsed:  214.36199954900076\n",
      "iteration:  10\n",
      "Starting surrogate generation...\n"
     ]
    },
    {
     "name": "stderr",
     "output_type": "stream",
     "text": [
      "100%|██████████| 50/50 [00:18<00:00,  2.69it/s]\n",
      "100%|██████████| 50/50 [00:21<00:00,  2.33it/s]\n"
     ]
    },
    {
     "name": "stdout",
     "output_type": "stream",
     "text": [
      "adjusted Melody length: 43680\n",
      "finding causality....\n",
      "2349 true causes out of 3024 total connections\n",
      "time elapsed:  217.20283365499927\n"
     ]
    }
   ],
   "source": [
    "tc15, totc15, ss15 = ragaIterator(10, '15', '15_m', num_surrogates=50, times_it=t_dict)"
   ],
   "metadata": {
    "collapsed": false,
    "pycharm": {
     "name": "#%%\n"
    }
   }
  },
  {
   "cell_type": "code",
   "execution_count": 14,
   "outputs": [
    {
     "data": {
      "text/plain": "(2342.1, 35.84443851620017, 169.2937976976995)"
     },
     "execution_count": 14,
     "metadata": {},
     "output_type": "execute_result"
    }
   ],
   "source": [
    "avg_conns(tc15), avg_conns(t_dict[\"Surrogate15\"]), avg_conns(t_dict[\"Causality15\"])"
   ],
   "metadata": {
    "collapsed": false,
    "pycharm": {
     "name": "#%%\n"
    }
   }
  },
  {
   "cell_type": "code",
   "execution_count": 15,
   "outputs": [
    {
     "name": "stdout",
     "output_type": "stream",
     "text": [
      "iteration:  1\n",
      "Starting surrogate generation...\n"
     ]
    },
    {
     "name": "stderr",
     "output_type": "stream",
     "text": [
      "100%|██████████| 50/50 [00:20<00:00,  2.38it/s]\n",
      "100%|██████████| 50/50 [00:16<00:00,  2.99it/s]\n"
     ]
    },
    {
     "name": "stdout",
     "output_type": "stream",
     "text": [
      "adjusted Melody length: 43680\n",
      "finding causality....\n",
      "619 true causes out of 3248 total connections\n",
      "time elapsed:  270.9603171999988\n",
      "iteration:  2\n",
      "Starting surrogate generation...\n"
     ]
    },
    {
     "name": "stderr",
     "output_type": "stream",
     "text": [
      "100%|██████████| 50/50 [00:25<00:00,  1.97it/s]\n",
      "100%|██████████| 50/50 [00:18<00:00,  2.70it/s]\n"
     ]
    },
    {
     "name": "stdout",
     "output_type": "stream",
     "text": [
      "adjusted Melody length: 43680\n",
      "finding causality....\n",
      "782 true causes out of 3248 total connections\n",
      "time elapsed:  278.37013650600056\n",
      "iteration:  3\n",
      "Starting surrogate generation...\n"
     ]
    },
    {
     "name": "stderr",
     "output_type": "stream",
     "text": [
      "100%|██████████| 50/50 [00:14<00:00,  3.42it/s]\n",
      "100%|██████████| 50/50 [00:10<00:00,  4.85it/s]\n"
     ]
    },
    {
     "name": "stdout",
     "output_type": "stream",
     "text": [
      "adjusted Melody length: 43680\n",
      "finding causality....\n",
      "744 true causes out of 3248 total connections\n",
      "time elapsed:  256.44888838399856\n",
      "iteration:  4\n",
      "Starting surrogate generation...\n"
     ]
    },
    {
     "name": "stderr",
     "output_type": "stream",
     "text": [
      "100%|██████████| 50/50 [00:20<00:00,  2.44it/s]\n",
      "100%|██████████| 50/50 [00:14<00:00,  3.52it/s]\n"
     ]
    },
    {
     "name": "stdout",
     "output_type": "stream",
     "text": [
      "adjusted Melody length: 43680\n",
      "finding causality....\n",
      "564 true causes out of 3248 total connections\n",
      "time elapsed:  268.80401128499943\n",
      "iteration:  5\n",
      "Starting surrogate generation...\n"
     ]
    },
    {
     "name": "stderr",
     "output_type": "stream",
     "text": [
      "100%|██████████| 50/50 [00:24<00:00,  2.06it/s]\n",
      "100%|██████████| 50/50 [00:15<00:00,  3.25it/s]\n"
     ]
    },
    {
     "name": "stdout",
     "output_type": "stream",
     "text": [
      "adjusted Melody length: 43680\n",
      "finding causality....\n",
      "639 true causes out of 3248 total connections\n",
      "time elapsed:  273.48641842399957\n",
      "iteration:  6\n",
      "Starting surrogate generation...\n"
     ]
    },
    {
     "name": "stderr",
     "output_type": "stream",
     "text": [
      "100%|██████████| 50/50 [00:22<00:00,  2.25it/s]\n",
      "100%|██████████| 50/50 [00:15<00:00,  3.27it/s]\n"
     ]
    },
    {
     "name": "stdout",
     "output_type": "stream",
     "text": [
      "adjusted Melody length: 43680\n",
      "finding causality....\n",
      "713 true causes out of 3248 total connections\n",
      "time elapsed:  269.40660092100006\n",
      "iteration:  7\n",
      "Starting surrogate generation...\n"
     ]
    },
    {
     "name": "stderr",
     "output_type": "stream",
     "text": [
      "100%|██████████| 50/50 [00:13<00:00,  3.70it/s]\n",
      "100%|██████████| 50/50 [00:23<00:00,  2.14it/s]\n"
     ]
    },
    {
     "name": "stdout",
     "output_type": "stream",
     "text": [
      "adjusted Melody length: 43680\n",
      "finding causality....\n",
      "757 true causes out of 3248 total connections\n",
      "time elapsed:  272.4331948950021\n",
      "iteration:  8\n",
      "Starting surrogate generation...\n"
     ]
    },
    {
     "name": "stderr",
     "output_type": "stream",
     "text": [
      "100%|██████████| 50/50 [00:11<00:00,  4.41it/s]\n",
      "100%|██████████| 50/50 [00:30<00:00,  1.63it/s]\n"
     ]
    },
    {
     "name": "stdout",
     "output_type": "stream",
     "text": [
      "adjusted Melody length: 43680\n",
      "finding causality....\n",
      "612 true causes out of 3248 total connections\n",
      "time elapsed:  276.27639988900046\n",
      "iteration:  9\n",
      "Starting surrogate generation...\n"
     ]
    },
    {
     "name": "stderr",
     "output_type": "stream",
     "text": [
      "100%|██████████| 50/50 [00:09<00:00,  5.06it/s]\n",
      "100%|██████████| 50/50 [00:17<00:00,  2.89it/s]\n"
     ]
    },
    {
     "name": "stdout",
     "output_type": "stream",
     "text": [
      "adjusted Melody length: 43680\n",
      "finding causality....\n",
      "553 true causes out of 3248 total connections\n",
      "time elapsed:  259.0935400140006\n",
      "iteration:  10\n",
      "Starting surrogate generation...\n"
     ]
    },
    {
     "name": "stderr",
     "output_type": "stream",
     "text": [
      "100%|██████████| 50/50 [00:23<00:00,  2.09it/s]\n",
      "100%|██████████| 50/50 [00:30<00:00,  1.63it/s]\n"
     ]
    },
    {
     "name": "stdout",
     "output_type": "stream",
     "text": [
      "adjusted Melody length: 43680\n",
      "finding causality....\n",
      "703 true causes out of 3248 total connections\n",
      "time elapsed:  288.6824951169983\n"
     ]
    }
   ],
   "source": [
    "tc8, totc8, ss8 = ragaIterator(10, '8', '8_d', num_surrogates=50, times_it=t_dict)"
   ],
   "metadata": {
    "collapsed": false,
    "pycharm": {
     "name": "#%%\n"
    }
   }
  },
  {
   "cell_type": "code",
   "execution_count": 16,
   "outputs": [
    {
     "data": {
      "text/plain": "(668.6, 40.217083348899905, 223.51942214590053)"
     },
     "execution_count": 16,
     "metadata": {},
     "output_type": "execute_result"
    }
   ],
   "source": [
    "avg_conns(tc8), avg_conns(t_dict[\"Surrogate8\"]), avg_conns(t_dict[\"Causality8\"])"
   ],
   "metadata": {
    "collapsed": false,
    "pycharm": {
     "name": "#%%\n"
    }
   }
  },
  {
   "cell_type": "code",
   "execution_count": 17,
   "outputs": [
    {
     "name": "stdout",
     "output_type": "stream",
     "text": [
      "iteration:  1\n",
      "Starting surrogate generation...\n"
     ]
    },
    {
     "name": "stderr",
     "output_type": "stream",
     "text": [
      "100%|██████████| 50/50 [00:18<00:00,  2.68it/s]\n",
      "100%|██████████| 50/50 [00:18<00:00,  2.70it/s]\n"
     ]
    },
    {
     "name": "stdout",
     "output_type": "stream",
     "text": [
      "adjusted Melody length: 43680\n",
      "finding causality....\n",
      "1883 true causes out of 2968 total connections\n",
      "time elapsed:  226.83664754599886\n",
      "iteration:  2\n",
      "Starting surrogate generation...\n"
     ]
    },
    {
     "name": "stderr",
     "output_type": "stream",
     "text": [
      "100%|██████████| 50/50 [00:25<00:00,  1.95it/s]\n",
      "100%|██████████| 50/50 [00:14<00:00,  3.39it/s]\n"
     ]
    },
    {
     "name": "stdout",
     "output_type": "stream",
     "text": [
      "adjusted Melody length: 43680\n",
      "finding causality....\n",
      "2022 true causes out of 2968 total connections\n",
      "time elapsed:  230.5618512630026\n",
      "iteration:  3\n",
      "Starting surrogate generation...\n"
     ]
    },
    {
     "name": "stderr",
     "output_type": "stream",
     "text": [
      "100%|██████████| 50/50 [00:14<00:00,  3.43it/s]\n",
      "100%|██████████| 50/50 [00:22<00:00,  2.19it/s]\n"
     ]
    },
    {
     "name": "stdout",
     "output_type": "stream",
     "text": [
      "adjusted Melody length: 43680\n",
      "finding causality....\n",
      "2006 true causes out of 2968 total connections\n",
      "time elapsed:  229.47921922499518\n",
      "iteration:  4\n",
      "Starting surrogate generation...\n"
     ]
    },
    {
     "name": "stderr",
     "output_type": "stream",
     "text": [
      "100%|██████████| 50/50 [00:21<00:00,  2.33it/s]\n",
      "100%|██████████| 50/50 [00:11<00:00,  4.20it/s]\n"
     ]
    },
    {
     "name": "stdout",
     "output_type": "stream",
     "text": [
      "adjusted Melody length: 43680\n",
      "finding causality....\n",
      "1798 true causes out of 2968 total connections\n",
      "time elapsed:  228.16324908100069\n",
      "iteration:  5\n",
      "Starting surrogate generation...\n"
     ]
    },
    {
     "name": "stderr",
     "output_type": "stream",
     "text": [
      "100%|██████████| 50/50 [00:14<00:00,  3.38it/s]\n",
      "100%|██████████| 50/50 [00:11<00:00,  4.52it/s]\n"
     ]
    },
    {
     "name": "stdout",
     "output_type": "stream",
     "text": [
      "adjusted Melody length: 43680\n",
      "finding causality....\n",
      "1877 true causes out of 2968 total connections\n",
      "time elapsed:  220.10172279100516\n",
      "iteration:  6\n",
      "Starting surrogate generation...\n"
     ]
    },
    {
     "name": "stderr",
     "output_type": "stream",
     "text": [
      "100%|██████████| 50/50 [00:12<00:00,  4.02it/s]\n",
      "100%|██████████| 50/50 [00:17<00:00,  2.78it/s]\n"
     ]
    },
    {
     "name": "stdout",
     "output_type": "stream",
     "text": [
      "adjusted Melody length: 43680\n",
      "finding causality....\n",
      "2007 true causes out of 2968 total connections\n",
      "time elapsed:  221.1728093349957\n",
      "iteration:  7\n",
      "Starting surrogate generation...\n"
     ]
    },
    {
     "name": "stderr",
     "output_type": "stream",
     "text": [
      "100%|██████████| 50/50 [00:12<00:00,  3.98it/s]\n",
      "100%|██████████| 50/50 [00:12<00:00,  4.09it/s]\n"
     ]
    },
    {
     "name": "stdout",
     "output_type": "stream",
     "text": [
      "adjusted Melody length: 43680\n",
      "finding causality....\n",
      "1848 true causes out of 2968 total connections\n",
      "time elapsed:  218.08270475899917\n",
      "iteration:  8\n",
      "Starting surrogate generation...\n"
     ]
    },
    {
     "name": "stderr",
     "output_type": "stream",
     "text": [
      "100%|██████████| 50/50 [00:13<00:00,  3.67it/s]\n",
      "100%|██████████| 50/50 [00:15<00:00,  3.18it/s]\n"
     ]
    },
    {
     "name": "stdout",
     "output_type": "stream",
     "text": [
      "adjusted Melody length: 43680\n",
      "finding causality....\n",
      "2053 true causes out of 2968 total connections\n",
      "time elapsed:  221.2663969109999\n",
      "iteration:  9\n",
      "Starting surrogate generation...\n"
     ]
    },
    {
     "name": "stderr",
     "output_type": "stream",
     "text": [
      "100%|██████████| 50/50 [00:20<00:00,  2.48it/s]\n",
      "100%|██████████| 50/50 [00:12<00:00,  3.89it/s]\n"
     ]
    },
    {
     "name": "stdout",
     "output_type": "stream",
     "text": [
      "adjusted Melody length: 43680\n",
      "finding causality....\n",
      "1665 true causes out of 2968 total connections\n",
      "time elapsed:  225.04745852699853\n",
      "iteration:  10\n",
      "Starting surrogate generation...\n"
     ]
    },
    {
     "name": "stderr",
     "output_type": "stream",
     "text": [
      "100%|██████████| 50/50 [00:10<00:00,  4.98it/s]\n",
      "100%|██████████| 50/50 [00:12<00:00,  4.10it/s]\n"
     ]
    },
    {
     "name": "stdout",
     "output_type": "stream",
     "text": [
      "adjusted Melody length: 43680\n",
      "finding causality....\n",
      "1835 true causes out of 2968 total connections\n",
      "time elapsed:  214.0779628510063\n"
     ]
    }
   ],
   "source": [
    "tc22, totc22, ss22 = ragaIterator(10, '22', '22_a', num_surrogates=50, times_it=t_dict)"
   ],
   "metadata": {
    "collapsed": false,
    "pycharm": {
     "name": "#%%\n"
    }
   }
  },
  {
   "cell_type": "code",
   "execution_count": 18,
   "outputs": [
    {
     "data": {
      "text/plain": "(1899.4, 33.20455161340105, 182.73843879880042)"
     },
     "execution_count": 18,
     "metadata": {},
     "output_type": "execute_result"
    }
   ],
   "source": [
    "avg_conns(tc22), avg_conns(t_dict[\"Surrogate22\"]), avg_conns(t_dict[\"Causality22\"])"
   ],
   "metadata": {
    "collapsed": false,
    "pycharm": {
     "name": "#%%\n"
    }
   }
  },
  {
   "cell_type": "code",
   "execution_count": 19,
   "outputs": [
    {
     "name": "stdout",
     "output_type": "stream",
     "text": [
      "iteration:  1\n",
      "Starting surrogate generation...\n"
     ]
    },
    {
     "name": "stderr",
     "output_type": "stream",
     "text": [
      "100%|██████████| 50/50 [00:12<00:00,  3.87it/s]\n",
      "100%|██████████| 50/50 [00:19<00:00,  2.58it/s]\n"
     ]
    },
    {
     "name": "stdout",
     "output_type": "stream",
     "text": [
      "adjusted Melody length: 43680\n",
      "finding causality....\n",
      "1583 true causes out of 2970 total connections\n",
      "time elapsed:  246.19132544999593\n",
      "iteration:  2\n",
      "Starting surrogate generation...\n"
     ]
    },
    {
     "name": "stderr",
     "output_type": "stream",
     "text": [
      "100%|██████████| 50/50 [00:23<00:00,  2.17it/s]\n",
      "100%|██████████| 50/50 [00:24<00:00,  2.02it/s]\n"
     ]
    },
    {
     "name": "stdout",
     "output_type": "stream",
     "text": [
      "adjusted Melody length: 43680\n",
      "finding causality....\n",
      "1491 true causes out of 2970 total connections\n",
      "time elapsed:  265.5274024860046\n",
      "iteration:  3\n",
      "Starting surrogate generation...\n"
     ]
    },
    {
     "name": "stderr",
     "output_type": "stream",
     "text": [
      "100%|██████████| 50/50 [00:33<00:00,  1.48it/s]\n",
      "100%|██████████| 50/50 [00:27<00:00,  1.83it/s]\n"
     ]
    },
    {
     "name": "stdout",
     "output_type": "stream",
     "text": [
      "adjusted Melody length: 43680\n",
      "finding causality....\n",
      "1360 true causes out of 2970 total connections\n",
      "time elapsed:  280.2901996069995\n",
      "iteration:  4\n",
      "Starting surrogate generation...\n"
     ]
    },
    {
     "name": "stderr",
     "output_type": "stream",
     "text": [
      "100%|██████████| 50/50 [00:17<00:00,  2.88it/s]\n",
      "100%|██████████| 50/50 [00:18<00:00,  2.71it/s]\n"
     ]
    },
    {
     "name": "stdout",
     "output_type": "stream",
     "text": [
      "adjusted Melody length: 43680\n",
      "finding causality....\n",
      "1222 true causes out of 2970 total connections\n",
      "time elapsed:  253.55625574199803\n",
      "iteration:  5\n",
      "Starting surrogate generation...\n"
     ]
    },
    {
     "name": "stderr",
     "output_type": "stream",
     "text": [
      "100%|██████████| 50/50 [00:14<00:00,  3.45it/s]\n",
      "100%|██████████| 50/50 [00:15<00:00,  3.27it/s]\n"
     ]
    },
    {
     "name": "stdout",
     "output_type": "stream",
     "text": [
      "adjusted Melody length: 43680\n",
      "finding causality....\n",
      "1611 true causes out of 2970 total connections\n",
      "time elapsed:  251.48581056999683\n",
      "iteration:  6\n",
      "Starting surrogate generation...\n"
     ]
    },
    {
     "name": "stderr",
     "output_type": "stream",
     "text": [
      "100%|██████████| 50/50 [00:13<00:00,  3.69it/s]\n",
      "100%|██████████| 50/50 [00:26<00:00,  1.89it/s]\n"
     ]
    },
    {
     "name": "stdout",
     "output_type": "stream",
     "text": [
      "adjusted Melody length: 43680\n",
      "finding causality....\n",
      "1529 true causes out of 2970 total connections\n",
      "time elapsed:  257.3057503710006\n",
      "iteration:  7\n",
      "Starting surrogate generation...\n"
     ]
    },
    {
     "name": "stderr",
     "output_type": "stream",
     "text": [
      "100%|██████████| 50/50 [00:13<00:00,  3.59it/s]\n",
      "100%|██████████| 50/50 [00:17<00:00,  2.92it/s]\n"
     ]
    },
    {
     "name": "stdout",
     "output_type": "stream",
     "text": [
      "adjusted Melody length: 43680\n",
      "finding causality....\n",
      "1696 true causes out of 2970 total connections\n",
      "time elapsed:  247.076640254003\n",
      "iteration:  8\n",
      "Starting surrogate generation...\n"
     ]
    },
    {
     "name": "stderr",
     "output_type": "stream",
     "text": [
      "100%|██████████| 50/50 [00:17<00:00,  2.94it/s]\n",
      "100%|██████████| 50/50 [00:17<00:00,  2.93it/s]\n"
     ]
    },
    {
     "name": "stdout",
     "output_type": "stream",
     "text": [
      "adjusted Melody length: 43680\n",
      "finding causality....\n",
      "1428 true causes out of 2970 total connections\n",
      "time elapsed:  252.37233264899987\n",
      "iteration:  9\n",
      "Starting surrogate generation...\n"
     ]
    },
    {
     "name": "stderr",
     "output_type": "stream",
     "text": [
      "100%|██████████| 50/50 [00:13<00:00,  3.70it/s]\n",
      "100%|██████████| 50/50 [00:18<00:00,  2.77it/s]\n"
     ]
    },
    {
     "name": "stdout",
     "output_type": "stream",
     "text": [
      "adjusted Melody length: 43680\n",
      "finding causality....\n",
      "1428 true causes out of 2970 total connections\n",
      "time elapsed:  248.53994721799972\n",
      "iteration:  10\n",
      "Starting surrogate generation...\n"
     ]
    },
    {
     "name": "stderr",
     "output_type": "stream",
     "text": [
      "100%|██████████| 50/50 [00:16<00:00,  3.10it/s]\n",
      "100%|██████████| 50/50 [00:20<00:00,  2.43it/s]\n"
     ]
    },
    {
     "name": "stdout",
     "output_type": "stream",
     "text": [
      "adjusted Melody length: 43680\n",
      "finding causality....\n",
      "1588 true causes out of 2970 total connections\n",
      "time elapsed:  254.24143342200114\n"
     ]
    }
   ],
   "source": [
    "tc28, totc28, ss28 = ragaIterator(10, '28', '28_k', num_surrogates=50, times_it=t_dict)"
   ],
   "metadata": {
    "collapsed": false,
    "pycharm": {
     "name": "#%%\n"
    }
   }
  },
  {
   "cell_type": "code",
   "execution_count": 20,
   "outputs": [
    {
     "data": {
      "text/plain": "(1493.6, 39.67997062440045, 208.65607820050136)"
     },
     "execution_count": 20,
     "metadata": {},
     "output_type": "execute_result"
    }
   ],
   "source": [
    "avg_conns(tc28), avg_conns(t_dict[\"Surrogate28\"]), avg_conns(t_dict[\"Causality28\"])"
   ],
   "metadata": {
    "collapsed": false,
    "pycharm": {
     "name": "#%%\n"
    }
   }
  },
  {
   "cell_type": "code",
   "execution_count": 21,
   "outputs": [
    {
     "name": "stdout",
     "output_type": "stream",
     "text": [
      "iteration:  1\n",
      "Starting surrogate generation...\n"
     ]
    },
    {
     "name": "stderr",
     "output_type": "stream",
     "text": [
      "100%|██████████| 50/50 [00:19<00:00,  2.55it/s]\n",
      "100%|██████████| 50/50 [00:17<00:00,  2.93it/s]\n"
     ]
    },
    {
     "name": "stdout",
     "output_type": "stream",
     "text": [
      "adjusted Melody length: 43680\n",
      "finding causality....\n",
      "2319 true causes out of 3024 total connections\n",
      "time elapsed:  243.95732997899904\n",
      "iteration:  2\n",
      "Starting surrogate generation...\n"
     ]
    },
    {
     "name": "stderr",
     "output_type": "stream",
     "text": [
      "100%|██████████| 50/50 [00:24<00:00,  2.06it/s]\n",
      "100%|██████████| 50/50 [00:14<00:00,  3.35it/s]\n"
     ]
    },
    {
     "name": "stdout",
     "output_type": "stream",
     "text": [
      "adjusted Melody length: 43680\n",
      "finding causality....\n",
      "2328 true causes out of 3024 total connections\n",
      "time elapsed:  246.67933081799856\n",
      "iteration:  3\n",
      "Starting surrogate generation...\n"
     ]
    },
    {
     "name": "stderr",
     "output_type": "stream",
     "text": [
      "100%|██████████| 50/50 [00:23<00:00,  2.17it/s]\n",
      "100%|██████████| 50/50 [00:08<00:00,  5.59it/s]\n"
     ]
    },
    {
     "name": "stdout",
     "output_type": "stream",
     "text": [
      "adjusted Melody length: 43680\n",
      "finding causality....\n",
      "2340 true causes out of 3024 total connections\n",
      "time elapsed:  241.2405150870036\n",
      "iteration:  4\n",
      "Starting surrogate generation...\n"
     ]
    },
    {
     "name": "stderr",
     "output_type": "stream",
     "text": [
      "100%|██████████| 50/50 [00:30<00:00,  1.65it/s]\n",
      "100%|██████████| 50/50 [00:18<00:00,  2.76it/s]\n"
     ]
    },
    {
     "name": "stdout",
     "output_type": "stream",
     "text": [
      "adjusted Melody length: 43680\n",
      "finding causality....\n",
      "2396 true causes out of 3024 total connections\n",
      "time elapsed:  255.56830606600124\n",
      "iteration:  5\n",
      "Starting surrogate generation...\n"
     ]
    },
    {
     "name": "stderr",
     "output_type": "stream",
     "text": [
      "100%|██████████| 50/50 [00:16<00:00,  3.12it/s]\n",
      "100%|██████████| 50/50 [00:16<00:00,  3.03it/s]\n"
     ]
    },
    {
     "name": "stdout",
     "output_type": "stream",
     "text": [
      "adjusted Melody length: 43680\n",
      "finding causality....\n",
      "2315 true causes out of 3024 total connections\n",
      "time elapsed:  237.8880027999985\n",
      "iteration:  6\n",
      "Starting surrogate generation...\n"
     ]
    },
    {
     "name": "stderr",
     "output_type": "stream",
     "text": [
      "100%|██████████| 50/50 [00:19<00:00,  2.52it/s]\n",
      "100%|██████████| 50/50 [00:13<00:00,  3.70it/s]\n"
     ]
    },
    {
     "name": "stdout",
     "output_type": "stream",
     "text": [
      "adjusted Melody length: 43680\n",
      "finding causality....\n",
      "2276 true causes out of 3024 total connections\n",
      "time elapsed:  239.35955908699543\n",
      "iteration:  7\n",
      "Starting surrogate generation...\n"
     ]
    },
    {
     "name": "stderr",
     "output_type": "stream",
     "text": [
      "100%|██████████| 50/50 [00:17<00:00,  2.93it/s]\n",
      "100%|██████████| 50/50 [00:17<00:00,  2.87it/s]\n"
     ]
    },
    {
     "name": "stdout",
     "output_type": "stream",
     "text": [
      "adjusted Melody length: 43680\n",
      "finding causality....\n",
      "2374 true causes out of 3024 total connections\n",
      "time elapsed:  243.14381125799991\n",
      "iteration:  8\n",
      "Starting surrogate generation...\n"
     ]
    },
    {
     "name": "stderr",
     "output_type": "stream",
     "text": [
      "100%|██████████| 50/50 [00:19<00:00,  2.53it/s]\n",
      "100%|██████████| 50/50 [00:12<00:00,  4.05it/s]\n"
     ]
    },
    {
     "name": "stdout",
     "output_type": "stream",
     "text": [
      "adjusted Melody length: 43680\n",
      "finding causality....\n",
      "2327 true causes out of 3024 total connections\n",
      "time elapsed:  240.7403798680025\n",
      "iteration:  9\n",
      "Starting surrogate generation...\n"
     ]
    },
    {
     "name": "stderr",
     "output_type": "stream",
     "text": [
      "100%|██████████| 50/50 [00:15<00:00,  3.30it/s]\n",
      "100%|██████████| 50/50 [00:16<00:00,  3.08it/s]\n"
     ]
    },
    {
     "name": "stdout",
     "output_type": "stream",
     "text": [
      "adjusted Melody length: 43680\n",
      "finding causality....\n",
      "2405 true causes out of 3024 total connections\n",
      "time elapsed:  235.35074236599758\n",
      "iteration:  10\n",
      "Starting surrogate generation...\n"
     ]
    },
    {
     "name": "stderr",
     "output_type": "stream",
     "text": [
      "100%|██████████| 50/50 [00:13<00:00,  3.62it/s]\n",
      "100%|██████████| 50/50 [00:25<00:00,  1.96it/s]\n"
     ]
    },
    {
     "name": "stdout",
     "output_type": "stream",
     "text": [
      "adjusted Melody length: 43680\n",
      "finding causality....\n",
      "2141 true causes out of 3024 total connections\n",
      "time elapsed:  245.82174390100408\n"
     ]
    }
   ],
   "source": [
    "tc29, totc29, ss29 = ragaIterator(10, '29', '29_h', num_surrogates=50, times_it=t_dict)"
   ],
   "metadata": {
    "collapsed": false,
    "pycharm": {
     "name": "#%%\n"
    }
   }
  },
  {
   "cell_type": "code",
   "execution_count": 22,
   "outputs": [
    {
     "data": {
      "text/plain": "(2322.1, 37.971970005199545, 197.75677085439892)"
     },
     "execution_count": 22,
     "metadata": {},
     "output_type": "execute_result"
    }
   ],
   "source": [
    "avg_conns(tc29), avg_conns(t_dict[\"Surrogate29\"]), avg_conns(t_dict[\"Causality29\"])"
   ],
   "metadata": {
    "collapsed": false,
    "pycharm": {
     "name": "#%%\n"
    }
   }
  },
  {
   "cell_type": "code",
   "execution_count": null,
   "outputs": [],
   "source": [
    "t_dict"
   ],
   "metadata": {
    "collapsed": false,
    "pycharm": {
     "name": "#%%\n"
    }
   }
  },
  {
   "cell_type": "code",
   "execution_count": 3,
   "outputs": [
    {
     "name": "stdout",
     "output_type": "stream",
     "text": [
      "Starting surrogate generation...\n",
      "Starting surrogate generation...\n",
      "Starting surrogate generation...\n",
      "Starting surrogate generation...\n",
      "Starting surrogate generation...\n",
      "Starting surrogate generation...\n",
      "Starting surrogate generation...\n",
      "Starting surrogate generation...\n",
      "Starting surrogate generation...\n",
      "Starting surrogate generation...\n",
      "Starting surrogate generation...\n",
      "Starting surrogate generation...\n",
      "Starting surrogate generation...\n",
      "Starting surrogate generation...\n",
      "Starting surrogate generation...\n",
      "Starting surrogate generation...\n",
      "Starting surrogate generation...\n",
      "Starting surrogate generation...\n",
      "Starting surrogate generation...\n",
      "Starting surrogate generation...\n",
      "Starting surrogate generation...\n",
      "Starting surrogate generation...\n",
      "Starting surrogate generation...\n",
      "Starting surrogate generation...\n",
      "Starting surrogate generation...\n",
      "Starting surrogate generation...\n",
      "Starting surrogate generation...\n",
      "Starting surrogate generation...\n",
      "Starting surrogate generation...\n",
      "Starting surrogate generation...\n",
      "Starting surrogate generation...\n",
      "Starting surrogate generation...\n",
      "Starting surrogate generation...\n",
      "Starting surrogate generation...\n",
      "Starting surrogate generation...\n",
      "Starting surrogate generation...\n",
      "Starting surrogate generation...\n",
      "Starting surrogate generation...\n",
      "Starting surrogate generation...\n",
      "Starting surrogate generation...\n",
      "Starting surrogate generation...\n",
      "Starting surrogate generation...\n",
      "Starting surrogate generation...\n",
      "Starting surrogate generation...\n",
      "Starting surrogate generation...\n",
      "Starting surrogate generation...\n",
      "Starting surrogate generation...\n",
      "Starting surrogate generation...\n",
      "Starting surrogate generation...\n",
      "Starting surrogate generation...\n"
     ]
    }
   ],
   "source": [
    "gentimes8 = []\n",
    "\n",
    "for _ in range(10):\n",
    "    gentimes8.append(get_generation_time50('8', '8_d'))\n",
    "    gentimes8.append(get_generation_time50('15', '15_m'))\n",
    "    gentimes8.append(get_generation_time50('22', '22_a'))\n",
    "    gentimes8.append(get_generation_time50('28', '28_k'))\n",
    "    gentimes8.append(get_generation_time50('29', '29_h'))"
   ],
   "metadata": {
    "collapsed": false,
    "pycharm": {
     "name": "#%%\n"
    }
   }
  },
  {
   "cell_type": "code",
   "execution_count": 5,
   "outputs": [
    {
     "data": {
      "text/plain": "(33.169615245600006,\n 32.59101138219999,\n 32.932949019099965,\n 31.621566379899967,\n 32.94254417129996)"
     },
     "execution_count": 5,
     "metadata": {},
     "output_type": "execute_result"
    }
   ],
   "source": [
    "gentime8 = np.array(gentimes8[0:10]).mean()\n",
    "gentime15 = np.array(gentimes8[10:20]).mean()\n",
    "gentime22 = np.array(gentimes8[20:30]).mean()\n",
    "gentime28 = np.array(gentimes8[30:40]).mean()\n",
    "gentime29 = np.array(gentimes8[40:50]).mean()\n",
    "\n",
    "gentime8, gentime15, gentime22, gentime28, gentime29"
   ],
   "metadata": {
    "collapsed": false,
    "pycharm": {
     "name": "#%%\n"
    }
   }
  },
  {
   "cell_type": "markdown",
   "source": [
    "## 150 surrogates"
   ],
   "metadata": {
    "collapsed": false,
    "pycharm": {
     "name": "#%% md\n"
    }
   }
  },
  {
   "cell_type": "code",
   "execution_count": 6,
   "outputs": [],
   "source": [
    "t_dict = {}"
   ],
   "metadata": {
    "collapsed": false,
    "pycharm": {
     "name": "#%%\n"
    }
   }
  },
  {
   "cell_type": "code",
   "execution_count": null,
   "outputs": [
    {
     "name": "stdout",
     "output_type": "stream",
     "text": [
      "iteration:  1\n",
      "Starting surrogate generation...\n"
     ]
    },
    {
     "name": "stderr",
     "output_type": "stream",
     "text": [
      "100%|██████████| 150/150 [00:55<00:00,  2.69it/s]\n",
      "100%|██████████| 150/150 [00:54<00:00,  2.74it/s]\n"
     ]
    },
    {
     "name": "stdout",
     "output_type": "stream",
     "text": [
      "finding causality....\n",
      "20336 true causes out of 24024 total connections\n",
      "time elapsed:  1912.7792934960016\n",
      "iteration:  2\n",
      "Starting surrogate generation...\n"
     ]
    },
    {
     "name": "stderr",
     "output_type": "stream",
     "text": [
      "100%|██████████| 150/150 [00:39<00:00,  3.79it/s]\n",
      "100%|██████████| 150/150 [00:35<00:00,  4.24it/s]\n"
     ]
    },
    {
     "name": "stdout",
     "output_type": "stream",
     "text": [
      "finding causality....\n",
      "19595 true causes out of 24024 total connections\n",
      "time elapsed:  1888.3809031659985\n",
      "iteration:  3\n",
      "Starting surrogate generation...\n"
     ]
    },
    {
     "name": "stderr",
     "output_type": "stream",
     "text": [
      "100%|██████████| 150/150 [00:47<00:00,  3.14it/s]\n",
      "100%|██████████| 150/150 [00:41<00:00,  3.60it/s]\n"
     ]
    },
    {
     "name": "stdout",
     "output_type": "stream",
     "text": [
      "finding causality....\n",
      "20845 true causes out of 24024 total connections\n",
      "time elapsed:  1906.1474162939994\n",
      "iteration:  4\n",
      "Starting surrogate generation...\n"
     ]
    },
    {
     "name": "stderr",
     "output_type": "stream",
     "text": [
      "100%|██████████| 150/150 [00:45<00:00,  3.32it/s]\n",
      "100%|██████████| 150/150 [00:41<00:00,  3.64it/s]\n"
     ]
    },
    {
     "name": "stdout",
     "output_type": "stream",
     "text": [
      "finding causality....\n",
      "20604 true causes out of 24024 total connections\n",
      "time elapsed:  1900.1705254010012\n",
      "iteration:  5\n",
      "Starting surrogate generation...\n"
     ]
    },
    {
     "name": "stderr",
     "output_type": "stream",
     "text": [
      "100%|██████████| 150/150 [00:53<00:00,  2.78it/s]\n",
      "100%|██████████| 150/150 [00:51<00:00,  2.91it/s]\n"
     ]
    },
    {
     "name": "stdout",
     "output_type": "stream",
     "text": [
      "finding causality....\n",
      "20164 true causes out of 24024 total connections\n",
      "time elapsed:  1918.1216722840036\n",
      "iteration:  6\n",
      "Starting surrogate generation...\n"
     ]
    },
    {
     "name": "stderr",
     "output_type": "stream",
     "text": [
      "100%|██████████| 150/150 [00:53<00:00,  2.80it/s]\n",
      "100%|██████████| 150/150 [00:45<00:00,  3.26it/s]\n"
     ]
    },
    {
     "name": "stdout",
     "output_type": "stream",
     "text": [
      "finding causality....\n"
     ]
    }
   ],
   "source": [
    "tc15, totc15, ss15 = ragaIterator(10, '15', '15_m', num_surrogates=150, times_it=t_dict)"
   ],
   "metadata": {
    "collapsed": false,
    "pycharm": {
     "name": "#%%\n"
    }
   }
  },
  {
   "cell_type": "code",
   "execution_count": null,
   "outputs": [],
   "source": [
    "avg_conns(tc15), avg_conns(t_dict[\"Surrogate15\"]), avg_conns(t_dict[\"Causality15\"])"
   ],
   "metadata": {
    "collapsed": false,
    "pycharm": {
     "name": "#%%\n"
    }
   }
  },
  {
   "cell_type": "code",
   "execution_count": 12,
   "outputs": [
    {
     "name": "stdout",
     "output_type": "stream",
     "text": [
      "iteration:  1\n",
      "Starting surrogate generation...\n",
      "finding causality....\n",
      "14463 true causes out of 24648 total connections\n",
      "time elapsed:  2377.1097622410016\n",
      "iteration:  2\n",
      "Starting surrogate generation...\n",
      "finding causality....\n",
      "15204 true causes out of 24648 total connections\n",
      "time elapsed:  2329.3596639659954\n",
      "iteration:  3\n",
      "Starting surrogate generation...\n",
      "finding causality....\n",
      "15244 true causes out of 24648 total connections\n",
      "time elapsed:  2377.415402065002\n",
      "iteration:  4\n",
      "Starting surrogate generation...\n",
      "finding causality....\n"
     ]
    },
    {
     "name": "stderr",
     "output_type": "stream",
     "text": [
      "Process ForkPoolWorker-1040:\n",
      "Process ForkPoolWorker-1047:\n",
      "Process ForkPoolWorker-1052:\n",
      "Process ForkPoolWorker-1055:\n",
      "Process ForkPoolWorker-1034:\n",
      "Process ForkPoolWorker-1054:\n",
      "Process ForkPoolWorker-1051:\n",
      "Process ForkPoolWorker-1045:\n",
      "Process ForkPoolWorker-1046:\n",
      "Process ForkPoolWorker-1049:\n",
      "Process ForkPoolWorker-1039:\n",
      "Process ForkPoolWorker-1041:\n",
      "Process ForkPoolWorker-1056:\n",
      "Process ForkPoolWorker-1035:\n",
      "Process ForkPoolWorker-1033:\n",
      "Process ForkPoolWorker-1043:\n",
      "Process ForkPoolWorker-1048:\n",
      "Process ForkPoolWorker-1053:\n",
      "Process ForkPoolWorker-1038:\n",
      "Process ForkPoolWorker-1050:\n",
      "Traceback (most recent call last):\n",
      "Traceback (most recent call last):\n",
      "Traceback (most recent call last):\n",
      "Traceback (most recent call last):\n",
      "Traceback (most recent call last):\n",
      "Traceback (most recent call last):\n",
      "  File \"/home/abhisheknandekar/miniconda3/envs/raga/lib/python3.8/multiprocessing/process.py\", line 315, in _bootstrap\n",
      "    self.run()\n",
      "Traceback (most recent call last):\n",
      "  File \"/home/abhisheknandekar/miniconda3/envs/raga/lib/python3.8/multiprocessing/process.py\", line 315, in _bootstrap\n",
      "    self.run()\n",
      "Traceback (most recent call last):\n",
      "Traceback (most recent call last):\n",
      "Traceback (most recent call last):\n",
      "  File \"/home/abhisheknandekar/miniconda3/envs/raga/lib/python3.8/multiprocessing/process.py\", line 315, in _bootstrap\n",
      "    self.run()\n",
      "Traceback (most recent call last):\n",
      "Traceback (most recent call last):\n",
      "  File \"/home/abhisheknandekar/miniconda3/envs/raga/lib/python3.8/multiprocessing/process.py\", line 315, in _bootstrap\n",
      "    self.run()\n",
      "  File \"/home/abhisheknandekar/miniconda3/envs/raga/lib/python3.8/multiprocessing/process.py\", line 315, in _bootstrap\n",
      "    self.run()\n",
      "  File \"/home/abhisheknandekar/miniconda3/envs/raga/lib/python3.8/multiprocessing/process.py\", line 315, in _bootstrap\n",
      "    self.run()\n",
      "  File \"/home/abhisheknandekar/miniconda3/envs/raga/lib/python3.8/multiprocessing/process.py\", line 108, in run\n",
      "    self._target(*self._args, **self._kwargs)\n",
      "Traceback (most recent call last):\n",
      "Traceback (most recent call last):\n",
      "  File \"/home/abhisheknandekar/miniconda3/envs/raga/lib/python3.8/multiprocessing/process.py\", line 108, in run\n",
      "    self._target(*self._args, **self._kwargs)\n",
      "Traceback (most recent call last):\n",
      "Traceback (most recent call last):\n",
      "  File \"/home/abhisheknandekar/miniconda3/envs/raga/lib/python3.8/multiprocessing/process.py\", line 108, in run\n",
      "    self._target(*self._args, **self._kwargs)\n",
      "Traceback (most recent call last):\n",
      "  File \"/home/abhisheknandekar/miniconda3/envs/raga/lib/python3.8/multiprocessing/process.py\", line 315, in _bootstrap\n",
      "    self.run()\n",
      "  File \"/home/abhisheknandekar/miniconda3/envs/raga/lib/python3.8/multiprocessing/process.py\", line 315, in _bootstrap\n",
      "    self.run()\n",
      "  File \"/home/abhisheknandekar/miniconda3/envs/raga/lib/python3.8/multiprocessing/process.py\", line 315, in _bootstrap\n",
      "    self.run()\n",
      "Traceback (most recent call last):\n",
      "  File \"/home/abhisheknandekar/miniconda3/envs/raga/lib/python3.8/multiprocessing/process.py\", line 108, in run\n",
      "    self._target(*self._args, **self._kwargs)\n",
      "  File \"/home/abhisheknandekar/miniconda3/envs/raga/lib/python3.8/multiprocessing/process.py\", line 315, in _bootstrap\n",
      "    self.run()\n",
      "  File \"/home/abhisheknandekar/miniconda3/envs/raga/lib/python3.8/multiprocessing/process.py\", line 315, in _bootstrap\n",
      "    self.run()\n",
      "  File \"/home/abhisheknandekar/miniconda3/envs/raga/lib/python3.8/multiprocessing/process.py\", line 108, in run\n",
      "    self._target(*self._args, **self._kwargs)\n",
      "Process ForkPoolWorker-1042:\n",
      "  File \"/home/abhisheknandekar/miniconda3/envs/raga/lib/python3.8/multiprocessing/pool.py\", line 125, in worker\n",
      "    result = (True, func(*args, **kwds))\n",
      "  File \"/home/abhisheknandekar/miniconda3/envs/raga/lib/python3.8/multiprocessing/process.py\", line 315, in _bootstrap\n",
      "    self.run()\n",
      "  File \"/home/abhisheknandekar/miniconda3/envs/raga/lib/python3.8/multiprocessing/process.py\", line 108, in run\n",
      "    self._target(*self._args, **self._kwargs)\n",
      "  File \"/home/abhisheknandekar/miniconda3/envs/raga/lib/python3.8/multiprocessing/process.py\", line 315, in _bootstrap\n",
      "    self.run()\n",
      "  File \"/home/abhisheknandekar/miniconda3/envs/raga/lib/python3.8/multiprocessing/pool.py\", line 125, in worker\n",
      "    result = (True, func(*args, **kwds))\n",
      "  File \"/home/abhisheknandekar/miniconda3/envs/raga/lib/python3.8/multiprocessing/process.py\", line 315, in _bootstrap\n",
      "    self.run()\n",
      "Process ForkPoolWorker-1044:\n",
      "  File \"/home/abhisheknandekar/miniconda3/envs/raga/lib/python3.8/multiprocessing/process.py\", line 108, in run\n",
      "    self._target(*self._args, **self._kwargs)\n",
      "  File \"/home/abhisheknandekar/miniconda3/envs/raga/lib/python3.8/multiprocessing/process.py\", line 315, in _bootstrap\n",
      "    self.run()\n",
      "Traceback (most recent call last):\n",
      "  File \"/home/abhisheknandekar/miniconda3/envs/raga/lib/python3.8/multiprocessing/process.py\", line 108, in run\n",
      "    self._target(*self._args, **self._kwargs)\n",
      "  File \"/home/abhisheknandekar/miniconda3/envs/raga/lib/python3.8/multiprocessing/process.py\", line 315, in _bootstrap\n",
      "    self.run()\n",
      "  File \"/home/abhisheknandekar/miniconda3/envs/raga/lib/python3.8/multiprocessing/pool.py\", line 125, in worker\n",
      "    result = (True, func(*args, **kwds))\n",
      "  File \"/home/abhisheknandekar/miniconda3/envs/raga/lib/python3.8/multiprocessing/process.py\", line 108, in run\n",
      "    self._target(*self._args, **self._kwargs)\n",
      "  File \"/home/abhisheknandekar/miniconda3/envs/raga/lib/python3.8/multiprocessing/process.py\", line 315, in _bootstrap\n",
      "    self.run()\n",
      "  File \"/home/abhisheknandekar/miniconda3/envs/raga/lib/python3.8/multiprocessing/pool.py\", line 125, in worker\n",
      "    result = (True, func(*args, **kwds))\n",
      "  File \"/home/abhisheknandekar/miniconda3/envs/raga/lib/python3.8/multiprocessing/process.py\", line 108, in run\n",
      "    self._target(*self._args, **self._kwargs)\n",
      "Traceback (most recent call last):\n",
      "  File \"/home/abhisheknandekar/miniconda3/envs/raga/lib/python3.8/multiprocessing/process.py\", line 315, in _bootstrap\n",
      "    self.run()\n",
      "  File \"/home/abhisheknandekar/miniconda3/envs/raga/lib/python3.8/multiprocessing/process.py\", line 108, in run\n",
      "    self._target(*self._args, **self._kwargs)\n",
      "  File \"/home/abhisheknandekar/miniconda3/envs/raga/lib/python3.8/multiprocessing/process.py\", line 108, in run\n",
      "    self._target(*self._args, **self._kwargs)\n",
      "  File \"/home/abhisheknandekar/miniconda3/envs/raga/lib/python3.8/multiprocessing/pool.py\", line 51, in starmapstar\n",
      "    return list(itertools.starmap(args[0], args[1]))\n",
      "  File \"/home/abhisheknandekar/miniconda3/envs/raga/lib/python3.8/multiprocessing/pool.py\", line 125, in worker\n",
      "    result = (True, func(*args, **kwds))\n",
      "  File \"/home/abhisheknandekar/miniconda3/envs/raga/lib/python3.8/multiprocessing/process.py\", line 108, in run\n",
      "    self._target(*self._args, **self._kwargs)\n",
      "  File \"/home/abhisheknandekar/miniconda3/envs/raga/lib/python3.8/multiprocessing/pool.py\", line 125, in worker\n",
      "    result = (True, func(*args, **kwds))\n",
      "  File \"/home/abhisheknandekar/miniconda3/envs/raga/lib/python3.8/multiprocessing/pool.py\", line 51, in starmapstar\n",
      "    return list(itertools.starmap(args[0], args[1]))\n",
      "  File \"/home/abhisheknandekar/miniconda3/envs/raga/lib/python3.8/multiprocessing/process.py\", line 108, in run\n",
      "    self._target(*self._args, **self._kwargs)\n",
      "  File \"/home/abhisheknandekar/miniconda3/envs/raga/lib/python3.8/multiprocessing/pool.py\", line 125, in worker\n",
      "    result = (True, func(*args, **kwds))\n",
      "  File \"/home/abhisheknandekar/miniconda3/envs/raga/lib/python3.8/multiprocessing/pool.py\", line 125, in worker\n",
      "    result = (True, func(*args, **kwds))\n",
      "  File \"/home/abhisheknandekar/miniconda3/envs/raga/lib/python3.8/multiprocessing/process.py\", line 108, in run\n",
      "    self._target(*self._args, **self._kwargs)\n",
      "  File \"/home/abhisheknandekar/miniconda3/envs/raga/lib/python3.8/multiprocessing/pool.py\", line 125, in worker\n",
      "    result = (True, func(*args, **kwds))\n",
      "  File \"/home/abhisheknandekar/miniconda3/envs/raga/lib/python3.8/multiprocessing/process.py\", line 315, in _bootstrap\n",
      "    self.run()\n",
      "  File \"/home/abhisheknandekar/miniconda3/envs/raga/lib/python3.8/multiprocessing/process.py\", line 108, in run\n",
      "    self._target(*self._args, **self._kwargs)\n",
      "  File \"/home/abhisheknandekar/miniconda3/envs/raga/lib/python3.8/multiprocessing/pool.py\", line 51, in starmapstar\n",
      "    return list(itertools.starmap(args[0], args[1]))\n",
      "  File \"/home/abhisheknandekar/miniconda3/envs/raga/lib/python3.8/site-packages/ETC/CCMC/pairs.py\", line 428, in CCM_causality\n",
      "    ETC_causality(\n",
      "  File \"/home/abhisheknandekar/miniconda3/envs/raga/lib/python3.8/multiprocessing/pool.py\", line 51, in starmapstar\n",
      "    return list(itertools.starmap(args[0], args[1]))\n",
      "  File \"/home/abhisheknandekar/miniconda3/envs/raga/lib/python3.8/multiprocessing/pool.py\", line 125, in worker\n",
      "    result = (True, func(*args, **kwds))\n",
      "  File \"/home/abhisheknandekar/miniconda3/envs/raga/lib/python3.8/multiprocessing/pool.py\", line 125, in worker\n",
      "    result = (True, func(*args, **kwds))\n",
      "  File \"/home/abhisheknandekar/miniconda3/envs/raga/lib/python3.8/multiprocessing/pool.py\", line 51, in starmapstar\n",
      "    return list(itertools.starmap(args[0], args[1]))\n",
      "  File \"/home/abhisheknandekar/miniconda3/envs/raga/lib/python3.8/multiprocessing/process.py\", line 108, in run\n",
      "    self._target(*self._args, **self._kwargs)\n",
      "  File \"/home/abhisheknandekar/miniconda3/envs/raga/lib/python3.8/multiprocessing/process.py\", line 315, in _bootstrap\n",
      "    self.run()\n",
      "  File \"/home/abhisheknandekar/miniconda3/envs/raga/lib/python3.8/multiprocessing/pool.py\", line 125, in worker\n",
      "    result = (True, func(*args, **kwds))\n",
      "  File \"/home/abhisheknandekar/miniconda3/envs/raga/lib/python3.8/multiprocessing/pool.py\", line 51, in starmapstar\n",
      "    return list(itertools.starmap(args[0], args[1]))\n",
      "  File \"/home/abhisheknandekar/miniconda3/envs/raga/lib/python3.8/site-packages/ETC/CCMC/pairs.py\", line 428, in CCM_causality\n",
      "    ETC_causality(\n",
      "  File \"/home/abhisheknandekar/miniconda3/envs/raga/lib/python3.8/multiprocessing/pool.py\", line 51, in starmapstar\n",
      "    return list(itertools.starmap(args[0], args[1]))\n",
      "  File \"/home/abhisheknandekar/miniconda3/envs/raga/lib/python3.8/multiprocessing/pool.py\", line 51, in starmapstar\n",
      "    return list(itertools.starmap(args[0], args[1]))\n",
      "  File \"/home/abhisheknandekar/miniconda3/envs/raga/lib/python3.8/multiprocessing/process.py\", line 108, in run\n",
      "    self._target(*self._args, **self._kwargs)\n",
      "  File \"/home/abhisheknandekar/miniconda3/envs/raga/lib/python3.8/multiprocessing/pool.py\", line 125, in worker\n",
      "    result = (True, func(*args, **kwds))\n",
      "  File \"/home/abhisheknandekar/miniconda3/envs/raga/lib/python3.8/multiprocessing/pool.py\", line 125, in worker\n",
      "    result = (True, func(*args, **kwds))\n",
      "  File \"/home/abhisheknandekar/miniconda3/envs/raga/lib/python3.8/multiprocessing/pool.py\", line 125, in worker\n",
      "    result = (True, func(*args, **kwds))\n",
      "  File \"/home/abhisheknandekar/miniconda3/envs/raga/lib/python3.8/multiprocessing/process.py\", line 108, in run\n",
      "    self._target(*self._args, **self._kwargs)\n",
      "  File \"/home/abhisheknandekar/miniconda3/envs/raga/lib/python3.8/multiprocessing/pool.py\", line 51, in starmapstar\n",
      "    return list(itertools.starmap(args[0], args[1]))\n",
      "  File \"/home/abhisheknandekar/miniconda3/envs/raga/lib/python3.8/multiprocessing/pool.py\", line 125, in worker\n",
      "    result = (True, func(*args, **kwds))\n",
      "  File \"/home/abhisheknandekar/miniconda3/envs/raga/lib/python3.8/site-packages/ETC/CCMC/pairs.py\", line 428, in CCM_causality\n",
      "    ETC_causality(\n",
      "  File \"/home/abhisheknandekar/miniconda3/envs/raga/lib/python3.8/multiprocessing/pool.py\", line 51, in starmapstar\n",
      "    return list(itertools.starmap(args[0], args[1]))\n",
      "  File \"/home/abhisheknandekar/miniconda3/envs/raga/lib/python3.8/site-packages/ETC/CCMC/pairs.py\", line 428, in CCM_causality\n",
      "    ETC_causality(\n",
      "  File \"/home/abhisheknandekar/miniconda3/envs/raga/lib/python3.8/site-packages/ETC/CCMC/pairs.py\", line 201, in ETC_causality\n",
      "    etc_y_given_x, y_residual = _external_substitution(y, out_x.get(\"Trajectory\"))\n",
      "  File \"/home/abhisheknandekar/miniconda3/envs/raga/lib/python3.8/multiprocessing/pool.py\", line 51, in starmapstar\n",
      "    return list(itertools.starmap(args[0], args[1]))\n",
      "  File \"/home/abhisheknandekar/miniconda3/envs/raga/lib/python3.8/multiprocessing/pool.py\", line 51, in starmapstar\n",
      "    return list(itertools.starmap(args[0], args[1]))\n",
      "  File \"/home/abhisheknandekar/miniconda3/envs/raga/lib/python3.8/multiprocessing/pool.py\", line 125, in worker\n",
      "    result = (True, func(*args, **kwds))\n",
      "  File \"/home/abhisheknandekar/miniconda3/envs/raga/lib/python3.8/multiprocessing/process.py\", line 108, in run\n",
      "    self._target(*self._args, **self._kwargs)\n",
      "  File \"/home/abhisheknandekar/miniconda3/envs/raga/lib/python3.8/site-packages/ETC/CCMC/pairs.py\", line 428, in CCM_causality\n",
      "    ETC_causality(\n",
      "  File \"/home/abhisheknandekar/miniconda3/envs/raga/lib/python3.8/site-packages/ETC/CCMC/pairs.py\", line 191, in ETC_causality\n",
      "    out_y = ETC.compute_1D(y, order=2, verbose=True, truncate=False)\n",
      "  File \"/home/abhisheknandekar/miniconda3/envs/raga/lib/python3.8/site-packages/ETC/CCMC/pairs.py\", line 428, in CCM_causality\n",
      "    ETC_causality(\n",
      "  File \"/home/abhisheknandekar/miniconda3/envs/raga/lib/python3.8/site-packages/ETC/CCMC/pairs.py\", line 428, in CCM_causality\n",
      "    ETC_causality(\n",
      "  File \"/home/abhisheknandekar/miniconda3/envs/raga/lib/python3.8/site-packages/ETC/CCMC/pairs.py\", line 437, in CCM_causality\n",
      "    LZ_causality(x, y, penalty_threshold=penalty_threshold, lengths=False,)\n",
      "  File \"/home/abhisheknandekar/miniconda3/envs/raga/lib/python3.8/multiprocessing/pool.py\", line 125, in worker\n",
      "    result = (True, func(*args, **kwds))\n",
      "  File \"/home/abhisheknandekar/miniconda3/envs/raga/lib/python3.8/multiprocessing/pool.py\", line 51, in starmapstar\n",
      "    return list(itertools.starmap(args[0], args[1]))\n",
      "  File \"/home/abhisheknandekar/miniconda3/envs/raga/lib/python3.8/multiprocessing/pool.py\", line 51, in starmapstar\n",
      "    return list(itertools.starmap(args[0], args[1]))\n",
      "  File \"/home/abhisheknandekar/miniconda3/envs/raga/lib/python3.8/multiprocessing/pool.py\", line 125, in worker\n",
      "    result = (True, func(*args, **kwds))\n",
      "  File \"/home/abhisheknandekar/miniconda3/envs/raga/lib/python3.8/multiprocessing/pool.py\", line 51, in starmapstar\n",
      "    return list(itertools.starmap(args[0], args[1]))\n",
      "  File \"/home/abhisheknandekar/miniconda3/envs/raga/lib/python3.8/site-packages/ETC/CCMC/pairs.py\", line 428, in CCM_causality\n",
      "    ETC_causality(\n",
      "  File \"/home/abhisheknandekar/miniconda3/envs/raga/lib/python3.8/site-packages/ETC/CCMC/pairs.py\", line 191, in ETC_causality\n",
      "    out_y = ETC.compute_1D(y, order=2, verbose=True, truncate=False)\n",
      "  File \"/home/abhisheknandekar/miniconda3/envs/raga/lib/python3.8/multiprocessing/pool.py\", line 51, in starmapstar\n",
      "    return list(itertools.starmap(args[0], args[1]))\n",
      "  File \"/home/abhisheknandekar/miniconda3/envs/raga/lib/python3.8/site-packages/ETC/CCMC/pairs.py\", line 428, in CCM_causality\n",
      "    ETC_causality(\n",
      "Traceback (most recent call last):\n",
      "  File \"/home/abhisheknandekar/miniconda3/envs/raga/lib/python3.8/site-packages/ETC/CCMC/pairs.py\", line 190, in ETC_causality\n",
      "    out_x = ETC.compute_1D(x, order=2, verbose=True, truncate=False)\n",
      "Traceback (most recent call last):\n",
      "  File \"/home/abhisheknandekar/miniconda3/envs/raga/lib/python3.8/site-packages/ETC/CCMC/pairs.py\", line 103, in _external_substitution\n",
      "    if len(seq) > 1 and _check_pair(tuple(pair), seq):\n",
      "  File \"/home/abhisheknandekar/miniconda3/envs/raga/lib/python3.8/site-packages/ETC/CCMC/pairs.py\", line 428, in CCM_causality\n",
      "    ETC_causality(\n",
      "  File \"/home/abhisheknandekar/miniconda3/envs/raga/lib/python3.8/multiprocessing/pool.py\", line 51, in starmapstar\n",
      "    return list(itertools.starmap(args[0], args[1]))\n",
      "  File \"/home/abhisheknandekar/miniconda3/envs/raga/lib/python3.8/site-packages/ETC/CCMC/pairs.py\", line 428, in CCM_causality\n",
      "    ETC_causality(\n",
      "  File \"/home/abhisheknandekar/miniconda3/envs/raga/lib/python3.8/multiprocessing/pool.py\", line 125, in worker\n",
      "    result = (True, func(*args, **kwds))\n",
      "  File \"/home/abhisheknandekar/miniconda3/envs/raga/lib/python3.8/site-packages/ETC/CCMC/pairs.py\", line 190, in ETC_causality\n",
      "    out_x = ETC.compute_1D(x, order=2, verbose=True, truncate=False)\n",
      "  File \"/home/abhisheknandekar/miniconda3/envs/raga/lib/python3.8/site-packages/ETC/NSRWS/x1D/etc.py\", line 364, in compute\n",
      "    etc, out = _compute_verbose_full(seq, order)\n",
      "  File \"/home/abhisheknandekar/miniconda3/envs/raga/lib/python3.8/site-packages/ETC/CCMC/pairs.py\", line 210, in ETC_causality\n",
      "    etc_y_residual = _ETC_residual(y_residual)\n",
      "  File \"/home/abhisheknandekar/miniconda3/envs/raga/lib/python3.8/site-packages/ETC/CCMC/pairs.py\", line 201, in ETC_causality\n",
      "    etc_y_given_x, y_residual = _external_substitution(y, out_x.get(\"Trajectory\"))\n",
      "  File \"/home/abhisheknandekar/miniconda3/envs/raga/lib/python3.8/site-packages/ETC/CCMC/pairs.py\", line 351, in LZ_causality\n",
      "    LZ_x = LZ(x)\n",
      "  File \"/home/abhisheknandekar/miniconda3/envs/raga/lib/python3.8/multiprocessing/pool.py\", line 51, in starmapstar\n",
      "    return list(itertools.starmap(args[0], args[1]))\n",
      "  File \"/home/abhisheknandekar/miniconda3/envs/raga/lib/python3.8/site-packages/ETC/CCMC/pairs.py\", line 428, in CCM_causality\n",
      "    ETC_causality(\n",
      "  File \"/home/abhisheknandekar/miniconda3/envs/raga/lib/python3.8/site-packages/ETC/CCMC/pairs.py\", line 428, in CCM_causality\n",
      "    ETC_causality(\n",
      "  File \"/home/abhisheknandekar/miniconda3/envs/raga/lib/python3.8/site-packages/ETC/NSRWS/x1D/etc.py\", line 364, in compute\n",
      "    etc, out = _compute_verbose_full(seq, order)\n",
      "  File \"/home/abhisheknandekar/miniconda3/envs/raga/lib/python3.8/site-packages/ETC/CCMC/pairs.py\", line 428, in CCM_causality\n",
      "    ETC_causality(\n",
      "  File \"/home/abhisheknandekar/miniconda3/envs/raga/lib/python3.8/site-packages/ETC/CCMC/pairs.py\", line 191, in ETC_causality\n",
      "    out_y = ETC.compute_1D(y, order=2, verbose=True, truncate=False)\n",
      "  File \"/home/abhisheknandekar/miniconda3/envs/raga/lib/python3.8/site-packages/ETC/CCMC/pairs.py\", line 202, in ETC_causality\n",
      "    etc_x_given_y, x_residual = _external_substitution(x, out_y.get(\"Trajectory\"))\n",
      "  File \"/home/abhisheknandekar/miniconda3/envs/raga/lib/python3.8/site-packages/ETC/CCMC/pairs.py\", line 428, in CCM_causality\n",
      "    ETC_causality(\n",
      "  File \"/home/abhisheknandekar/miniconda3/envs/raga/lib/python3.8/multiprocessing/process.py\", line 315, in _bootstrap\n",
      "    self.run()\n",
      "  File \"/home/abhisheknandekar/miniconda3/envs/raga/lib/python3.8/multiprocessing/process.py\", line 315, in _bootstrap\n",
      "    self.run()\n",
      "  File \"/home/abhisheknandekar/miniconda3/envs/raga/lib/python3.8/site-packages/ETC/NSRWS/x1D/etc.py\", line 364, in compute\n",
      "    etc, out = _compute_verbose_full(seq, order)\n",
      "  File \"/home/abhisheknandekar/miniconda3/envs/raga/lib/python3.8/site-packages/ETC/CCMC/pairs.py\", line 191, in ETC_causality\n",
      "    out_y = ETC.compute_1D(y, order=2, verbose=True, truncate=False)\n",
      "  File \"/home/abhisheknandekar/miniconda3/envs/raga/lib/python3.8/site-packages/ETC/CCMC/pairs.py\", line 428, in CCM_causality\n",
      "    ETC_causality(\n",
      "  File \"/home/abhisheknandekar/miniconda3/envs/raga/lib/python3.8/site-packages/ETC/CCMC/pairs.py\", line 55, in _check_pair\n",
      "    pairs = set(zip(*(islice(tuple(seq), i, None) for i in range(2))))\n",
      "  File \"/home/abhisheknandekar/miniconda3/envs/raga/lib/python3.8/site-packages/ETC/CCMC/pairs.py\", line 190, in ETC_causality\n",
      "    out_x = ETC.compute_1D(x, order=2, verbose=True, truncate=False)\n",
      "  File \"/home/abhisheknandekar/miniconda3/envs/raga/lib/python3.8/multiprocessing/pool.py\", line 51, in starmapstar\n",
      "    return list(itertools.starmap(args[0], args[1]))\n",
      "  File \"/home/abhisheknandekar/miniconda3/envs/raga/lib/python3.8/site-packages/ETC/NSRWS/x1D/etc.py\", line 186, in _compute_verbose_full\n",
      "    seq, signal, freq_win, count, time = _onestep(seq, order, verbose=True)\n",
      "  File \"/home/abhisheknandekar/miniconda3/envs/raga/lib/python3.8/site-packages/ETC/NSRWS/x1D/etc.py\", line 364, in compute\n",
      "    etc, out = _compute_verbose_full(seq, order)\n",
      "  File \"/home/abhisheknandekar/miniconda3/envs/raga/lib/python3.8/site-packages/ETC/CCMC/pairs.py\", line 138, in _ETC_residual\n",
      "    return ETC.compute_1D(residual_sequence).get(\"ETC1D\")\n",
      "  File \"/home/abhisheknandekar/miniconda3/envs/raga/lib/python3.8/site-packages/ETC/CCMC/pairs.py\", line 103, in _external_substitution\n",
      "    if len(seq) > 1 and _check_pair(tuple(pair), seq):\n",
      "  File \"/home/abhisheknandekar/miniconda3/envs/raga/lib/python3.8/site-packages/ETC/LZ76/lzc.py\", line 27, in compute_complexity\n",
      "    return core.lzc_a(seq)\n",
      "  File \"/home/abhisheknandekar/miniconda3/envs/raga/lib/python3.8/site-packages/ETC/CCMC/pairs.py\", line 428, in CCM_causality\n",
      "    ETC_causality(\n",
      "  File \"/home/abhisheknandekar/miniconda3/envs/raga/lib/python3.8/site-packages/ETC/CCMC/pairs.py\", line 201, in ETC_causality\n",
      "    etc_y_given_x, y_residual = _external_substitution(y, out_x.get(\"Trajectory\"))\n",
      "  File \"/home/abhisheknandekar/miniconda3/envs/raga/lib/python3.8/site-packages/ETC/CCMC/pairs.py\", line 190, in ETC_causality\n",
      "    out_x = ETC.compute_1D(x, order=2, verbose=True, truncate=False)\n",
      "  File \"/home/abhisheknandekar/miniconda3/envs/raga/lib/python3.8/site-packages/ETC/NSRWS/x1D/etc.py\", line 186, in _compute_verbose_full\n",
      "    seq, signal, freq_win, count, time = _onestep(seq, order, verbose=True)\n",
      "  File \"/home/abhisheknandekar/miniconda3/envs/raga/lib/python3.8/site-packages/ETC/CCMC/pairs.py\", line 202, in ETC_causality\n",
      "    etc_x_given_y, x_residual = _external_substitution(x, out_y.get(\"Trajectory\"))\n",
      "  File \"/home/abhisheknandekar/miniconda3/envs/raga/lib/python3.8/site-packages/ETC/NSRWS/x1D/etc.py\", line 364, in compute\n",
      "    etc, out = _compute_verbose_full(seq, order)\n",
      "  File \"/home/abhisheknandekar/miniconda3/envs/raga/lib/python3.8/multiprocessing/process.py\", line 108, in run\n",
      "    self._target(*self._args, **self._kwargs)\n",
      "  File \"/home/abhisheknandekar/miniconda3/envs/raga/lib/python3.8/site-packages/ETC/CCMC/pairs.py\", line 103, in _external_substitution\n",
      "    if len(seq) > 1 and _check_pair(tuple(pair), seq):\n",
      "  File \"/home/abhisheknandekar/miniconda3/envs/raga/lib/python3.8/site-packages/ETC/CCMC/pairs.py\", line 190, in ETC_causality\n",
      "    out_x = ETC.compute_1D(x, order=2, verbose=True, truncate=False)\n",
      "  File \"/home/abhisheknandekar/miniconda3/envs/raga/lib/python3.8/multiprocessing/process.py\", line 108, in run\n",
      "    self._target(*self._args, **self._kwargs)\n",
      "  File \"/home/abhisheknandekar/miniconda3/envs/raga/lib/python3.8/site-packages/ETC/NSRWS/x1D/etc.py\", line 186, in _compute_verbose_full\n",
      "    seq, signal, freq_win, count, time = _onestep(seq, order, verbose=True)\n",
      "  File \"/home/abhisheknandekar/miniconda3/envs/raga/lib/python3.8/site-packages/ETC/NSRWS/x1D/etc.py\", line 364, in compute\n",
      "    etc, out = _compute_verbose_full(seq, order)\n",
      "  File \"/home/abhisheknandekar/miniconda3/envs/raga/lib/python3.8/site-packages/ETC/CCMC/pairs.py\", line 191, in ETC_causality\n",
      "    out_y = ETC.compute_1D(y, order=2, verbose=True, truncate=False)\n",
      "KeyboardInterrupt\n",
      "  File \"/home/abhisheknandekar/miniconda3/envs/raga/lib/python3.8/site-packages/ETC/NSRWS/x1D/etc.py\", line 364, in compute\n",
      "    etc, out = _compute_verbose_full(seq, order)\n",
      "  File \"/home/abhisheknandekar/miniconda3/envs/raga/lib/python3.8/site-packages/ETC/CCMC/pairs.py\", line 428, in CCM_causality\n",
      "    ETC_causality(\n",
      "  File \"/home/abhisheknandekar/miniconda3/envs/raga/lib/python3.8/site-packages/ETC/NSRWS/x1D/etc.py\", line 186, in _compute_verbose_full\n",
      "    seq, signal, freq_win, count, time = _onestep(seq, order, verbose=True)\n",
      "  File \"/home/abhisheknandekar/miniconda3/envs/raga/lib/python3.8/site-packages/ETC/NSRWS/x1D/onestep.py\", line 316, in _onestep\n",
      "    return _onestep_pairs(seq[:], verbose)\n",
      "  File \"/home/abhisheknandekar/miniconda3/envs/raga/lib/python3.8/site-packages/ETC/NSRWS/x1D/etc.py\", line 359, in compute\n",
      "    etc = _compute_compact_truncated(seq, order)\n",
      "  File \"/home/abhisheknandekar/miniconda3/envs/raga/lib/python3.8/site-packages/ETC/CCMC/pairs.py\", line 210, in ETC_causality\n",
      "    etc_y_residual = _ETC_residual(y_residual)\n",
      "  File \"/home/abhisheknandekar/miniconda3/envs/raga/lib/python3.8/site-packages/ETC/CCMC/pairs.py\", line 55, in _check_pair\n",
      "    pairs = set(zip(*(islice(tuple(seq), i, None) for i in range(2))))\n",
      "KeyboardInterrupt\n",
      "  File \"/home/abhisheknandekar/miniconda3/envs/raga/lib/python3.8/site-packages/ETC/CCMC/pairs.py\", line 103, in _external_substitution\n",
      "    if len(seq) > 1 and _check_pair(tuple(pair), seq):\n",
      "  File \"/home/abhisheknandekar/miniconda3/envs/raga/lib/python3.8/site-packages/ETC/NSRWS/x1D/etc.py\", line 364, in compute\n",
      "    etc, out = _compute_verbose_full(seq, order)\n",
      "  File \"/home/abhisheknandekar/miniconda3/envs/raga/lib/python3.8/site-packages/ETC/CCMC/pairs.py\", line 106, in _external_substitution\n",
      "    seq = ETC.cast(core.substitute_pairs(seq, pair, max(seq) + 1))\n",
      "  File \"/home/abhisheknandekar/miniconda3/envs/raga/lib/python3.8/site-packages/ETC/NSRWS/x1D/onestep.py\", line 316, in _onestep\n",
      "    return _onestep_pairs(seq[:], verbose)\n",
      "  File \"/home/abhisheknandekar/miniconda3/envs/raga/lib/python3.8/site-packages/ETC/NSRWS/x1D/etc.py\", line 186, in _compute_verbose_full\n",
      "    seq, signal, freq_win, count, time = _onestep(seq, order, verbose=True)\n",
      "  File \"/home/abhisheknandekar/miniconda3/envs/raga/lib/python3.8/multiprocessing/pool.py\", line 125, in worker\n",
      "    result = (True, func(*args, **kwds))\n",
      "  File \"/home/abhisheknandekar/miniconda3/envs/raga/lib/python3.8/site-packages/ETC/NSRWS/x1D/etc.py\", line 364, in compute\n",
      "    etc, out = _compute_verbose_full(seq, order)\n",
      "  File \"/home/abhisheknandekar/miniconda3/envs/raga/lib/python3.8/site-packages/ETC/NSRWS/x1D/onestep.py\", line 316, in _onestep\n",
      "    return _onestep_pairs(seq[:], verbose)\n",
      "  File \"/home/abhisheknandekar/miniconda3/envs/raga/lib/python3.8/site-packages/ETC/CCMC/pairs.py\", line 55, in _check_pair\n",
      "    pairs = set(zip(*(islice(tuple(seq), i, None) for i in range(2))))\n",
      "  File \"/home/abhisheknandekar/miniconda3/envs/raga/lib/python3.8/multiprocessing/pool.py\", line 125, in worker\n",
      "    result = (True, func(*args, **kwds))\n",
      "  File \"/home/abhisheknandekar/miniconda3/envs/raga/lib/python3.8/site-packages/ETC/NSRWS/x1D/etc.py\", line 364, in compute\n",
      "    etc, out = _compute_verbose_full(seq, order)\n",
      "  File \"/home/abhisheknandekar/miniconda3/envs/raga/lib/python3.8/site-packages/ETC/NSRWS/x1D/etc.py\", line 186, in _compute_verbose_full\n",
      "    seq, signal, freq_win, count, time = _onestep(seq, order, verbose=True)\n",
      "  File \"/home/abhisheknandekar/miniconda3/envs/raga/lib/python3.8/site-packages/ETC/CCMC/pairs.py\", line 201, in ETC_causality\n",
      "    etc_y_given_x, y_residual = _external_substitution(y, out_x.get(\"Trajectory\"))\n",
      "  File \"/home/abhisheknandekar/miniconda3/envs/raga/lib/python3.8/site-packages/ETC/NSRWS/x1D/etc.py\", line 186, in _compute_verbose_full\n",
      "    seq, signal, freq_win, count, time = _onestep(seq, order, verbose=True)\n",
      "  File \"/home/abhisheknandekar/miniconda3/envs/raga/lib/python3.8/site-packages/ETC/NSRWS/x1D/onestep.py\", line 174, in _onestep_pairs\n",
      "    out = cast(core.substitute_pairs(seq, freq_pair, sub_value))\n",
      "  File \"/home/abhisheknandekar/miniconda3/envs/raga/lib/python3.8/site-packages/ETC/NSRWS/x1D/onestep.py\", line 316, in _onestep\n",
      "    return _onestep_pairs(seq[:], verbose)\n",
      "  File \"/home/abhisheknandekar/miniconda3/envs/raga/lib/python3.8/site-packages/ETC/NSRWS/x1D/etc.py\", line 246, in _compute_compact_truncated\n",
      "    seq, signal = _onestep(seq, order, verbose=False)\n",
      "  File \"/home/abhisheknandekar/miniconda3/envs/raga/lib/python3.8/site-packages/ETC/CCMC/pairs.py\", line 138, in _ETC_residual\n",
      "    return ETC.compute_1D(residual_sequence).get(\"ETC1D\")\n",
      "KeyboardInterrupt\n",
      "  File \"/home/abhisheknandekar/miniconda3/envs/raga/lib/python3.8/site-packages/ETC/CCMC/pairs.py\", line 55, in _check_pair\n",
      "    pairs = set(zip(*(islice(tuple(seq), i, None) for i in range(2))))\n",
      "  File \"/home/abhisheknandekar/miniconda3/envs/raga/lib/python3.8/site-packages/ETC/NSRWS/x1D/etc.py\", line 186, in _compute_verbose_full\n",
      "    seq, signal, freq_win, count, time = _onestep(seq, order, verbose=True)\n",
      "  File \"/home/abhisheknandekar/miniconda3/envs/raga/lib/python3.8/site-packages/ETC/NSRWS/x1D/onestep.py\", line 316, in _onestep\n",
      "    return _onestep_pairs(seq[:], verbose)\n",
      "  File \"/home/abhisheknandekar/miniconda3/envs/raga/lib/python3.8/multiprocessing/pool.py\", line 51, in starmapstar\n",
      "    return list(itertools.starmap(args[0], args[1]))\n",
      "  File \"/home/abhisheknandekar/miniconda3/envs/raga/lib/python3.8/site-packages/ETC/seq/recode.py\", line 43, in cast\n",
      "    if zeroes(out):\n",
      "  File \"/home/abhisheknandekar/miniconda3/envs/raga/lib/python3.8/site-packages/ETC/NSRWS/x1D/onestep.py\", line 162, in _onestep_pairs\n",
      "    freq_pair, count = _mask_and_count(seq, mask, 2)\n",
      "  File \"/home/abhisheknandekar/miniconda3/envs/raga/lib/python3.8/site-packages/ETC/NSRWS/x1D/onestep.py\", line 162, in _onestep_pairs\n",
      "    freq_pair, count = _mask_and_count(seq, mask, 2)\n",
      "  File \"/home/abhisheknandekar/miniconda3/envs/raga/lib/python3.8/site-packages/ETC/NSRWS/x1D/etc.py\", line 186, in _compute_verbose_full\n",
      "    seq, signal, freq_win, count, time = _onestep(seq, order, verbose=True)\n",
      "KeyboardInterrupt\n",
      "  File \"/home/abhisheknandekar/miniconda3/envs/raga/lib/python3.8/multiprocessing/pool.py\", line 51, in starmapstar\n",
      "    return list(itertools.starmap(args[0], args[1]))\n",
      "  File \"/home/abhisheknandekar/miniconda3/envs/raga/lib/python3.8/site-packages/ETC/NSRWS/x1D/etc.py\", line 186, in _compute_verbose_full\n",
      "    seq, signal, freq_win, count, time = _onestep(seq, order, verbose=True)\n",
      "  File \"/home/abhisheknandekar/miniconda3/envs/raga/lib/python3.8/site-packages/ETC/CCMC/pairs.py\", line 103, in _external_substitution\n",
      "    if len(seq) > 1 and _check_pair(tuple(pair), seq):\n",
      "  File \"/home/abhisheknandekar/miniconda3/envs/raga/lib/python3.8/site-packages/ETC/NSRWS/x1D/onestep.py\", line 316, in _onestep\n",
      "    return _onestep_pairs(seq[:], verbose)\n",
      "  File \"/home/abhisheknandekar/miniconda3/envs/raga/lib/python3.8/site-packages/ETC/seq/recode.py\", line 42, in cast\n",
      "    out = array(\"I\", seq)\n",
      "  File \"/home/abhisheknandekar/miniconda3/envs/raga/lib/python3.8/site-packages/ETC/NSRWS/x1D/onestep.py\", line 316, in _onestep\n",
      "    return _onestep_pairs(seq[:], verbose)\n",
      "  File \"/home/abhisheknandekar/miniconda3/envs/raga/lib/python3.8/site-packages/ETC/NSRWS/x1D/onestep.py\", line 316, in _onestep\n",
      "    return _onestep_pairs(seq[:], verbose)\n",
      "  File \"/home/abhisheknandekar/miniconda3/envs/raga/lib/python3.8/site-packages/ETC/NSRWS/x1D/onestep.py\", line 162, in _onestep_pairs\n",
      "    freq_pair, count = _mask_and_count(seq, mask, 2)\n",
      "  File \"/home/abhisheknandekar/miniconda3/envs/raga/lib/python3.8/site-packages/ETC/NSRWS/x1D/etc.py\", line 359, in compute\n",
      "    etc = _compute_compact_truncated(seq, order)\n",
      "  File \"/home/abhisheknandekar/miniconda3/envs/raga/lib/python3.8/site-packages/ETC/CCMC/pairs.py\", line 437, in CCM_causality\n",
      "    LZ_causality(x, y, penalty_threshold=penalty_threshold, lengths=False,)\n",
      "KeyboardInterrupt\n",
      "  File \"/home/abhisheknandekar/miniconda3/envs/raga/lib/python3.8/site-packages/ETC/NSRWS/x1D/onestep.py\", line 316, in _onestep\n",
      "    return _onestep_pairs(seq[:], verbose)\n",
      "  File \"/home/abhisheknandekar/miniconda3/envs/raga/lib/python3.8/site-packages/ETC/NSRWS/x1D/onestep.py\", line 162, in _onestep_pairs\n",
      "    freq_pair, count = _mask_and_count(seq, mask, 2)\n",
      "  File \"/home/abhisheknandekar/miniconda3/envs/raga/lib/python3.8/site-packages/ETC/NSRWS/x1D/onestep.py\", line 93, in _mask_and_count\n",
      "    freq_window, count = Counter(filtered).most_common(1)[0]\n",
      "  File \"/home/abhisheknandekar/miniconda3/envs/raga/lib/python3.8/multiprocessing/pool.py\", line 51, in starmapstar\n",
      "    return list(itertools.starmap(args[0], args[1]))\n",
      "  File \"/home/abhisheknandekar/miniconda3/envs/raga/lib/python3.8/site-packages/ETC/seq/check.py\", line 15, in zeroes\n",
      "    if 0 in seq:\n",
      "  File \"/home/abhisheknandekar/miniconda3/envs/raga/lib/python3.8/site-packages/ETC/NSRWS/x1D/onestep.py\", line 93, in _mask_and_count\n",
      "    freq_window, count = Counter(filtered).most_common(1)[0]\n",
      "  File \"/home/abhisheknandekar/miniconda3/envs/raga/lib/python3.8/site-packages/ETC/CCMC/pairs.py\", line 55, in _check_pair\n",
      "    pairs = set(zip(*(islice(tuple(seq), i, None) for i in range(2))))\n",
      "  File \"/home/abhisheknandekar/miniconda3/envs/raga/lib/python3.8/site-packages/ETC/NSRWS/x1D/onestep.py\", line 316, in _onestep\n",
      "    return _onestep_pairs(seq[:], verbose)\n",
      "  File \"/home/abhisheknandekar/miniconda3/envs/raga/lib/python3.8/site-packages/ETC/NSRWS/x1D/onestep.py\", line 316, in _onestep\n",
      "    return _onestep_pairs(seq[:], verbose)\n",
      "KeyboardInterrupt\n",
      "  File \"/home/abhisheknandekar/miniconda3/envs/raga/lib/python3.8/site-packages/ETC/CCMC/pairs.py\", line 437, in CCM_causality\n",
      "    LZ_causality(x, y, penalty_threshold=penalty_threshold, lengths=False,)\n",
      "  File \"/home/abhisheknandekar/miniconda3/envs/raga/lib/python3.8/site-packages/ETC/NSRWS/x1D/etc.py\", line 246, in _compute_compact_truncated\n",
      "    seq, signal = _onestep(seq, order, verbose=False)\n",
      "  File \"/home/abhisheknandekar/miniconda3/envs/raga/lib/python3.8/site-packages/ETC/NSRWS/x1D/onestep.py\", line 162, in _onestep_pairs\n",
      "    freq_pair, count = _mask_and_count(seq, mask, 2)\n",
      "  File \"/home/abhisheknandekar/miniconda3/envs/raga/lib/python3.8/site-packages/ETC/NSRWS/x1D/onestep.py\", line 162, in _onestep_pairs\n",
      "    freq_pair, count = _mask_and_count(seq, mask, 2)\n",
      "  File \"/home/abhisheknandekar/miniconda3/envs/raga/lib/python3.8/site-packages/ETC/NSRWS/x1D/onestep.py\", line 93, in _mask_and_count\n",
      "    freq_window, count = Counter(filtered).most_common(1)[0]\n",
      "  File \"/home/abhisheknandekar/miniconda3/envs/raga/lib/python3.8/site-packages/ETC/CCMC/pairs.py\", line 352, in LZ_causality\n",
      "    LZ_y = LZ(y)\n",
      "  File \"/home/abhisheknandekar/miniconda3/envs/raga/lib/python3.8/site-packages/ETC/NSRWS/x1D/onestep.py\", line 174, in _onestep_pairs\n",
      "    out = cast(core.substitute_pairs(seq, freq_pair, sub_value))\n",
      "  File \"/home/abhisheknandekar/miniconda3/envs/raga/lib/python3.8/collections/__init__.py\", line 552, in __init__\n",
      "    self.update(iterable, **kwds)\n",
      "  File \"/home/abhisheknandekar/miniconda3/envs/raga/lib/python3.8/site-packages/ETC/NSRWS/x1D/onestep.py\", line 162, in _onestep_pairs\n",
      "    freq_pair, count = _mask_and_count(seq, mask, 2)\n",
      "KeyboardInterrupt\n",
      "  File \"/home/abhisheknandekar/miniconda3/envs/raga/lib/python3.8/site-packages/ETC/NSRWS/x1D/onestep.py\", line 93, in _mask_and_count\n",
      "    freq_window, count = Counter(filtered).most_common(1)[0]\n",
      "  File \"/home/abhisheknandekar/miniconda3/envs/raga/lib/python3.8/site-packages/ETC/CCMC/pairs.py\", line 428, in CCM_causality\n",
      "    ETC_causality(\n",
      "  File \"/home/abhisheknandekar/miniconda3/envs/raga/lib/python3.8/site-packages/ETC/NSRWS/x1D/onestep.py\", line 316, in _onestep\n",
      "    return _onestep_pairs(seq[:], verbose)\n",
      "  File \"/home/abhisheknandekar/miniconda3/envs/raga/lib/python3.8/collections/__init__.py\", line 552, in __init__\n",
      "    self.update(iterable, **kwds)\n",
      "  File \"/home/abhisheknandekar/miniconda3/envs/raga/lib/python3.8/site-packages/ETC/NSRWS/x1D/onestep.py\", line 162, in _onestep_pairs\n",
      "    freq_pair, count = _mask_and_count(seq, mask, 2)\n",
      "  File \"/home/abhisheknandekar/miniconda3/envs/raga/lib/python3.8/site-packages/ETC/CCMC/pairs.py\", line 352, in LZ_causality\n",
      "    LZ_y = LZ(y)\n",
      "  File \"/home/abhisheknandekar/miniconda3/envs/raga/lib/python3.8/site-packages/ETC/NSRWS/x1D/onestep.py\", line 93, in _mask_and_count\n",
      "    freq_window, count = Counter(filtered).most_common(1)[0]\n",
      "  File \"/home/abhisheknandekar/miniconda3/envs/raga/lib/python3.8/collections/__init__.py\", line 637, in update\n",
      "    _count_elements(self, iterable)\n",
      "  File \"/home/abhisheknandekar/miniconda3/envs/raga/lib/python3.8/site-packages/ETC/NSRWS/x1D/onestep.py\", line 162, in _onestep_pairs\n",
      "    freq_pair, count = _mask_and_count(seq, mask, 2)\n",
      "  File \"/home/abhisheknandekar/miniconda3/envs/raga/lib/python3.8/site-packages/ETC/seq/recode.py\", line 43, in cast\n",
      "    if zeroes(out):\n",
      "  File \"/home/abhisheknandekar/miniconda3/envs/raga/lib/python3.8/site-packages/ETC/LZ76/lzc.py\", line 27, in compute_complexity\n",
      "    return core.lzc_a(seq)\n",
      "  File \"/home/abhisheknandekar/miniconda3/envs/raga/lib/python3.8/site-packages/ETC/NSRWS/x1D/onestep.py\", line 93, in _mask_and_count\n",
      "    freq_window, count = Counter(filtered).most_common(1)[0]\n",
      "  File \"/home/abhisheknandekar/miniconda3/envs/raga/lib/python3.8/collections/__init__.py\", line 552, in __init__\n",
      "    self.update(iterable, **kwds)\n",
      "  File \"/home/abhisheknandekar/miniconda3/envs/raga/lib/python3.8/site-packages/ETC/NSRWS/x1D/onestep.py\", line 162, in _onestep_pairs\n",
      "    freq_pair, count = _mask_and_count(seq, mask, 2)\n",
      "  File \"/home/abhisheknandekar/miniconda3/envs/raga/lib/python3.8/site-packages/ETC/NSRWS/x1D/onestep.py\", line 93, in _mask_and_count\n",
      "    freq_window, count = Counter(filtered).most_common(1)[0]\n",
      "  File \"/home/abhisheknandekar/miniconda3/envs/raga/lib/python3.8/site-packages/ETC/NSRWS/x1D/onestep.py\", line 93, in _mask_and_count\n",
      "    freq_window, count = Counter(filtered).most_common(1)[0]\n",
      "KeyboardInterrupt\n",
      "  File \"/home/abhisheknandekar/miniconda3/envs/raga/lib/python3.8/site-packages/ETC/LZ76/lzc.py\", line 27, in compute_complexity\n",
      "    return core.lzc_a(seq)\n",
      "  File \"/home/abhisheknandekar/miniconda3/envs/raga/lib/python3.8/site-packages/ETC/CCMC/pairs.py\", line 202, in ETC_causality\n",
      "    etc_x_given_y, x_residual = _external_substitution(x, out_y.get(\"Trajectory\"))\n",
      "  File \"/home/abhisheknandekar/miniconda3/envs/raga/lib/python3.8/collections/__init__.py\", line 552, in __init__\n",
      "    self.update(iterable, **kwds)\n",
      "  File \"/home/abhisheknandekar/miniconda3/envs/raga/lib/python3.8/collections/__init__.py\", line 637, in update\n",
      "    _count_elements(self, iterable)\n",
      "  File \"/home/abhisheknandekar/miniconda3/envs/raga/lib/python3.8/collections/__init__.py\", line 552, in __init__\n",
      "    self.update(iterable, **kwds)\n",
      "  File \"/home/abhisheknandekar/miniconda3/envs/raga/lib/python3.8/site-packages/ETC/NSRWS/x1D/onestep.py\", line 93, in _mask_and_count\n",
      "    freq_window, count = Counter(filtered).most_common(1)[0]\n",
      "KeyboardInterrupt\n",
      "  File \"/home/abhisheknandekar/miniconda3/envs/raga/lib/python3.8/collections/__init__.py\", line 552, in __init__\n",
      "    self.update(iterable, **kwds)\n",
      "  File \"/home/abhisheknandekar/miniconda3/envs/raga/lib/python3.8/site-packages/ETC/seq/check.py\", line 15, in zeroes\n",
      "    if 0 in seq:\n",
      "  File \"/home/abhisheknandekar/miniconda3/envs/raga/lib/python3.8/site-packages/ETC/NSRWS/x1D/onestep.py\", line 93, in _mask_and_count\n",
      "    freq_window, count = Counter(filtered).most_common(1)[0]\n",
      "  File \"/home/abhisheknandekar/miniconda3/envs/raga/lib/python3.8/site-packages/ETC/CCMC/pairs.py\", line 106, in _external_substitution\n",
      "    seq = ETC.cast(core.substitute_pairs(seq, pair, max(seq) + 1))\n",
      "  File \"/home/abhisheknandekar/miniconda3/envs/raga/lib/python3.8/collections/__init__.py\", line 552, in __init__\n",
      "    self.update(iterable, **kwds)\n",
      "  File \"/home/abhisheknandekar/miniconda3/envs/raga/lib/python3.8/collections/__init__.py\", line 637, in update\n",
      "    _count_elements(self, iterable)\n",
      "  File \"/home/abhisheknandekar/miniconda3/envs/raga/lib/python3.8/collections/__init__.py\", line 552, in __init__\n",
      "    self.update(iterable, **kwds)\n",
      "KeyboardInterrupt\n",
      "  File \"/home/abhisheknandekar/miniconda3/envs/raga/lib/python3.8/collections/__init__.py\", line 637, in update\n",
      "    _count_elements(self, iterable)\n",
      "  File \"/home/abhisheknandekar/miniconda3/envs/raga/lib/python3.8/collections/__init__.py\", line 552, in __init__\n",
      "    self.update(iterable, **kwds)\n",
      "  File \"/home/abhisheknandekar/miniconda3/envs/raga/lib/python3.8/collections/__init__.py\", line 552, in __init__\n",
      "    self.update(iterable, **kwds)\n",
      "  File \"/home/abhisheknandekar/miniconda3/envs/raga/lib/python3.8/collections/__init__.py\", line 637, in update\n",
      "    _count_elements(self, iterable)\n",
      "KeyboardInterrupt\n",
      "  File \"/home/abhisheknandekar/miniconda3/envs/raga/lib/python3.8/collections/__init__.py\", line 637, in update\n",
      "    _count_elements(self, iterable)\n",
      "KeyboardInterrupt\n",
      "  File \"/home/abhisheknandekar/miniconda3/envs/raga/lib/python3.8/collections/__init__.py\", line 637, in update\n",
      "    _count_elements(self, iterable)\n",
      "  File \"/home/abhisheknandekar/miniconda3/envs/raga/lib/python3.8/collections/__init__.py\", line 637, in update\n",
      "    _count_elements(self, iterable)\n",
      "KeyboardInterrupt\n",
      "KeyboardInterrupt\n",
      "KeyboardInterrupt\n",
      "KeyboardInterrupt\n",
      "  File \"/home/abhisheknandekar/miniconda3/envs/raga/lib/python3.8/collections/__init__.py\", line 637, in update\n",
      "    _count_elements(self, iterable)\n",
      "KeyboardInterrupt\n",
      "KeyboardInterrupt\n",
      "KeyboardInterrupt\n",
      "KeyboardInterrupt\n",
      "Process ForkPoolWorker-1036:\n",
      "Process ForkPoolWorker-1037:\n",
      "Traceback (most recent call last):\n",
      "KeyboardInterrupt\n",
      "  File \"/home/abhisheknandekar/miniconda3/envs/raga/lib/python3.8/collections/__init__.py\", line 637, in update\n",
      "    _count_elements(self, iterable)\n",
      "KeyboardInterrupt\n",
      "Traceback (most recent call last):\n",
      "  File \"/home/abhisheknandekar/miniconda3/envs/raga/lib/python3.8/multiprocessing/process.py\", line 315, in _bootstrap\n",
      "    self.run()\n",
      "  File \"/home/abhisheknandekar/miniconda3/envs/raga/lib/python3.8/multiprocessing/process.py\", line 315, in _bootstrap\n",
      "    self.run()\n",
      "  File \"/home/abhisheknandekar/miniconda3/envs/raga/lib/python3.8/multiprocessing/process.py\", line 108, in run\n",
      "    self._target(*self._args, **self._kwargs)\n",
      "  File \"/home/abhisheknandekar/miniconda3/envs/raga/lib/python3.8/multiprocessing/process.py\", line 108, in run\n",
      "    self._target(*self._args, **self._kwargs)\n",
      "  File \"/home/abhisheknandekar/miniconda3/envs/raga/lib/python3.8/multiprocessing/pool.py\", line 125, in worker\n",
      "    result = (True, func(*args, **kwds))\n",
      "  File \"/home/abhisheknandekar/miniconda3/envs/raga/lib/python3.8/site-packages/ETC/CCMC/pairs.py\", line 191, in ETC_causality\n",
      "    out_y = ETC.compute_1D(y, order=2, verbose=True, truncate=False)\n",
      "  File \"/home/abhisheknandekar/miniconda3/envs/raga/lib/python3.8/multiprocessing/pool.py\", line 125, in worker\n",
      "    result = (True, func(*args, **kwds))\n",
      "  File \"/home/abhisheknandekar/miniconda3/envs/raga/lib/python3.8/multiprocessing/pool.py\", line 51, in starmapstar\n",
      "    return list(itertools.starmap(args[0], args[1]))\n",
      "  File \"/home/abhisheknandekar/miniconda3/envs/raga/lib/python3.8/site-packages/ETC/CCMC/pairs.py\", line 428, in CCM_causality\n",
      "    ETC_causality(\n",
      "  File \"/home/abhisheknandekar/miniconda3/envs/raga/lib/python3.8/multiprocessing/pool.py\", line 51, in starmapstar\n",
      "    return list(itertools.starmap(args[0], args[1]))\n",
      "  File \"/home/abhisheknandekar/miniconda3/envs/raga/lib/python3.8/site-packages/ETC/CCMC/pairs.py\", line 428, in CCM_causality\n",
      "    ETC_causality(\n",
      "  File \"/home/abhisheknandekar/miniconda3/envs/raga/lib/python3.8/site-packages/ETC/NSRWS/x1D/etc.py\", line 364, in compute\n",
      "    etc, out = _compute_verbose_full(seq, order)\n",
      "  File \"/home/abhisheknandekar/miniconda3/envs/raga/lib/python3.8/site-packages/ETC/CCMC/pairs.py\", line 190, in ETC_causality\n",
      "    out_x = ETC.compute_1D(x, order=2, verbose=True, truncate=False)\n",
      "  File \"/home/abhisheknandekar/miniconda3/envs/raga/lib/python3.8/site-packages/ETC/NSRWS/x1D/etc.py\", line 186, in _compute_verbose_full\n",
      "    seq, signal, freq_win, count, time = _onestep(seq, order, verbose=True)\n",
      "  File \"/home/abhisheknandekar/miniconda3/envs/raga/lib/python3.8/site-packages/ETC/NSRWS/x1D/onestep.py\", line 316, in _onestep\n",
      "    return _onestep_pairs(seq[:], verbose)\n",
      "  File \"/home/abhisheknandekar/miniconda3/envs/raga/lib/python3.8/site-packages/ETC/NSRWS/x1D/etc.py\", line 364, in compute\n",
      "    etc, out = _compute_verbose_full(seq, order)\n",
      "  File \"/home/abhisheknandekar/miniconda3/envs/raga/lib/python3.8/site-packages/ETC/NSRWS/x1D/onestep.py\", line 162, in _onestep_pairs\n",
      "    freq_pair, count = _mask_and_count(seq, mask, 2)\n",
      "  File \"/home/abhisheknandekar/miniconda3/envs/raga/lib/python3.8/site-packages/ETC/NSRWS/x1D/etc.py\", line 186, in _compute_verbose_full\n",
      "    seq, signal, freq_win, count, time = _onestep(seq, order, verbose=True)\n",
      "  File \"/home/abhisheknandekar/miniconda3/envs/raga/lib/python3.8/site-packages/ETC/NSRWS/x1D/onestep.py\", line 93, in _mask_and_count\n",
      "    freq_window, count = Counter(filtered).most_common(1)[0]\n",
      "  File \"/home/abhisheknandekar/miniconda3/envs/raga/lib/python3.8/site-packages/ETC/NSRWS/x1D/onestep.py\", line 316, in _onestep\n",
      "    return _onestep_pairs(seq[:], verbose)\n",
      "  File \"/home/abhisheknandekar/miniconda3/envs/raga/lib/python3.8/collections/__init__.py\", line 552, in __init__\n",
      "    self.update(iterable, **kwds)\n",
      "  File \"/home/abhisheknandekar/miniconda3/envs/raga/lib/python3.8/site-packages/ETC/NSRWS/x1D/onestep.py\", line 162, in _onestep_pairs\n",
      "    freq_pair, count = _mask_and_count(seq, mask, 2)\n",
      "  File \"/home/abhisheknandekar/miniconda3/envs/raga/lib/python3.8/collections/__init__.py\", line 637, in update\n",
      "    _count_elements(self, iterable)\n",
      "  File \"/home/abhisheknandekar/miniconda3/envs/raga/lib/python3.8/site-packages/ETC/NSRWS/x1D/onestep.py\", line 93, in _mask_and_count\n",
      "    freq_window, count = Counter(filtered).most_common(1)[0]\n",
      "KeyboardInterrupt\n",
      "  File \"/home/abhisheknandekar/miniconda3/envs/raga/lib/python3.8/collections/__init__.py\", line 552, in __init__\n",
      "    self.update(iterable, **kwds)\n",
      "  File \"/home/abhisheknandekar/miniconda3/envs/raga/lib/python3.8/collections/__init__.py\", line 637, in update\n",
      "    _count_elements(self, iterable)\n",
      "KeyboardInterrupt\n"
     ]
    },
    {
     "ename": "KeyboardInterrupt",
     "evalue": "",
     "output_type": "error",
     "traceback": [
      "\u001B[0;31m---------------------------------------------------------------------------\u001B[0m",
      "\u001B[0;31mKeyboardInterrupt\u001B[0m                         Traceback (most recent call last)",
      "\u001B[0;32m<ipython-input-12-a24366b37cd3>\u001B[0m in \u001B[0;36m<module>\u001B[0;34m\u001B[0m\n\u001B[0;32m----> 1\u001B[0;31m \u001B[0mtc8\u001B[0m\u001B[0;34m,\u001B[0m \u001B[0mtotc8\u001B[0m\u001B[0;34m,\u001B[0m \u001B[0mss8\u001B[0m \u001B[0;34m=\u001B[0m \u001B[0mragaIterator\u001B[0m\u001B[0;34m(\u001B[0m\u001B[0;36m10\u001B[0m\u001B[0;34m,\u001B[0m \u001B[0;34m'8'\u001B[0m\u001B[0;34m,\u001B[0m \u001B[0;34m'8_d'\u001B[0m\u001B[0;34m,\u001B[0m \u001B[0mnum_surrogates\u001B[0m\u001B[0;34m=\u001B[0m\u001B[0;36m150\u001B[0m\u001B[0;34m,\u001B[0m \u001B[0mtimes_it\u001B[0m\u001B[0;34m=\u001B[0m\u001B[0mt_dict\u001B[0m\u001B[0;34m)\u001B[0m\u001B[0;34m\u001B[0m\u001B[0;34m\u001B[0m\u001B[0m\n\u001B[0m\u001B[1;32m      2\u001B[0m \u001B[0;34m\u001B[0m\u001B[0m\n",
      "\u001B[0;32m<ipython-input-2-29f5717a51ee>\u001B[0m in \u001B[0;36mragaIterator\u001B[0;34m(n_iters, mela, janya, num_surrogates, write, times_it)\u001B[0m\n\u001B[1;32m     61\u001B[0m         \u001B[0mtm\u001B[0m \u001B[0;34m=\u001B[0m \u001B[0;34m{\u001B[0m\u001B[0;34m}\u001B[0m\u001B[0;34m\u001B[0m\u001B[0;34m\u001B[0m\u001B[0m\n\u001B[1;32m     62\u001B[0m         \u001B[0;32mif\u001B[0m \u001B[0mi\u001B[0m \u001B[0;34m%\u001B[0m \u001B[0;36m2\u001B[0m \u001B[0;34m!=\u001B[0m \u001B[0;36m0\u001B[0m\u001B[0;34m:\u001B[0m\u001B[0;34m\u001B[0m\u001B[0;34m\u001B[0m\u001B[0m\n\u001B[0;32m---> 63\u001B[0;31m             \u001B[0mtc\u001B[0m\u001B[0;34m,\u001B[0m \u001B[0mtotc\u001B[0m\u001B[0;34m,\u001B[0m \u001B[0mst\u001B[0m \u001B[0;34m=\u001B[0m \u001B[0mprint_correct\u001B[0m\u001B[0;34m(\u001B[0m\u001B[0mmela\u001B[0m\u001B[0;34m,\u001B[0m \u001B[0mjanya\u001B[0m\u001B[0;34m,\u001B[0m \u001B[0mnum_surr\u001B[0m\u001B[0;34m=\u001B[0m\u001B[0mnum_surrogates\u001B[0m\u001B[0;34m,\u001B[0m \u001B[0msurr_serial\u001B[0m\u001B[0;34m=\u001B[0m\u001B[0;32mTrue\u001B[0m\u001B[0;34m,\u001B[0m \u001B[0mtime_cal\u001B[0m\u001B[0;34m=\u001B[0m\u001B[0mtm\u001B[0m\u001B[0;34m)\u001B[0m\u001B[0;34m\u001B[0m\u001B[0;34m\u001B[0m\u001B[0m\n\u001B[0m\u001B[1;32m     64\u001B[0m         \u001B[0;32melse\u001B[0m\u001B[0;34m:\u001B[0m\u001B[0;34m\u001B[0m\u001B[0;34m\u001B[0m\u001B[0m\n\u001B[1;32m     65\u001B[0m             \u001B[0mtc\u001B[0m\u001B[0;34m,\u001B[0m \u001B[0mtotc\u001B[0m\u001B[0;34m,\u001B[0m \u001B[0mst\u001B[0m \u001B[0;34m=\u001B[0m \u001B[0mprint_correct\u001B[0m\u001B[0;34m(\u001B[0m\u001B[0mmela\u001B[0m\u001B[0;34m,\u001B[0m \u001B[0mjanya\u001B[0m\u001B[0;34m,\u001B[0m \u001B[0mnum_surr\u001B[0m\u001B[0;34m=\u001B[0m\u001B[0mnum_surrogates\u001B[0m\u001B[0;34m,\u001B[0m \u001B[0msurr_serial\u001B[0m\u001B[0;34m=\u001B[0m\u001B[0;32mFalse\u001B[0m\u001B[0;34m,\u001B[0m \u001B[0mtime_cal\u001B[0m\u001B[0;34m=\u001B[0m\u001B[0mtm\u001B[0m\u001B[0;34m)\u001B[0m\u001B[0;34m\u001B[0m\u001B[0;34m\u001B[0m\u001B[0m\n",
      "\u001B[0;32m<ipython-input-2-29f5717a51ee>\u001B[0m in \u001B[0;36mprint_correct\u001B[0;34m(mela_id, janya_id, num_surr, surr_serial, time_cal)\u001B[0m\n\u001B[1;32m     19\u001B[0m     \u001B[0mprint\u001B[0m\u001B[0;34m(\u001B[0m\u001B[0;34m\"finding causality....\"\u001B[0m\u001B[0;34m)\u001B[0m\u001B[0;34m\u001B[0m\u001B[0;34m\u001B[0m\u001B[0m\n\u001B[1;32m     20\u001B[0m     \u001B[0mt3\u001B[0m \u001B[0;34m=\u001B[0m \u001B[0mtime\u001B[0m\u001B[0;34m.\u001B[0m\u001B[0mperf_counter\u001B[0m\u001B[0;34m(\u001B[0m\u001B[0;34m)\u001B[0m\u001B[0;34m\u001B[0m\u001B[0;34m\u001B[0m\u001B[0m\n\u001B[0;32m---> 21\u001B[0;31m     \u001B[0mtc\u001B[0m\u001B[0;34m,\u001B[0m \u001B[0mtotc\u001B[0m\u001B[0;34m,\u001B[0m \u001B[0mstrengths\u001B[0m \u001B[0;34m=\u001B[0m \u001B[0mparallelizer\u001B[0m\u001B[0;34m.\u001B[0m\u001B[0mTrueLZPCausality_listParallel\u001B[0m\u001B[0;34m(\u001B[0m\u001B[0mlist\u001B[0m\u001B[0;34m(\u001B[0m\u001B[0madj\u001B[0m\u001B[0;34m.\u001B[0m\u001B[0mvalues\u001B[0m\u001B[0;34m(\u001B[0m\u001B[0;34m)\u001B[0m\u001B[0;34m)\u001B[0m\u001B[0;34m,\u001B[0m \u001B[0mlist\u001B[0m\u001B[0;34m(\u001B[0m\u001B[0madj\u001B[0m\u001B[0;34m.\u001B[0m\u001B[0mkeys\u001B[0m\u001B[0;34m(\u001B[0m\u001B[0;34m)\u001B[0m\u001B[0;34m)\u001B[0m\u001B[0;34m,\u001B[0m \u001B[0mmela\u001B[0m\u001B[0;34m=\u001B[0m\u001B[0mdataset\u001B[0m\u001B[0;34m.\u001B[0m\u001B[0mGetRagaFromRagaId\u001B[0m\u001B[0;34m(\u001B[0m\u001B[0mmela_id\u001B[0m\u001B[0;34m)\u001B[0m\u001B[0;34m)\u001B[0m\u001B[0;34m\u001B[0m\u001B[0;34m\u001B[0m\u001B[0m\n\u001B[0m\u001B[1;32m     22\u001B[0m     \u001B[0mt4\u001B[0m \u001B[0;34m=\u001B[0m \u001B[0mtime\u001B[0m\u001B[0;34m.\u001B[0m\u001B[0mperf_counter\u001B[0m\u001B[0;34m(\u001B[0m\u001B[0;34m)\u001B[0m\u001B[0;34m\u001B[0m\u001B[0;34m\u001B[0m\u001B[0m\n\u001B[1;32m     23\u001B[0m \u001B[0;34m\u001B[0m\u001B[0m\n",
      "\u001B[0;32m~/PycharmProjects/notation-metrics/utils/parallelizer.py\u001B[0m in \u001B[0;36mTrueLZPCausality_listParallel\u001B[0;34m(list, labels, mela)\u001B[0m\n\u001B[1;32m     25\u001B[0m \u001B[0;32mdef\u001B[0m \u001B[0mTrueLZPCausality_listParallel\u001B[0m\u001B[0;34m(\u001B[0m\u001B[0mlist\u001B[0m\u001B[0;34m,\u001B[0m \u001B[0mlabels\u001B[0m\u001B[0;34m,\u001B[0m \u001B[0mmela\u001B[0m\u001B[0;34m)\u001B[0m\u001B[0;34m:\u001B[0m\u001B[0;34m\u001B[0m\u001B[0;34m\u001B[0m\u001B[0m\n\u001B[1;32m     26\u001B[0m     \u001B[0mp\u001B[0m \u001B[0;34m=\u001B[0m \u001B[0mmultiprocessing\u001B[0m\u001B[0;34m.\u001B[0m\u001B[0mPool\u001B[0m\u001B[0;34m(\u001B[0m\u001B[0;34m)\u001B[0m\u001B[0;34m\u001B[0m\u001B[0;34m\u001B[0m\u001B[0m\n\u001B[0;32m---> 27\u001B[0;31m     \u001B[0mres\u001B[0m \u001B[0;34m=\u001B[0m \u001B[0mp\u001B[0m\u001B[0;34m.\u001B[0m\u001B[0mstarmap\u001B[0m\u001B[0;34m(\u001B[0m\u001B[0mETC\u001B[0m\u001B[0;34m.\u001B[0m\u001B[0mCCM_causality\u001B[0m\u001B[0;34m,\u001B[0m \u001B[0mcombinations\u001B[0m\u001B[0;34m(\u001B[0m\u001B[0mlist\u001B[0m\u001B[0;34m,\u001B[0m \u001B[0mr\u001B[0m\u001B[0;34m=\u001B[0m\u001B[0;36m2\u001B[0m\u001B[0;34m)\u001B[0m\u001B[0;34m)\u001B[0m\u001B[0;34m\u001B[0m\u001B[0;34m\u001B[0m\u001B[0m\n\u001B[0m\u001B[1;32m     28\u001B[0m     \u001B[0miter\u001B[0m \u001B[0;34m=\u001B[0m \u001B[0;36m0\u001B[0m\u001B[0;34m\u001B[0m\u001B[0;34m\u001B[0m\u001B[0m\n\u001B[1;32m     29\u001B[0m     \u001B[0mdist\u001B[0m \u001B[0;34m=\u001B[0m \u001B[0mnp\u001B[0m\u001B[0;34m.\u001B[0m\u001B[0mzeros\u001B[0m\u001B[0;34m(\u001B[0m\u001B[0;34m(\u001B[0m\u001B[0mlen\u001B[0m\u001B[0;34m(\u001B[0m\u001B[0mlist\u001B[0m\u001B[0;34m)\u001B[0m\u001B[0;34m,\u001B[0m \u001B[0mlen\u001B[0m\u001B[0;34m(\u001B[0m\u001B[0mlist\u001B[0m\u001B[0;34m)\u001B[0m\u001B[0;34m)\u001B[0m\u001B[0;34m)\u001B[0m\u001B[0;34m\u001B[0m\u001B[0;34m\u001B[0m\u001B[0m\n",
      "\u001B[0;32m~/miniconda3/envs/raga/lib/python3.8/multiprocessing/pool.py\u001B[0m in \u001B[0;36mstarmap\u001B[0;34m(self, func, iterable, chunksize)\u001B[0m\n\u001B[1;32m    370\u001B[0m         \u001B[0;31m`\u001B[0m\u001B[0mfunc\u001B[0m\u001B[0;31m`\u001B[0m \u001B[0;32mand\u001B[0m \u001B[0;34m(\u001B[0m\u001B[0ma\u001B[0m\u001B[0;34m,\u001B[0m \u001B[0mb\u001B[0m\u001B[0;34m)\u001B[0m \u001B[0mbecomes\u001B[0m \u001B[0mfunc\u001B[0m\u001B[0;34m(\u001B[0m\u001B[0ma\u001B[0m\u001B[0;34m,\u001B[0m \u001B[0mb\u001B[0m\u001B[0;34m)\u001B[0m\u001B[0;34m.\u001B[0m\u001B[0;34m\u001B[0m\u001B[0;34m\u001B[0m\u001B[0m\n\u001B[1;32m    371\u001B[0m         '''\n\u001B[0;32m--> 372\u001B[0;31m         \u001B[0;32mreturn\u001B[0m \u001B[0mself\u001B[0m\u001B[0;34m.\u001B[0m\u001B[0m_map_async\u001B[0m\u001B[0;34m(\u001B[0m\u001B[0mfunc\u001B[0m\u001B[0;34m,\u001B[0m \u001B[0miterable\u001B[0m\u001B[0;34m,\u001B[0m \u001B[0mstarmapstar\u001B[0m\u001B[0;34m,\u001B[0m \u001B[0mchunksize\u001B[0m\u001B[0;34m)\u001B[0m\u001B[0;34m.\u001B[0m\u001B[0mget\u001B[0m\u001B[0;34m(\u001B[0m\u001B[0;34m)\u001B[0m\u001B[0;34m\u001B[0m\u001B[0;34m\u001B[0m\u001B[0m\n\u001B[0m\u001B[1;32m    373\u001B[0m \u001B[0;34m\u001B[0m\u001B[0m\n\u001B[1;32m    374\u001B[0m     def starmap_async(self, func, iterable, chunksize=None, callback=None,\n",
      "\u001B[0;32m~/miniconda3/envs/raga/lib/python3.8/multiprocessing/pool.py\u001B[0m in \u001B[0;36mget\u001B[0;34m(self, timeout)\u001B[0m\n\u001B[1;32m    763\u001B[0m \u001B[0;34m\u001B[0m\u001B[0m\n\u001B[1;32m    764\u001B[0m     \u001B[0;32mdef\u001B[0m \u001B[0mget\u001B[0m\u001B[0;34m(\u001B[0m\u001B[0mself\u001B[0m\u001B[0;34m,\u001B[0m \u001B[0mtimeout\u001B[0m\u001B[0;34m=\u001B[0m\u001B[0;32mNone\u001B[0m\u001B[0;34m)\u001B[0m\u001B[0;34m:\u001B[0m\u001B[0;34m\u001B[0m\u001B[0;34m\u001B[0m\u001B[0m\n\u001B[0;32m--> 765\u001B[0;31m         \u001B[0mself\u001B[0m\u001B[0;34m.\u001B[0m\u001B[0mwait\u001B[0m\u001B[0;34m(\u001B[0m\u001B[0mtimeout\u001B[0m\u001B[0;34m)\u001B[0m\u001B[0;34m\u001B[0m\u001B[0;34m\u001B[0m\u001B[0m\n\u001B[0m\u001B[1;32m    766\u001B[0m         \u001B[0;32mif\u001B[0m \u001B[0;32mnot\u001B[0m \u001B[0mself\u001B[0m\u001B[0;34m.\u001B[0m\u001B[0mready\u001B[0m\u001B[0;34m(\u001B[0m\u001B[0;34m)\u001B[0m\u001B[0;34m:\u001B[0m\u001B[0;34m\u001B[0m\u001B[0;34m\u001B[0m\u001B[0m\n\u001B[1;32m    767\u001B[0m             \u001B[0;32mraise\u001B[0m \u001B[0mTimeoutError\u001B[0m\u001B[0;34m\u001B[0m\u001B[0;34m\u001B[0m\u001B[0m\n",
      "\u001B[0;32m~/miniconda3/envs/raga/lib/python3.8/multiprocessing/pool.py\u001B[0m in \u001B[0;36mwait\u001B[0;34m(self, timeout)\u001B[0m\n\u001B[1;32m    760\u001B[0m \u001B[0;34m\u001B[0m\u001B[0m\n\u001B[1;32m    761\u001B[0m     \u001B[0;32mdef\u001B[0m \u001B[0mwait\u001B[0m\u001B[0;34m(\u001B[0m\u001B[0mself\u001B[0m\u001B[0;34m,\u001B[0m \u001B[0mtimeout\u001B[0m\u001B[0;34m=\u001B[0m\u001B[0;32mNone\u001B[0m\u001B[0;34m)\u001B[0m\u001B[0;34m:\u001B[0m\u001B[0;34m\u001B[0m\u001B[0;34m\u001B[0m\u001B[0m\n\u001B[0;32m--> 762\u001B[0;31m         \u001B[0mself\u001B[0m\u001B[0;34m.\u001B[0m\u001B[0m_event\u001B[0m\u001B[0;34m.\u001B[0m\u001B[0mwait\u001B[0m\u001B[0;34m(\u001B[0m\u001B[0mtimeout\u001B[0m\u001B[0;34m)\u001B[0m\u001B[0;34m\u001B[0m\u001B[0;34m\u001B[0m\u001B[0m\n\u001B[0m\u001B[1;32m    763\u001B[0m \u001B[0;34m\u001B[0m\u001B[0m\n\u001B[1;32m    764\u001B[0m     \u001B[0;32mdef\u001B[0m \u001B[0mget\u001B[0m\u001B[0;34m(\u001B[0m\u001B[0mself\u001B[0m\u001B[0;34m,\u001B[0m \u001B[0mtimeout\u001B[0m\u001B[0;34m=\u001B[0m\u001B[0;32mNone\u001B[0m\u001B[0;34m)\u001B[0m\u001B[0;34m:\u001B[0m\u001B[0;34m\u001B[0m\u001B[0;34m\u001B[0m\u001B[0m\n",
      "\u001B[0;32m~/miniconda3/envs/raga/lib/python3.8/threading.py\u001B[0m in \u001B[0;36mwait\u001B[0;34m(self, timeout)\u001B[0m\n\u001B[1;32m    556\u001B[0m             \u001B[0msignaled\u001B[0m \u001B[0;34m=\u001B[0m \u001B[0mself\u001B[0m\u001B[0;34m.\u001B[0m\u001B[0m_flag\u001B[0m\u001B[0;34m\u001B[0m\u001B[0;34m\u001B[0m\u001B[0m\n\u001B[1;32m    557\u001B[0m             \u001B[0;32mif\u001B[0m \u001B[0;32mnot\u001B[0m \u001B[0msignaled\u001B[0m\u001B[0;34m:\u001B[0m\u001B[0;34m\u001B[0m\u001B[0;34m\u001B[0m\u001B[0m\n\u001B[0;32m--> 558\u001B[0;31m                 \u001B[0msignaled\u001B[0m \u001B[0;34m=\u001B[0m \u001B[0mself\u001B[0m\u001B[0;34m.\u001B[0m\u001B[0m_cond\u001B[0m\u001B[0;34m.\u001B[0m\u001B[0mwait\u001B[0m\u001B[0;34m(\u001B[0m\u001B[0mtimeout\u001B[0m\u001B[0;34m)\u001B[0m\u001B[0;34m\u001B[0m\u001B[0;34m\u001B[0m\u001B[0m\n\u001B[0m\u001B[1;32m    559\u001B[0m             \u001B[0;32mreturn\u001B[0m \u001B[0msignaled\u001B[0m\u001B[0;34m\u001B[0m\u001B[0;34m\u001B[0m\u001B[0m\n\u001B[1;32m    560\u001B[0m \u001B[0;34m\u001B[0m\u001B[0m\n",
      "\u001B[0;32m~/miniconda3/envs/raga/lib/python3.8/threading.py\u001B[0m in \u001B[0;36mwait\u001B[0;34m(self, timeout)\u001B[0m\n\u001B[1;32m    300\u001B[0m         \u001B[0;32mtry\u001B[0m\u001B[0;34m:\u001B[0m    \u001B[0;31m# restore state no matter what (e.g., KeyboardInterrupt)\u001B[0m\u001B[0;34m\u001B[0m\u001B[0;34m\u001B[0m\u001B[0m\n\u001B[1;32m    301\u001B[0m             \u001B[0;32mif\u001B[0m \u001B[0mtimeout\u001B[0m \u001B[0;32mis\u001B[0m \u001B[0;32mNone\u001B[0m\u001B[0;34m:\u001B[0m\u001B[0;34m\u001B[0m\u001B[0;34m\u001B[0m\u001B[0m\n\u001B[0;32m--> 302\u001B[0;31m                 \u001B[0mwaiter\u001B[0m\u001B[0;34m.\u001B[0m\u001B[0macquire\u001B[0m\u001B[0;34m(\u001B[0m\u001B[0;34m)\u001B[0m\u001B[0;34m\u001B[0m\u001B[0;34m\u001B[0m\u001B[0m\n\u001B[0m\u001B[1;32m    303\u001B[0m                 \u001B[0mgotit\u001B[0m \u001B[0;34m=\u001B[0m \u001B[0;32mTrue\u001B[0m\u001B[0;34m\u001B[0m\u001B[0;34m\u001B[0m\u001B[0m\n\u001B[1;32m    304\u001B[0m             \u001B[0;32melse\u001B[0m\u001B[0;34m:\u001B[0m\u001B[0;34m\u001B[0m\u001B[0;34m\u001B[0m\u001B[0m\n",
      "\u001B[0;31mKeyboardInterrupt\u001B[0m: "
     ]
    }
   ],
   "source": [
    "tc8, totc8, ss8 = ragaIterator(10, '8', '8_d', num_surrogates=150, times_it=t_dict)"
   ],
   "metadata": {
    "collapsed": false,
    "pycharm": {
     "name": "#%%\n"
    }
   }
  },
  {
   "cell_type": "code",
   "execution_count": null,
   "outputs": [],
   "source": [
    "avg_conns(tc8), avg_conns(t_dict[\"Surrogate8\"]), avg_conns(t_dict[\"Causality8\"])"
   ],
   "metadata": {
    "collapsed": false,
    "pycharm": {
     "name": "#%%\n"
    }
   }
  },
  {
   "cell_type": "code",
   "execution_count": null,
   "outputs": [],
   "source": [
    "tc22, totc22, ss22 = ragaIterator(10, '22', '22_a', num_surrogates=150, times_it=t_dict)"
   ],
   "metadata": {
    "collapsed": false,
    "pycharm": {
     "name": "#%%\n"
    }
   }
  },
  {
   "cell_type": "code",
   "execution_count": null,
   "outputs": [],
   "source": [
    "avg_conns(tc22), avg_conns(t_dict[\"Surrogate22\"]), avg_conns(t_dict[\"Causality22\"])"
   ],
   "metadata": {
    "collapsed": false,
    "pycharm": {
     "name": "#%%\n"
    }
   }
  },
  {
   "cell_type": "code",
   "execution_count": null,
   "outputs": [],
   "source": [
    "tc28, totc28, ss28 = ragaIterator(10, '28', '28_k', num_surrogates=150, times_it=t_dict)"
   ],
   "metadata": {
    "collapsed": false,
    "pycharm": {
     "name": "#%%\n"
    }
   }
  },
  {
   "cell_type": "code",
   "execution_count": null,
   "outputs": [],
   "source": [
    "avg_conns(tc28), avg_conns(t_dict[\"Surrogate28\"]), avg_conns(t_dict[\"Causality28\"])"
   ],
   "metadata": {
    "collapsed": false,
    "pycharm": {
     "name": "#%%\n"
    }
   }
  },
  {
   "cell_type": "code",
   "execution_count": null,
   "outputs": [],
   "source": [
    "tc29, totc29, ss29 = ragaIterator(10, '29', '29_h', num_surrogates=150, times_it=t_dict)"
   ],
   "metadata": {
    "collapsed": false,
    "pycharm": {
     "name": "#%%\n"
    }
   }
  },
  {
   "cell_type": "code",
   "execution_count": null,
   "outputs": [],
   "source": [
    "avg_conns(tc29), avg_conns(t_dict[\"Surrogate29\"]), avg_conns(t_dict[\"Causality29\"])"
   ],
   "metadata": {
    "collapsed": false,
    "pycharm": {
     "name": "#%%\n"
    }
   }
  },
  {
   "cell_type": "code",
   "execution_count": null,
   "outputs": [],
   "source": [
    "t_dict"
   ],
   "metadata": {
    "collapsed": false,
    "pycharm": {
     "name": "#%%\n"
    }
   }
  }
 ],
 "metadata": {
  "kernelspec": {
   "display_name": "Python 3",
   "language": "python",
   "name": "python3"
  },
  "language_info": {
   "codemirror_mode": {
    "name": "ipython",
    "version": 2
   },
   "file_extension": ".py",
   "mimetype": "text/x-python",
   "name": "python",
   "nbconvert_exporter": "python",
   "pygments_lexer": "ipython2",
   "version": "2.7.6"
  }
 },
 "nbformat": 4,
 "nbformat_minor": 0
}