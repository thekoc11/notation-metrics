{
 "cells": [
  {
   "cell_type": "code",
   "execution_count": 1,
   "metadata": {
    "collapsed": true
   },
   "outputs": [],
   "source": [
    "import time\n",
    "\n",
    "from utils import dataStructures, dataset, parallelizer\n",
    "from utils.generators import markovian\n",
    "import numpy as np"
   ]
  },
  {
   "cell_type": "code",
   "execution_count": 2,
   "outputs": [],
   "source": [
    "def print_correct(mela_id='22', janya_id='22_a', surr_serial=False, time_cal=None):\n",
    "    dat = dataset.GetRagaSongCoordsConcat(mela_id)\n",
    "    dat1 = dataset.GetRagaSongCoords(janya_id)\n",
    "    if time_cal is not None:\n",
    "        assert isinstance(time_cal, dict)\n",
    "    print(\"Starting surrogate generation...\")\n",
    "    t1 = time.perf_counter()\n",
    "    d_surr1 = markovian.GenerateForRaga(mela_id, 50, serial=surr_serial)\n",
    "    d_surr2 = markovian.GenerateForRaga(janya_id, 50, serial=surr_serial)\n",
    "    t2 = time.perf_counter()\n",
    "    for key in dat:\n",
    "        dat[key] = dataStructures.PackTuples(*dat[key])\n",
    "\n",
    "    for key in dat1:\n",
    "        dat1[key] = dataStructures.PackTuples(*dat1[key])\n",
    "\n",
    "    d_fin1 = dataset.ConcatenateDicts(dat, d_surr1, dat1, d_surr2)\n",
    "    adj = dataset.GetAdjustedMelodies(d_fin1)\n",
    "    print(\"finding causality....\")\n",
    "    t3 = time.perf_counter()\n",
    "    tc, totc, strengths = parallelizer.TrueLZPCausality_listParallel(list(adj.values()), list(adj.keys()), mela=dataset.GetRagaFromRagaId(mela_id))\n",
    "    t4 = time.perf_counter()\n",
    "\n",
    "    if time_cal is not None:\n",
    "        time_cal[\"Surrogate{}\".format(mela_id)] = t2 - t1\n",
    "        time_cal[\"Causality{}\".format(mela_id)] = t4 - t3\n",
    "    return tc, totc, strengths\n",
    "\n",
    "def get_generation_time50(mela_id='22', janya_id='22_a', surr_serial=True):\n",
    "    dat = dataset.GetRagaSongCoordsConcat(mela_id)\n",
    "    dat1 = dataset.GetRagaSongCoords(janya_id)\n",
    "    print(\"Starting surrogate generation...\")\n",
    "    t1 = time.perf_counter()\n",
    "    d_surr1 = markovian.GenerateForRaga(mela_id, 50, serial=surr_serial)\n",
    "    d_surr2 = markovian.GenerateForRaga(janya_id, 50, serial=surr_serial)\n",
    "    t2 = time.perf_counter()\n",
    "    for key in dat:\n",
    "        dat[key] = dataStructures.PackTuples(*dat[key])\n",
    "\n",
    "    for key in dat1:\n",
    "        dat1[key] = dataStructures.PackTuples(*dat1[key])\n",
    "\n",
    "    d_fin1 = dataset.ConcatenateDicts(dat, d_surr1, dat1, d_surr2)\n",
    "    adj = dataset.GetAdjustedMelodies(d_fin1)\n",
    "\n",
    "    return t2 - t1\n",
    "\n",
    "\n",
    "def ragaIterator(n_iters, mela, janya, write=True, times_it=None):\n",
    "    if times_it is not None:\n",
    "        assert isinstance(times_it, dict)\n",
    "        times_it[\"Surrogate{}\".format(mela)] = []\n",
    "        times_it[\"Causality{}\".format(mela)] = []\n",
    "    tcs = []\n",
    "    strengths = []\n",
    "    totcs = []\n",
    "    f = open(\"/home/abhisheknandekar/surr_stats/{}/truecauses50.txt\".format(mela), \"a\")\n",
    "    t1 = time.perf_counter()\n",
    "    for i in range(n_iters):\n",
    "        print(\"iteration: \", i + 1)\n",
    "        tm = {}\n",
    "        if i % 2 != 0:\n",
    "            tc, totc, st = print_correct(mela, janya, surr_serial=True, time_cal=tm)\n",
    "        else:\n",
    "            tc, totc, st = print_correct(mela, janya, surr_serial=True, time_cal=tm)\n",
    "        if times_it is not None:\n",
    "            times_it[\"Surrogate{}\".format(mela)].append(tm[\"Surrogate{}\".format(mela)])\n",
    "            times_it[\"Causality{}\".format(mela)].append(tm[\"Causality{}\".format(mela)])\n",
    "        if write:\n",
    "            f.write(\"iteration: {}/{}, {}/{}; time taken: {}/{}\\n\".format(i+1, n_iters, tc, totc,\n",
    "                                                                          tm[\"Surrogate{}\".format(mela)],\n",
    "                                                                          tm[\"Causality{}\".format(mela)]))\n",
    "        t = time.perf_counter()\n",
    "        print(\"time elapsed: \", (t - t1))\n",
    "        t1 = t\n",
    "        tcs.append(tc)\n",
    "        totcs.append(totc)\n",
    "        strengths.append(st)\n",
    "    f.close()\n",
    "    return tcs, totcs, strengths\n",
    "\n",
    "avg_conns = lambda t_c : np.array(t_c).mean()"
   ],
   "metadata": {
    "collapsed": false,
    "pycharm": {
     "name": "#%%\n"
    }
   }
  },
  {
   "cell_type": "code",
   "execution_count": 3,
   "outputs": [
    {
     "name": "stdout",
     "output_type": "stream",
     "text": [
      "iteration:  1\n",
      "Starting surrogate generation...\n",
      "finding causality....\n",
      "6289 true causes out of 11448 total connections\n",
      "time elapsed:  872.8921653660072\n",
      "iteration:  2\n",
      "Starting surrogate generation...\n",
      "finding causality....\n",
      "6049 true causes out of 11448 total connections\n",
      "time elapsed:  903.6651761510002\n",
      "iteration:  3\n",
      "Starting surrogate generation...\n",
      "finding causality....\n",
      "5365 true causes out of 11448 total connections\n",
      "time elapsed:  885.549076086987\n",
      "iteration:  4\n",
      "Starting surrogate generation...\n",
      "finding causality....\n",
      "6106 true causes out of 11448 total connections\n",
      "time elapsed:  921.0132939720061\n",
      "iteration:  5\n",
      "Starting surrogate generation...\n",
      "finding causality....\n",
      "5421 true causes out of 11448 total connections\n",
      "time elapsed:  861.0697943150008\n",
      "iteration:  6\n",
      "Starting surrogate generation...\n",
      "finding causality....\n",
      "5776 true causes out of 11448 total connections\n",
      "time elapsed:  916.8995998679893\n",
      "iteration:  7\n",
      "Starting surrogate generation...\n",
      "finding causality....\n",
      "6447 true causes out of 11448 total connections\n",
      "time elapsed:  871.1824030489952\n",
      "iteration:  8\n",
      "Starting surrogate generation...\n",
      "finding causality....\n",
      "6874 true causes out of 11448 total connections\n",
      "time elapsed:  902.8759210749995\n",
      "iteration:  9\n",
      "Starting surrogate generation...\n",
      "finding causality....\n",
      "6338 true causes out of 11448 total connections\n",
      "time elapsed:  845.2111621770018\n",
      "iteration:  10\n",
      "Starting surrogate generation...\n",
      "finding causality....\n",
      "6677 true causes out of 11448 total connections\n",
      "time elapsed:  932.0864852390077\n"
     ]
    }
   ],
   "source": [
    "true_causes8, tot_causes8, super_strengths8 = ragaIterator(10, '8', '8_d')"
   ],
   "metadata": {
    "collapsed": false,
    "pycharm": {
     "name": "#%%\n"
    }
   }
  },
  {
   "cell_type": "code",
   "execution_count": 4,
   "outputs": [
    {
     "data": {
      "text/plain": "6134.2"
     },
     "execution_count": 4,
     "metadata": {},
     "output_type": "execute_result"
    }
   ],
   "source": [
    "avg_conns(true_causes8)"
   ],
   "metadata": {
    "collapsed": false,
    "pycharm": {
     "name": "#%%\n"
    }
   }
  },
  {
   "cell_type": "code",
   "execution_count": 5,
   "outputs": [
    {
     "name": "stdout",
     "output_type": "stream",
     "text": [
      "iteration:  1\n",
      "Starting surrogate generation...\n",
      "finding causality....\n",
      "9704 true causes out of 11024 total connections\n",
      "time elapsed:  801.0766502699989\n",
      "iteration:  2\n",
      "Starting surrogate generation...\n",
      "finding causality....\n",
      "9229 true causes out of 11024 total connections\n",
      "time elapsed:  856.9564508819894\n",
      "iteration:  3\n",
      "Starting surrogate generation...\n",
      "finding causality....\n",
      "9526 true causes out of 11024 total connections\n",
      "time elapsed:  803.9674205709889\n",
      "iteration:  4\n",
      "Starting surrogate generation...\n",
      "finding causality....\n",
      "9610 true causes out of 11024 total connections\n",
      "time elapsed:  835.3265625630156\n",
      "iteration:  5\n",
      "Starting surrogate generation...\n",
      "finding causality....\n",
      "9272 true causes out of 11024 total connections\n",
      "time elapsed:  814.8349667309958\n",
      "iteration:  6\n",
      "Starting surrogate generation...\n",
      "finding causality....\n",
      "9363 true causes out of 11024 total connections\n",
      "time elapsed:  866.0442233679933\n",
      "iteration:  7\n",
      "Starting surrogate generation...\n",
      "finding causality....\n",
      "9974 true causes out of 11024 total connections\n",
      "time elapsed:  810.4811415970034\n",
      "iteration:  8\n",
      "Starting surrogate generation...\n",
      "finding causality....\n",
      "9804 true causes out of 11024 total connections\n",
      "time elapsed:  833.8158223780047\n",
      "iteration:  9\n",
      "Starting surrogate generation...\n",
      "finding causality....\n",
      "9432 true causes out of 11024 total connections\n",
      "time elapsed:  797.3770017579955\n",
      "iteration:  10\n",
      "Starting surrogate generation...\n",
      "finding causality....\n",
      "9586 true causes out of 11024 total connections\n",
      "time elapsed:  864.3480907650082\n"
     ]
    }
   ],
   "source": [
    "true_causes15, tot_causes15, super_strengths15 = ragaIterator(10, '15', '15_m')"
   ],
   "metadata": {
    "collapsed": false,
    "pycharm": {
     "name": "#%%\n"
    }
   }
  },
  {
   "cell_type": "code",
   "execution_count": 6,
   "outputs": [
    {
     "data": {
      "text/plain": "9550.0"
     },
     "execution_count": 6,
     "metadata": {},
     "output_type": "execute_result"
    }
   ],
   "source": [
    "avg_conns(true_causes15)"
   ],
   "metadata": {
    "collapsed": false,
    "pycharm": {
     "name": "#%%\n"
    }
   }
  },
  {
   "cell_type": "code",
   "execution_count": 7,
   "outputs": [
    {
     "name": "stdout",
     "output_type": "stream",
     "text": [
      "iteration:  1\n",
      "Starting surrogate generation...\n",
      "finding causality....\n",
      "10355 true causes out of 10812 total connections\n",
      "time elapsed:  1156.9201496790047\n",
      "iteration:  2\n",
      "Starting surrogate generation...\n",
      "finding causality....\n",
      "10352 true causes out of 10812 total connections\n",
      "time elapsed:  1217.7449357580044\n",
      "iteration:  3\n",
      "Starting surrogate generation...\n",
      "finding causality....\n",
      "10279 true causes out of 10812 total connections\n",
      "time elapsed:  1169.1817585229874\n",
      "iteration:  4\n",
      "Starting surrogate generation...\n",
      "finding causality....\n",
      "10296 true causes out of 10812 total connections\n",
      "time elapsed:  1209.3371484230156\n",
      "iteration:  5\n",
      "Starting surrogate generation...\n",
      "finding causality....\n",
      "10317 true causes out of 10812 total connections\n",
      "time elapsed:  1152.3510028019955\n",
      "iteration:  6\n",
      "Starting surrogate generation...\n",
      "finding causality....\n",
      "10445 true causes out of 10812 total connections\n",
      "time elapsed:  1211.1644248839875\n",
      "iteration:  7\n",
      "Starting surrogate generation...\n",
      "finding causality....\n",
      "10430 true causes out of 10812 total connections\n",
      "time elapsed:  1153.380622474011\n",
      "iteration:  8\n",
      "Starting surrogate generation...\n",
      "finding causality....\n",
      "10366 true causes out of 10812 total connections\n",
      "time elapsed:  1214.0774366749974\n",
      "iteration:  9\n",
      "Starting surrogate generation...\n",
      "finding causality....\n",
      "10351 true causes out of 10812 total connections\n",
      "time elapsed:  1178.1324645889981\n",
      "iteration:  10\n",
      "Starting surrogate generation...\n",
      "finding causality....\n",
      "10366 true causes out of 10812 total connections\n",
      "time elapsed:  1190.2661895519996\n"
     ]
    }
   ],
   "source": [
    "true_causes22, tot_causes22, super_strengths22 = ragaIterator(10, '22', '22_a')"
   ],
   "metadata": {
    "collapsed": false,
    "pycharm": {
     "name": "#%%\n"
    }
   }
  },
  {
   "cell_type": "code",
   "execution_count": 8,
   "outputs": [
    {
     "data": {
      "text/plain": "10355.7"
     },
     "execution_count": 8,
     "metadata": {},
     "output_type": "execute_result"
    }
   ],
   "source": [
    "avg_conns(true_causes22)"
   ],
   "metadata": {
    "collapsed": false,
    "pycharm": {
     "name": "#%%\n"
    }
   }
  },
  {
   "cell_type": "code",
   "execution_count": null,
   "outputs": [
    {
     "name": "stdout",
     "output_type": "stream",
     "text": [
      "iteration:  1\n",
      "Starting surrogate generation...\n",
      "finding causality....\n",
      "2768 true causes out of 10920 total connections\n",
      "time elapsed:  1876.0696289879852\n",
      "iteration:  2\n",
      "Starting surrogate generation...\n",
      "finding causality....\n",
      "2860 true causes out of 10920 total connections\n",
      "time elapsed:  1930.536380798003\n",
      "iteration:  3\n",
      "Starting surrogate generation...\n",
      "finding causality....\n",
      "2633 true causes out of 10920 total connections\n",
      "time elapsed:  1845.8160294019908\n",
      "iteration:  4\n",
      "Starting surrogate generation...\n",
      "finding causality....\n",
      "3214 true causes out of 10920 total connections\n",
      "time elapsed:  1914.550263779005\n",
      "iteration:  5\n",
      "Starting surrogate generation...\n",
      "finding causality....\n",
      "2932 true causes out of 10920 total connections\n",
      "time elapsed:  1858.277088355011\n",
      "iteration:  6\n",
      "Starting surrogate generation...\n",
      "finding causality....\n",
      "2495 true causes out of 10920 total connections\n",
      "time elapsed:  1931.7317277870025\n",
      "iteration:  7\n",
      "Starting surrogate generation...\n",
      "finding causality....\n",
      "3642 true causes out of 10920 total connections\n",
      "time elapsed:  1863.8306483399938\n",
      "iteration:  8\n",
      "Starting surrogate generation...\n",
      "finding causality....\n"
     ]
    }
   ],
   "source": [
    "true_causes28, tot_causes28, super_strengths28 = ragaIterator(10, '28', '28_k')"
   ],
   "metadata": {
    "collapsed": false,
    "pycharm": {
     "name": "#%%\n"
    }
   }
  },
  {
   "cell_type": "code",
   "execution_count": null,
   "outputs": [],
   "source": [
    "avg_conns(true_causes28)"
   ],
   "metadata": {
    "collapsed": false,
    "pycharm": {
     "name": "#%%\n"
    }
   }
  },
  {
   "cell_type": "code",
   "execution_count": 3,
   "outputs": [
    {
     "name": "stdout",
     "output_type": "stream",
     "text": [
      "iteration:  1\n",
      "Starting surrogate generation...\n",
      "finding causality....\n",
      "10420 true causes out of 11024 total connections\n",
      "time elapsed:  1845.302905428\n",
      "iteration:  2\n",
      "Starting surrogate generation...\n",
      "finding causality....\n",
      "10419 true causes out of 11024 total connections\n",
      "time elapsed:  1924.9272328999998\n",
      "iteration:  3\n",
      "Starting surrogate generation...\n",
      "finding causality....\n",
      "10420 true causes out of 11024 total connections\n",
      "time elapsed:  1870.1058491670005\n",
      "iteration:  4\n",
      "Starting surrogate generation...\n",
      "finding causality....\n",
      "10423 true causes out of 11024 total connections\n",
      "time elapsed:  1891.4265159909992\n",
      "iteration:  5\n",
      "Starting surrogate generation...\n",
      "finding causality....\n",
      "10421 true causes out of 11024 total connections\n",
      "time elapsed:  1863.9266423650006\n",
      "iteration:  6\n",
      "Starting surrogate generation...\n",
      "finding causality....\n",
      "10424 true causes out of 11024 total connections\n",
      "time elapsed:  1916.553394946999\n",
      "iteration:  7\n",
      "Starting surrogate generation...\n",
      "finding causality....\n",
      "10422 true causes out of 11024 total connections\n",
      "time elapsed:  1859.7492497920011\n",
      "iteration:  8\n",
      "Starting surrogate generation...\n",
      "finding causality....\n",
      "10419 true causes out of 11024 total connections\n",
      "time elapsed:  1876.514394066\n",
      "iteration:  9\n",
      "Starting surrogate generation...\n",
      "finding causality....\n",
      "10415 true causes out of 11024 total connections\n",
      "time elapsed:  1857.4108779569979\n",
      "iteration:  10\n",
      "Starting surrogate generation...\n",
      "finding causality....\n",
      "10419 true causes out of 11024 total connections\n",
      "time elapsed:  1889.1997773540024\n"
     ]
    }
   ],
   "source": [
    "true_causes29, tot_causes29, super_strengths29 = ragaIterator(10, '29', '29_h')\n"
   ],
   "metadata": {
    "collapsed": false,
    "pycharm": {
     "name": "#%%\n"
    }
   }
  },
  {
   "cell_type": "code",
   "execution_count": 4,
   "outputs": [
    {
     "data": {
      "text/plain": "10420.2"
     },
     "execution_count": 4,
     "metadata": {},
     "output_type": "execute_result"
    }
   ],
   "source": [
    "avg_conns(true_causes29)"
   ],
   "metadata": {
    "collapsed": false,
    "pycharm": {
     "name": "#%%"
    }
   }
  },
  {
   "cell_type": "code",
   "execution_count": 3,
   "outputs": [],
   "source": [
    "t_dict = {}"
   ],
   "metadata": {
    "collapsed": false,
    "pycharm": {
     "name": "#%%\n"
    }
   }
  },
  {
   "cell_type": "code",
   "execution_count": 4,
   "outputs": [
    {
     "name": "stdout",
     "output_type": "stream",
     "text": [
      "iteration:  1\n",
      "Starting surrogate generation...\n",
      "finding causality....\n",
      "2581 true causes out of 3024 total connections\n",
      "time elapsed:  243.97107663599996\n",
      "iteration:  2\n",
      "Starting surrogate generation...\n",
      "finding causality....\n",
      "2563 true causes out of 3024 total connections\n",
      "time elapsed:  231.75201903700008\n",
      "iteration:  3\n",
      "Starting surrogate generation...\n",
      "finding causality....\n",
      "2546 true causes out of 3024 total connections\n",
      "time elapsed:  244.29333018199986\n",
      "iteration:  4\n",
      "Starting surrogate generation...\n",
      "finding causality....\n",
      "2634 true causes out of 3024 total connections\n",
      "time elapsed:  235.58424717700018\n",
      "iteration:  5\n",
      "Starting surrogate generation...\n",
      "finding causality....\n",
      "2718 true causes out of 3024 total connections\n",
      "time elapsed:  238.30344848899995\n",
      "iteration:  6\n",
      "Starting surrogate generation...\n",
      "finding causality....\n",
      "2630 true causes out of 3024 total connections\n",
      "time elapsed:  239.31799904600007\n",
      "iteration:  7\n",
      "Starting surrogate generation...\n",
      "finding causality....\n",
      "2500 true causes out of 3024 total connections\n",
      "time elapsed:  242.52616505899982\n",
      "iteration:  8\n",
      "Starting surrogate generation...\n",
      "finding causality....\n",
      "2576 true causes out of 3024 total connections\n",
      "time elapsed:  245.66176574299993\n",
      "iteration:  9\n",
      "Starting surrogate generation...\n",
      "finding causality....\n",
      "2696 true causes out of 3024 total connections\n",
      "time elapsed:  240.7367524260003\n",
      "iteration:  10\n",
      "Starting surrogate generation...\n",
      "finding causality....\n",
      "2590 true causes out of 3024 total connections\n",
      "time elapsed:  243.93243832200005\n"
     ]
    }
   ],
   "source": [
    "tc15, totc15, ss15 = ragaIterator(10, '15', '15_m', times_it=t_dict)"
   ],
   "metadata": {
    "collapsed": false,
    "pycharm": {
     "name": "#%%\n"
    }
   }
  },
  {
   "cell_type": "code",
   "execution_count": 5,
   "outputs": [
    {
     "name": "stdout",
     "output_type": "stream",
     "text": [
      "iteration:  1\n",
      "Starting surrogate generation...\n",
      "finding causality....\n",
      "1700 true causes out of 3248 total connections\n",
      "time elapsed:  266.77733208200016\n",
      "iteration:  2\n",
      "Starting surrogate generation...\n",
      "finding causality....\n",
      "1694 true causes out of 3248 total connections\n",
      "time elapsed:  280.61473970999987\n",
      "iteration:  3\n",
      "Starting surrogate generation...\n",
      "finding causality....\n",
      "1677 true causes out of 3248 total connections\n",
      "time elapsed:  265.4197135879999\n",
      "iteration:  4\n",
      "Starting surrogate generation...\n",
      "finding causality....\n",
      "1534 true causes out of 3248 total connections\n",
      "time elapsed:  269.75789616300017\n",
      "iteration:  5\n",
      "Starting surrogate generation...\n",
      "finding causality....\n",
      "1923 true causes out of 3248 total connections\n",
      "time elapsed:  274.9748076799997\n",
      "iteration:  6\n",
      "Starting surrogate generation...\n",
      "finding causality....\n",
      "1755 true causes out of 3248 total connections\n",
      "time elapsed:  261.02548072000036\n",
      "iteration:  7\n",
      "Starting surrogate generation...\n",
      "finding causality....\n",
      "1593 true causes out of 3248 total connections\n",
      "time elapsed:  274.8664208250002\n",
      "iteration:  8\n",
      "Starting surrogate generation...\n",
      "finding causality....\n",
      "1599 true causes out of 3248 total connections\n",
      "time elapsed:  274.5157678229998\n",
      "iteration:  9\n",
      "Starting surrogate generation...\n",
      "finding causality....\n",
      "2028 true causes out of 3248 total connections\n",
      "time elapsed:  273.03197538399945\n",
      "iteration:  10\n",
      "Starting surrogate generation...\n",
      "finding causality....\n",
      "2010 true causes out of 3248 total connections\n",
      "time elapsed:  265.12587522300055\n"
     ]
    }
   ],
   "source": [
    "tc8, totc8, ss8 = ragaIterator(10, '8', '8_d', times_it=t_dict)"
   ],
   "metadata": {
    "collapsed": false,
    "pycharm": {
     "name": "#%%\n"
    }
   }
  },
  {
   "cell_type": "code",
   "execution_count": 6,
   "outputs": [
    {
     "name": "stdout",
     "output_type": "stream",
     "text": [
      "iteration:  1\n",
      "Starting surrogate generation...\n",
      "finding causality....\n",
      "2659 true causes out of 2912 total connections\n",
      "time elapsed:  331.04775068599974\n",
      "iteration:  2\n",
      "Starting surrogate generation...\n",
      "finding causality....\n",
      "2680 true causes out of 2912 total connections\n",
      "time elapsed:  333.4156561509999\n",
      "iteration:  3\n",
      "Starting surrogate generation...\n",
      "finding causality....\n",
      "2664 true causes out of 2912 total connections\n",
      "time elapsed:  336.4771074\n",
      "iteration:  4\n",
      "Starting surrogate generation...\n",
      "finding causality....\n",
      "2699 true causes out of 2912 total connections\n",
      "time elapsed:  351.9021121370006\n",
      "iteration:  5\n",
      "Starting surrogate generation...\n",
      "finding causality....\n",
      "2694 true causes out of 2912 total connections\n",
      "time elapsed:  346.8454231279993\n",
      "iteration:  6\n",
      "Starting surrogate generation...\n",
      "finding causality....\n",
      "2658 true causes out of 2912 total connections\n",
      "time elapsed:  336.54188785099996\n",
      "iteration:  7\n",
      "Starting surrogate generation...\n",
      "finding causality....\n",
      "2659 true causes out of 2912 total connections\n",
      "time elapsed:  332.6406179300002\n",
      "iteration:  8\n",
      "Starting surrogate generation...\n",
      "finding causality....\n",
      "2701 true causes out of 2912 total connections\n",
      "time elapsed:  336.0965309410003\n",
      "iteration:  9\n",
      "Starting surrogate generation...\n",
      "finding causality....\n",
      "2688 true causes out of 2912 total connections\n",
      "time elapsed:  345.7965676869999\n",
      "iteration:  10\n",
      "Starting surrogate generation...\n",
      "finding causality....\n",
      "2696 true causes out of 2912 total connections\n",
      "time elapsed:  340.04137053500017\n"
     ]
    }
   ],
   "source": [
    "tc22, totc22, ss22 = ragaIterator(10, '22', '22_a', times_it=t_dict)"
   ],
   "metadata": {
    "collapsed": false,
    "pycharm": {
     "name": "#%%\n"
    }
   }
  },
  {
   "cell_type": "code",
   "execution_count": 7,
   "outputs": [
    {
     "name": "stdout",
     "output_type": "stream",
     "text": [
      "iteration:  1\n",
      "Starting surrogate generation...\n",
      "finding causality....\n",
      "772 true causes out of 2970 total connections\n",
      "time elapsed:  533.7588575379996\n",
      "iteration:  2\n",
      "Starting surrogate generation...\n",
      "finding causality....\n",
      "1033 true causes out of 2970 total connections\n",
      "time elapsed:  539.2980058150006\n",
      "iteration:  3\n",
      "Starting surrogate generation...\n",
      "finding causality....\n",
      "911 true causes out of 2970 total connections\n",
      "time elapsed:  533.8941850080009\n",
      "iteration:  4\n",
      "Starting surrogate generation...\n",
      "finding causality....\n",
      "784 true causes out of 2970 total connections\n",
      "time elapsed:  532.285945571999\n",
      "iteration:  5\n",
      "Starting surrogate generation...\n",
      "finding causality....\n",
      "907 true causes out of 2970 total connections\n",
      "time elapsed:  524.6445312630003\n",
      "iteration:  6\n",
      "Starting surrogate generation...\n",
      "finding causality....\n",
      "939 true causes out of 2970 total connections\n",
      "time elapsed:  524.527202366\n",
      "iteration:  7\n",
      "Starting surrogate generation...\n",
      "finding causality....\n",
      "923 true causes out of 2970 total connections\n",
      "time elapsed:  531.0497723789995\n",
      "iteration:  8\n",
      "Starting surrogate generation...\n",
      "finding causality....\n",
      "1083 true causes out of 2970 total connections\n",
      "time elapsed:  531.4435931910011\n",
      "iteration:  9\n",
      "Starting surrogate generation...\n",
      "finding causality....\n",
      "908 true causes out of 2970 total connections\n",
      "time elapsed:  535.2951023679998\n",
      "iteration:  10\n",
      "Starting surrogate generation...\n",
      "finding causality....\n",
      "729 true causes out of 2970 total connections\n",
      "time elapsed:  528.3661812150003\n"
     ]
    }
   ],
   "source": [
    "tc28, totc28, ss28 = ragaIterator(10, '28', '28_k', times_it=t_dict)"
   ],
   "metadata": {
    "collapsed": false,
    "pycharm": {
     "name": "#%%\n"
    }
   }
  },
  {
   "cell_type": "code",
   "execution_count": null,
   "outputs": [
    {
     "name": "stdout",
     "output_type": "stream",
     "text": [
      "iteration:  1\n",
      "Starting surrogate generation...\n",
      "finding causality....\n",
      "2720 true causes out of 3024 total connections\n",
      "time elapsed:  538.1137518249998\n",
      "iteration:  2\n",
      "Starting surrogate generation...\n",
      "finding causality....\n",
      "2720 true causes out of 3024 total connections\n",
      "time elapsed:  528.3808838740006\n",
      "iteration:  3\n",
      "Starting surrogate generation...\n",
      "finding causality....\n",
      "2721 true causes out of 3024 total connections\n",
      "time elapsed:  537.1447102499988\n",
      "iteration:  4\n",
      "Starting surrogate generation...\n",
      "finding causality....\n",
      "2721 true causes out of 3024 total connections\n",
      "time elapsed:  532.4931929600007\n",
      "iteration:  5\n",
      "Starting surrogate generation...\n",
      "finding causality....\n",
      "2733 true causes out of 3024 total connections\n",
      "time elapsed:  530.0610519940001\n",
      "iteration:  6\n",
      "Starting surrogate generation...\n",
      "finding causality....\n",
      "2720 true causes out of 3024 total connections\n",
      "time elapsed:  540.2443348720008\n",
      "iteration:  7\n",
      "Starting surrogate generation...\n",
      "finding causality....\n",
      "2721 true causes out of 3024 total connections\n",
      "time elapsed:  538.7313264759978\n",
      "iteration:  8\n",
      "Starting surrogate generation...\n",
      "finding causality....\n",
      "2722 true causes out of 3024 total connections\n",
      "time elapsed:  532.3162098130015\n",
      "iteration:  9\n",
      "Starting surrogate generation...\n",
      "finding causality....\n",
      "2723 true causes out of 3024 total connections\n",
      "time elapsed:  536.2280391050008\n",
      "iteration:  10\n",
      "Starting surrogate generation...\n",
      "finding causality....\n"
     ]
    }
   ],
   "source": [
    "tc29, totc29, ss29 = ragaIterator(10, '29', '29_h', times_it=t_dict)"
   ],
   "metadata": {
    "collapsed": false,
    "pycharm": {
     "name": "#%%\n",
     "is_executing": true
    }
   }
  },
  {
   "cell_type": "code",
   "execution_count": null,
   "outputs": [],
   "source": [
    "t_dict"
   ],
   "metadata": {
    "collapsed": false,
    "pycharm": {
     "name": "#%%\n",
     "is_executing": true
    }
   }
  }
 ],
 "metadata": {
  "kernelspec": {
   "display_name": "Python 3",
   "language": "python",
   "name": "python3"
  },
  "language_info": {
   "codemirror_mode": {
    "name": "ipython",
    "version": 2
   },
   "file_extension": ".py",
   "mimetype": "text/x-python",
   "name": "python",
   "nbconvert_exporter": "python",
   "pygments_lexer": "ipython2",
   "version": "2.7.6"
  }
 },
 "nbformat": 4,
 "nbformat_minor": 0
}