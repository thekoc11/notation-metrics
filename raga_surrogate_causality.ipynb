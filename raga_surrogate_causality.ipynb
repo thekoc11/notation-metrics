{
 "cells": [
  {
   "cell_type": "code",
   "execution_count": 2,
   "metadata": {
    "collapsed": true
   },
   "outputs": [],
   "source": [
    "import time\n",
    "\n",
    "from utils import dataStructures, dataset, parallelizer\n",
    "from utils.generators import markovian\n",
    "import numpy as np\n"
   ]
  },
  {
   "cell_type": "code",
   "execution_count": 3,
   "outputs": [],
   "source": [
    "def print_correct(mela_id='22', janya_id='22_a', num_surr=100, surr_serial=False, time_cal=None):\n",
    "    dat = dataset.GetRagaSongCoordsConcat(mela_id, janya_id)\n",
    "    # dat1 = dataset.GetRagaSongCoords(janya_id)\n",
    "    if time_cal is not None:\n",
    "        assert isinstance(time_cal, dict)\n",
    "    print(\"Starting surrogate generation...\")\n",
    "    t1 = time.perf_counter()\n",
    "    d_surr1 = markovian.GenerateForRaga(mela_id, num_surr, serial=surr_serial)\n",
    "    d_surr2 = markovian.GenerateForRaga(janya_id, num_surr, serial=surr_serial)\n",
    "    t2 = time.perf_counter()\n",
    "    for key in dat:\n",
    "        dat[key] = dataStructures.PackTuples(*dat[key])\n",
    "\n",
    "    # for key in dat1:\n",
    "    #     dat1[key] = dataStructures.PackTuples(*dat1[key])\n",
    "\n",
    "    d_fin1 = dataset.ConcatenateDicts(dat, d_surr1, d_surr2)\n",
    "    adj = dataset.GetAdjustedMelodies(d_fin1, pre_min_len=35000)\n",
    "    print(\"finding causality....\")\n",
    "    t3 = time.perf_counter()\n",
    "    tc, totc, strengths = parallelizer.TrueLZPCausality_listParallel(list(adj.values()), list(adj.keys()), mela=dataset.GetRagaFromRagaId(mela_id))\n",
    "    t4 = time.perf_counter()\n",
    "\n",
    "    if time_cal is not None:\n",
    "        time_cal[\"Surrogate{}\".format(mela_id)] = t2 - t1\n",
    "        time_cal[\"Causality{}\".format(mela_id)] = t4 - t3\n",
    "    return tc, totc, strengths\n",
    "\n",
    "def get_generation_time50(mela_id='22', janya_id='22_a', surr_serial=True):\n",
    "    dat = dataset.GetRagaSongCoordsConcat(mela_id)\n",
    "    dat1 = dataset.GetRagaSongCoords(janya_id)\n",
    "    print(\"Starting surrogate generation...\")\n",
    "    t1 = time.perf_counter()\n",
    "    d_surr1 = markovian.GenerateForRaga(mela_id, 50, serial=surr_serial)\n",
    "    d_surr2 = markovian.GenerateForRaga(janya_id, 50, serial=surr_serial)\n",
    "    t2 = time.perf_counter()\n",
    "    for key in dat:\n",
    "        dat[key] = dataStructures.PackTuples(*dat[key])\n",
    "\n",
    "    for key in dat1:\n",
    "        dat1[key] = dataStructures.PackTuples(*dat1[key])\n",
    "\n",
    "    d_fin1 = dataset.ConcatenateDicts(dat, d_surr1, dat1, d_surr2)\n",
    "    adj = dataset.GetAdjustedMelodies(d_fin1)\n",
    "\n",
    "    return t2 - t1\n",
    "\n",
    "\n",
    "def ragaIterator(n_iters, mela, janya, num_surrogates=100, write=True, times_it=None):\n",
    "    if times_it is not None:\n",
    "        assert isinstance(times_it, dict)\n",
    "        times_it[\"Surrogate{}\".format(mela)] = []\n",
    "        times_it[\"Causality{}\".format(mela)] = []\n",
    "    tcs = []\n",
    "    strengths = []\n",
    "    totcs = []\n",
    "    f = open(\"/home/abhisheknandekar/surr_stats/{}/truecauses{}.txt\".format(mela, num_surrogates), \"a\")\n",
    "    t1 = time.perf_counter()\n",
    "    for i in range(n_iters):\n",
    "        print(\"iteration: \", i + 1)\n",
    "        tm = {}\n",
    "        if i % 2 != 0:\n",
    "            tc, totc, st = print_correct(mela, janya, num_surr=num_surrogates, surr_serial=True, time_cal=tm)\n",
    "        else:\n",
    "            tc, totc, st = print_correct(mela, janya, num_surr=num_surrogates, surr_serial=True, time_cal=tm)\n",
    "        if times_it is not None:\n",
    "            times_it[\"Surrogate{}\".format(mela)].append(tm[\"Surrogate{}\".format(mela)])\n",
    "            times_it[\"Causality{}\".format(mela)].append(tm[\"Causality{}\".format(mela)])\n",
    "        if write:\n",
    "            f.write(\"iteration: {}/{}, {}/{}; time taken: {}/{}\\n\".format(i+1, n_iters, tc, totc,\n",
    "                                                                          tm[\"Surrogate{}\".format(mela)],\n",
    "                                                                          tm[\"Causality{}\".format(mela)]))\n",
    "        t = time.perf_counter()\n",
    "        print(\"time elapsed: \", (t - t1))\n",
    "        t1 = t\n",
    "        tcs.append(tc)\n",
    "        totcs.append(totc)\n",
    "        strengths.append(st)\n",
    "    f.close()\n",
    "    return tcs, totcs, strengths\n",
    "\n",
    "avg_conns = lambda t_c : np.array(t_c).mean()"
   ],
   "metadata": {
    "collapsed": false,
    "pycharm": {
     "name": "#%%\n"
    }
   }
  },
  {
   "cell_type": "markdown",
   "source": [
    "## 100 Surrogates"
   ],
   "metadata": {
    "collapsed": false,
    "pycharm": {
     "name": "#%% md\n"
    }
   }
  },
  {
   "cell_type": "code",
   "execution_count": 1,
   "outputs": [],
   "source": [
    "t_dict = {}"
   ],
   "metadata": {
    "collapsed": false,
    "pycharm": {
     "name": "#%%\n"
    }
   }
  },
  {
   "cell_type": "code",
   "execution_count": 4,
   "outputs": [
    {
     "name": "stdout",
     "output_type": "stream",
     "text": [
      "iteration:  1\n",
      "Starting surrogate generation...\n"
     ]
    },
    {
     "name": "stderr",
     "output_type": "stream",
     "text": [
      "100%|██████████| 100/100 [00:23<00:00,  4.24it/s]\n",
      "100%|██████████| 100/100 [00:28<00:00,  3.49it/s]\n"
     ]
    },
    {
     "name": "stdout",
     "output_type": "stream",
     "text": [
      "finding causality....\n",
      "9136 true causes out of 11024 total connections\n",
      "time elapsed:  659.1460676810001\n",
      "iteration:  2\n",
      "Starting surrogate generation...\n"
     ]
    },
    {
     "name": "stderr",
     "output_type": "stream",
     "text": [
      "100%|██████████| 100/100 [00:21<00:00,  4.62it/s]\n",
      "100%|██████████| 100/100 [00:34<00:00,  2.88it/s]\n"
     ]
    },
    {
     "name": "stdout",
     "output_type": "stream",
     "text": [
      "finding causality....\n",
      "8604 true causes out of 11024 total connections\n",
      "time elapsed:  662.554892328\n",
      "iteration:  3\n",
      "Starting surrogate generation...\n"
     ]
    },
    {
     "name": "stderr",
     "output_type": "stream",
     "text": [
      "100%|██████████| 100/100 [00:43<00:00,  2.29it/s]\n",
      "100%|██████████| 100/100 [00:20<00:00,  4.77it/s]\n"
     ]
    },
    {
     "name": "stdout",
     "output_type": "stream",
     "text": [
      "finding causality....\n",
      "8929 true causes out of 11024 total connections\n",
      "time elapsed:  672.1744671040001\n",
      "iteration:  4\n",
      "Starting surrogate generation...\n"
     ]
    },
    {
     "name": "stderr",
     "output_type": "stream",
     "text": [
      "100%|██████████| 100/100 [00:32<00:00,  3.04it/s]\n",
      "100%|██████████| 100/100 [00:40<00:00,  2.48it/s]\n"
     ]
    },
    {
     "name": "stdout",
     "output_type": "stream",
     "text": [
      "finding causality....\n",
      "8974 true causes out of 11024 total connections\n",
      "time elapsed:  675.3165285239998\n",
      "iteration:  5\n",
      "Starting surrogate generation...\n"
     ]
    },
    {
     "name": "stderr",
     "output_type": "stream",
     "text": [
      "100%|██████████| 100/100 [00:38<00:00,  2.59it/s]\n",
      "100%|██████████| 100/100 [00:34<00:00,  2.86it/s]\n"
     ]
    },
    {
     "name": "stdout",
     "output_type": "stream",
     "text": [
      "finding causality....\n",
      "8894 true causes out of 11024 total connections\n",
      "time elapsed:  682.9614596619999\n",
      "iteration:  6\n",
      "Starting surrogate generation...\n"
     ]
    },
    {
     "name": "stderr",
     "output_type": "stream",
     "text": [
      "100%|██████████| 100/100 [00:34<00:00,  2.89it/s]\n",
      "100%|██████████| 100/100 [00:22<00:00,  4.42it/s]\n"
     ]
    },
    {
     "name": "stdout",
     "output_type": "stream",
     "text": [
      "finding causality....\n",
      "8753 true causes out of 11024 total connections\n",
      "time elapsed:  659.2742668629999\n",
      "iteration:  7\n",
      "Starting surrogate generation...\n"
     ]
    },
    {
     "name": "stderr",
     "output_type": "stream",
     "text": [
      "100%|██████████| 100/100 [00:30<00:00,  3.30it/s]\n",
      "100%|██████████| 100/100 [00:37<00:00,  2.68it/s]\n"
     ]
    },
    {
     "name": "stdout",
     "output_type": "stream",
     "text": [
      "finding causality....\n",
      "9200 true causes out of 11024 total connections\n",
      "time elapsed:  676.0870633029999\n",
      "iteration:  8\n",
      "Starting surrogate generation...\n"
     ]
    },
    {
     "name": "stderr",
     "output_type": "stream",
     "text": [
      "100%|██████████| 100/100 [00:28<00:00,  3.46it/s]\n",
      "100%|██████████| 100/100 [00:18<00:00,  5.46it/s]\n"
     ]
    },
    {
     "name": "stdout",
     "output_type": "stream",
     "text": [
      "finding causality....\n",
      "9203 true causes out of 11024 total connections\n",
      "time elapsed:  649.5606253370006\n",
      "iteration:  9\n",
      "Starting surrogate generation...\n"
     ]
    },
    {
     "name": "stderr",
     "output_type": "stream",
     "text": [
      "100%|██████████| 100/100 [00:30<00:00,  3.30it/s]\n",
      "100%|██████████| 100/100 [00:24<00:00,  4.15it/s]\n"
     ]
    },
    {
     "name": "stdout",
     "output_type": "stream",
     "text": [
      "finding causality....\n",
      "8938 true causes out of 11024 total connections\n",
      "time elapsed:  661.9708455669997\n",
      "iteration:  10\n",
      "Starting surrogate generation...\n"
     ]
    },
    {
     "name": "stderr",
     "output_type": "stream",
     "text": [
      "100%|██████████| 100/100 [00:42<00:00,  2.35it/s]\n",
      "100%|██████████| 100/100 [00:30<00:00,  3.26it/s]\n"
     ]
    },
    {
     "name": "stdout",
     "output_type": "stream",
     "text": [
      "finding causality....\n",
      "9033 true causes out of 11024 total connections\n",
      "time elapsed:  682.8012124899997\n"
     ]
    }
   ],
   "source": [
    "tc15, totc15, ss15 = ragaIterator(10, '15', '15_m', num_surrogates=100, times_it=t_dict)"
   ],
   "metadata": {
    "collapsed": false,
    "pycharm": {
     "name": "#%%\n"
    }
   }
  },
  {
   "cell_type": "code",
   "execution_count": 5,
   "outputs": [
    {
     "data": {
      "text/plain": "(8966.4, 62.99191391050008, 591.8526621072998)"
     },
     "execution_count": 5,
     "metadata": {},
     "output_type": "execute_result"
    }
   ],
   "source": [
    "avg_conns(tc15), avg_conns(t_dict[\"Surrogate15\"]), avg_conns(t_dict[\"Causality15\"])"
   ],
   "metadata": {
    "collapsed": false,
    "pycharm": {
     "name": "#%%\n"
    }
   }
  },
  {
   "cell_type": "code",
   "execution_count": 6,
   "outputs": [
    {
     "name": "stdout",
     "output_type": "stream",
     "text": [
      "iteration:  1\n",
      "Starting surrogate generation...\n"
     ]
    },
    {
     "name": "stderr",
     "output_type": "stream",
     "text": [
      "100%|██████████| 100/100 [00:42<00:00,  2.34it/s]\n",
      "100%|██████████| 100/100 [00:44<00:00,  2.23it/s]\n"
     ]
    },
    {
     "name": "stdout",
     "output_type": "stream",
     "text": [
      "finding causality....\n",
      "2345 true causes out of 11340 total connections\n",
      "time elapsed:  857.3662240640006\n",
      "iteration:  2\n",
      "Starting surrogate generation...\n"
     ]
    },
    {
     "name": "stderr",
     "output_type": "stream",
     "text": [
      "100%|██████████| 100/100 [00:24<00:00,  4.04it/s]\n",
      "100%|██████████| 100/100 [00:31<00:00,  3.15it/s]\n"
     ]
    },
    {
     "name": "stdout",
     "output_type": "stream",
     "text": [
      "finding causality....\n",
      "2355 true causes out of 11340 total connections\n",
      "time elapsed:  831.4755920369989\n",
      "iteration:  3\n",
      "Starting surrogate generation...\n"
     ]
    },
    {
     "name": "stderr",
     "output_type": "stream",
     "text": [
      "100%|██████████| 100/100 [00:38<00:00,  2.59it/s]\n",
      "100%|██████████| 100/100 [00:32<00:00,  3.05it/s]\n"
     ]
    },
    {
     "name": "stdout",
     "output_type": "stream",
     "text": [
      "finding causality....\n",
      "2496 true causes out of 11340 total connections\n",
      "time elapsed:  844.2846857640016\n",
      "iteration:  4\n",
      "Starting surrogate generation...\n"
     ]
    },
    {
     "name": "stderr",
     "output_type": "stream",
     "text": [
      "100%|██████████| 100/100 [00:24<00:00,  4.04it/s]\n",
      "100%|██████████| 100/100 [00:41<00:00,  2.39it/s]\n"
     ]
    },
    {
     "name": "stdout",
     "output_type": "stream",
     "text": [
      "finding causality....\n",
      "2861 true causes out of 11340 total connections\n",
      "time elapsed:  833.7153678969989\n",
      "iteration:  5\n",
      "Starting surrogate generation...\n"
     ]
    },
    {
     "name": "stderr",
     "output_type": "stream",
     "text": [
      "100%|██████████| 100/100 [00:24<00:00,  4.04it/s]\n",
      "100%|██████████| 100/100 [00:28<00:00,  3.56it/s]\n"
     ]
    },
    {
     "name": "stdout",
     "output_type": "stream",
     "text": [
      "finding causality....\n",
      "2112 true causes out of 11340 total connections\n",
      "time elapsed:  828.2872987890005\n",
      "iteration:  6\n",
      "Starting surrogate generation...\n"
     ]
    },
    {
     "name": "stderr",
     "output_type": "stream",
     "text": [
      "100%|██████████| 100/100 [00:28<00:00,  3.52it/s]\n",
      "100%|██████████| 100/100 [00:43<00:00,  2.32it/s]\n"
     ]
    },
    {
     "name": "stdout",
     "output_type": "stream",
     "text": [
      "finding causality....\n",
      "2523 true causes out of 11340 total connections\n",
      "time elapsed:  846.0073778740007\n",
      "iteration:  7\n",
      "Starting surrogate generation...\n"
     ]
    },
    {
     "name": "stderr",
     "output_type": "stream",
     "text": [
      "100%|██████████| 100/100 [00:51<00:00,  1.96it/s]\n",
      "100%|██████████| 100/100 [00:44<00:00,  2.24it/s]\n"
     ]
    },
    {
     "name": "stdout",
     "output_type": "stream",
     "text": [
      "finding causality....\n",
      "2095 true causes out of 11340 total connections\n",
      "time elapsed:  869.7869120389987\n",
      "iteration:  8\n",
      "Starting surrogate generation...\n"
     ]
    },
    {
     "name": "stderr",
     "output_type": "stream",
     "text": [
      "100%|██████████| 100/100 [00:28<00:00,  3.49it/s]\n",
      "100%|██████████| 100/100 [00:26<00:00,  3.77it/s]\n"
     ]
    },
    {
     "name": "stdout",
     "output_type": "stream",
     "text": [
      "finding causality....\n",
      "2112 true causes out of 11340 total connections\n",
      "time elapsed:  839.3787903020002\n",
      "iteration:  9\n",
      "Starting surrogate generation...\n"
     ]
    },
    {
     "name": "stderr",
     "output_type": "stream",
     "text": [
      "100%|██████████| 100/100 [00:23<00:00,  4.20it/s]\n",
      "100%|██████████| 100/100 [00:52<00:00,  1.90it/s]\n"
     ]
    },
    {
     "name": "stdout",
     "output_type": "stream",
     "text": [
      "finding causality....\n",
      "2299 true causes out of 11340 total connections\n",
      "time elapsed:  853.146232993\n",
      "iteration:  10\n",
      "Starting surrogate generation...\n"
     ]
    },
    {
     "name": "stderr",
     "output_type": "stream",
     "text": [
      "100%|██████████| 100/100 [00:23<00:00,  4.33it/s]\n",
      "100%|██████████| 100/100 [00:42<00:00,  2.36it/s]\n"
     ]
    },
    {
     "name": "stdout",
     "output_type": "stream",
     "text": [
      "finding causality....\n",
      "2203 true causes out of 11340 total connections\n",
      "time elapsed:  840.0987311130011\n"
     ]
    }
   ],
   "source": [
    "tc8, totc8, ss8 = ragaIterator(10, '8', '8_d', num_surrogates=100, times_it=t_dict)"
   ],
   "metadata": {
    "collapsed": false,
    "pycharm": {
     "name": "#%%\n"
    }
   }
  },
  {
   "cell_type": "code",
   "execution_count": 7,
   "outputs": [
    {
     "data": {
      "text/plain": "(2340.1, 71.91551117910012, 759.5560830447998)"
     },
     "execution_count": 7,
     "metadata": {},
     "output_type": "execute_result"
    }
   ],
   "source": [
    "avg_conns(tc8), avg_conns(t_dict[\"Surrogate8\"]), avg_conns(t_dict[\"Causality8\"])"
   ],
   "metadata": {
    "collapsed": false,
    "pycharm": {
     "name": "#%%\n"
    }
   }
  },
  {
   "cell_type": "code",
   "execution_count": 8,
   "outputs": [
    {
     "name": "stdout",
     "output_type": "stream",
     "text": [
      "iteration:  1\n",
      "Starting surrogate generation...\n"
     ]
    },
    {
     "name": "stderr",
     "output_type": "stream",
     "text": [
      "100%|██████████| 100/100 [00:34<00:00,  2.86it/s]\n",
      "100%|██████████| 100/100 [00:31<00:00,  3.19it/s]\n"
     ]
    },
    {
     "name": "stdout",
     "output_type": "stream",
     "text": [
      "finding causality....\n",
      "9141 true causes out of 10918 total connections\n",
      "time elapsed:  704.242323855\n",
      "iteration:  2\n",
      "Starting surrogate generation...\n"
     ]
    },
    {
     "name": "stderr",
     "output_type": "stream",
     "text": [
      "100%|██████████| 100/100 [00:22<00:00,  4.43it/s]\n",
      "100%|██████████| 100/100 [00:33<00:00,  2.99it/s]\n"
     ]
    },
    {
     "name": "stdout",
     "output_type": "stream",
     "text": [
      "finding causality....\n",
      "9660 true causes out of 10918 total connections\n",
      "time elapsed:  703.9211227010019\n",
      "iteration:  3\n",
      "Starting surrogate generation...\n"
     ]
    },
    {
     "name": "stderr",
     "output_type": "stream",
     "text": [
      "100%|██████████| 100/100 [00:38<00:00,  2.59it/s]\n",
      "100%|██████████| 100/100 [00:21<00:00,  4.63it/s]\n"
     ]
    },
    {
     "name": "stdout",
     "output_type": "stream",
     "text": [
      "finding causality....\n",
      "9434 true causes out of 10918 total connections\n",
      "time elapsed:  698.0219475619997\n",
      "iteration:  4\n",
      "Starting surrogate generation...\n"
     ]
    },
    {
     "name": "stderr",
     "output_type": "stream",
     "text": [
      "100%|██████████| 100/100 [01:06<00:00,  1.49it/s]\n",
      "100%|██████████| 100/100 [00:22<00:00,  4.54it/s]\n"
     ]
    },
    {
     "name": "stdout",
     "output_type": "stream",
     "text": [
      "finding causality....\n",
      "9108 true causes out of 10918 total connections\n",
      "time elapsed:  732.5061548519989\n",
      "iteration:  5\n",
      "Starting surrogate generation...\n"
     ]
    },
    {
     "name": "stderr",
     "output_type": "stream",
     "text": [
      "100%|██████████| 100/100 [00:31<00:00,  3.21it/s]\n",
      "100%|██████████| 100/100 [00:27<00:00,  3.58it/s]\n"
     ]
    },
    {
     "name": "stdout",
     "output_type": "stream",
     "text": [
      "finding causality....\n",
      "9004 true causes out of 10918 total connections\n",
      "time elapsed:  702.1685137720015\n",
      "iteration:  6\n",
      "Starting surrogate generation...\n"
     ]
    },
    {
     "name": "stderr",
     "output_type": "stream",
     "text": [
      "100%|██████████| 100/100 [00:29<00:00,  3.38it/s]\n",
      "100%|██████████| 100/100 [00:49<00:00,  2.04it/s]\n"
     ]
    },
    {
     "name": "stdout",
     "output_type": "stream",
     "text": [
      "finding causality....\n",
      "9014 true causes out of 10918 total connections\n",
      "time elapsed:  727.1013082539976\n",
      "iteration:  7\n",
      "Starting surrogate generation...\n"
     ]
    },
    {
     "name": "stderr",
     "output_type": "stream",
     "text": [
      "100%|██████████| 100/100 [00:40<00:00,  2.46it/s]\n",
      "100%|██████████| 100/100 [00:23<00:00,  4.26it/s]\n"
     ]
    },
    {
     "name": "stdout",
     "output_type": "stream",
     "text": [
      "finding causality....\n",
      "8991 true causes out of 10918 total connections\n",
      "time elapsed:  698.9949920280014\n",
      "iteration:  8\n",
      "Starting surrogate generation...\n"
     ]
    },
    {
     "name": "stderr",
     "output_type": "stream",
     "text": [
      "100%|██████████| 100/100 [00:33<00:00,  3.02it/s]\n",
      "100%|██████████| 100/100 [00:27<00:00,  3.66it/s]\n"
     ]
    },
    {
     "name": "stdout",
     "output_type": "stream",
     "text": [
      "finding causality....\n",
      "8917 true causes out of 10918 total connections\n",
      "time elapsed:  705.9565186299988\n",
      "iteration:  9\n",
      "Starting surrogate generation...\n"
     ]
    },
    {
     "name": "stderr",
     "output_type": "stream",
     "text": [
      "100%|██████████| 100/100 [00:35<00:00,  2.81it/s]\n",
      "100%|██████████| 100/100 [00:32<00:00,  3.11it/s]\n"
     ]
    },
    {
     "name": "stdout",
     "output_type": "stream",
     "text": [
      "finding causality....\n",
      "9460 true causes out of 10918 total connections\n",
      "time elapsed:  713.6176983299993\n",
      "iteration:  10\n",
      "Starting surrogate generation...\n"
     ]
    },
    {
     "name": "stderr",
     "output_type": "stream",
     "text": [
      "100%|██████████| 100/100 [00:30<00:00,  3.29it/s]\n",
      "100%|██████████| 100/100 [00:31<00:00,  3.22it/s]\n"
     ]
    },
    {
     "name": "stdout",
     "output_type": "stream",
     "text": [
      "finding causality....\n",
      "9305 true causes out of 10918 total connections\n",
      "time elapsed:  708.3508505570026\n"
     ]
    }
   ],
   "source": [
    "tc22, totc22, ss22 = ragaIterator(10, '22', '22_a', num_surrogates=100, times_it=t_dict)"
   ],
   "metadata": {
    "collapsed": false,
    "pycharm": {
     "name": "#%%\n"
    }
   }
  },
  {
   "cell_type": "code",
   "execution_count": 9,
   "outputs": [
    {
     "data": {
      "text/plain": "(9203.4, 68.32840259190053, 628.1603219855002)"
     },
     "execution_count": 9,
     "metadata": {},
     "output_type": "execute_result"
    }
   ],
   "source": [
    "avg_conns(tc22), avg_conns(t_dict[\"Surrogate22\"]), avg_conns(t_dict[\"Causality22\"])"
   ],
   "metadata": {
    "collapsed": false,
    "pycharm": {
     "name": "#%%\n"
    }
   }
  },
  {
   "cell_type": "code",
   "execution_count": 10,
   "outputs": [
    {
     "name": "stdout",
     "output_type": "stream",
     "text": [
      "iteration:  1\n",
      "Starting surrogate generation...\n"
     ]
    },
    {
     "name": "stderr",
     "output_type": "stream",
     "text": [
      "100%|██████████| 100/100 [00:31<00:00,  3.13it/s]\n",
      "100%|██████████| 100/100 [00:35<00:00,  2.80it/s]\n"
     ]
    },
    {
     "name": "stdout",
     "output_type": "stream",
     "text": [
      "finding causality....\n",
      "4587 true causes out of 10920 total connections\n",
      "time elapsed:  742.0782401830002\n",
      "iteration:  2\n",
      "Starting surrogate generation...\n"
     ]
    },
    {
     "name": "stderr",
     "output_type": "stream",
     "text": [
      "100%|██████████| 100/100 [00:30<00:00,  3.23it/s]\n",
      "100%|██████████| 100/100 [00:28<00:00,  3.54it/s]\n"
     ]
    },
    {
     "name": "stdout",
     "output_type": "stream",
     "text": [
      "finding causality....\n",
      "4586 true causes out of 10920 total connections\n",
      "time elapsed:  723.3297505360024\n",
      "iteration:  3\n",
      "Starting surrogate generation...\n"
     ]
    },
    {
     "name": "stderr",
     "output_type": "stream",
     "text": [
      "100%|██████████| 100/100 [00:35<00:00,  2.78it/s]\n",
      "100%|██████████| 100/100 [00:33<00:00,  2.95it/s]\n"
     ]
    },
    {
     "name": "stdout",
     "output_type": "stream",
     "text": [
      "finding causality....\n",
      "4316 true causes out of 10920 total connections\n",
      "time elapsed:  740.7309369199975\n",
      "iteration:  4\n",
      "Starting surrogate generation...\n"
     ]
    },
    {
     "name": "stderr",
     "output_type": "stream",
     "text": [
      "100%|██████████| 100/100 [00:38<00:00,  2.58it/s]\n",
      "100%|██████████| 100/100 [00:27<00:00,  3.64it/s]\n"
     ]
    },
    {
     "name": "stdout",
     "output_type": "stream",
     "text": [
      "finding causality....\n",
      "3908 true causes out of 10920 total connections\n",
      "time elapsed:  733.2417774189998\n",
      "iteration:  5\n",
      "Starting surrogate generation...\n"
     ]
    },
    {
     "name": "stderr",
     "output_type": "stream",
     "text": [
      "100%|██████████| 100/100 [00:36<00:00,  2.78it/s]\n",
      "100%|██████████| 100/100 [00:32<00:00,  3.06it/s]\n"
     ]
    },
    {
     "name": "stdout",
     "output_type": "stream",
     "text": [
      "finding causality....\n",
      "4569 true causes out of 10920 total connections\n",
      "time elapsed:  738.986912245\n",
      "iteration:  6\n",
      "Starting surrogate generation...\n"
     ]
    },
    {
     "name": "stderr",
     "output_type": "stream",
     "text": [
      "100%|██████████| 100/100 [00:34<00:00,  2.90it/s]\n",
      "100%|██████████| 100/100 [00:33<00:00,  2.96it/s]\n"
     ]
    },
    {
     "name": "stdout",
     "output_type": "stream",
     "text": [
      "finding causality....\n",
      "4569 true causes out of 10920 total connections\n",
      "time elapsed:  737.6196853149995\n",
      "iteration:  7\n",
      "Starting surrogate generation...\n"
     ]
    },
    {
     "name": "stderr",
     "output_type": "stream",
     "text": [
      "100%|██████████| 100/100 [00:27<00:00,  3.62it/s]\n",
      "100%|██████████| 100/100 [00:23<00:00,  4.18it/s]\n"
     ]
    },
    {
     "name": "stdout",
     "output_type": "stream",
     "text": [
      "finding causality....\n",
      "4552 true causes out of 10920 total connections\n",
      "time elapsed:  717.1105441930013\n",
      "iteration:  8\n",
      "Starting surrogate generation...\n"
     ]
    },
    {
     "name": "stderr",
     "output_type": "stream",
     "text": [
      "100%|██████████| 100/100 [00:39<00:00,  2.56it/s]\n",
      "100%|██████████| 100/100 [00:43<00:00,  2.29it/s]\n"
     ]
    },
    {
     "name": "stdout",
     "output_type": "stream",
     "text": [
      "finding causality....\n",
      "3840 true causes out of 10920 total connections\n",
      "time elapsed:  750.5826354720011\n",
      "iteration:  9\n",
      "Starting surrogate generation...\n"
     ]
    },
    {
     "name": "stderr",
     "output_type": "stream",
     "text": [
      "100%|██████████| 100/100 [00:29<00:00,  3.38it/s]\n",
      "100%|██████████| 100/100 [00:31<00:00,  3.20it/s]\n"
     ]
    },
    {
     "name": "stdout",
     "output_type": "stream",
     "text": [
      "finding causality....\n",
      "3807 true causes out of 10920 total connections\n",
      "time elapsed:  721.8894819339985\n",
      "iteration:  10\n",
      "Starting surrogate generation...\n"
     ]
    },
    {
     "name": "stderr",
     "output_type": "stream",
     "text": [
      "100%|██████████| 100/100 [00:25<00:00,  3.93it/s]\n",
      "100%|██████████| 100/100 [00:32<00:00,  3.10it/s]\n"
     ]
    },
    {
     "name": "stdout",
     "output_type": "stream",
     "text": [
      "finding causality....\n",
      "4661 true causes out of 10920 total connections\n",
      "time elapsed:  722.3627313260004\n"
     ]
    }
   ],
   "source": [
    "tc28, totc28, ss28 = ragaIterator(10, '28', '28_k', num_surrogates=100, times_it=t_dict)"
   ],
   "metadata": {
    "collapsed": false,
    "pycharm": {
     "name": "#%%\n"
    }
   }
  },
  {
   "cell_type": "code",
   "execution_count": 11,
   "outputs": [
    {
     "data": {
      "text/plain": "(4339.5, 66.82670250039992, 652.9822392487004)"
     },
     "execution_count": 11,
     "metadata": {},
     "output_type": "execute_result"
    }
   ],
   "source": [
    "avg_conns(tc28), avg_conns(t_dict[\"Surrogate28\"]), avg_conns(t_dict[\"Causality28\"])"
   ],
   "metadata": {
    "collapsed": false,
    "pycharm": {
     "name": "#%%\n"
    }
   }
  },
  {
   "cell_type": "code",
   "execution_count": 12,
   "outputs": [
    {
     "name": "stdout",
     "output_type": "stream",
     "text": [
      "iteration:  1\n",
      "Starting surrogate generation...\n"
     ]
    },
    {
     "name": "stderr",
     "output_type": "stream",
     "text": [
      "100%|██████████| 100/100 [00:35<00:00,  2.86it/s]\n",
      "100%|██████████| 100/100 [00:41<00:00,  2.42it/s]\n"
     ]
    },
    {
     "name": "stdout",
     "output_type": "stream",
     "text": [
      "finding causality....\n",
      "7723 true causes out of 11024 total connections\n",
      "time elapsed:  756.4134862710016\n",
      "iteration:  2\n",
      "Starting surrogate generation...\n"
     ]
    },
    {
     "name": "stderr",
     "output_type": "stream",
     "text": [
      "100%|██████████| 100/100 [00:27<00:00,  3.67it/s]\n",
      "100%|██████████| 100/100 [00:31<00:00,  3.20it/s]\n"
     ]
    },
    {
     "name": "stdout",
     "output_type": "stream",
     "text": [
      "finding causality....\n",
      "8017 true causes out of 11024 total connections\n",
      "time elapsed:  742.8152989769987\n",
      "iteration:  3\n",
      "Starting surrogate generation...\n"
     ]
    },
    {
     "name": "stderr",
     "output_type": "stream",
     "text": [
      "100%|██████████| 100/100 [00:21<00:00,  4.64it/s]\n",
      "100%|██████████| 100/100 [00:29<00:00,  3.36it/s]\n"
     ]
    },
    {
     "name": "stdout",
     "output_type": "stream",
     "text": [
      "finding causality....\n",
      "7450 true causes out of 11024 total connections\n",
      "time elapsed:  742.1939722990028\n",
      "iteration:  4\n",
      "Starting surrogate generation...\n"
     ]
    },
    {
     "name": "stderr",
     "output_type": "stream",
     "text": [
      "100%|██████████| 100/100 [00:29<00:00,  3.44it/s]\n",
      "100%|██████████| 100/100 [00:33<00:00,  2.97it/s]\n"
     ]
    },
    {
     "name": "stdout",
     "output_type": "stream",
     "text": [
      "finding causality....\n",
      "8086 true causes out of 11024 total connections\n",
      "time elapsed:  743.586689022999\n",
      "iteration:  5\n",
      "Starting surrogate generation...\n"
     ]
    },
    {
     "name": "stderr",
     "output_type": "stream",
     "text": [
      "100%|██████████| 100/100 [00:34<00:00,  2.91it/s]\n",
      "100%|██████████| 100/100 [00:28<00:00,  3.52it/s]\n"
     ]
    },
    {
     "name": "stdout",
     "output_type": "stream",
     "text": [
      "finding causality....\n",
      "7040 true causes out of 11024 total connections\n",
      "time elapsed:  749.1487138260018\n",
      "iteration:  6\n",
      "Starting surrogate generation...\n"
     ]
    },
    {
     "name": "stderr",
     "output_type": "stream",
     "text": [
      "100%|██████████| 100/100 [00:33<00:00,  3.03it/s]\n",
      "100%|██████████| 100/100 [00:26<00:00,  3.73it/s]\n"
     ]
    },
    {
     "name": "stdout",
     "output_type": "stream",
     "text": [
      "finding causality....\n",
      "7952 true causes out of 11024 total connections\n",
      "time elapsed:  739.1944929199963\n",
      "iteration:  7\n",
      "Starting surrogate generation...\n"
     ]
    },
    {
     "name": "stderr",
     "output_type": "stream",
     "text": [
      "100%|██████████| 100/100 [00:38<00:00,  2.63it/s]\n",
      "100%|██████████| 100/100 [00:30<00:00,  3.31it/s]\n"
     ]
    },
    {
     "name": "stdout",
     "output_type": "stream",
     "text": [
      "finding causality....\n",
      "7375 true causes out of 11024 total connections\n",
      "time elapsed:  739.0695160629984\n",
      "iteration:  8\n",
      "Starting surrogate generation...\n"
     ]
    },
    {
     "name": "stderr",
     "output_type": "stream",
     "text": [
      "100%|██████████| 100/100 [00:31<00:00,  3.15it/s]\n",
      "100%|██████████| 100/100 [00:34<00:00,  2.89it/s]\n"
     ]
    },
    {
     "name": "stdout",
     "output_type": "stream",
     "text": [
      "finding causality....\n",
      "8231 true causes out of 11024 total connections\n",
      "time elapsed:  751.3106687530017\n",
      "iteration:  9\n",
      "Starting surrogate generation...\n"
     ]
    },
    {
     "name": "stderr",
     "output_type": "stream",
     "text": [
      "100%|██████████| 100/100 [00:37<00:00,  2.65it/s]\n",
      "100%|██████████| 100/100 [00:45<00:00,  2.22it/s]\n"
     ]
    },
    {
     "name": "stdout",
     "output_type": "stream",
     "text": [
      "finding causality....\n",
      "7967 true causes out of 11024 total connections\n",
      "time elapsed:  766.7958355509982\n",
      "iteration:  10\n",
      "Starting surrogate generation...\n"
     ]
    },
    {
     "name": "stderr",
     "output_type": "stream",
     "text": [
      "100%|██████████| 100/100 [00:36<00:00,  2.73it/s]\n",
      "100%|██████████| 100/100 [00:26<00:00,  3.72it/s]\n"
     ]
    },
    {
     "name": "stdout",
     "output_type": "stream",
     "text": [
      "finding causality....\n",
      "7753 true causes out of 11024 total connections\n",
      "time elapsed:  741.6658032949999\n"
     ]
    }
   ],
   "source": [
    "tc29, totc29, ss29 = ragaIterator(10, '29', '29_h', num_surrogates=100, times_it=t_dict)"
   ],
   "metadata": {
    "collapsed": false,
    "pycharm": {
     "name": "#%%"
    }
   }
  },
  {
   "cell_type": "code",
   "execution_count": 13,
   "outputs": [
    {
     "data": {
      "text/plain": "(7759.4, 66.99049650190027, 667.7164011065994)"
     },
     "execution_count": 13,
     "metadata": {},
     "output_type": "execute_result"
    }
   ],
   "source": [
    "avg_conns(tc29), avg_conns(t_dict[\"Surrogate29\"]), avg_conns(t_dict[\"Causality29\"])"
   ],
   "metadata": {
    "collapsed": false,
    "pycharm": {
     "name": "#%%\n"
    }
   }
  },
  {
   "cell_type": "code",
   "execution_count": 14,
   "outputs": [
    {
     "data": {
      "text/plain": "{'Surrogate15': [53.26868949300001,\n  57.416984490000004,\n  65.63219295199997,\n  74.16984343900003,\n  74.61059070900001,\n  58.23887661700019,\n  68.6738725109999,\n  48.17700101700029,\n  55.440457104000416,\n  74.29063077299998],\n 'Causality15': [592.3598863940001,\n  591.381109908,\n  592.825908996,\n  587.7917414099998,\n  595.133812782,\n  587.7548258839997,\n  594.1940579100001,\n  588.1832207909993,\n  593.7933637599999,\n  595.1086932379994],\n 'Surrogate8': [89.54098272700048,\n  58.45198296499984,\n  73.39187069900072,\n  68.46543324499908,\n  54.848082572998464,\n  73.66247698000006,\n  97.71908451700074,\n  57.23644118000084,\n  78.49121733200082,\n  67.34753957300018],\n 'Causality8': [755.0378918679999,\n  759.8611159019993,\n  758.2308762759985,\n  752.4552812790007,\n  760.3299102830006,\n  759.4336225900006,\n  759.0644153419998,\n  769.2846034569993,\n  761.8674483529994,\n  759.9956650980002],\n 'Surrogate22': [68.32396897400031,\n  58.05357082699993,\n  62.23361633500099,\n  91.03038601200024,\n  61.10715855500166,\n  80.770361633,\n  66.07455101300002,\n  62.38923071500176,\n  69.82081787800053,\n  63.4803639769998],\n 'Causality22': [623.1674749630001,\n  633.0941508350006,\n  622.5811221520016,\n  628.4586424839981,\n  627.7500105920008,\n  633.4278430880004,\n  619.9556073179992,\n  630.8079294070012,\n  630.7795706260003,\n  631.5808683899995],\n 'Surrogate28': [69.20682844100156,\n  60.742681216001074,\n  71.38284348399975,\n  67.76765324100052,\n  70.24192621199836,\n  69.78633377900042,\n  53.11055218000183,\n  84.32031748599911,\n  62.38932893799938,\n  59.31856002699715],\n 'Causality28': [659.8373956260002,\n  649.571158595998,\n  656.3500209690028,\n  652.3437601059995,\n  655.6319198560013,\n  654.8020381909992,\n  651.0618875889995,\n  653.319331699,\n  646.6435987680015,\n  650.2612810870014],\n 'Surrogate29': [78.13961801899859,\n  60.28006015599749,\n  53.07991083899833,\n  64.46926562299996,\n  64.46605312799875,\n  61.558249211004295,\n  70.01744484400115,\n  68.11857167300332,\n  84.4807942059997,\n  65.29499732000113],\n 'Causality29': [665.3884351139968,\n  669.6682687320026,\n  676.5497564139987,\n  666.6407251899982,\n  672.4290213189961,\n  665.3116962330023,\n  656.7394162310011,\n  670.655229516,\n  669.7507810249954,\n  664.0306812920026]}"
     },
     "execution_count": 14,
     "metadata": {},
     "output_type": "execute_result"
    }
   ],
   "source": [
    "t_dict\n"
   ],
   "metadata": {
    "collapsed": false,
    "pycharm": {
     "name": "#%%\n"
    }
   }
  },
  {
   "cell_type": "markdown",
   "source": [
    "## 50 Surrogates"
   ],
   "metadata": {
    "collapsed": false,
    "pycharm": {
     "name": "#%% md\n"
    }
   }
  },
  {
   "cell_type": "code",
   "execution_count": 3,
   "outputs": [],
   "source": [
    "t_dict = {}"
   ],
   "metadata": {
    "collapsed": false,
    "pycharm": {
     "name": "#%%\n"
    }
   }
  },
  {
   "cell_type": "code",
   "execution_count": null,
   "outputs": [
    {
     "name": "stdout",
     "output_type": "stream",
     "text": [
      "iteration:  1\n",
      "Starting surrogate generation...\n"
     ]
    },
    {
     "name": "stderr",
     "output_type": "stream",
     "text": [
      "100%|██████████| 50/50 [00:19<00:00,  2.53it/s]\n",
      " 92%|█████████▏| 46/50 [00:14<00:00,  6.13it/s]"
     ]
    }
   ],
   "source": [
    "tc15, totc15, ss15 = ragaIterator(10, '15', '15_m', num_surrogates=50, times_it=t_dict)"
   ],
   "metadata": {
    "collapsed": false,
    "pycharm": {
     "name": "#%%\n",
     "is_executing": true
    }
   }
  },
  {
   "cell_type": "code",
   "execution_count": null,
   "outputs": [],
   "source": [
    "avg_conns(tc15), avg_conns(t_dict[\"Surrogate15\"]), avg_conns(t_dict[\"Causality15\"])"
   ],
   "metadata": {
    "collapsed": false,
    "pycharm": {
     "name": "#%%\n",
     "is_executing": true
    }
   }
  },
  {
   "cell_type": "code",
   "execution_count": null,
   "outputs": [],
   "source": [
    "tc8, totc8, ss8 = ragaIterator(10, '8', '8_d', num_surrogates=50, times_it=t_dict)"
   ],
   "metadata": {
    "collapsed": false,
    "pycharm": {
     "name": "#%%\n",
     "is_executing": true
    }
   }
  },
  {
   "cell_type": "code",
   "execution_count": null,
   "outputs": [],
   "source": [
    "avg_conns(tc8), avg_conns(t_dict[\"Surrogate8\"]), avg_conns(t_dict[\"Causality8\"])"
   ],
   "metadata": {
    "collapsed": false,
    "pycharm": {
     "name": "#%%\n",
     "is_executing": true
    }
   }
  },
  {
   "cell_type": "code",
   "execution_count": null,
   "outputs": [],
   "source": [
    "tc22, totc22, ss22 = ragaIterator(10, '22', '22_a', num_surrogates=50, times_it=t_dict)"
   ],
   "metadata": {
    "collapsed": false,
    "pycharm": {
     "name": "#%%\n",
     "is_executing": true
    }
   }
  },
  {
   "cell_type": "code",
   "execution_count": null,
   "outputs": [],
   "source": [
    "avg_conns(tc22), avg_conns(t_dict[\"Surrogate22\"]), avg_conns(t_dict[\"Causality22\"])"
   ],
   "metadata": {
    "collapsed": false,
    "pycharm": {
     "name": "#%%\n",
     "is_executing": true
    }
   }
  },
  {
   "cell_type": "code",
   "execution_count": null,
   "outputs": [],
   "source": [
    "tc28, totc28, ss28 = ragaIterator(10, '28', '28_k', num_surrogates=50, times_it=t_dict)"
   ],
   "metadata": {
    "collapsed": false,
    "pycharm": {
     "name": "#%%\n",
     "is_executing": true
    }
   }
  },
  {
   "cell_type": "code",
   "execution_count": null,
   "outputs": [],
   "source": [
    "avg_conns(tc28), avg_conns(t_dict[\"Surrogate28\"]), avg_conns(t_dict[\"Causality28\"])"
   ],
   "metadata": {
    "collapsed": false,
    "pycharm": {
     "name": "#%%\n",
     "is_executing": true
    }
   }
  },
  {
   "cell_type": "code",
   "execution_count": null,
   "outputs": [],
   "source": [
    "tc29, totc29, ss29 = ragaIterator(10, '29', '29_h', num_surrogates=50, times_it=t_dict)"
   ],
   "metadata": {
    "collapsed": false,
    "pycharm": {
     "name": "#%%\n",
     "is_executing": true
    }
   }
  },
  {
   "cell_type": "code",
   "execution_count": null,
   "outputs": [],
   "source": [
    "avg_conns(tc29), avg_conns(t_dict[\"Surrogate29\"]), avg_conns(t_dict[\"Causality29\"])"
   ],
   "metadata": {
    "collapsed": false,
    "pycharm": {
     "name": "#%%\n",
     "is_executing": true
    }
   }
  },
  {
   "cell_type": "code",
   "execution_count": null,
   "outputs": [],
   "source": [
    "t_dict"
   ],
   "metadata": {
    "collapsed": false,
    "pycharm": {
     "name": "#%%\n",
     "is_executing": true
    }
   }
  },
  {
   "cell_type": "code",
   "execution_count": 3,
   "outputs": [
    {
     "name": "stdout",
     "output_type": "stream",
     "text": [
      "Starting surrogate generation...\n",
      "Starting surrogate generation...\n",
      "Starting surrogate generation...\n",
      "Starting surrogate generation...\n",
      "Starting surrogate generation...\n",
      "Starting surrogate generation...\n",
      "Starting surrogate generation...\n",
      "Starting surrogate generation...\n",
      "Starting surrogate generation...\n",
      "Starting surrogate generation...\n",
      "Starting surrogate generation...\n",
      "Starting surrogate generation...\n",
      "Starting surrogate generation...\n",
      "Starting surrogate generation...\n",
      "Starting surrogate generation...\n",
      "Starting surrogate generation...\n",
      "Starting surrogate generation...\n",
      "Starting surrogate generation...\n",
      "Starting surrogate generation...\n",
      "Starting surrogate generation...\n",
      "Starting surrogate generation...\n",
      "Starting surrogate generation...\n",
      "Starting surrogate generation...\n",
      "Starting surrogate generation...\n",
      "Starting surrogate generation...\n",
      "Starting surrogate generation...\n",
      "Starting surrogate generation...\n",
      "Starting surrogate generation...\n",
      "Starting surrogate generation...\n",
      "Starting surrogate generation...\n",
      "Starting surrogate generation...\n",
      "Starting surrogate generation...\n",
      "Starting surrogate generation...\n",
      "Starting surrogate generation...\n",
      "Starting surrogate generation...\n",
      "Starting surrogate generation...\n",
      "Starting surrogate generation...\n",
      "Starting surrogate generation...\n",
      "Starting surrogate generation...\n",
      "Starting surrogate generation...\n",
      "Starting surrogate generation...\n",
      "Starting surrogate generation...\n",
      "Starting surrogate generation...\n",
      "Starting surrogate generation...\n",
      "Starting surrogate generation...\n",
      "Starting surrogate generation...\n",
      "Starting surrogate generation...\n",
      "Starting surrogate generation...\n",
      "Starting surrogate generation...\n",
      "Starting surrogate generation...\n"
     ]
    }
   ],
   "source": [
    "gentimes8 = []\n",
    "\n",
    "for _ in range(10):\n",
    "    gentimes8.append(get_generation_time50('8', '8_d'))\n",
    "    gentimes8.append(get_generation_time50('15', '15_m'))\n",
    "    gentimes8.append(get_generation_time50('22', '22_a'))\n",
    "    gentimes8.append(get_generation_time50('28', '28_k'))\n",
    "    gentimes8.append(get_generation_time50('29', '29_h'))"
   ],
   "metadata": {
    "collapsed": false,
    "pycharm": {
     "name": "#%%\n"
    }
   }
  },
  {
   "cell_type": "code",
   "execution_count": 5,
   "outputs": [
    {
     "data": {
      "text/plain": "(33.169615245600006,\n 32.59101138219999,\n 32.932949019099965,\n 31.621566379899967,\n 32.94254417129996)"
     },
     "execution_count": 5,
     "metadata": {},
     "output_type": "execute_result"
    }
   ],
   "source": [
    "gentime8 = np.array(gentimes8[0:10]).mean()\n",
    "gentime15 = np.array(gentimes8[10:20]).mean()\n",
    "gentime22 = np.array(gentimes8[20:30]).mean()\n",
    "gentime28 = np.array(gentimes8[30:40]).mean()\n",
    "gentime29 = np.array(gentimes8[40:50]).mean()\n",
    "\n",
    "gentime8, gentime15, gentime22, gentime28, gentime29"
   ],
   "metadata": {
    "collapsed": false,
    "pycharm": {
     "name": "#%%\n"
    }
   }
  },
  {
   "cell_type": "markdown",
   "source": [
    "## 150 surrogates"
   ],
   "metadata": {
    "collapsed": false,
    "pycharm": {
     "name": "#%% md\n"
    }
   }
  },
  {
   "cell_type": "code",
   "execution_count": 6,
   "outputs": [],
   "source": [
    "t_dict = {}"
   ],
   "metadata": {
    "collapsed": false,
    "pycharm": {
     "name": "#%%\n"
    }
   }
  },
  {
   "cell_type": "code",
   "execution_count": null,
   "outputs": [
    {
     "name": "stdout",
     "output_type": "stream",
     "text": [
      "iteration:  1\n",
      "Starting surrogate generation...\n"
     ]
    },
    {
     "name": "stderr",
     "output_type": "stream",
     "text": [
      "100%|██████████| 150/150 [00:55<00:00,  2.69it/s]\n",
      "100%|██████████| 150/150 [00:54<00:00,  2.74it/s]\n"
     ]
    },
    {
     "name": "stdout",
     "output_type": "stream",
     "text": [
      "finding causality....\n",
      "20336 true causes out of 24024 total connections\n",
      "time elapsed:  1912.7792934960016\n",
      "iteration:  2\n",
      "Starting surrogate generation...\n"
     ]
    },
    {
     "name": "stderr",
     "output_type": "stream",
     "text": [
      "100%|██████████| 150/150 [00:39<00:00,  3.79it/s]\n",
      "100%|██████████| 150/150 [00:35<00:00,  4.24it/s]\n"
     ]
    },
    {
     "name": "stdout",
     "output_type": "stream",
     "text": [
      "finding causality....\n",
      "19595 true causes out of 24024 total connections\n",
      "time elapsed:  1888.3809031659985\n",
      "iteration:  3\n",
      "Starting surrogate generation...\n"
     ]
    },
    {
     "name": "stderr",
     "output_type": "stream",
     "text": [
      "100%|██████████| 150/150 [00:47<00:00,  3.14it/s]\n",
      "100%|██████████| 150/150 [00:41<00:00,  3.60it/s]\n"
     ]
    },
    {
     "name": "stdout",
     "output_type": "stream",
     "text": [
      "finding causality....\n",
      "20845 true causes out of 24024 total connections\n",
      "time elapsed:  1906.1474162939994\n",
      "iteration:  4\n",
      "Starting surrogate generation...\n"
     ]
    },
    {
     "name": "stderr",
     "output_type": "stream",
     "text": [
      "100%|██████████| 150/150 [00:45<00:00,  3.32it/s]\n",
      "100%|██████████| 150/150 [00:41<00:00,  3.64it/s]\n"
     ]
    },
    {
     "name": "stdout",
     "output_type": "stream",
     "text": [
      "finding causality....\n",
      "20604 true causes out of 24024 total connections\n",
      "time elapsed:  1900.1705254010012\n",
      "iteration:  5\n",
      "Starting surrogate generation...\n"
     ]
    },
    {
     "name": "stderr",
     "output_type": "stream",
     "text": [
      "100%|██████████| 150/150 [00:53<00:00,  2.78it/s]\n",
      "100%|██████████| 150/150 [00:51<00:00,  2.91it/s]\n"
     ]
    },
    {
     "name": "stdout",
     "output_type": "stream",
     "text": [
      "finding causality....\n",
      "20164 true causes out of 24024 total connections\n",
      "time elapsed:  1918.1216722840036\n",
      "iteration:  6\n",
      "Starting surrogate generation...\n"
     ]
    },
    {
     "name": "stderr",
     "output_type": "stream",
     "text": [
      "100%|██████████| 150/150 [00:53<00:00,  2.80it/s]\n",
      "100%|██████████| 150/150 [00:45<00:00,  3.26it/s]\n"
     ]
    },
    {
     "name": "stdout",
     "output_type": "stream",
     "text": [
      "finding causality....\n"
     ]
    }
   ],
   "source": [
    "tc15, totc15, ss15 = ragaIterator(10, '15', '15_m', num_surrogates=150, times_it=t_dict)"
   ],
   "metadata": {
    "collapsed": false,
    "pycharm": {
     "name": "#%%\n"
    }
   }
  },
  {
   "cell_type": "code",
   "execution_count": null,
   "outputs": [],
   "source": [
    "avg_conns(tc15), avg_conns(t_dict[\"Surrogate15\"]), avg_conns(t_dict[\"Causality15\"])"
   ],
   "metadata": {
    "collapsed": false,
    "pycharm": {
     "name": "#%%\n"
    }
   }
  },
  {
   "cell_type": "code",
   "execution_count": 12,
   "outputs": [
    {
     "name": "stdout",
     "output_type": "stream",
     "text": [
      "iteration:  1\n",
      "Starting surrogate generation...\n",
      "finding causality....\n",
      "14463 true causes out of 24648 total connections\n",
      "time elapsed:  2377.1097622410016\n",
      "iteration:  2\n",
      "Starting surrogate generation...\n",
      "finding causality....\n",
      "15204 true causes out of 24648 total connections\n",
      "time elapsed:  2329.3596639659954\n",
      "iteration:  3\n",
      "Starting surrogate generation...\n",
      "finding causality....\n",
      "15244 true causes out of 24648 total connections\n",
      "time elapsed:  2377.415402065002\n",
      "iteration:  4\n",
      "Starting surrogate generation...\n",
      "finding causality....\n"
     ]
    },
    {
     "name": "stderr",
     "output_type": "stream",
     "text": [
      "Process ForkPoolWorker-1040:\n",
      "Process ForkPoolWorker-1047:\n",
      "Process ForkPoolWorker-1052:\n",
      "Process ForkPoolWorker-1055:\n",
      "Process ForkPoolWorker-1034:\n",
      "Process ForkPoolWorker-1054:\n",
      "Process ForkPoolWorker-1051:\n",
      "Process ForkPoolWorker-1045:\n",
      "Process ForkPoolWorker-1046:\n",
      "Process ForkPoolWorker-1049:\n",
      "Process ForkPoolWorker-1039:\n",
      "Process ForkPoolWorker-1041:\n",
      "Process ForkPoolWorker-1056:\n",
      "Process ForkPoolWorker-1035:\n",
      "Process ForkPoolWorker-1033:\n",
      "Process ForkPoolWorker-1043:\n",
      "Process ForkPoolWorker-1048:\n",
      "Process ForkPoolWorker-1053:\n",
      "Process ForkPoolWorker-1038:\n",
      "Process ForkPoolWorker-1050:\n",
      "Traceback (most recent call last):\n",
      "Traceback (most recent call last):\n",
      "Traceback (most recent call last):\n",
      "Traceback (most recent call last):\n",
      "Traceback (most recent call last):\n",
      "Traceback (most recent call last):\n",
      "  File \"/home/abhisheknandekar/miniconda3/envs/raga/lib/python3.8/multiprocessing/process.py\", line 315, in _bootstrap\n",
      "    self.run()\n",
      "Traceback (most recent call last):\n",
      "  File \"/home/abhisheknandekar/miniconda3/envs/raga/lib/python3.8/multiprocessing/process.py\", line 315, in _bootstrap\n",
      "    self.run()\n",
      "Traceback (most recent call last):\n",
      "Traceback (most recent call last):\n",
      "Traceback (most recent call last):\n",
      "  File \"/home/abhisheknandekar/miniconda3/envs/raga/lib/python3.8/multiprocessing/process.py\", line 315, in _bootstrap\n",
      "    self.run()\n",
      "Traceback (most recent call last):\n",
      "Traceback (most recent call last):\n",
      "  File \"/home/abhisheknandekar/miniconda3/envs/raga/lib/python3.8/multiprocessing/process.py\", line 315, in _bootstrap\n",
      "    self.run()\n",
      "  File \"/home/abhisheknandekar/miniconda3/envs/raga/lib/python3.8/multiprocessing/process.py\", line 315, in _bootstrap\n",
      "    self.run()\n",
      "  File \"/home/abhisheknandekar/miniconda3/envs/raga/lib/python3.8/multiprocessing/process.py\", line 315, in _bootstrap\n",
      "    self.run()\n",
      "  File \"/home/abhisheknandekar/miniconda3/envs/raga/lib/python3.8/multiprocessing/process.py\", line 108, in run\n",
      "    self._target(*self._args, **self._kwargs)\n",
      "Traceback (most recent call last):\n",
      "Traceback (most recent call last):\n",
      "  File \"/home/abhisheknandekar/miniconda3/envs/raga/lib/python3.8/multiprocessing/process.py\", line 108, in run\n",
      "    self._target(*self._args, **self._kwargs)\n",
      "Traceback (most recent call last):\n",
      "Traceback (most recent call last):\n",
      "  File \"/home/abhisheknandekar/miniconda3/envs/raga/lib/python3.8/multiprocessing/process.py\", line 108, in run\n",
      "    self._target(*self._args, **self._kwargs)\n",
      "Traceback (most recent call last):\n",
      "  File \"/home/abhisheknandekar/miniconda3/envs/raga/lib/python3.8/multiprocessing/process.py\", line 315, in _bootstrap\n",
      "    self.run()\n",
      "  File \"/home/abhisheknandekar/miniconda3/envs/raga/lib/python3.8/multiprocessing/process.py\", line 315, in _bootstrap\n",
      "    self.run()\n",
      "  File \"/home/abhisheknandekar/miniconda3/envs/raga/lib/python3.8/multiprocessing/process.py\", line 315, in _bootstrap\n",
      "    self.run()\n",
      "Traceback (most recent call last):\n",
      "  File \"/home/abhisheknandekar/miniconda3/envs/raga/lib/python3.8/multiprocessing/process.py\", line 108, in run\n",
      "    self._target(*self._args, **self._kwargs)\n",
      "  File \"/home/abhisheknandekar/miniconda3/envs/raga/lib/python3.8/multiprocessing/process.py\", line 315, in _bootstrap\n",
      "    self.run()\n",
      "  File \"/home/abhisheknandekar/miniconda3/envs/raga/lib/python3.8/multiprocessing/process.py\", line 315, in _bootstrap\n",
      "    self.run()\n",
      "  File \"/home/abhisheknandekar/miniconda3/envs/raga/lib/python3.8/multiprocessing/process.py\", line 108, in run\n",
      "    self._target(*self._args, **self._kwargs)\n",
      "Process ForkPoolWorker-1042:\n",
      "  File \"/home/abhisheknandekar/miniconda3/envs/raga/lib/python3.8/multiprocessing/pool.py\", line 125, in worker\n",
      "    result = (True, func(*args, **kwds))\n",
      "  File \"/home/abhisheknandekar/miniconda3/envs/raga/lib/python3.8/multiprocessing/process.py\", line 315, in _bootstrap\n",
      "    self.run()\n",
      "  File \"/home/abhisheknandekar/miniconda3/envs/raga/lib/python3.8/multiprocessing/process.py\", line 108, in run\n",
      "    self._target(*self._args, **self._kwargs)\n",
      "  File \"/home/abhisheknandekar/miniconda3/envs/raga/lib/python3.8/multiprocessing/process.py\", line 315, in _bootstrap\n",
      "    self.run()\n",
      "  File \"/home/abhisheknandekar/miniconda3/envs/raga/lib/python3.8/multiprocessing/pool.py\", line 125, in worker\n",
      "    result = (True, func(*args, **kwds))\n",
      "  File \"/home/abhisheknandekar/miniconda3/envs/raga/lib/python3.8/multiprocessing/process.py\", line 315, in _bootstrap\n",
      "    self.run()\n",
      "Process ForkPoolWorker-1044:\n",
      "  File \"/home/abhisheknandekar/miniconda3/envs/raga/lib/python3.8/multiprocessing/process.py\", line 108, in run\n",
      "    self._target(*self._args, **self._kwargs)\n",
      "  File \"/home/abhisheknandekar/miniconda3/envs/raga/lib/python3.8/multiprocessing/process.py\", line 315, in _bootstrap\n",
      "    self.run()\n",
      "Traceback (most recent call last):\n",
      "  File \"/home/abhisheknandekar/miniconda3/envs/raga/lib/python3.8/multiprocessing/process.py\", line 108, in run\n",
      "    self._target(*self._args, **self._kwargs)\n",
      "  File \"/home/abhisheknandekar/miniconda3/envs/raga/lib/python3.8/multiprocessing/process.py\", line 315, in _bootstrap\n",
      "    self.run()\n",
      "  File \"/home/abhisheknandekar/miniconda3/envs/raga/lib/python3.8/multiprocessing/pool.py\", line 125, in worker\n",
      "    result = (True, func(*args, **kwds))\n",
      "  File \"/home/abhisheknandekar/miniconda3/envs/raga/lib/python3.8/multiprocessing/process.py\", line 108, in run\n",
      "    self._target(*self._args, **self._kwargs)\n",
      "  File \"/home/abhisheknandekar/miniconda3/envs/raga/lib/python3.8/multiprocessing/process.py\", line 315, in _bootstrap\n",
      "    self.run()\n",
      "  File \"/home/abhisheknandekar/miniconda3/envs/raga/lib/python3.8/multiprocessing/pool.py\", line 125, in worker\n",
      "    result = (True, func(*args, **kwds))\n",
      "  File \"/home/abhisheknandekar/miniconda3/envs/raga/lib/python3.8/multiprocessing/process.py\", line 108, in run\n",
      "    self._target(*self._args, **self._kwargs)\n",
      "Traceback (most recent call last):\n",
      "  File \"/home/abhisheknandekar/miniconda3/envs/raga/lib/python3.8/multiprocessing/process.py\", line 315, in _bootstrap\n",
      "    self.run()\n",
      "  File \"/home/abhisheknandekar/miniconda3/envs/raga/lib/python3.8/multiprocessing/process.py\", line 108, in run\n",
      "    self._target(*self._args, **self._kwargs)\n",
      "  File \"/home/abhisheknandekar/miniconda3/envs/raga/lib/python3.8/multiprocessing/process.py\", line 108, in run\n",
      "    self._target(*self._args, **self._kwargs)\n",
      "  File \"/home/abhisheknandekar/miniconda3/envs/raga/lib/python3.8/multiprocessing/pool.py\", line 51, in starmapstar\n",
      "    return list(itertools.starmap(args[0], args[1]))\n",
      "  File \"/home/abhisheknandekar/miniconda3/envs/raga/lib/python3.8/multiprocessing/pool.py\", line 125, in worker\n",
      "    result = (True, func(*args, **kwds))\n",
      "  File \"/home/abhisheknandekar/miniconda3/envs/raga/lib/python3.8/multiprocessing/process.py\", line 108, in run\n",
      "    self._target(*self._args, **self._kwargs)\n",
      "  File \"/home/abhisheknandekar/miniconda3/envs/raga/lib/python3.8/multiprocessing/pool.py\", line 125, in worker\n",
      "    result = (True, func(*args, **kwds))\n",
      "  File \"/home/abhisheknandekar/miniconda3/envs/raga/lib/python3.8/multiprocessing/pool.py\", line 51, in starmapstar\n",
      "    return list(itertools.starmap(args[0], args[1]))\n",
      "  File \"/home/abhisheknandekar/miniconda3/envs/raga/lib/python3.8/multiprocessing/process.py\", line 108, in run\n",
      "    self._target(*self._args, **self._kwargs)\n",
      "  File \"/home/abhisheknandekar/miniconda3/envs/raga/lib/python3.8/multiprocessing/pool.py\", line 125, in worker\n",
      "    result = (True, func(*args, **kwds))\n",
      "  File \"/home/abhisheknandekar/miniconda3/envs/raga/lib/python3.8/multiprocessing/pool.py\", line 125, in worker\n",
      "    result = (True, func(*args, **kwds))\n",
      "  File \"/home/abhisheknandekar/miniconda3/envs/raga/lib/python3.8/multiprocessing/process.py\", line 108, in run\n",
      "    self._target(*self._args, **self._kwargs)\n",
      "  File \"/home/abhisheknandekar/miniconda3/envs/raga/lib/python3.8/multiprocessing/pool.py\", line 125, in worker\n",
      "    result = (True, func(*args, **kwds))\n",
      "  File \"/home/abhisheknandekar/miniconda3/envs/raga/lib/python3.8/multiprocessing/process.py\", line 315, in _bootstrap\n",
      "    self.run()\n",
      "  File \"/home/abhisheknandekar/miniconda3/envs/raga/lib/python3.8/multiprocessing/process.py\", line 108, in run\n",
      "    self._target(*self._args, **self._kwargs)\n",
      "  File \"/home/abhisheknandekar/miniconda3/envs/raga/lib/python3.8/multiprocessing/pool.py\", line 51, in starmapstar\n",
      "    return list(itertools.starmap(args[0], args[1]))\n",
      "  File \"/home/abhisheknandekar/miniconda3/envs/raga/lib/python3.8/site-packages/ETC/CCMC/pairs.py\", line 428, in CCM_causality\n",
      "    ETC_causality(\n",
      "  File \"/home/abhisheknandekar/miniconda3/envs/raga/lib/python3.8/multiprocessing/pool.py\", line 51, in starmapstar\n",
      "    return list(itertools.starmap(args[0], args[1]))\n",
      "  File \"/home/abhisheknandekar/miniconda3/envs/raga/lib/python3.8/multiprocessing/pool.py\", line 125, in worker\n",
      "    result = (True, func(*args, **kwds))\n",
      "  File \"/home/abhisheknandekar/miniconda3/envs/raga/lib/python3.8/multiprocessing/pool.py\", line 125, in worker\n",
      "    result = (True, func(*args, **kwds))\n",
      "  File \"/home/abhisheknandekar/miniconda3/envs/raga/lib/python3.8/multiprocessing/pool.py\", line 51, in starmapstar\n",
      "    return list(itertools.starmap(args[0], args[1]))\n",
      "  File \"/home/abhisheknandekar/miniconda3/envs/raga/lib/python3.8/multiprocessing/process.py\", line 108, in run\n",
      "    self._target(*self._args, **self._kwargs)\n",
      "  File \"/home/abhisheknandekar/miniconda3/envs/raga/lib/python3.8/multiprocessing/process.py\", line 315, in _bootstrap\n",
      "    self.run()\n",
      "  File \"/home/abhisheknandekar/miniconda3/envs/raga/lib/python3.8/multiprocessing/pool.py\", line 125, in worker\n",
      "    result = (True, func(*args, **kwds))\n",
      "  File \"/home/abhisheknandekar/miniconda3/envs/raga/lib/python3.8/multiprocessing/pool.py\", line 51, in starmapstar\n",
      "    return list(itertools.starmap(args[0], args[1]))\n",
      "  File \"/home/abhisheknandekar/miniconda3/envs/raga/lib/python3.8/site-packages/ETC/CCMC/pairs.py\", line 428, in CCM_causality\n",
      "    ETC_causality(\n",
      "  File \"/home/abhisheknandekar/miniconda3/envs/raga/lib/python3.8/multiprocessing/pool.py\", line 51, in starmapstar\n",
      "    return list(itertools.starmap(args[0], args[1]))\n",
      "  File \"/home/abhisheknandekar/miniconda3/envs/raga/lib/python3.8/multiprocessing/pool.py\", line 51, in starmapstar\n",
      "    return list(itertools.starmap(args[0], args[1]))\n",
      "  File \"/home/abhisheknandekar/miniconda3/envs/raga/lib/python3.8/multiprocessing/process.py\", line 108, in run\n",
      "    self._target(*self._args, **self._kwargs)\n",
      "  File \"/home/abhisheknandekar/miniconda3/envs/raga/lib/python3.8/multiprocessing/pool.py\", line 125, in worker\n",
      "    result = (True, func(*args, **kwds))\n",
      "  File \"/home/abhisheknandekar/miniconda3/envs/raga/lib/python3.8/multiprocessing/pool.py\", line 125, in worker\n",
      "    result = (True, func(*args, **kwds))\n",
      "  File \"/home/abhisheknandekar/miniconda3/envs/raga/lib/python3.8/multiprocessing/pool.py\", line 125, in worker\n",
      "    result = (True, func(*args, **kwds))\n",
      "  File \"/home/abhisheknandekar/miniconda3/envs/raga/lib/python3.8/multiprocessing/process.py\", line 108, in run\n",
      "    self._target(*self._args, **self._kwargs)\n",
      "  File \"/home/abhisheknandekar/miniconda3/envs/raga/lib/python3.8/multiprocessing/pool.py\", line 51, in starmapstar\n",
      "    return list(itertools.starmap(args[0], args[1]))\n",
      "  File \"/home/abhisheknandekar/miniconda3/envs/raga/lib/python3.8/multiprocessing/pool.py\", line 125, in worker\n",
      "    result = (True, func(*args, **kwds))\n",
      "  File \"/home/abhisheknandekar/miniconda3/envs/raga/lib/python3.8/site-packages/ETC/CCMC/pairs.py\", line 428, in CCM_causality\n",
      "    ETC_causality(\n",
      "  File \"/home/abhisheknandekar/miniconda3/envs/raga/lib/python3.8/multiprocessing/pool.py\", line 51, in starmapstar\n",
      "    return list(itertools.starmap(args[0], args[1]))\n",
      "  File \"/home/abhisheknandekar/miniconda3/envs/raga/lib/python3.8/site-packages/ETC/CCMC/pairs.py\", line 428, in CCM_causality\n",
      "    ETC_causality(\n",
      "  File \"/home/abhisheknandekar/miniconda3/envs/raga/lib/python3.8/site-packages/ETC/CCMC/pairs.py\", line 201, in ETC_causality\n",
      "    etc_y_given_x, y_residual = _external_substitution(y, out_x.get(\"Trajectory\"))\n",
      "  File \"/home/abhisheknandekar/miniconda3/envs/raga/lib/python3.8/multiprocessing/pool.py\", line 51, in starmapstar\n",
      "    return list(itertools.starmap(args[0], args[1]))\n",
      "  File \"/home/abhisheknandekar/miniconda3/envs/raga/lib/python3.8/multiprocessing/pool.py\", line 51, in starmapstar\n",
      "    return list(itertools.starmap(args[0], args[1]))\n",
      "  File \"/home/abhisheknandekar/miniconda3/envs/raga/lib/python3.8/multiprocessing/pool.py\", line 125, in worker\n",
      "    result = (True, func(*args, **kwds))\n",
      "  File \"/home/abhisheknandekar/miniconda3/envs/raga/lib/python3.8/multiprocessing/process.py\", line 108, in run\n",
      "    self._target(*self._args, **self._kwargs)\n",
      "  File \"/home/abhisheknandekar/miniconda3/envs/raga/lib/python3.8/site-packages/ETC/CCMC/pairs.py\", line 428, in CCM_causality\n",
      "    ETC_causality(\n",
      "  File \"/home/abhisheknandekar/miniconda3/envs/raga/lib/python3.8/site-packages/ETC/CCMC/pairs.py\", line 191, in ETC_causality\n",
      "    out_y = ETC.compute_1D(y, order=2, verbose=True, truncate=False)\n",
      "  File \"/home/abhisheknandekar/miniconda3/envs/raga/lib/python3.8/site-packages/ETC/CCMC/pairs.py\", line 428, in CCM_causality\n",
      "    ETC_causality(\n",
      "  File \"/home/abhisheknandekar/miniconda3/envs/raga/lib/python3.8/site-packages/ETC/CCMC/pairs.py\", line 428, in CCM_causality\n",
      "    ETC_causality(\n",
      "  File \"/home/abhisheknandekar/miniconda3/envs/raga/lib/python3.8/site-packages/ETC/CCMC/pairs.py\", line 437, in CCM_causality\n",
      "    LZ_causality(x, y, penalty_threshold=penalty_threshold, lengths=False,)\n",
      "  File \"/home/abhisheknandekar/miniconda3/envs/raga/lib/python3.8/multiprocessing/pool.py\", line 125, in worker\n",
      "    result = (True, func(*args, **kwds))\n",
      "  File \"/home/abhisheknandekar/miniconda3/envs/raga/lib/python3.8/multiprocessing/pool.py\", line 51, in starmapstar\n",
      "    return list(itertools.starmap(args[0], args[1]))\n",
      "  File \"/home/abhisheknandekar/miniconda3/envs/raga/lib/python3.8/multiprocessing/pool.py\", line 51, in starmapstar\n",
      "    return list(itertools.starmap(args[0], args[1]))\n",
      "  File \"/home/abhisheknandekar/miniconda3/envs/raga/lib/python3.8/multiprocessing/pool.py\", line 125, in worker\n",
      "    result = (True, func(*args, **kwds))\n",
      "  File \"/home/abhisheknandekar/miniconda3/envs/raga/lib/python3.8/multiprocessing/pool.py\", line 51, in starmapstar\n",
      "    return list(itertools.starmap(args[0], args[1]))\n",
      "  File \"/home/abhisheknandekar/miniconda3/envs/raga/lib/python3.8/site-packages/ETC/CCMC/pairs.py\", line 428, in CCM_causality\n",
      "    ETC_causality(\n",
      "  File \"/home/abhisheknandekar/miniconda3/envs/raga/lib/python3.8/site-packages/ETC/CCMC/pairs.py\", line 191, in ETC_causality\n",
      "    out_y = ETC.compute_1D(y, order=2, verbose=True, truncate=False)\n",
      "  File \"/home/abhisheknandekar/miniconda3/envs/raga/lib/python3.8/multiprocessing/pool.py\", line 51, in starmapstar\n",
      "    return list(itertools.starmap(args[0], args[1]))\n",
      "  File \"/home/abhisheknandekar/miniconda3/envs/raga/lib/python3.8/site-packages/ETC/CCMC/pairs.py\", line 428, in CCM_causality\n",
      "    ETC_causality(\n",
      "Traceback (most recent call last):\n",
      "  File \"/home/abhisheknandekar/miniconda3/envs/raga/lib/python3.8/site-packages/ETC/CCMC/pairs.py\", line 190, in ETC_causality\n",
      "    out_x = ETC.compute_1D(x, order=2, verbose=True, truncate=False)\n",
      "Traceback (most recent call last):\n",
      "  File \"/home/abhisheknandekar/miniconda3/envs/raga/lib/python3.8/site-packages/ETC/CCMC/pairs.py\", line 103, in _external_substitution\n",
      "    if len(seq) > 1 and _check_pair(tuple(pair), seq):\n",
      "  File \"/home/abhisheknandekar/miniconda3/envs/raga/lib/python3.8/site-packages/ETC/CCMC/pairs.py\", line 428, in CCM_causality\n",
      "    ETC_causality(\n",
      "  File \"/home/abhisheknandekar/miniconda3/envs/raga/lib/python3.8/multiprocessing/pool.py\", line 51, in starmapstar\n",
      "    return list(itertools.starmap(args[0], args[1]))\n",
      "  File \"/home/abhisheknandekar/miniconda3/envs/raga/lib/python3.8/site-packages/ETC/CCMC/pairs.py\", line 428, in CCM_causality\n",
      "    ETC_causality(\n",
      "  File \"/home/abhisheknandekar/miniconda3/envs/raga/lib/python3.8/multiprocessing/pool.py\", line 125, in worker\n",
      "    result = (True, func(*args, **kwds))\n",
      "  File \"/home/abhisheknandekar/miniconda3/envs/raga/lib/python3.8/site-packages/ETC/CCMC/pairs.py\", line 190, in ETC_causality\n",
      "    out_x = ETC.compute_1D(x, order=2, verbose=True, truncate=False)\n",
      "  File \"/home/abhisheknandekar/miniconda3/envs/raga/lib/python3.8/site-packages/ETC/NSRWS/x1D/etc.py\", line 364, in compute\n",
      "    etc, out = _compute_verbose_full(seq, order)\n",
      "  File \"/home/abhisheknandekar/miniconda3/envs/raga/lib/python3.8/site-packages/ETC/CCMC/pairs.py\", line 210, in ETC_causality\n",
      "    etc_y_residual = _ETC_residual(y_residual)\n",
      "  File \"/home/abhisheknandekar/miniconda3/envs/raga/lib/python3.8/site-packages/ETC/CCMC/pairs.py\", line 201, in ETC_causality\n",
      "    etc_y_given_x, y_residual = _external_substitution(y, out_x.get(\"Trajectory\"))\n",
      "  File \"/home/abhisheknandekar/miniconda3/envs/raga/lib/python3.8/site-packages/ETC/CCMC/pairs.py\", line 351, in LZ_causality\n",
      "    LZ_x = LZ(x)\n",
      "  File \"/home/abhisheknandekar/miniconda3/envs/raga/lib/python3.8/multiprocessing/pool.py\", line 51, in starmapstar\n",
      "    return list(itertools.starmap(args[0], args[1]))\n",
      "  File \"/home/abhisheknandekar/miniconda3/envs/raga/lib/python3.8/site-packages/ETC/CCMC/pairs.py\", line 428, in CCM_causality\n",
      "    ETC_causality(\n",
      "  File \"/home/abhisheknandekar/miniconda3/envs/raga/lib/python3.8/site-packages/ETC/CCMC/pairs.py\", line 428, in CCM_causality\n",
      "    ETC_causality(\n",
      "  File \"/home/abhisheknandekar/miniconda3/envs/raga/lib/python3.8/site-packages/ETC/NSRWS/x1D/etc.py\", line 364, in compute\n",
      "    etc, out = _compute_verbose_full(seq, order)\n",
      "  File \"/home/abhisheknandekar/miniconda3/envs/raga/lib/python3.8/site-packages/ETC/CCMC/pairs.py\", line 428, in CCM_causality\n",
      "    ETC_causality(\n",
      "  File \"/home/abhisheknandekar/miniconda3/envs/raga/lib/python3.8/site-packages/ETC/CCMC/pairs.py\", line 191, in ETC_causality\n",
      "    out_y = ETC.compute_1D(y, order=2, verbose=True, truncate=False)\n",
      "  File \"/home/abhisheknandekar/miniconda3/envs/raga/lib/python3.8/site-packages/ETC/CCMC/pairs.py\", line 202, in ETC_causality\n",
      "    etc_x_given_y, x_residual = _external_substitution(x, out_y.get(\"Trajectory\"))\n",
      "  File \"/home/abhisheknandekar/miniconda3/envs/raga/lib/python3.8/site-packages/ETC/CCMC/pairs.py\", line 428, in CCM_causality\n",
      "    ETC_causality(\n",
      "  File \"/home/abhisheknandekar/miniconda3/envs/raga/lib/python3.8/multiprocessing/process.py\", line 315, in _bootstrap\n",
      "    self.run()\n",
      "  File \"/home/abhisheknandekar/miniconda3/envs/raga/lib/python3.8/multiprocessing/process.py\", line 315, in _bootstrap\n",
      "    self.run()\n",
      "  File \"/home/abhisheknandekar/miniconda3/envs/raga/lib/python3.8/site-packages/ETC/NSRWS/x1D/etc.py\", line 364, in compute\n",
      "    etc, out = _compute_verbose_full(seq, order)\n",
      "  File \"/home/abhisheknandekar/miniconda3/envs/raga/lib/python3.8/site-packages/ETC/CCMC/pairs.py\", line 191, in ETC_causality\n",
      "    out_y = ETC.compute_1D(y, order=2, verbose=True, truncate=False)\n",
      "  File \"/home/abhisheknandekar/miniconda3/envs/raga/lib/python3.8/site-packages/ETC/CCMC/pairs.py\", line 428, in CCM_causality\n",
      "    ETC_causality(\n",
      "  File \"/home/abhisheknandekar/miniconda3/envs/raga/lib/python3.8/site-packages/ETC/CCMC/pairs.py\", line 55, in _check_pair\n",
      "    pairs = set(zip(*(islice(tuple(seq), i, None) for i in range(2))))\n",
      "  File \"/home/abhisheknandekar/miniconda3/envs/raga/lib/python3.8/site-packages/ETC/CCMC/pairs.py\", line 190, in ETC_causality\n",
      "    out_x = ETC.compute_1D(x, order=2, verbose=True, truncate=False)\n",
      "  File \"/home/abhisheknandekar/miniconda3/envs/raga/lib/python3.8/multiprocessing/pool.py\", line 51, in starmapstar\n",
      "    return list(itertools.starmap(args[0], args[1]))\n",
      "  File \"/home/abhisheknandekar/miniconda3/envs/raga/lib/python3.8/site-packages/ETC/NSRWS/x1D/etc.py\", line 186, in _compute_verbose_full\n",
      "    seq, signal, freq_win, count, time = _onestep(seq, order, verbose=True)\n",
      "  File \"/home/abhisheknandekar/miniconda3/envs/raga/lib/python3.8/site-packages/ETC/NSRWS/x1D/etc.py\", line 364, in compute\n",
      "    etc, out = _compute_verbose_full(seq, order)\n",
      "  File \"/home/abhisheknandekar/miniconda3/envs/raga/lib/python3.8/site-packages/ETC/CCMC/pairs.py\", line 138, in _ETC_residual\n",
      "    return ETC.compute_1D(residual_sequence).get(\"ETC1D\")\n",
      "  File \"/home/abhisheknandekar/miniconda3/envs/raga/lib/python3.8/site-packages/ETC/CCMC/pairs.py\", line 103, in _external_substitution\n",
      "    if len(seq) > 1 and _check_pair(tuple(pair), seq):\n",
      "  File \"/home/abhisheknandekar/miniconda3/envs/raga/lib/python3.8/site-packages/ETC/LZ76/lzc.py\", line 27, in compute_complexity\n",
      "    return core.lzc_a(seq)\n",
      "  File \"/home/abhisheknandekar/miniconda3/envs/raga/lib/python3.8/site-packages/ETC/CCMC/pairs.py\", line 428, in CCM_causality\n",
      "    ETC_causality(\n",
      "  File \"/home/abhisheknandekar/miniconda3/envs/raga/lib/python3.8/site-packages/ETC/CCMC/pairs.py\", line 201, in ETC_causality\n",
      "    etc_y_given_x, y_residual = _external_substitution(y, out_x.get(\"Trajectory\"))\n",
      "  File \"/home/abhisheknandekar/miniconda3/envs/raga/lib/python3.8/site-packages/ETC/CCMC/pairs.py\", line 190, in ETC_causality\n",
      "    out_x = ETC.compute_1D(x, order=2, verbose=True, truncate=False)\n",
      "  File \"/home/abhisheknandekar/miniconda3/envs/raga/lib/python3.8/site-packages/ETC/NSRWS/x1D/etc.py\", line 186, in _compute_verbose_full\n",
      "    seq, signal, freq_win, count, time = _onestep(seq, order, verbose=True)\n",
      "  File \"/home/abhisheknandekar/miniconda3/envs/raga/lib/python3.8/site-packages/ETC/CCMC/pairs.py\", line 202, in ETC_causality\n",
      "    etc_x_given_y, x_residual = _external_substitution(x, out_y.get(\"Trajectory\"))\n",
      "  File \"/home/abhisheknandekar/miniconda3/envs/raga/lib/python3.8/site-packages/ETC/NSRWS/x1D/etc.py\", line 364, in compute\n",
      "    etc, out = _compute_verbose_full(seq, order)\n",
      "  File \"/home/abhisheknandekar/miniconda3/envs/raga/lib/python3.8/multiprocessing/process.py\", line 108, in run\n",
      "    self._target(*self._args, **self._kwargs)\n",
      "  File \"/home/abhisheknandekar/miniconda3/envs/raga/lib/python3.8/site-packages/ETC/CCMC/pairs.py\", line 103, in _external_substitution\n",
      "    if len(seq) > 1 and _check_pair(tuple(pair), seq):\n",
      "  File \"/home/abhisheknandekar/miniconda3/envs/raga/lib/python3.8/site-packages/ETC/CCMC/pairs.py\", line 190, in ETC_causality\n",
      "    out_x = ETC.compute_1D(x, order=2, verbose=True, truncate=False)\n",
      "  File \"/home/abhisheknandekar/miniconda3/envs/raga/lib/python3.8/multiprocessing/process.py\", line 108, in run\n",
      "    self._target(*self._args, **self._kwargs)\n",
      "  File \"/home/abhisheknandekar/miniconda3/envs/raga/lib/python3.8/site-packages/ETC/NSRWS/x1D/etc.py\", line 186, in _compute_verbose_full\n",
      "    seq, signal, freq_win, count, time = _onestep(seq, order, verbose=True)\n",
      "  File \"/home/abhisheknandekar/miniconda3/envs/raga/lib/python3.8/site-packages/ETC/NSRWS/x1D/etc.py\", line 364, in compute\n",
      "    etc, out = _compute_verbose_full(seq, order)\n",
      "  File \"/home/abhisheknandekar/miniconda3/envs/raga/lib/python3.8/site-packages/ETC/CCMC/pairs.py\", line 191, in ETC_causality\n",
      "    out_y = ETC.compute_1D(y, order=2, verbose=True, truncate=False)\n",
      "KeyboardInterrupt\n",
      "  File \"/home/abhisheknandekar/miniconda3/envs/raga/lib/python3.8/site-packages/ETC/NSRWS/x1D/etc.py\", line 364, in compute\n",
      "    etc, out = _compute_verbose_full(seq, order)\n",
      "  File \"/home/abhisheknandekar/miniconda3/envs/raga/lib/python3.8/site-packages/ETC/CCMC/pairs.py\", line 428, in CCM_causality\n",
      "    ETC_causality(\n",
      "  File \"/home/abhisheknandekar/miniconda3/envs/raga/lib/python3.8/site-packages/ETC/NSRWS/x1D/etc.py\", line 186, in _compute_verbose_full\n",
      "    seq, signal, freq_win, count, time = _onestep(seq, order, verbose=True)\n",
      "  File \"/home/abhisheknandekar/miniconda3/envs/raga/lib/python3.8/site-packages/ETC/NSRWS/x1D/onestep.py\", line 316, in _onestep\n",
      "    return _onestep_pairs(seq[:], verbose)\n",
      "  File \"/home/abhisheknandekar/miniconda3/envs/raga/lib/python3.8/site-packages/ETC/NSRWS/x1D/etc.py\", line 359, in compute\n",
      "    etc = _compute_compact_truncated(seq, order)\n",
      "  File \"/home/abhisheknandekar/miniconda3/envs/raga/lib/python3.8/site-packages/ETC/CCMC/pairs.py\", line 210, in ETC_causality\n",
      "    etc_y_residual = _ETC_residual(y_residual)\n",
      "  File \"/home/abhisheknandekar/miniconda3/envs/raga/lib/python3.8/site-packages/ETC/CCMC/pairs.py\", line 55, in _check_pair\n",
      "    pairs = set(zip(*(islice(tuple(seq), i, None) for i in range(2))))\n",
      "KeyboardInterrupt\n",
      "  File \"/home/abhisheknandekar/miniconda3/envs/raga/lib/python3.8/site-packages/ETC/CCMC/pairs.py\", line 103, in _external_substitution\n",
      "    if len(seq) > 1 and _check_pair(tuple(pair), seq):\n",
      "  File \"/home/abhisheknandekar/miniconda3/envs/raga/lib/python3.8/site-packages/ETC/NSRWS/x1D/etc.py\", line 364, in compute\n",
      "    etc, out = _compute_verbose_full(seq, order)\n",
      "  File \"/home/abhisheknandekar/miniconda3/envs/raga/lib/python3.8/site-packages/ETC/CCMC/pairs.py\", line 106, in _external_substitution\n",
      "    seq = ETC.cast(core.substitute_pairs(seq, pair, max(seq) + 1))\n",
      "  File \"/home/abhisheknandekar/miniconda3/envs/raga/lib/python3.8/site-packages/ETC/NSRWS/x1D/onestep.py\", line 316, in _onestep\n",
      "    return _onestep_pairs(seq[:], verbose)\n",
      "  File \"/home/abhisheknandekar/miniconda3/envs/raga/lib/python3.8/site-packages/ETC/NSRWS/x1D/etc.py\", line 186, in _compute_verbose_full\n",
      "    seq, signal, freq_win, count, time = _onestep(seq, order, verbose=True)\n",
      "  File \"/home/abhisheknandekar/miniconda3/envs/raga/lib/python3.8/multiprocessing/pool.py\", line 125, in worker\n",
      "    result = (True, func(*args, **kwds))\n",
      "  File \"/home/abhisheknandekar/miniconda3/envs/raga/lib/python3.8/site-packages/ETC/NSRWS/x1D/etc.py\", line 364, in compute\n",
      "    etc, out = _compute_verbose_full(seq, order)\n",
      "  File \"/home/abhisheknandekar/miniconda3/envs/raga/lib/python3.8/site-packages/ETC/NSRWS/x1D/onestep.py\", line 316, in _onestep\n",
      "    return _onestep_pairs(seq[:], verbose)\n",
      "  File \"/home/abhisheknandekar/miniconda3/envs/raga/lib/python3.8/site-packages/ETC/CCMC/pairs.py\", line 55, in _check_pair\n",
      "    pairs = set(zip(*(islice(tuple(seq), i, None) for i in range(2))))\n",
      "  File \"/home/abhisheknandekar/miniconda3/envs/raga/lib/python3.8/multiprocessing/pool.py\", line 125, in worker\n",
      "    result = (True, func(*args, **kwds))\n",
      "  File \"/home/abhisheknandekar/miniconda3/envs/raga/lib/python3.8/site-packages/ETC/NSRWS/x1D/etc.py\", line 364, in compute\n",
      "    etc, out = _compute_verbose_full(seq, order)\n",
      "  File \"/home/abhisheknandekar/miniconda3/envs/raga/lib/python3.8/site-packages/ETC/NSRWS/x1D/etc.py\", line 186, in _compute_verbose_full\n",
      "    seq, signal, freq_win, count, time = _onestep(seq, order, verbose=True)\n",
      "  File \"/home/abhisheknandekar/miniconda3/envs/raga/lib/python3.8/site-packages/ETC/CCMC/pairs.py\", line 201, in ETC_causality\n",
      "    etc_y_given_x, y_residual = _external_substitution(y, out_x.get(\"Trajectory\"))\n",
      "  File \"/home/abhisheknandekar/miniconda3/envs/raga/lib/python3.8/site-packages/ETC/NSRWS/x1D/etc.py\", line 186, in _compute_verbose_full\n",
      "    seq, signal, freq_win, count, time = _onestep(seq, order, verbose=True)\n",
      "  File \"/home/abhisheknandekar/miniconda3/envs/raga/lib/python3.8/site-packages/ETC/NSRWS/x1D/onestep.py\", line 174, in _onestep_pairs\n",
      "    out = cast(core.substitute_pairs(seq, freq_pair, sub_value))\n",
      "  File \"/home/abhisheknandekar/miniconda3/envs/raga/lib/python3.8/site-packages/ETC/NSRWS/x1D/onestep.py\", line 316, in _onestep\n",
      "    return _onestep_pairs(seq[:], verbose)\n",
      "  File \"/home/abhisheknandekar/miniconda3/envs/raga/lib/python3.8/site-packages/ETC/NSRWS/x1D/etc.py\", line 246, in _compute_compact_truncated\n",
      "    seq, signal = _onestep(seq, order, verbose=False)\n",
      "  File \"/home/abhisheknandekar/miniconda3/envs/raga/lib/python3.8/site-packages/ETC/CCMC/pairs.py\", line 138, in _ETC_residual\n",
      "    return ETC.compute_1D(residual_sequence).get(\"ETC1D\")\n",
      "KeyboardInterrupt\n",
      "  File \"/home/abhisheknandekar/miniconda3/envs/raga/lib/python3.8/site-packages/ETC/CCMC/pairs.py\", line 55, in _check_pair\n",
      "    pairs = set(zip(*(islice(tuple(seq), i, None) for i in range(2))))\n",
      "  File \"/home/abhisheknandekar/miniconda3/envs/raga/lib/python3.8/site-packages/ETC/NSRWS/x1D/etc.py\", line 186, in _compute_verbose_full\n",
      "    seq, signal, freq_win, count, time = _onestep(seq, order, verbose=True)\n",
      "  File \"/home/abhisheknandekar/miniconda3/envs/raga/lib/python3.8/site-packages/ETC/NSRWS/x1D/onestep.py\", line 316, in _onestep\n",
      "    return _onestep_pairs(seq[:], verbose)\n",
      "  File \"/home/abhisheknandekar/miniconda3/envs/raga/lib/python3.8/multiprocessing/pool.py\", line 51, in starmapstar\n",
      "    return list(itertools.starmap(args[0], args[1]))\n",
      "  File \"/home/abhisheknandekar/miniconda3/envs/raga/lib/python3.8/site-packages/ETC/seq/recode.py\", line 43, in cast\n",
      "    if zeroes(out):\n",
      "  File \"/home/abhisheknandekar/miniconda3/envs/raga/lib/python3.8/site-packages/ETC/NSRWS/x1D/onestep.py\", line 162, in _onestep_pairs\n",
      "    freq_pair, count = _mask_and_count(seq, mask, 2)\n",
      "  File \"/home/abhisheknandekar/miniconda3/envs/raga/lib/python3.8/site-packages/ETC/NSRWS/x1D/onestep.py\", line 162, in _onestep_pairs\n",
      "    freq_pair, count = _mask_and_count(seq, mask, 2)\n",
      "  File \"/home/abhisheknandekar/miniconda3/envs/raga/lib/python3.8/site-packages/ETC/NSRWS/x1D/etc.py\", line 186, in _compute_verbose_full\n",
      "    seq, signal, freq_win, count, time = _onestep(seq, order, verbose=True)\n",
      "KeyboardInterrupt\n",
      "  File \"/home/abhisheknandekar/miniconda3/envs/raga/lib/python3.8/multiprocessing/pool.py\", line 51, in starmapstar\n",
      "    return list(itertools.starmap(args[0], args[1]))\n",
      "  File \"/home/abhisheknandekar/miniconda3/envs/raga/lib/python3.8/site-packages/ETC/NSRWS/x1D/etc.py\", line 186, in _compute_verbose_full\n",
      "    seq, signal, freq_win, count, time = _onestep(seq, order, verbose=True)\n",
      "  File \"/home/abhisheknandekar/miniconda3/envs/raga/lib/python3.8/site-packages/ETC/CCMC/pairs.py\", line 103, in _external_substitution\n",
      "    if len(seq) > 1 and _check_pair(tuple(pair), seq):\n",
      "  File \"/home/abhisheknandekar/miniconda3/envs/raga/lib/python3.8/site-packages/ETC/NSRWS/x1D/onestep.py\", line 316, in _onestep\n",
      "    return _onestep_pairs(seq[:], verbose)\n",
      "  File \"/home/abhisheknandekar/miniconda3/envs/raga/lib/python3.8/site-packages/ETC/seq/recode.py\", line 42, in cast\n",
      "    out = array(\"I\", seq)\n",
      "  File \"/home/abhisheknandekar/miniconda3/envs/raga/lib/python3.8/site-packages/ETC/NSRWS/x1D/onestep.py\", line 316, in _onestep\n",
      "    return _onestep_pairs(seq[:], verbose)\n",
      "  File \"/home/abhisheknandekar/miniconda3/envs/raga/lib/python3.8/site-packages/ETC/NSRWS/x1D/onestep.py\", line 316, in _onestep\n",
      "    return _onestep_pairs(seq[:], verbose)\n",
      "  File \"/home/abhisheknandekar/miniconda3/envs/raga/lib/python3.8/site-packages/ETC/NSRWS/x1D/onestep.py\", line 162, in _onestep_pairs\n",
      "    freq_pair, count = _mask_and_count(seq, mask, 2)\n",
      "  File \"/home/abhisheknandekar/miniconda3/envs/raga/lib/python3.8/site-packages/ETC/NSRWS/x1D/etc.py\", line 359, in compute\n",
      "    etc = _compute_compact_truncated(seq, order)\n",
      "  File \"/home/abhisheknandekar/miniconda3/envs/raga/lib/python3.8/site-packages/ETC/CCMC/pairs.py\", line 437, in CCM_causality\n",
      "    LZ_causality(x, y, penalty_threshold=penalty_threshold, lengths=False,)\n",
      "KeyboardInterrupt\n",
      "  File \"/home/abhisheknandekar/miniconda3/envs/raga/lib/python3.8/site-packages/ETC/NSRWS/x1D/onestep.py\", line 316, in _onestep\n",
      "    return _onestep_pairs(seq[:], verbose)\n",
      "  File \"/home/abhisheknandekar/miniconda3/envs/raga/lib/python3.8/site-packages/ETC/NSRWS/x1D/onestep.py\", line 162, in _onestep_pairs\n",
      "    freq_pair, count = _mask_and_count(seq, mask, 2)\n",
      "  File \"/home/abhisheknandekar/miniconda3/envs/raga/lib/python3.8/site-packages/ETC/NSRWS/x1D/onestep.py\", line 93, in _mask_and_count\n",
      "    freq_window, count = Counter(filtered).most_common(1)[0]\n",
      "  File \"/home/abhisheknandekar/miniconda3/envs/raga/lib/python3.8/multiprocessing/pool.py\", line 51, in starmapstar\n",
      "    return list(itertools.starmap(args[0], args[1]))\n",
      "  File \"/home/abhisheknandekar/miniconda3/envs/raga/lib/python3.8/site-packages/ETC/seq/check.py\", line 15, in zeroes\n",
      "    if 0 in seq:\n",
      "  File \"/home/abhisheknandekar/miniconda3/envs/raga/lib/python3.8/site-packages/ETC/NSRWS/x1D/onestep.py\", line 93, in _mask_and_count\n",
      "    freq_window, count = Counter(filtered).most_common(1)[0]\n",
      "  File \"/home/abhisheknandekar/miniconda3/envs/raga/lib/python3.8/site-packages/ETC/CCMC/pairs.py\", line 55, in _check_pair\n",
      "    pairs = set(zip(*(islice(tuple(seq), i, None) for i in range(2))))\n",
      "  File \"/home/abhisheknandekar/miniconda3/envs/raga/lib/python3.8/site-packages/ETC/NSRWS/x1D/onestep.py\", line 316, in _onestep\n",
      "    return _onestep_pairs(seq[:], verbose)\n",
      "  File \"/home/abhisheknandekar/miniconda3/envs/raga/lib/python3.8/site-packages/ETC/NSRWS/x1D/onestep.py\", line 316, in _onestep\n",
      "    return _onestep_pairs(seq[:], verbose)\n",
      "KeyboardInterrupt\n",
      "  File \"/home/abhisheknandekar/miniconda3/envs/raga/lib/python3.8/site-packages/ETC/CCMC/pairs.py\", line 437, in CCM_causality\n",
      "    LZ_causality(x, y, penalty_threshold=penalty_threshold, lengths=False,)\n",
      "  File \"/home/abhisheknandekar/miniconda3/envs/raga/lib/python3.8/site-packages/ETC/NSRWS/x1D/etc.py\", line 246, in _compute_compact_truncated\n",
      "    seq, signal = _onestep(seq, order, verbose=False)\n",
      "  File \"/home/abhisheknandekar/miniconda3/envs/raga/lib/python3.8/site-packages/ETC/NSRWS/x1D/onestep.py\", line 162, in _onestep_pairs\n",
      "    freq_pair, count = _mask_and_count(seq, mask, 2)\n",
      "  File \"/home/abhisheknandekar/miniconda3/envs/raga/lib/python3.8/site-packages/ETC/NSRWS/x1D/onestep.py\", line 162, in _onestep_pairs\n",
      "    freq_pair, count = _mask_and_count(seq, mask, 2)\n",
      "  File \"/home/abhisheknandekar/miniconda3/envs/raga/lib/python3.8/site-packages/ETC/NSRWS/x1D/onestep.py\", line 93, in _mask_and_count\n",
      "    freq_window, count = Counter(filtered).most_common(1)[0]\n",
      "  File \"/home/abhisheknandekar/miniconda3/envs/raga/lib/python3.8/site-packages/ETC/CCMC/pairs.py\", line 352, in LZ_causality\n",
      "    LZ_y = LZ(y)\n",
      "  File \"/home/abhisheknandekar/miniconda3/envs/raga/lib/python3.8/site-packages/ETC/NSRWS/x1D/onestep.py\", line 174, in _onestep_pairs\n",
      "    out = cast(core.substitute_pairs(seq, freq_pair, sub_value))\n",
      "  File \"/home/abhisheknandekar/miniconda3/envs/raga/lib/python3.8/collections/__init__.py\", line 552, in __init__\n",
      "    self.update(iterable, **kwds)\n",
      "  File \"/home/abhisheknandekar/miniconda3/envs/raga/lib/python3.8/site-packages/ETC/NSRWS/x1D/onestep.py\", line 162, in _onestep_pairs\n",
      "    freq_pair, count = _mask_and_count(seq, mask, 2)\n",
      "KeyboardInterrupt\n",
      "  File \"/home/abhisheknandekar/miniconda3/envs/raga/lib/python3.8/site-packages/ETC/NSRWS/x1D/onestep.py\", line 93, in _mask_and_count\n",
      "    freq_window, count = Counter(filtered).most_common(1)[0]\n",
      "  File \"/home/abhisheknandekar/miniconda3/envs/raga/lib/python3.8/site-packages/ETC/CCMC/pairs.py\", line 428, in CCM_causality\n",
      "    ETC_causality(\n",
      "  File \"/home/abhisheknandekar/miniconda3/envs/raga/lib/python3.8/site-packages/ETC/NSRWS/x1D/onestep.py\", line 316, in _onestep\n",
      "    return _onestep_pairs(seq[:], verbose)\n",
      "  File \"/home/abhisheknandekar/miniconda3/envs/raga/lib/python3.8/collections/__init__.py\", line 552, in __init__\n",
      "    self.update(iterable, **kwds)\n",
      "  File \"/home/abhisheknandekar/miniconda3/envs/raga/lib/python3.8/site-packages/ETC/NSRWS/x1D/onestep.py\", line 162, in _onestep_pairs\n",
      "    freq_pair, count = _mask_and_count(seq, mask, 2)\n",
      "  File \"/home/abhisheknandekar/miniconda3/envs/raga/lib/python3.8/site-packages/ETC/CCMC/pairs.py\", line 352, in LZ_causality\n",
      "    LZ_y = LZ(y)\n",
      "  File \"/home/abhisheknandekar/miniconda3/envs/raga/lib/python3.8/site-packages/ETC/NSRWS/x1D/onestep.py\", line 93, in _mask_and_count\n",
      "    freq_window, count = Counter(filtered).most_common(1)[0]\n",
      "  File \"/home/abhisheknandekar/miniconda3/envs/raga/lib/python3.8/collections/__init__.py\", line 637, in update\n",
      "    _count_elements(self, iterable)\n",
      "  File \"/home/abhisheknandekar/miniconda3/envs/raga/lib/python3.8/site-packages/ETC/NSRWS/x1D/onestep.py\", line 162, in _onestep_pairs\n",
      "    freq_pair, count = _mask_and_count(seq, mask, 2)\n",
      "  File \"/home/abhisheknandekar/miniconda3/envs/raga/lib/python3.8/site-packages/ETC/seq/recode.py\", line 43, in cast\n",
      "    if zeroes(out):\n",
      "  File \"/home/abhisheknandekar/miniconda3/envs/raga/lib/python3.8/site-packages/ETC/LZ76/lzc.py\", line 27, in compute_complexity\n",
      "    return core.lzc_a(seq)\n",
      "  File \"/home/abhisheknandekar/miniconda3/envs/raga/lib/python3.8/site-packages/ETC/NSRWS/x1D/onestep.py\", line 93, in _mask_and_count\n",
      "    freq_window, count = Counter(filtered).most_common(1)[0]\n",
      "  File \"/home/abhisheknandekar/miniconda3/envs/raga/lib/python3.8/collections/__init__.py\", line 552, in __init__\n",
      "    self.update(iterable, **kwds)\n",
      "  File \"/home/abhisheknandekar/miniconda3/envs/raga/lib/python3.8/site-packages/ETC/NSRWS/x1D/onestep.py\", line 162, in _onestep_pairs\n",
      "    freq_pair, count = _mask_and_count(seq, mask, 2)\n",
      "  File \"/home/abhisheknandekar/miniconda3/envs/raga/lib/python3.8/site-packages/ETC/NSRWS/x1D/onestep.py\", line 93, in _mask_and_count\n",
      "    freq_window, count = Counter(filtered).most_common(1)[0]\n",
      "  File \"/home/abhisheknandekar/miniconda3/envs/raga/lib/python3.8/site-packages/ETC/NSRWS/x1D/onestep.py\", line 93, in _mask_and_count\n",
      "    freq_window, count = Counter(filtered).most_common(1)[0]\n",
      "KeyboardInterrupt\n",
      "  File \"/home/abhisheknandekar/miniconda3/envs/raga/lib/python3.8/site-packages/ETC/LZ76/lzc.py\", line 27, in compute_complexity\n",
      "    return core.lzc_a(seq)\n",
      "  File \"/home/abhisheknandekar/miniconda3/envs/raga/lib/python3.8/site-packages/ETC/CCMC/pairs.py\", line 202, in ETC_causality\n",
      "    etc_x_given_y, x_residual = _external_substitution(x, out_y.get(\"Trajectory\"))\n",
      "  File \"/home/abhisheknandekar/miniconda3/envs/raga/lib/python3.8/collections/__init__.py\", line 552, in __init__\n",
      "    self.update(iterable, **kwds)\n",
      "  File \"/home/abhisheknandekar/miniconda3/envs/raga/lib/python3.8/collections/__init__.py\", line 637, in update\n",
      "    _count_elements(self, iterable)\n",
      "  File \"/home/abhisheknandekar/miniconda3/envs/raga/lib/python3.8/collections/__init__.py\", line 552, in __init__\n",
      "    self.update(iterable, **kwds)\n",
      "  File \"/home/abhisheknandekar/miniconda3/envs/raga/lib/python3.8/site-packages/ETC/NSRWS/x1D/onestep.py\", line 93, in _mask_and_count\n",
      "    freq_window, count = Counter(filtered).most_common(1)[0]\n",
      "KeyboardInterrupt\n",
      "  File \"/home/abhisheknandekar/miniconda3/envs/raga/lib/python3.8/collections/__init__.py\", line 552, in __init__\n",
      "    self.update(iterable, **kwds)\n",
      "  File \"/home/abhisheknandekar/miniconda3/envs/raga/lib/python3.8/site-packages/ETC/seq/check.py\", line 15, in zeroes\n",
      "    if 0 in seq:\n",
      "  File \"/home/abhisheknandekar/miniconda3/envs/raga/lib/python3.8/site-packages/ETC/NSRWS/x1D/onestep.py\", line 93, in _mask_and_count\n",
      "    freq_window, count = Counter(filtered).most_common(1)[0]\n",
      "  File \"/home/abhisheknandekar/miniconda3/envs/raga/lib/python3.8/site-packages/ETC/CCMC/pairs.py\", line 106, in _external_substitution\n",
      "    seq = ETC.cast(core.substitute_pairs(seq, pair, max(seq) + 1))\n",
      "  File \"/home/abhisheknandekar/miniconda3/envs/raga/lib/python3.8/collections/__init__.py\", line 552, in __init__\n",
      "    self.update(iterable, **kwds)\n",
      "  File \"/home/abhisheknandekar/miniconda3/envs/raga/lib/python3.8/collections/__init__.py\", line 637, in update\n",
      "    _count_elements(self, iterable)\n",
      "  File \"/home/abhisheknandekar/miniconda3/envs/raga/lib/python3.8/collections/__init__.py\", line 552, in __init__\n",
      "    self.update(iterable, **kwds)\n",
      "KeyboardInterrupt\n",
      "  File \"/home/abhisheknandekar/miniconda3/envs/raga/lib/python3.8/collections/__init__.py\", line 637, in update\n",
      "    _count_elements(self, iterable)\n",
      "  File \"/home/abhisheknandekar/miniconda3/envs/raga/lib/python3.8/collections/__init__.py\", line 552, in __init__\n",
      "    self.update(iterable, **kwds)\n",
      "  File \"/home/abhisheknandekar/miniconda3/envs/raga/lib/python3.8/collections/__init__.py\", line 552, in __init__\n",
      "    self.update(iterable, **kwds)\n",
      "  File \"/home/abhisheknandekar/miniconda3/envs/raga/lib/python3.8/collections/__init__.py\", line 637, in update\n",
      "    _count_elements(self, iterable)\n",
      "KeyboardInterrupt\n",
      "  File \"/home/abhisheknandekar/miniconda3/envs/raga/lib/python3.8/collections/__init__.py\", line 637, in update\n",
      "    _count_elements(self, iterable)\n",
      "KeyboardInterrupt\n",
      "  File \"/home/abhisheknandekar/miniconda3/envs/raga/lib/python3.8/collections/__init__.py\", line 637, in update\n",
      "    _count_elements(self, iterable)\n",
      "  File \"/home/abhisheknandekar/miniconda3/envs/raga/lib/python3.8/collections/__init__.py\", line 637, in update\n",
      "    _count_elements(self, iterable)\n",
      "KeyboardInterrupt\n",
      "KeyboardInterrupt\n",
      "KeyboardInterrupt\n",
      "KeyboardInterrupt\n",
      "  File \"/home/abhisheknandekar/miniconda3/envs/raga/lib/python3.8/collections/__init__.py\", line 637, in update\n",
      "    _count_elements(self, iterable)\n",
      "KeyboardInterrupt\n",
      "KeyboardInterrupt\n",
      "KeyboardInterrupt\n",
      "KeyboardInterrupt\n",
      "Process ForkPoolWorker-1036:\n",
      "Process ForkPoolWorker-1037:\n",
      "Traceback (most recent call last):\n",
      "KeyboardInterrupt\n",
      "  File \"/home/abhisheknandekar/miniconda3/envs/raga/lib/python3.8/collections/__init__.py\", line 637, in update\n",
      "    _count_elements(self, iterable)\n",
      "KeyboardInterrupt\n",
      "Traceback (most recent call last):\n",
      "  File \"/home/abhisheknandekar/miniconda3/envs/raga/lib/python3.8/multiprocessing/process.py\", line 315, in _bootstrap\n",
      "    self.run()\n",
      "  File \"/home/abhisheknandekar/miniconda3/envs/raga/lib/python3.8/multiprocessing/process.py\", line 315, in _bootstrap\n",
      "    self.run()\n",
      "  File \"/home/abhisheknandekar/miniconda3/envs/raga/lib/python3.8/multiprocessing/process.py\", line 108, in run\n",
      "    self._target(*self._args, **self._kwargs)\n",
      "  File \"/home/abhisheknandekar/miniconda3/envs/raga/lib/python3.8/multiprocessing/process.py\", line 108, in run\n",
      "    self._target(*self._args, **self._kwargs)\n",
      "  File \"/home/abhisheknandekar/miniconda3/envs/raga/lib/python3.8/multiprocessing/pool.py\", line 125, in worker\n",
      "    result = (True, func(*args, **kwds))\n",
      "  File \"/home/abhisheknandekar/miniconda3/envs/raga/lib/python3.8/site-packages/ETC/CCMC/pairs.py\", line 191, in ETC_causality\n",
      "    out_y = ETC.compute_1D(y, order=2, verbose=True, truncate=False)\n",
      "  File \"/home/abhisheknandekar/miniconda3/envs/raga/lib/python3.8/multiprocessing/pool.py\", line 125, in worker\n",
      "    result = (True, func(*args, **kwds))\n",
      "  File \"/home/abhisheknandekar/miniconda3/envs/raga/lib/python3.8/multiprocessing/pool.py\", line 51, in starmapstar\n",
      "    return list(itertools.starmap(args[0], args[1]))\n",
      "  File \"/home/abhisheknandekar/miniconda3/envs/raga/lib/python3.8/site-packages/ETC/CCMC/pairs.py\", line 428, in CCM_causality\n",
      "    ETC_causality(\n",
      "  File \"/home/abhisheknandekar/miniconda3/envs/raga/lib/python3.8/multiprocessing/pool.py\", line 51, in starmapstar\n",
      "    return list(itertools.starmap(args[0], args[1]))\n",
      "  File \"/home/abhisheknandekar/miniconda3/envs/raga/lib/python3.8/site-packages/ETC/CCMC/pairs.py\", line 428, in CCM_causality\n",
      "    ETC_causality(\n",
      "  File \"/home/abhisheknandekar/miniconda3/envs/raga/lib/python3.8/site-packages/ETC/NSRWS/x1D/etc.py\", line 364, in compute\n",
      "    etc, out = _compute_verbose_full(seq, order)\n",
      "  File \"/home/abhisheknandekar/miniconda3/envs/raga/lib/python3.8/site-packages/ETC/CCMC/pairs.py\", line 190, in ETC_causality\n",
      "    out_x = ETC.compute_1D(x, order=2, verbose=True, truncate=False)\n",
      "  File \"/home/abhisheknandekar/miniconda3/envs/raga/lib/python3.8/site-packages/ETC/NSRWS/x1D/etc.py\", line 186, in _compute_verbose_full\n",
      "    seq, signal, freq_win, count, time = _onestep(seq, order, verbose=True)\n",
      "  File \"/home/abhisheknandekar/miniconda3/envs/raga/lib/python3.8/site-packages/ETC/NSRWS/x1D/onestep.py\", line 316, in _onestep\n",
      "    return _onestep_pairs(seq[:], verbose)\n",
      "  File \"/home/abhisheknandekar/miniconda3/envs/raga/lib/python3.8/site-packages/ETC/NSRWS/x1D/etc.py\", line 364, in compute\n",
      "    etc, out = _compute_verbose_full(seq, order)\n",
      "  File \"/home/abhisheknandekar/miniconda3/envs/raga/lib/python3.8/site-packages/ETC/NSRWS/x1D/onestep.py\", line 162, in _onestep_pairs\n",
      "    freq_pair, count = _mask_and_count(seq, mask, 2)\n",
      "  File \"/home/abhisheknandekar/miniconda3/envs/raga/lib/python3.8/site-packages/ETC/NSRWS/x1D/etc.py\", line 186, in _compute_verbose_full\n",
      "    seq, signal, freq_win, count, time = _onestep(seq, order, verbose=True)\n",
      "  File \"/home/abhisheknandekar/miniconda3/envs/raga/lib/python3.8/site-packages/ETC/NSRWS/x1D/onestep.py\", line 93, in _mask_and_count\n",
      "    freq_window, count = Counter(filtered).most_common(1)[0]\n",
      "  File \"/home/abhisheknandekar/miniconda3/envs/raga/lib/python3.8/site-packages/ETC/NSRWS/x1D/onestep.py\", line 316, in _onestep\n",
      "    return _onestep_pairs(seq[:], verbose)\n",
      "  File \"/home/abhisheknandekar/miniconda3/envs/raga/lib/python3.8/collections/__init__.py\", line 552, in __init__\n",
      "    self.update(iterable, **kwds)\n",
      "  File \"/home/abhisheknandekar/miniconda3/envs/raga/lib/python3.8/site-packages/ETC/NSRWS/x1D/onestep.py\", line 162, in _onestep_pairs\n",
      "    freq_pair, count = _mask_and_count(seq, mask, 2)\n",
      "  File \"/home/abhisheknandekar/miniconda3/envs/raga/lib/python3.8/collections/__init__.py\", line 637, in update\n",
      "    _count_elements(self, iterable)\n",
      "  File \"/home/abhisheknandekar/miniconda3/envs/raga/lib/python3.8/site-packages/ETC/NSRWS/x1D/onestep.py\", line 93, in _mask_and_count\n",
      "    freq_window, count = Counter(filtered).most_common(1)[0]\n",
      "KeyboardInterrupt\n",
      "  File \"/home/abhisheknandekar/miniconda3/envs/raga/lib/python3.8/collections/__init__.py\", line 552, in __init__\n",
      "    self.update(iterable, **kwds)\n",
      "  File \"/home/abhisheknandekar/miniconda3/envs/raga/lib/python3.8/collections/__init__.py\", line 637, in update\n",
      "    _count_elements(self, iterable)\n",
      "KeyboardInterrupt\n"
     ]
    },
    {
     "ename": "KeyboardInterrupt",
     "evalue": "",
     "output_type": "error",
     "traceback": [
      "\u001B[0;31m---------------------------------------------------------------------------\u001B[0m",
      "\u001B[0;31mKeyboardInterrupt\u001B[0m                         Traceback (most recent call last)",
      "\u001B[0;32m<ipython-input-12-a24366b37cd3>\u001B[0m in \u001B[0;36m<module>\u001B[0;34m\u001B[0m\n\u001B[0;32m----> 1\u001B[0;31m \u001B[0mtc8\u001B[0m\u001B[0;34m,\u001B[0m \u001B[0mtotc8\u001B[0m\u001B[0;34m,\u001B[0m \u001B[0mss8\u001B[0m \u001B[0;34m=\u001B[0m \u001B[0mragaIterator\u001B[0m\u001B[0;34m(\u001B[0m\u001B[0;36m10\u001B[0m\u001B[0;34m,\u001B[0m \u001B[0;34m'8'\u001B[0m\u001B[0;34m,\u001B[0m \u001B[0;34m'8_d'\u001B[0m\u001B[0;34m,\u001B[0m \u001B[0mnum_surrogates\u001B[0m\u001B[0;34m=\u001B[0m\u001B[0;36m150\u001B[0m\u001B[0;34m,\u001B[0m \u001B[0mtimes_it\u001B[0m\u001B[0;34m=\u001B[0m\u001B[0mt_dict\u001B[0m\u001B[0;34m)\u001B[0m\u001B[0;34m\u001B[0m\u001B[0;34m\u001B[0m\u001B[0m\n\u001B[0m\u001B[1;32m      2\u001B[0m \u001B[0;34m\u001B[0m\u001B[0m\n",
      "\u001B[0;32m<ipython-input-2-29f5717a51ee>\u001B[0m in \u001B[0;36mragaIterator\u001B[0;34m(n_iters, mela, janya, num_surrogates, write, times_it)\u001B[0m\n\u001B[1;32m     61\u001B[0m         \u001B[0mtm\u001B[0m \u001B[0;34m=\u001B[0m \u001B[0;34m{\u001B[0m\u001B[0;34m}\u001B[0m\u001B[0;34m\u001B[0m\u001B[0;34m\u001B[0m\u001B[0m\n\u001B[1;32m     62\u001B[0m         \u001B[0;32mif\u001B[0m \u001B[0mi\u001B[0m \u001B[0;34m%\u001B[0m \u001B[0;36m2\u001B[0m \u001B[0;34m!=\u001B[0m \u001B[0;36m0\u001B[0m\u001B[0;34m:\u001B[0m\u001B[0;34m\u001B[0m\u001B[0;34m\u001B[0m\u001B[0m\n\u001B[0;32m---> 63\u001B[0;31m             \u001B[0mtc\u001B[0m\u001B[0;34m,\u001B[0m \u001B[0mtotc\u001B[0m\u001B[0;34m,\u001B[0m \u001B[0mst\u001B[0m \u001B[0;34m=\u001B[0m \u001B[0mprint_correct\u001B[0m\u001B[0;34m(\u001B[0m\u001B[0mmela\u001B[0m\u001B[0;34m,\u001B[0m \u001B[0mjanya\u001B[0m\u001B[0;34m,\u001B[0m \u001B[0mnum_surr\u001B[0m\u001B[0;34m=\u001B[0m\u001B[0mnum_surrogates\u001B[0m\u001B[0;34m,\u001B[0m \u001B[0msurr_serial\u001B[0m\u001B[0;34m=\u001B[0m\u001B[0;32mTrue\u001B[0m\u001B[0;34m,\u001B[0m \u001B[0mtime_cal\u001B[0m\u001B[0;34m=\u001B[0m\u001B[0mtm\u001B[0m\u001B[0;34m)\u001B[0m\u001B[0;34m\u001B[0m\u001B[0;34m\u001B[0m\u001B[0m\n\u001B[0m\u001B[1;32m     64\u001B[0m         \u001B[0;32melse\u001B[0m\u001B[0;34m:\u001B[0m\u001B[0;34m\u001B[0m\u001B[0;34m\u001B[0m\u001B[0m\n\u001B[1;32m     65\u001B[0m             \u001B[0mtc\u001B[0m\u001B[0;34m,\u001B[0m \u001B[0mtotc\u001B[0m\u001B[0;34m,\u001B[0m \u001B[0mst\u001B[0m \u001B[0;34m=\u001B[0m \u001B[0mprint_correct\u001B[0m\u001B[0;34m(\u001B[0m\u001B[0mmela\u001B[0m\u001B[0;34m,\u001B[0m \u001B[0mjanya\u001B[0m\u001B[0;34m,\u001B[0m \u001B[0mnum_surr\u001B[0m\u001B[0;34m=\u001B[0m\u001B[0mnum_surrogates\u001B[0m\u001B[0;34m,\u001B[0m \u001B[0msurr_serial\u001B[0m\u001B[0;34m=\u001B[0m\u001B[0;32mFalse\u001B[0m\u001B[0;34m,\u001B[0m \u001B[0mtime_cal\u001B[0m\u001B[0;34m=\u001B[0m\u001B[0mtm\u001B[0m\u001B[0;34m)\u001B[0m\u001B[0;34m\u001B[0m\u001B[0;34m\u001B[0m\u001B[0m\n",
      "\u001B[0;32m<ipython-input-2-29f5717a51ee>\u001B[0m in \u001B[0;36mprint_correct\u001B[0;34m(mela_id, janya_id, num_surr, surr_serial, time_cal)\u001B[0m\n\u001B[1;32m     19\u001B[0m     \u001B[0mprint\u001B[0m\u001B[0;34m(\u001B[0m\u001B[0;34m\"finding causality....\"\u001B[0m\u001B[0;34m)\u001B[0m\u001B[0;34m\u001B[0m\u001B[0;34m\u001B[0m\u001B[0m\n\u001B[1;32m     20\u001B[0m     \u001B[0mt3\u001B[0m \u001B[0;34m=\u001B[0m \u001B[0mtime\u001B[0m\u001B[0;34m.\u001B[0m\u001B[0mperf_counter\u001B[0m\u001B[0;34m(\u001B[0m\u001B[0;34m)\u001B[0m\u001B[0;34m\u001B[0m\u001B[0;34m\u001B[0m\u001B[0m\n\u001B[0;32m---> 21\u001B[0;31m     \u001B[0mtc\u001B[0m\u001B[0;34m,\u001B[0m \u001B[0mtotc\u001B[0m\u001B[0;34m,\u001B[0m \u001B[0mstrengths\u001B[0m \u001B[0;34m=\u001B[0m \u001B[0mparallelizer\u001B[0m\u001B[0;34m.\u001B[0m\u001B[0mTrueLZPCausality_listParallel\u001B[0m\u001B[0;34m(\u001B[0m\u001B[0mlist\u001B[0m\u001B[0;34m(\u001B[0m\u001B[0madj\u001B[0m\u001B[0;34m.\u001B[0m\u001B[0mvalues\u001B[0m\u001B[0;34m(\u001B[0m\u001B[0;34m)\u001B[0m\u001B[0;34m)\u001B[0m\u001B[0;34m,\u001B[0m \u001B[0mlist\u001B[0m\u001B[0;34m(\u001B[0m\u001B[0madj\u001B[0m\u001B[0;34m.\u001B[0m\u001B[0mkeys\u001B[0m\u001B[0;34m(\u001B[0m\u001B[0;34m)\u001B[0m\u001B[0;34m)\u001B[0m\u001B[0;34m,\u001B[0m \u001B[0mmela\u001B[0m\u001B[0;34m=\u001B[0m\u001B[0mdataset\u001B[0m\u001B[0;34m.\u001B[0m\u001B[0mGetRagaFromRagaId\u001B[0m\u001B[0;34m(\u001B[0m\u001B[0mmela_id\u001B[0m\u001B[0;34m)\u001B[0m\u001B[0;34m)\u001B[0m\u001B[0;34m\u001B[0m\u001B[0;34m\u001B[0m\u001B[0m\n\u001B[0m\u001B[1;32m     22\u001B[0m     \u001B[0mt4\u001B[0m \u001B[0;34m=\u001B[0m \u001B[0mtime\u001B[0m\u001B[0;34m.\u001B[0m\u001B[0mperf_counter\u001B[0m\u001B[0;34m(\u001B[0m\u001B[0;34m)\u001B[0m\u001B[0;34m\u001B[0m\u001B[0;34m\u001B[0m\u001B[0m\n\u001B[1;32m     23\u001B[0m \u001B[0;34m\u001B[0m\u001B[0m\n",
      "\u001B[0;32m~/PycharmProjects/notation-metrics/utils/parallelizer.py\u001B[0m in \u001B[0;36mTrueLZPCausality_listParallel\u001B[0;34m(list, labels, mela)\u001B[0m\n\u001B[1;32m     25\u001B[0m \u001B[0;32mdef\u001B[0m \u001B[0mTrueLZPCausality_listParallel\u001B[0m\u001B[0;34m(\u001B[0m\u001B[0mlist\u001B[0m\u001B[0;34m,\u001B[0m \u001B[0mlabels\u001B[0m\u001B[0;34m,\u001B[0m \u001B[0mmela\u001B[0m\u001B[0;34m)\u001B[0m\u001B[0;34m:\u001B[0m\u001B[0;34m\u001B[0m\u001B[0;34m\u001B[0m\u001B[0m\n\u001B[1;32m     26\u001B[0m     \u001B[0mp\u001B[0m \u001B[0;34m=\u001B[0m \u001B[0mmultiprocessing\u001B[0m\u001B[0;34m.\u001B[0m\u001B[0mPool\u001B[0m\u001B[0;34m(\u001B[0m\u001B[0;34m)\u001B[0m\u001B[0;34m\u001B[0m\u001B[0;34m\u001B[0m\u001B[0m\n\u001B[0;32m---> 27\u001B[0;31m     \u001B[0mres\u001B[0m \u001B[0;34m=\u001B[0m \u001B[0mp\u001B[0m\u001B[0;34m.\u001B[0m\u001B[0mstarmap\u001B[0m\u001B[0;34m(\u001B[0m\u001B[0mETC\u001B[0m\u001B[0;34m.\u001B[0m\u001B[0mCCM_causality\u001B[0m\u001B[0;34m,\u001B[0m \u001B[0mcombinations\u001B[0m\u001B[0;34m(\u001B[0m\u001B[0mlist\u001B[0m\u001B[0;34m,\u001B[0m \u001B[0mr\u001B[0m\u001B[0;34m=\u001B[0m\u001B[0;36m2\u001B[0m\u001B[0;34m)\u001B[0m\u001B[0;34m)\u001B[0m\u001B[0;34m\u001B[0m\u001B[0;34m\u001B[0m\u001B[0m\n\u001B[0m\u001B[1;32m     28\u001B[0m     \u001B[0miter\u001B[0m \u001B[0;34m=\u001B[0m \u001B[0;36m0\u001B[0m\u001B[0;34m\u001B[0m\u001B[0;34m\u001B[0m\u001B[0m\n\u001B[1;32m     29\u001B[0m     \u001B[0mdist\u001B[0m \u001B[0;34m=\u001B[0m \u001B[0mnp\u001B[0m\u001B[0;34m.\u001B[0m\u001B[0mzeros\u001B[0m\u001B[0;34m(\u001B[0m\u001B[0;34m(\u001B[0m\u001B[0mlen\u001B[0m\u001B[0;34m(\u001B[0m\u001B[0mlist\u001B[0m\u001B[0;34m)\u001B[0m\u001B[0;34m,\u001B[0m \u001B[0mlen\u001B[0m\u001B[0;34m(\u001B[0m\u001B[0mlist\u001B[0m\u001B[0;34m)\u001B[0m\u001B[0;34m)\u001B[0m\u001B[0;34m)\u001B[0m\u001B[0;34m\u001B[0m\u001B[0;34m\u001B[0m\u001B[0m\n",
      "\u001B[0;32m~/miniconda3/envs/raga/lib/python3.8/multiprocessing/pool.py\u001B[0m in \u001B[0;36mstarmap\u001B[0;34m(self, func, iterable, chunksize)\u001B[0m\n\u001B[1;32m    370\u001B[0m         \u001B[0;31m`\u001B[0m\u001B[0mfunc\u001B[0m\u001B[0;31m`\u001B[0m \u001B[0;32mand\u001B[0m \u001B[0;34m(\u001B[0m\u001B[0ma\u001B[0m\u001B[0;34m,\u001B[0m \u001B[0mb\u001B[0m\u001B[0;34m)\u001B[0m \u001B[0mbecomes\u001B[0m \u001B[0mfunc\u001B[0m\u001B[0;34m(\u001B[0m\u001B[0ma\u001B[0m\u001B[0;34m,\u001B[0m \u001B[0mb\u001B[0m\u001B[0;34m)\u001B[0m\u001B[0;34m.\u001B[0m\u001B[0;34m\u001B[0m\u001B[0;34m\u001B[0m\u001B[0m\n\u001B[1;32m    371\u001B[0m         '''\n\u001B[0;32m--> 372\u001B[0;31m         \u001B[0;32mreturn\u001B[0m \u001B[0mself\u001B[0m\u001B[0;34m.\u001B[0m\u001B[0m_map_async\u001B[0m\u001B[0;34m(\u001B[0m\u001B[0mfunc\u001B[0m\u001B[0;34m,\u001B[0m \u001B[0miterable\u001B[0m\u001B[0;34m,\u001B[0m \u001B[0mstarmapstar\u001B[0m\u001B[0;34m,\u001B[0m \u001B[0mchunksize\u001B[0m\u001B[0;34m)\u001B[0m\u001B[0;34m.\u001B[0m\u001B[0mget\u001B[0m\u001B[0;34m(\u001B[0m\u001B[0;34m)\u001B[0m\u001B[0;34m\u001B[0m\u001B[0;34m\u001B[0m\u001B[0m\n\u001B[0m\u001B[1;32m    373\u001B[0m \u001B[0;34m\u001B[0m\u001B[0m\n\u001B[1;32m    374\u001B[0m     def starmap_async(self, func, iterable, chunksize=None, callback=None,\n",
      "\u001B[0;32m~/miniconda3/envs/raga/lib/python3.8/multiprocessing/pool.py\u001B[0m in \u001B[0;36mget\u001B[0;34m(self, timeout)\u001B[0m\n\u001B[1;32m    763\u001B[0m \u001B[0;34m\u001B[0m\u001B[0m\n\u001B[1;32m    764\u001B[0m     \u001B[0;32mdef\u001B[0m \u001B[0mget\u001B[0m\u001B[0;34m(\u001B[0m\u001B[0mself\u001B[0m\u001B[0;34m,\u001B[0m \u001B[0mtimeout\u001B[0m\u001B[0;34m=\u001B[0m\u001B[0;32mNone\u001B[0m\u001B[0;34m)\u001B[0m\u001B[0;34m:\u001B[0m\u001B[0;34m\u001B[0m\u001B[0;34m\u001B[0m\u001B[0m\n\u001B[0;32m--> 765\u001B[0;31m         \u001B[0mself\u001B[0m\u001B[0;34m.\u001B[0m\u001B[0mwait\u001B[0m\u001B[0;34m(\u001B[0m\u001B[0mtimeout\u001B[0m\u001B[0;34m)\u001B[0m\u001B[0;34m\u001B[0m\u001B[0;34m\u001B[0m\u001B[0m\n\u001B[0m\u001B[1;32m    766\u001B[0m         \u001B[0;32mif\u001B[0m \u001B[0;32mnot\u001B[0m \u001B[0mself\u001B[0m\u001B[0;34m.\u001B[0m\u001B[0mready\u001B[0m\u001B[0;34m(\u001B[0m\u001B[0;34m)\u001B[0m\u001B[0;34m:\u001B[0m\u001B[0;34m\u001B[0m\u001B[0;34m\u001B[0m\u001B[0m\n\u001B[1;32m    767\u001B[0m             \u001B[0;32mraise\u001B[0m \u001B[0mTimeoutError\u001B[0m\u001B[0;34m\u001B[0m\u001B[0;34m\u001B[0m\u001B[0m\n",
      "\u001B[0;32m~/miniconda3/envs/raga/lib/python3.8/multiprocessing/pool.py\u001B[0m in \u001B[0;36mwait\u001B[0;34m(self, timeout)\u001B[0m\n\u001B[1;32m    760\u001B[0m \u001B[0;34m\u001B[0m\u001B[0m\n\u001B[1;32m    761\u001B[0m     \u001B[0;32mdef\u001B[0m \u001B[0mwait\u001B[0m\u001B[0;34m(\u001B[0m\u001B[0mself\u001B[0m\u001B[0;34m,\u001B[0m \u001B[0mtimeout\u001B[0m\u001B[0;34m=\u001B[0m\u001B[0;32mNone\u001B[0m\u001B[0;34m)\u001B[0m\u001B[0;34m:\u001B[0m\u001B[0;34m\u001B[0m\u001B[0;34m\u001B[0m\u001B[0m\n\u001B[0;32m--> 762\u001B[0;31m         \u001B[0mself\u001B[0m\u001B[0;34m.\u001B[0m\u001B[0m_event\u001B[0m\u001B[0;34m.\u001B[0m\u001B[0mwait\u001B[0m\u001B[0;34m(\u001B[0m\u001B[0mtimeout\u001B[0m\u001B[0;34m)\u001B[0m\u001B[0;34m\u001B[0m\u001B[0;34m\u001B[0m\u001B[0m\n\u001B[0m\u001B[1;32m    763\u001B[0m \u001B[0;34m\u001B[0m\u001B[0m\n\u001B[1;32m    764\u001B[0m     \u001B[0;32mdef\u001B[0m \u001B[0mget\u001B[0m\u001B[0;34m(\u001B[0m\u001B[0mself\u001B[0m\u001B[0;34m,\u001B[0m \u001B[0mtimeout\u001B[0m\u001B[0;34m=\u001B[0m\u001B[0;32mNone\u001B[0m\u001B[0;34m)\u001B[0m\u001B[0;34m:\u001B[0m\u001B[0;34m\u001B[0m\u001B[0;34m\u001B[0m\u001B[0m\n",
      "\u001B[0;32m~/miniconda3/envs/raga/lib/python3.8/threading.py\u001B[0m in \u001B[0;36mwait\u001B[0;34m(self, timeout)\u001B[0m\n\u001B[1;32m    556\u001B[0m             \u001B[0msignaled\u001B[0m \u001B[0;34m=\u001B[0m \u001B[0mself\u001B[0m\u001B[0;34m.\u001B[0m\u001B[0m_flag\u001B[0m\u001B[0;34m\u001B[0m\u001B[0;34m\u001B[0m\u001B[0m\n\u001B[1;32m    557\u001B[0m             \u001B[0;32mif\u001B[0m \u001B[0;32mnot\u001B[0m \u001B[0msignaled\u001B[0m\u001B[0;34m:\u001B[0m\u001B[0;34m\u001B[0m\u001B[0;34m\u001B[0m\u001B[0m\n\u001B[0;32m--> 558\u001B[0;31m                 \u001B[0msignaled\u001B[0m \u001B[0;34m=\u001B[0m \u001B[0mself\u001B[0m\u001B[0;34m.\u001B[0m\u001B[0m_cond\u001B[0m\u001B[0;34m.\u001B[0m\u001B[0mwait\u001B[0m\u001B[0;34m(\u001B[0m\u001B[0mtimeout\u001B[0m\u001B[0;34m)\u001B[0m\u001B[0;34m\u001B[0m\u001B[0;34m\u001B[0m\u001B[0m\n\u001B[0m\u001B[1;32m    559\u001B[0m             \u001B[0;32mreturn\u001B[0m \u001B[0msignaled\u001B[0m\u001B[0;34m\u001B[0m\u001B[0;34m\u001B[0m\u001B[0m\n\u001B[1;32m    560\u001B[0m \u001B[0;34m\u001B[0m\u001B[0m\n",
      "\u001B[0;32m~/miniconda3/envs/raga/lib/python3.8/threading.py\u001B[0m in \u001B[0;36mwait\u001B[0;34m(self, timeout)\u001B[0m\n\u001B[1;32m    300\u001B[0m         \u001B[0;32mtry\u001B[0m\u001B[0;34m:\u001B[0m    \u001B[0;31m# restore state no matter what (e.g., KeyboardInterrupt)\u001B[0m\u001B[0;34m\u001B[0m\u001B[0;34m\u001B[0m\u001B[0m\n\u001B[1;32m    301\u001B[0m             \u001B[0;32mif\u001B[0m \u001B[0mtimeout\u001B[0m \u001B[0;32mis\u001B[0m \u001B[0;32mNone\u001B[0m\u001B[0;34m:\u001B[0m\u001B[0;34m\u001B[0m\u001B[0;34m\u001B[0m\u001B[0m\n\u001B[0;32m--> 302\u001B[0;31m                 \u001B[0mwaiter\u001B[0m\u001B[0;34m.\u001B[0m\u001B[0macquire\u001B[0m\u001B[0;34m(\u001B[0m\u001B[0;34m)\u001B[0m\u001B[0;34m\u001B[0m\u001B[0;34m\u001B[0m\u001B[0m\n\u001B[0m\u001B[1;32m    303\u001B[0m                 \u001B[0mgotit\u001B[0m \u001B[0;34m=\u001B[0m \u001B[0;32mTrue\u001B[0m\u001B[0;34m\u001B[0m\u001B[0;34m\u001B[0m\u001B[0m\n\u001B[1;32m    304\u001B[0m             \u001B[0;32melse\u001B[0m\u001B[0;34m:\u001B[0m\u001B[0;34m\u001B[0m\u001B[0;34m\u001B[0m\u001B[0m\n",
      "\u001B[0;31mKeyboardInterrupt\u001B[0m: "
     ]
    }
   ],
   "source": [
    "tc8, totc8, ss8 = ragaIterator(10, '8', '8_d', num_surrogates=150, times_it=t_dict)"
   ],
   "metadata": {
    "collapsed": false,
    "pycharm": {
     "name": "#%%\n"
    }
   }
  },
  {
   "cell_type": "code",
   "execution_count": null,
   "outputs": [],
   "source": [
    "avg_conns(tc8), avg_conns(t_dict[\"Surrogate8\"]), avg_conns(t_dict[\"Causality8\"])"
   ],
   "metadata": {
    "collapsed": false,
    "pycharm": {
     "name": "#%%\n"
    }
   }
  },
  {
   "cell_type": "code",
   "execution_count": null,
   "outputs": [],
   "source": [
    "tc22, totc22, ss22 = ragaIterator(10, '22', '22_a', num_surrogates=150, times_it=t_dict)"
   ],
   "metadata": {
    "collapsed": false,
    "pycharm": {
     "name": "#%%\n"
    }
   }
  },
  {
   "cell_type": "code",
   "execution_count": null,
   "outputs": [],
   "source": [
    "avg_conns(tc22), avg_conns(t_dict[\"Surrogate22\"]), avg_conns(t_dict[\"Causality22\"])"
   ],
   "metadata": {
    "collapsed": false,
    "pycharm": {
     "name": "#%%\n"
    }
   }
  },
  {
   "cell_type": "code",
   "execution_count": null,
   "outputs": [],
   "source": [
    "tc28, totc28, ss28 = ragaIterator(10, '28', '28_k', num_surrogates=150, times_it=t_dict)"
   ],
   "metadata": {
    "collapsed": false,
    "pycharm": {
     "name": "#%%\n"
    }
   }
  },
  {
   "cell_type": "code",
   "execution_count": null,
   "outputs": [],
   "source": [
    "avg_conns(tc28), avg_conns(t_dict[\"Surrogate28\"]), avg_conns(t_dict[\"Causality28\"])"
   ],
   "metadata": {
    "collapsed": false,
    "pycharm": {
     "name": "#%%\n"
    }
   }
  },
  {
   "cell_type": "code",
   "execution_count": null,
   "outputs": [],
   "source": [
    "tc29, totc29, ss29 = ragaIterator(10, '29', '29_h', num_surrogates=150, times_it=t_dict)"
   ],
   "metadata": {
    "collapsed": false,
    "pycharm": {
     "name": "#%%\n"
    }
   }
  },
  {
   "cell_type": "code",
   "execution_count": null,
   "outputs": [],
   "source": [
    "avg_conns(tc29), avg_conns(t_dict[\"Surrogate29\"]), avg_conns(t_dict[\"Causality29\"])"
   ],
   "metadata": {
    "collapsed": false,
    "pycharm": {
     "name": "#%%\n"
    }
   }
  },
  {
   "cell_type": "code",
   "execution_count": null,
   "outputs": [],
   "source": [
    "t_dict"
   ],
   "metadata": {
    "collapsed": false,
    "pycharm": {
     "name": "#%%\n"
    }
   }
  }
 ],
 "metadata": {
  "kernelspec": {
   "display_name": "Python 3",
   "language": "python",
   "name": "python3"
  },
  "language_info": {
   "codemirror_mode": {
    "name": "ipython",
    "version": 2
   },
   "file_extension": ".py",
   "mimetype": "text/x-python",
   "name": "python",
   "nbconvert_exporter": "python",
   "pygments_lexer": "ipython2",
   "version": "2.7.6"
  }
 },
 "nbformat": 4,
 "nbformat_minor": 0
}