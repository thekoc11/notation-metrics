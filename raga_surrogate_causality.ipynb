{
 "cells": [
  {
   "cell_type": "code",
   "execution_count": 1,
   "metadata": {
    "collapsed": true
   },
   "outputs": [],
   "source": [
    "import time\n",
    "\n",
    "from utils import dataStructures, dataset, parallelizer\n",
    "from utils.generators import markovian\n",
    "import numpy as np\n",
    "import os\n"
   ]
  },
  {
   "cell_type": "code",
   "execution_count": null,
   "outputs": [],
   "source": [
    "avg_conns = lambda t_c : np.array(t_c).mean()\n",
    "\n",
    "\n",
    "def print_correct(mela_id='22', janya_id='22_a', num_surr=100, surr_serial=False, time_cal=None, pre_length=None):\n",
    "    dat = dataset.GetRagaSongCoordsConcat(mela_id, janya_id)\n",
    "    # dat1 = dataset.GetRagaSongCoords(janya_id)\n",
    "    if time_cal is not None:\n",
    "        assert isinstance(time_cal, dict)\n",
    "    print(\"Starting surrogate generation...\")\n",
    "    t1 = time.perf_counter()\n",
    "    d_surr1 = markovian.GenerateForRaga(mela_id, num_surr, serial=surr_serial)\n",
    "    d_surr2 = markovian.GenerateForRaga(janya_id, num_surr, serial=surr_serial)\n",
    "    t2 = time.perf_counter()\n",
    "    for key in dat:\n",
    "        dat[key] = dataStructures.PackTuples(*dat[key])\n",
    "\n",
    "    # for key in dat1:\n",
    "    #     dat1[key] = dataStructures.PackTuples(*dat1[key])\n",
    "\n",
    "    d_fin1 = dataset.ConcatenateDicts(dat, d_surr1, d_surr2)\n",
    "    adj = dataset.GetAdjustedMelodies(d_fin1, pre_min_len=pre_length)\n",
    "    print(f\"adjusted Melody length: {len(list(adj.values())[0])}\")\n",
    "    print(\"finding causality....\")\n",
    "    t3 = time.perf_counter()\n",
    "    tc, totc, strengths = parallelizer.TrueLZPCausality_listParallel(list(adj.values()), list(adj.keys()), mela=dataset.GetRagaFromRagaId(mela_id))\n",
    "    t4 = time.perf_counter()\n",
    "\n",
    "    if time_cal is not None:\n",
    "        time_cal[\"Surrogate{}\".format(mela_id)] = t2 - t1\n",
    "        time_cal[\"Causality{}\".format(mela_id)] = t4 - t3\n",
    "    return tc, totc, strengths\n",
    "\n",
    "def get_generation_time50(mela_id='22', janya_id='22_a', surr_serial=True):\n",
    "    dat = dataset.GetRagaSongCoordsConcat(mela_id)\n",
    "    dat1 = dataset.GetRagaSongCoords(janya_id)\n",
    "    print(\"Starting surrogate generation...\")\n",
    "    t1 = time.perf_counter()\n",
    "    d_surr1 = markovian.GenerateForRaga(mela_id, 50, serial=surr_serial)\n",
    "    d_surr2 = markovian.GenerateForRaga(janya_id, 50, serial=surr_serial)\n",
    "    t2 = time.perf_counter()\n",
    "    for key in dat:\n",
    "        dat[key] = dataStructures.PackTuples(*dat[key])\n",
    "\n",
    "    for key in dat1:\n",
    "        dat1[key] = dataStructures.PackTuples(*dat1[key])\n",
    "\n",
    "    d_fin1 = dataset.ConcatenateDicts(dat, d_surr1, dat1, d_surr2)\n",
    "    adj = dataset.GetAdjustedMelodies(d_fin1)\n",
    "\n",
    "    return t2 - t1\n",
    "\n",
    "\n",
    "def ragaIterator(n_iters, mela, janya, num_surrogates=100, write=True, times_it=None, pre_length=None):\n",
    "    if times_it is not None:\n",
    "        assert isinstance(times_it, dict)\n",
    "        times_it[\"Surrogate{}\".format(mela)] = []\n",
    "        times_it[\"Causality{}\".format(mela)] = []\n",
    "    p = pre_length if pre_length is not None else ''\n",
    "    tcs = []\n",
    "    strengths = []\n",
    "    totcs = []\n",
    "    f = open(\"/home/efm-workstation/surr_stats/{}/truecauses{}_{}.txt\".format(mela, num_surrogates, p), \"w\")\n",
    "    t1 = time.perf_counter()\n",
    "    for i in range(n_iters):\n",
    "        print(\"iteration: \", i + 1)\n",
    "        tm = {}\n",
    "        tc, totc, st = print_correct(mela, janya, num_surr=num_surrogates, surr_serial=True, time_cal=tm, pre_length=pre_length)\n",
    "\n",
    "        if times_it is not None:\n",
    "            times_it[\"Surrogate{}\".format(mela)].append(tm[\"Surrogate{}\".format(mela)])\n",
    "            times_it[\"Causality{}\".format(mela)].append(tm[\"Causality{}\".format(mela)])\n",
    "        if write:\n",
    "            f.write(\"iteration: {}/{}, {}/{}; time taken: {}/{}\\n\".format(i+1, n_iters, tc, totc,\n",
    "                                                                          tm[\"Surrogate{}\".format(mela)],\n",
    "                                                                          tm[\"Causality{}\".format(mela)]))\n",
    "        t = time.perf_counter()\n",
    "        print(\"time elapsed: \", (t - t1))\n",
    "        t1 = t\n",
    "        tcs.append(tc)\n",
    "        totcs.append(totc)\n",
    "        strengths.append(st)\n",
    "    f.write(\"\\n Average Connections: {}/{};\\t Avg. time taken: {}/{}\\n\".format(avg_conns(tcs), totcs[-1],\n",
    "                                                                               avg_conns(times_it[\"Surrogate{}\".format(mela)]),\n",
    "                                                                               avg_conns(times_it[\"Causality{}\".format(mela)])))\n",
    "    f.close()\n",
    "    return tcs, totcs, strengths\n",
    "\n",
    "def run(mela, janya, num_surrogates=50, num_iterations=10, const_len=None):\n",
    "    t_dict = {}\n",
    "    tc, totc, ss = ragaIterator(num_iterations, mela, janya, num_surrogates=num_surrogates, times_it=t_dict)\n",
    "    os.system(\"cat /home/efm-workstation/surr_stats/{}/truecauses{}.txt\".format(mela, janya))\n",
    "    print(f\"{avg_conns(tc)}/{totc[-1]}, {avg_conns(t_dict['Surrogate{}'.format(mela)])}, {avg_conns(t_dict['Causality{}'.format(mela)])}\")"
   ],
   "metadata": {
    "collapsed": false,
    "pycharm": {
     "name": "#%%\n",
     "is_executing": true
    }
   }
  },
  {
   "cell_type": "markdown",
   "source": [
    "## 100 Surrogates"
   ],
   "metadata": {
    "collapsed": false,
    "pycharm": {
     "name": "#%% md\n"
    }
   }
  },
  {
   "cell_type": "code",
   "execution_count": null,
   "outputs": [],
   "source": [
    "run('8', '8_d', num_surrogates=100)\n",
    "run('15', '15_m', num_surrogates=100)\n",
    "run('22', '22_a', num_surrogates=100)\n",
    "run('28', '28_k', num_surrogates=100)\n",
    "run('29', '29_h', num_surrogates=100)\n",
    "run('65', '29_h', num_surrogates=100)"
   ],
   "metadata": {
    "collapsed": false,
    "pycharm": {
     "name": "#%%\n"
    }
   }
  },
  {
   "cell_type": "markdown",
   "source": [
    "## 50 Surrogates"
   ],
   "metadata": {
    "collapsed": false,
    "pycharm": {
     "name": "#%% md\n"
    }
   }
  },
  {
   "cell_type": "code",
   "execution_count": null,
   "outputs": [
    {
     "name": "stdout",
     "output_type": "stream",
     "text": [
      "iteration:  1\n",
      "Starting surrogate generation...\n"
     ]
    },
    {
     "name": "stderr",
     "output_type": "stream",
     "text": [
      "100%|██████████| 50/50 [00:21<00:00,  2.29it/s]\n",
      "100%|██████████| 50/50 [00:25<00:00,  1.94it/s]\n"
     ]
    },
    {
     "name": "stdout",
     "output_type": "stream",
     "text": [
      "adjusted Melody length: 84960\n",
      "finding causality....\n",
      "428 true causes out of 3248 total connections\n",
      "time elapsed:  513.471185366001\n",
      "iteration:  2\n",
      "Starting surrogate generation...\n"
     ]
    },
    {
     "name": "stderr",
     "output_type": "stream",
     "text": [
      "100%|██████████| 50/50 [00:19<00:00,  2.61it/s]\n",
      "100%|██████████| 50/50 [00:29<00:00,  1.67it/s]\n"
     ]
    },
    {
     "name": "stdout",
     "output_type": "stream",
     "text": [
      "adjusted Melody length: 84960\n",
      "finding causality....\n",
      "330 true causes out of 3248 total connections\n",
      "time elapsed:  514.2285978239997\n",
      "iteration:  3\n",
      "Starting surrogate generation...\n"
     ]
    },
    {
     "name": "stderr",
     "output_type": "stream",
     "text": [
      "100%|██████████| 50/50 [00:20<00:00,  2.45it/s]\n",
      "100%|██████████| 50/50 [00:22<00:00,  2.23it/s]\n"
     ]
    },
    {
     "name": "stdout",
     "output_type": "stream",
     "text": [
      "adjusted Melody length: 84960\n",
      "finding causality....\n",
      "296 true causes out of 3248 total connections\n",
      "time elapsed:  489.2709286190002\n",
      "iteration:  4\n",
      "Starting surrogate generation...\n"
     ]
    },
    {
     "name": "stderr",
     "output_type": "stream",
     "text": [
      "100%|██████████| 50/50 [00:15<00:00,  3.23it/s]\n",
      "100%|██████████| 50/50 [02:05<00:00,  2.51s/it]\n"
     ]
    },
    {
     "name": "stdout",
     "output_type": "stream",
     "text": [
      "adjusted Melody length: 84960\n",
      "finding causality....\n",
      "403 true causes out of 3248 total connections\n",
      "time elapsed:  590.4544750519999\n",
      "iteration:  5\n",
      "Starting surrogate generation...\n"
     ]
    },
    {
     "name": "stderr",
     "output_type": "stream",
     "text": [
      "100%|██████████| 50/50 [00:13<00:00,  3.72it/s]\n",
      "100%|██████████| 50/50 [00:17<00:00,  2.85it/s]\n"
     ]
    },
    {
     "name": "stdout",
     "output_type": "stream",
     "text": [
      "adjusted Melody length: 84960\n",
      "finding causality....\n",
      "316 true causes out of 3248 total connections\n",
      "time elapsed:  476.0469055049998\n",
      "iteration:  6\n",
      "Starting surrogate generation...\n"
     ]
    },
    {
     "name": "stderr",
     "output_type": "stream",
     "text": [
      "100%|██████████| 50/50 [00:21<00:00,  2.29it/s]\n",
      "100%|██████████| 50/50 [00:20<00:00,  2.41it/s]\n"
     ]
    },
    {
     "name": "stdout",
     "output_type": "stream",
     "text": [
      "adjusted Melody length: 84960\n",
      "finding causality....\n",
      "421 true causes out of 3248 total connections\n",
      "time elapsed:  489.8475783419999\n",
      "iteration:  7\n",
      "Starting surrogate generation...\n"
     ]
    },
    {
     "name": "stderr",
     "output_type": "stream",
     "text": [
      "100%|██████████| 50/50 [00:15<00:00,  3.19it/s]\n",
      "100%|██████████| 50/50 [01:50<00:00,  2.21s/it]\n"
     ]
    },
    {
     "name": "stdout",
     "output_type": "stream",
     "text": [
      "adjusted Melody length: 84960\n",
      "finding causality....\n",
      "210 true causes out of 3248 total connections\n",
      "time elapsed:  572.8297621040001\n",
      "iteration:  8\n",
      "Starting surrogate generation...\n"
     ]
    },
    {
     "name": "stderr",
     "output_type": "stream",
     "text": [
      "100%|██████████| 50/50 [00:18<00:00,  2.64it/s]\n",
      "100%|██████████| 50/50 [00:13<00:00,  3.65it/s]\n"
     ]
    },
    {
     "name": "stdout",
     "output_type": "stream",
     "text": [
      "adjusted Melody length: 84960\n",
      "finding causality....\n",
      "358 true causes out of 3248 total connections\n",
      "time elapsed:  485.98652655799924\n",
      "iteration:  9\n",
      "Starting surrogate generation...\n"
     ]
    },
    {
     "name": "stderr",
     "output_type": "stream",
     "text": [
      "100%|██████████| 50/50 [00:19<00:00,  2.56it/s]\n",
      "100%|██████████| 50/50 [04:38<00:00,  5.56s/it]\n"
     ]
    },
    {
     "name": "stdout",
     "output_type": "stream",
     "text": [
      "adjusted Melody length: 84960\n",
      "finding causality....\n",
      "344 true causes out of 3248 total connections\n",
      "time elapsed:  754.5215789030008\n",
      "iteration:  10\n",
      "Starting surrogate generation...\n"
     ]
    },
    {
     "name": "stderr",
     "output_type": "stream",
     "text": [
      "100%|██████████| 50/50 [00:23<00:00,  2.11it/s]\n",
      "100%|██████████| 50/50 [00:23<00:00,  2.16it/s]\n"
     ]
    },
    {
     "name": "stdout",
     "output_type": "stream",
     "text": [
      "adjusted Melody length: 84960\n",
      "finding causality....\n",
      "295 true causes out of 3248 total connections\n",
      "time elapsed:  492.9266937939992\n",
      "340.1/3248, 88.06279979069969, 435.5216942193001\n",
      "iteration:  1\n",
      "Starting surrogate generation...\n"
     ]
    },
    {
     "name": "stderr",
     "output_type": "stream",
     "text": [
      "100%|██████████| 50/50 [00:29<00:00,  1.71it/s]\n",
      "100%|██████████| 50/50 [00:14<00:00,  3.50it/s]\n"
     ]
    },
    {
     "name": "stdout",
     "output_type": "stream",
     "text": [
      "adjusted Melody length: 43680\n",
      "finding causality....\n",
      "2420 true causes out of 3024 total connections\n",
      "time elapsed:  207.59192394799902\n",
      "iteration:  2\n",
      "Starting surrogate generation...\n"
     ]
    },
    {
     "name": "stderr",
     "output_type": "stream",
     "text": [
      "100%|██████████| 50/50 [00:19<00:00,  2.57it/s]\n",
      "100%|██████████| 50/50 [00:17<00:00,  2.82it/s]\n"
     ]
    },
    {
     "name": "stdout",
     "output_type": "stream",
     "text": [
      "adjusted Melody length: 43680\n",
      "finding causality....\n",
      "2154 true causes out of 3024 total connections\n",
      "time elapsed:  199.6355609050006\n",
      "iteration:  3\n",
      "Starting surrogate generation...\n"
     ]
    },
    {
     "name": "stderr",
     "output_type": "stream",
     "text": [
      "100%|██████████| 50/50 [02:55<00:00,  3.52s/it]\n",
      "100%|██████████| 50/50 [00:12<00:00,  4.03it/s]\n"
     ]
    },
    {
     "name": "stdout",
     "output_type": "stream",
     "text": [
      "adjusted Melody length: 43680\n",
      "finding causality....\n",
      "2346 true causes out of 3024 total connections\n",
      "time elapsed:  351.1476544010002\n",
      "iteration:  4\n",
      "Starting surrogate generation...\n"
     ]
    },
    {
     "name": "stderr",
     "output_type": "stream",
     "text": [
      "100%|██████████| 50/50 [00:15<00:00,  3.25it/s]\n",
      "100%|██████████| 50/50 [00:16<00:00,  3.06it/s]\n"
     ]
    },
    {
     "name": "stdout",
     "output_type": "stream",
     "text": [
      "adjusted Melody length: 43680\n",
      "finding causality....\n",
      "2414 true causes out of 3024 total connections\n",
      "time elapsed:  192.88545781500034\n",
      "iteration:  5\n",
      "Starting surrogate generation...\n"
     ]
    },
    {
     "name": "stderr",
     "output_type": "stream",
     "text": [
      "100%|██████████| 50/50 [01:31<00:00,  1.83s/it]\n",
      "100%|██████████| 50/50 [01:05<00:00,  1.31s/it]\n"
     ]
    },
    {
     "name": "stdout",
     "output_type": "stream",
     "text": [
      "adjusted Melody length: 43680\n",
      "finding causality....\n",
      "2392 true causes out of 3024 total connections\n",
      "time elapsed:  320.16589477600064\n",
      "iteration:  6\n",
      "Starting surrogate generation...\n"
     ]
    },
    {
     "name": "stderr",
     "output_type": "stream",
     "text": [
      "100%|██████████| 50/50 [00:17<00:00,  2.84it/s]\n",
      "100%|██████████| 50/50 [00:22<00:00,  2.26it/s]\n"
     ]
    },
    {
     "name": "stdout",
     "output_type": "stream",
     "text": [
      "adjusted Melody length: 43680\n",
      "finding causality....\n",
      "2293 true causes out of 3024 total connections\n",
      "time elapsed:  200.6864312409998\n",
      "iteration:  7\n",
      "Starting surrogate generation...\n"
     ]
    },
    {
     "name": "stderr",
     "output_type": "stream",
     "text": [
      "100%|██████████| 50/50 [00:17<00:00,  2.80it/s]\n",
      "100%|██████████| 50/50 [00:12<00:00,  3.91it/s]\n"
     ]
    },
    {
     "name": "stdout",
     "output_type": "stream",
     "text": [
      "adjusted Melody length: 43680\n",
      "finding causality....\n",
      "2468 true causes out of 3024 total connections\n",
      "time elapsed:  196.28521087499757\n",
      "iteration:  8\n",
      "Starting surrogate generation...\n"
     ]
    },
    {
     "name": "stderr",
     "output_type": "stream",
     "text": [
      "100%|██████████| 50/50 [00:18<00:00,  2.64it/s]\n",
      "100%|██████████| 50/50 [02:50<00:00,  3.40s/it]\n"
     ]
    },
    {
     "name": "stdout",
     "output_type": "stream",
     "text": [
      "adjusted Melody length: 43680\n",
      "finding causality....\n",
      "2459 true causes out of 3024 total connections\n",
      "time elapsed:  350.1645904210018\n",
      "iteration:  9\n",
      "Starting surrogate generation...\n"
     ]
    },
    {
     "name": "stderr",
     "output_type": "stream",
     "text": [
      "100%|██████████| 50/50 [00:15<00:00,  3.14it/s]\n",
      "100%|██████████| 50/50 [00:15<00:00,  3.30it/s]\n"
     ]
    },
    {
     "name": "stdout",
     "output_type": "stream",
     "text": [
      "adjusted Melody length: 43680\n",
      "finding causality....\n",
      "2412 true causes out of 3024 total connections\n",
      "time elapsed:  192.94332171299902\n",
      "iteration:  10\n",
      "Starting surrogate generation...\n"
     ]
    },
    {
     "name": "stderr",
     "output_type": "stream",
     "text": [
      "100%|██████████| 50/50 [00:16<00:00,  3.02it/s]\n",
      "100%|██████████| 50/50 [02:13<00:00,  2.67s/it]\n"
     ]
    },
    {
     "name": "stdout",
     "output_type": "stream",
     "text": [
      "adjusted Melody length: 43680\n",
      "finding causality....\n",
      "2533 true causes out of 3024 total connections\n",
      "time elapsed:  314.6432206829995\n",
      "2389.1/3024, 90.79572057680016, 147.90639417019958\n",
      "iteration:  1\n",
      "Starting surrogate generation...\n"
     ]
    },
    {
     "name": "stderr",
     "output_type": "stream",
     "text": [
      "100%|██████████| 50/50 [00:21<00:00,  2.38it/s]\n",
      "100%|██████████| 50/50 [00:18<00:00,  2.68it/s]\n"
     ]
    },
    {
     "name": "stdout",
     "output_type": "stream",
     "text": [
      "adjusted Melody length: 112240\n",
      "finding causality....\n",
      "1853 true causes out of 2968 total connections\n",
      "time elapsed:  557.8043390560015\n",
      "iteration:  2\n",
      "Starting surrogate generation...\n"
     ]
    },
    {
     "name": "stderr",
     "output_type": "stream",
     "text": [
      "  6%|▌         | 3/50 [00:00<00:07,  6.17it/s]"
     ]
    }
   ],
   "source": [
    "run('8', '8_d', num_surrogates=50)\n",
    "run('15', '15_m', num_surrogates=50)\n",
    "run('22', '22_a', num_surrogates=50)\n",
    "run('28', '28_k', num_surrogates=50)\n",
    "run('29', '29_h', num_surrogates=50)\n",
    "run('65', '29_h', num_surrogates=50)\n"
   ],
   "metadata": {
    "collapsed": false,
    "pycharm": {
     "name": "#%%\n",
     "is_executing": true
    }
   }
  },
  {
   "cell_type": "code",
   "execution_count": 4,
   "outputs": [],
   "source": [
    "t_dict = {}"
   ],
   "metadata": {
    "collapsed": false,
    "pycharm": {
     "name": "#%%\n"
    }
   }
  },
  {
   "cell_type": "code",
   "execution_count": 11,
   "outputs": [
    {
     "name": "stdout",
     "output_type": "stream",
     "text": [
      "iteration:  1\n",
      "Starting surrogate generation...\n"
     ]
    },
    {
     "name": "stderr",
     "output_type": "stream",
     "text": [
      "100%|██████████| 50/50 [00:14<00:00,  3.38it/s]\n",
      "100%|██████████| 50/50 [00:12<00:00,  3.96it/s]\n"
     ]
    },
    {
     "name": "stdout",
     "output_type": "stream",
     "text": [
      "adjusted Melody length: 43680\n",
      "finding causality....\n",
      "1615 true causes out of 3024 total connections\n",
      "time elapsed:  218.37166827799956\n",
      "iteration:  2\n",
      "Starting surrogate generation...\n"
     ]
    },
    {
     "name": "stderr",
     "output_type": "stream",
     "text": [
      "100%|██████████| 50/50 [00:26<00:00,  1.87it/s]\n",
      "100%|██████████| 50/50 [00:21<00:00,  2.38it/s]\n"
     ]
    },
    {
     "name": "stdout",
     "output_type": "stream",
     "text": [
      "adjusted Melody length: 43680\n",
      "finding causality....\n",
      "1669 true causes out of 3024 total connections\n",
      "time elapsed:  240.33316805800132\n",
      "iteration:  3\n",
      "Starting surrogate generation...\n"
     ]
    },
    {
     "name": "stderr",
     "output_type": "stream",
     "text": [
      "100%|██████████| 50/50 [00:20<00:00,  2.47it/s]\n",
      "100%|██████████| 50/50 [00:36<00:00,  1.37it/s]\n"
     ]
    },
    {
     "name": "stdout",
     "output_type": "stream",
     "text": [
      "adjusted Melody length: 43680\n",
      "finding causality....\n",
      "1583 true causes out of 3024 total connections\n",
      "time elapsed:  245.3784230550009\n",
      "iteration:  4\n",
      "Starting surrogate generation...\n"
     ]
    },
    {
     "name": "stderr",
     "output_type": "stream",
     "text": [
      "100%|██████████| 50/50 [00:13<00:00,  3.65it/s]\n",
      "100%|██████████| 50/50 [00:15<00:00,  3.30it/s]\n"
     ]
    },
    {
     "name": "stdout",
     "output_type": "stream",
     "text": [
      "adjusted Melody length: 43680\n",
      "finding causality....\n",
      "1761 true causes out of 3024 total connections\n",
      "time elapsed:  221.87518636499954\n",
      "iteration:  5\n",
      "Starting surrogate generation...\n"
     ]
    },
    {
     "name": "stderr",
     "output_type": "stream",
     "text": [
      "100%|██████████| 50/50 [00:15<00:00,  3.20it/s]\n",
      "100%|██████████| 50/50 [00:18<00:00,  2.68it/s]\n"
     ]
    },
    {
     "name": "stdout",
     "output_type": "stream",
     "text": [
      "adjusted Melody length: 43680\n",
      "finding causality....\n",
      "1616 true causes out of 3024 total connections\n",
      "time elapsed:  226.12792029499906\n",
      "iteration:  6\n",
      "Starting surrogate generation...\n"
     ]
    },
    {
     "name": "stderr",
     "output_type": "stream",
     "text": [
      "100%|██████████| 50/50 [00:25<00:00,  1.94it/s]\n",
      "100%|██████████| 50/50 [00:14<00:00,  3.51it/s]\n"
     ]
    },
    {
     "name": "stdout",
     "output_type": "stream",
     "text": [
      "adjusted Melody length: 43680\n",
      "finding causality....\n",
      "1602 true causes out of 3024 total connections\n",
      "time elapsed:  228.65682360400024\n",
      "iteration:  7\n",
      "Starting surrogate generation...\n"
     ]
    },
    {
     "name": "stderr",
     "output_type": "stream",
     "text": [
      "100%|██████████| 50/50 [00:19<00:00,  2.52it/s]\n",
      "100%|██████████| 50/50 [00:09<00:00,  5.35it/s]\n"
     ]
    },
    {
     "name": "stdout",
     "output_type": "stream",
     "text": [
      "adjusted Melody length: 43680\n",
      "finding causality....\n",
      "1765 true causes out of 3024 total connections\n",
      "time elapsed:  222.55596132799838\n",
      "iteration:  8\n",
      "Starting surrogate generation...\n"
     ]
    },
    {
     "name": "stderr",
     "output_type": "stream",
     "text": [
      "100%|██████████| 50/50 [00:11<00:00,  4.53it/s]\n",
      "100%|██████████| 50/50 [00:10<00:00,  4.76it/s]\n"
     ]
    },
    {
     "name": "stdout",
     "output_type": "stream",
     "text": [
      "adjusted Melody length: 43680\n",
      "finding causality....\n",
      "1747 true causes out of 3024 total connections\n",
      "time elapsed:  212.7220547470024\n",
      "iteration:  9\n",
      "Starting surrogate generation...\n"
     ]
    },
    {
     "name": "stderr",
     "output_type": "stream",
     "text": [
      "100%|██████████| 50/50 [00:23<00:00,  2.12it/s]\n",
      "100%|██████████| 50/50 [00:20<00:00,  2.41it/s]\n"
     ]
    },
    {
     "name": "stdout",
     "output_type": "stream",
     "text": [
      "adjusted Melody length: 43680\n",
      "finding causality....\n",
      "1608 true causes out of 3024 total connections\n",
      "time elapsed:  233.68813059999957\n",
      "iteration:  10\n",
      "Starting surrogate generation...\n"
     ]
    },
    {
     "name": "stderr",
     "output_type": "stream",
     "text": [
      "100%|██████████| 50/50 [00:16<00:00,  2.98it/s]\n",
      "100%|██████████| 50/50 [00:14<00:00,  3.53it/s]\n"
     ]
    },
    {
     "name": "stdout",
     "output_type": "stream",
     "text": [
      "adjusted Melody length: 43680\n",
      "finding causality....\n",
      "1480 true causes out of 3024 total connections\n",
      "time elapsed:  219.93920594000156\n"
     ]
    }
   ],
   "source": [
    "tc65, totc65, ss65 = ragaIterator(10, '65', '29_h', num_surrogates=50, times_it=t_dict)"
   ],
   "metadata": {
    "collapsed": false,
    "pycharm": {
     "name": "#%%\n"
    }
   }
  },
  {
   "cell_type": "code",
   "execution_count": 12,
   "outputs": [
    {
     "data": {
      "text/plain": "(1644.6, 37.424173020300074, 182.3727227753996)"
     },
     "execution_count": 12,
     "metadata": {},
     "output_type": "execute_result"
    }
   ],
   "source": [
    "avg_conns(tc65), avg_conns(t_dict[\"Surrogate65\"]), avg_conns(t_dict[\"Causality65\"])"
   ],
   "metadata": {
    "collapsed": false,
    "pycharm": {
     "name": "#%%\n"
    }
   }
  },
  {
   "cell_type": "code",
   "execution_count": 5,
   "outputs": [
    {
     "name": "stdout",
     "output_type": "stream",
     "text": [
      "iteration:  1\n",
      "Starting surrogate generation...\n"
     ]
    },
    {
     "name": "stderr",
     "output_type": "stream",
     "text": [
      "100%|██████████| 50/50 [00:34<00:00,  1.43it/s]\n",
      "100%|██████████| 50/50 [00:13<00:00,  3.79it/s]\n"
     ]
    },
    {
     "name": "stdout",
     "output_type": "stream",
     "text": [
      "adjusted Melody length: 43680\n",
      "finding causality....\n",
      "2633 true causes out of 3024 total connections\n",
      "time elapsed:  212.19028972700016\n",
      "iteration:  2\n",
      "Starting surrogate generation...\n"
     ]
    },
    {
     "name": "stderr",
     "output_type": "stream",
     "text": [
      "100%|██████████| 50/50 [00:50<00:00,  1.01s/it]\n",
      "100%|██████████| 50/50 [00:21<00:00,  2.34it/s]\n"
     ]
    },
    {
     "name": "stdout",
     "output_type": "stream",
     "text": [
      "adjusted Melody length: 43680\n",
      "finding causality....\n",
      "2341 true causes out of 3024 total connections\n",
      "time elapsed:  236.07045239299987\n",
      "iteration:  3\n",
      "Starting surrogate generation...\n"
     ]
    },
    {
     "name": "stderr",
     "output_type": "stream",
     "text": [
      "100%|██████████| 50/50 [00:19<00:00,  2.59it/s]\n",
      "100%|██████████| 50/50 [00:51<00:00,  1.03s/it]\n"
     ]
    },
    {
     "name": "stdout",
     "output_type": "stream",
     "text": [
      "adjusted Melody length: 43680\n",
      "finding causality....\n",
      "2294 true causes out of 3024 total connections\n",
      "time elapsed:  232.668492797\n",
      "iteration:  4\n",
      "Starting surrogate generation...\n"
     ]
    },
    {
     "name": "stderr",
     "output_type": "stream",
     "text": [
      "100%|██████████| 50/50 [00:17<00:00,  2.87it/s]\n",
      "100%|██████████| 50/50 [00:11<00:00,  4.20it/s]\n"
     ]
    },
    {
     "name": "stdout",
     "output_type": "stream",
     "text": [
      "adjusted Melody length: 43680\n",
      "finding causality....\n",
      "2521 true causes out of 3024 total connections\n",
      "time elapsed:  193.34618632800039\n",
      "iteration:  5\n",
      "Starting surrogate generation...\n"
     ]
    },
    {
     "name": "stderr",
     "output_type": "stream",
     "text": [
      "100%|██████████| 50/50 [02:20<00:00,  2.80s/it]\n",
      "100%|██████████| 50/50 [00:11<00:00,  4.20it/s]\n"
     ]
    },
    {
     "name": "stdout",
     "output_type": "stream",
     "text": [
      "adjusted Melody length: 43680\n",
      "finding causality....\n",
      "2450 true causes out of 3024 total connections\n",
      "time elapsed:  313.182176843\n",
      "iteration:  6\n",
      "Starting surrogate generation...\n"
     ]
    },
    {
     "name": "stderr",
     "output_type": "stream",
     "text": [
      "100%|██████████| 50/50 [00:13<00:00,  3.73it/s]\n",
      "100%|██████████| 50/50 [00:14<00:00,  3.57it/s]\n"
     ]
    },
    {
     "name": "stdout",
     "output_type": "stream",
     "text": [
      "adjusted Melody length: 43680\n",
      "finding causality....\n",
      "2522 true causes out of 3024 total connections\n",
      "time elapsed:  192.53686137000022\n",
      "iteration:  7\n",
      "Starting surrogate generation...\n"
     ]
    },
    {
     "name": "stderr",
     "output_type": "stream",
     "text": [
      "100%|██████████| 50/50 [00:18<00:00,  2.75it/s]\n",
      "100%|██████████| 50/50 [00:14<00:00,  3.41it/s]\n"
     ]
    },
    {
     "name": "stdout",
     "output_type": "stream",
     "text": [
      "adjusted Melody length: 43680\n",
      "finding causality....\n",
      "2463 true causes out of 3024 total connections\n",
      "time elapsed:  194.03206981699986\n",
      "iteration:  8\n",
      "Starting surrogate generation...\n"
     ]
    },
    {
     "name": "stderr",
     "output_type": "stream",
     "text": [
      "100%|██████████| 50/50 [00:19<00:00,  2.61it/s]\n",
      "100%|██████████| 50/50 [00:26<00:00,  1.89it/s]\n"
     ]
    },
    {
     "name": "stdout",
     "output_type": "stream",
     "text": [
      "adjusted Melody length: 43680\n",
      "finding causality....\n",
      "2431 true causes out of 3024 total connections\n",
      "time elapsed:  208.76942676599992\n",
      "iteration:  9\n",
      "Starting surrogate generation...\n"
     ]
    },
    {
     "name": "stderr",
     "output_type": "stream",
     "text": [
      "100%|██████████| 50/50 [00:15<00:00,  3.28it/s]\n",
      "100%|██████████| 50/50 [00:14<00:00,  3.52it/s]\n"
     ]
    },
    {
     "name": "stdout",
     "output_type": "stream",
     "text": [
      "adjusted Melody length: 43680\n",
      "finding causality....\n",
      "2307 true causes out of 3024 total connections\n",
      "time elapsed:  189.96863819200007\n",
      "iteration:  10\n",
      "Starting surrogate generation...\n"
     ]
    },
    {
     "name": "stderr",
     "output_type": "stream",
     "text": [
      "100%|██████████| 50/50 [00:20<00:00,  2.45it/s]\n",
      "100%|██████████| 50/50 [00:17<00:00,  2.85it/s]\n"
     ]
    },
    {
     "name": "stdout",
     "output_type": "stream",
     "text": [
      "adjusted Melody length: 43680\n",
      "finding causality....\n",
      "2211 true causes out of 3024 total connections\n",
      "time elapsed:  198.76770169299925\n"
     ]
    }
   ],
   "source": [
    "tc15, totc15, ss15 = ragaIterator(10, '15', '15_m', num_surrogates=50, times_it=t_dict)"
   ],
   "metadata": {
    "collapsed": false,
    "pycharm": {
     "name": "#%%\n"
    }
   }
  },
  {
   "cell_type": "code",
   "execution_count": 10,
   "outputs": [
    {
     "data": {
      "text/plain": "(2417.3, 55.514034086399946, 148.08025281639988)"
     },
     "execution_count": 10,
     "metadata": {},
     "output_type": "execute_result"
    }
   ],
   "source": [
    "# os.system(\"cat /home/efm-workstation/surr_stats/{}/truecauses{}.txt\".format(15, 50))\n",
    "avg_conns(tc15), avg_conns(t_dict[\"Surrogate15\"]), avg_conns(t_dict[\"Causality15\"])"
   ],
   "metadata": {
    "collapsed": false,
    "pycharm": {
     "name": "#%%\n"
    }
   }
  },
  {
   "cell_type": "code",
   "execution_count": 15,
   "outputs": [
    {
     "name": "stdout",
     "output_type": "stream",
     "text": [
      "iteration:  1\n",
      "Starting surrogate generation...\n"
     ]
    },
    {
     "name": "stderr",
     "output_type": "stream",
     "text": [
      "100%|██████████| 50/50 [00:20<00:00,  2.38it/s]\n",
      "100%|██████████| 50/50 [00:16<00:00,  2.99it/s]\n"
     ]
    },
    {
     "name": "stdout",
     "output_type": "stream",
     "text": [
      "adjusted Melody length: 43680\n",
      "finding causality....\n",
      "619 true causes out of 3248 total connections\n",
      "time elapsed:  270.9603171999988\n",
      "iteration:  2\n",
      "Starting surrogate generation...\n"
     ]
    },
    {
     "name": "stderr",
     "output_type": "stream",
     "text": [
      "100%|██████████| 50/50 [00:25<00:00,  1.97it/s]\n",
      "100%|██████████| 50/50 [00:18<00:00,  2.70it/s]\n"
     ]
    },
    {
     "name": "stdout",
     "output_type": "stream",
     "text": [
      "adjusted Melody length: 43680\n",
      "finding causality....\n",
      "782 true causes out of 3248 total connections\n",
      "time elapsed:  278.37013650600056\n",
      "iteration:  3\n",
      "Starting surrogate generation...\n"
     ]
    },
    {
     "name": "stderr",
     "output_type": "stream",
     "text": [
      "100%|██████████| 50/50 [00:14<00:00,  3.42it/s]\n",
      "100%|██████████| 50/50 [00:10<00:00,  4.85it/s]\n"
     ]
    },
    {
     "name": "stdout",
     "output_type": "stream",
     "text": [
      "adjusted Melody length: 43680\n",
      "finding causality....\n",
      "744 true causes out of 3248 total connections\n",
      "time elapsed:  256.44888838399856\n",
      "iteration:  4\n",
      "Starting surrogate generation...\n"
     ]
    },
    {
     "name": "stderr",
     "output_type": "stream",
     "text": [
      "100%|██████████| 50/50 [00:20<00:00,  2.44it/s]\n",
      "100%|██████████| 50/50 [00:14<00:00,  3.52it/s]\n"
     ]
    },
    {
     "name": "stdout",
     "output_type": "stream",
     "text": [
      "adjusted Melody length: 43680\n",
      "finding causality....\n",
      "564 true causes out of 3248 total connections\n",
      "time elapsed:  268.80401128499943\n",
      "iteration:  5\n",
      "Starting surrogate generation...\n"
     ]
    },
    {
     "name": "stderr",
     "output_type": "stream",
     "text": [
      "100%|██████████| 50/50 [00:24<00:00,  2.06it/s]\n",
      "100%|██████████| 50/50 [00:15<00:00,  3.25it/s]\n"
     ]
    },
    {
     "name": "stdout",
     "output_type": "stream",
     "text": [
      "adjusted Melody length: 43680\n",
      "finding causality....\n",
      "639 true causes out of 3248 total connections\n",
      "time elapsed:  273.48641842399957\n",
      "iteration:  6\n",
      "Starting surrogate generation...\n"
     ]
    },
    {
     "name": "stderr",
     "output_type": "stream",
     "text": [
      "100%|██████████| 50/50 [00:22<00:00,  2.25it/s]\n",
      "100%|██████████| 50/50 [00:15<00:00,  3.27it/s]\n"
     ]
    },
    {
     "name": "stdout",
     "output_type": "stream",
     "text": [
      "adjusted Melody length: 43680\n",
      "finding causality....\n",
      "713 true causes out of 3248 total connections\n",
      "time elapsed:  269.40660092100006\n",
      "iteration:  7\n",
      "Starting surrogate generation...\n"
     ]
    },
    {
     "name": "stderr",
     "output_type": "stream",
     "text": [
      "100%|██████████| 50/50 [00:13<00:00,  3.70it/s]\n",
      "100%|██████████| 50/50 [00:23<00:00,  2.14it/s]\n"
     ]
    },
    {
     "name": "stdout",
     "output_type": "stream",
     "text": [
      "adjusted Melody length: 43680\n",
      "finding causality....\n",
      "757 true causes out of 3248 total connections\n",
      "time elapsed:  272.4331948950021\n",
      "iteration:  8\n",
      "Starting surrogate generation...\n"
     ]
    },
    {
     "name": "stderr",
     "output_type": "stream",
     "text": [
      "100%|██████████| 50/50 [00:11<00:00,  4.41it/s]\n",
      "100%|██████████| 50/50 [00:30<00:00,  1.63it/s]\n"
     ]
    },
    {
     "name": "stdout",
     "output_type": "stream",
     "text": [
      "adjusted Melody length: 43680\n",
      "finding causality....\n",
      "612 true causes out of 3248 total connections\n",
      "time elapsed:  276.27639988900046\n",
      "iteration:  9\n",
      "Starting surrogate generation...\n"
     ]
    },
    {
     "name": "stderr",
     "output_type": "stream",
     "text": [
      "100%|██████████| 50/50 [00:09<00:00,  5.06it/s]\n",
      "100%|██████████| 50/50 [00:17<00:00,  2.89it/s]\n"
     ]
    },
    {
     "name": "stdout",
     "output_type": "stream",
     "text": [
      "adjusted Melody length: 43680\n",
      "finding causality....\n",
      "553 true causes out of 3248 total connections\n",
      "time elapsed:  259.0935400140006\n",
      "iteration:  10\n",
      "Starting surrogate generation...\n"
     ]
    },
    {
     "name": "stderr",
     "output_type": "stream",
     "text": [
      "100%|██████████| 50/50 [00:23<00:00,  2.09it/s]\n",
      "100%|██████████| 50/50 [00:30<00:00,  1.63it/s]\n"
     ]
    },
    {
     "name": "stdout",
     "output_type": "stream",
     "text": [
      "adjusted Melody length: 43680\n",
      "finding causality....\n",
      "703 true causes out of 3248 total connections\n",
      "time elapsed:  288.6824951169983\n"
     ]
    }
   ],
   "source": [
    "tc8, totc8, ss8 = ragaIterator(10, '8', '8_d', num_surrogates=50, times_it=t_dict)"
   ],
   "metadata": {
    "collapsed": false,
    "pycharm": {
     "name": "#%%\n"
    }
   }
  },
  {
   "cell_type": "code",
   "execution_count": 16,
   "outputs": [
    {
     "data": {
      "text/plain": "(668.6, 40.217083348899905, 223.51942214590053)"
     },
     "execution_count": 16,
     "metadata": {},
     "output_type": "execute_result"
    }
   ],
   "source": [
    "avg_conns(tc8), avg_conns(t_dict[\"Surrogate8\"]), avg_conns(t_dict[\"Causality8\"])"
   ],
   "metadata": {
    "collapsed": false,
    "pycharm": {
     "name": "#%%\n"
    }
   }
  },
  {
   "cell_type": "code",
   "execution_count": 17,
   "outputs": [
    {
     "name": "stdout",
     "output_type": "stream",
     "text": [
      "iteration:  1\n",
      "Starting surrogate generation...\n"
     ]
    },
    {
     "name": "stderr",
     "output_type": "stream",
     "text": [
      "100%|██████████| 50/50 [00:18<00:00,  2.68it/s]\n",
      "100%|██████████| 50/50 [00:18<00:00,  2.70it/s]\n"
     ]
    },
    {
     "name": "stdout",
     "output_type": "stream",
     "text": [
      "adjusted Melody length: 43680\n",
      "finding causality....\n",
      "1883 true causes out of 2968 total connections\n",
      "time elapsed:  226.83664754599886\n",
      "iteration:  2\n",
      "Starting surrogate generation...\n"
     ]
    },
    {
     "name": "stderr",
     "output_type": "stream",
     "text": [
      "100%|██████████| 50/50 [00:25<00:00,  1.95it/s]\n",
      "100%|██████████| 50/50 [00:14<00:00,  3.39it/s]\n"
     ]
    },
    {
     "name": "stdout",
     "output_type": "stream",
     "text": [
      "adjusted Melody length: 43680\n",
      "finding causality....\n",
      "2022 true causes out of 2968 total connections\n",
      "time elapsed:  230.5618512630026\n",
      "iteration:  3\n",
      "Starting surrogate generation...\n"
     ]
    },
    {
     "name": "stderr",
     "output_type": "stream",
     "text": [
      "100%|██████████| 50/50 [00:14<00:00,  3.43it/s]\n",
      "100%|██████████| 50/50 [00:22<00:00,  2.19it/s]\n"
     ]
    },
    {
     "name": "stdout",
     "output_type": "stream",
     "text": [
      "adjusted Melody length: 43680\n",
      "finding causality....\n",
      "2006 true causes out of 2968 total connections\n",
      "time elapsed:  229.47921922499518\n",
      "iteration:  4\n",
      "Starting surrogate generation...\n"
     ]
    },
    {
     "name": "stderr",
     "output_type": "stream",
     "text": [
      "100%|██████████| 50/50 [00:21<00:00,  2.33it/s]\n",
      "100%|██████████| 50/50 [00:11<00:00,  4.20it/s]\n"
     ]
    },
    {
     "name": "stdout",
     "output_type": "stream",
     "text": [
      "adjusted Melody length: 43680\n",
      "finding causality....\n",
      "1798 true causes out of 2968 total connections\n",
      "time elapsed:  228.16324908100069\n",
      "iteration:  5\n",
      "Starting surrogate generation...\n"
     ]
    },
    {
     "name": "stderr",
     "output_type": "stream",
     "text": [
      "100%|██████████| 50/50 [00:14<00:00,  3.38it/s]\n",
      "100%|██████████| 50/50 [00:11<00:00,  4.52it/s]\n"
     ]
    },
    {
     "name": "stdout",
     "output_type": "stream",
     "text": [
      "adjusted Melody length: 43680\n",
      "finding causality....\n",
      "1877 true causes out of 2968 total connections\n",
      "time elapsed:  220.10172279100516\n",
      "iteration:  6\n",
      "Starting surrogate generation...\n"
     ]
    },
    {
     "name": "stderr",
     "output_type": "stream",
     "text": [
      "100%|██████████| 50/50 [00:12<00:00,  4.02it/s]\n",
      "100%|██████████| 50/50 [00:17<00:00,  2.78it/s]\n"
     ]
    },
    {
     "name": "stdout",
     "output_type": "stream",
     "text": [
      "adjusted Melody length: 43680\n",
      "finding causality....\n",
      "2007 true causes out of 2968 total connections\n",
      "time elapsed:  221.1728093349957\n",
      "iteration:  7\n",
      "Starting surrogate generation...\n"
     ]
    },
    {
     "name": "stderr",
     "output_type": "stream",
     "text": [
      "100%|██████████| 50/50 [00:12<00:00,  3.98it/s]\n",
      "100%|██████████| 50/50 [00:12<00:00,  4.09it/s]\n"
     ]
    },
    {
     "name": "stdout",
     "output_type": "stream",
     "text": [
      "adjusted Melody length: 43680\n",
      "finding causality....\n",
      "1848 true causes out of 2968 total connections\n",
      "time elapsed:  218.08270475899917\n",
      "iteration:  8\n",
      "Starting surrogate generation...\n"
     ]
    },
    {
     "name": "stderr",
     "output_type": "stream",
     "text": [
      "100%|██████████| 50/50 [00:13<00:00,  3.67it/s]\n",
      "100%|██████████| 50/50 [00:15<00:00,  3.18it/s]\n"
     ]
    },
    {
     "name": "stdout",
     "output_type": "stream",
     "text": [
      "adjusted Melody length: 43680\n",
      "finding causality....\n",
      "2053 true causes out of 2968 total connections\n",
      "time elapsed:  221.2663969109999\n",
      "iteration:  9\n",
      "Starting surrogate generation...\n"
     ]
    },
    {
     "name": "stderr",
     "output_type": "stream",
     "text": [
      "100%|██████████| 50/50 [00:20<00:00,  2.48it/s]\n",
      "100%|██████████| 50/50 [00:12<00:00,  3.89it/s]\n"
     ]
    },
    {
     "name": "stdout",
     "output_type": "stream",
     "text": [
      "adjusted Melody length: 43680\n",
      "finding causality....\n",
      "1665 true causes out of 2968 total connections\n",
      "time elapsed:  225.04745852699853\n",
      "iteration:  10\n",
      "Starting surrogate generation...\n"
     ]
    },
    {
     "name": "stderr",
     "output_type": "stream",
     "text": [
      "100%|██████████| 50/50 [00:10<00:00,  4.98it/s]\n",
      "100%|██████████| 50/50 [00:12<00:00,  4.10it/s]\n"
     ]
    },
    {
     "name": "stdout",
     "output_type": "stream",
     "text": [
      "adjusted Melody length: 43680\n",
      "finding causality....\n",
      "1835 true causes out of 2968 total connections\n",
      "time elapsed:  214.0779628510063\n"
     ]
    }
   ],
   "source": [
    "tc22, totc22, ss22 = ragaIterator(10, '22', '22_a', num_surrogates=50, times_it=t_dict)"
   ],
   "metadata": {
    "collapsed": false,
    "pycharm": {
     "name": "#%%\n"
    }
   }
  },
  {
   "cell_type": "code",
   "execution_count": 18,
   "outputs": [
    {
     "data": {
      "text/plain": "(1899.4, 33.20455161340105, 182.73843879880042)"
     },
     "execution_count": 18,
     "metadata": {},
     "output_type": "execute_result"
    }
   ],
   "source": [
    "avg_conns(tc22), avg_conns(t_dict[\"Surrogate22\"]), avg_conns(t_dict[\"Causality22\"])"
   ],
   "metadata": {
    "collapsed": false,
    "pycharm": {
     "name": "#%%\n"
    }
   }
  },
  {
   "cell_type": "code",
   "execution_count": 19,
   "outputs": [
    {
     "name": "stdout",
     "output_type": "stream",
     "text": [
      "iteration:  1\n",
      "Starting surrogate generation...\n"
     ]
    },
    {
     "name": "stderr",
     "output_type": "stream",
     "text": [
      "100%|██████████| 50/50 [00:12<00:00,  3.87it/s]\n",
      "100%|██████████| 50/50 [00:19<00:00,  2.58it/s]\n"
     ]
    },
    {
     "name": "stdout",
     "output_type": "stream",
     "text": [
      "adjusted Melody length: 43680\n",
      "finding causality....\n",
      "1583 true causes out of 2970 total connections\n",
      "time elapsed:  246.19132544999593\n",
      "iteration:  2\n",
      "Starting surrogate generation...\n"
     ]
    },
    {
     "name": "stderr",
     "output_type": "stream",
     "text": [
      "100%|██████████| 50/50 [00:23<00:00,  2.17it/s]\n",
      "100%|██████████| 50/50 [00:24<00:00,  2.02it/s]\n"
     ]
    },
    {
     "name": "stdout",
     "output_type": "stream",
     "text": [
      "adjusted Melody length: 43680\n",
      "finding causality....\n",
      "1491 true causes out of 2970 total connections\n",
      "time elapsed:  265.5274024860046\n",
      "iteration:  3\n",
      "Starting surrogate generation...\n"
     ]
    },
    {
     "name": "stderr",
     "output_type": "stream",
     "text": [
      "100%|██████████| 50/50 [00:33<00:00,  1.48it/s]\n",
      "100%|██████████| 50/50 [00:27<00:00,  1.83it/s]\n"
     ]
    },
    {
     "name": "stdout",
     "output_type": "stream",
     "text": [
      "adjusted Melody length: 43680\n",
      "finding causality....\n",
      "1360 true causes out of 2970 total connections\n",
      "time elapsed:  280.2901996069995\n",
      "iteration:  4\n",
      "Starting surrogate generation...\n"
     ]
    },
    {
     "name": "stderr",
     "output_type": "stream",
     "text": [
      "100%|██████████| 50/50 [00:17<00:00,  2.88it/s]\n",
      "100%|██████████| 50/50 [00:18<00:00,  2.71it/s]\n"
     ]
    },
    {
     "name": "stdout",
     "output_type": "stream",
     "text": [
      "adjusted Melody length: 43680\n",
      "finding causality....\n",
      "1222 true causes out of 2970 total connections\n",
      "time elapsed:  253.55625574199803\n",
      "iteration:  5\n",
      "Starting surrogate generation...\n"
     ]
    },
    {
     "name": "stderr",
     "output_type": "stream",
     "text": [
      "100%|██████████| 50/50 [00:14<00:00,  3.45it/s]\n",
      "100%|██████████| 50/50 [00:15<00:00,  3.27it/s]\n"
     ]
    },
    {
     "name": "stdout",
     "output_type": "stream",
     "text": [
      "adjusted Melody length: 43680\n",
      "finding causality....\n",
      "1611 true causes out of 2970 total connections\n",
      "time elapsed:  251.48581056999683\n",
      "iteration:  6\n",
      "Starting surrogate generation...\n"
     ]
    },
    {
     "name": "stderr",
     "output_type": "stream",
     "text": [
      "100%|██████████| 50/50 [00:13<00:00,  3.69it/s]\n",
      "100%|██████████| 50/50 [00:26<00:00,  1.89it/s]\n"
     ]
    },
    {
     "name": "stdout",
     "output_type": "stream",
     "text": [
      "adjusted Melody length: 43680\n",
      "finding causality....\n",
      "1529 true causes out of 2970 total connections\n",
      "time elapsed:  257.3057503710006\n",
      "iteration:  7\n",
      "Starting surrogate generation...\n"
     ]
    },
    {
     "name": "stderr",
     "output_type": "stream",
     "text": [
      "100%|██████████| 50/50 [00:13<00:00,  3.59it/s]\n",
      "100%|██████████| 50/50 [00:17<00:00,  2.92it/s]\n"
     ]
    },
    {
     "name": "stdout",
     "output_type": "stream",
     "text": [
      "adjusted Melody length: 43680\n",
      "finding causality....\n",
      "1696 true causes out of 2970 total connections\n",
      "time elapsed:  247.076640254003\n",
      "iteration:  8\n",
      "Starting surrogate generation...\n"
     ]
    },
    {
     "name": "stderr",
     "output_type": "stream",
     "text": [
      "100%|██████████| 50/50 [00:17<00:00,  2.94it/s]\n",
      "100%|██████████| 50/50 [00:17<00:00,  2.93it/s]\n"
     ]
    },
    {
     "name": "stdout",
     "output_type": "stream",
     "text": [
      "adjusted Melody length: 43680\n",
      "finding causality....\n",
      "1428 true causes out of 2970 total connections\n",
      "time elapsed:  252.37233264899987\n",
      "iteration:  9\n",
      "Starting surrogate generation...\n"
     ]
    },
    {
     "name": "stderr",
     "output_type": "stream",
     "text": [
      "100%|██████████| 50/50 [00:13<00:00,  3.70it/s]\n",
      "100%|██████████| 50/50 [00:18<00:00,  2.77it/s]\n"
     ]
    },
    {
     "name": "stdout",
     "output_type": "stream",
     "text": [
      "adjusted Melody length: 43680\n",
      "finding causality....\n",
      "1428 true causes out of 2970 total connections\n",
      "time elapsed:  248.53994721799972\n",
      "iteration:  10\n",
      "Starting surrogate generation...\n"
     ]
    },
    {
     "name": "stderr",
     "output_type": "stream",
     "text": [
      "100%|██████████| 50/50 [00:16<00:00,  3.10it/s]\n",
      "100%|██████████| 50/50 [00:20<00:00,  2.43it/s]\n"
     ]
    },
    {
     "name": "stdout",
     "output_type": "stream",
     "text": [
      "adjusted Melody length: 43680\n",
      "finding causality....\n",
      "1588 true causes out of 2970 total connections\n",
      "time elapsed:  254.24143342200114\n"
     ]
    }
   ],
   "source": [
    "tc28, totc28, ss28 = ragaIterator(10, '28', '28_k', num_surrogates=50, times_it=t_dict)"
   ],
   "metadata": {
    "collapsed": false,
    "pycharm": {
     "name": "#%%\n"
    }
   }
  },
  {
   "cell_type": "code",
   "execution_count": 20,
   "outputs": [
    {
     "data": {
      "text/plain": "(1493.6, 39.67997062440045, 208.65607820050136)"
     },
     "execution_count": 20,
     "metadata": {},
     "output_type": "execute_result"
    }
   ],
   "source": [
    "avg_conns(tc28), avg_conns(t_dict[\"Surrogate28\"]), avg_conns(t_dict[\"Causality28\"])"
   ],
   "metadata": {
    "collapsed": false,
    "pycharm": {
     "name": "#%%\n"
    }
   }
  },
  {
   "cell_type": "code",
   "execution_count": 21,
   "outputs": [
    {
     "name": "stdout",
     "output_type": "stream",
     "text": [
      "iteration:  1\n",
      "Starting surrogate generation...\n"
     ]
    },
    {
     "name": "stderr",
     "output_type": "stream",
     "text": [
      "100%|██████████| 50/50 [00:19<00:00,  2.55it/s]\n",
      "100%|██████████| 50/50 [00:17<00:00,  2.93it/s]\n"
     ]
    },
    {
     "name": "stdout",
     "output_type": "stream",
     "text": [
      "adjusted Melody length: 43680\n",
      "finding causality....\n",
      "2319 true causes out of 3024 total connections\n",
      "time elapsed:  243.95732997899904\n",
      "iteration:  2\n",
      "Starting surrogate generation...\n"
     ]
    },
    {
     "name": "stderr",
     "output_type": "stream",
     "text": [
      "100%|██████████| 50/50 [00:24<00:00,  2.06it/s]\n",
      "100%|██████████| 50/50 [00:14<00:00,  3.35it/s]\n"
     ]
    },
    {
     "name": "stdout",
     "output_type": "stream",
     "text": [
      "adjusted Melody length: 43680\n",
      "finding causality....\n",
      "2328 true causes out of 3024 total connections\n",
      "time elapsed:  246.67933081799856\n",
      "iteration:  3\n",
      "Starting surrogate generation...\n"
     ]
    },
    {
     "name": "stderr",
     "output_type": "stream",
     "text": [
      "100%|██████████| 50/50 [00:23<00:00,  2.17it/s]\n",
      "100%|██████████| 50/50 [00:08<00:00,  5.59it/s]\n"
     ]
    },
    {
     "name": "stdout",
     "output_type": "stream",
     "text": [
      "adjusted Melody length: 43680\n",
      "finding causality....\n",
      "2340 true causes out of 3024 total connections\n",
      "time elapsed:  241.2405150870036\n",
      "iteration:  4\n",
      "Starting surrogate generation...\n"
     ]
    },
    {
     "name": "stderr",
     "output_type": "stream",
     "text": [
      "100%|██████████| 50/50 [00:30<00:00,  1.65it/s]\n",
      "100%|██████████| 50/50 [00:18<00:00,  2.76it/s]\n"
     ]
    },
    {
     "name": "stdout",
     "output_type": "stream",
     "text": [
      "adjusted Melody length: 43680\n",
      "finding causality....\n",
      "2396 true causes out of 3024 total connections\n",
      "time elapsed:  255.56830606600124\n",
      "iteration:  5\n",
      "Starting surrogate generation...\n"
     ]
    },
    {
     "name": "stderr",
     "output_type": "stream",
     "text": [
      "100%|██████████| 50/50 [00:16<00:00,  3.12it/s]\n",
      "100%|██████████| 50/50 [00:16<00:00,  3.03it/s]\n"
     ]
    },
    {
     "name": "stdout",
     "output_type": "stream",
     "text": [
      "adjusted Melody length: 43680\n",
      "finding causality....\n",
      "2315 true causes out of 3024 total connections\n",
      "time elapsed:  237.8880027999985\n",
      "iteration:  6\n",
      "Starting surrogate generation...\n"
     ]
    },
    {
     "name": "stderr",
     "output_type": "stream",
     "text": [
      "100%|██████████| 50/50 [00:19<00:00,  2.52it/s]\n",
      "100%|██████████| 50/50 [00:13<00:00,  3.70it/s]\n"
     ]
    },
    {
     "name": "stdout",
     "output_type": "stream",
     "text": [
      "adjusted Melody length: 43680\n",
      "finding causality....\n",
      "2276 true causes out of 3024 total connections\n",
      "time elapsed:  239.35955908699543\n",
      "iteration:  7\n",
      "Starting surrogate generation...\n"
     ]
    },
    {
     "name": "stderr",
     "output_type": "stream",
     "text": [
      "100%|██████████| 50/50 [00:17<00:00,  2.93it/s]\n",
      "100%|██████████| 50/50 [00:17<00:00,  2.87it/s]\n"
     ]
    },
    {
     "name": "stdout",
     "output_type": "stream",
     "text": [
      "adjusted Melody length: 43680\n",
      "finding causality....\n",
      "2374 true causes out of 3024 total connections\n",
      "time elapsed:  243.14381125799991\n",
      "iteration:  8\n",
      "Starting surrogate generation...\n"
     ]
    },
    {
     "name": "stderr",
     "output_type": "stream",
     "text": [
      "100%|██████████| 50/50 [00:19<00:00,  2.53it/s]\n",
      "100%|██████████| 50/50 [00:12<00:00,  4.05it/s]\n"
     ]
    },
    {
     "name": "stdout",
     "output_type": "stream",
     "text": [
      "adjusted Melody length: 43680\n",
      "finding causality....\n",
      "2327 true causes out of 3024 total connections\n",
      "time elapsed:  240.7403798680025\n",
      "iteration:  9\n",
      "Starting surrogate generation...\n"
     ]
    },
    {
     "name": "stderr",
     "output_type": "stream",
     "text": [
      "100%|██████████| 50/50 [00:15<00:00,  3.30it/s]\n",
      "100%|██████████| 50/50 [00:16<00:00,  3.08it/s]\n"
     ]
    },
    {
     "name": "stdout",
     "output_type": "stream",
     "text": [
      "adjusted Melody length: 43680\n",
      "finding causality....\n",
      "2405 true causes out of 3024 total connections\n",
      "time elapsed:  235.35074236599758\n",
      "iteration:  10\n",
      "Starting surrogate generation...\n"
     ]
    },
    {
     "name": "stderr",
     "output_type": "stream",
     "text": [
      "100%|██████████| 50/50 [00:13<00:00,  3.62it/s]\n",
      "100%|██████████| 50/50 [00:25<00:00,  1.96it/s]\n"
     ]
    },
    {
     "name": "stdout",
     "output_type": "stream",
     "text": [
      "adjusted Melody length: 43680\n",
      "finding causality....\n",
      "2141 true causes out of 3024 total connections\n",
      "time elapsed:  245.82174390100408\n"
     ]
    }
   ],
   "source": [
    "tc29, totc29, ss29 = ragaIterator(10, '29', '29_h', num_surrogates=50, times_it=t_dict)"
   ],
   "metadata": {
    "collapsed": false,
    "pycharm": {
     "name": "#%%\n"
    }
   }
  },
  {
   "cell_type": "code",
   "execution_count": 22,
   "outputs": [
    {
     "data": {
      "text/plain": "(2322.1, 37.971970005199545, 197.75677085439892)"
     },
     "execution_count": 22,
     "metadata": {},
     "output_type": "execute_result"
    }
   ],
   "source": [
    "avg_conns(tc29), avg_conns(t_dict[\"Surrogate29\"]), avg_conns(t_dict[\"Causality29\"])"
   ],
   "metadata": {
    "collapsed": false,
    "pycharm": {
     "name": "#%%\n"
    }
   }
  },
  {
   "cell_type": "code",
   "execution_count": null,
   "outputs": [],
   "source": [
    "t_dict"
   ],
   "metadata": {
    "collapsed": false,
    "pycharm": {
     "name": "#%%\n"
    }
   }
  },
  {
   "cell_type": "code",
   "execution_count": 3,
   "outputs": [
    {
     "name": "stdout",
     "output_type": "stream",
     "text": [
      "Starting surrogate generation...\n",
      "Starting surrogate generation...\n",
      "Starting surrogate generation...\n",
      "Starting surrogate generation...\n",
      "Starting surrogate generation...\n",
      "Starting surrogate generation...\n",
      "Starting surrogate generation...\n",
      "Starting surrogate generation...\n",
      "Starting surrogate generation...\n",
      "Starting surrogate generation...\n",
      "Starting surrogate generation...\n",
      "Starting surrogate generation...\n",
      "Starting surrogate generation...\n",
      "Starting surrogate generation...\n",
      "Starting surrogate generation...\n",
      "Starting surrogate generation...\n",
      "Starting surrogate generation...\n",
      "Starting surrogate generation...\n",
      "Starting surrogate generation...\n",
      "Starting surrogate generation...\n",
      "Starting surrogate generation...\n",
      "Starting surrogate generation...\n",
      "Starting surrogate generation...\n",
      "Starting surrogate generation...\n",
      "Starting surrogate generation...\n",
      "Starting surrogate generation...\n",
      "Starting surrogate generation...\n",
      "Starting surrogate generation...\n",
      "Starting surrogate generation...\n",
      "Starting surrogate generation...\n",
      "Starting surrogate generation...\n",
      "Starting surrogate generation...\n",
      "Starting surrogate generation...\n",
      "Starting surrogate generation...\n",
      "Starting surrogate generation...\n",
      "Starting surrogate generation...\n",
      "Starting surrogate generation...\n",
      "Starting surrogate generation...\n",
      "Starting surrogate generation...\n",
      "Starting surrogate generation...\n",
      "Starting surrogate generation...\n",
      "Starting surrogate generation...\n",
      "Starting surrogate generation...\n",
      "Starting surrogate generation...\n",
      "Starting surrogate generation...\n",
      "Starting surrogate generation...\n",
      "Starting surrogate generation...\n",
      "Starting surrogate generation...\n",
      "Starting surrogate generation...\n",
      "Starting surrogate generation...\n"
     ]
    }
   ],
   "source": [
    "gentimes8 = []\n",
    "\n",
    "for _ in range(10):\n",
    "    gentimes8.append(get_generation_time50('8', '8_d'))\n",
    "    gentimes8.append(get_generation_time50('15', '15_m'))\n",
    "    gentimes8.append(get_generation_time50('22', '22_a'))\n",
    "    gentimes8.append(get_generation_time50('28', '28_k'))\n",
    "    gentimes8.append(get_generation_time50('29', '29_h'))"
   ],
   "metadata": {
    "collapsed": false,
    "pycharm": {
     "name": "#%%\n"
    }
   }
  },
  {
   "cell_type": "code",
   "execution_count": 5,
   "outputs": [
    {
     "data": {
      "text/plain": "(33.169615245600006,\n 32.59101138219999,\n 32.932949019099965,\n 31.621566379899967,\n 32.94254417129996)"
     },
     "execution_count": 5,
     "metadata": {},
     "output_type": "execute_result"
    }
   ],
   "source": [
    "gentime8 = np.array(gentimes8[0:10]).mean()\n",
    "gentime15 = np.array(gentimes8[10:20]).mean()\n",
    "gentime22 = np.array(gentimes8[20:30]).mean()\n",
    "gentime28 = np.array(gentimes8[30:40]).mean()\n",
    "gentime29 = np.array(gentimes8[40:50]).mean()\n",
    "\n",
    "gentime8, gentime15, gentime22, gentime28, gentime29"
   ],
   "metadata": {
    "collapsed": false,
    "pycharm": {
     "name": "#%%\n"
    }
   }
  },
  {
   "cell_type": "markdown",
   "source": [
    "## 150 surrogates"
   ],
   "metadata": {
    "collapsed": false,
    "pycharm": {
     "name": "#%% md\n"
    }
   }
  },
  {
   "cell_type": "code",
   "execution_count": 6,
   "outputs": [],
   "source": [
    "t_dict = {}"
   ],
   "metadata": {
    "collapsed": false,
    "pycharm": {
     "name": "#%%\n"
    }
   }
  },
  {
   "cell_type": "code",
   "execution_count": null,
   "outputs": [
    {
     "name": "stdout",
     "output_type": "stream",
     "text": [
      "iteration:  1\n",
      "Starting surrogate generation...\n"
     ]
    },
    {
     "name": "stderr",
     "output_type": "stream",
     "text": [
      "100%|██████████| 150/150 [00:55<00:00,  2.69it/s]\n",
      "100%|██████████| 150/150 [00:54<00:00,  2.74it/s]\n"
     ]
    },
    {
     "name": "stdout",
     "output_type": "stream",
     "text": [
      "finding causality....\n",
      "20336 true causes out of 24024 total connections\n",
      "time elapsed:  1912.7792934960016\n",
      "iteration:  2\n",
      "Starting surrogate generation...\n"
     ]
    },
    {
     "name": "stderr",
     "output_type": "stream",
     "text": [
      "100%|██████████| 150/150 [00:39<00:00,  3.79it/s]\n",
      "100%|██████████| 150/150 [00:35<00:00,  4.24it/s]\n"
     ]
    },
    {
     "name": "stdout",
     "output_type": "stream",
     "text": [
      "finding causality....\n",
      "19595 true causes out of 24024 total connections\n",
      "time elapsed:  1888.3809031659985\n",
      "iteration:  3\n",
      "Starting surrogate generation...\n"
     ]
    },
    {
     "name": "stderr",
     "output_type": "stream",
     "text": [
      "100%|██████████| 150/150 [00:47<00:00,  3.14it/s]\n",
      "100%|██████████| 150/150 [00:41<00:00,  3.60it/s]\n"
     ]
    },
    {
     "name": "stdout",
     "output_type": "stream",
     "text": [
      "finding causality....\n",
      "20845 true causes out of 24024 total connections\n",
      "time elapsed:  1906.1474162939994\n",
      "iteration:  4\n",
      "Starting surrogate generation...\n"
     ]
    },
    {
     "name": "stderr",
     "output_type": "stream",
     "text": [
      "100%|██████████| 150/150 [00:45<00:00,  3.32it/s]\n",
      "100%|██████████| 150/150 [00:41<00:00,  3.64it/s]\n"
     ]
    },
    {
     "name": "stdout",
     "output_type": "stream",
     "text": [
      "finding causality....\n",
      "20604 true causes out of 24024 total connections\n",
      "time elapsed:  1900.1705254010012\n",
      "iteration:  5\n",
      "Starting surrogate generation...\n"
     ]
    },
    {
     "name": "stderr",
     "output_type": "stream",
     "text": [
      "100%|██████████| 150/150 [00:53<00:00,  2.78it/s]\n",
      "100%|██████████| 150/150 [00:51<00:00,  2.91it/s]\n"
     ]
    },
    {
     "name": "stdout",
     "output_type": "stream",
     "text": [
      "finding causality....\n",
      "20164 true causes out of 24024 total connections\n",
      "time elapsed:  1918.1216722840036\n",
      "iteration:  6\n",
      "Starting surrogate generation...\n"
     ]
    },
    {
     "name": "stderr",
     "output_type": "stream",
     "text": [
      "100%|██████████| 150/150 [00:53<00:00,  2.80it/s]\n",
      "100%|██████████| 150/150 [00:45<00:00,  3.26it/s]\n"
     ]
    },
    {
     "name": "stdout",
     "output_type": "stream",
     "text": [
      "finding causality....\n"
     ]
    }
   ],
   "source": [
    "tc15, totc15, ss15 = ragaIterator(10, '15', '15_m', num_surrogates=150, times_it=t_dict)"
   ],
   "metadata": {
    "collapsed": false,
    "pycharm": {
     "name": "#%%\n"
    }
   }
  },
  {
   "cell_type": "code",
   "execution_count": null,
   "outputs": [],
   "source": [
    "avg_conns(tc15), avg_conns(t_dict[\"Surrogate15\"]), avg_conns(t_dict[\"Causality15\"])"
   ],
   "metadata": {
    "collapsed": false,
    "pycharm": {
     "name": "#%%\n"
    }
   }
  },
  {
   "cell_type": "code",
   "execution_count": 12,
   "outputs": [
    {
     "name": "stdout",
     "output_type": "stream",
     "text": [
      "iteration:  1\n",
      "Starting surrogate generation...\n",
      "finding causality....\n",
      "14463 true causes out of 24648 total connections\n",
      "time elapsed:  2377.1097622410016\n",
      "iteration:  2\n",
      "Starting surrogate generation...\n",
      "finding causality....\n",
      "15204 true causes out of 24648 total connections\n",
      "time elapsed:  2329.3596639659954\n",
      "iteration:  3\n",
      "Starting surrogate generation...\n",
      "finding causality....\n",
      "15244 true causes out of 24648 total connections\n",
      "time elapsed:  2377.415402065002\n",
      "iteration:  4\n",
      "Starting surrogate generation...\n",
      "finding causality....\n"
     ]
    },
    {
     "name": "stderr",
     "output_type": "stream",
     "text": [
      "Process ForkPoolWorker-1040:\n",
      "Process ForkPoolWorker-1047:\n",
      "Process ForkPoolWorker-1052:\n",
      "Process ForkPoolWorker-1055:\n",
      "Process ForkPoolWorker-1034:\n",
      "Process ForkPoolWorker-1054:\n",
      "Process ForkPoolWorker-1051:\n",
      "Process ForkPoolWorker-1045:\n",
      "Process ForkPoolWorker-1046:\n",
      "Process ForkPoolWorker-1049:\n",
      "Process ForkPoolWorker-1039:\n",
      "Process ForkPoolWorker-1041:\n",
      "Process ForkPoolWorker-1056:\n",
      "Process ForkPoolWorker-1035:\n",
      "Process ForkPoolWorker-1033:\n",
      "Process ForkPoolWorker-1043:\n",
      "Process ForkPoolWorker-1048:\n",
      "Process ForkPoolWorker-1053:\n",
      "Process ForkPoolWorker-1038:\n",
      "Process ForkPoolWorker-1050:\n",
      "Traceback (most recent call last):\n",
      "Traceback (most recent call last):\n",
      "Traceback (most recent call last):\n",
      "Traceback (most recent call last):\n",
      "Traceback (most recent call last):\n",
      "Traceback (most recent call last):\n",
      "  File \"/home/abhisheknandekar/miniconda3/envs/raga/lib/python3.8/multiprocessing/process.py\", line 315, in _bootstrap\n",
      "    self.run()\n",
      "Traceback (most recent call last):\n",
      "  File \"/home/abhisheknandekar/miniconda3/envs/raga/lib/python3.8/multiprocessing/process.py\", line 315, in _bootstrap\n",
      "    self.run()\n",
      "Traceback (most recent call last):\n",
      "Traceback (most recent call last):\n",
      "Traceback (most recent call last):\n",
      "  File \"/home/abhisheknandekar/miniconda3/envs/raga/lib/python3.8/multiprocessing/process.py\", line 315, in _bootstrap\n",
      "    self.run()\n",
      "Traceback (most recent call last):\n",
      "Traceback (most recent call last):\n",
      "  File \"/home/abhisheknandekar/miniconda3/envs/raga/lib/python3.8/multiprocessing/process.py\", line 315, in _bootstrap\n",
      "    self.run()\n",
      "  File \"/home/abhisheknandekar/miniconda3/envs/raga/lib/python3.8/multiprocessing/process.py\", line 315, in _bootstrap\n",
      "    self.run()\n",
      "  File \"/home/abhisheknandekar/miniconda3/envs/raga/lib/python3.8/multiprocessing/process.py\", line 315, in _bootstrap\n",
      "    self.run()\n",
      "  File \"/home/abhisheknandekar/miniconda3/envs/raga/lib/python3.8/multiprocessing/process.py\", line 108, in run\n",
      "    self._target(*self._args, **self._kwargs)\n",
      "Traceback (most recent call last):\n",
      "Traceback (most recent call last):\n",
      "  File \"/home/abhisheknandekar/miniconda3/envs/raga/lib/python3.8/multiprocessing/process.py\", line 108, in run\n",
      "    self._target(*self._args, **self._kwargs)\n",
      "Traceback (most recent call last):\n",
      "Traceback (most recent call last):\n",
      "  File \"/home/abhisheknandekar/miniconda3/envs/raga/lib/python3.8/multiprocessing/process.py\", line 108, in run\n",
      "    self._target(*self._args, **self._kwargs)\n",
      "Traceback (most recent call last):\n",
      "  File \"/home/abhisheknandekar/miniconda3/envs/raga/lib/python3.8/multiprocessing/process.py\", line 315, in _bootstrap\n",
      "    self.run()\n",
      "  File \"/home/abhisheknandekar/miniconda3/envs/raga/lib/python3.8/multiprocessing/process.py\", line 315, in _bootstrap\n",
      "    self.run()\n",
      "  File \"/home/abhisheknandekar/miniconda3/envs/raga/lib/python3.8/multiprocessing/process.py\", line 315, in _bootstrap\n",
      "    self.run()\n",
      "Traceback (most recent call last):\n",
      "  File \"/home/abhisheknandekar/miniconda3/envs/raga/lib/python3.8/multiprocessing/process.py\", line 108, in run\n",
      "    self._target(*self._args, **self._kwargs)\n",
      "  File \"/home/abhisheknandekar/miniconda3/envs/raga/lib/python3.8/multiprocessing/process.py\", line 315, in _bootstrap\n",
      "    self.run()\n",
      "  File \"/home/abhisheknandekar/miniconda3/envs/raga/lib/python3.8/multiprocessing/process.py\", line 315, in _bootstrap\n",
      "    self.run()\n",
      "  File \"/home/abhisheknandekar/miniconda3/envs/raga/lib/python3.8/multiprocessing/process.py\", line 108, in run\n",
      "    self._target(*self._args, **self._kwargs)\n",
      "Process ForkPoolWorker-1042:\n",
      "  File \"/home/abhisheknandekar/miniconda3/envs/raga/lib/python3.8/multiprocessing/pool.py\", line 125, in worker\n",
      "    result = (True, func(*args, **kwds))\n",
      "  File \"/home/abhisheknandekar/miniconda3/envs/raga/lib/python3.8/multiprocessing/process.py\", line 315, in _bootstrap\n",
      "    self.run()\n",
      "  File \"/home/abhisheknandekar/miniconda3/envs/raga/lib/python3.8/multiprocessing/process.py\", line 108, in run\n",
      "    self._target(*self._args, **self._kwargs)\n",
      "  File \"/home/abhisheknandekar/miniconda3/envs/raga/lib/python3.8/multiprocessing/process.py\", line 315, in _bootstrap\n",
      "    self.run()\n",
      "  File \"/home/abhisheknandekar/miniconda3/envs/raga/lib/python3.8/multiprocessing/pool.py\", line 125, in worker\n",
      "    result = (True, func(*args, **kwds))\n",
      "  File \"/home/abhisheknandekar/miniconda3/envs/raga/lib/python3.8/multiprocessing/process.py\", line 315, in _bootstrap\n",
      "    self.run()\n",
      "Process ForkPoolWorker-1044:\n",
      "  File \"/home/abhisheknandekar/miniconda3/envs/raga/lib/python3.8/multiprocessing/process.py\", line 108, in run\n",
      "    self._target(*self._args, **self._kwargs)\n",
      "  File \"/home/abhisheknandekar/miniconda3/envs/raga/lib/python3.8/multiprocessing/process.py\", line 315, in _bootstrap\n",
      "    self.run()\n",
      "Traceback (most recent call last):\n",
      "  File \"/home/abhisheknandekar/miniconda3/envs/raga/lib/python3.8/multiprocessing/process.py\", line 108, in run\n",
      "    self._target(*self._args, **self._kwargs)\n",
      "  File \"/home/abhisheknandekar/miniconda3/envs/raga/lib/python3.8/multiprocessing/process.py\", line 315, in _bootstrap\n",
      "    self.run()\n",
      "  File \"/home/abhisheknandekar/miniconda3/envs/raga/lib/python3.8/multiprocessing/pool.py\", line 125, in worker\n",
      "    result = (True, func(*args, **kwds))\n",
      "  File \"/home/abhisheknandekar/miniconda3/envs/raga/lib/python3.8/multiprocessing/process.py\", line 108, in run\n",
      "    self._target(*self._args, **self._kwargs)\n",
      "  File \"/home/abhisheknandekar/miniconda3/envs/raga/lib/python3.8/multiprocessing/process.py\", line 315, in _bootstrap\n",
      "    self.run()\n",
      "  File \"/home/abhisheknandekar/miniconda3/envs/raga/lib/python3.8/multiprocessing/pool.py\", line 125, in worker\n",
      "    result = (True, func(*args, **kwds))\n",
      "  File \"/home/abhisheknandekar/miniconda3/envs/raga/lib/python3.8/multiprocessing/process.py\", line 108, in run\n",
      "    self._target(*self._args, **self._kwargs)\n",
      "Traceback (most recent call last):\n",
      "  File \"/home/abhisheknandekar/miniconda3/envs/raga/lib/python3.8/multiprocessing/process.py\", line 315, in _bootstrap\n",
      "    self.run()\n",
      "  File \"/home/abhisheknandekar/miniconda3/envs/raga/lib/python3.8/multiprocessing/process.py\", line 108, in run\n",
      "    self._target(*self._args, **self._kwargs)\n",
      "  File \"/home/abhisheknandekar/miniconda3/envs/raga/lib/python3.8/multiprocessing/process.py\", line 108, in run\n",
      "    self._target(*self._args, **self._kwargs)\n",
      "  File \"/home/abhisheknandekar/miniconda3/envs/raga/lib/python3.8/multiprocessing/pool.py\", line 51, in starmapstar\n",
      "    return list(itertools.starmap(args[0], args[1]))\n",
      "  File \"/home/abhisheknandekar/miniconda3/envs/raga/lib/python3.8/multiprocessing/pool.py\", line 125, in worker\n",
      "    result = (True, func(*args, **kwds))\n",
      "  File \"/home/abhisheknandekar/miniconda3/envs/raga/lib/python3.8/multiprocessing/process.py\", line 108, in run\n",
      "    self._target(*self._args, **self._kwargs)\n",
      "  File \"/home/abhisheknandekar/miniconda3/envs/raga/lib/python3.8/multiprocessing/pool.py\", line 125, in worker\n",
      "    result = (True, func(*args, **kwds))\n",
      "  File \"/home/abhisheknandekar/miniconda3/envs/raga/lib/python3.8/multiprocessing/pool.py\", line 51, in starmapstar\n",
      "    return list(itertools.starmap(args[0], args[1]))\n",
      "  File \"/home/abhisheknandekar/miniconda3/envs/raga/lib/python3.8/multiprocessing/process.py\", line 108, in run\n",
      "    self._target(*self._args, **self._kwargs)\n",
      "  File \"/home/abhisheknandekar/miniconda3/envs/raga/lib/python3.8/multiprocessing/pool.py\", line 125, in worker\n",
      "    result = (True, func(*args, **kwds))\n",
      "  File \"/home/abhisheknandekar/miniconda3/envs/raga/lib/python3.8/multiprocessing/pool.py\", line 125, in worker\n",
      "    result = (True, func(*args, **kwds))\n",
      "  File \"/home/abhisheknandekar/miniconda3/envs/raga/lib/python3.8/multiprocessing/process.py\", line 108, in run\n",
      "    self._target(*self._args, **self._kwargs)\n",
      "  File \"/home/abhisheknandekar/miniconda3/envs/raga/lib/python3.8/multiprocessing/pool.py\", line 125, in worker\n",
      "    result = (True, func(*args, **kwds))\n",
      "  File \"/home/abhisheknandekar/miniconda3/envs/raga/lib/python3.8/multiprocessing/process.py\", line 315, in _bootstrap\n",
      "    self.run()\n",
      "  File \"/home/abhisheknandekar/miniconda3/envs/raga/lib/python3.8/multiprocessing/process.py\", line 108, in run\n",
      "    self._target(*self._args, **self._kwargs)\n",
      "  File \"/home/abhisheknandekar/miniconda3/envs/raga/lib/python3.8/multiprocessing/pool.py\", line 51, in starmapstar\n",
      "    return list(itertools.starmap(args[0], args[1]))\n",
      "  File \"/home/abhisheknandekar/miniconda3/envs/raga/lib/python3.8/site-packages/ETC/CCMC/pairs.py\", line 428, in CCM_causality\n",
      "    ETC_causality(\n",
      "  File \"/home/abhisheknandekar/miniconda3/envs/raga/lib/python3.8/multiprocessing/pool.py\", line 51, in starmapstar\n",
      "    return list(itertools.starmap(args[0], args[1]))\n",
      "  File \"/home/abhisheknandekar/miniconda3/envs/raga/lib/python3.8/multiprocessing/pool.py\", line 125, in worker\n",
      "    result = (True, func(*args, **kwds))\n",
      "  File \"/home/abhisheknandekar/miniconda3/envs/raga/lib/python3.8/multiprocessing/pool.py\", line 125, in worker\n",
      "    result = (True, func(*args, **kwds))\n",
      "  File \"/home/abhisheknandekar/miniconda3/envs/raga/lib/python3.8/multiprocessing/pool.py\", line 51, in starmapstar\n",
      "    return list(itertools.starmap(args[0], args[1]))\n",
      "  File \"/home/abhisheknandekar/miniconda3/envs/raga/lib/python3.8/multiprocessing/process.py\", line 108, in run\n",
      "    self._target(*self._args, **self._kwargs)\n",
      "  File \"/home/abhisheknandekar/miniconda3/envs/raga/lib/python3.8/multiprocessing/process.py\", line 315, in _bootstrap\n",
      "    self.run()\n",
      "  File \"/home/abhisheknandekar/miniconda3/envs/raga/lib/python3.8/multiprocessing/pool.py\", line 125, in worker\n",
      "    result = (True, func(*args, **kwds))\n",
      "  File \"/home/abhisheknandekar/miniconda3/envs/raga/lib/python3.8/multiprocessing/pool.py\", line 51, in starmapstar\n",
      "    return list(itertools.starmap(args[0], args[1]))\n",
      "  File \"/home/abhisheknandekar/miniconda3/envs/raga/lib/python3.8/site-packages/ETC/CCMC/pairs.py\", line 428, in CCM_causality\n",
      "    ETC_causality(\n",
      "  File \"/home/abhisheknandekar/miniconda3/envs/raga/lib/python3.8/multiprocessing/pool.py\", line 51, in starmapstar\n",
      "    return list(itertools.starmap(args[0], args[1]))\n",
      "  File \"/home/abhisheknandekar/miniconda3/envs/raga/lib/python3.8/multiprocessing/pool.py\", line 51, in starmapstar\n",
      "    return list(itertools.starmap(args[0], args[1]))\n",
      "  File \"/home/abhisheknandekar/miniconda3/envs/raga/lib/python3.8/multiprocessing/process.py\", line 108, in run\n",
      "    self._target(*self._args, **self._kwargs)\n",
      "  File \"/home/abhisheknandekar/miniconda3/envs/raga/lib/python3.8/multiprocessing/pool.py\", line 125, in worker\n",
      "    result = (True, func(*args, **kwds))\n",
      "  File \"/home/abhisheknandekar/miniconda3/envs/raga/lib/python3.8/multiprocessing/pool.py\", line 125, in worker\n",
      "    result = (True, func(*args, **kwds))\n",
      "  File \"/home/abhisheknandekar/miniconda3/envs/raga/lib/python3.8/multiprocessing/pool.py\", line 125, in worker\n",
      "    result = (True, func(*args, **kwds))\n",
      "  File \"/home/abhisheknandekar/miniconda3/envs/raga/lib/python3.8/multiprocessing/process.py\", line 108, in run\n",
      "    self._target(*self._args, **self._kwargs)\n",
      "  File \"/home/abhisheknandekar/miniconda3/envs/raga/lib/python3.8/multiprocessing/pool.py\", line 51, in starmapstar\n",
      "    return list(itertools.starmap(args[0], args[1]))\n",
      "  File \"/home/abhisheknandekar/miniconda3/envs/raga/lib/python3.8/multiprocessing/pool.py\", line 125, in worker\n",
      "    result = (True, func(*args, **kwds))\n",
      "  File \"/home/abhisheknandekar/miniconda3/envs/raga/lib/python3.8/site-packages/ETC/CCMC/pairs.py\", line 428, in CCM_causality\n",
      "    ETC_causality(\n",
      "  File \"/home/abhisheknandekar/miniconda3/envs/raga/lib/python3.8/multiprocessing/pool.py\", line 51, in starmapstar\n",
      "    return list(itertools.starmap(args[0], args[1]))\n",
      "  File \"/home/abhisheknandekar/miniconda3/envs/raga/lib/python3.8/site-packages/ETC/CCMC/pairs.py\", line 428, in CCM_causality\n",
      "    ETC_causality(\n",
      "  File \"/home/abhisheknandekar/miniconda3/envs/raga/lib/python3.8/site-packages/ETC/CCMC/pairs.py\", line 201, in ETC_causality\n",
      "    etc_y_given_x, y_residual = _external_substitution(y, out_x.get(\"Trajectory\"))\n",
      "  File \"/home/abhisheknandekar/miniconda3/envs/raga/lib/python3.8/multiprocessing/pool.py\", line 51, in starmapstar\n",
      "    return list(itertools.starmap(args[0], args[1]))\n",
      "  File \"/home/abhisheknandekar/miniconda3/envs/raga/lib/python3.8/multiprocessing/pool.py\", line 51, in starmapstar\n",
      "    return list(itertools.starmap(args[0], args[1]))\n",
      "  File \"/home/abhisheknandekar/miniconda3/envs/raga/lib/python3.8/multiprocessing/pool.py\", line 125, in worker\n",
      "    result = (True, func(*args, **kwds))\n",
      "  File \"/home/abhisheknandekar/miniconda3/envs/raga/lib/python3.8/multiprocessing/process.py\", line 108, in run\n",
      "    self._target(*self._args, **self._kwargs)\n",
      "  File \"/home/abhisheknandekar/miniconda3/envs/raga/lib/python3.8/site-packages/ETC/CCMC/pairs.py\", line 428, in CCM_causality\n",
      "    ETC_causality(\n",
      "  File \"/home/abhisheknandekar/miniconda3/envs/raga/lib/python3.8/site-packages/ETC/CCMC/pairs.py\", line 191, in ETC_causality\n",
      "    out_y = ETC.compute_1D(y, order=2, verbose=True, truncate=False)\n",
      "  File \"/home/abhisheknandekar/miniconda3/envs/raga/lib/python3.8/site-packages/ETC/CCMC/pairs.py\", line 428, in CCM_causality\n",
      "    ETC_causality(\n",
      "  File \"/home/abhisheknandekar/miniconda3/envs/raga/lib/python3.8/site-packages/ETC/CCMC/pairs.py\", line 428, in CCM_causality\n",
      "    ETC_causality(\n",
      "  File \"/home/abhisheknandekar/miniconda3/envs/raga/lib/python3.8/site-packages/ETC/CCMC/pairs.py\", line 437, in CCM_causality\n",
      "    LZ_causality(x, y, penalty_threshold=penalty_threshold, lengths=False,)\n",
      "  File \"/home/abhisheknandekar/miniconda3/envs/raga/lib/python3.8/multiprocessing/pool.py\", line 125, in worker\n",
      "    result = (True, func(*args, **kwds))\n",
      "  File \"/home/abhisheknandekar/miniconda3/envs/raga/lib/python3.8/multiprocessing/pool.py\", line 51, in starmapstar\n",
      "    return list(itertools.starmap(args[0], args[1]))\n",
      "  File \"/home/abhisheknandekar/miniconda3/envs/raga/lib/python3.8/multiprocessing/pool.py\", line 51, in starmapstar\n",
      "    return list(itertools.starmap(args[0], args[1]))\n",
      "  File \"/home/abhisheknandekar/miniconda3/envs/raga/lib/python3.8/multiprocessing/pool.py\", line 125, in worker\n",
      "    result = (True, func(*args, **kwds))\n",
      "  File \"/home/abhisheknandekar/miniconda3/envs/raga/lib/python3.8/multiprocessing/pool.py\", line 51, in starmapstar\n",
      "    return list(itertools.starmap(args[0], args[1]))\n",
      "  File \"/home/abhisheknandekar/miniconda3/envs/raga/lib/python3.8/site-packages/ETC/CCMC/pairs.py\", line 428, in CCM_causality\n",
      "    ETC_causality(\n",
      "  File \"/home/abhisheknandekar/miniconda3/envs/raga/lib/python3.8/site-packages/ETC/CCMC/pairs.py\", line 191, in ETC_causality\n",
      "    out_y = ETC.compute_1D(y, order=2, verbose=True, truncate=False)\n",
      "  File \"/home/abhisheknandekar/miniconda3/envs/raga/lib/python3.8/multiprocessing/pool.py\", line 51, in starmapstar\n",
      "    return list(itertools.starmap(args[0], args[1]))\n",
      "  File \"/home/abhisheknandekar/miniconda3/envs/raga/lib/python3.8/site-packages/ETC/CCMC/pairs.py\", line 428, in CCM_causality\n",
      "    ETC_causality(\n",
      "Traceback (most recent call last):\n",
      "  File \"/home/abhisheknandekar/miniconda3/envs/raga/lib/python3.8/site-packages/ETC/CCMC/pairs.py\", line 190, in ETC_causality\n",
      "    out_x = ETC.compute_1D(x, order=2, verbose=True, truncate=False)\n",
      "Traceback (most recent call last):\n",
      "  File \"/home/abhisheknandekar/miniconda3/envs/raga/lib/python3.8/site-packages/ETC/CCMC/pairs.py\", line 103, in _external_substitution\n",
      "    if len(seq) > 1 and _check_pair(tuple(pair), seq):\n",
      "  File \"/home/abhisheknandekar/miniconda3/envs/raga/lib/python3.8/site-packages/ETC/CCMC/pairs.py\", line 428, in CCM_causality\n",
      "    ETC_causality(\n",
      "  File \"/home/abhisheknandekar/miniconda3/envs/raga/lib/python3.8/multiprocessing/pool.py\", line 51, in starmapstar\n",
      "    return list(itertools.starmap(args[0], args[1]))\n",
      "  File \"/home/abhisheknandekar/miniconda3/envs/raga/lib/python3.8/site-packages/ETC/CCMC/pairs.py\", line 428, in CCM_causality\n",
      "    ETC_causality(\n",
      "  File \"/home/abhisheknandekar/miniconda3/envs/raga/lib/python3.8/multiprocessing/pool.py\", line 125, in worker\n",
      "    result = (True, func(*args, **kwds))\n",
      "  File \"/home/abhisheknandekar/miniconda3/envs/raga/lib/python3.8/site-packages/ETC/CCMC/pairs.py\", line 190, in ETC_causality\n",
      "    out_x = ETC.compute_1D(x, order=2, verbose=True, truncate=False)\n",
      "  File \"/home/abhisheknandekar/miniconda3/envs/raga/lib/python3.8/site-packages/ETC/NSRWS/x1D/etc.py\", line 364, in compute\n",
      "    etc, out = _compute_verbose_full(seq, order)\n",
      "  File \"/home/abhisheknandekar/miniconda3/envs/raga/lib/python3.8/site-packages/ETC/CCMC/pairs.py\", line 210, in ETC_causality\n",
      "    etc_y_residual = _ETC_residual(y_residual)\n",
      "  File \"/home/abhisheknandekar/miniconda3/envs/raga/lib/python3.8/site-packages/ETC/CCMC/pairs.py\", line 201, in ETC_causality\n",
      "    etc_y_given_x, y_residual = _external_substitution(y, out_x.get(\"Trajectory\"))\n",
      "  File \"/home/abhisheknandekar/miniconda3/envs/raga/lib/python3.8/site-packages/ETC/CCMC/pairs.py\", line 351, in LZ_causality\n",
      "    LZ_x = LZ(x)\n",
      "  File \"/home/abhisheknandekar/miniconda3/envs/raga/lib/python3.8/multiprocessing/pool.py\", line 51, in starmapstar\n",
      "    return list(itertools.starmap(args[0], args[1]))\n",
      "  File \"/home/abhisheknandekar/miniconda3/envs/raga/lib/python3.8/site-packages/ETC/CCMC/pairs.py\", line 428, in CCM_causality\n",
      "    ETC_causality(\n",
      "  File \"/home/abhisheknandekar/miniconda3/envs/raga/lib/python3.8/site-packages/ETC/CCMC/pairs.py\", line 428, in CCM_causality\n",
      "    ETC_causality(\n",
      "  File \"/home/abhisheknandekar/miniconda3/envs/raga/lib/python3.8/site-packages/ETC/NSRWS/x1D/etc.py\", line 364, in compute\n",
      "    etc, out = _compute_verbose_full(seq, order)\n",
      "  File \"/home/abhisheknandekar/miniconda3/envs/raga/lib/python3.8/site-packages/ETC/CCMC/pairs.py\", line 428, in CCM_causality\n",
      "    ETC_causality(\n",
      "  File \"/home/abhisheknandekar/miniconda3/envs/raga/lib/python3.8/site-packages/ETC/CCMC/pairs.py\", line 191, in ETC_causality\n",
      "    out_y = ETC.compute_1D(y, order=2, verbose=True, truncate=False)\n",
      "  File \"/home/abhisheknandekar/miniconda3/envs/raga/lib/python3.8/site-packages/ETC/CCMC/pairs.py\", line 202, in ETC_causality\n",
      "    etc_x_given_y, x_residual = _external_substitution(x, out_y.get(\"Trajectory\"))\n",
      "  File \"/home/abhisheknandekar/miniconda3/envs/raga/lib/python3.8/site-packages/ETC/CCMC/pairs.py\", line 428, in CCM_causality\n",
      "    ETC_causality(\n",
      "  File \"/home/abhisheknandekar/miniconda3/envs/raga/lib/python3.8/multiprocessing/process.py\", line 315, in _bootstrap\n",
      "    self.run()\n",
      "  File \"/home/abhisheknandekar/miniconda3/envs/raga/lib/python3.8/multiprocessing/process.py\", line 315, in _bootstrap\n",
      "    self.run()\n",
      "  File \"/home/abhisheknandekar/miniconda3/envs/raga/lib/python3.8/site-packages/ETC/NSRWS/x1D/etc.py\", line 364, in compute\n",
      "    etc, out = _compute_verbose_full(seq, order)\n",
      "  File \"/home/abhisheknandekar/miniconda3/envs/raga/lib/python3.8/site-packages/ETC/CCMC/pairs.py\", line 191, in ETC_causality\n",
      "    out_y = ETC.compute_1D(y, order=2, verbose=True, truncate=False)\n",
      "  File \"/home/abhisheknandekar/miniconda3/envs/raga/lib/python3.8/site-packages/ETC/CCMC/pairs.py\", line 428, in CCM_causality\n",
      "    ETC_causality(\n",
      "  File \"/home/abhisheknandekar/miniconda3/envs/raga/lib/python3.8/site-packages/ETC/CCMC/pairs.py\", line 55, in _check_pair\n",
      "    pairs = set(zip(*(islice(tuple(seq), i, None) for i in range(2))))\n",
      "  File \"/home/abhisheknandekar/miniconda3/envs/raga/lib/python3.8/site-packages/ETC/CCMC/pairs.py\", line 190, in ETC_causality\n",
      "    out_x = ETC.compute_1D(x, order=2, verbose=True, truncate=False)\n",
      "  File \"/home/abhisheknandekar/miniconda3/envs/raga/lib/python3.8/multiprocessing/pool.py\", line 51, in starmapstar\n",
      "    return list(itertools.starmap(args[0], args[1]))\n",
      "  File \"/home/abhisheknandekar/miniconda3/envs/raga/lib/python3.8/site-packages/ETC/NSRWS/x1D/etc.py\", line 186, in _compute_verbose_full\n",
      "    seq, signal, freq_win, count, time = _onestep(seq, order, verbose=True)\n",
      "  File \"/home/abhisheknandekar/miniconda3/envs/raga/lib/python3.8/site-packages/ETC/NSRWS/x1D/etc.py\", line 364, in compute\n",
      "    etc, out = _compute_verbose_full(seq, order)\n",
      "  File \"/home/abhisheknandekar/miniconda3/envs/raga/lib/python3.8/site-packages/ETC/CCMC/pairs.py\", line 138, in _ETC_residual\n",
      "    return ETC.compute_1D(residual_sequence).get(\"ETC1D\")\n",
      "  File \"/home/abhisheknandekar/miniconda3/envs/raga/lib/python3.8/site-packages/ETC/CCMC/pairs.py\", line 103, in _external_substitution\n",
      "    if len(seq) > 1 and _check_pair(tuple(pair), seq):\n",
      "  File \"/home/abhisheknandekar/miniconda3/envs/raga/lib/python3.8/site-packages/ETC/LZ76/lzc.py\", line 27, in compute_complexity\n",
      "    return core.lzc_a(seq)\n",
      "  File \"/home/abhisheknandekar/miniconda3/envs/raga/lib/python3.8/site-packages/ETC/CCMC/pairs.py\", line 428, in CCM_causality\n",
      "    ETC_causality(\n",
      "  File \"/home/abhisheknandekar/miniconda3/envs/raga/lib/python3.8/site-packages/ETC/CCMC/pairs.py\", line 201, in ETC_causality\n",
      "    etc_y_given_x, y_residual = _external_substitution(y, out_x.get(\"Trajectory\"))\n",
      "  File \"/home/abhisheknandekar/miniconda3/envs/raga/lib/python3.8/site-packages/ETC/CCMC/pairs.py\", line 190, in ETC_causality\n",
      "    out_x = ETC.compute_1D(x, order=2, verbose=True, truncate=False)\n",
      "  File \"/home/abhisheknandekar/miniconda3/envs/raga/lib/python3.8/site-packages/ETC/NSRWS/x1D/etc.py\", line 186, in _compute_verbose_full\n",
      "    seq, signal, freq_win, count, time = _onestep(seq, order, verbose=True)\n",
      "  File \"/home/abhisheknandekar/miniconda3/envs/raga/lib/python3.8/site-packages/ETC/CCMC/pairs.py\", line 202, in ETC_causality\n",
      "    etc_x_given_y, x_residual = _external_substitution(x, out_y.get(\"Trajectory\"))\n",
      "  File \"/home/abhisheknandekar/miniconda3/envs/raga/lib/python3.8/site-packages/ETC/NSRWS/x1D/etc.py\", line 364, in compute\n",
      "    etc, out = _compute_verbose_full(seq, order)\n",
      "  File \"/home/abhisheknandekar/miniconda3/envs/raga/lib/python3.8/multiprocessing/process.py\", line 108, in run\n",
      "    self._target(*self._args, **self._kwargs)\n",
      "  File \"/home/abhisheknandekar/miniconda3/envs/raga/lib/python3.8/site-packages/ETC/CCMC/pairs.py\", line 103, in _external_substitution\n",
      "    if len(seq) > 1 and _check_pair(tuple(pair), seq):\n",
      "  File \"/home/abhisheknandekar/miniconda3/envs/raga/lib/python3.8/site-packages/ETC/CCMC/pairs.py\", line 190, in ETC_causality\n",
      "    out_x = ETC.compute_1D(x, order=2, verbose=True, truncate=False)\n",
      "  File \"/home/abhisheknandekar/miniconda3/envs/raga/lib/python3.8/multiprocessing/process.py\", line 108, in run\n",
      "    self._target(*self._args, **self._kwargs)\n",
      "  File \"/home/abhisheknandekar/miniconda3/envs/raga/lib/python3.8/site-packages/ETC/NSRWS/x1D/etc.py\", line 186, in _compute_verbose_full\n",
      "    seq, signal, freq_win, count, time = _onestep(seq, order, verbose=True)\n",
      "  File \"/home/abhisheknandekar/miniconda3/envs/raga/lib/python3.8/site-packages/ETC/NSRWS/x1D/etc.py\", line 364, in compute\n",
      "    etc, out = _compute_verbose_full(seq, order)\n",
      "  File \"/home/abhisheknandekar/miniconda3/envs/raga/lib/python3.8/site-packages/ETC/CCMC/pairs.py\", line 191, in ETC_causality\n",
      "    out_y = ETC.compute_1D(y, order=2, verbose=True, truncate=False)\n",
      "KeyboardInterrupt\n",
      "  File \"/home/abhisheknandekar/miniconda3/envs/raga/lib/python3.8/site-packages/ETC/NSRWS/x1D/etc.py\", line 364, in compute\n",
      "    etc, out = _compute_verbose_full(seq, order)\n",
      "  File \"/home/abhisheknandekar/miniconda3/envs/raga/lib/python3.8/site-packages/ETC/CCMC/pairs.py\", line 428, in CCM_causality\n",
      "    ETC_causality(\n",
      "  File \"/home/abhisheknandekar/miniconda3/envs/raga/lib/python3.8/site-packages/ETC/NSRWS/x1D/etc.py\", line 186, in _compute_verbose_full\n",
      "    seq, signal, freq_win, count, time = _onestep(seq, order, verbose=True)\n",
      "  File \"/home/abhisheknandekar/miniconda3/envs/raga/lib/python3.8/site-packages/ETC/NSRWS/x1D/onestep.py\", line 316, in _onestep\n",
      "    return _onestep_pairs(seq[:], verbose)\n",
      "  File \"/home/abhisheknandekar/miniconda3/envs/raga/lib/python3.8/site-packages/ETC/NSRWS/x1D/etc.py\", line 359, in compute\n",
      "    etc = _compute_compact_truncated(seq, order)\n",
      "  File \"/home/abhisheknandekar/miniconda3/envs/raga/lib/python3.8/site-packages/ETC/CCMC/pairs.py\", line 210, in ETC_causality\n",
      "    etc_y_residual = _ETC_residual(y_residual)\n",
      "  File \"/home/abhisheknandekar/miniconda3/envs/raga/lib/python3.8/site-packages/ETC/CCMC/pairs.py\", line 55, in _check_pair\n",
      "    pairs = set(zip(*(islice(tuple(seq), i, None) for i in range(2))))\n",
      "KeyboardInterrupt\n",
      "  File \"/home/abhisheknandekar/miniconda3/envs/raga/lib/python3.8/site-packages/ETC/CCMC/pairs.py\", line 103, in _external_substitution\n",
      "    if len(seq) > 1 and _check_pair(tuple(pair), seq):\n",
      "  File \"/home/abhisheknandekar/miniconda3/envs/raga/lib/python3.8/site-packages/ETC/NSRWS/x1D/etc.py\", line 364, in compute\n",
      "    etc, out = _compute_verbose_full(seq, order)\n",
      "  File \"/home/abhisheknandekar/miniconda3/envs/raga/lib/python3.8/site-packages/ETC/CCMC/pairs.py\", line 106, in _external_substitution\n",
      "    seq = ETC.cast(core.substitute_pairs(seq, pair, max(seq) + 1))\n",
      "  File \"/home/abhisheknandekar/miniconda3/envs/raga/lib/python3.8/site-packages/ETC/NSRWS/x1D/onestep.py\", line 316, in _onestep\n",
      "    return _onestep_pairs(seq[:], verbose)\n",
      "  File \"/home/abhisheknandekar/miniconda3/envs/raga/lib/python3.8/site-packages/ETC/NSRWS/x1D/etc.py\", line 186, in _compute_verbose_full\n",
      "    seq, signal, freq_win, count, time = _onestep(seq, order, verbose=True)\n",
      "  File \"/home/abhisheknandekar/miniconda3/envs/raga/lib/python3.8/multiprocessing/pool.py\", line 125, in worker\n",
      "    result = (True, func(*args, **kwds))\n",
      "  File \"/home/abhisheknandekar/miniconda3/envs/raga/lib/python3.8/site-packages/ETC/NSRWS/x1D/etc.py\", line 364, in compute\n",
      "    etc, out = _compute_verbose_full(seq, order)\n",
      "  File \"/home/abhisheknandekar/miniconda3/envs/raga/lib/python3.8/site-packages/ETC/NSRWS/x1D/onestep.py\", line 316, in _onestep\n",
      "    return _onestep_pairs(seq[:], verbose)\n",
      "  File \"/home/abhisheknandekar/miniconda3/envs/raga/lib/python3.8/site-packages/ETC/CCMC/pairs.py\", line 55, in _check_pair\n",
      "    pairs = set(zip(*(islice(tuple(seq), i, None) for i in range(2))))\n",
      "  File \"/home/abhisheknandekar/miniconda3/envs/raga/lib/python3.8/multiprocessing/pool.py\", line 125, in worker\n",
      "    result = (True, func(*args, **kwds))\n",
      "  File \"/home/abhisheknandekar/miniconda3/envs/raga/lib/python3.8/site-packages/ETC/NSRWS/x1D/etc.py\", line 364, in compute\n",
      "    etc, out = _compute_verbose_full(seq, order)\n",
      "  File \"/home/abhisheknandekar/miniconda3/envs/raga/lib/python3.8/site-packages/ETC/NSRWS/x1D/etc.py\", line 186, in _compute_verbose_full\n",
      "    seq, signal, freq_win, count, time = _onestep(seq, order, verbose=True)\n",
      "  File \"/home/abhisheknandekar/miniconda3/envs/raga/lib/python3.8/site-packages/ETC/CCMC/pairs.py\", line 201, in ETC_causality\n",
      "    etc_y_given_x, y_residual = _external_substitution(y, out_x.get(\"Trajectory\"))\n",
      "  File \"/home/abhisheknandekar/miniconda3/envs/raga/lib/python3.8/site-packages/ETC/NSRWS/x1D/etc.py\", line 186, in _compute_verbose_full\n",
      "    seq, signal, freq_win, count, time = _onestep(seq, order, verbose=True)\n",
      "  File \"/home/abhisheknandekar/miniconda3/envs/raga/lib/python3.8/site-packages/ETC/NSRWS/x1D/onestep.py\", line 174, in _onestep_pairs\n",
      "    out = cast(core.substitute_pairs(seq, freq_pair, sub_value))\n",
      "  File \"/home/abhisheknandekar/miniconda3/envs/raga/lib/python3.8/site-packages/ETC/NSRWS/x1D/onestep.py\", line 316, in _onestep\n",
      "    return _onestep_pairs(seq[:], verbose)\n",
      "  File \"/home/abhisheknandekar/miniconda3/envs/raga/lib/python3.8/site-packages/ETC/NSRWS/x1D/etc.py\", line 246, in _compute_compact_truncated\n",
      "    seq, signal = _onestep(seq, order, verbose=False)\n",
      "  File \"/home/abhisheknandekar/miniconda3/envs/raga/lib/python3.8/site-packages/ETC/CCMC/pairs.py\", line 138, in _ETC_residual\n",
      "    return ETC.compute_1D(residual_sequence).get(\"ETC1D\")\n",
      "KeyboardInterrupt\n",
      "  File \"/home/abhisheknandekar/miniconda3/envs/raga/lib/python3.8/site-packages/ETC/CCMC/pairs.py\", line 55, in _check_pair\n",
      "    pairs = set(zip(*(islice(tuple(seq), i, None) for i in range(2))))\n",
      "  File \"/home/abhisheknandekar/miniconda3/envs/raga/lib/python3.8/site-packages/ETC/NSRWS/x1D/etc.py\", line 186, in _compute_verbose_full\n",
      "    seq, signal, freq_win, count, time = _onestep(seq, order, verbose=True)\n",
      "  File \"/home/abhisheknandekar/miniconda3/envs/raga/lib/python3.8/site-packages/ETC/NSRWS/x1D/onestep.py\", line 316, in _onestep\n",
      "    return _onestep_pairs(seq[:], verbose)\n",
      "  File \"/home/abhisheknandekar/miniconda3/envs/raga/lib/python3.8/multiprocessing/pool.py\", line 51, in starmapstar\n",
      "    return list(itertools.starmap(args[0], args[1]))\n",
      "  File \"/home/abhisheknandekar/miniconda3/envs/raga/lib/python3.8/site-packages/ETC/seq/recode.py\", line 43, in cast\n",
      "    if zeroes(out):\n",
      "  File \"/home/abhisheknandekar/miniconda3/envs/raga/lib/python3.8/site-packages/ETC/NSRWS/x1D/onestep.py\", line 162, in _onestep_pairs\n",
      "    freq_pair, count = _mask_and_count(seq, mask, 2)\n",
      "  File \"/home/abhisheknandekar/miniconda3/envs/raga/lib/python3.8/site-packages/ETC/NSRWS/x1D/onestep.py\", line 162, in _onestep_pairs\n",
      "    freq_pair, count = _mask_and_count(seq, mask, 2)\n",
      "  File \"/home/abhisheknandekar/miniconda3/envs/raga/lib/python3.8/site-packages/ETC/NSRWS/x1D/etc.py\", line 186, in _compute_verbose_full\n",
      "    seq, signal, freq_win, count, time = _onestep(seq, order, verbose=True)\n",
      "KeyboardInterrupt\n",
      "  File \"/home/abhisheknandekar/miniconda3/envs/raga/lib/python3.8/multiprocessing/pool.py\", line 51, in starmapstar\n",
      "    return list(itertools.starmap(args[0], args[1]))\n",
      "  File \"/home/abhisheknandekar/miniconda3/envs/raga/lib/python3.8/site-packages/ETC/NSRWS/x1D/etc.py\", line 186, in _compute_verbose_full\n",
      "    seq, signal, freq_win, count, time = _onestep(seq, order, verbose=True)\n",
      "  File \"/home/abhisheknandekar/miniconda3/envs/raga/lib/python3.8/site-packages/ETC/CCMC/pairs.py\", line 103, in _external_substitution\n",
      "    if len(seq) > 1 and _check_pair(tuple(pair), seq):\n",
      "  File \"/home/abhisheknandekar/miniconda3/envs/raga/lib/python3.8/site-packages/ETC/NSRWS/x1D/onestep.py\", line 316, in _onestep\n",
      "    return _onestep_pairs(seq[:], verbose)\n",
      "  File \"/home/abhisheknandekar/miniconda3/envs/raga/lib/python3.8/site-packages/ETC/seq/recode.py\", line 42, in cast\n",
      "    out = array(\"I\", seq)\n",
      "  File \"/home/abhisheknandekar/miniconda3/envs/raga/lib/python3.8/site-packages/ETC/NSRWS/x1D/onestep.py\", line 316, in _onestep\n",
      "    return _onestep_pairs(seq[:], verbose)\n",
      "  File \"/home/abhisheknandekar/miniconda3/envs/raga/lib/python3.8/site-packages/ETC/NSRWS/x1D/onestep.py\", line 316, in _onestep\n",
      "    return _onestep_pairs(seq[:], verbose)\n",
      "  File \"/home/abhisheknandekar/miniconda3/envs/raga/lib/python3.8/site-packages/ETC/NSRWS/x1D/onestep.py\", line 162, in _onestep_pairs\n",
      "    freq_pair, count = _mask_and_count(seq, mask, 2)\n",
      "  File \"/home/abhisheknandekar/miniconda3/envs/raga/lib/python3.8/site-packages/ETC/NSRWS/x1D/etc.py\", line 359, in compute\n",
      "    etc = _compute_compact_truncated(seq, order)\n",
      "  File \"/home/abhisheknandekar/miniconda3/envs/raga/lib/python3.8/site-packages/ETC/CCMC/pairs.py\", line 437, in CCM_causality\n",
      "    LZ_causality(x, y, penalty_threshold=penalty_threshold, lengths=False,)\n",
      "KeyboardInterrupt\n",
      "  File \"/home/abhisheknandekar/miniconda3/envs/raga/lib/python3.8/site-packages/ETC/NSRWS/x1D/onestep.py\", line 316, in _onestep\n",
      "    return _onestep_pairs(seq[:], verbose)\n",
      "  File \"/home/abhisheknandekar/miniconda3/envs/raga/lib/python3.8/site-packages/ETC/NSRWS/x1D/onestep.py\", line 162, in _onestep_pairs\n",
      "    freq_pair, count = _mask_and_count(seq, mask, 2)\n",
      "  File \"/home/abhisheknandekar/miniconda3/envs/raga/lib/python3.8/site-packages/ETC/NSRWS/x1D/onestep.py\", line 93, in _mask_and_count\n",
      "    freq_window, count = Counter(filtered).most_common(1)[0]\n",
      "  File \"/home/abhisheknandekar/miniconda3/envs/raga/lib/python3.8/multiprocessing/pool.py\", line 51, in starmapstar\n",
      "    return list(itertools.starmap(args[0], args[1]))\n",
      "  File \"/home/abhisheknandekar/miniconda3/envs/raga/lib/python3.8/site-packages/ETC/seq/check.py\", line 15, in zeroes\n",
      "    if 0 in seq:\n",
      "  File \"/home/abhisheknandekar/miniconda3/envs/raga/lib/python3.8/site-packages/ETC/NSRWS/x1D/onestep.py\", line 93, in _mask_and_count\n",
      "    freq_window, count = Counter(filtered).most_common(1)[0]\n",
      "  File \"/home/abhisheknandekar/miniconda3/envs/raga/lib/python3.8/site-packages/ETC/CCMC/pairs.py\", line 55, in _check_pair\n",
      "    pairs = set(zip(*(islice(tuple(seq), i, None) for i in range(2))))\n",
      "  File \"/home/abhisheknandekar/miniconda3/envs/raga/lib/python3.8/site-packages/ETC/NSRWS/x1D/onestep.py\", line 316, in _onestep\n",
      "    return _onestep_pairs(seq[:], verbose)\n",
      "  File \"/home/abhisheknandekar/miniconda3/envs/raga/lib/python3.8/site-packages/ETC/NSRWS/x1D/onestep.py\", line 316, in _onestep\n",
      "    return _onestep_pairs(seq[:], verbose)\n",
      "KeyboardInterrupt\n",
      "  File \"/home/abhisheknandekar/miniconda3/envs/raga/lib/python3.8/site-packages/ETC/CCMC/pairs.py\", line 437, in CCM_causality\n",
      "    LZ_causality(x, y, penalty_threshold=penalty_threshold, lengths=False,)\n",
      "  File \"/home/abhisheknandekar/miniconda3/envs/raga/lib/python3.8/site-packages/ETC/NSRWS/x1D/etc.py\", line 246, in _compute_compact_truncated\n",
      "    seq, signal = _onestep(seq, order, verbose=False)\n",
      "  File \"/home/abhisheknandekar/miniconda3/envs/raga/lib/python3.8/site-packages/ETC/NSRWS/x1D/onestep.py\", line 162, in _onestep_pairs\n",
      "    freq_pair, count = _mask_and_count(seq, mask, 2)\n",
      "  File \"/home/abhisheknandekar/miniconda3/envs/raga/lib/python3.8/site-packages/ETC/NSRWS/x1D/onestep.py\", line 162, in _onestep_pairs\n",
      "    freq_pair, count = _mask_and_count(seq, mask, 2)\n",
      "  File \"/home/abhisheknandekar/miniconda3/envs/raga/lib/python3.8/site-packages/ETC/NSRWS/x1D/onestep.py\", line 93, in _mask_and_count\n",
      "    freq_window, count = Counter(filtered).most_common(1)[0]\n",
      "  File \"/home/abhisheknandekar/miniconda3/envs/raga/lib/python3.8/site-packages/ETC/CCMC/pairs.py\", line 352, in LZ_causality\n",
      "    LZ_y = LZ(y)\n",
      "  File \"/home/abhisheknandekar/miniconda3/envs/raga/lib/python3.8/site-packages/ETC/NSRWS/x1D/onestep.py\", line 174, in _onestep_pairs\n",
      "    out = cast(core.substitute_pairs(seq, freq_pair, sub_value))\n",
      "  File \"/home/abhisheknandekar/miniconda3/envs/raga/lib/python3.8/collections/__init__.py\", line 552, in __init__\n",
      "    self.update(iterable, **kwds)\n",
      "  File \"/home/abhisheknandekar/miniconda3/envs/raga/lib/python3.8/site-packages/ETC/NSRWS/x1D/onestep.py\", line 162, in _onestep_pairs\n",
      "    freq_pair, count = _mask_and_count(seq, mask, 2)\n",
      "KeyboardInterrupt\n",
      "  File \"/home/abhisheknandekar/miniconda3/envs/raga/lib/python3.8/site-packages/ETC/NSRWS/x1D/onestep.py\", line 93, in _mask_and_count\n",
      "    freq_window, count = Counter(filtered).most_common(1)[0]\n",
      "  File \"/home/abhisheknandekar/miniconda3/envs/raga/lib/python3.8/site-packages/ETC/CCMC/pairs.py\", line 428, in CCM_causality\n",
      "    ETC_causality(\n",
      "  File \"/home/abhisheknandekar/miniconda3/envs/raga/lib/python3.8/site-packages/ETC/NSRWS/x1D/onestep.py\", line 316, in _onestep\n",
      "    return _onestep_pairs(seq[:], verbose)\n",
      "  File \"/home/abhisheknandekar/miniconda3/envs/raga/lib/python3.8/collections/__init__.py\", line 552, in __init__\n",
      "    self.update(iterable, **kwds)\n",
      "  File \"/home/abhisheknandekar/miniconda3/envs/raga/lib/python3.8/site-packages/ETC/NSRWS/x1D/onestep.py\", line 162, in _onestep_pairs\n",
      "    freq_pair, count = _mask_and_count(seq, mask, 2)\n",
      "  File \"/home/abhisheknandekar/miniconda3/envs/raga/lib/python3.8/site-packages/ETC/CCMC/pairs.py\", line 352, in LZ_causality\n",
      "    LZ_y = LZ(y)\n",
      "  File \"/home/abhisheknandekar/miniconda3/envs/raga/lib/python3.8/site-packages/ETC/NSRWS/x1D/onestep.py\", line 93, in _mask_and_count\n",
      "    freq_window, count = Counter(filtered).most_common(1)[0]\n",
      "  File \"/home/abhisheknandekar/miniconda3/envs/raga/lib/python3.8/collections/__init__.py\", line 637, in update\n",
      "    _count_elements(self, iterable)\n",
      "  File \"/home/abhisheknandekar/miniconda3/envs/raga/lib/python3.8/site-packages/ETC/NSRWS/x1D/onestep.py\", line 162, in _onestep_pairs\n",
      "    freq_pair, count = _mask_and_count(seq, mask, 2)\n",
      "  File \"/home/abhisheknandekar/miniconda3/envs/raga/lib/python3.8/site-packages/ETC/seq/recode.py\", line 43, in cast\n",
      "    if zeroes(out):\n",
      "  File \"/home/abhisheknandekar/miniconda3/envs/raga/lib/python3.8/site-packages/ETC/LZ76/lzc.py\", line 27, in compute_complexity\n",
      "    return core.lzc_a(seq)\n",
      "  File \"/home/abhisheknandekar/miniconda3/envs/raga/lib/python3.8/site-packages/ETC/NSRWS/x1D/onestep.py\", line 93, in _mask_and_count\n",
      "    freq_window, count = Counter(filtered).most_common(1)[0]\n",
      "  File \"/home/abhisheknandekar/miniconda3/envs/raga/lib/python3.8/collections/__init__.py\", line 552, in __init__\n",
      "    self.update(iterable, **kwds)\n",
      "  File \"/home/abhisheknandekar/miniconda3/envs/raga/lib/python3.8/site-packages/ETC/NSRWS/x1D/onestep.py\", line 162, in _onestep_pairs\n",
      "    freq_pair, count = _mask_and_count(seq, mask, 2)\n",
      "  File \"/home/abhisheknandekar/miniconda3/envs/raga/lib/python3.8/site-packages/ETC/NSRWS/x1D/onestep.py\", line 93, in _mask_and_count\n",
      "    freq_window, count = Counter(filtered).most_common(1)[0]\n",
      "  File \"/home/abhisheknandekar/miniconda3/envs/raga/lib/python3.8/site-packages/ETC/NSRWS/x1D/onestep.py\", line 93, in _mask_and_count\n",
      "    freq_window, count = Counter(filtered).most_common(1)[0]\n",
      "KeyboardInterrupt\n",
      "  File \"/home/abhisheknandekar/miniconda3/envs/raga/lib/python3.8/site-packages/ETC/LZ76/lzc.py\", line 27, in compute_complexity\n",
      "    return core.lzc_a(seq)\n",
      "  File \"/home/abhisheknandekar/miniconda3/envs/raga/lib/python3.8/site-packages/ETC/CCMC/pairs.py\", line 202, in ETC_causality\n",
      "    etc_x_given_y, x_residual = _external_substitution(x, out_y.get(\"Trajectory\"))\n",
      "  File \"/home/abhisheknandekar/miniconda3/envs/raga/lib/python3.8/collections/__init__.py\", line 552, in __init__\n",
      "    self.update(iterable, **kwds)\n",
      "  File \"/home/abhisheknandekar/miniconda3/envs/raga/lib/python3.8/collections/__init__.py\", line 637, in update\n",
      "    _count_elements(self, iterable)\n",
      "  File \"/home/abhisheknandekar/miniconda3/envs/raga/lib/python3.8/collections/__init__.py\", line 552, in __init__\n",
      "    self.update(iterable, **kwds)\n",
      "  File \"/home/abhisheknandekar/miniconda3/envs/raga/lib/python3.8/site-packages/ETC/NSRWS/x1D/onestep.py\", line 93, in _mask_and_count\n",
      "    freq_window, count = Counter(filtered).most_common(1)[0]\n",
      "KeyboardInterrupt\n",
      "  File \"/home/abhisheknandekar/miniconda3/envs/raga/lib/python3.8/collections/__init__.py\", line 552, in __init__\n",
      "    self.update(iterable, **kwds)\n",
      "  File \"/home/abhisheknandekar/miniconda3/envs/raga/lib/python3.8/site-packages/ETC/seq/check.py\", line 15, in zeroes\n",
      "    if 0 in seq:\n",
      "  File \"/home/abhisheknandekar/miniconda3/envs/raga/lib/python3.8/site-packages/ETC/NSRWS/x1D/onestep.py\", line 93, in _mask_and_count\n",
      "    freq_window, count = Counter(filtered).most_common(1)[0]\n",
      "  File \"/home/abhisheknandekar/miniconda3/envs/raga/lib/python3.8/site-packages/ETC/CCMC/pairs.py\", line 106, in _external_substitution\n",
      "    seq = ETC.cast(core.substitute_pairs(seq, pair, max(seq) + 1))\n",
      "  File \"/home/abhisheknandekar/miniconda3/envs/raga/lib/python3.8/collections/__init__.py\", line 552, in __init__\n",
      "    self.update(iterable, **kwds)\n",
      "  File \"/home/abhisheknandekar/miniconda3/envs/raga/lib/python3.8/collections/__init__.py\", line 637, in update\n",
      "    _count_elements(self, iterable)\n",
      "  File \"/home/abhisheknandekar/miniconda3/envs/raga/lib/python3.8/collections/__init__.py\", line 552, in __init__\n",
      "    self.update(iterable, **kwds)\n",
      "KeyboardInterrupt\n",
      "  File \"/home/abhisheknandekar/miniconda3/envs/raga/lib/python3.8/collections/__init__.py\", line 637, in update\n",
      "    _count_elements(self, iterable)\n",
      "  File \"/home/abhisheknandekar/miniconda3/envs/raga/lib/python3.8/collections/__init__.py\", line 552, in __init__\n",
      "    self.update(iterable, **kwds)\n",
      "  File \"/home/abhisheknandekar/miniconda3/envs/raga/lib/python3.8/collections/__init__.py\", line 552, in __init__\n",
      "    self.update(iterable, **kwds)\n",
      "  File \"/home/abhisheknandekar/miniconda3/envs/raga/lib/python3.8/collections/__init__.py\", line 637, in update\n",
      "    _count_elements(self, iterable)\n",
      "KeyboardInterrupt\n",
      "  File \"/home/abhisheknandekar/miniconda3/envs/raga/lib/python3.8/collections/__init__.py\", line 637, in update\n",
      "    _count_elements(self, iterable)\n",
      "KeyboardInterrupt\n",
      "  File \"/home/abhisheknandekar/miniconda3/envs/raga/lib/python3.8/collections/__init__.py\", line 637, in update\n",
      "    _count_elements(self, iterable)\n",
      "  File \"/home/abhisheknandekar/miniconda3/envs/raga/lib/python3.8/collections/__init__.py\", line 637, in update\n",
      "    _count_elements(self, iterable)\n",
      "KeyboardInterrupt\n",
      "KeyboardInterrupt\n",
      "KeyboardInterrupt\n",
      "KeyboardInterrupt\n",
      "  File \"/home/abhisheknandekar/miniconda3/envs/raga/lib/python3.8/collections/__init__.py\", line 637, in update\n",
      "    _count_elements(self, iterable)\n",
      "KeyboardInterrupt\n",
      "KeyboardInterrupt\n",
      "KeyboardInterrupt\n",
      "KeyboardInterrupt\n",
      "Process ForkPoolWorker-1036:\n",
      "Process ForkPoolWorker-1037:\n",
      "Traceback (most recent call last):\n",
      "KeyboardInterrupt\n",
      "  File \"/home/abhisheknandekar/miniconda3/envs/raga/lib/python3.8/collections/__init__.py\", line 637, in update\n",
      "    _count_elements(self, iterable)\n",
      "KeyboardInterrupt\n",
      "Traceback (most recent call last):\n",
      "  File \"/home/abhisheknandekar/miniconda3/envs/raga/lib/python3.8/multiprocessing/process.py\", line 315, in _bootstrap\n",
      "    self.run()\n",
      "  File \"/home/abhisheknandekar/miniconda3/envs/raga/lib/python3.8/multiprocessing/process.py\", line 315, in _bootstrap\n",
      "    self.run()\n",
      "  File \"/home/abhisheknandekar/miniconda3/envs/raga/lib/python3.8/multiprocessing/process.py\", line 108, in run\n",
      "    self._target(*self._args, **self._kwargs)\n",
      "  File \"/home/abhisheknandekar/miniconda3/envs/raga/lib/python3.8/multiprocessing/process.py\", line 108, in run\n",
      "    self._target(*self._args, **self._kwargs)\n",
      "  File \"/home/abhisheknandekar/miniconda3/envs/raga/lib/python3.8/multiprocessing/pool.py\", line 125, in worker\n",
      "    result = (True, func(*args, **kwds))\n",
      "  File \"/home/abhisheknandekar/miniconda3/envs/raga/lib/python3.8/site-packages/ETC/CCMC/pairs.py\", line 191, in ETC_causality\n",
      "    out_y = ETC.compute_1D(y, order=2, verbose=True, truncate=False)\n",
      "  File \"/home/abhisheknandekar/miniconda3/envs/raga/lib/python3.8/multiprocessing/pool.py\", line 125, in worker\n",
      "    result = (True, func(*args, **kwds))\n",
      "  File \"/home/abhisheknandekar/miniconda3/envs/raga/lib/python3.8/multiprocessing/pool.py\", line 51, in starmapstar\n",
      "    return list(itertools.starmap(args[0], args[1]))\n",
      "  File \"/home/abhisheknandekar/miniconda3/envs/raga/lib/python3.8/site-packages/ETC/CCMC/pairs.py\", line 428, in CCM_causality\n",
      "    ETC_causality(\n",
      "  File \"/home/abhisheknandekar/miniconda3/envs/raga/lib/python3.8/multiprocessing/pool.py\", line 51, in starmapstar\n",
      "    return list(itertools.starmap(args[0], args[1]))\n",
      "  File \"/home/abhisheknandekar/miniconda3/envs/raga/lib/python3.8/site-packages/ETC/CCMC/pairs.py\", line 428, in CCM_causality\n",
      "    ETC_causality(\n",
      "  File \"/home/abhisheknandekar/miniconda3/envs/raga/lib/python3.8/site-packages/ETC/NSRWS/x1D/etc.py\", line 364, in compute\n",
      "    etc, out = _compute_verbose_full(seq, order)\n",
      "  File \"/home/abhisheknandekar/miniconda3/envs/raga/lib/python3.8/site-packages/ETC/CCMC/pairs.py\", line 190, in ETC_causality\n",
      "    out_x = ETC.compute_1D(x, order=2, verbose=True, truncate=False)\n",
      "  File \"/home/abhisheknandekar/miniconda3/envs/raga/lib/python3.8/site-packages/ETC/NSRWS/x1D/etc.py\", line 186, in _compute_verbose_full\n",
      "    seq, signal, freq_win, count, time = _onestep(seq, order, verbose=True)\n",
      "  File \"/home/abhisheknandekar/miniconda3/envs/raga/lib/python3.8/site-packages/ETC/NSRWS/x1D/onestep.py\", line 316, in _onestep\n",
      "    return _onestep_pairs(seq[:], verbose)\n",
      "  File \"/home/abhisheknandekar/miniconda3/envs/raga/lib/python3.8/site-packages/ETC/NSRWS/x1D/etc.py\", line 364, in compute\n",
      "    etc, out = _compute_verbose_full(seq, order)\n",
      "  File \"/home/abhisheknandekar/miniconda3/envs/raga/lib/python3.8/site-packages/ETC/NSRWS/x1D/onestep.py\", line 162, in _onestep_pairs\n",
      "    freq_pair, count = _mask_and_count(seq, mask, 2)\n",
      "  File \"/home/abhisheknandekar/miniconda3/envs/raga/lib/python3.8/site-packages/ETC/NSRWS/x1D/etc.py\", line 186, in _compute_verbose_full\n",
      "    seq, signal, freq_win, count, time = _onestep(seq, order, verbose=True)\n",
      "  File \"/home/abhisheknandekar/miniconda3/envs/raga/lib/python3.8/site-packages/ETC/NSRWS/x1D/onestep.py\", line 93, in _mask_and_count\n",
      "    freq_window, count = Counter(filtered).most_common(1)[0]\n",
      "  File \"/home/abhisheknandekar/miniconda3/envs/raga/lib/python3.8/site-packages/ETC/NSRWS/x1D/onestep.py\", line 316, in _onestep\n",
      "    return _onestep_pairs(seq[:], verbose)\n",
      "  File \"/home/abhisheknandekar/miniconda3/envs/raga/lib/python3.8/collections/__init__.py\", line 552, in __init__\n",
      "    self.update(iterable, **kwds)\n",
      "  File \"/home/abhisheknandekar/miniconda3/envs/raga/lib/python3.8/site-packages/ETC/NSRWS/x1D/onestep.py\", line 162, in _onestep_pairs\n",
      "    freq_pair, count = _mask_and_count(seq, mask, 2)\n",
      "  File \"/home/abhisheknandekar/miniconda3/envs/raga/lib/python3.8/collections/__init__.py\", line 637, in update\n",
      "    _count_elements(self, iterable)\n",
      "  File \"/home/abhisheknandekar/miniconda3/envs/raga/lib/python3.8/site-packages/ETC/NSRWS/x1D/onestep.py\", line 93, in _mask_and_count\n",
      "    freq_window, count = Counter(filtered).most_common(1)[0]\n",
      "KeyboardInterrupt\n",
      "  File \"/home/abhisheknandekar/miniconda3/envs/raga/lib/python3.8/collections/__init__.py\", line 552, in __init__\n",
      "    self.update(iterable, **kwds)\n",
      "  File \"/home/abhisheknandekar/miniconda3/envs/raga/lib/python3.8/collections/__init__.py\", line 637, in update\n",
      "    _count_elements(self, iterable)\n",
      "KeyboardInterrupt\n"
     ]
    },
    {
     "ename": "KeyboardInterrupt",
     "evalue": "",
     "output_type": "error",
     "traceback": [
      "\u001B[0;31m---------------------------------------------------------------------------\u001B[0m",
      "\u001B[0;31mKeyboardInterrupt\u001B[0m                         Traceback (most recent call last)",
      "\u001B[0;32m<ipython-input-12-a24366b37cd3>\u001B[0m in \u001B[0;36m<module>\u001B[0;34m\u001B[0m\n\u001B[0;32m----> 1\u001B[0;31m \u001B[0mtc8\u001B[0m\u001B[0;34m,\u001B[0m \u001B[0mtotc8\u001B[0m\u001B[0;34m,\u001B[0m \u001B[0mss8\u001B[0m \u001B[0;34m=\u001B[0m \u001B[0mragaIterator\u001B[0m\u001B[0;34m(\u001B[0m\u001B[0;36m10\u001B[0m\u001B[0;34m,\u001B[0m \u001B[0;34m'8'\u001B[0m\u001B[0;34m,\u001B[0m \u001B[0;34m'8_d'\u001B[0m\u001B[0;34m,\u001B[0m \u001B[0mnum_surrogates\u001B[0m\u001B[0;34m=\u001B[0m\u001B[0;36m150\u001B[0m\u001B[0;34m,\u001B[0m \u001B[0mtimes_it\u001B[0m\u001B[0;34m=\u001B[0m\u001B[0mt_dict\u001B[0m\u001B[0;34m)\u001B[0m\u001B[0;34m\u001B[0m\u001B[0;34m\u001B[0m\u001B[0m\n\u001B[0m\u001B[1;32m      2\u001B[0m \u001B[0;34m\u001B[0m\u001B[0m\n",
      "\u001B[0;32m<ipython-input-2-29f5717a51ee>\u001B[0m in \u001B[0;36mragaIterator\u001B[0;34m(n_iters, mela, janya, num_surrogates, write, times_it)\u001B[0m\n\u001B[1;32m     61\u001B[0m         \u001B[0mtm\u001B[0m \u001B[0;34m=\u001B[0m \u001B[0;34m{\u001B[0m\u001B[0;34m}\u001B[0m\u001B[0;34m\u001B[0m\u001B[0;34m\u001B[0m\u001B[0m\n\u001B[1;32m     62\u001B[0m         \u001B[0;32mif\u001B[0m \u001B[0mi\u001B[0m \u001B[0;34m%\u001B[0m \u001B[0;36m2\u001B[0m \u001B[0;34m!=\u001B[0m \u001B[0;36m0\u001B[0m\u001B[0;34m:\u001B[0m\u001B[0;34m\u001B[0m\u001B[0;34m\u001B[0m\u001B[0m\n\u001B[0;32m---> 63\u001B[0;31m             \u001B[0mtc\u001B[0m\u001B[0;34m,\u001B[0m \u001B[0mtotc\u001B[0m\u001B[0;34m,\u001B[0m \u001B[0mst\u001B[0m \u001B[0;34m=\u001B[0m \u001B[0mprint_correct\u001B[0m\u001B[0;34m(\u001B[0m\u001B[0mmela\u001B[0m\u001B[0;34m,\u001B[0m \u001B[0mjanya\u001B[0m\u001B[0;34m,\u001B[0m \u001B[0mnum_surr\u001B[0m\u001B[0;34m=\u001B[0m\u001B[0mnum_surrogates\u001B[0m\u001B[0;34m,\u001B[0m \u001B[0msurr_serial\u001B[0m\u001B[0;34m=\u001B[0m\u001B[0;32mTrue\u001B[0m\u001B[0;34m,\u001B[0m \u001B[0mtime_cal\u001B[0m\u001B[0;34m=\u001B[0m\u001B[0mtm\u001B[0m\u001B[0;34m)\u001B[0m\u001B[0;34m\u001B[0m\u001B[0;34m\u001B[0m\u001B[0m\n\u001B[0m\u001B[1;32m     64\u001B[0m         \u001B[0;32melse\u001B[0m\u001B[0;34m:\u001B[0m\u001B[0;34m\u001B[0m\u001B[0;34m\u001B[0m\u001B[0m\n\u001B[1;32m     65\u001B[0m             \u001B[0mtc\u001B[0m\u001B[0;34m,\u001B[0m \u001B[0mtotc\u001B[0m\u001B[0;34m,\u001B[0m \u001B[0mst\u001B[0m \u001B[0;34m=\u001B[0m \u001B[0mprint_correct\u001B[0m\u001B[0;34m(\u001B[0m\u001B[0mmela\u001B[0m\u001B[0;34m,\u001B[0m \u001B[0mjanya\u001B[0m\u001B[0;34m,\u001B[0m \u001B[0mnum_surr\u001B[0m\u001B[0;34m=\u001B[0m\u001B[0mnum_surrogates\u001B[0m\u001B[0;34m,\u001B[0m \u001B[0msurr_serial\u001B[0m\u001B[0;34m=\u001B[0m\u001B[0;32mFalse\u001B[0m\u001B[0;34m,\u001B[0m \u001B[0mtime_cal\u001B[0m\u001B[0;34m=\u001B[0m\u001B[0mtm\u001B[0m\u001B[0;34m)\u001B[0m\u001B[0;34m\u001B[0m\u001B[0;34m\u001B[0m\u001B[0m\n",
      "\u001B[0;32m<ipython-input-2-29f5717a51ee>\u001B[0m in \u001B[0;36mprint_correct\u001B[0;34m(mela_id, janya_id, num_surr, surr_serial, time_cal)\u001B[0m\n\u001B[1;32m     19\u001B[0m     \u001B[0mprint\u001B[0m\u001B[0;34m(\u001B[0m\u001B[0;34m\"finding causality....\"\u001B[0m\u001B[0;34m)\u001B[0m\u001B[0;34m\u001B[0m\u001B[0;34m\u001B[0m\u001B[0m\n\u001B[1;32m     20\u001B[0m     \u001B[0mt3\u001B[0m \u001B[0;34m=\u001B[0m \u001B[0mtime\u001B[0m\u001B[0;34m.\u001B[0m\u001B[0mperf_counter\u001B[0m\u001B[0;34m(\u001B[0m\u001B[0;34m)\u001B[0m\u001B[0;34m\u001B[0m\u001B[0;34m\u001B[0m\u001B[0m\n\u001B[0;32m---> 21\u001B[0;31m     \u001B[0mtc\u001B[0m\u001B[0;34m,\u001B[0m \u001B[0mtotc\u001B[0m\u001B[0;34m,\u001B[0m \u001B[0mstrengths\u001B[0m \u001B[0;34m=\u001B[0m \u001B[0mparallelizer\u001B[0m\u001B[0;34m.\u001B[0m\u001B[0mTrueLZPCausality_listParallel\u001B[0m\u001B[0;34m(\u001B[0m\u001B[0mlist\u001B[0m\u001B[0;34m(\u001B[0m\u001B[0madj\u001B[0m\u001B[0;34m.\u001B[0m\u001B[0mvalues\u001B[0m\u001B[0;34m(\u001B[0m\u001B[0;34m)\u001B[0m\u001B[0;34m)\u001B[0m\u001B[0;34m,\u001B[0m \u001B[0mlist\u001B[0m\u001B[0;34m(\u001B[0m\u001B[0madj\u001B[0m\u001B[0;34m.\u001B[0m\u001B[0mkeys\u001B[0m\u001B[0;34m(\u001B[0m\u001B[0;34m)\u001B[0m\u001B[0;34m)\u001B[0m\u001B[0;34m,\u001B[0m \u001B[0mmela\u001B[0m\u001B[0;34m=\u001B[0m\u001B[0mdataset\u001B[0m\u001B[0;34m.\u001B[0m\u001B[0mGetRagaFromRagaId\u001B[0m\u001B[0;34m(\u001B[0m\u001B[0mmela_id\u001B[0m\u001B[0;34m)\u001B[0m\u001B[0;34m)\u001B[0m\u001B[0;34m\u001B[0m\u001B[0;34m\u001B[0m\u001B[0m\n\u001B[0m\u001B[1;32m     22\u001B[0m     \u001B[0mt4\u001B[0m \u001B[0;34m=\u001B[0m \u001B[0mtime\u001B[0m\u001B[0;34m.\u001B[0m\u001B[0mperf_counter\u001B[0m\u001B[0;34m(\u001B[0m\u001B[0;34m)\u001B[0m\u001B[0;34m\u001B[0m\u001B[0;34m\u001B[0m\u001B[0m\n\u001B[1;32m     23\u001B[0m \u001B[0;34m\u001B[0m\u001B[0m\n",
      "\u001B[0;32m~/PycharmProjects/notation-metrics/utils/parallelizer.py\u001B[0m in \u001B[0;36mTrueLZPCausality_listParallel\u001B[0;34m(list, labels, mela)\u001B[0m\n\u001B[1;32m     25\u001B[0m \u001B[0;32mdef\u001B[0m \u001B[0mTrueLZPCausality_listParallel\u001B[0m\u001B[0;34m(\u001B[0m\u001B[0mlist\u001B[0m\u001B[0;34m,\u001B[0m \u001B[0mlabels\u001B[0m\u001B[0;34m,\u001B[0m \u001B[0mmela\u001B[0m\u001B[0;34m)\u001B[0m\u001B[0;34m:\u001B[0m\u001B[0;34m\u001B[0m\u001B[0;34m\u001B[0m\u001B[0m\n\u001B[1;32m     26\u001B[0m     \u001B[0mp\u001B[0m \u001B[0;34m=\u001B[0m \u001B[0mmultiprocessing\u001B[0m\u001B[0;34m.\u001B[0m\u001B[0mPool\u001B[0m\u001B[0;34m(\u001B[0m\u001B[0;34m)\u001B[0m\u001B[0;34m\u001B[0m\u001B[0;34m\u001B[0m\u001B[0m\n\u001B[0;32m---> 27\u001B[0;31m     \u001B[0mres\u001B[0m \u001B[0;34m=\u001B[0m \u001B[0mp\u001B[0m\u001B[0;34m.\u001B[0m\u001B[0mstarmap\u001B[0m\u001B[0;34m(\u001B[0m\u001B[0mETC\u001B[0m\u001B[0;34m.\u001B[0m\u001B[0mCCM_causality\u001B[0m\u001B[0;34m,\u001B[0m \u001B[0mcombinations\u001B[0m\u001B[0;34m(\u001B[0m\u001B[0mlist\u001B[0m\u001B[0;34m,\u001B[0m \u001B[0mr\u001B[0m\u001B[0;34m=\u001B[0m\u001B[0;36m2\u001B[0m\u001B[0;34m)\u001B[0m\u001B[0;34m)\u001B[0m\u001B[0;34m\u001B[0m\u001B[0;34m\u001B[0m\u001B[0m\n\u001B[0m\u001B[1;32m     28\u001B[0m     \u001B[0miter\u001B[0m \u001B[0;34m=\u001B[0m \u001B[0;36m0\u001B[0m\u001B[0;34m\u001B[0m\u001B[0;34m\u001B[0m\u001B[0m\n\u001B[1;32m     29\u001B[0m     \u001B[0mdist\u001B[0m \u001B[0;34m=\u001B[0m \u001B[0mnp\u001B[0m\u001B[0;34m.\u001B[0m\u001B[0mzeros\u001B[0m\u001B[0;34m(\u001B[0m\u001B[0;34m(\u001B[0m\u001B[0mlen\u001B[0m\u001B[0;34m(\u001B[0m\u001B[0mlist\u001B[0m\u001B[0;34m)\u001B[0m\u001B[0;34m,\u001B[0m \u001B[0mlen\u001B[0m\u001B[0;34m(\u001B[0m\u001B[0mlist\u001B[0m\u001B[0;34m)\u001B[0m\u001B[0;34m)\u001B[0m\u001B[0;34m)\u001B[0m\u001B[0;34m\u001B[0m\u001B[0;34m\u001B[0m\u001B[0m\n",
      "\u001B[0;32m~/miniconda3/envs/raga/lib/python3.8/multiprocessing/pool.py\u001B[0m in \u001B[0;36mstarmap\u001B[0;34m(self, func, iterable, chunksize)\u001B[0m\n\u001B[1;32m    370\u001B[0m         \u001B[0;31m`\u001B[0m\u001B[0mfunc\u001B[0m\u001B[0;31m`\u001B[0m \u001B[0;32mand\u001B[0m \u001B[0;34m(\u001B[0m\u001B[0ma\u001B[0m\u001B[0;34m,\u001B[0m \u001B[0mb\u001B[0m\u001B[0;34m)\u001B[0m \u001B[0mbecomes\u001B[0m \u001B[0mfunc\u001B[0m\u001B[0;34m(\u001B[0m\u001B[0ma\u001B[0m\u001B[0;34m,\u001B[0m \u001B[0mb\u001B[0m\u001B[0;34m)\u001B[0m\u001B[0;34m.\u001B[0m\u001B[0;34m\u001B[0m\u001B[0;34m\u001B[0m\u001B[0m\n\u001B[1;32m    371\u001B[0m         '''\n\u001B[0;32m--> 372\u001B[0;31m         \u001B[0;32mreturn\u001B[0m \u001B[0mself\u001B[0m\u001B[0;34m.\u001B[0m\u001B[0m_map_async\u001B[0m\u001B[0;34m(\u001B[0m\u001B[0mfunc\u001B[0m\u001B[0;34m,\u001B[0m \u001B[0miterable\u001B[0m\u001B[0;34m,\u001B[0m \u001B[0mstarmapstar\u001B[0m\u001B[0;34m,\u001B[0m \u001B[0mchunksize\u001B[0m\u001B[0;34m)\u001B[0m\u001B[0;34m.\u001B[0m\u001B[0mget\u001B[0m\u001B[0;34m(\u001B[0m\u001B[0;34m)\u001B[0m\u001B[0;34m\u001B[0m\u001B[0;34m\u001B[0m\u001B[0m\n\u001B[0m\u001B[1;32m    373\u001B[0m \u001B[0;34m\u001B[0m\u001B[0m\n\u001B[1;32m    374\u001B[0m     def starmap_async(self, func, iterable, chunksize=None, callback=None,\n",
      "\u001B[0;32m~/miniconda3/envs/raga/lib/python3.8/multiprocessing/pool.py\u001B[0m in \u001B[0;36mget\u001B[0;34m(self, timeout)\u001B[0m\n\u001B[1;32m    763\u001B[0m \u001B[0;34m\u001B[0m\u001B[0m\n\u001B[1;32m    764\u001B[0m     \u001B[0;32mdef\u001B[0m \u001B[0mget\u001B[0m\u001B[0;34m(\u001B[0m\u001B[0mself\u001B[0m\u001B[0;34m,\u001B[0m \u001B[0mtimeout\u001B[0m\u001B[0;34m=\u001B[0m\u001B[0;32mNone\u001B[0m\u001B[0;34m)\u001B[0m\u001B[0;34m:\u001B[0m\u001B[0;34m\u001B[0m\u001B[0;34m\u001B[0m\u001B[0m\n\u001B[0;32m--> 765\u001B[0;31m         \u001B[0mself\u001B[0m\u001B[0;34m.\u001B[0m\u001B[0mwait\u001B[0m\u001B[0;34m(\u001B[0m\u001B[0mtimeout\u001B[0m\u001B[0;34m)\u001B[0m\u001B[0;34m\u001B[0m\u001B[0;34m\u001B[0m\u001B[0m\n\u001B[0m\u001B[1;32m    766\u001B[0m         \u001B[0;32mif\u001B[0m \u001B[0;32mnot\u001B[0m \u001B[0mself\u001B[0m\u001B[0;34m.\u001B[0m\u001B[0mready\u001B[0m\u001B[0;34m(\u001B[0m\u001B[0;34m)\u001B[0m\u001B[0;34m:\u001B[0m\u001B[0;34m\u001B[0m\u001B[0;34m\u001B[0m\u001B[0m\n\u001B[1;32m    767\u001B[0m             \u001B[0;32mraise\u001B[0m \u001B[0mTimeoutError\u001B[0m\u001B[0;34m\u001B[0m\u001B[0;34m\u001B[0m\u001B[0m\n",
      "\u001B[0;32m~/miniconda3/envs/raga/lib/python3.8/multiprocessing/pool.py\u001B[0m in \u001B[0;36mwait\u001B[0;34m(self, timeout)\u001B[0m\n\u001B[1;32m    760\u001B[0m \u001B[0;34m\u001B[0m\u001B[0m\n\u001B[1;32m    761\u001B[0m     \u001B[0;32mdef\u001B[0m \u001B[0mwait\u001B[0m\u001B[0;34m(\u001B[0m\u001B[0mself\u001B[0m\u001B[0;34m,\u001B[0m \u001B[0mtimeout\u001B[0m\u001B[0;34m=\u001B[0m\u001B[0;32mNone\u001B[0m\u001B[0;34m)\u001B[0m\u001B[0;34m:\u001B[0m\u001B[0;34m\u001B[0m\u001B[0;34m\u001B[0m\u001B[0m\n\u001B[0;32m--> 762\u001B[0;31m         \u001B[0mself\u001B[0m\u001B[0;34m.\u001B[0m\u001B[0m_event\u001B[0m\u001B[0;34m.\u001B[0m\u001B[0mwait\u001B[0m\u001B[0;34m(\u001B[0m\u001B[0mtimeout\u001B[0m\u001B[0;34m)\u001B[0m\u001B[0;34m\u001B[0m\u001B[0;34m\u001B[0m\u001B[0m\n\u001B[0m\u001B[1;32m    763\u001B[0m \u001B[0;34m\u001B[0m\u001B[0m\n\u001B[1;32m    764\u001B[0m     \u001B[0;32mdef\u001B[0m \u001B[0mget\u001B[0m\u001B[0;34m(\u001B[0m\u001B[0mself\u001B[0m\u001B[0;34m,\u001B[0m \u001B[0mtimeout\u001B[0m\u001B[0;34m=\u001B[0m\u001B[0;32mNone\u001B[0m\u001B[0;34m)\u001B[0m\u001B[0;34m:\u001B[0m\u001B[0;34m\u001B[0m\u001B[0;34m\u001B[0m\u001B[0m\n",
      "\u001B[0;32m~/miniconda3/envs/raga/lib/python3.8/threading.py\u001B[0m in \u001B[0;36mwait\u001B[0;34m(self, timeout)\u001B[0m\n\u001B[1;32m    556\u001B[0m             \u001B[0msignaled\u001B[0m \u001B[0;34m=\u001B[0m \u001B[0mself\u001B[0m\u001B[0;34m.\u001B[0m\u001B[0m_flag\u001B[0m\u001B[0;34m\u001B[0m\u001B[0;34m\u001B[0m\u001B[0m\n\u001B[1;32m    557\u001B[0m             \u001B[0;32mif\u001B[0m \u001B[0;32mnot\u001B[0m \u001B[0msignaled\u001B[0m\u001B[0;34m:\u001B[0m\u001B[0;34m\u001B[0m\u001B[0;34m\u001B[0m\u001B[0m\n\u001B[0;32m--> 558\u001B[0;31m                 \u001B[0msignaled\u001B[0m \u001B[0;34m=\u001B[0m \u001B[0mself\u001B[0m\u001B[0;34m.\u001B[0m\u001B[0m_cond\u001B[0m\u001B[0;34m.\u001B[0m\u001B[0mwait\u001B[0m\u001B[0;34m(\u001B[0m\u001B[0mtimeout\u001B[0m\u001B[0;34m)\u001B[0m\u001B[0;34m\u001B[0m\u001B[0;34m\u001B[0m\u001B[0m\n\u001B[0m\u001B[1;32m    559\u001B[0m             \u001B[0;32mreturn\u001B[0m \u001B[0msignaled\u001B[0m\u001B[0;34m\u001B[0m\u001B[0;34m\u001B[0m\u001B[0m\n\u001B[1;32m    560\u001B[0m \u001B[0;34m\u001B[0m\u001B[0m\n",
      "\u001B[0;32m~/miniconda3/envs/raga/lib/python3.8/threading.py\u001B[0m in \u001B[0;36mwait\u001B[0;34m(self, timeout)\u001B[0m\n\u001B[1;32m    300\u001B[0m         \u001B[0;32mtry\u001B[0m\u001B[0;34m:\u001B[0m    \u001B[0;31m# restore state no matter what (e.g., KeyboardInterrupt)\u001B[0m\u001B[0;34m\u001B[0m\u001B[0;34m\u001B[0m\u001B[0m\n\u001B[1;32m    301\u001B[0m             \u001B[0;32mif\u001B[0m \u001B[0mtimeout\u001B[0m \u001B[0;32mis\u001B[0m \u001B[0;32mNone\u001B[0m\u001B[0;34m:\u001B[0m\u001B[0;34m\u001B[0m\u001B[0;34m\u001B[0m\u001B[0m\n\u001B[0;32m--> 302\u001B[0;31m                 \u001B[0mwaiter\u001B[0m\u001B[0;34m.\u001B[0m\u001B[0macquire\u001B[0m\u001B[0;34m(\u001B[0m\u001B[0;34m)\u001B[0m\u001B[0;34m\u001B[0m\u001B[0;34m\u001B[0m\u001B[0m\n\u001B[0m\u001B[1;32m    303\u001B[0m                 \u001B[0mgotit\u001B[0m \u001B[0;34m=\u001B[0m \u001B[0;32mTrue\u001B[0m\u001B[0;34m\u001B[0m\u001B[0;34m\u001B[0m\u001B[0m\n\u001B[1;32m    304\u001B[0m             \u001B[0;32melse\u001B[0m\u001B[0;34m:\u001B[0m\u001B[0;34m\u001B[0m\u001B[0;34m\u001B[0m\u001B[0m\n",
      "\u001B[0;31mKeyboardInterrupt\u001B[0m: "
     ]
    }
   ],
   "source": [
    "tc8, totc8, ss8 = ragaIterator(10, '8', '8_d', num_surrogates=150, times_it=t_dict)"
   ],
   "metadata": {
    "collapsed": false,
    "pycharm": {
     "name": "#%%\n"
    }
   }
  },
  {
   "cell_type": "code",
   "execution_count": null,
   "outputs": [],
   "source": [
    "avg_conns(tc8), avg_conns(t_dict[\"Surrogate8\"]), avg_conns(t_dict[\"Causality8\"])"
   ],
   "metadata": {
    "collapsed": false,
    "pycharm": {
     "name": "#%%\n"
    }
   }
  },
  {
   "cell_type": "code",
   "execution_count": null,
   "outputs": [],
   "source": [
    "tc22, totc22, ss22 = ragaIterator(10, '22', '22_a', num_surrogates=150, times_it=t_dict)"
   ],
   "metadata": {
    "collapsed": false,
    "pycharm": {
     "name": "#%%\n"
    }
   }
  },
  {
   "cell_type": "code",
   "execution_count": null,
   "outputs": [],
   "source": [
    "avg_conns(tc22), avg_conns(t_dict[\"Surrogate22\"]), avg_conns(t_dict[\"Causality22\"])"
   ],
   "metadata": {
    "collapsed": false,
    "pycharm": {
     "name": "#%%\n"
    }
   }
  },
  {
   "cell_type": "code",
   "execution_count": null,
   "outputs": [],
   "source": [
    "tc28, totc28, ss28 = ragaIterator(10, '28', '28_k', num_surrogates=150, times_it=t_dict)"
   ],
   "metadata": {
    "collapsed": false,
    "pycharm": {
     "name": "#%%\n"
    }
   }
  },
  {
   "cell_type": "code",
   "execution_count": null,
   "outputs": [],
   "source": [
    "avg_conns(tc28), avg_conns(t_dict[\"Surrogate28\"]), avg_conns(t_dict[\"Causality28\"])"
   ],
   "metadata": {
    "collapsed": false,
    "pycharm": {
     "name": "#%%\n"
    }
   }
  },
  {
   "cell_type": "code",
   "execution_count": null,
   "outputs": [],
   "source": [
    "tc29, totc29, ss29 = ragaIterator(10, '29', '29_h', num_surrogates=150, times_it=t_dict)"
   ],
   "metadata": {
    "collapsed": false,
    "pycharm": {
     "name": "#%%\n"
    }
   }
  },
  {
   "cell_type": "code",
   "execution_count": null,
   "outputs": [],
   "source": [
    "avg_conns(tc29), avg_conns(t_dict[\"Surrogate29\"]), avg_conns(t_dict[\"Causality29\"])"
   ],
   "metadata": {
    "collapsed": false,
    "pycharm": {
     "name": "#%%\n"
    }
   }
  },
  {
   "cell_type": "code",
   "execution_count": null,
   "outputs": [],
   "source": [
    "t_dict"
   ],
   "metadata": {
    "collapsed": false,
    "pycharm": {
     "name": "#%%\n"
    }
   }
  },
  {
   "cell_type": "code",
   "execution_count": null,
   "outputs": [],
   "source": [
    "t_dict = {}"
   ],
   "metadata": {
    "collapsed": false,
    "pycharm": {
     "name": "#%%\n"
    }
   }
  },
  {
   "cell_type": "code",
   "execution_count": null,
   "outputs": [],
   "source": [
    "tc65, totc65, ss65 = ragaIterator(10, '65', '29_h', num_surrogates=100, times_it=t_dict)"
   ],
   "metadata": {
    "collapsed": false,
    "pycharm": {
     "name": "#%%\n"
    }
   }
  },
  {
   "cell_type": "code",
   "execution_count": null,
   "outputs": [],
   "source": [
    "avg_conns(tc65), avg_conns(t_dict[\"Surrogate65\"]), avg_conns(t_dict[\"Causality65\"])"
   ],
   "metadata": {
    "collapsed": false,
    "pycharm": {
     "name": "#%%\n"
    }
   }
  },
  {
   "cell_type": "code",
   "execution_count": null,
   "outputs": [],
   "source": [
    "tc15, totc15, ss15 = ragaIterator(10, '15', '15_m', num_surrogates=100, times_it=t_dict)"
   ],
   "metadata": {
    "collapsed": false,
    "pycharm": {
     "name": "#%%\n"
    }
   }
  },
  {
   "cell_type": "code",
   "execution_count": null,
   "outputs": [],
   "source": [
    "avg_conns(tc15), avg_conns(t_dict[\"Surrogate15\"]), avg_conns(t_dict[\"Causality15\"])"
   ],
   "metadata": {
    "collapsed": false,
    "pycharm": {
     "name": "#%%\n"
    }
   }
  },
  {
   "cell_type": "code",
   "execution_count": null,
   "outputs": [],
   "source": [
    "tc8, totc8, ss8 = ragaIterator(10, '8', '8_d', num_surrogates=100, times_it=t_dict)"
   ],
   "metadata": {
    "collapsed": false,
    "pycharm": {
     "name": "#%%\n"
    }
   }
  },
  {
   "cell_type": "code",
   "execution_count": null,
   "outputs": [],
   "source": [
    "avg_conns(tc8), avg_conns(t_dict[\"Surrogate8\"]), avg_conns(t_dict[\"Causality8\"])"
   ],
   "metadata": {
    "collapsed": false,
    "pycharm": {
     "name": "#%%\n"
    }
   }
  },
  {
   "cell_type": "code",
   "execution_count": null,
   "outputs": [],
   "source": [
    "tc22, totc22, ss22 = ragaIterator(10, '22', '22_a', num_surrogates=100, times_it=t_dict)"
   ],
   "metadata": {
    "collapsed": false,
    "pycharm": {
     "name": "#%%\n"
    }
   }
  },
  {
   "cell_type": "code",
   "execution_count": null,
   "outputs": [],
   "source": [
    "avg_conns(tc22), avg_conns(t_dict[\"Surrogate22\"]), avg_conns(t_dict[\"Causality22\"])"
   ],
   "metadata": {
    "collapsed": false,
    "pycharm": {
     "name": "#%%\n"
    }
   }
  },
  {
   "cell_type": "code",
   "execution_count": null,
   "outputs": [],
   "source": [
    "tc28, totc28, ss28 = ragaIterator(10, '28', '28_k', num_surrogates=100, times_it=t_dict)"
   ],
   "metadata": {
    "collapsed": false,
    "pycharm": {
     "name": "#%%\n"
    }
   }
  },
  {
   "cell_type": "code",
   "execution_count": null,
   "outputs": [],
   "source": [
    "avg_conns(tc28), avg_conns(t_dict[\"Surrogate28\"]), avg_conns(t_dict[\"Causality28\"])"
   ],
   "metadata": {
    "collapsed": false,
    "pycharm": {
     "name": "#%%\n"
    }
   }
  },
  {
   "cell_type": "code",
   "execution_count": null,
   "outputs": [],
   "source": [
    "tc29, totc29, ss29 = ragaIterator(10, '29', '29_h', num_surrogates=100, times_it=t_dict)"
   ],
   "metadata": {
    "collapsed": false,
    "pycharm": {
     "name": "#%%\n"
    }
   }
  },
  {
   "cell_type": "code",
   "execution_count": null,
   "outputs": [],
   "source": [
    "avg_conns(tc29), avg_conns(t_dict[\"Surrogate29\"]), avg_conns(t_dict[\"Causality29\"])"
   ],
   "metadata": {
    "collapsed": false,
    "pycharm": {
     "name": "#%%\n"
    }
   }
  },
  {
   "cell_type": "code",
   "execution_count": null,
   "outputs": [],
   "source": [
    "t_dict\n",
    "\n"
   ],
   "metadata": {
    "collapsed": false,
    "pycharm": {
     "name": "#%%\n"
    }
   }
  }
 ],
 "metadata": {
  "kernelspec": {
   "display_name": "Python 3",
   "language": "python",
   "name": "python3"
  },
  "language_info": {
   "codemirror_mode": {
    "name": "ipython",
    "version": 2
   },
   "file_extension": ".py",
   "mimetype": "text/x-python",
   "name": "python",
   "nbconvert_exporter": "python",
   "pygments_lexer": "ipython2",
   "version": "2.7.6"
  }
 },
 "nbformat": 4,
 "nbformat_minor": 0
}