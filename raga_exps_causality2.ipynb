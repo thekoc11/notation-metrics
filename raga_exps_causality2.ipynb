{
 "cells": [
  {
   "cell_type": "markdown",
   "source": [
    "# Deprecated File Please DO NOT USE!!"
   ],
   "metadata": {
    "collapsed": false
   }
  },
  {
   "cell_type": "code",
   "execution_count": 1,
   "metadata": {
    "pycharm": {
     "name": "#%%\n"
    }
   },
   "outputs": [],
   "source": [
    "import pandas as pd\n",
    "import data\n",
    "from utils import distances, draw, parallelizer\n",
    "import numpy as np\n",
    "import multiprocessing"
   ]
  },
  {
   "cell_type": "code",
   "execution_count": 2,
   "metadata": {
    "pycharm": {
     "name": "#%%\n"
    }
   },
   "outputs": [],
   "source": [
    "df = pd.read_csv(\"/home/abhisheknandekar/notstiond/29/bhakti-biccha-parsed.txt\")\n",
    "df_filtered1 = df[df[\" Note\"] < 99999]\n",
    "\n",
    "df = pd.read_csv(\"/home/abhisheknandekar/notstiond/29/dakshinamurte-parsed.txt\")\n",
    "df_filtered2 = df[df[\" Note\"] < 99999]\n",
    "\n",
    "df = pd.read_csv(\"/home/abhisheknandekar/notstiond/29/eduta-nilachite-parsed.txt\")\n",
    "df_filtered3 = df[df[\" Note\"] < 99999]\n",
    "\n",
    "df = pd.read_csv(\"/home/abhisheknandekar/notstiond/29/enduku-peddala-parsed.txt\")\n",
    "df_filtered4 = df[df[\" Note\"] < 99999]\n",
    "\n",
    "df = pd.read_csv(\"/home/abhisheknandekar/notstiond/29/jalajakshi-parsed.txt\")\n",
    "df_filtered5 = df[df[\" Note\"] < 99999]\n",
    "\n",
    "df = pd.read_csv(\"/home/abhisheknandekar/notstiond/29/mahalakshmi-parsed.txt\")\n",
    "df_filtered6 = df[df[\" Note\"] < 99999]\n",
    "\n",
    "df = pd.read_csv(\"/home/abhisheknandekar/notstiond/29/raghunayaka-parsed.txt\")\n",
    "df_filtered7 = df[df[\" Note\"] < 99999]\n",
    "\n",
    "df = pd.read_csv(\"/home/abhisheknandekar/notstiond/29/shree-kamalaambikaaya-parsed.txt\")\n",
    "df_filtered8 = df[df[\" Note\"] < 99999]\n",
    "\n",
    "df = pd.read_csv(\"/home/abhisheknandekar/notstiond/29/vaarana-parsed.txt\")\n",
    "df_filtered9 = df[df[\" Note\"] < 99999]\n",
    "\n",
    "df = pd.read_csv(\"/home/abhisheknandekar/notstiond/29/vatapi-parsed.txt\")\n",
    "df_filtered10 = df[df[\" Note\"] < 99999]\n",
    "\n",
    "song_coords1 = []\n",
    "for i in range(len(df_filtered1)):\n",
    "    song_coords1.append((df_filtered1.iloc[i, 0], df_filtered1.iloc[i, 1], df_filtered1.iloc[i, 2]))\n",
    "\n",
    "\n",
    "song_coords2 = []\n",
    "for i in range(len(df_filtered2)):\n",
    "    song_coords2.append((df_filtered2.iloc[i, 0], df_filtered2.iloc[i, 1], df_filtered2.iloc[i, 2]))\n",
    "\n",
    "\n",
    "song_coords3 = []\n",
    "for i in range(len(df_filtered3)):\n",
    "    song_coords3.append((df_filtered3.iloc[i, 0], df_filtered3.iloc[i, 1], df_filtered3.iloc[i, 2]))\n",
    "\n",
    "\n",
    "song_coords4 = []\n",
    "for i in range(len(df_filtered4)):\n",
    "    song_coords4.append((df_filtered4.iloc[i, 0], df_filtered4.iloc[i, 1], df_filtered4.iloc[i, 2]))\n",
    "\n",
    "\n",
    "song_coords5 = []\n",
    "for i in range(len(df_filtered5)):\n",
    "    song_coords5.append((df_filtered5.iloc[i, 0], df_filtered5.iloc[i, 1], df_filtered5.iloc[i, 2]))\n",
    "\n",
    "\n",
    "song_coords6 = []\n",
    "for i in range(len(df_filtered6)):\n",
    "    song_coords6.append((df_filtered6.iloc[i, 0], df_filtered6.iloc[i, 1], df_filtered6.iloc[i, 2]))\n",
    "\n",
    "\n",
    "song_coords7 = []\n",
    "for i in range(len(df_filtered7)):\n",
    "    song_coords7.append((df_filtered7.iloc[i, 0], df_filtered7.iloc[i, 1], df_filtered7.iloc[i, 2]))\n",
    "\n",
    "\n",
    "song_coords8 = []\n",
    "for i in range(len(df_filtered8)):\n",
    "    song_coords8.append((df_filtered8.iloc[i, 0], df_filtered8.iloc[i, 1], df_filtered8.iloc[i, 2]))\n",
    "\n",
    "song_coords9 = []\n",
    "for i in range(len(df_filtered9)):\n",
    "    song_coords9.append((df_filtered9.iloc[i, 0], df_filtered9.iloc[i, 1], df_filtered9.iloc[i, 2]))\n",
    "\n",
    "song_coords10 = []\n",
    "for i in range(len(df_filtered10)):\n",
    "    song_coords10.append((df_filtered10.iloc[i, 0], df_filtered10.iloc[i, 1], df_filtered10.iloc[i, 2]))"
   ]
  },
  {
   "cell_type": "code",
   "execution_count": 3,
   "metadata": {
    "pycharm": {
     "name": "#%%\n"
    }
   },
   "outputs": [],
   "source": [
    "# def calc_metrics(all_coords):\n",
    "#     dist_matrix = np.zeros((len(all_coords), len(all_coords)))\n",
    "#     for i in range(len(all_coords)):\n",
    "#         for j in range(len(all_coords)):\n",
    "#             dist_matrix[i, j] = distances.dtwEuclidean(all_coords[i], all_coords[j], len(all_coords[i]), len(all_coords[j]))\n",
    "\n",
    "    # return dist_matrix\n",
    "lists = [song_coords1, song_coords2, song_coords3, song_coords4, song_coords5, song_coords6, song_coords7, song_coords8, song_coords9, song_coords10]\n",
    "\n",
    "dists = parallelizer.list_parallelizer(distances.dtwEuclidean, lists)"
   ]
  },
  {
   "cell_type": "code",
   "execution_count": 3,
   "metadata": {
    "pycharm": {
     "name": "#%%\n"
    }
   },
   "outputs": [
    {
     "ename": "NameError",
     "evalue": "name 'dists' is not defined",
     "output_type": "error",
     "traceback": [
      "\u001B[0;31m---------------------------------------------------------------------------\u001B[0m",
      "\u001B[0;31mNameError\u001B[0m                                 Traceback (most recent call last)",
      "\u001B[0;32m<ipython-input-3-99babf1abc7d>\u001B[0m in \u001B[0;36m<module>\u001B[0;34m\u001B[0m\n\u001B[1;32m      7\u001B[0m \u001B[0;32mdef\u001B[0m \u001B[0mllf\u001B[0m\u001B[0;34m(\u001B[0m\u001B[0mid\u001B[0m\u001B[0;34m)\u001B[0m\u001B[0;34m:\u001B[0m\u001B[0;34m\u001B[0m\u001B[0;34m\u001B[0m\u001B[0m\n\u001B[1;32m      8\u001B[0m     \u001B[0;32mreturn\u001B[0m \u001B[0mlabels\u001B[0m\u001B[0;34m[\u001B[0m\u001B[0mid\u001B[0m\u001B[0;34m]\u001B[0m\u001B[0;34m\u001B[0m\u001B[0;34m\u001B[0m\u001B[0m\n\u001B[0;32m----> 9\u001B[0;31m \u001B[0mZ\u001B[0m \u001B[0;34m=\u001B[0m \u001B[0mlinkage\u001B[0m\u001B[0;34m(\u001B[0m\u001B[0mdists\u001B[0m\u001B[0;34m,\u001B[0m \u001B[0;34m'single'\u001B[0m\u001B[0;34m)\u001B[0m\u001B[0;34m\u001B[0m\u001B[0;34m\u001B[0m\u001B[0m\n\u001B[0m\u001B[1;32m     10\u001B[0m \u001B[0mfig\u001B[0m \u001B[0;34m=\u001B[0m \u001B[0mplt\u001B[0m\u001B[0;34m.\u001B[0m\u001B[0mfigure\u001B[0m\u001B[0;34m(\u001B[0m\u001B[0;34m)\u001B[0m\u001B[0;34m\u001B[0m\u001B[0;34m\u001B[0m\u001B[0m\n\u001B[1;32m     11\u001B[0m \u001B[0mdn\u001B[0m \u001B[0;34m=\u001B[0m \u001B[0mdendrogram\u001B[0m\u001B[0;34m(\u001B[0m\u001B[0mZ\u001B[0m\u001B[0;34m,\u001B[0m \u001B[0mleaf_label_func\u001B[0m\u001B[0;34m=\u001B[0m\u001B[0mllf\u001B[0m\u001B[0;34m,\u001B[0m \u001B[0mleaf_rotation\u001B[0m\u001B[0;34m=\u001B[0m\u001B[0;36m0\u001B[0m\u001B[0;34m,\u001B[0m \u001B[0morientation\u001B[0m\u001B[0;34m=\u001B[0m\u001B[0;34m'right'\u001B[0m\u001B[0;34m)\u001B[0m\u001B[0;34m\u001B[0m\u001B[0;34m\u001B[0m\u001B[0m\n",
      "\u001B[0;31mNameError\u001B[0m: name 'dists' is not defined"
     ]
    }
   ],
   "source": [
    "labels = [\"bhakti-biccha(shankarabharanam)\", \"dakshinamurte(shankarabharanam)\", \"eduta-nilachite(shankarabharanam)\", \"enduku-peddala(shankarabharanam)\", \"jalajakshi(Hamsadhwani)\", \"mahalakshmi(Shankarabharanam)\", \"raghunayaka(Hamsadhwani)\", \"shree-kamalaambikaaya(shankarabharanam)\", \"vaarana mukha va(Hamsadhwani)\", \"vatapi-ganapathim(Hamsadhwani)\"]\n",
    "\n",
    "# draw.draw_weighted_graph(dists, 5000, labels)\n",
    "\n",
    "from scipy.cluster.hierarchy import dendrogram, linkage\n",
    "import matplotlib.pyplot as plt\n",
    "def llf(id):\n",
    "    return labels[id]\n",
    "Z = linkage(dists, 'single')\n",
    "fig = plt.figure()\n",
    "dn = dendrogram(Z, leaf_label_func=llf, leaf_rotation=0, orientation='right')"
   ]
  },
  {
   "cell_type": "code",
   "execution_count": 4,
   "metadata": {
    "pycharm": {
     "name": "#%%\n"
    }
   },
   "outputs": [],
   "source": [
    "song_coords1 = data.GetAdjustedMelody(song_coords1)\n",
    "song_coords2 = data.GetAdjustedMelody(song_coords2)\n",
    "song_coords3 = data.GetAdjustedMelody(song_coords3)\n",
    "song_coords4 = data.GetAdjustedMelody(song_coords4)\n",
    "song_coords5 = data.GetAdjustedMelody(song_coords5)\n",
    "song_coords6 = data.GetAdjustedMelody(song_coords6)\n",
    "song_coords7 = data.GetAdjustedMelody(song_coords7)\n",
    "song_coords8 = data.GetAdjustedMelody(song_coords8)\n",
    "song_coords9 = data.GetAdjustedMelody(song_coords9)\n",
    "song_coords10 = data.GetAdjustedMelody(song_coords10)"
   ]
  },
  {
   "cell_type": "code",
   "execution_count": 5,
   "metadata": {
    "pycharm": {
     "name": "#%%\n"
    }
   },
   "outputs": [
    {
     "name": "stdout",
     "output_type": "stream",
     "text": [
      "104241\n",
      "100553\n",
      "215631\n",
      "201353\n",
      "215758\n",
      "239830\n",
      "164170\n",
      "182497\n",
      "154851\n",
      "84743\n"
     ]
    },
    {
     "data": {
      "text/plain": "166362.7"
     },
     "execution_count": 5,
     "metadata": {},
     "output_type": "execute_result"
    }
   ],
   "source": [
    "print(len(song_coords1))\n",
    "print(len(song_coords2))\n",
    "print(len(song_coords3))\n",
    "print(len(song_coords4))\n",
    "print(len(song_coords5))\n",
    "print(len(song_coords6))\n",
    "print(len(song_coords7))\n",
    "print(len(song_coords8))\n",
    "print(len(song_coords9))\n",
    "print(len(song_coords10))\n",
    "\n",
    "np.mean([\n",
    "    len(song_coords1),\n",
    "    len(song_coords2),\n",
    "    len(song_coords3),\n",
    "    len(song_coords4),\n",
    "    len(song_coords5),\n",
    "    len(song_coords6),\n",
    "    len(song_coords7),\n",
    "    len(song_coords8),\n",
    "    len(song_coords9),\n",
    "    len(song_coords10),\n",
    "])"
   ]
  },
  {
   "cell_type": "code",
   "execution_count": 5,
   "metadata": {
    "pycharm": {
     "name": "#%%\n"
    }
   },
   "outputs": [],
   "source": [
    "lists = [song_coords1, song_coords2, song_coords3, song_coords4, song_coords5, song_coords6, song_coords7, song_coords8, song_coords9, song_coords10]\n",
    "\n",
    "dists = parallelizer.list_parallelizer(distances.GetLZPCausality, lists)"
   ]
  },
  {
   "cell_type": "code",
   "execution_count": 7,
   "metadata": {
    "pycharm": {
     "name": "#%%\n"
    }
   },
   "outputs": [
    {
     "name": "stdout",
     "output_type": "stream",
     "text": [
      "digraph \"\" {\n",
      "\tgraph [bb=\"0,0,840,1087.7\",\n",
      "\t\trankdir=TD\n",
      "\t];\n",
      "\tnode [label=\"\\N\"];\n",
      "\t1\t[color=grey,\n",
      "\t\tfontcolor=white,\n",
      "\t\tfontsize=42,\n",
      "\t\theight=1.0607,\n",
      "\t\tpos=\"519,262.92\",\n",
      "\t\tstyle=filled,\n",
      "\t\twidth=0.86424];\n",
      "\t5\t[fontsize=42,\n",
      "\t\theight=1.0607,\n",
      "\t\tpos=\"270,150.55\",\n",
      "\t\twidth=0.86424];\n",
      "\t1 -> 5\t[pos=\"e,300.45,158.93 494.43,239.05 488.08,233.88 481.05,228.75 474,224.74 420.72,194.4 352.62,173.04 310.15,161.51\",\n",
      "\t\tweight=1.0];\n",
      "\t9\t[fontsize=42,\n",
      "\t\theight=1.0607,\n",
      "\t\tpos=\"422,38.184\",\n",
      "\t\twidth=0.86424];\n",
      "\t1 -> 9\t[pos=\"e,436.46,72.393 504.48,228.57 487.43,189.42 459.12,124.42 440.51,81.686\",\n",
      "\t\tweight=1.0];\n",
      "\t5 -> 9\t[pos=\"e,395.57,58.373 296.48,130.33 321.68,112.02 359.76,84.376 387.37,64.331\",\n",
      "\t\tweight=1.0];\n",
      "\t2\t[color=grey,\n",
      "\t\tfontcolor=white,\n",
      "\t\tfontsize=42,\n",
      "\t\theight=1.0607,\n",
      "\t\tpos=\"287,712.39\",\n",
      "\t\tstyle=filled,\n",
      "\t\twidth=0.86424];\n",
      "\t2 -> 1\t[pos=\"e,488.7,272.85 276.85,676.1 259.86,614.33 229.21,489.38 247,449.47 290.3,352.33 414.32,298.38 478.87,276.15\",\n",
      "\t\tweight=1.0];\n",
      "\t2 -> 5\t[pos=\"e,260.22,187.07 267.18,682.78 259.19,669.77 250.75,653.81 246,638.21 198.46,481.93 236.3,284.51 257.76,196.94\",\n",
      "\t\tweight=1.0];\n",
      "\t2 -> 9\t[pos=\"e,390.59,38.845 263.43,686.92 247.85,670.15 229.49,649.05 225,638.21 135.41,422.02 59.762,301.19 198,112.37 239.94,55.08 327.96,\\\n",
      "41.831 380.31,39.24\",\n",
      "\t\tweight=1.0];\n",
      "\t6\t[fontsize=42,\n",
      "\t\theight=1.0607,\n",
      "\t\tpos=\"460,600.02\",\n",
      "\t\twidth=0.86424];\n",
      "\t2 -> 6\t[pos=\"e,432.72,618.43 314.41,693.9 344.02,675.01 391.33,644.83 423.94,624.03\",\n",
      "\t\tweight=1.0];\n",
      "\t7\t[fontsize=42,\n",
      "\t\theight=1.0607,\n",
      "\t\tpos=\"536,375.29\",\n",
      "\t\twidth=0.86424];\n",
      "\t2 -> 7\t[pos=\"e,542.02,413.12 318.38,710.39 365.72,707.05 454.68,693.32 500,638.21 549.95,577.46 549.17,480.71 543.18,423.35\",\n",
      "\t\tweight=1.0];\n",
      "\t10\t[fontsize=42,\n",
      "\t\theight=1.0607,\n",
      "\t\tpos=\"306,487.65\",\n",
      "\t\twidth=1.3946];\n",
      "\t2 -> 10\t[pos=\"e,302.83,525.77 290.16,674.36 293.4,636.38 298.45,577.19 301.97,535.87\",\n",
      "\t\tweight=1.0];\n",
      "\t6 -> 1\t[pos=\"e,506.91,298.22 463.13,561.8 467.88,510.7 478.28,416.15 496,337.1 498.14,327.55 500.95,317.46 503.86,307.91\",\n",
      "\t\tweight=1.0];\n",
      "\t6 -> 5\t[pos=\"e,281.47,186.23 438.44,572.33 428.3,558.92 416.58,542.1 408,525.84 376.6,466.33 313.37,281.53 284.71,195.92\",\n",
      "\t\tweight=1.0];\n",
      "\t6 -> 9\t[pos=\"e,422,76.623 450.12,563.46 438.86,519.76 422,443.17 422,376.29 422,376.29 422,376.29 422,261.92 422,201.47 422,131.79 422,86.697\",\n",
      "\t\tweight=1.0];\n",
      "\t6 -> 7\t[pos=\"e,524.21,410.84 471.88,564.22 485.12,525.4 506.58,462.52 520.98,420.31\",\n",
      "\t\tweight=1.0];\n",
      "\t6 -> 10\t[pos=\"e,343.97,512.82 434.65,577.34 428.33,572.13 421.5,566.69 415,561.84 394.95,546.88 372.05,531.29 352.44,518.37\",\n",
      "\t\tweight=1.0];\n",
      "\t7 -> 1\t[pos=\"e,524.64,300.51 530.34,337.54 529.01,328.88 527.57,319.54 526.18,310.51\",\n",
      "\t\tweight=1.0];\n",
      "\t7 -> 5\t[pos=\"e,295.43,172.84 510.49,352.93 462.13,312.43 357.14,224.52 303.3,179.44\",\n",
      "\t\tweight=1.0];\n",
      "\t7 -> 9\t[pos=\"e,446.93,61.637 549.53,340.72 559.96,310.01 570.77,263.58 559,224.74 539.83,161.5 488.45,102.69 454.35,68.872\",\n",
      "\t\tweight=1.0];\n",
      "\t10 -> 1\t[pos=\"e,495.14,287.46 334.14,456.03 362.22,425.61 406.7,377.77 446,337.1 459.55,323.08 474.75,307.77 487.76,294.8\",\n",
      "\t\tweight=1.0];\n",
      "\t10 -> 5\t[pos=\"e,272.59,188.94 299.38,449.5 297.47,437.98 295.5,425.22 294,413.47 284.46,338.73 277.25,251.53 273.33,198.98\",\n",
      "\t\tweight=1.0];\n",
      "\t10 -> 9\t[pos=\"e,390.91,40.724 283.94,453.32 240.84,383.59 155.89,219.93 230,112.37 263.8,63.314 335.2,47.116 380.77,41.783\",\n",
      "\t\tweight=1.0];\n",
      "\t10 -> 7\t[pos=\"e,507.11,390.15 347.92,466.54 390.71,446 456.56,414.41 497.91,394.56\",\n",
      "\t\tweight=1.0];\n",
      "\t3\t[color=grey,\n",
      "\t\tfontcolor=white,\n",
      "\t\tfontsize=42,\n",
      "\t\theight=1.0607,\n",
      "\t\tpos=\"441,1049.5\",\n",
      "\t\tstyle=filled,\n",
      "\t\twidth=0.86424];\n",
      "\t3 -> 1\t[pos=\"e,549.57,270.71 471.68,1042.7 552.3,1025.5 764,966.93 764,825.76 764,825.76 764,825.76 764,486.65 764,411.69 740.77,388.29 686,337.1 \\\n",
      "650.06,303.52 596.22,283.74 559.45,273.38\",\n",
      "\t\tweight=1.0];\n",
      "\t3 -> 5\t[pos=\"e,247.55,177.07 409.64,1047.3 308.89,1041.7 0,1009.5 0,825.76 0,825.76 0,825.76 0,599.02 1.1546e-14,408.49 95.195,377.54 209,224.74 \\\n",
      "218.97,211.35 230.56,197.15 240.94,184.85\",\n",
      "\t\tweight=1.0];\n",
      "\t3 -> 9\t[pos=\"e,453.51,38.208 472.31,1045.9 566.37,1036.3 840,993.94 840,825.76 840,825.76 840,825.76 840,261.92 840,184.8 814.38,157.71 752,112.37 \\\n",
      "664.14,48.498 530.81,38.729 463.7,38.218\",\n",
      "\t\tweight=1.0];\n",
      "\t3 -> 2\t[pos=\"e,281.3,750.11 415.14,1027.9 378.47,996.81 313.12,933.91 289,862.94 277.79,829.95 277.78,790.46 280.31,760.34\",\n",
      "\t\tweight=1.0];\n",
      "\t3 -> 6\t[pos=\"e,469.08,636.8 460.92,1020 468.83,1007 476.99,991.02 481,975.31 510.48,859.91 487.08,718.24 471.34,646.82\",\n",
      "\t\tweight=1.0];\n",
      "\t3 -> 7\t[pos=\"e,562.13,396.17 470.79,1037.9 536.49,1012.6 688,941.53 688,825.76 688,825.76 688,825.76 688,599.02 688,515.77 614.66,440.71 569.87,\\\n",
      "402.62\",\n",
      "\t\tweight=1.0];\n",
      "\t3 -> 10\t[pos=\"e,291.1,524.13 410.47,1040.7 378.34,1030.8 328.66,1010.8 301,975.31 237.82,894.31 259.08,852.58 247,750.57 243.01,716.87 241.8,707.75 \\\n",
      "247,674.21 254.66,624.84 273.14,570.63 287.39,533.62\",\n",
      "\t\tweight=1.0];\n",
      "\t4\t[color=grey,\n",
      "\t\tfontcolor=white,\n",
      "\t\tfontsize=42,\n",
      "\t\theight=1.0607,\n",
      "\t\tpos=\"363,824.76\",\n",
      "\t\tstyle=filled,\n",
      "\t\twidth=0.86424];\n",
      "\t3 -> 4\t[pos=\"e,369.59,862.21 422.49,1018.7 415.03,1005.7 406.83,990.13 401,975.31 387.79,941.71 377.96,902.04 371.61,872\",\n",
      "\t\tweight=1.0];\n",
      "\t8\t[color=grey,\n",
      "\t\tfontcolor=white,\n",
      "\t\tfontsize=42,\n",
      "\t\theight=1.0607,\n",
      "\t\tpos=\"441,937.12\",\n",
      "\t\tstyle=filled,\n",
      "\t\twidth=0.86424];\n",
      "\t3 -> 8\t[pos=\"e,441,975.45 441,1011.1 441,1002.9 441,994.18 441,985.66\",\n",
      "\t\tweight=1.0];\n",
      "\t4 -> 1\t[pos=\"e,542.49,288.53 393.04,813.29 459.26,788.07 612,717.31 612,601.02 612,601.02 612,601.02 612,486.65 612,418.29 605.67,398.69 576,\\\n",
      "337.1 569.07,322.72 558.96,308.5 549.17,296.48\",\n",
      "\t\tweight=1.0];\n",
      "\t4 -> 5\t[pos=\"e,251.63,181.88 333.34,813.01 306.48,801.69 267.99,781.22 247,750.57 218.24,708.59 231.26,688.71 225,638.21 202.39,455.8 180.15,\\\n",
      "400.77 233,224.74 236.42,213.34 241.55,201.6 246.9,190.94\",\n",
      "\t\tweight=1.0];\n",
      "\t4 -> 9\t[pos=\"e,391,43.516 332.63,815.48 300.87,805.3 251.73,785 223,750.57 70.285,567.61 87,461.03 118,224.74 124.72,173.48 111.45,148.92 148,\\\n",
      "112.37 180.7,79.664 312.95,55.549 381.04,45.028\",\n",
      "\t\tweight=1.0];\n",
      "\t4 -> 2\t[pos=\"e,306.93,742.34 343.23,795.05 333.89,781.49 322.63,765.13 312.64,750.63\",\n",
      "\t\tweight=1.0];\n",
      "\t4 -> 6\t[pos=\"e,445.54,634.23 377.52,790.41 394.57,751.26 422.88,686.26 441.49,643.52\",\n",
      "\t\tweight=1.0];\n",
      "\t4 -> 7\t[pos=\"e,548.52,410.44 388.66,802.96 425.88,771.36 494.38,707.57 531,638.21 570.57,563.27 570.33,533.3 558,449.47 556.58,439.83 554.17,\\\n",
      "429.69 551.44,420.14\",\n",
      "\t\tweight=1.0];\n",
      "\t4 -> 10\t[pos=\"e,312.29,525.62 356.79,787.26 346.39,726.11 325.46,603.04 313.98,535.56\",\n",
      "\t\tweight=1.0];\n",
      "\t8 -> 1\t[pos=\"e,547.78,277.84 470.34,924.35 498.44,912.05 540.9,890.67 571,862.94 670.48,771.29 726,736.29 726,601.02 726,601.02 726,601.02 726,\\\n",
      "486.65 726,388.44 616.67,315.34 556.92,282.72\",\n",
      "\t\tweight=1.0];\n",
      "\t8 -> 5\t[pos=\"e,252.18,181.89 409.71,933.7 315.03,924.49 38,883.06 38,713.39 38,713.39 38,713.39 38,599.02 38,553.9 188.63,290.97 247.14,190.53\",\n",
      "\t\tweight=1.0];\n",
      "\t8 -> 9\t[pos=\"e,453.1,42.454 471.71,929.06 510.3,919.1 577.23,898.08 625,862.94 738.17,779.68 802,741.52 802,601.02 802,601.02 802,601.02 802,\\\n",
      "261.92 802,106.24 561.68,57.306 463.27,43.794\",\n",
      "\t\tweight=1.0];\n",
      "\t8 -> 2\t[pos=\"e,288.2,750.77 411.14,925.3 384.03,913.93 345.03,893.42 323,862.94 301.56,833.29 292.76,792.54 289.21,761.06\",\n",
      "\t\tweight=1.0];\n",
      "\t8 -> 6\t[pos=\"e,457.88,638.33 443.11,898.98 446.57,837.84 453.48,716.06 457.3,648.66\",\n",
      "\t\tweight=1.0];\n",
      "\t8 -> 7\t[pos=\"e,555.25,405.9 465.69,913.38 514.09,868.5 617.51,771.12 626,750.57 674.5,633.24 601.46,483.94 560.55,414.72\",\n",
      "\t\tweight=1.0];\n",
      "\t8 -> 10\t[pos=\"e,323,523.58 433.27,899.89 418.39,832.32 383.29,682.97 339,561.84 335.52,552.31 331.35,542.29 327.17,532.83\",\n",
      "\t\tweight=1.0];\n",
      "\t8 -> 4\t[pos=\"e,383.02,854.08 420.91,907.7 411.18,893.93 399.37,877.22 388.96,862.49\",\n",
      "\t\tweight=1.0];\n",
      "}\n",
      "\n"
     ]
    }
   ],
   "source": [
    "alt_labels = [i+1 for i in range(len(labels))]\n",
    "\n",
    "\n",
    "draw.draw_causal_inference(dists, labels, alt_labels=alt_labels, mela=\"shankarabharanam\")"
   ]
  },
  {
   "cell_type": "code",
   "execution_count": null,
   "metadata": {
    "pycharm": {
     "name": "#%%\n"
    }
   },
   "outputs": [],
   "source": [
    "draw.draw_causal_inference(dists[1], labels)"
   ]
  },
  {
   "cell_type": "code",
   "execution_count": null,
   "metadata": {
    "pycharm": {
     "name": "#%%\n"
    }
   },
   "outputs": [],
   "source": [
    "draw.draw_causal_inference(dists[0], labels)"
   ]
  },
  {
   "cell_type": "code",
   "execution_count": 3,
   "outputs": [
    {
     "name": "stderr",
     "output_type": "stream",
     "text": [
      "<ipython-input-3-41b7a07e5f8d>:4: SettingWithCopyWarning: \n",
      "A value is trying to be set on a copy of a slice from a DataFrame\n",
      "\n",
      "See the caveats in the documentation: https://pandas.pydata.org/pandas-docs/stable/user_guide/indexing.html#returning-a-view-versus-a-copy\n",
      "  axis_data[i] = np.nan\n",
      "/home/abhisheknandekar/miniconda3/envs/raga/lib/python3.8/site-packages/pandas/core/indexing.py:670: SettingWithCopyWarning: \n",
      "A value is trying to be set on a copy of a slice from a DataFrame\n",
      "\n",
      "See the caveats in the documentation: https://pandas.pydata.org/pandas-docs/stable/user_guide/indexing.html#returning-a-view-versus-a-copy\n",
      "  iloc._setitem_with_indexer(indexer, value)\n"
     ]
    },
    {
     "data": {
      "text/plain": "0      4.0\n1      2.0\n2     -1.0\n3     -3.0\n4     -4.0\n      ... \n587   -3.0\n588   -5.0\n589   -6.0\n590   -7.0\n591   -6.0\nName:  Note, Length: 592, dtype: float64"
     },
     "execution_count": 3,
     "metadata": {},
     "output_type": "execute_result"
    }
   ],
   "source": [
    "def handleRests(axis_data):\n",
    "    for i in range(len(axis_data)):\n",
    "        if axis_data[i] > 9999:\n",
    "            axis_data[i] = np.nan\n",
    "    return axis_data\n",
    "\n",
    "handleRests(df.loc[:, \" Note\"])"
   ],
   "metadata": {
    "collapsed": false,
    "pycharm": {
     "name": "#%%\n"
    }
   }
  },
  {
   "cell_type": "code",
   "execution_count": 3,
   "outputs": [
    {
     "data": {
      "text/plain": "array([ 4.,  2., -1., -3., -4., -4., -1., -4., -5., nan, nan, -6., nan,\n       -7., -7., -1., -3., -6., nan, -7., -6., nan, -7., -1.,  0.,  1.,\n        2.,  0.,  1.,  2.,  1., nan,  0.,  0., -1., -3., -6., nan, -7.,\n       -6., nan, -7., -1.,  0.,  1.,  2.,  4.,  2.,  2.,  1.,  0.,  1.,\n        2.,  1.,  1.,  0., -1.,  2.,  1.,  0., -1., -3., -6., nan, -7.,\n       -6., nan, -7., -1.,  0.,  1.,  2.,  4., nan,  2., nan,  1.,  2.,\n        1.,  0., -1., -1., -3., -5., -6., -6., -7., -6., nan, -7., -1.,\n        0.,  1.,  2.,  4., nan,  6.,  4.,  4.,  2.,  1.,  2.,  1.,  0.,\n       -1., -3., -6., -5., -6., -6., -1.,  1.,  2.,  1.,  1.,  0., -1.,\n        0.,  1.,  2.,  4.,  6.,  4.,  2.,  1.,  2.,  1.,  0., -1., -3.,\n       -6., -5., -6., -6., -1.,  1.,  2.,  1.,  1.,  0., -1.,  0.,  1.,\n        2.,  4.,  6.,  7.,  8.,  7.,  6.,  4.,  2.,  1.,  2.,  1.,  0.,\n       -1., -3., -6., -5., -6., -6., -1.,  1.,  2.,  1.,  1.,  0., -1.,\n        0.,  1.,  2.,  4.,  6.,  7.,  8.,  9.,  9.,  8.,  7.,  6.,  4.,\n        2.,  2.,  1.,  0., -1., -3., -6., -5., -6., -6., -1.,  1.,  2.,\n        1.,  1.,  0., -1.,  0.,  1.,  2.,  4.,  6.,  7.,  8.,  9., 11.,\n        9.,  8.,  7.,  6.,  4.,  2.,  1.,  0., -1., -3., -6., -5., -6.,\n       -6., -1.,  1.,  2.,  1.,  1.,  0., -1.,  0.,  1.,  2.,  1.,  2.,\n        4., nan, nan, nan, nan, nan, nan, nan, nan, nan,  2.,  4.,  2.,\n        1.,  0.,  1.,  2.,  1.,  2.,  4., nan, nan, -7., nan, -7., -7.,\n       -1., -3., -5., -3., -6., nan, -7., -1.,  0.,  1.,  2.,  1.,  2.,\n        4., nan, nan,  6.,  7.,  8.,  7.,  7.,  6.,  4.,  2.,  4.,  1.,\n       nan,  0., -1.,  0.,  1.,  2.,  1.,  2.,  0., -1., -3., nan, -3.,\n       -1.,  0.,  1.,  2.,  1.,  0.,  1.,  0., -1.,  0., -1., -3., -5.,\n       -1., -3., -5., -6., -7., -6.,  4., nan, nan,  2., nan,  1.,  0.,\n       nan,  0.,  2.,  1.,  0., -1.,  0.,  1.,  2.,  4., nan,  4.,  2.,\n       -1., -3., nan, -5., nan, -6., -7., nan, -7., -6., -5., -6., -7.,\n       -1.,  0.,  1.,  2.,  4., nan,  2.,  4., -7., -7., -7., -1.,  1.,\n        0.,  1.,  0., -1., -3., -3., -5., nan, -6., -7., -5., -3., -6.,\n       nan,  2.,  4.,  2., nan, -1., -3., -3., -1.,  0., -1., nan,  1.,\n        0.,  2.,  1.,  0., nan, -1., -3., -3., -5., -6., nan, -7., -6.,\n        2.,  2., nan,  1., nan,  0.,  0., nan, -1., -3.,  0., -1.,  2.,\n        1., nan,  2.,  4., nan, nan,  2.,  1., nan,  0.,  0., nan, -1.,\n        1., nan,  2.,  0.,  1., nan,  4.,  1., nan, nan,  1., nan,  2.,\n        4.,  2.,  1.,  0., nan, -1., -3., nan, -5., -6., nan,  2., nan,\n        4., nan,  6.,  4.,  2.,  2.,  1.,  0., nan, -1.,  0., nan, -1.,\n        1.,  0., nan,  4., -7., nan, -1.,  0.,  1., nan,  2., nan,  1.,\n        4., nan,  2., nan, -1., -3., nan,  0.,  0., -1., nan, -3., -1.,\n       -1.,  2.,  4., nan,  4., nan,  1.,  0., nan,  0., nan,  6.,  8.,\n       nan,  9.,  8., nan,  7.,  7.,  8.,  7.,  6.,  4.,  4.,  6.,  7.,\n        8.,  9.,  8., nan,  0.,  1.,  0.,  1.,  0., -1., -3., -3., -5.,\n       -6., -1.,  1.,  2., nan,  1.,  0.,  1.,  0.,  0., nan,  2.,  2.,\n        1.,  0.,  1.,  0.,  1.,  0., -1.,  1.,  0.,  2.,  1.,  4.,  2.,\n       -1., -3., -1.,  0.,  1.,  0., -1.,  0.,  4.,  2.,  1.,  0.,  1.,\n        0., -1., -3., -1.,  0.,  1.,  1.,  0.,  0.,  0., -1., -3., -3.,\n       -3., -5., -3., -5., -6., -7., -6.])"
     },
     "execution_count": 3,
     "metadata": {},
     "output_type": "execute_result"
    }
   ],
   "source": [
    "df_filtered = df.replace([99999], np.nan)\n",
    "df_filtered.loc[:, \" Note\"].to_numpy()"
   ],
   "metadata": {
    "collapsed": false,
    "pycharm": {
     "name": "#%%\n"
    }
   }
  }
 ],
 "metadata": {
  "kernelspec": {
   "display_name": "Python 3",
   "language": "python",
   "name": "python3"
  },
  "language_info": {
   "codemirror_mode": {
    "name": "ipython",
    "version": 3
   },
   "file_extension": ".py",
   "mimetype": "text/x-python",
   "name": "python",
   "nbconvert_exporter": "python",
   "pygments_lexer": "ipython3",
   "version": "3.8.5"
  }
 },
 "nbformat": 4,
 "nbformat_minor": 1
}