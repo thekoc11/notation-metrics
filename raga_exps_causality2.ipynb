{
 "cells": [
  {
   "cell_type": "code",
   "execution_count": 1,
   "metadata": {
    "pycharm": {
     "name": "#%%\n"
    }
   },
   "outputs": [],
   "source": [
    "\n",
    "import pandas as pd\n",
    "import data\n",
    "from utils import distances, draw, parallelizer\n",
    "import numpy as np\n",
    "import multiprocessing"
   ]
  },
  {
   "cell_type": "code",
   "execution_count": 2,
   "metadata": {
    "pycharm": {
     "name": "#%%\n"
    }
   },
   "outputs": [],
   "source": [
    "df = pd.read_csv(\"/home/abhisheknandekar/notstiond/29/bhakti-biccha-parsed.txt\")\n",
    "df_filtered1 = df[df[\" Note\"] < 99999]\n",
    "\n",
    "df = pd.read_csv(\"/home/abhisheknandekar/notstiond/29/dakshinamurte-parsed.txt\")\n",
    "df_filtered2 = df[df[\" Note\"] < 99999]\n",
    "\n",
    "df = pd.read_csv(\"/home/abhisheknandekar/notstiond/29/eduta-nilachite-parsed.txt\")\n",
    "df_filtered3 = df[df[\" Note\"] < 99999]\n",
    "\n",
    "df = pd.read_csv(\"/home/abhisheknandekar/notstiond/29/enduku-peddala-parsed.txt\")\n",
    "df_filtered4 = df[df[\" Note\"] < 99999]\n",
    "\n",
    "df = pd.read_csv(\"/home/abhisheknandekar/notstiond/29/jalajakshi-parsed.txt\")\n",
    "df_filtered5 = df[df[\" Note\"] < 99999]\n",
    "\n",
    "df = pd.read_csv(\"/home/abhisheknandekar/notstiond/29/mahalakshmi-parsed.txt\")\n",
    "df_filtered6 = df[df[\" Note\"] < 99999]\n",
    "\n",
    "df = pd.read_csv(\"/home/abhisheknandekar/notstiond/29/raghunayaka-parsed.txt\")\n",
    "df_filtered7 = df[df[\" Note\"] < 99999]\n",
    "\n",
    "df = pd.read_csv(\"/home/abhisheknandekar/notstiond/29/shree-kamalaambikaaya-parsed.txt\")\n",
    "df_filtered8 = df[df[\" Note\"] < 99999]\n",
    "\n",
    "df = pd.read_csv(\"/home/abhisheknandekar/notstiond/29/vaarana-parsed.txt\")\n",
    "df_filtered9 = df[df[\" Note\"] < 99999]\n",
    "\n",
    "df = pd.read_csv(\"/home/abhisheknandekar/notstiond/29/vatapi-parsed.txt\")\n",
    "df_filtered10 = df[df[\" Note\"] < 99999]\n",
    "\n",
    "song_coords1 = []\n",
    "for i in range(len(df_filtered1)):\n",
    "    song_coords1.append((df_filtered1.iloc[i, 0], df_filtered1.iloc[i, 1], df_filtered1.iloc[i, 2]))\n",
    "\n",
    "\n",
    "song_coords2 = []\n",
    "for i in range(len(df_filtered2)):\n",
    "    song_coords2.append((df_filtered2.iloc[i, 0], df_filtered2.iloc[i, 1], df_filtered2.iloc[i, 2]))\n",
    "\n",
    "\n",
    "song_coords3 = []\n",
    "for i in range(len(df_filtered3)):\n",
    "    song_coords3.append((df_filtered3.iloc[i, 0], df_filtered3.iloc[i, 1], df_filtered3.iloc[i, 2]))\n",
    "\n",
    "\n",
    "song_coords4 = []\n",
    "for i in range(len(df_filtered4)):\n",
    "    song_coords4.append((df_filtered4.iloc[i, 0], df_filtered4.iloc[i, 1], df_filtered4.iloc[i, 2]))\n",
    "\n",
    "\n",
    "song_coords5 = []\n",
    "for i in range(len(df_filtered5)):\n",
    "    song_coords5.append((df_filtered5.iloc[i, 0], df_filtered5.iloc[i, 1], df_filtered5.iloc[i, 2]))\n",
    "\n",
    "\n",
    "song_coords6 = []\n",
    "for i in range(len(df_filtered6)):\n",
    "    song_coords6.append((df_filtered6.iloc[i, 0], df_filtered6.iloc[i, 1], df_filtered6.iloc[i, 2]))\n",
    "\n",
    "\n",
    "song_coords7 = []\n",
    "for i in range(len(df_filtered7)):\n",
    "    song_coords7.append((df_filtered7.iloc[i, 0], df_filtered7.iloc[i, 1], df_filtered7.iloc[i, 2]))\n",
    "\n",
    "\n",
    "song_coords8 = []\n",
    "for i in range(len(df_filtered8)):\n",
    "    song_coords8.append((df_filtered8.iloc[i, 0], df_filtered8.iloc[i, 1], df_filtered8.iloc[i, 2]))\n",
    "\n",
    "song_coords9 = []\n",
    "for i in range(len(df_filtered9)):\n",
    "    song_coords9.append((df_filtered9.iloc[i, 0], df_filtered9.iloc[i, 1], df_filtered9.iloc[i, 2]))\n",
    "\n",
    "song_coords10 = []\n",
    "for i in range(len(df_filtered10)):\n",
    "    song_coords10.append((df_filtered10.iloc[i, 0], df_filtered10.iloc[i, 1], df_filtered10.iloc[i, 2]))"
   ]
  },
  {
   "cell_type": "code",
   "execution_count": 3,
   "metadata": {
    "pycharm": {
     "name": "#%%\n"
    }
   },
   "outputs": [],
   "source": [
    "# def calc_metrics(all_coords):\n",
    "#     dist_matrix = np.zeros((len(all_coords), len(all_coords)))\n",
    "#     for i in range(len(all_coords)):\n",
    "#         for j in range(len(all_coords)):\n",
    "#             dist_matrix[i, j] = distances.dtwEuclidean(all_coords[i], all_coords[j], len(all_coords[i]), len(all_coords[j]))\n",
    "\n",
    "    # return dist_matrix\n",
    "lists = [song_coords1, song_coords2, song_coords3, song_coords4, song_coords5, song_coords6, song_coords7, song_coords8, song_coords9, song_coords10]\n",
    "\n",
    "dists = parallelizer.list_parallelizer(distances.dtwEuclidean, lists)"
   ]
  },
  {
   "cell_type": "code",
   "execution_count": 3,
   "metadata": {
    "pycharm": {
     "name": "#%%\n"
    }
   },
   "outputs": [
    {
     "ename": "NameError",
     "evalue": "name 'dists' is not defined",
     "output_type": "error",
     "traceback": [
      "\u001B[0;31m---------------------------------------------------------------------------\u001B[0m",
      "\u001B[0;31mNameError\u001B[0m                                 Traceback (most recent call last)",
      "\u001B[0;32m<ipython-input-3-99babf1abc7d>\u001B[0m in \u001B[0;36m<module>\u001B[0;34m\u001B[0m\n\u001B[1;32m      7\u001B[0m \u001B[0;32mdef\u001B[0m \u001B[0mllf\u001B[0m\u001B[0;34m(\u001B[0m\u001B[0mid\u001B[0m\u001B[0;34m)\u001B[0m\u001B[0;34m:\u001B[0m\u001B[0;34m\u001B[0m\u001B[0;34m\u001B[0m\u001B[0m\n\u001B[1;32m      8\u001B[0m     \u001B[0;32mreturn\u001B[0m \u001B[0mlabels\u001B[0m\u001B[0;34m[\u001B[0m\u001B[0mid\u001B[0m\u001B[0;34m]\u001B[0m\u001B[0;34m\u001B[0m\u001B[0;34m\u001B[0m\u001B[0m\n\u001B[0;32m----> 9\u001B[0;31m \u001B[0mZ\u001B[0m \u001B[0;34m=\u001B[0m \u001B[0mlinkage\u001B[0m\u001B[0;34m(\u001B[0m\u001B[0mdists\u001B[0m\u001B[0;34m,\u001B[0m \u001B[0;34m'single'\u001B[0m\u001B[0;34m)\u001B[0m\u001B[0;34m\u001B[0m\u001B[0;34m\u001B[0m\u001B[0m\n\u001B[0m\u001B[1;32m     10\u001B[0m \u001B[0mfig\u001B[0m \u001B[0;34m=\u001B[0m \u001B[0mplt\u001B[0m\u001B[0;34m.\u001B[0m\u001B[0mfigure\u001B[0m\u001B[0;34m(\u001B[0m\u001B[0;34m)\u001B[0m\u001B[0;34m\u001B[0m\u001B[0;34m\u001B[0m\u001B[0m\n\u001B[1;32m     11\u001B[0m \u001B[0mdn\u001B[0m \u001B[0;34m=\u001B[0m \u001B[0mdendrogram\u001B[0m\u001B[0;34m(\u001B[0m\u001B[0mZ\u001B[0m\u001B[0;34m,\u001B[0m \u001B[0mleaf_label_func\u001B[0m\u001B[0;34m=\u001B[0m\u001B[0mllf\u001B[0m\u001B[0;34m,\u001B[0m \u001B[0mleaf_rotation\u001B[0m\u001B[0;34m=\u001B[0m\u001B[0;36m0\u001B[0m\u001B[0;34m,\u001B[0m \u001B[0morientation\u001B[0m\u001B[0;34m=\u001B[0m\u001B[0;34m'right'\u001B[0m\u001B[0;34m)\u001B[0m\u001B[0;34m\u001B[0m\u001B[0;34m\u001B[0m\u001B[0m\n",
      "\u001B[0;31mNameError\u001B[0m: name 'dists' is not defined"
     ]
    }
   ],
   "source": [
    "labels = [\"bhakti-biccha(shankarabharanam)\", \"dakshinamurte(shankarabharanam)\", \"eduta-nilachite(shankarabharanam)\", \"enduku-peddala(shankarabharanam)\", \"jalajakshi(Hamsadhwani)\", \"mahalakshmi(Shankarabharanam)\", \"raghunayaka(Hamsadhwani)\", \"shree-kamalaambikaaya(shankarabharanam)\", \"vaarana mukha va(Hamsadhwani)\", \"vatapi-ganapathim(Hamsadhwani)\"]\n",
    "\n",
    "# draw.draw_weighted_graph(dists, 5000, labels)\n",
    "\n",
    "from scipy.cluster.hierarchy import dendrogram, linkage\n",
    "import matplotlib.pyplot as plt\n",
    "def llf(id):\n",
    "    return labels[id]\n",
    "Z = linkage(dists, 'single')\n",
    "fig = plt.figure()\n",
    "dn = dendrogram(Z, leaf_label_func=llf, leaf_rotation=0, orientation='right')"
   ]
  },
  {
   "cell_type": "code",
   "execution_count": 4,
   "metadata": {
    "pycharm": {
     "name": "#%%\n"
    }
   },
   "outputs": [],
   "source": [
    "song_coords1 = data.GetAdjustedMelody(song_coords1)\n",
    "song_coords2 = data.GetAdjustedMelody(song_coords2)\n",
    "song_coords3 = data.GetAdjustedMelody(song_coords3)\n",
    "song_coords4 = data.GetAdjustedMelody(song_coords4)\n",
    "song_coords5 = data.GetAdjustedMelody(song_coords5)\n",
    "song_coords6 = data.GetAdjustedMelody(song_coords6)\n",
    "song_coords7 = data.GetAdjustedMelody(song_coords7)\n",
    "song_coords8 = data.GetAdjustedMelody(song_coords8)\n",
    "song_coords9 = data.GetAdjustedMelody(song_coords9)\n",
    "song_coords10 = data.GetAdjustedMelody(song_coords10)"
   ]
  },
  {
   "cell_type": "code",
   "execution_count": 5,
   "metadata": {
    "pycharm": {
     "name": "#%%\n"
    }
   },
   "outputs": [
    {
     "name": "stdout",
     "output_type": "stream",
     "text": [
      "104241\n",
      "100553\n",
      "215631\n",
      "201353\n",
      "215758\n",
      "239830\n",
      "164170\n",
      "182497\n",
      "154851\n",
      "84743\n"
     ]
    },
    {
     "data": {
      "text/plain": "166362.7"
     },
     "execution_count": 5,
     "metadata": {},
     "output_type": "execute_result"
    }
   ],
   "source": [
    "print(len(song_coords1))\n",
    "print(len(song_coords2))\n",
    "print(len(song_coords3))\n",
    "print(len(song_coords4))\n",
    "print(len(song_coords5))\n",
    "print(len(song_coords6))\n",
    "print(len(song_coords7))\n",
    "print(len(song_coords8))\n",
    "print(len(song_coords9))\n",
    "print(len(song_coords10))\n",
    "\n",
    "np.mean([\n",
    "    len(song_coords1),\n",
    "    len(song_coords2),\n",
    "    len(song_coords3),\n",
    "    len(song_coords4),\n",
    "    len(song_coords5),\n",
    "    len(song_coords6),\n",
    "    len(song_coords7),\n",
    "    len(song_coords8),\n",
    "    len(song_coords9),\n",
    "    len(song_coords10),\n",
    "])"
   ]
  },
  {
   "cell_type": "code",
   "execution_count": 6,
   "metadata": {
    "pycharm": {
     "name": "#%%\n"
    }
   },
   "outputs": [],
   "source": [
    "lists = [song_coords1, song_coords2, song_coords3, song_coords4, song_coords5, song_coords6, song_coords7, song_coords8, song_coords9, song_coords10]\n",
    "\n",
    "dists = parallelizer.list_parallelizer(distances.GetLZPCausality, lists)"
   ]
  },
  {
   "cell_type": "code",
   "execution_count": 7,
   "metadata": {
    "pycharm": {
     "name": "#%%\n"
    }
   },
   "outputs": [
    {
     "name": "stdout",
     "output_type": "stream",
     "text": [
      "digraph \"\" {\n",
      "\tgraph [bb=\"0,0,850,1186.7\",\n",
      "\t\trankdir=TD\n",
      "\t];\n",
      "\tnode [label=\"\\N\"];\n",
      "\t1\t[fontsize=48,\n",
      "\t\theight=1.1982,\n",
      "\t\tpos=\"531,287.67\",\n",
      "\t\twidth=0.92317];\n",
      "\t5\t[fontsize=48,\n",
      "\t\theight=1.1982,\n",
      "\t\tpos=\"280,165.4\",\n",
      "\t\twidth=0.92317];\n",
      "\t1 -> 5\t[pos=\"e,312.77,174.93 505.01,260.35 498.51,254.64 491.29,248.99 484,244.53 432.16,212.87 365.34,190.25 322.57,177.74\",\n",
      "\t\tweight=1.0];\n",
      "\t9\t[fontsize=48,\n",
      "\t\theight=1.1982,\n",
      "\t\tpos=\"432,43.134\",\n",
      "\t\twidth=0.92317];\n",
      "\t1 -> 9\t[pos=\"e,447.27,81.54 515.75,249.3 498.38,206.75 469.98,137.17 451.14,91.016\",\n",
      "\t\tweight=1.0];\n",
      "\t5 -> 9\t[pos=\"e,403.92,66.353 308.23,142.06 332.98,122.48 369.08,93.921 395.91,72.689\",\n",
      "\t\tweight=1.0];\n",
      "\t2\t[fontsize=48,\n",
      "\t\theight=1.1982,\n",
      "\t\tpos=\"295,776.74\",\n",
      "\t\twidth=0.92317];\n",
      "\t2 -> 1\t[pos=\"e,498.72,298.8 283.06,736.38 263.4,668.61 228.14,532.93 247,489.07 291.42,385.77 421.64,326.67 489.22,302.16\",\n",
      "\t\tweight=1.0];\n",
      "\t2 -> 5\t[pos=\"e,272.7,207.74 272.1,745.01 263.02,731.21 253.45,714.31 248,697.6 231.06,645.74 239.45,629.84 237,575.34 235.28,537.03 234.46,527.32 \\\n",
      "237,489.07 243.39,392.79 260.38,281.4 270.99,217.89\",\n",
      "\t\tweight=1.0];\n",
      "\t2 -> 9\t[pos=\"e,398.64,44.369 270.11,747.93 254.84,730.22 237.39,708.62 233,697.6 138.29,459.71 52.32,329.29 203,122.27 245.64,63.68 334.79,48.572 \\\n",
      "388.41,44.949\",\n",
      "\t\tweight=1.0];\n",
      "\t6\t[fontsize=48,\n",
      "\t\theight=1.1982,\n",
      "\t\tpos=\"470,654.47\",\n",
      "\t\twidth=0.92317];\n",
      "\t2 -> 6\t[pos=\"e,440.91,675.46 324.29,755.61 354.03,735.16 400.2,703.44 432.58,681.19\",\n",
      "\t\tweight=1.0];\n",
      "\t7\t[fontsize=48,\n",
      "\t\theight=1.1982,\n",
      "\t\tpos=\"546,409.93\",\n",
      "\t\twidth=0.92317];\n",
      "\t2 -> 7\t[pos=\"e,553.49,452.05 328.35,774.16 377.1,769.9 466.9,754.34 512,697.6 565.47,630.34 562.57,524.58 554.82,462.07\",\n",
      "\t\tweight=1.0];\n",
      "\t10\t[fontsize=48,\n",
      "\t\theight=1.1982,\n",
      "\t\tpos=\"311,532.2\",\n",
      "\t\twidth=1.5321];\n",
      "\t2 -> 10\t[pos=\"e,308.22,575.37 297.79,733.49 300.5,692.32 304.64,629.62 307.56,585.36\",\n",
      "\t\tweight=1.0];\n",
      "\t6 -> 1\t[pos=\"e,516.15,326.34 472.17,611.21 475.71,554.86 484.4,452.29 504,366.8 506.33,356.62 509.52,345.92 512.89,335.81\",\n",
      "\t\tweight=1.0];\n",
      "\t6 -> 5\t[pos=\"e,292.57,205.57 447.05,623.04 437.2,609.02 426.11,591.86 418,575.34 401.68,542.1 328.29,316.38 295.69,215.24\",\n",
      "\t\tweight=1.0];\n",
      "\t6 -> 9\t[pos=\"e,432,86.631 459.72,613 448.46,565.1 432,482.75 432,410.93 432,410.93 432,410.93 432,286.67 432,221.22 432,145.83 432,96.702\",\n",
      "\t\tweight=1.0];\n",
      "\t6 -> 7\t[pos=\"e,533.72,450.12 482.3,614.23 495.49,572.14 516.45,505.23 530.7,459.76\",\n",
      "\t\tweight=1.0];\n",
      "\t6 -> 10\t[pos=\"e,352.83,560.61 443.15,628.38 436.68,622.63 429.7,616.64 423,611.34 403.41,595.82 380.97,579.83 361.34,566.4\",\n",
      "\t\tweight=1.0];\n",
      "\t7 -> 1\t[pos=\"e,536.19,330.32 540.8,367.21 539.71,358.53 538.56,349.29 537.44,340.31\",\n",
      "\t\tweight=1.0];\n",
      "\t7 -> 5\t[pos=\"e,307.04,191.06 519.03,384.34 470.44,340.04 368.26,246.87 314.59,197.94\",\n",
      "\t\tweight=1.0];\n",
      "\t7 -> 9\t[pos=\"e,458.56,69.556 561.64,371.84 566.26,359.07 570.69,344.53 573,330.8 579.35,292.99 583.74,281.34 573,244.53 553.42,177.43 500.89,\\\n",
      "113.91 465.77,77.017\",\n",
      "\t\tweight=1.0];\n",
      "\t10 -> 1\t[pos=\"e,505.03,315.16 341.41,495.86 370.46,462.31 415.67,410.63 456,366.8 469.54,352.09 484.76,336.12 497.94,322.48\",\n",
      "\t\tweight=1.0];\n",
      "\t10 -> 5\t[pos=\"e,283.46,208.66 307.18,489.03 306.13,477.38 305.01,464.74 304,453.07 296.92,371.33 289.04,276.45 284.31,218.95\",\n",
      "\t\tweight=1.0];\n",
      "\t10 -> 9\t[pos=\"e,398.64,46.602 287.47,493.06 243.28,415.98 159.09,239.11 238,122.27 271.53,72.611 342.45,54.506 388.61,47.91\",\n",
      "\t\tweight=1.0];\n",
      "\t10 -> 7\t[pos=\"e,515.14,426.73 356.59,507.87 400.02,485.64 464.75,452.52 506.17,431.32\",\n",
      "\t\tweight=1.0];\n",
      "\t3\t[fontsize=48,\n",
      "\t\theight=1.1982,\n",
      "\t\tpos=\"451,1143.5\",\n",
      "\t\twidth=0.92317];\n",
      "\t3 -> 1\t[pos=\"e,563.57,297.23 483.75,1134.8 565.86,1113.1 774,1044.1 774,900 774,900 774,900 774,531.2 774,449.94 751.63,424.09 694,366.8 660.23,\\\n",
      "333.23 609.23,312.01 573.29,300.29\",\n",
      "\t\tweight=1.0];\n",
      "\t3 -> 5\t[pos=\"e,256.27,196.01 417.84,1140.4 313.68,1131.7 0,1089.8 0,900 0,900 0,900 0,653.47 5.3291e-15,575.53 25.302,558.35 61,489.07 117.45,\\\n",
      "379.51 204.36,262.6 249.87,204.2\",\n",
      "\t\tweight=1.0];\n",
      "\t3 -> 9\t[pos=\"e,465.47,43.831 484.33,1138.4 580.23,1124.6 850,1070.6 850,900 850,900 850,900 850,286.67 850,259.02 834.98,181.53 756,122.27 671.43,\\\n",
      "58.81 542.52,46.134 475.65,44.076\",\n",
      "\t\tweight=1.0];\n",
      "\t3 -> 2\t[pos=\"e,287.8,819 423.15,1119.2 384.87,1085.1 318.01,1017.3 294,942.14 282.36,905.7 283.18,862.37 286.6,829.34\",\n",
      "\t\tweight=1.0];\n",
      "\t3 -> 6\t[pos=\"e,480.11,695.7 472.81,1110.6 480.83,1097 488.94,1080.5 493,1064.4 524.73,938.36 499.42,783.82 482.35,705.74\",\n",
      "\t\tweight=1.0];\n",
      "\t3 -> 7\t[pos=\"e,573.53,434.36 482.53,1129.5 549.12,1099.6 698,1019.4 698,900 698,900 698,900 698,653.47 698,565.86 625.91,483.89 581.02,441.35\",\n",
      "\t\tweight=1.0];\n",
      "\t3 -> 10\t[pos=\"e,295.54,573.91 418.4,1134.1 384.46,1123.6 332.37,1102.2 304,1064.4 214.69,945.43 232.11,880.89 253,733.6 260.42,681.26 278.24,623.45 \\\n",
      "292.18,583.43\",\n",
      "\t\tweight=1.0];\n",
      "\t4\t[fontsize=48,\n",
      "\t\theight=1.1982,\n",
      "\t\tpos=\"371,899\",\n",
      "\t\twidth=0.92317];\n",
      "\t3 -> 4\t[pos=\"e,377.42,941.43 430.57,1109.2 422.94,1095.7 414.75,1079.7 409,1064.4 395.15,1027.6 385.38,984.27 379.22,951.31\",\n",
      "\t\tweight=1.0];\n",
      "\t8\t[fontsize=48,\n",
      "\t\theight=1.1982,\n",
      "\t\tpos=\"451,1021.3\",\n",
      "\t\twidth=0.92317];\n",
      "\t3 -> 8\t[pos=\"e,451,1064.7 451,1100.1 451,1092 451,1083.3 451,1074.9\",\n",
      "\t\tweight=1.0];\n",
      "\t4 -> 1\t[pos=\"e,555.84,316.51 402.54,885.33 469.95,855.92 622,776.21 622,655.47 622,655.47 622,655.47 622,531.2 622,456.59 618.23,435.02 588,366.8 \\\n",
      "581.42,351.94 571.66,337.15 562.08,324.5\",\n",
      "\t\tweight=1.0];\n",
      "\t4 -> 5\t[pos=\"e,263.7,203.15 339.25,885.69 311.82,873.32 273.48,851.54 253,819.87 223.1,773.63 237.91,752.45 233,697.6 215.04,496.9 202.04,440.25 \\\n",
      "250,244.53 252.57,234.05 256.17,223.08 259.99,212.78\",\n",
      "\t\tweight=1.0];\n",
      "\t4 -> 9\t[pos=\"e,398.37,43.293 338.63,888.25 306.33,876.9 257.51,855.07 229,819.87 65.032,617.44 83.749,502.91 117,244.53 124.17,188.82 109.55,\\\n",
      "162.25 149,122.27 213.13,57.273 326.08,44.98 388.13,43.457\",\n",
      "\t\tweight=1.0];\n",
      "\t4 -> 2\t[pos=\"e,315.74,810.56 350.23,865.14 341.27,850.95 330.68,834.2 321.19,819.17\",\n",
      "\t\tweight=1.0];\n",
      "\t4 -> 6\t[pos=\"e,454.73,692.88 386.25,860.64 403.62,818.09 432.02,748.51 450.86,702.35\",\n",
      "\t\tweight=1.0];\n",
      "\t4 -> 7\t[pos=\"e,560.16,448.96 398.85,874.59 437.98,840.07 508.51,771.57 545,697.6 586.3,613.89 583.86,581.38 570,489.07 568.5,479.07 565.97,468.58 \\\n",
      "563.11,458.66\",\n",
      "\t\tweight=1.0];\n",
      "\t4 -> 10\t[pos=\"e,317.91,575.22 364.18,856.51 353.18,789.63 331.54,658.11 319.54,585.12\",\n",
      "\t\tweight=1.0];\n",
      "\t8 -> 1\t[pos=\"e,561.25,305.63 482.38,1006.4 510.33,992.87 551.16,970.32 580,942.14 683.75,840.77 736,800.52 736,655.47 736,655.47 736,655.47 736,\\\n",
      "531.2 736,429.47 629.49,348.38 570.02,311.04\",\n",
      "\t\tweight=1.0];\n",
      "\t8 -> 5\t[pos=\"e,260.61,200.91 417.9,1016.8 319.9,1004.4 38,953.6 38,777.74 38,777.74 38,777.74 38,653.47 38,604.91 194.27,319.87 255.66,209.77\",\n",
      "\t\tweight=1.0];\n",
      "\t8 -> 9\t[pos=\"e,465.06,49.003 483.54,1012.3 522.83,1001.5 589.43,979.08 636,942.14 753.13,849.23 812,804.97 812,655.47 812,655.47 812,655.47 812,\\\n",
      "286.67 812,128.31 574.61,68.765 475.09,50.761\",\n",
      "\t\tweight=1.0];\n",
      "\t8 -> 2\t[pos=\"e,294.9,820.07 419.06,1008.3 390.9,995.98 351.02,974.15 329,942.14 306.47,909.38 298.3,864.87 295.58,830.42\",\n",
      "\t\tweight=1.0];\n",
      "\t8 -> 6\t[pos=\"e,467.81,697.57 453.2,978.07 456.68,911.12 463.48,780.73 467.27,707.89\",\n",
      "\t\tweight=1.0];\n",
      "\t8 -> 7\t[pos=\"e,566.14,444.29 476.79,993.39 526.66,941.27 631.8,830.62 636,819.87 686.24,691.38 612.53,528.65 571.03,453.07\",\n",
      "\t\tweight=1.0];\n",
      "\t8 -> 10\t[pos=\"e,329.1,573.38 442.6,979.27 426.83,904.86 390.21,743.08 344,611.34 340.71,601.96 336.86,592.09 332.98,582.65\",\n",
      "\t\tweight=1.0];\n",
      "\t8 -> 4\t[pos=\"e,392.5,932.32 429.56,988.04 419.88,973.48 408.33,956.12 398.05,940.67\",\n",
      "\t\tweight=1.0];\n",
      "}\n",
      "\n"
     ]
    }
   ],
   "source": [
    "labels = [i+1 for i in range(len(labels))]\n",
    "\n",
    "\n",
    "draw.draw_causal_inference(dists, labels)"
   ]
  },
  {
   "cell_type": "code",
   "execution_count": null,
   "metadata": {
    "pycharm": {
     "name": "#%%\n"
    }
   },
   "outputs": [],
   "source": [
    "draw.draw_causal_inference(dists[1], labels)"
   ]
  },
  {
   "cell_type": "code",
   "execution_count": null,
   "metadata": {
    "pycharm": {
     "name": "#%%\n"
    }
   },
   "outputs": [],
   "source": [
    "draw.draw_causal_inference(dists[0], labels)"
   ]
  }
 ],
 "metadata": {
  "kernelspec": {
   "display_name": "Python 3",
   "language": "python",
   "name": "python3"
  },
  "language_info": {
   "codemirror_mode": {
    "name": "ipython",
    "version": 3
   },
   "file_extension": ".py",
   "mimetype": "text/x-python",
   "name": "python",
   "nbconvert_exporter": "python",
   "pygments_lexer": "ipython3",
   "version": "3.8.5"
  }
 },
 "nbformat": 4,
 "nbformat_minor": 1
}