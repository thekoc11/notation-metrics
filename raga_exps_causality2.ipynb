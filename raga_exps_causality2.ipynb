{
 "cells": [
  {
   "cell_type": "code",
   "execution_count": 1,
   "outputs": [],
   "source": [
    "\n",
    "import pandas as pd\n",
    "import data\n",
    "from utils import distances, draw, parallelizer\n",
    "import numpy as np\n",
    "import multiprocessing"
   ],
   "metadata": {
    "collapsed": false,
    "pycharm": {
     "name": "#%%\n"
    }
   }
  },
  {
   "cell_type": "code",
   "execution_count": 2,
   "outputs": [],
   "source": [
    "df = pd.read_csv(\"/home/abhisheknandekar/notstiond/29/bhakti-biccha-parsed.txt\")\n",
    "df_filtered1 = df[df[\" Note\"] < 99999]\n",
    "\n",
    "df = pd.read_csv(\"/home/abhisheknandekar/notstiond/29/dakshinamurte-parsed.txt\")\n",
    "df_filtered2 = df[df[\" Note\"] < 99999]\n",
    "\n",
    "df = pd.read_csv(\"/home/abhisheknandekar/notstiond/29/eduta-nilachite-parsed.txt\")\n",
    "df_filtered3 = df[df[\" Note\"] < 99999]\n",
    "\n",
    "df = pd.read_csv(\"/home/abhisheknandekar/notstiond/29/enduku-peddala-parsed.txt\")\n",
    "df_filtered4 = df[df[\" Note\"] < 99999]\n",
    "\n",
    "df = pd.read_csv(\"/home/abhisheknandekar/notstiond/29/jalajakshi-parsed.txt\")\n",
    "df_filtered5 = df[df[\" Note\"] < 99999]\n",
    "\n",
    "df = pd.read_csv(\"/home/abhisheknandekar/notstiond/29/mahalakshmi-parsed.txt\")\n",
    "df_filtered6 = df[df[\" Note\"] < 99999]\n",
    "\n",
    "df = pd.read_csv(\"/home/abhisheknandekar/notstiond/29/raghunayaka-parsed.txt\")\n",
    "df_filtered7 = df[df[\" Note\"] < 99999]\n",
    "\n",
    "df = pd.read_csv(\"/home/abhisheknandekar/notstiond/29/shree-kamalaambikaaya-parsed.txt\")\n",
    "df_filtered8 = df[df[\" Note\"] < 99999]\n",
    "\n",
    "df = pd.read_csv(\"/home/abhisheknandekar/notstiond/29/vaarana-parsed.txt\")\n",
    "df_filtered9 = df[df[\" Note\"] < 99999]\n",
    "\n",
    "df = pd.read_csv(\"/home/abhisheknandekar/notstiond/29/vatapi-parsed.txt\")\n",
    "df_filtered10 = df[df[\" Note\"] < 99999]\n",
    "\n",
    "song_coords1 = []\n",
    "for i in range(len(df_filtered1)):\n",
    "    song_coords1.append((df_filtered1.iloc[i, 0], df_filtered1.iloc[i, 1], df_filtered1.iloc[i, 2]))\n",
    "\n",
    "\n",
    "song_coords2 = []\n",
    "for i in range(len(df_filtered2)):\n",
    "    song_coords2.append((df_filtered2.iloc[i, 0], df_filtered2.iloc[i, 1], df_filtered2.iloc[i, 2]))\n",
    "\n",
    "\n",
    "song_coords3 = []\n",
    "for i in range(len(df_filtered3)):\n",
    "    song_coords3.append((df_filtered3.iloc[i, 0], df_filtered3.iloc[i, 1], df_filtered3.iloc[i, 2]))\n",
    "\n",
    "\n",
    "song_coords4 = []\n",
    "for i in range(len(df_filtered4)):\n",
    "    song_coords4.append((df_filtered4.iloc[i, 0], df_filtered4.iloc[i, 1], df_filtered4.iloc[i, 2]))\n",
    "\n",
    "\n",
    "song_coords5 = []\n",
    "for i in range(len(df_filtered5)):\n",
    "    song_coords5.append((df_filtered5.iloc[i, 0], df_filtered5.iloc[i, 1], df_filtered5.iloc[i, 2]))\n",
    "\n",
    "\n",
    "song_coords6 = []\n",
    "for i in range(len(df_filtered6)):\n",
    "    song_coords6.append((df_filtered6.iloc[i, 0], df_filtered6.iloc[i, 1], df_filtered6.iloc[i, 2]))\n",
    "\n",
    "\n",
    "song_coords7 = []\n",
    "for i in range(len(df_filtered7)):\n",
    "    song_coords7.append((df_filtered7.iloc[i, 0], df_filtered7.iloc[i, 1], df_filtered7.iloc[i, 2]))\n",
    "\n",
    "\n",
    "song_coords8 = []\n",
    "for i in range(len(df_filtered8)):\n",
    "    song_coords8.append((df_filtered8.iloc[i, 0], df_filtered8.iloc[i, 1], df_filtered8.iloc[i, 2]))\n",
    "\n",
    "song_coords9 = []\n",
    "for i in range(len(df_filtered9)):\n",
    "    song_coords9.append((df_filtered9.iloc[i, 0], df_filtered9.iloc[i, 1], df_filtered9.iloc[i, 2]))\n",
    "\n",
    "song_coords10 = []\n",
    "for i in range(len(df_filtered10)):\n",
    "    song_coords10.append((df_filtered10.iloc[i, 0], df_filtered10.iloc[i, 1], df_filtered10.iloc[i, 2]))"
   ],
   "metadata": {
    "collapsed": false,
    "pycharm": {
     "name": "#%%\n"
    }
   }
  },
  {
   "cell_type": "code",
   "execution_count": 3,
   "outputs": [],
   "source": [
    "# def calc_metrics(all_coords):\n",
    "#     dist_matrix = np.zeros((len(all_coords), len(all_coords)))\n",
    "#     for i in range(len(all_coords)):\n",
    "#         for j in range(len(all_coords)):\n",
    "#             dist_matrix[i, j] = distances.dtwEuclidean(all_coords[i], all_coords[j], len(all_coords[i]), len(all_coords[j]))\n",
    "\n",
    "    # return dist_matrix\n",
    "lists = [song_coords1, song_coords2, song_coords3, song_coords4, song_coords5, song_coords6, song_coords7, song_coords8, song_coords9, song_coords10]\n",
    "\n",
    "dists = parallelizer.list_parallelizer(distances.dtwEuclidean, lists)"
   ],
   "metadata": {
    "collapsed": false,
    "pycharm": {
     "name": "#%%\n"
    }
   }
  },
  {
   "cell_type": "code",
   "execution_count": 4,
   "outputs": [
    {
     "name": "stderr",
     "output_type": "stream",
     "text": [
      "<ipython-input-4-99babf1abc7d>:9: ClusterWarning: scipy.cluster: The symmetric non-negative hollow observation matrix looks suspiciously like an uncondensed distance matrix\n",
      "  Z = linkage(dists, 'single')\n"
     ]
    },
    {
     "data": {
      "text/plain": "<Figure size 432x288 with 1 Axes>",
      "image/png": "[encoded data removed]"
     },
     "metadata": {
      "needs_background": "light"
     },
     "output_type": "display_data"
    }
   ],
   "source": [
    "labels = [\"bhakti-biccha(shankarabharanam)\", \"dakshinamurte(shankarabharanam)\", \"eduta-nilachite(shankarabharanam)\", \"enduku-peddala(shankarabharanam)\", \"jalajakshi(Hamsadhwani)\", \"mahalakshmi(Shankarabharanam)\", \"raghunayaka(Hamsadhwani)\", \"shree-kamalaambikaaya(shankarabharanam)\", \"vaarana mukha va(Hamsadhwani)\", \"vatapi-ganapathim(Hamsadhwani)\"]\n",
    "\n",
    "# draw.draw_weighted_graph(dists, 5000, labels)\n",
    "\n",
    "from scipy.cluster.hierarchy import dendrogram, linkage\n",
    "import matplotlib.pyplot as plt\n",
    "def llf(id):\n",
    "    return labels[id]\n",
    "Z = linkage(dists, 'single')\n",
    "fig = plt.figure()\n",
    "dn = dendrogram(Z, leaf_label_func=llf, leaf_rotation=0, orientation='right')"
   ],
   "metadata": {
    "collapsed": false,
    "pycharm": {
     "name": "#%%\n"
    }
   }
  },
  {
   "cell_type": "code",
   "execution_count": 5,
   "outputs": [],
   "source": [
    "song_coords1 = data.GetAdjustedMelody(song_coords1)\n",
    "song_coords2 = data.GetAdjustedMelody(song_coords2)\n",
    "song_coords3 = data.GetAdjustedMelody(song_coords3)\n",
    "song_coords4 = data.GetAdjustedMelody(song_coords4)\n",
    "song_coords5 = data.GetAdjustedMelody(song_coords5)\n",
    "song_coords6 = data.GetAdjustedMelody(song_coords6)\n",
    "song_coords7 = data.GetAdjustedMelody(song_coords7)\n",
    "song_coords8 = data.GetAdjustedMelody(song_coords8)\n",
    "song_coords9 = data.GetAdjustedMelody(song_coords9)\n",
    "song_coords10 = data.GetAdjustedMelody(song_coords10)"
   ],
   "metadata": {
    "collapsed": false,
    "pycharm": {
     "name": "#%%\n"
    }
   }
  },
  {
   "cell_type": "code",
   "execution_count": 7,
   "outputs": [],
   "source": [
    "lists = [song_coords1, song_coords2, song_coords3, song_coords4, song_coords5, song_coords6, song_coords7, song_coords8, song_coords9, song_coords10]\n",
    "\n",
    "dists = parallelizer.list_parallelizer(distances.GetLZPCausality, lists)"
   ],
   "metadata": {
    "collapsed": false,
    "pycharm": {
     "name": "#%%\n"
    }
   }
  },
  {
   "cell_type": "code",
   "execution_count": 9,
   "outputs": [
    {
     "name": "stdout",
     "output_type": "stream",
     "text": [
      "digraph \"\" {\n",
      "\tgraph [bb=\"0,0,1164,684\",\n",
      "\t\trankdir=TD\n",
      "\t];\n",
      "\tnode [label=\"\\N\"];\n",
      "\t\"bhakti-biccha(shankarabharanam)\"\t[height=0.5,\n",
      "\t\tpos=\"843,162\",\n",
      "\t\twidth=4.694];\n",
      "\t\"jalajakshi(Hamsadhwani)\"\t[height=0.5,\n",
      "\t\tpos=\"453,90\",\n",
      "\t\twidth=3.5386];\n",
      "\t\"bhakti-biccha(shankarabharanam)\" -> \"jalajakshi(Hamsadhwani)\"\t[pos=\"e,528.51,104.55 760.77,146.24 695.51,134.53 604.58,118.21 538.49,106.34\",\n",
      "\t\tweight=1.0];\n",
      "\t\"vaarana mukha va(Hamsadhwani)\"\t[height=0.5,\n",
      "\t\tpos=\"608,18\",\n",
      "\t\twidth=4.676];\n",
      "\t\"bhakti-biccha(shankarabharanam)\" -> \"vaarana mukha va(Hamsadhwani)\"\t[pos=\"e,635.84,35.825 815.12,144.15 772.63,118.48 691.65,69.544 644.52,41.065\",\n",
      "\t\tweight=1.0];\n",
      "\t\"jalajakshi(Hamsadhwani)\" -> \"vaarana mukha va(Hamsadhwani)\"\t[pos=\"e,571.08,35.673 489.34,72.588 510.97,62.821 538.62,50.333 561.79,39.87\",\n",
      "\t\tweight=1.0];\n",
      "\t\"dakshinamurte(shankarabharanam)\"\t[height=0.5,\n",
      "\t\tpos=\"357,450\",\n",
      "\t\twidth=4.9107];\n",
      "\t\"dakshinamurte(shankarabharanam)\" -> \"bhakti-biccha(shankarabharanam)\"\t[pos=\"e,712.26,173.43 338.5,432.07 306.88,401.09 249.16,334.22 285,288 335.36,223.05 553.99,189.83 702.16,174.46\",\n",
      "\t\tweight=1.0];\n",
      "\t\"dakshinamurte(shankarabharanam)\" -> \"jalajakshi(Hamsadhwani)\"\t[pos=\"e,428.25,107.78 321.34,432.31 306.54,423.57 290.6,411.43 281,396 255.51,355.04 252.36,332.91 270,288 300.22,211.06 376.2,146.3 420.17,\\\n",
      "113.68\",\n",
      "\t\tweight=1.0];\n",
      "\t\"dakshinamurte(shankarabharanam)\" -> \"vaarana mukha va(Hamsadhwani)\"\t[pos=\"e,466.3,27.736 305.78,432.75 288.31,424.56 270.55,412.71 260,396 210.71,317.93 273.67,95.782 298,72 321.16,49.356 389.46,36.316 \\\n",
      "456.06,28.843\",\n",
      "\t\tweight=1.0];\n",
      "\t\"mahalakshmi(Shankarabharanam)\"\t[height=0.5,\n",
      "\t\tpos=\"662,378\",\n",
      "\t\twidth=4.7121];\n",
      "\t\"dakshinamurte(shankarabharanam)\" -> \"mahalakshmi(Shankarabharanam)\"\t[pos=\"e,594.4,394.51 425.07,433.38 472.29,422.54 535.28,408.08 584.45,396.8\",\n",
      "\t\tweight=1.0];\n",
      "\t\"raghunayaka(Hamsadhwani)\"\t[height=0.5,\n",
      "\t\tpos=\"840,234\",\n",
      "\t\twidth=3.9899];\n",
      "\t\"dakshinamurte(shankarabharanam)\" -> \"raghunayaka(Hamsadhwani)\"\t[pos=\"e,846.69,252.15 515.61,442.02 648.26,434.51 819.26,420.25 841,396 873.78,359.44 861.1,297.25 849.92,261.81\",\n",
      "\t\tweight=1.0];\n",
      "\t\"vatapi-ganapathim(Hamsadhwani)\"\t[height=0.5,\n",
      "\t\tpos=\"464,306\",\n",
      "\t\twidth=4.7301];\n",
      "\t\"dakshinamurte(shankarabharanam)\" -> \"vatapi-ganapathim(Hamsadhwani)\"\t[pos=\"e,445.14,324.23 366.09,431.86 376.22,413.38 393.63,383.45 412,360 419.75,350.11 429.13,340.07 437.79,331.43\",\n",
      "\t\tweight=1.0];\n",
      "\t\"mahalakshmi(Shankarabharanam)\" -> \"bhakti-biccha(shankarabharanam)\"\t[pos=\"e,744.1,176.6 685.48,360.14 696.36,350.86 708.15,338.32 714,324 720.05,309.19 719.06,303.18 714,288 707.68,269.03 693.32,270.97 \\\n",
      "687,252 681.94,236.82 677.68,229.01 687,216 698.76,199.59 715.89,188.2 734.54,180.31\",\n",
      "\t\tweight=1.0];\n",
      "\t\"mahalakshmi(Shankarabharanam)\" -> \"jalajakshi(Hamsadhwani)\"\t[pos=\"e,469.38,107.87 661.14,359.98 659.6,341.34 655.24,311.02 643,288 641.61,285.39 527.26,167.48 476.65,115.35\",\n",
      "\t\tweight=1.0];\n",
      "\t\"mahalakshmi(Shankarabharanam)\" -> \"vaarana mukha va(Hamsadhwani)\"\t[pos=\"e,612.76,36.123 663.32,359.89 664.45,341.93 665.52,312.91 663,288 653.92,198.28 628.22,94.251 615.43,46.067\",\n",
      "\t\tweight=1.0];\n",
      "\t\"mahalakshmi(Shankarabharanam)\" -> \"raghunayaka(Hamsadhwani)\"\t[pos=\"e,825.57,252.05 694.96,360.28 712.59,350.68 734.26,337.81 752,324 776.9,304.61 801.88,278.57 818.82,259.67\",\n",
      "\t\tweight=1.0];\n",
      "\t\"mahalakshmi(Shankarabharanam)\" -> \"vatapi-ganapathim(Hamsadhwani)\"\t[pos=\"e,510.25,323.35 615.83,360.68 587.16,350.54 550.14,337.45 519.83,326.74\",\n",
      "\t\tweight=1.0];\n",
      "\t\"raghunayaka(Hamsadhwani)\" -> \"bhakti-biccha(shankarabharanam)\"\t[pos=\"e,842.27,180.1 840.74,215.7 841.07,207.98 841.47,198.71 841.84,190.11\",\n",
      "\t\tweight=1.0];\n",
      "\t\"raghunayaka(Hamsadhwani)\" -> \"jalajakshi(Hamsadhwani)\"\t[pos=\"e,488.94,107.43 783.16,217.4 748.69,207.54 703.97,194.04 665,180 606.52,158.93 540.74,130.56 498.18,111.57\",\n",
      "\t\tweight=1.0];\n",
      "\t\"raghunayaka(Hamsadhwani)\" -> \"vaarana mukha va(Hamsadhwani)\"\t[pos=\"e,696.96,33.319 930.88,220.05 990.02,207.59 1051.1,184.49 1021,144 983.44,93.394 816.86,55.314 707.08,35.154\",\n",
      "\t\tweight=1.0];\n",
      "\t\"vatapi-ganapathim(Hamsadhwani)\" -> \"bhakti-biccha(shankarabharanam)\"\t[pos=\"e,776.99,178.66 495.58,288.24 532.74,268.98 596.64,237.31 654,216 690.49,202.44 732.04,190.43 766.88,181.29\",\n",
      "\t\tweight=1.0];\n",
      "\t\"vatapi-ganapathim(Hamsadhwani)\" -> \"jalajakshi(Hamsadhwani)\"\t[pos=\"e,453.89,108.23 463.12,287.85 461.22,250.83 456.71,163.18 454.41,118.39\",\n",
      "\t\tweight=1.0];\n",
      "\t\"vatapi-ganapathim(Hamsadhwani)\" -> \"vaarana mukha va(Hamsadhwani)\"\t[pos=\"e,466.78,27.815 438.88,288.17 382.41,248.37 255.11,146.19 317,72 335.81,49.449 395.91,36.469 456.64,29.01\",\n",
      "\t\tweight=1.0];\n",
      "\t\"vatapi-ganapathim(Hamsadhwani)\" -> \"raghunayaka(Hamsadhwani)\"\t[pos=\"e,763.45,249.25 544.2,290.07 605.72,278.62 690.5,262.83 753.53,251.1\",\n",
      "\t\tweight=1.0];\n",
      "\t\"eduta-nilachite(shankarabharanam)\"\t[height=0.5,\n",
      "\t\tpos=\"728,666\",\n",
      "\t\twidth=4.8926];\n",
      "\t\"eduta-nilachite(shankarabharanam)\" -> \"bhakti-biccha(shankarabharanam)\"\t[pos=\"e,952.95,175.7 865.76,654.71 910.85,647.14 959.88,634.16 1001,612 1049.7,585.76 1088,578.32 1088,523 1088,523 1088,523 1088,305 \\\n",
      "1088,260.27 1076,243.89 1041,216 1018.5,198.09 990.55,186.2 962.76,178.32\",\n",
      "\t\tweight=1.0];\n",
      "\t\"eduta-nilachite(shankarabharanam)\" -> \"jalajakshi(Hamsadhwani)\"\t[pos=\"e,373.06,104.01 581.96,655.89 490.9,648.32 371.71,634.94 268,612 145.45,584.9 0,648.51 0,523 0,523 0,523 0,377 0,207.04 230.82,133.99 \\\n",
      "362.94,106.1\",\n",
      "\t\tweight=1.0];\n",
      "\t\"eduta-nilachite(shankarabharanam)\" -> \"vaarana mukha va(Hamsadhwani)\"\t[pos=\"e,751.95,27.337 872.64,655.69 928.5,648.34 991.87,635.25 1046,612 1106.4,586.08 1164,588.69 1164,523 1164,523 1164,523 1164,161 \\\n",
      "1164,98.458 1112.6,96.434 1055,72 1003.5,50.147 869.83,36.161 761.98,28.077\",\n",
      "\t\tweight=1.0];\n",
      "\t\"eduta-nilachite(shankarabharanam)\" -> \"dakshinamurte(shankarabharanam)\"\t[pos=\"e,331.17,467.95 630.87,650.92 516.8,632.08 338.34,594.59 301,540 291.97,526.79 294.67,518.7 301,504 305.83,492.78 314.33,482.82 \\\n",
      "323.28,474.65\",\n",
      "\t\tweight=1.0];\n",
      "\t\"eduta-nilachite(shankarabharanam)\" -> \"mahalakshmi(Shankarabharanam)\"\t[pos=\"e,711,395.25 868.33,655.04 928.24,644.2 979.43,621.86 955,576 905.6,483.25 790.96,426.38 720.62,398.93\",\n",
      "\t\tweight=1.0];\n",
      "\t\"eduta-nilachite(shankarabharanam)\" -> \"raghunayaka(Hamsadhwani)\"\t[pos=\"e,887.91,251.11 833.84,651.6 889.45,642.72 950.45,629.47 972,612 1005.7,584.69 1012,566.37 1012,523 1012,523 1012,523 1012,377 1012,\\\n",
      "316.25 947.4,276.63 897.38,255.05\",\n",
      "\t\tweight=1.0];\n",
      "\t\"eduta-nilachite(shankarabharanam)\" -> \"vatapi-ganapathim(Hamsadhwani)\"\t[pos=\"e,364.44,320.68 596.42,653.93 505.76,644.91 394.17,630.62 351,612 256.93,571.43 215.38,560.34 171,468 130.77,384.3 255.29,342.33 \\\n",
      "354.33,322.63\",\n",
      "\t\tweight=1.0];\n",
      "\t\"enduku-peddala(shankarabharanam)\"\t[height=0.5,\n",
      "\t\tpos=\"501,522\",\n",
      "\t\twidth=5.019];\n",
      "\t\"eduta-nilachite(shankarabharanam)\" -> \"enduku-peddala(shankarabharanam)\"\t[pos=\"e,495.28,540.11 616.34,652.07 566.7,643.8 516.06,630.98 501,612 487.32,594.76 488.86,569.16 492.92,549.84\",\n",
      "\t\tweight=1.0];\n",
      "\t\"shree-kamalaambikaaya(shankarabharanam)\"\t[height=0.5,\n",
      "\t\tpos=\"728,594\",\n",
      "\t\twidth=6.0661];\n",
      "\t\"eduta-nilachite(shankarabharanam)\" -> \"shree-kamalaambikaaya(shankarabharanam)\"\t[pos=\"e,728,612.1 728,647.7 728,639.98 728,630.71 728,622.11\",\n",
      "\t\tweight=1.0];\n",
      "\t\"enduku-peddala(shankarabharanam)\" -> \"bhakti-biccha(shankarabharanam)\"\t[pos=\"e,937.01,176.97 654.13,512.33 705.37,504.9 761.5,491.6 809,468 850.96,447.15 854.79,430.94 886,396 947.99,326.59 1046.7,291.98 993,\\\n",
      "216 981.54,199.8 964.69,188.51 946.39,180.66\",\n",
      "\t\tweight=1.0];\n",
      "\t\"enduku-peddala(shankarabharanam)\" -> \"jalajakshi(Hamsadhwani)\"\t[pos=\"e,407.1,106.91 337.42,514.24 265.97,507.52 193.35,494.22 171,468 65.522,344.23 214.58,246.28 341,144 357.82,130.4 378.7,119.3 397.86,\\\n",
      "110.85\",\n",
      "\t\tweight=1.0];\n",
      "\t\"enduku-peddala(shankarabharanam)\" -> \"vaarana mukha va(Hamsadhwani)\"\t[pos=\"e,473.49,28.841 335.88,514.69 256.53,508.14 172.7,494.86 145,468 110.29,434.35 126.41,408.02 132,360 148.55,217.85 157.79,152.66 \\\n",
      "276,72 306.63,51.102 388.62,37.893 463.46,29.888\",\n",
      "\t\tweight=1.0];\n",
      "\t\"enduku-peddala(shankarabharanam)\" -> \"dakshinamurte(shankarabharanam)\"\t[pos=\"e,391.71,467.87 466.51,504.23 446.79,494.65 421.87,482.54 400.79,472.29\",\n",
      "\t\tweight=1.0];\n",
      "\t\"enduku-peddala(shankarabharanam)\" -> \"mahalakshmi(Shankarabharanam)\"\t[pos=\"e,647.33,395.99 527.58,504 542.34,494.12 560.75,481.08 576,468 599.55,447.81 623.89,422.08 640.64,403.49\",\n",
      "\t\tweight=1.0];\n",
      "\t\"enduku-peddala(shankarabharanam)\" -> \"raghunayaka(Hamsadhwani)\"\t[pos=\"e,853.98,251.96 632.06,509.54 710.96,495.49 806.73,464.43 863,396 893.62,358.77 886.25,334.35 873,288 870.24,278.36 865.17,268.76 \\\n",
      "859.81,260.44\",\n",
      "\t\tweight=1.0];\n",
      "\t\"enduku-peddala(shankarabharanam)\" -> \"vatapi-ganapathim(Hamsadhwani)\"\t[pos=\"e,454.75,323.98 519.19,504.07 536.88,485.51 558.93,455.26 543,432 517.95,395.44 475.05,432.56 450,396 437.43,377.65 443.14,352.22 \\\n",
      "450.71,333.24\",\n",
      "\t\tweight=1.0];\n",
      "\t\"shree-kamalaambikaaya(shankarabharanam)\" -> \"bhakti-biccha(shankarabharanam)\"\t[pos=\"e,939.04,176.94 805.95,577.15 901.24,552.68 1050,495.79 1050,379 1050,379 1050,379 1050,305 1050,262.33 1045.4,244.88 1014,216 995.8,\\\n",
      "199.27 972.4,187.82 948.79,179.98\",\n",
      "\t\tweight=1.0];\n",
      "\t\"shree-kamalaambikaaya(shankarabharanam)\" -> \"jalajakshi(Hamsadhwani)\"\t[pos=\"e,413.58,107.18 515.82,589.63 313.03,580.47 38,549.84 38,451 38,451 38,451 38,377 38,334.53 304.77,166.15 341,144 360.96,131.79 \\\n",
      "384.18,120.39 404.29,111.31\",\n",
      "\t\tweight=1.0];\n",
      "\t\"shree-kamalaambikaaya(shankarabharanam)\" -> \"vaarana mukha va(Hamsadhwani)\"\t[pos=\"e,740.73,29.132 849.58,579.04 966.62,558.03 1126,506.09 1126,379 1126,379 1126,379 1126,161 1126,82.871 904.05,46.182 750.72,30.158\",\n",
      "\t\tweight=1.0];\n",
      "\t\"shree-kamalaambikaaya(shankarabharanam)\" -> \"dakshinamurte(shankarabharanam)\"\t[pos=\"e,337.22,467.89 562.03,582.26 453.22,573.47 328.03,559.34 311,540 294.05,520.76 311.88,494.16 330.05,475.06\",\n",
      "\t\tweight=1.0];\n",
      "\t\"shree-kamalaambikaaya(shankarabharanam)\" -> \"mahalakshmi(Shankarabharanam)\"\t[pos=\"e,682.12,396.23 729.8,575.94 732.25,545.33 733.91,479.79 710,432 704.81,421.63 697.02,411.77 689.21,403.43\",\n",
      "\t\tweight=1.0];\n",
      "\t\"shree-kamalaambikaaya(shankarabharanam)\" -> \"raghunayaka(Hamsadhwani)\"\t[pos=\"e,859.33,251.89 791.09,576.7 843.93,559.34 916.01,526.14 950,468 992.89,394.62 911.52,301.81 866.71,258.84\",\n",
      "\t\tweight=1.0];\n",
      "\t\"shree-kamalaambikaaya(shankarabharanam)\" -> \"vatapi-ganapathim(Hamsadhwani)\"\t[pos=\"e,463.36,324.29 724.47,575.74 719.74,556.32 709.69,524.77 691,504 646.3,454.32 618.55,462.32 559,432 525.69,415.04 506.19,425.31 \\\n",
      "483,396 469.25,378.62 464.86,353.57 463.71,334.47\",\n",
      "\t\tweight=1.0];\n",
      "\t\"shree-kamalaambikaaya(shankarabharanam)\" -> \"enduku-peddala(shankarabharanam)\"\t[pos=\"e,553.76,539.27 674.49,576.5 641.18,566.23 598.2,552.97 563.36,542.23\",\n",
      "\t\tweight=1.0];\n",
      "}\n",
      "\n"
     ]
    }
   ],
   "source": [
    "\n",
    "draw.draw_causal_inference(dists, labels)"
   ],
   "metadata": {
    "collapsed": false,
    "pycharm": {
     "name": "#%%\n"
    }
   }
  },
  {
   "cell_type": "code",
   "execution_count": null,
   "outputs": [],
   "source": [
    "draw.draw_causal_inference(dists[1], labels)"
   ],
   "metadata": {
    "collapsed": false,
    "pycharm": {
     "name": "#%%\n"
    }
   }
  },
  {
   "cell_type": "code",
   "execution_count": null,
   "outputs": [],
   "source": [
    "draw.draw_causal_inference(dists[0], labels)"
   ],
   "metadata": {
    "collapsed": false,
    "pycharm": {
     "name": "#%%\n"
    }
   }
  }
 ],
 "metadata": {
  "kernelspec": {
   "display_name": "Python 3",
   "language": "python",
   "name": "python3"
  },
  "language_info": {
   "codemirror_mode": {
    "name": "ipython",
    "version": 2
   },
   "file_extension": ".py",
   "mimetype": "text/x-python",
   "name": "python",
   "nbconvert_exporter": "python",
   "pygments_lexer": "ipython2",
   "version": "2.7.6"
  }
 },
 "nbformat": 4,
 "nbformat_minor": 0
}