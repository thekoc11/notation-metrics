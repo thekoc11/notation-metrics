{
 "cells": [
  {
   "cell_type": "code",
   "execution_count": 1,
   "metadata": {
    "collapsed": true
   },
   "outputs": [],
   "source": [
    "from utils import distances\n",
    "import data"
   ]
  },
  {
   "cell_type": "markdown",
   "source": [
    "## Notational Analysis\n",
    "\n",
    "We'll group Syamale Meenakshi and Pahi Ramachandra together and compare them n-measure-wise or n-beat-wise with the parallels(Goosey Goosey Gander(1784) and Ah! Vous Dirai-je, Maman(1785))"
   ],
   "metadata": {
    "collapsed": false,
    "pycharm": {
     "name": "#%% md\n"
    }
   }
  },
  {
   "cell_type": "code",
   "execution_count": 2,
   "outputs": [
    {
     "data": {
      "text/plain": "(33, 613, 628, 555, 569, 548, 580)"
     },
     "execution_count": 2,
     "metadata": {},
     "output_type": "execute_result"
    }
   ],
   "source": [
    "m1 = data.PruneRests(data.GetNMeasuresAdjusted(data.SYAMALE_MEENAKSHI, 'all'))\n",
    "m2 = data.PruneRests(data.GetNMeasuresAdjusted(data.PAHI_RAMACHANDRA, 'all'))\n",
    "m3 = data.PruneRests(data.GetNMeasuresAdjusted(data.GOOSEY_GOOSEY_GANDER, 'all'))\n",
    "m4 = data.PruneRests(data.GetNMeasuresAdjusted(data.MOZART_THEME, 'all'))\n",
    "m5 = data.PruneRests(data.GetNMeasuresAdjusted(data.AH_VOUS_ORIGINAL, 'all'))\n",
    "\n",
    "d1 = distances.dtwDist(m1, m2, len(m1), len(m2))\n",
    "d2 = distances.dtwDist(m1, m3, len(m1), len(m3))\n",
    "d3 = distances.dtwDist(m2, m3, len(m2), len(m3))\n",
    "d4 = distances.dtwDist(m1, m4, len(m1), len(m4))\n",
    "d5 = distances.dtwDist(m2, m4, len(m2), len(m4))\n",
    "d6 = distances.dtwDist(m1, m5, len(m1), len(m5))\n",
    "d7 = distances.dtwDist(m2, m5, len(m2), len(m5))\n",
    "d1, d2, d3, d4, d5, d6, d7"
   ],
   "metadata": {
    "collapsed": false,
    "pycharm": {
     "name": "#%%\n"
    }
   }
  },
  {
   "cell_type": "code",
   "execution_count": 3,
   "outputs": [
    {
     "data": {
      "text/plain": "(5, 45, 42, 121, 120, 69, 66)"
     },
     "execution_count": 3,
     "metadata": {},
     "output_type": "execute_result"
    }
   ],
   "source": [
    "m1 = data.PruneRests(data.GetNMeasuresAdjusted(data.SYAMALE_MEENAKSHI, 4, 1))\n",
    "m2 = data.PruneRests(data.GetNMeasuresAdjusted(data.PAHI_RAMACHANDRA, 4, 1))\n",
    "m3 = data.PruneRests(data.GetNMeasuresAdjusted(data.GOOSEY_GOOSEY_GANDER, 2, 1))\n",
    "m4 = data.PruneRests(data.GetNMeasuresAdjusted(data.MOZART_THEME, 8, 1))\n",
    "m5 = data.PruneRests(data.GetNMeasuresAdjusted(data.AH_VOUS_ORIGINAL, 2, 1))\n",
    "\n",
    "d1 = distances.dtwDistSymbolic(m1, m2, len(m1), len(m2))\n",
    "d2 = distances.dtwDistSymbolic(m1, m3, len(m1), len(m3))\n",
    "d3 = distances.dtwDistSymbolic(m2, m3, len(m2), len(m3))\n",
    "d4 = distances.dtwDistSymbolic(m1, m4, len(m1), len(m4))\n",
    "d5 = distances.dtwDistSymbolic(m2, m4, len(m2), len(m4))\n",
    "d6 = distances.dtwDistSymbolic(m1, m5, len(m1), len(m5))\n",
    "d7 = distances.dtwDistSymbolic(m2, m5, len(m2), len(m5))\n",
    "\n",
    "\n",
    "d1, d2, d3, d4, d5, d6, d7"
   ],
   "metadata": {
    "collapsed": false,
    "pycharm": {
     "name": "#%%\n"
    }
   }
  },
  {
   "cell_type": "code",
   "execution_count": 4,
   "outputs": [
    {
     "data": {
      "text/plain": "(1, 18, 17, 34, 32, 24, 23)"
     },
     "execution_count": 4,
     "metadata": {},
     "output_type": "execute_result"
    }
   ],
   "source": [
    "m1 = data.GetEuclideanData(data.SYAMALE_MEENAKSHI, 4, 1)[0]\n",
    "m2 = data.GetEuclideanData(data.PAHI_RAMACHANDRA, 4, 1)[0]\n",
    "m3 = data.GetEuclideanData(data.GOOSEY_GOOSEY_GANDER, 2, 1)[0]\n",
    "m4 = data.GetEuclideanData(data.MOZART_THEME, 8, 1)[0]\n",
    "m5 = data.GetEuclideanData(data.AH_VOUS_ORIGINAL, 2, 1)[0]\n",
    "\n",
    "d1 = distances.dtwEuclidean(m1, m2)\n",
    "d2 = distances.dtwEuclidean(m1, m3)\n",
    "d3 = distances.dtwEuclidean(m2, m3)\n",
    "d4 = distances.dtwEuclidean(m1, m4)\n",
    "d5 = distances.dtwEuclidean(m2, m4)\n",
    "d6 = distances.dtwEuclidean(m1, m5)\n",
    "d7 = distances.dtwEuclidean(m2, m5)\n",
    "\n",
    "d1, d2, d3, d4, d5, d6, d7"
   ],
   "metadata": {
    "collapsed": false,
    "pycharm": {
     "name": "#%% New Euclidean DTW\n"
    }
   }
  },
  {
   "cell_type": "code",
   "execution_count": 5,
   "outputs": [
    {
     "data": {
      "text/plain": "(14, 195, 207, 228, 232)"
     },
     "execution_count": 5,
     "metadata": {},
     "output_type": "execute_result"
    }
   ],
   "source": [
    "m1 = data.GetNMeasuresAdjusted(data.SYAMALE_MEENAKSHI, 12, 5)\n",
    "m2 = data.GetNMeasuresAdjusted(data.PAHI_RAMACHANDRA, 12, 5)\n",
    "m3 = data.PruneRests(data.GetNMeasuresAdjusted(data.MOZART_THEME, 8, 9))\n",
    "m4 = data.PruneRests(data.GetNMeasuresAdjusted(data.GOOSEY_GOOSEY_GANDER, 6, 3))\n",
    "m5 = data.PruneRests(data.GetNMeasuresAdjusted(data.MOZART_THEME, 'all', 9))\n",
    "\n",
    "\n",
    "d1 = distances.dtwDistSymbolic(m1, m2, len(m1), len(m2))\n",
    "d2 = distances.dtwDistSymbolic(m1, m3, len(m1), len(m3))\n",
    "d3 = distances.dtwDistSymbolic(m2, m3, len(m2), len(m3))\n",
    "d4 = distances.dtwDistSymbolic(m1, m4, len(m1), len(m4))\n",
    "d5 = distances.dtwDistSymbolic(m2, m4, len(m2), len(m4))\n",
    "\n",
    "d1, d2, d3, d4, d5"
   ],
   "metadata": {
    "collapsed": false,
    "pycharm": {
     "name": "#%%\n"
    }
   }
  },
  {
   "cell_type": "code",
   "execution_count": 6,
   "outputs": [
    {
     "data": {
      "text/plain": "(14, 174, 170, 252, 230)"
     },
     "execution_count": 6,
     "metadata": {},
     "output_type": "execute_result"
    }
   ],
   "source": [
    "m1 = data.GetNMeasuresAdjusted(data.SYAMALE_MEENAKSHI, 12, 5)\n",
    "m2 = data.GetNMeasuresAdjusted(data.PAHI_RAMACHANDRA, 12, 5)\n",
    "m3 = data.PruneRests(data.GetNMeasuresAdjusted(data.AH_VOUS_ORIGINAL, 9, 3))\n",
    "m4 = data.PruneRests(data.GetNMeasuresAdjusted(data.AH_VOUS_ORIGINAL, 'all'))\n",
    "\n",
    "\n",
    "d1 = distances.dtwDistSymbolic(m1, m2, len(m1), len(m2))\n",
    "d2 = distances.dtwDistSymbolic(m1, m3, len(m1), len(m3))\n",
    "d3 = distances.dtwDistSymbolic(m2, m3, len(m2), len(m3))\n",
    "d4 = distances.dtwDistSymbolic(m1, m4, len(m1), len(m4))\n",
    "d5 = distances.dtwDistSymbolic(m2, m4, len(m2), len(m4))\n",
    "\n",
    "d1, d2, d3, d4, d5"
   ],
   "metadata": {
    "collapsed": false,
    "pycharm": {
     "name": "#%%\n"
    }
   }
  },
  {
   "cell_type": "code",
   "execution_count": 7,
   "outputs": [
    {
     "data": {
      "text/plain": "(6, 76, 86, 147, 157, 213, 231)"
     },
     "execution_count": 7,
     "metadata": {},
     "output_type": "execute_result"
    }
   ],
   "source": [
    "m1 = data.GetEuclideanData(data.SYAMALE_MEENAKSHI, 12, 5)[0]\n",
    "m2 = data.GetEuclideanData(data.PAHI_RAMACHANDRA, 12, 5)[0]\n",
    "m3 = data.GetEuclideanData(data.MOZART_THEME, 8, 9)[0]\n",
    "m4 = data.GetEuclideanData(data.MOZART_THEME, 'all', 9)[0]\n",
    "m5 = data.GetEuclideanData(data.GOOSEY_GOOSEY_GANDER, 6, 3)[0]\n",
    "\n",
    "\n",
    "d1 = distances.dtwEuclidean(m1, m2)\n",
    "d2 = distances.dtwEuclidean(m1, m3)\n",
    "d3 = distances.dtwEuclidean(m2, m3)\n",
    "d4 = distances.dtwEuclidean(m1, m4 )\n",
    "d5 = distances.dtwEuclidean(m2, m4)\n",
    "d6 = distances.dtwEuclidean(m1, m5)\n",
    "d7 = distances.dtwEuclidean(m2, m5)\n",
    "\n",
    "d1, d2, d3, d4, d5, d6, d7"
   ],
   "metadata": {
    "collapsed": false,
    "pycharm": {
     "name": "#%% new Euclidean DTW\n"
    }
   }
  },
  {
   "cell_type": "code",
   "execution_count": 8,
   "outputs": [
    {
     "data": {
      "text/plain": "(6, 135, 140, 156, 165)"
     },
     "execution_count": 8,
     "metadata": {},
     "output_type": "execute_result"
    }
   ],
   "source": [
    "m1 = data.GetEuclideanData(data.SYAMALE_MEENAKSHI, 12, 5)[0]\n",
    "m2 = data.GetEuclideanData(data.PAHI_RAMACHANDRA, 12, 5)[0]\n",
    "m3 = data.GetEuclideanData(data.AH_VOUS_ORIGINAL, 9, 3)[0]\n",
    "m4 = data.GetEuclideanData(data.AH_VOUS_ORIGINAL, 'all')[0]\n",
    "\n",
    "\n",
    "d1 = distances.dtwEuclidean(m1, m2)\n",
    "d2 = distances.dtwEuclidean(m1, m3)\n",
    "d3 = distances.dtwEuclidean(m2, m3)\n",
    "d4 = distances.dtwEuclidean(m1, m4)\n",
    "d5 = distances.dtwEuclidean(m2, m4)\n",
    "\n",
    "d1, d2, d3, d4, d5\n",
    "\n"
   ],
   "metadata": {
    "collapsed": false,
    "pycharm": {
     "name": "#%% new Euclidean DTW\n"
    }
   }
  }
 ],
 "metadata": {
  "kernelspec": {
   "display_name": "Python 3",
   "language": "python",
   "name": "python3"
  },
  "language_info": {
   "codemirror_mode": {
    "name": "ipython",
    "version": 2
   },
   "file_extension": ".py",
   "mimetype": "text/x-python",
   "name": "python",
   "nbconvert_exporter": "python",
   "pygments_lexer": "ipython2",
   "version": "2.7.6"
  }
 },
 "nbformat": 4,
 "nbformat_minor": 0
}