{
 "cells": [
  {
   "cell_type": "code",
   "execution_count": 2,
   "metadata": {
    "collapsed": true
   },
   "outputs": [
    {
     "name": "stdout",
     "output_type": "stream",
     "text": [
      "Loading ETC codebase ... Done\n",
      "Loading LZ codebase ... Done\n"
     ]
    }
   ],
   "source": [
    "from utils import distances\n",
    "import data"
   ]
  },
  {
   "cell_type": "markdown",
   "source": [
    "## Notational Analysis\n",
    "\n",
    "We'll group Syamale Meenakshi and Pahi Ramachandra together and compare them n-measure-wise or n-beat-wise with the parallels(Goosey Goosey Gander(1784) and Ah! Vous Dirai-je, Maman(1785))"
   ],
   "metadata": {
    "collapsed": false,
    "pycharm": {
     "name": "#%% md\n"
    }
   }
  },
  {
   "cell_type": "code",
   "execution_count": 4,
   "outputs": [
    {
     "name": "stderr",
     "output_type": "stream",
     "text": [
      "warning: PYDEVD_USE_CYTHON environment variable is set to 'NO'. Frame evaluator will be also disabled because it requires Cython extensions to be enabled in order to operate correctly.\n"
     ]
    },
    {
     "ename": "KeyboardInterrupt",
     "evalue": "",
     "output_type": "error",
     "traceback": [
      "\u001B[0;31m---------------------------------------------------------------------------\u001B[0m",
      "\u001B[0;31mKeyboardInterrupt\u001B[0m                         Traceback (most recent call last)",
      "\u001B[0;32m<ipython-input-4-cdf9acf3d4de>\u001B[0m in \u001B[0;36m<module>\u001B[0;34m\u001B[0m\n\u001B[1;32m      6\u001B[0m \u001B[0mm5\u001B[0m \u001B[0;34m=\u001B[0m \u001B[0mdata\u001B[0m\u001B[0;34m.\u001B[0m\u001B[0mPruneRests\u001B[0m\u001B[0;34m(\u001B[0m\u001B[0mdata\u001B[0m\u001B[0;34m.\u001B[0m\u001B[0mGetNMeasuresAdjusted\u001B[0m\u001B[0;34m(\u001B[0m\u001B[0mdata\u001B[0m\u001B[0;34m.\u001B[0m\u001B[0mAH_VOUS_ORIGINAL\u001B[0m\u001B[0;34m,\u001B[0m \u001B[0;34m'all'\u001B[0m\u001B[0;34m)\u001B[0m\u001B[0;34m)\u001B[0m\u001B[0;34m\u001B[0m\u001B[0;34m\u001B[0m\u001B[0m\n\u001B[1;32m      7\u001B[0m \u001B[0;34m\u001B[0m\u001B[0m\n\u001B[0;32m----> 8\u001B[0;31m \u001B[0md1\u001B[0m \u001B[0;34m=\u001B[0m \u001B[0mdistances\u001B[0m\u001B[0;34m.\u001B[0m\u001B[0mdtwDist\u001B[0m\u001B[0;34m(\u001B[0m\u001B[0mm1\u001B[0m\u001B[0;34m,\u001B[0m \u001B[0mm2\u001B[0m\u001B[0;34m,\u001B[0m \u001B[0mlen\u001B[0m\u001B[0;34m(\u001B[0m\u001B[0mm1\u001B[0m\u001B[0;34m)\u001B[0m\u001B[0;34m,\u001B[0m \u001B[0mlen\u001B[0m\u001B[0;34m(\u001B[0m\u001B[0mm2\u001B[0m\u001B[0;34m)\u001B[0m\u001B[0;34m)\u001B[0m\u001B[0;34m\u001B[0m\u001B[0;34m\u001B[0m\u001B[0m\n\u001B[0m\u001B[1;32m      9\u001B[0m \u001B[0md2\u001B[0m \u001B[0;34m=\u001B[0m \u001B[0mdistances\u001B[0m\u001B[0;34m.\u001B[0m\u001B[0mdtwDist\u001B[0m\u001B[0;34m(\u001B[0m\u001B[0mm1\u001B[0m\u001B[0;34m,\u001B[0m \u001B[0mm3\u001B[0m\u001B[0;34m,\u001B[0m \u001B[0mlen\u001B[0m\u001B[0;34m(\u001B[0m\u001B[0mm1\u001B[0m\u001B[0;34m)\u001B[0m\u001B[0;34m,\u001B[0m \u001B[0mlen\u001B[0m\u001B[0;34m(\u001B[0m\u001B[0mm3\u001B[0m\u001B[0;34m)\u001B[0m\u001B[0;34m)\u001B[0m\u001B[0;34m\u001B[0m\u001B[0;34m\u001B[0m\u001B[0m\n\u001B[1;32m     10\u001B[0m \u001B[0md3\u001B[0m \u001B[0;34m=\u001B[0m \u001B[0mdistances\u001B[0m\u001B[0;34m.\u001B[0m\u001B[0mdtwDist\u001B[0m\u001B[0;34m(\u001B[0m\u001B[0mm2\u001B[0m\u001B[0;34m,\u001B[0m \u001B[0mm3\u001B[0m\u001B[0;34m,\u001B[0m \u001B[0mlen\u001B[0m\u001B[0;34m(\u001B[0m\u001B[0mm2\u001B[0m\u001B[0;34m)\u001B[0m\u001B[0;34m,\u001B[0m \u001B[0mlen\u001B[0m\u001B[0;34m(\u001B[0m\u001B[0mm3\u001B[0m\u001B[0;34m)\u001B[0m\u001B[0;34m)\u001B[0m\u001B[0;34m\u001B[0m\u001B[0;34m\u001B[0m\u001B[0m\n",
      "\u001B[0;32m~/PycharmProjects/notation-metrics/utils/distances.py\u001B[0m in \u001B[0;36mdtwDist\u001B[0;34m(X, Y, m, n)\u001B[0m\n\u001B[1;32m    111\u001B[0m \u001B[0;32mdef\u001B[0m \u001B[0mdtwDist\u001B[0m\u001B[0;34m(\u001B[0m\u001B[0mX\u001B[0m\u001B[0;34m,\u001B[0m \u001B[0mY\u001B[0m\u001B[0;34m,\u001B[0m \u001B[0mm\u001B[0m\u001B[0;34m,\u001B[0m \u001B[0mn\u001B[0m\u001B[0;34m)\u001B[0m\u001B[0;34m:\u001B[0m\u001B[0;34m\u001B[0m\u001B[0;34m\u001B[0m\u001B[0m\n\u001B[1;32m    112\u001B[0m     \u001B[0mdtw\u001B[0m \u001B[0;34m=\u001B[0m \u001B[0mnp\u001B[0m\u001B[0;34m.\u001B[0m\u001B[0mzeros\u001B[0m\u001B[0;34m(\u001B[0m\u001B[0;34m(\u001B[0m\u001B[0mm\u001B[0m \u001B[0;34m+\u001B[0m \u001B[0;36m1\u001B[0m\u001B[0;34m,\u001B[0m \u001B[0mn\u001B[0m \u001B[0;34m+\u001B[0m \u001B[0;36m1\u001B[0m\u001B[0;34m)\u001B[0m\u001B[0;34m,\u001B[0m \u001B[0mdtype\u001B[0m\u001B[0;34m=\u001B[0m\u001B[0;34m'int64'\u001B[0m\u001B[0;34m)\u001B[0m\u001B[0;34m\u001B[0m\u001B[0;34m\u001B[0m\u001B[0m\n\u001B[0;32m--> 113\u001B[0;31m     \u001B[0mC\u001B[0m \u001B[0;34m=\u001B[0m \u001B[0;34m[\u001B[0m\u001B[0;34m]\u001B[0m\u001B[0;34m\u001B[0m\u001B[0;34m\u001B[0m\u001B[0m\n\u001B[0m\u001B[1;32m    114\u001B[0m     \u001B[0;32mfor\u001B[0m \u001B[0mi\u001B[0m \u001B[0;32min\u001B[0m \u001B[0mrange\u001B[0m\u001B[0;34m(\u001B[0m\u001B[0mm\u001B[0m \u001B[0;34m+\u001B[0m \u001B[0;36m1\u001B[0m\u001B[0;34m)\u001B[0m\u001B[0;34m:\u001B[0m\u001B[0;34m\u001B[0m\u001B[0;34m\u001B[0m\u001B[0m\n\u001B[1;32m    115\u001B[0m         \u001B[0;32mfor\u001B[0m \u001B[0mj\u001B[0m \u001B[0;32min\u001B[0m \u001B[0mrange\u001B[0m\u001B[0;34m(\u001B[0m\u001B[0mn\u001B[0m \u001B[0;34m+\u001B[0m \u001B[0;36m1\u001B[0m\u001B[0;34m)\u001B[0m\u001B[0;34m:\u001B[0m\u001B[0;34m\u001B[0m\u001B[0;34m\u001B[0m\u001B[0m\n",
      "\u001B[0;32m~/PycharmProjects/notation-metrics/utils/distances.py\u001B[0m in \u001B[0;36mdtwDist\u001B[0;34m(X, Y, m, n)\u001B[0m\n\u001B[1;32m    111\u001B[0m \u001B[0;32mdef\u001B[0m \u001B[0mdtwDist\u001B[0m\u001B[0;34m(\u001B[0m\u001B[0mX\u001B[0m\u001B[0;34m,\u001B[0m \u001B[0mY\u001B[0m\u001B[0;34m,\u001B[0m \u001B[0mm\u001B[0m\u001B[0;34m,\u001B[0m \u001B[0mn\u001B[0m\u001B[0;34m)\u001B[0m\u001B[0;34m:\u001B[0m\u001B[0;34m\u001B[0m\u001B[0;34m\u001B[0m\u001B[0m\n\u001B[1;32m    112\u001B[0m     \u001B[0mdtw\u001B[0m \u001B[0;34m=\u001B[0m \u001B[0mnp\u001B[0m\u001B[0;34m.\u001B[0m\u001B[0mzeros\u001B[0m\u001B[0;34m(\u001B[0m\u001B[0;34m(\u001B[0m\u001B[0mm\u001B[0m \u001B[0;34m+\u001B[0m \u001B[0;36m1\u001B[0m\u001B[0;34m,\u001B[0m \u001B[0mn\u001B[0m \u001B[0;34m+\u001B[0m \u001B[0;36m1\u001B[0m\u001B[0;34m)\u001B[0m\u001B[0;34m,\u001B[0m \u001B[0mdtype\u001B[0m\u001B[0;34m=\u001B[0m\u001B[0;34m'int64'\u001B[0m\u001B[0;34m)\u001B[0m\u001B[0;34m\u001B[0m\u001B[0;34m\u001B[0m\u001B[0m\n\u001B[0;32m--> 113\u001B[0;31m     \u001B[0mC\u001B[0m \u001B[0;34m=\u001B[0m \u001B[0;34m[\u001B[0m\u001B[0;34m]\u001B[0m\u001B[0;34m\u001B[0m\u001B[0;34m\u001B[0m\u001B[0m\n\u001B[0m\u001B[1;32m    114\u001B[0m     \u001B[0;32mfor\u001B[0m \u001B[0mi\u001B[0m \u001B[0;32min\u001B[0m \u001B[0mrange\u001B[0m\u001B[0;34m(\u001B[0m\u001B[0mm\u001B[0m \u001B[0;34m+\u001B[0m \u001B[0;36m1\u001B[0m\u001B[0;34m)\u001B[0m\u001B[0;34m:\u001B[0m\u001B[0;34m\u001B[0m\u001B[0;34m\u001B[0m\u001B[0m\n\u001B[1;32m    115\u001B[0m         \u001B[0;32mfor\u001B[0m \u001B[0mj\u001B[0m \u001B[0;32min\u001B[0m \u001B[0mrange\u001B[0m\u001B[0;34m(\u001B[0m\u001B[0mn\u001B[0m \u001B[0;34m+\u001B[0m \u001B[0;36m1\u001B[0m\u001B[0;34m)\u001B[0m\u001B[0;34m:\u001B[0m\u001B[0;34m\u001B[0m\u001B[0;34m\u001B[0m\u001B[0m\n",
      "\u001B[0;32m~/.local/share/JetBrains/Toolbox/apps/PyCharm-P/ch-0/203.6682.179/plugins/python/helpers/pydev/_pydevd_bundle/pydevd_frame.py\u001B[0m in \u001B[0;36mtrace_dispatch\u001B[0;34m(self, frame, event, arg)\u001B[0m\n\u001B[1;32m    745\u001B[0m                 \u001B[0;31m# if thread has a suspend flag, we suspend with a busy wait\u001B[0m\u001B[0;34m\u001B[0m\u001B[0;34m\u001B[0m\u001B[0;34m\u001B[0m\u001B[0m\n\u001B[1;32m    746\u001B[0m                 \u001B[0;32mif\u001B[0m \u001B[0minfo\u001B[0m\u001B[0;34m.\u001B[0m\u001B[0mpydev_state\u001B[0m \u001B[0;34m==\u001B[0m \u001B[0mSTATE_SUSPEND\u001B[0m\u001B[0;34m:\u001B[0m\u001B[0;34m\u001B[0m\u001B[0;34m\u001B[0m\u001B[0m\n\u001B[0;32m--> 747\u001B[0;31m                     \u001B[0mself\u001B[0m\u001B[0;34m.\u001B[0m\u001B[0mdo_wait_suspend\u001B[0m\u001B[0;34m(\u001B[0m\u001B[0mthread\u001B[0m\u001B[0;34m,\u001B[0m \u001B[0mframe\u001B[0m\u001B[0;34m,\u001B[0m \u001B[0mevent\u001B[0m\u001B[0;34m,\u001B[0m \u001B[0marg\u001B[0m\u001B[0;34m)\u001B[0m\u001B[0;34m\u001B[0m\u001B[0;34m\u001B[0m\u001B[0m\n\u001B[0m\u001B[1;32m    748\u001B[0m                     \u001B[0;31m# No need to reset frame.f_trace to keep the same trace function.\u001B[0m\u001B[0;34m\u001B[0m\u001B[0;34m\u001B[0m\u001B[0;34m\u001B[0m\u001B[0m\n\u001B[1;32m    749\u001B[0m                     \u001B[0;32mreturn\u001B[0m \u001B[0mself\u001B[0m\u001B[0;34m.\u001B[0m\u001B[0mtrace_dispatch\u001B[0m\u001B[0;34m\u001B[0m\u001B[0;34m\u001B[0m\u001B[0m\n",
      "\u001B[0;32m~/.local/share/JetBrains/Toolbox/apps/PyCharm-P/ch-0/203.6682.179/plugins/python/helpers/pydev/_pydevd_bundle/pydevd_frame.py\u001B[0m in \u001B[0;36mdo_wait_suspend\u001B[0;34m(self, *args, **kwargs)\u001B[0m\n\u001B[1;32m    142\u001B[0m \u001B[0;34m\u001B[0m\u001B[0m\n\u001B[1;32m    143\u001B[0m     \u001B[0;32mdef\u001B[0m \u001B[0mdo_wait_suspend\u001B[0m\u001B[0;34m(\u001B[0m\u001B[0mself\u001B[0m\u001B[0;34m,\u001B[0m \u001B[0;34m*\u001B[0m\u001B[0margs\u001B[0m\u001B[0;34m,\u001B[0m \u001B[0;34m**\u001B[0m\u001B[0mkwargs\u001B[0m\u001B[0;34m)\u001B[0m\u001B[0;34m:\u001B[0m\u001B[0;34m\u001B[0m\u001B[0;34m\u001B[0m\u001B[0m\n\u001B[0;32m--> 144\u001B[0;31m         \u001B[0mself\u001B[0m\u001B[0;34m.\u001B[0m\u001B[0m_args\u001B[0m\u001B[0;34m[\u001B[0m\u001B[0;36m0\u001B[0m\u001B[0;34m]\u001B[0m\u001B[0;34m.\u001B[0m\u001B[0mdo_wait_suspend\u001B[0m\u001B[0;34m(\u001B[0m\u001B[0;34m*\u001B[0m\u001B[0margs\u001B[0m\u001B[0;34m,\u001B[0m \u001B[0;34m**\u001B[0m\u001B[0mkwargs\u001B[0m\u001B[0;34m)\u001B[0m\u001B[0;34m\u001B[0m\u001B[0;34m\u001B[0m\u001B[0m\n\u001B[0m\u001B[1;32m    145\u001B[0m \u001B[0;34m\u001B[0m\u001B[0m\n\u001B[1;32m    146\u001B[0m     \u001B[0;31m# IFDEF CYTHON\u001B[0m\u001B[0;34m\u001B[0m\u001B[0;34m\u001B[0m\u001B[0;34m\u001B[0m\u001B[0m\n",
      "\u001B[0;32m~/.local/share/JetBrains/Toolbox/apps/PyCharm-P/ch-0/203.6682.179/plugins/python/helpers/pydev/pydevd.py\u001B[0m in \u001B[0;36mdo_wait_suspend\u001B[0;34m(self, thread, frame, event, arg, send_suspend_message, is_unhandled_exception)\u001B[0m\n\u001B[1;32m   1139\u001B[0m \u001B[0;34m\u001B[0m\u001B[0m\n\u001B[1;32m   1140\u001B[0m         \u001B[0;32mwith\u001B[0m \u001B[0mself\u001B[0m\u001B[0;34m.\u001B[0m\u001B[0m_threads_suspended_single_notification\u001B[0m\u001B[0;34m.\u001B[0m\u001B[0mnotify_thread_suspended\u001B[0m\u001B[0;34m(\u001B[0m\u001B[0mthread_id\u001B[0m\u001B[0;34m,\u001B[0m \u001B[0mstop_reason\u001B[0m\u001B[0;34m)\u001B[0m\u001B[0;34m:\u001B[0m\u001B[0;34m\u001B[0m\u001B[0;34m\u001B[0m\u001B[0m\n\u001B[0;32m-> 1141\u001B[0;31m             \u001B[0mself\u001B[0m\u001B[0;34m.\u001B[0m\u001B[0m_do_wait_suspend\u001B[0m\u001B[0;34m(\u001B[0m\u001B[0mthread\u001B[0m\u001B[0;34m,\u001B[0m \u001B[0mframe\u001B[0m\u001B[0;34m,\u001B[0m \u001B[0mevent\u001B[0m\u001B[0;34m,\u001B[0m \u001B[0marg\u001B[0m\u001B[0;34m,\u001B[0m \u001B[0msuspend_type\u001B[0m\u001B[0;34m,\u001B[0m \u001B[0mfrom_this_thread\u001B[0m\u001B[0;34m)\u001B[0m\u001B[0;34m\u001B[0m\u001B[0;34m\u001B[0m\u001B[0m\n\u001B[0m\u001B[1;32m   1142\u001B[0m \u001B[0;34m\u001B[0m\u001B[0m\n\u001B[1;32m   1143\u001B[0m     \u001B[0;32mdef\u001B[0m \u001B[0m_do_wait_suspend\u001B[0m\u001B[0;34m(\u001B[0m\u001B[0mself\u001B[0m\u001B[0;34m,\u001B[0m \u001B[0mthread\u001B[0m\u001B[0;34m,\u001B[0m \u001B[0mframe\u001B[0m\u001B[0;34m,\u001B[0m \u001B[0mevent\u001B[0m\u001B[0;34m,\u001B[0m \u001B[0marg\u001B[0m\u001B[0;34m,\u001B[0m \u001B[0msuspend_type\u001B[0m\u001B[0;34m,\u001B[0m \u001B[0mfrom_this_thread\u001B[0m\u001B[0;34m)\u001B[0m\u001B[0;34m:\u001B[0m\u001B[0;34m\u001B[0m\u001B[0;34m\u001B[0m\u001B[0m\n",
      "\u001B[0;32m~/.local/share/JetBrains/Toolbox/apps/PyCharm-P/ch-0/203.6682.179/plugins/python/helpers/pydev/pydevd.py\u001B[0m in \u001B[0;36m_do_wait_suspend\u001B[0;34m(self, thread, frame, event, arg, suspend_type, from_this_thread)\u001B[0m\n\u001B[1;32m   1154\u001B[0m \u001B[0;34m\u001B[0m\u001B[0m\n\u001B[1;32m   1155\u001B[0m                 \u001B[0mself\u001B[0m\u001B[0;34m.\u001B[0m\u001B[0mprocess_internal_commands\u001B[0m\u001B[0;34m(\u001B[0m\u001B[0;34m)\u001B[0m\u001B[0;34m\u001B[0m\u001B[0;34m\u001B[0m\u001B[0m\n\u001B[0;32m-> 1156\u001B[0;31m                 \u001B[0mtime\u001B[0m\u001B[0;34m.\u001B[0m\u001B[0msleep\u001B[0m\u001B[0;34m(\u001B[0m\u001B[0;36m0.01\u001B[0m\u001B[0;34m)\u001B[0m\u001B[0;34m\u001B[0m\u001B[0;34m\u001B[0m\u001B[0m\n\u001B[0m\u001B[1;32m   1157\u001B[0m \u001B[0;34m\u001B[0m\u001B[0m\n\u001B[1;32m   1158\u001B[0m         \u001B[0mself\u001B[0m\u001B[0;34m.\u001B[0m\u001B[0mcancel_async_evaluation\u001B[0m\u001B[0;34m(\u001B[0m\u001B[0mget_current_thread_id\u001B[0m\u001B[0;34m(\u001B[0m\u001B[0mthread\u001B[0m\u001B[0;34m)\u001B[0m\u001B[0;34m,\u001B[0m \u001B[0mstr\u001B[0m\u001B[0;34m(\u001B[0m\u001B[0mid\u001B[0m\u001B[0;34m(\u001B[0m\u001B[0mframe\u001B[0m\u001B[0;34m)\u001B[0m\u001B[0;34m)\u001B[0m\u001B[0;34m)\u001B[0m\u001B[0;34m\u001B[0m\u001B[0;34m\u001B[0m\u001B[0m\n",
      "\u001B[0;31mKeyboardInterrupt\u001B[0m: "
     ]
    }
   ],
   "source": [
    "m1 = data.PruneRests(data.GetNMeasuresAdjusted(data.SYAMALE_MEENAKSHI, 'all'))\n",
    "m2 = data.PruneRests(data.GetNMeasuresAdjusted(data.PAHI_RAMACHANDRA, 'all'))\n",
    "m3 = data.PruneRests(data.GetNMeasuresAdjusted(data.GOOSEY_GOOSEY_GANDER, 'all'))\n",
    "m4 = data.PruneRests(data.GetNMeasuresAdjusted(data.MOZART_THEME, 'all'))\n",
    "m5 = data.PruneRests(data.GetNMeasuresAdjusted(data.AH_VOUS_ORIGINAL, 'all'))\n",
    "\n",
    "d1 = distances.dtwDist(m1, m2, len(m1), len(m2))\n",
    "d2 = distances.dtwDist(m1, m3, len(m1), len(m3))\n",
    "d3 = distances.dtwDist(m2, m3, len(m2), len(m3))\n",
    "d4 = distances.dtwDist(m1, m4, len(m1), len(m4))\n",
    "d5 = distances.dtwDist(m2, m4, len(m2), len(m4))\n",
    "d6 = distances.dtwDist(m1, m5, len(m1), len(m5))\n",
    "d7 = distances.dtwDist(m2, m5, len(m2), len(m5))\n",
    "d1, d2, d3, d4, d5, d6, d7"
   ],
   "metadata": {
    "collapsed": false,
    "pycharm": {
     "name": "#%%\n"
    }
   }
  },
  {
   "cell_type": "code",
   "execution_count": 7,
   "outputs": [
    {
     "data": {
      "text/plain": "(5, 45, 42, 121, 120, 69, 66)"
     },
     "execution_count": 7,
     "metadata": {},
     "output_type": "execute_result"
    }
   ],
   "source": [
    "m1 = data.PruneRests(data.GetNMeasuresAdjusted(data.SYAMALE_MEENAKSHI, 4, 1))\n",
    "m2 = data.PruneRests(data.GetNMeasuresAdjusted(data.PAHI_RAMACHANDRA, 4, 1))\n",
    "m3 = data.PruneRests(data.GetNMeasuresAdjusted(data.GOOSEY_GOOSEY_GANDER, 2, 1))\n",
    "m4 = data.PruneRests(data.GetNMeasuresAdjusted(data.MOZART_THEME, 8, 1))\n",
    "m5 = data.PruneRests(data.GetNMeasuresAdjusted(data.AH_VOUS_ORIGINAL, 2, 1))\n",
    "\n",
    "d1 = distances.dtwDistSymbolic(m1, m2, len(m1), len(m2))\n",
    "d2 = distances.dtwDistSymbolic(m1, m3, len(m1), len(m3))\n",
    "d3 = distances.dtwDistSymbolic(m2, m3, len(m2), len(m3))\n",
    "d4 = distances.dtwDistSymbolic(m1, m4, len(m1), len(m4))\n",
    "d5 = distances.dtwDistSymbolic(m2, m4, len(m2), len(m4))\n",
    "d6 = distances.dtwDistSymbolic(m1, m5, len(m1), len(m5))\n",
    "d7 = distances.dtwDistSymbolic(m2, m5, len(m2), len(m5))\n",
    "\n",
    "\n",
    "d1, d2, d3, d4, d5, d6, d7"
   ],
   "metadata": {
    "collapsed": false,
    "pycharm": {
     "name": "#%%\n"
    }
   }
  },
  {
   "cell_type": "code",
   "execution_count": 3,
   "outputs": [
    {
     "data": {
      "text/plain": "(1, 18, 17, 34, 32, 24, 23)"
     },
     "execution_count": 3,
     "metadata": {},
     "output_type": "execute_result"
    }
   ],
   "source": [
    "m1 = data.GetEuclideanData(data.SYAMALE_MEENAKSHI, 4, 1)[0]\n",
    "m2 = data.GetEuclideanData(data.PAHI_RAMACHANDRA, 4, 1)[0]\n",
    "m3 = data.GetEuclideanData(data.GOOSEY_GOOSEY_GANDER, 2, 1)[0]\n",
    "m4 = data.GetEuclideanData(data.MOZART_THEME, 8, 1)[0]\n",
    "m5 = data.GetEuclideanData(data.AH_VOUS_ORIGINAL, 2, 1)[0]\n",
    "\n",
    "d1 = distances.dtwEuclidean(m1, m2, len(m1), len(m2))\n",
    "d2 = distances.dtwEuclidean(m1, m3, len(m1), len(m3))\n",
    "d3 = distances.dtwEuclidean(m2, m3, len(m2), len(m3))\n",
    "d4 = distances.dtwEuclidean(m1, m4, len(m1), len(m4))\n",
    "d5 = distances.dtwEuclidean(m2, m4, len(m2), len(m4))\n",
    "d6 = distances.dtwEuclidean(m1, m5, len(m1), len(m5))\n",
    "d7 = distances.dtwEuclidean(m2, m5, len(m2), len(m5))\n",
    "\n",
    "d1, d2, d3, d4, d5, d6, d7"
   ],
   "metadata": {
    "collapsed": false,
    "pycharm": {
     "name": "#%% New Euclidean DTW\n"
    }
   }
  },
  {
   "cell_type": "code",
   "execution_count": 10,
   "outputs": [
    {
     "data": {
      "text/plain": "(14, 195, 207, 228, 232)"
     },
     "execution_count": 10,
     "metadata": {},
     "output_type": "execute_result"
    }
   ],
   "source": [
    "m1 = data.GetNMeasuresAdjusted(data.SYAMALE_MEENAKSHI, 12, 5)\n",
    "m2 = data.GetNMeasuresAdjusted(data.PAHI_RAMACHANDRA, 12, 5)\n",
    "m3 = data.PruneRests(data.GetNMeasuresAdjusted(data.MOZART_THEME, 8, 9))\n",
    "m4 = data.PruneRests(data.GetNMeasuresAdjusted(data.GOOSEY_GOOSEY_GANDER, 6, 3))\n",
    "m5 = data.PruneRests(data.GetNMeasuresAdjusted(data.MOZART_THEME, 'all', 9))\n",
    "\n",
    "\n",
    "d1 = distances.dtwDistSymbolic(m1, m2, len(m1), len(m2))\n",
    "d2 = distances.dtwDistSymbolic(m1, m3, len(m1), len(m3))\n",
    "d3 = distances.dtwDistSymbolic(m2, m3, len(m2), len(m3))\n",
    "d4 = distances.dtwDistSymbolic(m1, m4, len(m1), len(m4))\n",
    "d5 = distances.dtwDistSymbolic(m2, m4, len(m2), len(m4))\n",
    "\n",
    "d1, d2, d3, d4, d5"
   ],
   "metadata": {
    "collapsed": false,
    "pycharm": {
     "name": "#%%\n"
    }
   }
  },
  {
   "cell_type": "code",
   "execution_count": 11,
   "outputs": [
    {
     "data": {
      "text/plain": "(14, 174, 170, 252, 230)"
     },
     "execution_count": 11,
     "metadata": {},
     "output_type": "execute_result"
    }
   ],
   "source": [
    "m1 = data.GetNMeasuresAdjusted(data.SYAMALE_MEENAKSHI, 12, 5)\n",
    "m2 = data.GetNMeasuresAdjusted(data.PAHI_RAMACHANDRA, 12, 5)\n",
    "m3 = data.PruneRests(data.GetNMeasuresAdjusted(data.AH_VOUS_ORIGINAL, 9, 3))\n",
    "m4 = data.PruneRests(data.GetNMeasuresAdjusted(data.AH_VOUS_ORIGINAL, 'all'))\n",
    "\n",
    "\n",
    "d1 = distances.dtwDistSymbolic(m1, m2, len(m1), len(m2))\n",
    "d2 = distances.dtwDistSymbolic(m1, m3, len(m1), len(m3))\n",
    "d3 = distances.dtwDistSymbolic(m2, m3, len(m2), len(m3))\n",
    "d4 = distances.dtwDistSymbolic(m1, m4, len(m1), len(m4))\n",
    "d5 = distances.dtwDistSymbolic(m2, m4, len(m2), len(m4))\n",
    "\n",
    "d1, d2, d3, d4, d5"
   ],
   "metadata": {
    "collapsed": false,
    "pycharm": {
     "name": "#%%\n"
    }
   }
  },
  {
   "cell_type": "code",
   "execution_count": 4,
   "outputs": [
    {
     "data": {
      "text/plain": "(6, 76, 86, 147, 157, 213, 231)"
     },
     "execution_count": 4,
     "metadata": {},
     "output_type": "execute_result"
    }
   ],
   "source": [
    "m1 = data.GetEuclideanData(data.SYAMALE_MEENAKSHI, 12, 5)[0]\n",
    "m2 = data.GetEuclideanData(data.PAHI_RAMACHANDRA, 12, 5)[0]\n",
    "m3 = data.GetEuclideanData(data.MOZART_THEME, 8, 9)[0]\n",
    "m4 = data.GetEuclideanData(data.MOZART_THEME, 'all', 9)[0]\n",
    "m5 = data.GetEuclideanData(data.GOOSEY_GOOSEY_GANDER, 6, 3)[0]\n",
    "\n",
    "\n",
    "d1 = distances.dtwEuclidean(m1, m2, len(m1), len(m2))\n",
    "d2 = distances.dtwEuclidean(m1, m3, len(m1), len(m3))\n",
    "d3 = distances.dtwEuclidean(m2, m3, len(m2), len(m3))\n",
    "d4 = distances.dtwEuclidean(m1, m4, len(m1), len(m4))\n",
    "d5 = distances.dtwEuclidean(m2, m4, len(m2), len(m4))\n",
    "d6 = distances.dtwEuclidean(m1, m5, len(m1), len(m5))\n",
    "d7 = distances.dtwEuclidean(m2, m5, len(m2), len(m5))\n",
    "\n",
    "d1, d2, d3, d4, d5, d6, d7"
   ],
   "metadata": {
    "collapsed": false,
    "pycharm": {
     "name": "#%% new Euclidean DTW\n"
    }
   }
  },
  {
   "cell_type": "code",
   "execution_count": 6,
   "outputs": [
    {
     "data": {
      "text/plain": "(6, 135, 140, 156, 165)"
     },
     "execution_count": 6,
     "metadata": {},
     "output_type": "execute_result"
    }
   ],
   "source": [
    "m1 = data.GetEuclideanData(data.SYAMALE_MEENAKSHI, 12, 5)[0]\n",
    "m2 = data.GetEuclideanData(data.PAHI_RAMACHANDRA, 12, 5)[0]\n",
    "m3 = data.GetEuclideanData(data.AH_VOUS_ORIGINAL, 9, 3)[0]\n",
    "m4 = data.GetEuclideanData(data.AH_VOUS_ORIGINAL, 'all')[0]\n",
    "\n",
    "\n",
    "d1 = distances.dtwEuclidean(m1, m2, len(m1), len(m2))\n",
    "d2 = distances.dtwEuclidean(m1, m3, len(m1), len(m3))\n",
    "d3 = distances.dtwEuclidean(m2, m3, len(m2), len(m3))\n",
    "d4 = distances.dtwEuclidean(m1, m4, len(m1), len(m4))\n",
    "d5 = distances.dtwEuclidean(m2, m4, len(m2), len(m4))\n",
    "\n",
    "d1, d2, d3, d4, d5\n",
    "\n"
   ],
   "metadata": {
    "collapsed": false,
    "pycharm": {
     "name": "#%% new Euclidean DTW\n"
    }
   }
  }
 ],
 "metadata": {
  "kernelspec": {
   "display_name": "Python 3",
   "language": "python",
   "name": "python3"
  },
  "language_info": {
   "codemirror_mode": {
    "name": "ipython",
    "version": 2
   },
   "file_extension": ".py",
   "mimetype": "text/x-python",
   "name": "python",
   "nbconvert_exporter": "python",
   "pygments_lexer": "ipython2",
   "version": "2.7.6"
  }
 },
 "nbformat": 4,
 "nbformat_minor": 0
}