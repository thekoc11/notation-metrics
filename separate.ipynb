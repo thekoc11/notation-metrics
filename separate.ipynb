{
 "cells": [
  {
   "cell_type": "code",
   "execution_count": 1,
   "metadata": {
    "collapsed": true
   },
   "outputs": [
    {
     "name": "stdout",
     "output_type": "stream",
     "text": [
      "Loading ETC codebase ... Done\n",
      "Loading LZ codebase ... Done\n"
     ]
    }
   ],
   "source": [
    "from utils import distances\n",
    "import data"
   ]
  },
  {
   "cell_type": "markdown",
   "source": [
    "## Notational Analysis\n",
    "\n",
    "We'll group Syamale Meenakshi and Pahi Ramachandra together and compare them n-measure-wise or n-beat-wise with the parallels(Goosey Goosey Gander(1784) and Ah! Vous Dirai-je, Maman(1785))"
   ],
   "metadata": {
    "collapsed": false,
    "pycharm": {
     "name": "#%% md\n"
    }
   }
  },
  {
   "cell_type": "code",
   "execution_count": 3,
   "outputs": [
    {
     "data": {
      "text/plain": "(33, 613, 628, 555, 569, 548, 580)"
     },
     "execution_count": 3,
     "metadata": {},
     "output_type": "execute_result"
    }
   ],
   "source": [
    "m1 = data.PruneRests(data.GetNMeasuresAdjusted(data.SYAMALE_MEENAKSHI, 'all'))\n",
    "m2 = data.PruneRests(data.GetNMeasuresAdjusted(data.PAHI_RAMACHANDRA, 'all'))\n",
    "m3 = data.PruneRests(data.GetNMeasuresAdjusted(data.GOOSEY_GOOSEY_GANDER, 'all'))\n",
    "m4 = data.PruneRests(data.GetNMeasuresAdjusted(data.MOZART_THEME, 'all'))\n",
    "m5 = data.PruneRests(data.GetNMeasuresAdjusted(data.AH_VOUS_ORIGINAL, 'all'))\n",
    "\n",
    "d1 = distances.dtwDist(m1, m2, len(m1), len(m2))\n",
    "d2 = distances.dtwDist(m1, m3, len(m1), len(m3))\n",
    "d3 = distances.dtwDist(m2, m3, len(m2), len(m3))\n",
    "d4 = distances.dtwDist(m1, m4, len(m1), len(m4))\n",
    "d5 = distances.dtwDist(m2, m4, len(m2), len(m4))\n",
    "d6 = distances.dtwDist(m1, m5, len(m1), len(m5))\n",
    "d7 = distances.dtwDist(m2, m5, len(m2), len(m5))\n",
    "d1, d2, d3, d4, d5, d6, d7"
   ],
   "metadata": {
    "collapsed": false,
    "pycharm": {
     "name": "#%%\n"
    }
   }
  },
  {
   "cell_type": "code",
   "execution_count": 2,
   "outputs": [
    {
     "data": {
      "text/plain": "(5, 73, 66, 370, 354)"
     },
     "execution_count": 2,
     "metadata": {},
     "output_type": "execute_result"
    }
   ],
   "source": [
    "m1 = data.PruneRests(data.GetNMeasuresAdjusted(data.SYAMALE_MEENAKSHI, 4, 1))\n",
    "m2 = data.PruneRests(data.GetNMeasuresAdjusted(data.PAHI_RAMACHANDRA, 4, 1))\n",
    "m3 = data.PruneRests(data.GetNMeasuresAdjusted(data.GOOSEY_GOOSEY_GANDER, 2, 1))\n",
    "m4 = data.PruneRests(data.GetNMeasuresAdjusted(data.MOZART_THEME, 8, 1))\n",
    "\n",
    "d1 = distances.dtwDist(m1, m2, len(m1), len(m2))\n",
    "d2 = distances.dtwDist(m1, m3, len(m1), len(m3))\n",
    "d3 = distances.dtwDist(m2, m3, len(m2), len(m3))\n",
    "d4 = distances.dtwDist(m1, m4, len(m1), len(m4))\n",
    "d5 = distances.dtwDist(m2, m4, len(m2), len(m4))\n",
    "\n",
    "d1, d2, d3, d4, d5"
   ],
   "metadata": {
    "collapsed": false,
    "pycharm": {
     "name": "#%%\n"
    }
   }
  },
  {
   "cell_type": "code",
   "execution_count": 3,
   "outputs": [
    {
     "data": {
      "text/plain": "(28, 487, 551, 563, 593)"
     },
     "execution_count": 3,
     "metadata": {},
     "output_type": "execute_result"
    }
   ],
   "source": [
    "m1 = data.GetNMeasuresAdjusted(data.SYAMALE_MEENAKSHI, 12, 5)\n",
    "m2 = data.GetNMeasuresAdjusted(data.PAHI_RAMACHANDRA, 12, 5)\n",
    "m3 = data.PruneRests(data.GetNMeasuresAdjusted(data.MOZART_THEME, 8, 9))\n",
    "m4 = data.PruneRests(data.GetNMeasuresAdjusted(data.MOZART_THEME, 'all', 9))\n",
    "\n",
    "\n",
    "d1 = distances.dtwDist(m1, m2, len(m1), len(m2))\n",
    "d2 = distances.dtwDist(m1, m3, len(m1), len(m3))\n",
    "d3 = distances.dtwDist(m2, m3, len(m2), len(m3))\n",
    "d4 = distances.dtwDist(m1, m4, len(m1), len(m4))\n",
    "d5 = distances.dtwDist(m2, m4, len(m2), len(m4))\n",
    "\n",
    "d1, d2, d3, d4, d5"
   ],
   "metadata": {
    "collapsed": false,
    "pycharm": {
     "name": "#%%\n"
    }
   }
  },
  {
   "cell_type": "code",
   "execution_count": 3,
   "outputs": [
    {
     "data": {
      "text/plain": "(28, 563, 593)"
     },
     "execution_count": 3,
     "metadata": {},
     "output_type": "execute_result"
    }
   ],
   "source": [
    "d1, d2, d3"
   ],
   "metadata": {
    "collapsed": false,
    "pycharm": {
     "name": "#%%\n"
    }
   }
  }
 ],
 "metadata": {
  "kernelspec": {
   "display_name": "Python 3",
   "language": "python",
   "name": "python3"
  },
  "language_info": {
   "codemirror_mode": {
    "name": "ipython",
    "version": 2
   },
   "file_extension": ".py",
   "mimetype": "text/x-python",
   "name": "python",
   "nbconvert_exporter": "python",
   "pygments_lexer": "ipython2",
   "version": "2.7.6"
  }
 },
 "nbformat": 4,
 "nbformat_minor": 0
}