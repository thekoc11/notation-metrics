{
 "cells": [
  {
   "cell_type": "markdown",
   "source": [
    "# Deprecated File Please DO NOT USE!!"
   ],
   "metadata": {
    "collapsed": false,
    "pycharm": {
     "name": "#%% md\n"
    }
   }
  },
  {
   "cell_type": "code",
   "execution_count": 1,
   "metadata": {
    "collapsed": true
   },
   "outputs": [],
   "source": [
    "\n",
    "import pandas as pd\n",
    "import data\n",
    "from utils import distances, draw\n",
    "import numpy as np"
   ]
  },
  {
   "cell_type": "code",
   "execution_count": 2,
   "outputs": [],
   "source": [
    "df = pd.read_csv(\"/home/abhisheknandekar/devadva-parsed.txt\")\n",
    "df_filtered1 = df[df[\" Note\"] < 99999]\n",
    "\n",
    "df = pd.read_csv(\"/home/abhisheknandekar/meru-samana-parsed.txt\")\n",
    "df_filtered2 = df[df[\" Note\"] < 99999]\n",
    "\n",
    "df = pd.read_csv(\"/home/abhisheknandekar/ksheerasagara-parsed.txt\")\n",
    "df_filtered3 = df[df[\" Note\"] < 99999]\n",
    "\n",
    "df = pd.read_csv(\"/home/abhisheknandekar/mayateetha-parsed.txt\")\n",
    "df_filtered4 = df[df[\" Note\"] < 99999]\n",
    "\n",
    "df = pd.read_csv(\"/home/abhisheknandekar/padumanabha-parsed.txt\")\n",
    "df_filtered5 = df[df[\" Note\"] < 99999]\n",
    "\n",
    "df = pd.read_csv(\"/home/abhisheknandekar/pancamatanga-parsed.txt\")\n",
    "df_filtered6 = df[df[\" Note\"] < 99999]\n",
    "\n",
    "df = pd.read_csv(\"/home/abhisheknandekar/vidulaku-parsed.txt\")\n",
    "df_filtered7 = df[df[\" Note\"] < 99999]\n",
    "\n",
    "df = pd.read_csv(\"/home/abhisheknandekar/sree_gananatha-parsed.txt\")\n",
    "df_filtered8 = df[df[\" Note\"] < 99999]\n",
    "\n",
    "song_coords1 = []\n",
    "for i in range(len(df_filtered1)):\n",
    "    song_coords1.append((df_filtered1.iloc[i, 0], df_filtered1.iloc[i, 1], df_filtered1.iloc[i, 2]))\n",
    "\n",
    "\n",
    "song_coords2 = []\n",
    "for i in range(len(df_filtered2)):\n",
    "    song_coords2.append((df_filtered2.iloc[i, 0], df_filtered2.iloc[i, 1], df_filtered2.iloc[i, 2]))\n",
    "\n",
    "\n",
    "song_coords3 = []\n",
    "for i in range(len(df_filtered3)):\n",
    "    song_coords3.append((df_filtered3.iloc[i, 0], df_filtered3.iloc[i, 1], df_filtered3.iloc[i, 2]))\n",
    "\n",
    "\n",
    "song_coords4 = []\n",
    "for i in range(len(df_filtered4)):\n",
    "    song_coords4.append((df_filtered4.iloc[i, 0], df_filtered4.iloc[i, 1], df_filtered4.iloc[i, 2]))\n",
    "\n",
    "\n",
    "song_coords5 = []\n",
    "for i in range(len(df_filtered5)):\n",
    "    song_coords5.append((df_filtered5.iloc[i, 0], df_filtered5.iloc[i, 1], df_filtered5.iloc[i, 2]))\n",
    "\n",
    "\n",
    "song_coords6 = []\n",
    "for i in range(len(df_filtered6)):\n",
    "    song_coords6.append((df_filtered6.iloc[i, 0], df_filtered6.iloc[i, 1], df_filtered6.iloc[i, 2]))\n",
    "\n",
    "\n",
    "song_coords7 = []\n",
    "for i in range(len(df_filtered7)):\n",
    "    song_coords7.append((df_filtered7.iloc[i, 0], df_filtered7.iloc[i, 1], df_filtered7.iloc[i, 2]))\n",
    "\n",
    "\n",
    "song_coords8 = []\n",
    "for i in range(len(df_filtered8)):\n",
    "    song_coords8.append((df_filtered8.iloc[i, 0], df_filtered8.iloc[i, 1], df_filtered8.iloc[i, 2]))"
   ],
   "metadata": {
    "collapsed": false,
    "pycharm": {
     "name": "#%%\n"
    }
   }
  },
  {
   "cell_type": "code",
   "execution_count": 3,
   "outputs": [],
   "source": [
    "song_coords1 = data.GetAdjustedMelody(song_coords1)\n",
    "song_coords2 = data.GetAdjustedMelody(song_coords2)\n",
    "song_coords3 = data.GetAdjustedMelody(song_coords3)\n",
    "song_coords4 = data.GetAdjustedMelody(song_coords4)\n",
    "song_coords5 = data.GetAdjustedMelody(song_coords5)\n",
    "song_coords6 = data.GetAdjustedMelody(song_coords6)\n",
    "song_coords7 = data.GetAdjustedMelody(song_coords7)\n",
    "song_coords8 = data.GetAdjustedMelody(song_coords8)"
   ],
   "metadata": {
    "collapsed": false,
    "pycharm": {
     "name": "#%%\n"
    }
   }
  },
  {
   "cell_type": "code",
   "execution_count": 4,
   "outputs": [],
   "source": [
    "dists = distances.GetCausalityMetrics([song_coords1, song_coords2, song_coords3, song_coords4, song_coords5, song_coords6, song_coords7, song_coords8])"
   ],
   "metadata": {
    "collapsed": false,
    "pycharm": {
     "name": "#%%\n"
    }
   }
  },
  {
   "cell_type": "code",
   "execution_count": 5,
   "outputs": [
    {
     "name": "stdout",
     "output_type": "stream",
     "text": [
      "digraph \"\" {\n",
      "\tgraph [bb=\"0,0,978,468\",\n",
      "\t\trankdir=TD\n",
      "\t];\n",
      "\tnode [label=\"\\N\"];\n",
      "\t\"devadeva(Mayamalavagowla)\"\t[height=0.5,\n",
      "\t\tpos=\"726,234\",\n",
      "\t\twidth=4.0982];\n",
      "\t\"padumanabha(Malahari)\"\t[height=0.5,\n",
      "\t\tpos=\"474,90\",\n",
      "\t\twidth=3.4483];\n",
      "\t\"devadeva(Mayamalavagowla)\" -> \"padumanabha(Malahari)\"\t[pos=\"e,592.05,95.706 750.54,216.12 774.52,197.59 804.73,167.38 785,144 761.29,115.91 676.95,102.71 602.07,96.5\",\n",
      "\t\tweight=1.0];\n",
      "\t\"pancha_matanga(Malahari)\"\t[height=0.5,\n",
      "\t\tpos=\"639,162\",\n",
      "\t\twidth=3.8094];\n",
      "\t\"devadeva(Mayamalavagowla)\" -> \"pancha_matanga(Malahari)\"\t[pos=\"e,660.17,180.03 704.94,216.05 693.91,207.18 680.22,196.17 668.19,186.48\",\n",
      "\t\tweight=1.0];\n",
      "\t\"sree_gananatha(Malahari)\"\t[height=0.5,\n",
      "\t\tpos=\"639,18\",\n",
      "\t\twidth=3.665];\n",
      "\t\"devadeva(Mayamalavagowla)\" -> \"sree_gananatha(Malahari)\"\t[pos=\"e,676.64,35.328 763.58,216.49 778.35,207.9 793.74,195.83 802,180 809.4,165.81 809.08,158.35 802,144 777.97,95.295 724.85,60.301 \\\n",
      "685.75,39.942\",\n",
      "\t\tweight=1.0];\n",
      "\t\"padumanabha(Malahari)\" -> \"sree_gananatha(Malahari)\"\t[pos=\"e,600.65,35.268 512.27,72.765 535.82,62.773 566.2,49.884 591.31,39.231\",\n",
      "\t\tweight=1.0];\n",
      "\t\"pancha_matanga(Malahari)\" -> \"padumanabha(Malahari)\"\t[pos=\"e,512.16,107.19 600.31,144.59 576.75,134.59 546.47,121.74 521.46,111.13\",\n",
      "\t\tweight=1.0];\n",
      "\t\"pancha_matanga(Malahari)\" -> \"sree_gananatha(Malahari)\"\t[pos=\"e,639,36.189 639,143.87 639,119.67 639,75.211 639,46.393\",\n",
      "\t\tweight=1.0];\n",
      "\t\"meru_samana(Mayamalavagowla)\"\t[height=0.5,\n",
      "\t\tpos=\"459,378\",\n",
      "\t\twidth=4.6579];\n",
      "\t\"meru_samana(Mayamalavagowla)\" -> \"devadeva(Mayamalavagowla)\"\t[pos=\"e,751.24,251.82 613.09,370.9 686.76,364.41 763.91,351.12 787,324 804.92,302.95 781.9,276.59 759.19,258.04\",\n",
      "\t\tweight=1.0];\n",
      "\t\"meru_samana(Mayamalavagowla)\" -> \"padumanabha(Malahari)\"\t[pos=\"e,473.09,108.31 459.89,359.97 462.39,312.29 469.48,177.18 472.55,118.63\",\n",
      "\t\tweight=1.0];\n",
      "\t\"meru_samana(Mayamalavagowla)\" -> \"pancha_matanga(Malahari)\"\t[pos=\"e,610.03,179.81 463.49,359.72 468.8,341.11 478.74,311.08 493,288 515.82,251.07 525.99,244.2 559,216 571.99,204.9 587.41,194.19 601.23,\\\n",
      "185.34\",\n",
      "\t\tweight=1.0];\n",
      "\t\"meru_samana(Mayamalavagowla)\" -> \"sree_gananatha(Malahari)\"\t[pos=\"e,509.69,21.812 345.83,364.69 209.92,346.69 0,307.21 0,235 0,235 0,235 0,161 0,59.453 311.41,30.483 499.44,22.246\",\n",
      "\t\tweight=1.0];\n",
      "\t\"ksheerasagara(Mayamalavagowla)\"\t[height=0.5,\n",
      "\t\tpos=\"237,234\",\n",
      "\t\twidth=4.7482];\n",
      "\t\"meru_samana(Mayamalavagowla)\" -> \"ksheerasagara(Mayamalavagowla)\"\t[pos=\"e,263.3,251.82 432.66,360.15 392.61,334.53 316.34,285.75 271.77,257.24\",\n",
      "\t\tweight=1.0];\n",
      "\t\"vidulaku(Mayamalavgowla)\"\t[height=0.5,\n",
      "\t\tpos=\"640,306\",\n",
      "\t\twidth=3.8274];\n",
      "\t\"meru_samana(Mayamalavagowla)\" -> \"vidulaku(Mayamalavgowla)\"\t[pos=\"e,598.04,323.23 501.89,360.41 527.89,350.36 561.21,337.47 588.61,326.87\",\n",
      "\t\tweight=1.0];\n",
      "\t\"ksheerasagara(Mayamalavagowla)\" -> \"padumanabha(Malahari)\"\t[pos=\"e,446.29,107.61 265.12,216.15 308.08,190.41 390.08,141.28 437.56,112.84\",\n",
      "\t\tweight=1.0];\n",
      "\t\"ksheerasagara(Mayamalavagowla)\" -> \"pancha_matanga(Malahari)\"\t[pos=\"e,559.96,176.76 321.27,218.33 388.31,206.65 481.86,190.36 550.09,178.48\",\n",
      "\t\tweight=1.0];\n",
      "\t\"ksheerasagara(Mayamalavagowla)\" -> \"sree_gananatha(Malahari)\"\t[pos=\"e,533.22,28.839 242.79,215.79 255.07,182.15 287.1,107.83 341,72 370.67,52.28 452.5,38.582 522.92,30.059\",\n",
      "\t\tweight=1.0];\n",
      "\t\"vidulaku(Mayamalavgowla)\" -> \"devadeva(Mayamalavagowla)\"\t[pos=\"e,705.08,252.03 660.82,288.05 671.72,279.18 685.25,268.17 697.15,258.48\",\n",
      "\t\tweight=1.0];\n",
      "\t\"vidulaku(Mayamalavgowla)\" -> \"padumanabha(Malahari)\"\t[pos=\"e,475,108.3 608.66,288.39 573.71,267.99 518.72,229.87 493,180 483.07,160.75 478.33,136.59 476.06,118.31\",\n",
      "\t\tweight=1.0];\n",
      "\t\"vidulaku(Mayamalavgowla)\" -> \"pancha_matanga(Malahari)\"\t[pos=\"e,605.42,179.47 605.58,288.41 591.54,279.69 576.79,267.54 569,252 561.83,237.7 561.88,230.33 569,216 575.16,203.6 585.77,193.33 \\\n",
      "596.89,185.23\",\n",
      "\t\tweight=1.0];\n",
      "\t\"vidulaku(Mayamalavgowla)\" -> \"sree_gananatha(Malahari)\"\t[pos=\"e,695.36,34.304 747.84,294.73 804.44,286.88 865.6,273.61 883,252 939.32,182.07 897.23,167.13 771,72 751.41,57.24 727.16,45.956 704.8,\\\n",
      "37.672\",\n",
      "\t\tweight=1.0];\n",
      "\t\"vidulaku(Mayamalavgowla)\" -> \"ksheerasagara(Mayamalavagowla)\"\t[pos=\"e,321.52,249.68 560.86,291.25 495.1,279.83 401.35,263.55 331.63,251.44\",\n",
      "\t\tweight=1.0];\n",
      "\t\"mayayeetha_swaroopini(Mayamalavagowla)\"\t[height=0.5,\n",
      "\t\tpos=\"655,450\",\n",
      "\t\twidth=5.9578];\n",
      "\t\"mayayeetha_swaroopini(Mayamalavagowla)\" -> \"devadeva(Mayamalavagowla)\"\t[pos=\"e,764.95,251.52 688.84,432.17 725.03,412.05 780.38,374.64 804,324 810.76,309.5 811.49,302.14 804,288 797.22,275.19 785.8,264.91 \\\n",
      "773.77,256.93\",\n",
      "\t\tweight=1.0];\n",
      "\t\"mayayeetha_swaroopini(Mayamalavagowla)\" -> \"padumanabha(Malahari)\"\t[pos=\"e,381.8,102.13 465.27,441.55 283.94,429.09 38,395.83 38,307 38,307 38,307 38,233 38,163.12 243.03,122.31 371.89,103.55\",\n",
      "\t\tweight=1.0];\n",
      "\t\"mayayeetha_swaroopini(Mayamalavagowla)\" -> \"pancha_matanga(Malahari)\"\t[pos=\"e,746.95,173.16 707.54,432.51 729.79,423.89 755.12,411.8 775,396 848.03,337.95 941.55,288.63 883,216 866.51,195.55 810.94,182.58 \\\n",
      "756.99,174.6\",\n",
      "\t\tweight=1.0];\n",
      "\t\"mayayeetha_swaroopini(Mayamalavagowla)\" -> \"sree_gananatha(Malahari)\"\t[pos=\"e,766.68,22.803 811.77,437.72 894.06,422.28 978,386.94 978,307 978,307 978,307 978,161 978,69.113 870.73,35.67 776.88,23.994\",\n",
      "\t\tweight=1.0];\n",
      "\t\"mayayeetha_swaroopini(Mayamalavagowla)\" -> \"meru_samana(Mayamalavagowla)\"\t[pos=\"e,504.78,395.35 608.55,432.41 580.38,422.35 544.26,409.45 514.58,398.85\",\n",
      "\t\tweight=1.0];\n",
      "\t\"mayayeetha_swaroopini(Mayamalavagowla)\" -> \"ksheerasagara(Mayamalavagowla)\"\t[pos=\"e,236.19,252.23 467.69,441.2 389.62,434.2 310.5,420.98 282,396 243.63,362.37 236.74,298.99 236.19,262.59\",\n",
      "\t\tweight=1.0];\n",
      "\t\"mayayeetha_swaroopini(Mayamalavagowla)\" -> \"vidulaku(Mayamalavgowla)\"\t[pos=\"e,641.82,324.19 653.19,431.87 650.63,407.67 645.94,363.21 642.89,334.39\",\n",
      "\t\tweight=1.0];\n",
      "}\n",
      "\n"
     ]
    }
   ],
   "source": [
    "labels = [\"devadeva(Mayamalavagowla)\", \"meru_samana(Mayamalavagowla)\", \"ksheerasagara(Mayamalavagowla)\", \"mayayeetha_swaroopini(Mayamalavagowla)\", \"padumanabha(Malahari)\", \"pancha_matanga(Malahari)\", \"vidulaku(Mayamalavgowla)\", \"sree_gananatha(Malahari)\"]\n",
    "\n",
    "draw.draw_causal_inference(dists[2], labels)"
   ],
   "metadata": {
    "collapsed": false,
    "pycharm": {
     "name": "#%%\n"
    }
   }
  },
  {
   "cell_type": "code",
   "execution_count": null,
   "outputs": [],
   "source": [],
   "metadata": {
    "collapsed": false,
    "pycharm": {
     "name": "#%%\n"
    }
   }
  }
 ],
 "metadata": {
  "kernelspec": {
   "display_name": "Python 3",
   "language": "python",
   "name": "python3"
  },
  "language_info": {
   "codemirror_mode": {
    "name": "ipython",
    "version": 2
   },
   "file_extension": ".py",
   "mimetype": "text/x-python",
   "name": "python",
   "nbconvert_exporter": "python",
   "pygments_lexer": "ipython2",
   "version": "2.7.6"
  }
 },
 "nbformat": 4,
 "nbformat_minor": 0
}